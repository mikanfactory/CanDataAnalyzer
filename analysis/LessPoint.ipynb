{
 "cells": [
  {
   "cell_type": "code",
   "execution_count": 1,
   "metadata": {
    "collapsed": true
   },
   "outputs": [],
   "source": [
    "%matplotlib inline"
   ]
  },
  {
   "cell_type": "code",
   "execution_count": 2,
   "metadata": {
    "collapsed": true
   },
   "outputs": [],
   "source": [
    "import numpy as np\n",
    "import pandas as pd\n",
    "import matplotlib.pyplot as plt\n",
    "from sklearn.mixture import BayesianGaussianMixture\n",
    "from skbayes.mixture_models import VBBMM"
   ]
  },
  {
   "cell_type": "code",
   "execution_count": 3,
   "metadata": {
    "collapsed": true
   },
   "outputs": [],
   "source": [
    "import seaborn as sns\n",
    "sns.set(color_codes=True)"
   ]
  },
  {
   "cell_type": "markdown",
   "metadata": {},
   "source": [
    "# Preprocess"
   ]
  },
  {
   "cell_type": "code",
   "execution_count": 43,
   "metadata": {
    "collapsed": true
   },
   "outputs": [],
   "source": [
    "targetDir = \"../data/output/result/\"\n",
    "speedDir = \"../data/output/speed/\"\n",
    "brakeDir = \"../data/output/brake/\"\n",
    "accelDIr = \"../data/output/accel/\"\n",
    "steeringPositiveDir = \"../data/output/steeringPositive/\"\n",
    "steeringNegativeDir = \"../data/output/steeringNegative/\""
   ]
  },
  {
   "cell_type": "code",
   "execution_count": 5,
   "metadata": {
    "collapsed": true
   },
   "outputs": [],
   "source": [
    "df1 = pd.read_csv(speedDir + \"result.csv\")\n",
    "df2 = pd.read_csv(brakeDir + \"result.csv\")\n",
    "df2.columns = [[\"id\", \"brake\"]]\n",
    "df3 = pd.read_csv(accelDIr + \"result.csv\")\n",
    "df3.columns = [[\"id\", \"accel\"]]\n",
    "df4 = pd.read_csv(steeringPositiveDir + \"result.csv\")\n",
    "df4.columns = [[\"id\", \"steeringPositive\"]]\n",
    "df5 = pd.read_csv(steeringNegativeDir + \"result.csv\")\n",
    "df5.columns = [[\"id\", \"steeringNegative\"]]"
   ]
  },
  {
   "cell_type": "code",
   "execution_count": 6,
   "metadata": {
    "collapsed": true
   },
   "outputs": [],
   "source": [
    "df = pd.merge(pd.merge(pd.merge(pd.merge(df1, df2, on=\"id\"), df3, on=\"id\"), df4, on=\"id\"), df5, on=\"id\")"
   ]
  },
  {
   "cell_type": "code",
   "execution_count": 7,
   "metadata": {
    "collapsed": true
   },
   "outputs": [],
   "source": [
    "rmf = df[df['red'] + df['yellow'] + df['green'] + df['stop'] > 0]\n",
    "rmf = rmf[[\"red\", \"yellow\", \"green\", \"stop\", \"brake\", \"accel\", \"steeringPositive\",  \"steeringNegative\"]]"
   ]
  },
  {
   "cell_type": "code",
   "execution_count": 21,
   "metadata": {
    "collapsed": true
   },
   "outputs": [],
   "source": [
    "rmf[\"sum\"] = rmf[\"red\"] + rmf[\"yellow\"] + rmf[\"green\"] + rmf[\"brake\"] + rmf[\"accel\"] + rmf[\"steeringPositive\"] + rmf[\"steeringNegative\"]"
   ]
  },
  {
   "cell_type": "code",
   "execution_count": 22,
   "metadata": {
    "collapsed": false
   },
   "outputs": [
    {
     "data": {
      "text/plain": [
       "<matplotlib.axes._subplots.AxesSubplot at 0x112a23ed0>"
      ]
     },
     "execution_count": 22,
     "metadata": {},
     "output_type": "execute_result"
    },
    {
     "data": {
      "image/png": "[encoded data removed]",
      "text/plain": [
       "<matplotlib.figure.Figure at 0x1130a1350>"
      ]
     },
     "metadata": {},
     "output_type": "display_data"
    }
   ],
   "source": [
    "sns.distplot(rmf[\"sum\"], kde=False, rug=True)"
   ]
  },
  {
   "cell_type": "code",
   "execution_count": 54,
   "metadata": {
    "collapsed": true
   },
   "outputs": [],
   "source": [
    "af = rmf[rmf[\"sum\"] > 200]"
   ]
  },
  {
   "cell_type": "code",
   "execution_count": 55,
   "metadata": {
    "collapsed": false,
    "scrolled": false
   },
   "outputs": [
    {
     "data": {
      "text/plain": [
       "125"
      ]
     },
     "execution_count": 55,
     "metadata": {},
     "output_type": "execute_result"
    }
   ],
   "source": [
    "len(af)"
   ]
  },
  {
   "cell_type": "code",
   "execution_count": 56,
   "metadata": {
    "collapsed": true
   },
   "outputs": [],
   "source": [
    "af =  af[[\"red\", \"yellow\", \"green\", \"brake\", \"accel\", \"steeringPositive\", \"steeringNegative\"]]"
   ]
  },
  {
   "cell_type": "code",
   "execution_count": 57,
   "metadata": {
    "collapsed": false,
    "scrolled": false
   },
   "outputs": [
    {
     "data": {
      "text/html": [
       "<div>\n",
       "<table border=\"1\" class=\"dataframe\">\n",
       "  <thead>\n",
       "    <tr style=\"text-align: right;\">\n",
       "      <th></th>\n",
       "      <th>red</th>\n",
       "      <th>yellow</th>\n",
       "      <th>green</th>\n",
       "      <th>brake</th>\n",
       "      <th>accel</th>\n",
       "      <th>steeringPositive</th>\n",
       "      <th>steeringNegative</th>\n",
       "    </tr>\n",
       "  </thead>\n",
       "  <tbody>\n",
       "    <tr>\n",
       "      <th>count</th>\n",
       "      <td>125.00000</td>\n",
       "      <td>125.000000</td>\n",
       "      <td>125.000000</td>\n",
       "      <td>125.00000</td>\n",
       "      <td>125.000000</td>\n",
       "      <td>125.000000</td>\n",
       "      <td>125.000000</td>\n",
       "    </tr>\n",
       "    <tr>\n",
       "      <th>mean</th>\n",
       "      <td>32.38400</td>\n",
       "      <td>203.960000</td>\n",
       "      <td>107.208000</td>\n",
       "      <td>60.60800</td>\n",
       "      <td>89.024000</td>\n",
       "      <td>70.008000</td>\n",
       "      <td>105.408000</td>\n",
       "    </tr>\n",
       "    <tr>\n",
       "      <th>std</th>\n",
       "      <td>50.15553</td>\n",
       "      <td>95.611394</td>\n",
       "      <td>142.120763</td>\n",
       "      <td>64.13065</td>\n",
       "      <td>77.410663</td>\n",
       "      <td>120.563228</td>\n",
       "      <td>241.090168</td>\n",
       "    </tr>\n",
       "    <tr>\n",
       "      <th>min</th>\n",
       "      <td>0.00000</td>\n",
       "      <td>2.000000</td>\n",
       "      <td>0.000000</td>\n",
       "      <td>0.00000</td>\n",
       "      <td>3.000000</td>\n",
       "      <td>1.000000</td>\n",
       "      <td>0.000000</td>\n",
       "    </tr>\n",
       "    <tr>\n",
       "      <th>25%</th>\n",
       "      <td>0.00000</td>\n",
       "      <td>137.000000</td>\n",
       "      <td>0.000000</td>\n",
       "      <td>11.00000</td>\n",
       "      <td>24.000000</td>\n",
       "      <td>2.000000</td>\n",
       "      <td>0.000000</td>\n",
       "    </tr>\n",
       "    <tr>\n",
       "      <th>50%</th>\n",
       "      <td>4.00000</td>\n",
       "      <td>194.000000</td>\n",
       "      <td>40.000000</td>\n",
       "      <td>39.00000</td>\n",
       "      <td>73.000000</td>\n",
       "      <td>11.000000</td>\n",
       "      <td>7.000000</td>\n",
       "    </tr>\n",
       "    <tr>\n",
       "      <th>75%</th>\n",
       "      <td>51.00000</td>\n",
       "      <td>258.000000</td>\n",
       "      <td>168.000000</td>\n",
       "      <td>92.00000</td>\n",
       "      <td>122.000000</td>\n",
       "      <td>60.000000</td>\n",
       "      <td>84.000000</td>\n",
       "    </tr>\n",
       "    <tr>\n",
       "      <th>max</th>\n",
       "      <td>188.00000</td>\n",
       "      <td>543.000000</td>\n",
       "      <td>709.000000</td>\n",
       "      <td>321.00000</td>\n",
       "      <td>389.000000</td>\n",
       "      <td>527.000000</td>\n",
       "      <td>1460.000000</td>\n",
       "    </tr>\n",
       "  </tbody>\n",
       "</table>\n",
       "</div>"
      ],
      "text/plain": [
       "             red      yellow       green      brake       accel  \\\n",
       "count  125.00000  125.000000  125.000000  125.00000  125.000000   \n",
       "mean    32.38400  203.960000  107.208000   60.60800   89.024000   \n",
       "std     50.15553   95.611394  142.120763   64.13065   77.410663   \n",
       "min      0.00000    2.000000    0.000000    0.00000    3.000000   \n",
       "25%      0.00000  137.000000    0.000000   11.00000   24.000000   \n",
       "50%      4.00000  194.000000   40.000000   39.00000   73.000000   \n",
       "75%     51.00000  258.000000  168.000000   92.00000  122.000000   \n",
       "max    188.00000  543.000000  709.000000  321.00000  389.000000   \n",
       "\n",
       "       steeringPositive  steeringNegative  \n",
       "count        125.000000        125.000000  \n",
       "mean          70.008000        105.408000  \n",
       "std          120.563228        241.090168  \n",
       "min            1.000000          0.000000  \n",
       "25%            2.000000          0.000000  \n",
       "50%           11.000000          7.000000  \n",
       "75%           60.000000         84.000000  \n",
       "max          527.000000       1460.000000  "
      ]
     },
     "execution_count": 57,
     "metadata": {},
     "output_type": "execute_result"
    }
   ],
   "source": [
    "af.describe()"
   ]
  },
  {
   "cell_type": "code",
   "execution_count": 91,
   "metadata": {
    "collapsed": true
   },
   "outputs": [],
   "source": [
    "nf = af.apply(lambda x: (x - np.min(x)) / (np.max(x) - np.min(x)))"
   ]
  },
  {
   "cell_type": "code",
   "execution_count": 92,
   "metadata": {
    "collapsed": false
   },
   "outputs": [
    {
     "data": {
      "text/plain": [
       "Int64Index([ 103,  104,  142,  144,  181,  182,  184,  221,  260,  261,\n",
       "            ...\n",
       "            1331, 1337, 1338, 1367, 1407, 1408, 1447, 1448, 1488, 1528],\n",
       "           dtype='int64', length=125)"
      ]
     },
     "execution_count": 92,
     "metadata": {},
     "output_type": "execute_result"
    }
   ],
   "source": [
    "nf.index"
   ]
  },
  {
   "cell_type": "code",
   "execution_count": 58,
   "metadata": {
    "collapsed": false,
    "scrolled": true
   },
   "outputs": [
    {
     "data": {
      "text/plain": [
       "<matplotlib.axes._subplots.AxesSubplot at 0x113d60790>"
      ]
     },
     "execution_count": 58,
     "metadata": {},
     "output_type": "execute_result"
    },
    {
     "data": {
      "image/png": "[encoded data removed]",
      "text/plain": [
       "<matplotlib.figure.Figure at 0x11284ce10>"
      ]
     },
     "metadata": {},
     "output_type": "display_data"
    }
   ],
   "source": [
    "sns.distplot(af[\"brake\"], kde=False, rug=True)"
   ]
  },
  {
   "cell_type": "code",
   "execution_count": 59,
   "metadata": {
    "collapsed": false
   },
   "outputs": [
    {
     "data": {
      "text/plain": [
       "{0, 1, 2, 3, 4, 5, 6}"
      ]
     },
     "execution_count": 59,
     "metadata": {},
     "output_type": "execute_result"
    }
   ],
   "source": [
    "vb = BayesianGaussianMixture(n_components=7, weight_concentration_prior=0.00001).fit(af)\n",
    "set(vb.predict(af))"
   ]
  },
  {
   "cell_type": "code",
   "execution_count": 60,
   "metadata": {
    "collapsed": false
   },
   "outputs": [],
   "source": [
    "pred = zip(rmf.index, vb.predict(af))\n",
    "gridSize = len(df)\n",
    "result = np.zeros(gridSize)\n",
    "\n",
    "for index, klass in pred:\n",
    "    result[index] = klass + 1\n",
    "    \n",
    "np.savetxt(targetDir + \"clusters5.csv\", result, delimiter=\",\", fmt=\"%d\")"
   ]
  },
  {
   "cell_type": "code",
   "execution_count": 82,
   "metadata": {
    "collapsed": false
   },
   "outputs": [
    {
     "data": {
      "text/plain": [
       "u'0.19.0'"
      ]
     },
     "execution_count": 82,
     "metadata": {},
     "output_type": "execute_result"
    }
   ],
   "source": [
    "pd.__version__"
   ]
  },
  {
   "cell_type": "code",
   "execution_count": null,
   "metadata": {
    "collapsed": true
   },
   "outputs": [],
   "source": []
  }
 ],
 "metadata": {
  "kernelspec": {
   "display_name": "Python 2",
   "language": "python",
   "name": "python2"
  },
  "language_info": {
   "codemirror_mode": {
    "name": "ipython",
    "version": 2
   },
   "file_extension": ".py",
   "mimetype": "text/x-python",
   "name": "python",
   "nbconvert_exporter": "python",
   "pygments_lexer": "ipython2",
   "version": "2.7.10"
  }
 },
 "nbformat": 4,
 "nbformat_minor": 1
}
