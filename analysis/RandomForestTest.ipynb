{
 "cells": [
  {
   "cell_type": "markdown",
   "metadata": {
    "deletable": true,
    "editable": true
   },
   "source": [
    "# Apply Random Forest"
   ]
  },
  {
   "cell_type": "code",
   "execution_count": 1,
   "metadata": {
    "collapsed": false,
    "deletable": true,
    "editable": true
   },
   "outputs": [
    {
     "name": "stderr",
     "output_type": "stream",
     "text": [
      "\n",
      "Attaching package: ‘dplyr’\n",
      "\n",
      "The following objects are masked from ‘package:stats’:\n",
      "\n",
      "    filter, lag\n",
      "\n",
      "The following objects are masked from ‘package:base’:\n",
      "\n",
      "    intersect, setdiff, setequal, union\n",
      "\n",
      "randomForest 4.6-12\n",
      "Type rfNews() to see new features/changes/bug fixes.\n",
      "\n",
      "Attaching package: ‘randomForest’\n",
      "\n",
      "The following object is masked from ‘package:dplyr’:\n",
      "\n",
      "    combine\n",
      "\n",
      "The following object is masked from ‘package:ggplot2’:\n",
      "\n",
      "    margin\n",
      "\n"
     ]
    }
   ],
   "source": [
    "library(grid)\n",
    "library(rpart)\n",
    "library(rpart.plot)\n",
    "library(partykit)\n",
    "library(lattice)\n",
    "library(ggplot2)\n",
    "library(caret)\n",
    "library(e1071)\n",
    "library(dplyr)\n",
    "library(randomForest)"
   ]
  },
  {
   "cell_type": "code",
   "execution_count": 2,
   "metadata": {
    "collapsed": true,
    "deletable": true,
    "editable": true
   },
   "outputs": [],
   "source": [
    "set.seed(1)"
   ]
  },
  {
   "cell_type": "code",
   "execution_count": 3,
   "metadata": {
    "collapsed": true,
    "deletable": true,
    "editable": true
   },
   "outputs": [],
   "source": [
    "valuables <- c(\"RoadType\",\"CurveAverage\",\"Speed\", \"Curve100\", \"Curve150\", \"MaxSpeed\",\"RiskFactor\",\"Curve\",\"DistSignal\",\"Pitch\",\"AheadDistance\",\"AverageVelocity\",\"TimeToCollision\",\"AccelerationSpeed\", \"Engine\", \"SteeringAngle\", \"TimeHeadway\", \"Jerk\", \"LaneCount\", \"DiffAvgSpeed\", \"EmptinessOfRoad\", \"RoadFactor\")"
   ]
  },
  {
   "cell_type": "code",
   "execution_count": 4,
   "metadata": {
    "collapsed": true,
    "deletable": true,
    "editable": true
   },
   "outputs": [],
   "source": [
    "printf <- function(...) cat(sprintf(...))"
   ]
  },
  {
   "cell_type": "code",
   "execution_count": 5,
   "metadata": {
    "collapsed": true
   },
   "outputs": [],
   "source": [
    "showMatrix <- function(test, predictedFlags) {\n",
    "    predictedRed <- test[predictedFlags == \"Red\", ]\n",
    "    predictedBlue <- test[predictedFlags == \"Blue\", ]\n",
    "    printf(\"Predict Red\\n\")\n",
    "    print(predictedRed %>% group_by(flag, AccelOrBrake) %>% summarize(count=n()))\n",
    "    printf(\"Predict Blue\\n\")\n",
    "    print(predictedBlue %>% group_by(flag, AccelOrBrake) %>% summarize(count=n()))\n",
    "}"
   ]
  },
  {
   "cell_type": "markdown",
   "metadata": {
    "collapsed": true,
    "deletable": true,
    "editable": true
   },
   "source": [
    "# Predict Red"
   ]
  },
  {
   "cell_type": "code",
   "execution_count": 6,
   "metadata": {
    "collapsed": true
   },
   "outputs": [],
   "source": [
    "train <-  read.csv(\"../data/middle/sp5.csv\", stringsAsFactors=FALSE)"
   ]
  },
  {
   "cell_type": "code",
   "execution_count": 7,
   "metadata": {
    "collapsed": false,
    "deletable": true,
    "editable": true
   },
   "outputs": [],
   "source": [
    "test <- read.csv(\"../data/middle/sp6.csv\", stringsAsFactors=FALSE)"
   ]
  },
  {
   "cell_type": "code",
   "execution_count": 8,
   "metadata": {
    "collapsed": false
   },
   "outputs": [
    {
     "data": {
      "text/html": [
       "<table>\n",
       "<thead><tr><th scope=col>flag</th><th scope=col>count</th></tr></thead>\n",
       "<tbody>\n",
       "\t<tr><td>BlueA</td><td> 77  </td></tr>\n",
       "\t<tr><td>BlueB</td><td>372  </td></tr>\n",
       "\t<tr><td>RedA </td><td>401  </td></tr>\n",
       "\t<tr><td>RedB </td><td>192  </td></tr>\n",
       "</tbody>\n",
       "</table>\n"
      ],
      "text/latex": [
       "\\begin{tabular}{r|ll}\n",
       " flag & count\\\\\n",
       "\\hline\n",
       "\t BlueA &  77  \\\\\n",
       "\t BlueB & 372  \\\\\n",
       "\t RedA  & 401  \\\\\n",
       "\t RedB  & 192  \\\\\n",
       "\\end{tabular}\n"
      ],
      "text/markdown": [
       "\n",
       "flag | count | \n",
       "|---|---|---|---|\n",
       "| BlueA |  77   | \n",
       "| BlueB | 372   | \n",
       "| RedA  | 401   | \n",
       "| RedB  | 192   | \n",
       "\n",
       "\n"
      ],
      "text/plain": [
       "  flag  count\n",
       "1 BlueA  77  \n",
       "2 BlueB 372  \n",
       "3 RedA  401  \n",
       "4 RedB  192  "
      ]
     },
     "metadata": {},
     "output_type": "display_data"
    }
   ],
   "source": [
    "train %>% group_by(flag) %>% summarize(count=n())"
   ]
  },
  {
   "cell_type": "code",
   "execution_count": 9,
   "metadata": {
    "collapsed": false
   },
   "outputs": [
    {
     "data": {
      "text/html": [
       "<table>\n",
       "<thead><tr><th scope=col>flag</th><th scope=col>count</th></tr></thead>\n",
       "<tbody>\n",
       "\t<tr><td>BlueA</td><td> 57  </td></tr>\n",
       "\t<tr><td>BlueB</td><td>148  </td></tr>\n",
       "\t<tr><td>RedA </td><td>181  </td></tr>\n",
       "\t<tr><td>RedB </td><td> 90  </td></tr>\n",
       "</tbody>\n",
       "</table>\n"
      ],
      "text/latex": [
       "\\begin{tabular}{r|ll}\n",
       " flag & count\\\\\n",
       "\\hline\n",
       "\t BlueA &  57  \\\\\n",
       "\t BlueB & 148  \\\\\n",
       "\t RedA  & 181  \\\\\n",
       "\t RedB  &  90  \\\\\n",
       "\\end{tabular}\n"
      ],
      "text/markdown": [
       "\n",
       "flag | count | \n",
       "|---|---|---|---|\n",
       "| BlueA |  57   | \n",
       "| BlueB | 148   | \n",
       "| RedA  | 181   | \n",
       "| RedB  |  90   | \n",
       "\n",
       "\n"
      ],
      "text/plain": [
       "  flag  count\n",
       "1 BlueA  57  \n",
       "2 BlueB 148  \n",
       "3 RedA  181  \n",
       "4 RedB   90  "
      ]
     },
     "metadata": {},
     "output_type": "display_data"
    }
   ],
   "source": [
    "test %>% group_by(flag) %>% summarize(count=n())"
   ]
  },
  {
   "cell_type": "code",
   "execution_count": 10,
   "metadata": {
    "collapsed": true
   },
   "outputs": [],
   "source": [
    "test$AccelOrBrake[test$flag == \"RedA\"] <- \"Accel\"\n",
    "test$AccelOrBrake[test$flag == \"RedB\"] <- \"Brake\"\n",
    "test$AccelOrBrake[test$flag == \"BlueA\"] <- \"Accel\"\n",
    "test$AccelOrBrake[test$flag == \"BlueB\"] <- \"Brake\""
   ]
  },
  {
   "cell_type": "code",
   "execution_count": 11,
   "metadata": {
    "collapsed": true,
    "deletable": true,
    "editable": true
   },
   "outputs": [],
   "source": [
    "train$flag[train$flag == \"RedA\"] <- \"Red\"\n",
    "train$flag[train$flag == \"RedB\"] <- \"Red\"\n",
    "train$flag[train$flag == \"BlueA\"] <- \"Blue\"\n",
    "train$flag[train$flag == \"BlueB\"] <- \"Blue\"\n",
    "train$flag <- as.factor(train$flag)"
   ]
  },
  {
   "cell_type": "code",
   "execution_count": 12,
   "metadata": {
    "collapsed": true
   },
   "outputs": [],
   "source": [
    "test$flag[test$flag == \"RedA\"] <- \"Red\"\n",
    "test$flag[test$flag == \"RedB\"] <- \"Red\"\n",
    "test$flag[test$flag == \"BlueA\"] <- \"Blue\"\n",
    "test$flag[test$flag == \"BlueB\"] <- \"Blue\"\n",
    "test$flag <- as.factor(test$flag)"
   ]
  },
  {
   "cell_type": "code",
   "execution_count": 13,
   "metadata": {
    "collapsed": false,
    "deletable": true,
    "editable": true
   },
   "outputs": [],
   "source": [
    "train <- train[, c(valuables, \"flag\")]\n",
    "test <- test[, c(valuables, \"AccelOrBrake\", \"flag\")]"
   ]
  },
  {
   "cell_type": "code",
   "execution_count": 14,
   "metadata": {
    "collapsed": true,
    "deletable": true,
    "editable": true
   },
   "outputs": [],
   "source": [
    "set.seed(1)"
   ]
  },
  {
   "cell_type": "code",
   "execution_count": 15,
   "metadata": {
    "collapsed": false,
    "deletable": true,
    "editable": true
   },
   "outputs": [
    {
     "name": "stdout",
     "output_type": "stream",
     "text": [
      "Predict Red\n",
      "Source: local data frame [4 x 3]\n",
      "Groups: flag [?]\n",
      "\n",
      "    flag AccelOrBrake count\n",
      "  <fctr>        <chr> <int>\n",
      "1   Blue        Accel    30\n",
      "2   Blue        Brake    52\n",
      "3    Red        Accel    99\n",
      "4    Red        Brake    50\n",
      "Predict Blue\n",
      "Source: local data frame [4 x 3]\n",
      "Groups: flag [?]\n",
      "\n",
      "    flag AccelOrBrake count\n",
      "  <fctr>        <chr> <int>\n",
      "1   Blue        Accel    27\n",
      "2   Blue        Brake    96\n",
      "3    Red        Accel    82\n",
      "4    Red        Brake    40\n",
      "Err: 0.428571"
     ]
    }
   ],
   "source": [
    "fit <- randomForest(flag ~ ., data=train, mtry=3, ntree=500)\n",
    "p <- predict(fit, newdata=test)\n",
    "\n",
    "showMatrix(test, p)\n",
    "\n",
    "nerr <- sum(p != test$flag)\n",
    "printf(\"Err: %f\", nerr / nrow(test))"
   ]
  },
  {
   "cell_type": "code",
   "execution_count": 16,
   "metadata": {
    "collapsed": false,
    "scrolled": true
   },
   "outputs": [
    {
     "name": "stdout",
     "output_type": "stream",
     "text": [
      "RoadType: 0\n",
      "Predict Red\n",
      "Source: local data frame [4 x 3]\n",
      "Groups: flag [?]\n",
      "\n",
      "    flag AccelOrBrake count\n",
      "  <fctr>        <chr> <int>\n",
      "1   Blue        Accel    51\n",
      "2   Blue        Brake   128\n",
      "3    Red        Accel   158\n",
      "4    Red        Brake    80\n",
      "Predict Blue\n",
      "Source: local data frame [4 x 3]\n",
      "Groups: flag [?]\n",
      "\n",
      "    flag AccelOrBrake count\n",
      "  <fctr>        <chr> <int>\n",
      "1   Blue        Accel     6\n",
      "2   Blue        Brake    20\n",
      "3    Red        Accel    23\n",
      "4    Red        Brake    10\n",
      "Err: 0.395833\n",
      "\n",
      "RoadType: 2\n",
      "Predict Red\n",
      "Source: local data frame [4 x 3]\n",
      "Groups: flag [?]\n",
      "\n",
      "    flag AccelOrBrake count\n",
      "  <fctr>        <chr> <int>\n",
      "1   Blue        Accel    47\n",
      "2   Blue        Brake   125\n",
      "3    Red        Accel   154\n",
      "4    Red        Brake    74\n",
      "Predict Blue\n",
      "Source: local data frame [4 x 3]\n",
      "Groups: flag [?]\n",
      "\n",
      "    flag AccelOrBrake count\n",
      "  <fctr>        <chr> <int>\n",
      "1   Blue        Accel    10\n",
      "2   Blue        Brake    23\n",
      "3    Red        Accel    27\n",
      "4    Red        Brake    16\n",
      "Err: 0.315789\n",
      "\n",
      "RoadType: 3\n",
      "Predict Red\n",
      "Source: local data frame [4 x 3]\n",
      "Groups: flag [?]\n",
      "\n",
      "    flag AccelOrBrake count\n",
      "  <fctr>        <chr> <int>\n",
      "1   Blue        Accel    25\n",
      "2   Blue        Brake    59\n",
      "3    Red        Accel    87\n",
      "4    Red        Brake    36\n",
      "Predict Blue\n",
      "Source: local data frame [4 x 3]\n",
      "Groups: flag [?]\n",
      "\n",
      "    flag AccelOrBrake count\n",
      "  <fctr>        <chr> <int>\n",
      "1   Blue        Accel    32\n",
      "2   Blue        Brake    89\n",
      "3    Red        Accel    94\n",
      "4    Red        Brake    54\n",
      "Err: 0.417910\n",
      "\n",
      "RoadType: 4\n",
      "Predict Red\n",
      "Source: local data frame [4 x 3]\n",
      "Groups: flag [?]\n",
      "\n",
      "    flag AccelOrBrake count\n",
      "  <fctr>        <chr> <int>\n",
      "1   Blue        Accel    12\n",
      "2   Blue        Brake    44\n",
      "3    Red        Accel    47\n",
      "4    Red        Brake    27\n",
      "Predict Blue\n",
      "Source: local data frame [4 x 3]\n",
      "Groups: flag [?]\n",
      "\n",
      "    flag AccelOrBrake count\n",
      "  <fctr>        <chr> <int>\n",
      "1   Blue        Accel    45\n",
      "2   Blue        Brake   104\n",
      "3    Red        Accel   134\n",
      "4    Red        Brake    63\n",
      "Err: 0.515152\n",
      "\n",
      "RoadType: 5\n",
      "Predict Red\n",
      "Source: local data frame [4 x 3]\n",
      "Groups: flag [?]\n",
      "\n",
      "    flag AccelOrBrake count\n",
      "  <fctr>        <chr> <int>\n",
      "1   Blue        Accel    18\n",
      "2   Blue        Brake    51\n",
      "3    Red        Accel    70\n",
      "4    Red        Brake    31\n",
      "Predict Blue\n",
      "Source: local data frame [4 x 3]\n",
      "Groups: flag [?]\n",
      "\n",
      "    flag AccelOrBrake count\n",
      "  <fctr>        <chr> <int>\n",
      "1   Blue        Accel    39\n",
      "2   Blue        Brake    97\n",
      "3    Red        Accel   111\n",
      "4    Red        Brake    59\n",
      "Err: 0.394558\n",
      "\n",
      "RoadType: 6\n",
      "Predict Red\n",
      "Source: local data frame [4 x 3]\n",
      "Groups: flag [?]\n",
      "\n",
      "    flag AccelOrBrake count\n",
      "  <fctr>        <chr> <int>\n",
      "1   Blue        Accel    27\n",
      "2   Blue        Brake    64\n",
      "3    Red        Accel    80\n",
      "4    Red        Brake    41\n",
      "Predict Blue\n",
      "Source: local data frame [4 x 3]\n",
      "Groups: flag [?]\n",
      "\n",
      "    flag AccelOrBrake count\n",
      "  <fctr>        <chr> <int>\n",
      "1   Blue        Accel    30\n",
      "2   Blue        Brake    84\n",
      "3    Red        Accel   101\n",
      "4    Red        Brake    49\n",
      "Err: 0.423913\n",
      "\n",
      "RoadType: 7\n",
      "Predict Red\n",
      "Source: local data frame [4 x 3]\n",
      "Groups: flag [?]\n",
      "\n",
      "    flag AccelOrBrake count\n",
      "  <fctr>        <chr> <int>\n",
      "1   Blue        Accel    57\n",
      "2   Blue        Brake   148\n",
      "3    Red        Accel   181\n",
      "4    Red        Brake    90\n",
      "Predict Blue\n",
      "Source: local data frame [0 x 3]\n",
      "Groups: flag [?]\n",
      "\n",
      "# ... with 3 variables: flag <fctr>, AccelOrBrake <chr>, count <int>\n",
      "Err: 0.333333\n",
      "\n"
     ]
    }
   ],
   "source": [
    "for (i in c(0, 2, 3, 4, 5, 6, 7))  {\n",
    "    printf(\"RoadType: %d\\n\", i)\n",
    "    X <- train[train$RoadType == i, ]\n",
    "    y <- test[test$RoadType == i, ]\n",
    "    fit <- randomForest(flag ~ ., data=X, mtry=3, ntree=300)\n",
    "    p <- predict(fit, newdata=y)\n",
    "\n",
    "    showMatrix(test, p)\n",
    "\n",
    "    nerr <- sum(p != y$flag)\n",
    "    printf(\"Err: %f\\n\\n\",  nerr / nrow(y))\n",
    "}"
   ]
  },
  {
   "cell_type": "code",
   "execution_count": 17,
   "metadata": {
    "collapsed": false
   },
   "outputs": [
    {
     "data": {
      "text/html": [
       "<table>\n",
       "<thead><tr><th scope=col>flag</th><th scope=col>count</th></tr></thead>\n",
       "<tbody>\n",
       "\t<tr><td>Blue</td><td>1   </td></tr>\n",
       "\t<tr><td>Red </td><td>2   </td></tr>\n",
       "</tbody>\n",
       "</table>\n"
      ],
      "text/latex": [
       "\\begin{tabular}{r|ll}\n",
       " flag & count\\\\\n",
       "\\hline\n",
       "\t Blue & 1   \\\\\n",
       "\t Red  & 2   \\\\\n",
       "\\end{tabular}\n"
      ],
      "text/markdown": [
       "\n",
       "flag | count | \n",
       "|---|---|\n",
       "| Blue | 1    | \n",
       "| Red  | 2    | \n",
       "\n",
       "\n"
      ],
      "text/plain": [
       "  flag count\n",
       "1 Blue 1    \n",
       "2 Red  2    "
      ]
     },
     "metadata": {},
     "output_type": "display_data"
    }
   ],
   "source": [
    "y %>% group_by(flag) %>% summarize(count=n())"
   ]
  },
  {
   "cell_type": "code",
   "execution_count": 22,
   "metadata": {
    "collapsed": false
   },
   "outputs": [
    {
     "name": "stderr",
     "output_type": "stream",
     "text": [
      "Warning message in cbind(parts$left, ellip_h, parts$right, deparse.level = 0L):\n",
      "“number of rows of result is not a multiple of vector length (arg 2)”Warning message in cbind(parts$left, ellip_h, parts$right, deparse.level = 0L):\n",
      "“number of rows of result is not a multiple of vector length (arg 2)”Warning message in cbind(parts$left, ellip_h, parts$right, deparse.level = 0L):\n",
      "“number of rows of result is not a multiple of vector length (arg 2)”Warning message in cbind(parts$left, ellip_h, parts$right, deparse.level = 0L):\n",
      "“number of rows of result is not a multiple of vector length (arg 2)”"
     ]
    },
    {
     "data": {
      "text/html": [
       "<table>\n",
       "<thead><tr><th scope=col>RoadType</th><th scope=col>CurveAverage</th><th scope=col>Speed</th><th scope=col>Curve100</th><th scope=col>Curve150</th><th scope=col>MaxSpeed</th><th scope=col>RiskFactor</th><th scope=col>Curve</th><th scope=col>DistSignal</th><th scope=col>Pitch</th><th scope=col>⋯</th><th scope=col>Engine</th><th scope=col>SteeringAngle</th><th scope=col>TimeHeadway</th><th scope=col>Jerk</th><th scope=col>LaneCount</th><th scope=col>DiffAvgSpeed</th><th scope=col>EmptinessOfRoad</th><th scope=col>RoadFactor</th><th scope=col>AccelOrBrake</th><th scope=col>flag</th></tr></thead>\n",
       "<tbody>\n",
       "</tbody>\n",
       "</table>\n"
      ],
      "text/latex": [
       "\\begin{tabular}{r|llllllllllllllllllllllll}\n",
       " RoadType & CurveAverage & Speed & Curve100 & Curve150 & MaxSpeed & RiskFactor & Curve & DistSignal & Pitch & ⋯ & Engine & SteeringAngle & TimeHeadway & Jerk & LaneCount & DiffAvgSpeed & EmptinessOfRoad & RoadFactor & AccelOrBrake & flag\\\\\n",
       "\\hline\n",
       "\\end{tabular}\n"
      ],
      "text/markdown": [
       "\n",
       "RoadType | CurveAverage | Speed | Curve100 | Curve150 | MaxSpeed | RiskFactor | Curve | DistSignal | Pitch | ⋯ | Engine | SteeringAngle | TimeHeadway | Jerk | LaneCount | DiffAvgSpeed | EmptinessOfRoad | RoadFactor | AccelOrBrake | flag | \n",
       "||\n",
       "\n",
       "\n"
      ],
      "text/plain": [
       "     RoadType CurveAverage Speed Curve100 Curve150 MaxSpeed RiskFactor Curve\n",
       "     DistSignal Pitch ⋯ Engine SteeringAngle TimeHeadway Jerk LaneCount\n",
       "     DiffAvgSpeed EmptinessOfRoad RoadFactor AccelOrBrake flag"
      ]
     },
     "metadata": {},
     "output_type": "display_data"
    }
   ],
   "source": [
    "test[p == \"Blue\", ]"
   ]
  },
  {
   "cell_type": "code",
   "execution_count": null,
   "metadata": {
    "collapsed": true
   },
   "outputs": [],
   "source": []
  }
 ],
 "metadata": {
  "kernelspec": {
   "display_name": "R",
   "language": "R",
   "name": "ir"
  },
  "language_info": {
   "codemirror_mode": "r",
   "file_extension": ".r",
   "mimetype": "text/x-r-source",
   "name": "R",
   "pygments_lexer": "r",
   "version": "3.3.2"
  }
 },
 "nbformat": 4,
 "nbformat_minor": 1
}
