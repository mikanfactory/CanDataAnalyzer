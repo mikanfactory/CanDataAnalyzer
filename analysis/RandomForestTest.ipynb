{
 "cells": [
  {
   "cell_type": "markdown",
   "metadata": {
    "deletable": true,
    "editable": true
   },
   "source": [
    "# Apply Random Forest"
   ]
  },
  {
   "cell_type": "code",
   "execution_count": 1,
   "metadata": {
    "collapsed": false,
    "deletable": true,
    "editable": true
   },
   "outputs": [
    {
     "name": "stderr",
     "output_type": "stream",
     "text": [
      "Loading required package: lattice\n",
      "\n",
      "Attaching package: ‘dplyr’\n",
      "\n",
      "The following objects are masked from ‘package:stats’:\n",
      "\n",
      "    filter, lag\n",
      "\n",
      "The following objects are masked from ‘package:base’:\n",
      "\n",
      "    intersect, setdiff, setequal, union\n",
      "\n",
      "randomForest 4.6-12\n",
      "Type rfNews() to see new features/changes/bug fixes.\n",
      "\n",
      "Attaching package: ‘randomForest’\n",
      "\n",
      "The following object is masked from ‘package:dplyr’:\n",
      "\n",
      "    combine\n",
      "\n",
      "The following object is masked from ‘package:ggplot2’:\n",
      "\n",
      "    margin\n",
      "\n"
     ]
    }
   ],
   "source": [
    "library(ggplot2)\n",
    "library(caret)\n",
    "library(e1071)\n",
    "library(dplyr)\n",
    "library(randomForest)"
   ]
  },
  {
   "cell_type": "code",
   "execution_count": 2,
   "metadata": {
    "collapsed": true,
    "deletable": true,
    "editable": true
   },
   "outputs": [],
   "source": [
    "set.seed(1)"
   ]
  },
  {
   "cell_type": "code",
   "execution_count": 3,
   "metadata": {
    "collapsed": true,
    "deletable": true,
    "editable": true
   },
   "outputs": [],
   "source": [
    "# 利用する特徴量を列挙\n",
    "valuables <- c(\"RoadType\",\"CurveAverage\",\"Speed\", \"Curve100\", \"Curve150\", \"MaxSpeed\",\"RiskFactor\",\"Curve\",\"DistSignal\",\"Pitch\",\"AheadDistance\",\"AverageVelocity\",\"TimeToCollision\",\"AccelerationSpeed\", \"Engine\", \"SteeringAngle\", \"TimeHeadway\", \"Jerk\", \"LaneCount\", \"DiffAvgSpeed\", \"EmptinessOfRoad\", \"RoadFactor\")"
   ]
  },
  {
   "cell_type": "code",
   "execution_count": 4,
   "metadata": {
    "collapsed": true,
    "deletable": true,
    "editable": true
   },
   "outputs": [],
   "source": [
    "printf <- function(...) cat(sprintf(...))"
   ]
  },
  {
   "cell_type": "code",
   "execution_count": 5,
   "metadata": {
    "collapsed": true
   },
   "outputs": [],
   "source": [
    "showMatrix <- function(test, predictedFlags) {\n",
    "    # test のうち、Red, Blue と判断したものを取得\n",
    "    predictedRed <- test[predictedFlags == \"Red\", ]\n",
    "    predictedBlue <- test[predictedFlags == \"Blue\", ]\n",
    "    \n",
    "    # これらのうち、Red or Blue, Accel or Brake でグループ分けし、それらの個数を出力\n",
    "    printf(\"Red\\n\")\n",
    "    print(predictedRed %>% group_by(flag, AccelOrBrake) %>% summarize(count=n()))\n",
    "    printf(\"Blue\\n\")\n",
    "    print(predictedBlue %>% group_by(flag, AccelOrBrake) %>% summarize(count=n()))\n",
    "    printf(\"\\n\")\n",
    "}"
   ]
  },
  {
   "cell_type": "markdown",
   "metadata": {
    "collapsed": true,
    "deletable": true,
    "editable": true
   },
   "source": [
    "# Predict Red"
   ]
  },
  {
   "cell_type": "code",
   "execution_count": 6,
   "metadata": {
    "collapsed": true
   },
   "outputs": [],
   "source": [
    "train <-  read.csv(\"../data/middle/sp5.csv\", stringsAsFactors=FALSE)"
   ]
  },
  {
   "cell_type": "code",
   "execution_count": 7,
   "metadata": {
    "collapsed": false,
    "deletable": true,
    "editable": true
   },
   "outputs": [],
   "source": [
    "test <- read.csv(\"../data/middle/sp6.csv\", stringsAsFactors=FALSE)"
   ]
  },
  {
   "cell_type": "code",
   "execution_count": 8,
   "metadata": {
    "collapsed": true
   },
   "outputs": [],
   "source": [
    "test$AccelOrBrake[test$flag == \"RedA\"] <- \"Accel\"\n",
    "test$AccelOrBrake[test$flag == \"RedB\"] <- \"Brake\"\n",
    "test$AccelOrBrake[test$flag == \"BlueA\"] <- \"Accel\"\n",
    "test$AccelOrBrake[test$flag == \"BlueB\"] <- \"Brake\""
   ]
  },
  {
   "cell_type": "code",
   "execution_count": 9,
   "metadata": {
    "collapsed": true,
    "deletable": true,
    "editable": true
   },
   "outputs": [],
   "source": [
    "train$flag[train$flag == \"RedA\"] <- \"Red\"\n",
    "train$flag[train$flag == \"RedB\"] <- \"Red\"\n",
    "train$flag[train$flag == \"BlueA\"] <- \"Blue\"\n",
    "train$flag[train$flag == \"BlueB\"] <- \"Blue\"\n",
    "train$flag <- as.factor(train$flag)"
   ]
  },
  {
   "cell_type": "code",
   "execution_count": 10,
   "metadata": {
    "collapsed": true
   },
   "outputs": [],
   "source": [
    "test$flag[test$flag == \"RedA\"] <- \"Red\"\n",
    "test$flag[test$flag == \"RedB\"] <- \"Red\"\n",
    "test$flag[test$flag == \"BlueA\"] <- \"Blue\"\n",
    "test$flag[test$flag == \"BlueB\"] <- \"Blue\"\n",
    "test$flag <- as.factor(test$flag)"
   ]
  },
  {
   "cell_type": "code",
   "execution_count": 11,
   "metadata": {
    "collapsed": false,
    "deletable": true,
    "editable": true
   },
   "outputs": [],
   "source": [
    "# 使用する特徴量だけ抜き取る\n",
    "train <- train[, c(valuables, \"flag\")]\n",
    "test <- test[, c(valuables, \"AccelOrBrake\", \"flag\")]"
   ]
  },
  {
   "cell_type": "code",
   "execution_count": 12,
   "metadata": {
    "collapsed": true,
    "deletable": true,
    "editable": true
   },
   "outputs": [],
   "source": [
    "set.seed(1)"
   ]
  },
  {
   "cell_type": "code",
   "execution_count": 13,
   "metadata": {
    "collapsed": false,
    "deletable": true,
    "editable": true
   },
   "outputs": [
    {
     "name": "stdout",
     "output_type": "stream",
     "text": [
      "Red\n",
      "Source: local data frame [4 x 3]\n",
      "Groups: flag [?]\n",
      "\n",
      "    flag AccelOrBrake count\n",
      "  <fctr>        <chr> <int>\n",
      "1   Blue        Accel    30\n",
      "2   Blue        Brake    52\n",
      "3    Red        Accel    99\n",
      "4    Red        Brake    50\n",
      "Blue\n",
      "Source: local data frame [4 x 3]\n",
      "Groups: flag [?]\n",
      "\n",
      "    flag AccelOrBrake count\n",
      "  <fctr>        <chr> <int>\n",
      "1   Blue        Accel    27\n",
      "2   Blue        Brake    96\n",
      "3    Red        Accel    82\n",
      "4    Red        Brake    40\n",
      "\n",
      "\n",
      "Err: 0.428571"
     ]
    }
   ],
   "source": [
    "# 全データを使って表を作成 \n",
    "fit <- randomForest(flag ~ ., data=train, mtry=3, ntree=500)\n",
    "p <- predict(fit, newdata=test)\n",
    "\n",
    "showMatrix(test, p)\n",
    "\n",
    "printf(\"\\n\")\n",
    "nerr <- sum(p != test$flag)\n",
    "printf(\"Err: %f\", nerr / nrow(test))"
   ]
  },
  {
   "cell_type": "code",
   "execution_count": 14,
   "metadata": {
    "collapsed": false,
    "scrolled": true
   },
   "outputs": [
    {
     "name": "stdout",
     "output_type": "stream",
     "text": [
      "RoadType: 0\n",
      "Red\n",
      "Source: local data frame [4 x 3]\n",
      "Groups: flag [?]\n",
      "\n",
      "    flag AccelOrBrake count\n",
      "  <fctr>        <chr> <int>\n",
      "1   Blue        Accel    51\n",
      "2   Blue        Brake   128\n",
      "3    Red        Accel   158\n",
      "4    Red        Brake    80\n",
      "Blue\n",
      "Source: local data frame [4 x 3]\n",
      "Groups: flag [?]\n",
      "\n",
      "    flag AccelOrBrake count\n",
      "  <fctr>        <chr> <int>\n",
      "1   Blue        Accel     6\n",
      "2   Blue        Brake    20\n",
      "3    Red        Accel    23\n",
      "4    Red        Brake    10\n",
      "\n",
      "\n",
      "Err: 0.395833\n",
      "\n",
      "RoadType: 2\n",
      "Red\n",
      "Source: local data frame [4 x 3]\n",
      "Groups: flag [?]\n",
      "\n",
      "    flag AccelOrBrake count\n",
      "  <fctr>        <chr> <int>\n",
      "1   Blue        Accel    47\n",
      "2   Blue        Brake   125\n",
      "3    Red        Accel   154\n",
      "4    Red        Brake    74\n",
      "Blue\n",
      "Source: local data frame [4 x 3]\n",
      "Groups: flag [?]\n",
      "\n",
      "    flag AccelOrBrake count\n",
      "  <fctr>        <chr> <int>\n",
      "1   Blue        Accel    10\n",
      "2   Blue        Brake    23\n",
      "3    Red        Accel    27\n",
      "4    Red        Brake    16\n",
      "\n",
      "\n",
      "Err: 0.315789\n",
      "\n",
      "RoadType: 3\n",
      "Red\n",
      "Source: local data frame [4 x 3]\n",
      "Groups: flag [?]\n",
      "\n",
      "    flag AccelOrBrake count\n",
      "  <fctr>        <chr> <int>\n",
      "1   Blue        Accel    25\n",
      "2   Blue        Brake    59\n",
      "3    Red        Accel    87\n",
      "4    Red        Brake    36\n",
      "Blue\n",
      "Source: local data frame [4 x 3]\n",
      "Groups: flag [?]\n",
      "\n",
      "    flag AccelOrBrake count\n",
      "  <fctr>        <chr> <int>\n",
      "1   Blue        Accel    32\n",
      "2   Blue        Brake    89\n",
      "3    Red        Accel    94\n",
      "4    Red        Brake    54\n",
      "\n",
      "\n",
      "Err: 0.417910\n",
      "\n",
      "RoadType: 4\n",
      "Red\n",
      "Source: local data frame [4 x 3]\n",
      "Groups: flag [?]\n",
      "\n",
      "    flag AccelOrBrake count\n",
      "  <fctr>        <chr> <int>\n",
      "1   Blue        Accel    12\n",
      "2   Blue        Brake    44\n",
      "3    Red        Accel    47\n",
      "4    Red        Brake    27\n",
      "Blue\n",
      "Source: local data frame [4 x 3]\n",
      "Groups: flag [?]\n",
      "\n",
      "    flag AccelOrBrake count\n",
      "  <fctr>        <chr> <int>\n",
      "1   Blue        Accel    45\n",
      "2   Blue        Brake   104\n",
      "3    Red        Accel   134\n",
      "4    Red        Brake    63\n",
      "\n",
      "\n",
      "Err: 0.515152\n",
      "\n",
      "RoadType: 5\n",
      "Red\n",
      "Source: local data frame [4 x 3]\n",
      "Groups: flag [?]\n",
      "\n",
      "    flag AccelOrBrake count\n",
      "  <fctr>        <chr> <int>\n",
      "1   Blue        Accel    18\n",
      "2   Blue        Brake    51\n",
      "3    Red        Accel    70\n",
      "4    Red        Brake    31\n",
      "Blue\n",
      "Source: local data frame [4 x 3]\n",
      "Groups: flag [?]\n",
      "\n",
      "    flag AccelOrBrake count\n",
      "  <fctr>        <chr> <int>\n",
      "1   Blue        Accel    39\n",
      "2   Blue        Brake    97\n",
      "3    Red        Accel   111\n",
      "4    Red        Brake    59\n",
      "\n",
      "\n",
      "Err: 0.394558\n",
      "\n",
      "RoadType: 6\n",
      "Red\n",
      "Source: local data frame [4 x 3]\n",
      "Groups: flag [?]\n",
      "\n",
      "    flag AccelOrBrake count\n",
      "  <fctr>        <chr> <int>\n",
      "1   Blue        Accel    27\n",
      "2   Blue        Brake    64\n",
      "3    Red        Accel    80\n",
      "4    Red        Brake    41\n",
      "Blue\n",
      "Source: local data frame [4 x 3]\n",
      "Groups: flag [?]\n",
      "\n",
      "    flag AccelOrBrake count\n",
      "  <fctr>        <chr> <int>\n",
      "1   Blue        Accel    30\n",
      "2   Blue        Brake    84\n",
      "3    Red        Accel   101\n",
      "4    Red        Brake    49\n",
      "\n",
      "\n",
      "Err: 0.423913\n",
      "\n",
      "RoadType: 7\n",
      "Red\n",
      "Source: local data frame [4 x 3]\n",
      "Groups: flag [?]\n",
      "\n",
      "    flag AccelOrBrake count\n",
      "  <fctr>        <chr> <int>\n",
      "1   Blue        Accel    57\n",
      "2   Blue        Brake   148\n",
      "3    Red        Accel   181\n",
      "4    Red        Brake    90\n",
      "Blue\n",
      "Source: local data frame [0 x 3]\n",
      "Groups: flag [?]\n",
      "\n",
      "# ... with 3 variables: flag <fctr>, AccelOrBrake <chr>, count <int>\n",
      "\n",
      "\n",
      "Err: 0.333333\n",
      "\n"
     ]
    }
   ],
   "source": [
    "# 各道路タイプごとに表を作成\n",
    "for (i in c(0, 2, 3, 4, 5, 6, 7))  {\n",
    "    printf(\"RoadType: %d\\n\", i)\n",
    "    X <- train[train$RoadType == i, ]\n",
    "    y <- test[test$RoadType == i, ]\n",
    "    fit <- randomForest(flag ~ ., data=X, mtry=3, ntree=300)\n",
    "    p <- predict(fit, newdata=y)\n",
    "\n",
    "    showMatrix(test, p)\n",
    "    \n",
    "    printf(\"\\n\")\n",
    "    nerr <- sum(p != y$flag)\n",
    "    printf(\"Err: %f\\n\\n\",  nerr / nrow(y))\n",
    "}"
   ]
  },
  {
   "cell_type": "code",
   "execution_count": null,
   "metadata": {
    "collapsed": true
   },
   "outputs": [],
   "source": []
  }
 ],
 "metadata": {
  "kernelspec": {
   "display_name": "R",
   "language": "R",
   "name": "ir"
  },
  "language_info": {
   "codemirror_mode": "r",
   "file_extension": ".r",
   "mimetype": "text/x-r-source",
   "name": "R",
   "pygments_lexer": "r",
   "version": "3.3.2"
  }
 },
 "nbformat": 4,
 "nbformat_minor": 1
}
