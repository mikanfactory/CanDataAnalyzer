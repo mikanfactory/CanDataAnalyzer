{
 "cells": [
  {
   "cell_type": "code",
   "execution_count": 1,
   "metadata": {
    "collapsed": true,
    "deletable": true,
    "editable": true
   },
   "outputs": [],
   "source": [
    "library(grid)\n",
    "library(rpart)\n",
    "library(rpart.plot)\n",
    "library(partykit)\n",
    "library(lattice)\n",
    "library(ggplot2)\n",
    "library(caret)"
   ]
  },
  {
   "cell_type": "code",
   "execution_count": 2,
   "metadata": {
    "collapsed": true,
    "deletable": true,
    "editable": true
   },
   "outputs": [],
   "source": [
    "set.seed(1)"
   ]
  },
  {
   "cell_type": "code",
   "execution_count": 3,
   "metadata": {
    "collapsed": false,
    "deletable": true,
    "editable": true
   },
   "outputs": [],
   "source": [
    "# 利用する特徴量を列挙\n",
    "valuables <- c(\"RoadType\",\"CurveAverage\",\"Speed\", \"Curve100\", \"Curve150\",\"MaxSpeed\",\"RiskFactor\",\"Curve\",\"DistSignal\",\"Pitch\",\"AheadDistance\",\"AverageVelocity\",\"TimeToCollision\",\"AccelerationSpeed\", \"Engine\", \"SteeringAngle\", \"TimeHeadway\", \"Jerk\", \"LaneCount\", \"DiffAvgSpeed\", \"EmptinessOfRoad\", \"RoadFactor\")"
   ]
  },
  {
   "cell_type": "code",
   "execution_count": 4,
   "metadata": {
    "collapsed": true,
    "deletable": true,
    "editable": true
   },
   "outputs": [],
   "source": [
    "printf <- function(...) cat(sprintf(...))"
   ]
  },
  {
   "cell_type": "code",
   "execution_count": 5,
   "metadata": {
    "collapsed": false,
    "deletable": true,
    "editable": true
   },
   "outputs": [],
   "source": [
    "# CV value を計算\n",
    "# dfx: 使用するデータ\n",
    "# verbose: ログを出力するかどうか\n",
    "CV <- function(dfx, verbose=FALSE) {        \n",
    "    # k=10 束の fold を作成\n",
    "    folds <- createFolds(dfx$flag, k=10)\n",
    "    \n",
    "    # 各 fold における結果を格納する変数\n",
    "    count <- 1\n",
    "    errs <- c()       # CV 値\n",
    "    reds <- c()     # 長時間平均 (Red だと予測して実際に Red だったもの)\n",
    "    blues <- c()    # 長時間平均 (Blue だと予測して実際に Blue だったもの)\n",
    "    for (ids in folds) {\n",
    "        train <- dfx[-ids, ]\n",
    "        test <- dfx[ids, ]\n",
    "        fit <- rpart(flag ~ ., data=train, method=\"class\", cp=0.017)  # Decision Tree を使って分類\n",
    "        p <- predict(fit, newdata=test)                                                   # test データを使って予測\n",
    "        predictedFlags <- colnames(p)[max.col(p, ties.method = \"first\")]   # 予測確率が一番高いものを選択\n",
    "        \n",
    "        # 予測した結果を用いて長期平均を計算\n",
    "        if (verbose) {            \n",
    "            printf(\"Fold%d\\n\", count)\n",
    "            result <- correctVsPredict(test, predictedFlags, verbose)\n",
    "            reds <- c(reds, result[1])\n",
    "            blues <- c(blues, result[2])\n",
    "            count <- count + 1\n",
    "            printf(\"\\n\")\n",
    "        } else {\n",
    "            result <- correctVsPredict(test, predictedFlags, verbose)\n",
    "            reds <- c(reds, result[1])\n",
    "            blues <- c(blues, result[2])\n",
    "        }\n",
    "        \n",
    "        nerr <- sum(predictedFlags != test$flag)\n",
    "        errs <- c(errs, nerr / nrow(test))\n",
    "    }\n",
    "    \n",
    "    c(mean(errs), mean(reds), mean(blues))\n",
    "}"
   ]
  },
  {
   "cell_type": "code",
   "execution_count": 6,
   "metadata": {
    "collapsed": false,
    "deletable": true,
    "editable": true
   },
   "outputs": [],
   "source": [
    "# 長時間平均を計算する\n",
    "correctVsPredict <- function(test, predictedFlags, verbose=FALSE) {    \n",
    "    # for Red\n",
    "    predictedRedRows <- test[predictedFlags == \"Red\", ]\n",
    "    nCorrectReds <- sum(predictedRedRows$flag == 'Red')\n",
    "    nPredictedReds <- nrow(predictedRedRows)\n",
    "    \n",
    "    # for Blue\n",
    "    predictedBlueRows <- test[predictedFlags == \"Blue\", ]\n",
    "    nCorrectBlues <- sum(predictedBlueRows$flag == 'Blue')\n",
    "    nPredictedBlues <- nrow(predictedBlueRows)\n",
    "        \n",
    "    if (verbose) {\n",
    "        printf(\"As for Red: correct/predict = %d/%d = %f\\n\", nCorrectReds, nPredictedReds, nCorrectReds/nPredictedReds)\n",
    "        printf(\"As for Blue: correct/predict = %d/%d = %f\\n\", nCorrectBlues, nPredictedBlues, nCorrectBlues/nPredictedBlues)  \n",
    "    }    \n",
    "    \n",
    "    c(nCorrectReds/nPredictedReds, nCorrectBlues/nPredictedBlues)\n",
    "}"
   ]
  },
  {
   "cell_type": "code",
   "execution_count": 7,
   "metadata": {
    "collapsed": true,
    "deletable": true,
    "editable": true
   },
   "outputs": [],
   "source": [
    "# 全体のうち Red と Blue がどれぐらいの割合かを出力する\n",
    "printRedRatios <- function(dfx) {\n",
    "    nRed <- nrow(dfx[dfx$flag == \"Red\", ])\n",
    "    nAll <- nrow(dfx)\n",
    "    printf(\"Red/All = %d/%d = %f\\n\", nRed, nAll, nRed/nAll)\n",
    "    printf(\"1 - Red/All = %d/%d = %f\\n\", nAll - nRed, nAll, 1 - nRed/nAll)\n",
    "}"
   ]
  },
  {
   "cell_type": "markdown",
   "metadata": {
    "collapsed": true,
    "deletable": true,
    "editable": true
   },
   "source": [
    "# Predict Red"
   ]
  },
  {
   "cell_type": "code",
   "execution_count": 8,
   "metadata": {
    "collapsed": false,
    "deletable": true,
    "editable": true
   },
   "outputs": [],
   "source": [
    "df3 <- read.csv(\"../data/middle/sp5.csv\", stringsAsFactors=FALSE)"
   ]
  },
  {
   "cell_type": "code",
   "execution_count": 9,
   "metadata": {
    "collapsed": true,
    "deletable": true,
    "editable": true
   },
   "outputs": [],
   "source": [
    "df3$flag[df3$flag == \"RedA\"] <- \"Red\"\n",
    "df3$flag[df3$flag == \"RedB\"] <- \"Red\"\n",
    "df3$flag[df3$flag == \"BlueA\"] <- \"Blue\"\n",
    "df3$flag[df3$flag == \"BlueB\"] <- \"Blue\"\n",
    "df3$flag <- as.factor(df3$flag)"
   ]
  },
  {
   "cell_type": "code",
   "execution_count": 10,
   "metadata": {
    "collapsed": false
   },
   "outputs": [],
   "source": [
    "# 使用する特徴量だけ抜き取る\n",
    "df <- df3[, c(valuables, \"flag\")]"
   ]
  },
  {
   "cell_type": "code",
   "execution_count": 11,
   "metadata": {
    "collapsed": false,
    "deletable": true,
    "editable": true,
    "scrolled": true
   },
   "outputs": [
    {
     "name": "stdout",
     "output_type": "stream",
     "text": [
      "Fold1\n",
      "As for Red: correct/predict = 43/68 = 0.632353\n",
      "As for Blue: correct/predict = 19/36 = 0.527778\n",
      "\n",
      "Fold2\n",
      "As for Red: correct/predict = 47/72 = 0.652778\n",
      "As for Blue: correct/predict = 20/33 = 0.606061\n",
      "\n",
      "Fold3\n",
      "As for Red: correct/predict = 46/78 = 0.589744\n",
      "As for Blue: correct/predict = 13/26 = 0.500000\n",
      "\n",
      "Fold4\n",
      "As for Red: correct/predict = 47/69 = 0.681159\n",
      "As for Blue: correct/predict = 23/35 = 0.657143\n",
      "\n",
      "Fold5\n",
      "As for Red: correct/predict = 48/76 = 0.631579\n",
      "As for Blue: correct/predict = 17/28 = 0.607143\n",
      "\n",
      "Fold6\n",
      "As for Red: correct/predict = 39/66 = 0.590909\n",
      "As for Blue: correct/predict = 18/38 = 0.473684\n",
      "\n",
      "Fold7\n",
      "As for Red: correct/predict = 50/75 = 0.666667\n",
      "As for Blue: correct/predict = 20/30 = 0.666667\n",
      "\n",
      "Fold8\n",
      "As for Red: correct/predict = 50/74 = 0.675676\n",
      "As for Blue: correct/predict = 21/30 = 0.700000\n",
      "\n",
      "Fold9\n",
      "As for Red: correct/predict = 48/73 = 0.657534\n",
      "As for Blue: correct/predict = 20/31 = 0.645161\n",
      "\n",
      "Fold10\n",
      "As for Red: correct/predict = 49/76 = 0.644737\n",
      "As for Blue: correct/predict = 18/28 = 0.642857\n",
      "\n",
      "Red/All = 593/1042 = 0.569098\n",
      "1 - Red/All = 449/1042 = 0.430902\n",
      "Red: Mean correct/predict = 0.642314\n",
      "Blue: Mean correct/predict = 0.602649\n",
      "CV value: 0.370485"
     ]
    }
   ],
   "source": [
    "# 全データに対して CV 値, 長時間平均, 短時間平均を計算\n",
    "result <- CV(df, verbose=TRUE)\n",
    "printRedRatios(df3)\n",
    "printf(\"Red: Mean correct/predict = %f\\n\", result[2])\n",
    "printf(\"Blue: Mean correct/predict = %f\\n\", result[3])\n",
    "printf(\"CV value: %f\", result[1])"
   ]
  },
  {
   "cell_type": "code",
   "execution_count": 12,
   "metadata": {
    "collapsed": false
   },
   "outputs": [],
   "source": [
    "# 結果の表示と保存\n",
    "fit <- rpart(flag ~ ., data=df, method=\"class\", cp=0.017)"
   ]
  },
  {
   "cell_type": "code",
   "execution_count": 13,
   "metadata": {
    "collapsed": false,
    "deletable": true,
    "editable": true
   },
   "outputs": [
    {
     "name": "stdout",
     "output_type": "stream",
     "text": [
      "\n",
      "Classification tree:\n",
      "rpart(formula = flag ~ ., data = df, method = \"class\", cp = 0.017)\n",
      "\n",
      "Variables actually used in tree construction:\n",
      "[1] AccelerationSpeed CurveAverage      DiffAvgSpeed      Engine           \n",
      "[5] RoadFactor        TimeHeadway       TimeToCollision  \n",
      "\n",
      "Root node error: 449/1042 = 0.4309\n",
      "\n",
      "n= 1042 \n",
      "\n",
      "        CP nsplit rel error  xerror     xstd\n",
      "1 0.074610      0   1.00000 1.00000 0.035602\n",
      "2 0.028953      2   0.85078 0.91537 0.035136\n",
      "3 0.024499      3   0.82183 0.92873 0.035223\n",
      "4 0.017817      5   0.77283 0.91759 0.035151\n",
      "5 0.017075      6   0.75501 0.89755 0.035012\n",
      "6 0.017000      9   0.70379 0.89978 0.035028\n"
     ]
    }
   ],
   "source": [
    "printcp(fit)"
   ]
  },
  {
   "cell_type": "code",
   "execution_count": 14,
   "metadata": {
    "collapsed": false,
    "deletable": true,
    "editable": true
   },
   "outputs": [
    {
     "data": {
      "text/html": [
       "<strong>pdf:</strong> 2"
      ],
      "text/latex": [
       "\\textbf{pdf:} 2"
      ],
      "text/markdown": [
       "**pdf:** 2"
      ],
      "text/plain": [
       "pdf \n",
       "  2 "
      ]
     },
     "metadata": {},
     "output_type": "display_data"
    }
   ],
   "source": [
    "png(\"DTree-cp.png\", height=960, width=960, res=144)\n",
    "plotcp(fit)\n",
    "dev.off()"
   ]
  },
  {
   "cell_type": "code",
   "execution_count": 15,
   "metadata": {
    "collapsed": false,
    "deletable": true,
    "editable": true
   },
   "outputs": [
    {
     "name": "stdout",
     "output_type": "stream",
     "text": [
      "Call:\n",
      "rpart(formula = flag ~ ., data = df, method = \"class\", cp = 0.017)\n",
      "  n= 1042 \n",
      "\n",
      "          CP nsplit rel error    xerror       xstd\n",
      "1 0.07461024      0 1.0000000 1.0000000 0.03560167\n",
      "2 0.02895323      2 0.8507795 0.9153675 0.03513625\n",
      "3 0.02449889      3 0.8218263 0.9287305 0.03522312\n",
      "4 0.01781737      5 0.7728285 0.9175947 0.03515108\n",
      "5 0.01707498      6 0.7550111 0.8975501 0.03501247\n",
      "6 0.01700000      9 0.7037862 0.8997773 0.03502844\n",
      "\n",
      "Variable importance\n",
      "      TimeHeadway      DiffAvgSpeed        RiskFactor             Speed \n",
      "               13                11                 9                 8 \n",
      "  EmptinessOfRoad          MaxSpeed          RoadType            Engine \n",
      "                7                 6                 6                 5 \n",
      "    AheadDistance AccelerationSpeed          Curve150   TimeToCollision \n",
      "                4                 4                 4                 4 \n",
      "         Curve100      CurveAverage             Curve        RoadFactor \n",
      "                4                 4                 4                 3 \n",
      "  AverageVelocity         LaneCount \n",
      "                2                 1 \n",
      "\n",
      "Node number 1: 1042 observations,    complexity param=0.07461024\n",
      "  predicted class=Red   expected loss=0.4309021  P(node) =1\n",
      "    class counts:   449   593\n",
      "   probabilities: 0.431 0.569 \n",
      "  left son=2 (634 obs) right son=3 (408 obs)\n",
      "  Primary splits:\n",
      "      TimeHeadway   < 2.221412     to the right, improve=19.987000, (0 missing)\n",
      "      RiskFactor    < 0.4666483    to the left,  improve=18.065120, (0 missing)\n",
      "      DiffAvgSpeed  < 9.66772      to the right, improve=13.193700, (0 missing)\n",
      "      AheadDistance < 15.65        to the right, improve= 9.802522, (0 missing)\n",
      "      MaxSpeed      < 50.52        to the left,  improve= 9.239768, (0 missing)\n",
      "  Surrogate splits:\n",
      "      RiskFactor      < 0.5262187    to the left,  agree=0.873, adj=0.676, (0 split)\n",
      "      EmptinessOfRoad < 0.1709467    to the right, agree=0.724, adj=0.294, (0 split)\n",
      "      RoadType        < 3.5          to the right, agree=0.706, adj=0.250, (0 split)\n",
      "      TimeToCollision < 33.06862     to the right, agree=0.671, adj=0.159, (0 split)\n",
      "      MaxSpeed        < 55.815       to the left,  agree=0.666, adj=0.147, (0 split)\n",
      "\n",
      "Node number 2: 634 observations,    complexity param=0.07461024\n",
      "  predicted class=Blue  expected loss=0.4905363  P(node) =0.6084453\n",
      "    class counts:   323   311\n",
      "   probabilities: 0.509 0.491 \n",
      "  left son=4 (265 obs) right son=5 (369 obs)\n",
      "  Primary splits:\n",
      "      DiffAvgSpeed < 14.48037     to the right, improve=12.455160, (0 missing)\n",
      "      CurveAverage < 253          to the left,  improve= 9.483088, (0 missing)\n",
      "      Curve100     < 253          to the left,  improve= 9.483088, (0 missing)\n",
      "      Curve150     < 253          to the left,  improve= 9.483088, (0 missing)\n",
      "      Curve        < 253          to the left,  improve= 9.483088, (0 missing)\n",
      "  Surrogate splits:\n",
      "      Speed             < 34.415       to the right, agree=0.885, adj=0.725, (0 split)\n",
      "      AheadDistance     < 25.9         to the right, agree=0.756, adj=0.415, (0 split)\n",
      "      MaxSpeed          < 42.79        to the right, agree=0.699, adj=0.279, (0 split)\n",
      "      AccelerationSpeed < 0.06388889   to the left,  agree=0.650, adj=0.162, (0 split)\n",
      "      RiskFactor        < 0.104545     to the left,  agree=0.634, adj=0.125, (0 split)\n",
      "\n",
      "Node number 3: 408 observations\n",
      "  predicted class=Red   expected loss=0.3088235  P(node) =0.3915547\n",
      "    class counts:   126   282\n",
      "   probabilities: 0.309 0.691 \n",
      "\n",
      "Node number 4: 265 observations,    complexity param=0.02895323\n",
      "  predicted class=Blue  expected loss=0.3735849  P(node) =0.2543186\n",
      "    class counts:   166    99\n",
      "   probabilities: 0.626 0.374 \n",
      "  left son=8 (194 obs) right son=9 (71 obs)\n",
      "  Primary splits:\n",
      "      DiffAvgSpeed < 26.79352     to the left,  improve=9.215175, (0 missing)\n",
      "      MaxSpeed     < 50.945       to the left,  improve=8.698037, (0 missing)\n",
      "      Speed        < 49.11        to the left,  improve=6.157891, (0 missing)\n",
      "      DistSignal   < 10.92793     to the right, improve=5.782189, (0 missing)\n",
      "      Curve100     < 145.5        to the right, improve=5.347411, (0 missing)\n",
      "  Surrogate splits:\n",
      "      Speed           < 51.74        to the left,  agree=0.868, adj=0.507, (0 split)\n",
      "      MaxSpeed        < 58.97        to the left,  agree=0.830, adj=0.366, (0 split)\n",
      "      EmptinessOfRoad < 0.1225403    to the right, agree=0.747, adj=0.056, (0 split)\n",
      "      CurveAverage    < 253          to the left,  agree=0.740, adj=0.028, (0 split)\n",
      "      Curve100        < 253          to the left,  agree=0.740, adj=0.028, (0 split)\n",
      "\n",
      "Node number 5: 369 observations,    complexity param=0.02449889\n",
      "  predicted class=Red   expected loss=0.4254743  P(node) =0.3541267\n",
      "    class counts:   157   212\n",
      "   probabilities: 0.425 0.575 \n",
      "  left son=10 (345 obs) right son=11 (24 obs)\n",
      "  Primary splits:\n",
      "      CurveAverage    < 253          to the left,  improve=7.562678, (0 missing)\n",
      "      Curve100        < 253          to the left,  improve=7.562678, (0 missing)\n",
      "      Curve150        < 253          to the left,  improve=7.562678, (0 missing)\n",
      "      Curve           < 253          to the left,  improve=7.562678, (0 missing)\n",
      "      EmptinessOfRoad < 1.036203     to the left,  improve=7.252513, (0 missing)\n",
      "  Surrogate splits:\n",
      "      Curve100        < 253          to the left,  agree=1.000, adj=1.000, (0 split)\n",
      "      Curve150        < 253          to the left,  agree=1.000, adj=1.000, (0 split)\n",
      "      Curve           < 253          to the left,  agree=1.000, adj=1.000, (0 split)\n",
      "      RoadType        < 6.5          to the left,  agree=0.995, adj=0.917, (0 split)\n",
      "      EmptinessOfRoad < 0.8433092    to the left,  agree=0.995, adj=0.917, (0 split)\n",
      "\n",
      "Node number 8: 194 observations\n",
      "  predicted class=Blue  expected loss=0.2938144  P(node) =0.1861804\n",
      "    class counts:   137    57\n",
      "   probabilities: 0.706 0.294 \n",
      "\n",
      "Node number 9: 71 observations\n",
      "  predicted class=Red   expected loss=0.4084507  P(node) =0.0681382\n",
      "    class counts:    29    42\n",
      "   probabilities: 0.408 0.592 \n",
      "\n",
      "Node number 10: 345 observations,    complexity param=0.02449889\n",
      "  predicted class=Red   expected loss=0.4521739  P(node) =0.331094\n",
      "    class counts:   156   189\n",
      "   probabilities: 0.452 0.548 \n",
      "  left son=20 (94 obs) right son=21 (251 obs)\n",
      "  Primary splits:\n",
      "      RoadFactor        < 2.5          to the right, improve=7.022104, (0 missing)\n",
      "      AccelerationSpeed < 0.6416667    to the left,  improve=5.974746, (0 missing)\n",
      "      Engine            < 1754.688     to the left,  improve=3.591952, (0 missing)\n",
      "      RoadType          < 3.5          to the right, improve=3.383412, (0 missing)\n",
      "      Curve             < 250          to the right, improve=3.164590, (0 missing)\n",
      "  Surrogate splits:\n",
      "      LaneCount       < 1.5          to the left,  agree=0.791, adj=0.234, (0 split)\n",
      "      AverageVelocity < 2.533956     to the left,  agree=0.751, adj=0.085, (0 split)\n",
      "      TimeToCollision < 8.825817     to the left,  agree=0.739, adj=0.043, (0 split)\n",
      "      MaxSpeed        < 12.255       to the left,  agree=0.733, adj=0.021, (0 split)\n",
      "      Pitch           < -0.8470149   to the left,  agree=0.733, adj=0.021, (0 split)\n",
      "\n",
      "Node number 11: 24 observations\n",
      "  predicted class=Red   expected loss=0.04166667  P(node) =0.02303263\n",
      "    class counts:     1    23\n",
      "   probabilities: 0.042 0.958 \n",
      "\n",
      "Node number 20: 94 observations,    complexity param=0.01781737\n",
      "  predicted class=Blue  expected loss=0.3829787  P(node) =0.09021113\n",
      "    class counts:    58    36\n",
      "   probabilities: 0.617 0.383 \n",
      "  left son=40 (86 obs) right son=41 (8 obs)\n",
      "  Primary splits:\n",
      "      AccelerationSpeed < 0.6416667    to the left,  improve=6.658090, (0 missing)\n",
      "      DiffAvgSpeed      < -12.23114    to the right, improve=3.400901, (0 missing)\n",
      "      Curve150          < 231          to the left,  improve=2.968999, (0 missing)\n",
      "      SteeringAngle     < 15.8         to the left,  improve=2.953462, (0 missing)\n",
      "      Pitch             < 0.0002487583 to the right, improve=2.925532, (0 missing)\n",
      "  Surrogate splits:\n",
      "      Engine          < 1742.188     to the left,  agree=0.947, adj=0.375, (0 split)\n",
      "      MaxSpeed        < 13.54        to the right, agree=0.926, adj=0.125, (0 split)\n",
      "      AverageVelocity < 1.45039      to the right, agree=0.926, adj=0.125, (0 split)\n",
      "      Jerk            < 1.861111     to the left,  agree=0.926, adj=0.125, (0 split)\n",
      "\n",
      "Node number 21: 251 observations,    complexity param=0.01707498\n",
      "  predicted class=Red   expected loss=0.3904382  P(node) =0.2408829\n",
      "    class counts:    98   153\n",
      "   probabilities: 0.390 0.610 \n",
      "  left son=42 (224 obs) right son=43 (27 obs)\n",
      "  Primary splits:\n",
      "      TimeHeadway     < 2.386493     to the right, improve=4.721127, (0 missing)\n",
      "      CurveAverage    < 165.5        to the right, improve=3.526391, (0 missing)\n",
      "      TimeToCollision < 188.0127     to the left,  improve=3.152962, (0 missing)\n",
      "      Curve150        < 77.5         to the left,  improve=3.110029, (0 missing)\n",
      "      Curve           < 250          to the right, improve=3.030677, (0 missing)\n",
      "\n",
      "Node number 40: 86 observations\n",
      "  predicted class=Blue  expected loss=0.3255814  P(node) =0.08253359\n",
      "    class counts:    58    28\n",
      "   probabilities: 0.674 0.326 \n",
      "\n",
      "Node number 41: 8 observations\n",
      "  predicted class=Red   expected loss=0  P(node) =0.007677543\n",
      "    class counts:     0     8\n",
      "   probabilities: 0.000 1.000 \n",
      "\n",
      "Node number 42: 224 observations,    complexity param=0.01707498\n",
      "  predicted class=Red   expected loss=0.4241071  P(node) =0.2149712\n",
      "    class counts:    95   129\n",
      "   probabilities: 0.424 0.576 \n",
      "  left son=84 (102 obs) right son=85 (122 obs)\n",
      "  Primary splits:\n",
      "      TimeToCollision   < 232.5653     to the left,  improve=4.962877, (0 missing)\n",
      "      CurveAverage      < 165.5        to the right, improve=4.463522, (0 missing)\n",
      "      AccelerationSpeed < 0.5472222    to the left,  improve=4.221183, (0 missing)\n",
      "      AheadDistance     < 63.85        to the left,  improve=4.062732, (0 missing)\n",
      "      RiskFactor        < 0.2349907    to the right, improve=3.357531, (0 missing)\n",
      "  Surrogate splits:\n",
      "      RiskFactor      < 0.4156539    to the right, agree=0.862, adj=0.696, (0 split)\n",
      "      TimeHeadway     < 5.901549     to the left,  agree=0.705, adj=0.353, (0 split)\n",
      "      AheadDistance   < 50.15        to the left,  agree=0.701, adj=0.343, (0 split)\n",
      "      EmptinessOfRoad < 0.3938528    to the left,  agree=0.656, adj=0.245, (0 split)\n",
      "      Curve150        < 249          to the right, agree=0.643, adj=0.216, (0 split)\n",
      "\n",
      "Node number 43: 27 observations\n",
      "  predicted class=Red   expected loss=0.1111111  P(node) =0.02591171\n",
      "    class counts:     3    24\n",
      "   probabilities: 0.111 0.889 \n",
      "\n",
      "Node number 84: 102 observations,    complexity param=0.01707498\n",
      "  predicted class=Blue  expected loss=0.4607843  P(node) =0.09788868\n",
      "    class counts:    55    47\n",
      "   probabilities: 0.539 0.461 \n",
      "  left son=168 (55 obs) right son=169 (47 obs)\n",
      "  Primary splits:\n",
      "      Engine          < 1289.062     to the left,  improve=6.888982, (0 missing)\n",
      "      Pitch           < 0.1106965    to the right, improve=3.781513, (0 missing)\n",
      "      MaxSpeed        < 51.45        to the left,  improve=3.768627, (0 missing)\n",
      "      TimeToCollision < 10.48549     to the right, improve=2.978828, (0 missing)\n",
      "      Curve           < 156          to the right, improve=2.551492, (0 missing)\n",
      "  Surrogate splits:\n",
      "      Speed           < 24.16        to the left,  agree=0.745, adj=0.447, (0 split)\n",
      "      MaxSpeed        < 40.165       to the left,  agree=0.676, adj=0.298, (0 split)\n",
      "      AheadDistance   < 19.6         to the left,  agree=0.676, adj=0.298, (0 split)\n",
      "      AverageVelocity < 12.17251     to the left,  agree=0.667, adj=0.277, (0 split)\n",
      "      DiffAvgSpeed    < 6.560263     to the left,  agree=0.637, adj=0.213, (0 split)\n",
      "\n",
      "Node number 85: 122 observations\n",
      "  predicted class=Red   expected loss=0.3278689  P(node) =0.1170825\n",
      "    class counts:    40    82\n",
      "   probabilities: 0.328 0.672 \n",
      "\n",
      "Node number 168: 55 observations\n",
      "  predicted class=Blue  expected loss=0.2909091  P(node) =0.05278311\n",
      "    class counts:    39    16\n",
      "   probabilities: 0.709 0.291 \n",
      "\n",
      "Node number 169: 47 observations\n",
      "  predicted class=Red   expected loss=0.3404255  P(node) =0.04510557\n",
      "    class counts:    16    31\n",
      "   probabilities: 0.340 0.660 \n",
      "\n"
     ]
    }
   ],
   "source": [
    "# Tree の Variable importance を表示\n",
    "summary(fit)"
   ]
  },
  {
   "cell_type": "code",
   "execution_count": 16,
   "metadata": {
    "collapsed": false,
    "deletable": true,
    "editable": true,
    "scrolled": true
   },
   "outputs": [
    {
     "data": {
      "text/html": [
       "<strong>pdf:</strong> 2"
      ],
      "text/latex": [
       "\\textbf{pdf:} 2"
      ],
      "text/markdown": [
       "**pdf:** 2"
      ],
      "text/plain": [
       "pdf \n",
       "  2 "
      ]
     },
     "metadata": {},
     "output_type": "display_data"
    }
   ],
   "source": [
    "# 木の表示\n",
    "png(\"DTree.png\", height=960, width=960, res=144)\n",
    "plot(fit, uniform=TRUE, main=\"Classification Tree\")\n",
    "text(fit, use.n=TRUE, all=TRUE, cex=.6)\n",
    "dev.off()"
   ]
  },
  {
   "cell_type": "code",
   "execution_count": null,
   "metadata": {
    "collapsed": true,
    "deletable": true,
    "editable": true
   },
   "outputs": [],
   "source": []
  }
 ],
 "metadata": {
  "kernelspec": {
   "display_name": "R",
   "language": "R",
   "name": "ir"
  },
  "language_info": {
   "codemirror_mode": "r",
   "file_extension": ".r",
   "mimetype": "text/x-r-source",
   "name": "R",
   "pygments_lexer": "r",
   "version": "3.3.2"
  }
 },
 "nbformat": 4,
 "nbformat_minor": 1
}
