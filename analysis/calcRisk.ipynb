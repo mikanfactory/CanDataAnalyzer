{
 "cells": [
  {
   "cell_type": "code",
   "execution_count": 1,
   "metadata": {
    "collapsed": true
   },
   "outputs": [],
   "source": [
    "%matplotlib inline"
   ]
  },
  {
   "cell_type": "code",
   "execution_count": 2,
   "metadata": {
    "collapsed": true
   },
   "outputs": [],
   "source": [
    "import numpy as np\n",
    "import pandas as pd\n",
    "import matplotlib.pyplot as plt\n",
    "from sklearn.mixture import BayesianGaussianMixture\n",
    "from skbayes.mixture_models import VBBMM"
   ]
  },
  {
   "cell_type": "code",
   "execution_count": 3,
   "metadata": {
    "collapsed": true
   },
   "outputs": [],
   "source": [
    "import seaborn as sns\n",
    "sns.set(color_codes=True)"
   ]
  },
  {
   "cell_type": "markdown",
   "metadata": {},
   "source": [
    "# Preprocess"
   ]
  },
  {
   "cell_type": "code",
   "execution_count": 4,
   "metadata": {
    "collapsed": true
   },
   "outputs": [],
   "source": [
    "targetDir = \"../data/output/result/\"\n",
    "speedDir = \"../data/output/speed/\"\n",
    "brakeDir = \"../data/output/brake/\"\n",
    "accelDIr = \"../data/output/accel/\"\n",
    "steeringPositiveDir = \"../data/output/steeringPositive/\"\n",
    "steeringNegativeDir = \"../data/output/steeringNegative/\"\n",
    "segmentDir = \"../data/output/segment/\""
   ]
  },
  {
   "cell_type": "code",
   "execution_count": 45,
   "metadata": {
    "collapsed": true
   },
   "outputs": [],
   "source": [
    "df1 = pd.read_csv(speedDir + \"result.csv\")\n",
    "df2 = pd.read_csv(brakeDir + \"result.csv\")\n",
    "df2.columns = [[\"id\", \"brake\"]]\n",
    "df3 = pd.read_csv(accelDIr + \"result.csv\")\n",
    "df3.columns = [[\"id\", \"accel\"]]\n",
    "df4 = pd.read_csv(steeringPositiveDir + \"result.csv\")\n",
    "df4.columns = [[\"id\", \"steeringPositive\"]]\n",
    "df5 = pd.read_csv(steeringNegativeDir + \"result.csv\")\n",
    "df5.columns = [[\"id\", \"steeringNegative\"]]\n",
    "df6 = pd.read_csv(segmentDir + \"result.csv\")\n",
    "df6.columns = [[\"id\", \"segmentSize\"]]"
   ]
  },
  {
   "cell_type": "code",
   "execution_count": 48,
   "metadata": {
    "collapsed": false
   },
   "outputs": [],
   "source": [
    "df = pd.merge(pd.merge(pd.merge(pd.merge(df1, df2, on=\"id\"), df3, on=\"id\"), df4, on=\"id\"), df5, on=\"id\")\n",
    "df = pd.merge(df, df6, on=\"id\")"
   ]
  },
  {
   "cell_type": "code",
   "execution_count": 49,
   "metadata": {
    "collapsed": false
   },
   "outputs": [],
   "source": [
    "mf = df[df['red'] + df['yellow'] + df['green'] + df['stop'] > 0]\n",
    "mf = mf[[\"red\", \"brake\", \"accel\", \"steeringPositive\",  \"steeringNegative\", \"segmentSize\"]]\n",
    "mf.columns = [\"red\", \"brake\", \"accel\", \"steeringPositive\",  \"steeringNegative\", \"segmentSize\"]"
   ]
  },
  {
   "cell_type": "markdown",
   "metadata": {},
   "source": [
    "# Summation of all statuses and calculate risk"
   ]
  },
  {
   "cell_type": "code",
   "execution_count": 50,
   "metadata": {
    "collapsed": false
   },
   "outputs": [],
   "source": [
    "rows = mf.as_matrix()\n",
    "mf[\"sum\"] = [np.sum(rows[i][:-1]) for i in range(len(rows))]"
   ]
  },
  {
   "cell_type": "code",
   "execution_count": 51,
   "metadata": {
    "collapsed": false
   },
   "outputs": [],
   "source": [
    "mf[\"risk\"] = mf[\"sum\"] / mf[\"segmentSize\"]"
   ]
  },
  {
   "cell_type": "code",
   "execution_count": 52,
   "metadata": {
    "collapsed": false
   },
   "outputs": [
    {
     "data": {
      "text/html": [
       "<div>\n",
       "<table border=\"1\" class=\"dataframe\">\n",
       "  <thead>\n",
       "    <tr style=\"text-align: right;\">\n",
       "      <th></th>\n",
       "      <th>red</th>\n",
       "      <th>brake</th>\n",
       "      <th>accel</th>\n",
       "      <th>steeringPositive</th>\n",
       "      <th>steeringNegative</th>\n",
       "      <th>segmentSize</th>\n",
       "      <th>sum</th>\n",
       "      <th>risk</th>\n",
       "    </tr>\n",
       "  </thead>\n",
       "  <tbody>\n",
       "    <tr>\n",
       "      <th>count</th>\n",
       "      <td>194.000000</td>\n",
       "      <td>194.000000</td>\n",
       "      <td>194.000000</td>\n",
       "      <td>194.000000</td>\n",
       "      <td>194.000000</td>\n",
       "      <td>194.000000</td>\n",
       "      <td>194.000000</td>\n",
       "      <td>194.000000</td>\n",
       "    </tr>\n",
       "    <tr>\n",
       "      <th>mean</th>\n",
       "      <td>24.628866</td>\n",
       "      <td>40.561856</td>\n",
       "      <td>59.819588</td>\n",
       "      <td>45.886598</td>\n",
       "      <td>69.077320</td>\n",
       "      <td>360.510309</td>\n",
       "      <td>239.974227</td>\n",
       "      <td>0.689298</td>\n",
       "    </tr>\n",
       "    <tr>\n",
       "      <th>std</th>\n",
       "      <td>42.578259</td>\n",
       "      <td>58.297600</td>\n",
       "      <td>73.636859</td>\n",
       "      <td>102.050874</td>\n",
       "      <td>199.483632</td>\n",
       "      <td>443.529581</td>\n",
       "      <td>337.707625</td>\n",
       "      <td>0.409653</td>\n",
       "    </tr>\n",
       "    <tr>\n",
       "      <th>min</th>\n",
       "      <td>0.000000</td>\n",
       "      <td>0.000000</td>\n",
       "      <td>0.000000</td>\n",
       "      <td>0.000000</td>\n",
       "      <td>0.000000</td>\n",
       "      <td>1.000000</td>\n",
       "      <td>0.000000</td>\n",
       "      <td>0.000000</td>\n",
       "    </tr>\n",
       "    <tr>\n",
       "      <th>25%</th>\n",
       "      <td>0.000000</td>\n",
       "      <td>1.000000</td>\n",
       "      <td>8.250000</td>\n",
       "      <td>1.000000</td>\n",
       "      <td>0.000000</td>\n",
       "      <td>76.750000</td>\n",
       "      <td>37.500000</td>\n",
       "      <td>0.379399</td>\n",
       "    </tr>\n",
       "    <tr>\n",
       "      <th>50%</th>\n",
       "      <td>3.000000</td>\n",
       "      <td>15.000000</td>\n",
       "      <td>23.000000</td>\n",
       "      <td>2.000000</td>\n",
       "      <td>2.000000</td>\n",
       "      <td>252.500000</td>\n",
       "      <td>133.500000</td>\n",
       "      <td>0.611618</td>\n",
       "    </tr>\n",
       "    <tr>\n",
       "      <th>75%</th>\n",
       "      <td>26.750000</td>\n",
       "      <td>55.000000</td>\n",
       "      <td>89.500000</td>\n",
       "      <td>25.500000</td>\n",
       "      <td>23.750000</td>\n",
       "      <td>407.250000</td>\n",
       "      <td>270.750000</td>\n",
       "      <td>0.856552</td>\n",
       "    </tr>\n",
       "    <tr>\n",
       "      <th>max</th>\n",
       "      <td>188.000000</td>\n",
       "      <td>321.000000</td>\n",
       "      <td>389.000000</td>\n",
       "      <td>527.000000</td>\n",
       "      <td>1460.000000</td>\n",
       "      <td>2565.000000</td>\n",
       "      <td>1921.000000</td>\n",
       "      <td>2.000000</td>\n",
       "    </tr>\n",
       "  </tbody>\n",
       "</table>\n",
       "</div>"
      ],
      "text/plain": [
       "              red       brake       accel  steeringPositive  steeringNegative  \\\n",
       "count  194.000000  194.000000  194.000000        194.000000        194.000000   \n",
       "mean    24.628866   40.561856   59.819588         45.886598         69.077320   \n",
       "std     42.578259   58.297600   73.636859        102.050874        199.483632   \n",
       "min      0.000000    0.000000    0.000000          0.000000          0.000000   \n",
       "25%      0.000000    1.000000    8.250000          1.000000          0.000000   \n",
       "50%      3.000000   15.000000   23.000000          2.000000          2.000000   \n",
       "75%     26.750000   55.000000   89.500000         25.500000         23.750000   \n",
       "max    188.000000  321.000000  389.000000        527.000000       1460.000000   \n",
       "\n",
       "       segmentSize          sum        risk  \n",
       "count   194.000000   194.000000  194.000000  \n",
       "mean    360.510309   239.974227    0.689298  \n",
       "std     443.529581   337.707625    0.409653  \n",
       "min       1.000000     0.000000    0.000000  \n",
       "25%      76.750000    37.500000    0.379399  \n",
       "50%     252.500000   133.500000    0.611618  \n",
       "75%     407.250000   270.750000    0.856552  \n",
       "max    2565.000000  1921.000000    2.000000  "
      ]
     },
     "execution_count": 52,
     "metadata": {},
     "output_type": "execute_result"
    }
   ],
   "source": [
    "mf.describe()"
   ]
  },
  {
   "cell_type": "code",
   "execution_count": 59,
   "metadata": {
    "collapsed": false
   },
   "outputs": [
    {
     "data": {
      "text/html": [
       "<div>\n",
       "<table border=\"1\" class=\"dataframe\">\n",
       "  <thead>\n",
       "    <tr style=\"text-align: right;\">\n",
       "      <th></th>\n",
       "      <th>red</th>\n",
       "      <th>brake</th>\n",
       "      <th>accel</th>\n",
       "      <th>steeringPositive</th>\n",
       "      <th>steeringNegative</th>\n",
       "      <th>segmentSize</th>\n",
       "      <th>sum</th>\n",
       "      <th>risk</th>\n",
       "    </tr>\n",
       "  </thead>\n",
       "  <tbody>\n",
       "    <tr>\n",
       "      <th>1568</th>\n",
       "      <td>0</td>\n",
       "      <td>0</td>\n",
       "      <td>1</td>\n",
       "      <td>0</td>\n",
       "      <td>1</td>\n",
       "      <td>1</td>\n",
       "      <td>2</td>\n",
       "      <td>2.000000</td>\n",
       "    </tr>\n",
       "    <tr>\n",
       "      <th>1287</th>\n",
       "      <td>1</td>\n",
       "      <td>0</td>\n",
       "      <td>0</td>\n",
       "      <td>1</td>\n",
       "      <td>0</td>\n",
       "      <td>1</td>\n",
       "      <td>2</td>\n",
       "      <td>2.000000</td>\n",
       "    </tr>\n",
       "    <tr>\n",
       "      <th>1249</th>\n",
       "      <td>1</td>\n",
       "      <td>0</td>\n",
       "      <td>0</td>\n",
       "      <td>1</td>\n",
       "      <td>0</td>\n",
       "      <td>1</td>\n",
       "      <td>2</td>\n",
       "      <td>2.000000</td>\n",
       "    </tr>\n",
       "    <tr>\n",
       "      <th>1252</th>\n",
       "      <td>1</td>\n",
       "      <td>3</td>\n",
       "      <td>10</td>\n",
       "      <td>16</td>\n",
       "      <td>0</td>\n",
       "      <td>16</td>\n",
       "      <td>30</td>\n",
       "      <td>1.875000</td>\n",
       "    </tr>\n",
       "    <tr>\n",
       "      <th>662</th>\n",
       "      <td>0</td>\n",
       "      <td>1</td>\n",
       "      <td>2</td>\n",
       "      <td>1</td>\n",
       "      <td>3</td>\n",
       "      <td>4</td>\n",
       "      <td>7</td>\n",
       "      <td>1.750000</td>\n",
       "    </tr>\n",
       "    <tr>\n",
       "      <th>625</th>\n",
       "      <td>1</td>\n",
       "      <td>2</td>\n",
       "      <td>2</td>\n",
       "      <td>0</td>\n",
       "      <td>0</td>\n",
       "      <td>3</td>\n",
       "      <td>5</td>\n",
       "      <td>1.666667</td>\n",
       "    </tr>\n",
       "    <tr>\n",
       "      <th>1332</th>\n",
       "      <td>3</td>\n",
       "      <td>0</td>\n",
       "      <td>11</td>\n",
       "      <td>0</td>\n",
       "      <td>22</td>\n",
       "      <td>22</td>\n",
       "      <td>36</td>\n",
       "      <td>1.636364</td>\n",
       "    </tr>\n",
       "    <tr>\n",
       "      <th>259</th>\n",
       "      <td>0</td>\n",
       "      <td>0</td>\n",
       "      <td>1</td>\n",
       "      <td>0</td>\n",
       "      <td>2</td>\n",
       "      <td>2</td>\n",
       "      <td>3</td>\n",
       "      <td>1.500000</td>\n",
       "    </tr>\n",
       "    <tr>\n",
       "      <th>1337</th>\n",
       "      <td>100</td>\n",
       "      <td>19</td>\n",
       "      <td>93</td>\n",
       "      <td>2</td>\n",
       "      <td>216</td>\n",
       "      <td>302</td>\n",
       "      <td>430</td>\n",
       "      <td>1.423841</td>\n",
       "    </tr>\n",
       "    <tr>\n",
       "      <th>632</th>\n",
       "      <td>0</td>\n",
       "      <td>98</td>\n",
       "      <td>202</td>\n",
       "      <td>1</td>\n",
       "      <td>511</td>\n",
       "      <td>574</td>\n",
       "      <td>812</td>\n",
       "      <td>1.414634</td>\n",
       "    </tr>\n",
       "  </tbody>\n",
       "</table>\n",
       "</div>"
      ],
      "text/plain": [
       "      red  brake  accel  steeringPositive  steeringNegative  segmentSize  sum  \\\n",
       "1568    0      0      1                 0                 1            1    2   \n",
       "1287    1      0      0                 1                 0            1    2   \n",
       "1249    1      0      0                 1                 0            1    2   \n",
       "1252    1      3     10                16                 0           16   30   \n",
       "662     0      1      2                 1                 3            4    7   \n",
       "625     1      2      2                 0                 0            3    5   \n",
       "1332    3      0     11                 0                22           22   36   \n",
       "259     0      0      1                 0                 2            2    3   \n",
       "1337  100     19     93                 2               216          302  430   \n",
       "632     0     98    202                 1               511          574  812   \n",
       "\n",
       "          risk  \n",
       "1568  2.000000  \n",
       "1287  2.000000  \n",
       "1249  2.000000  \n",
       "1252  1.875000  \n",
       "662   1.750000  \n",
       "625   1.666667  \n",
       "1332  1.636364  \n",
       "259   1.500000  \n",
       "1337  1.423841  \n",
       "632   1.414634  "
      ]
     },
     "execution_count": 59,
     "metadata": {},
     "output_type": "execute_result"
    }
   ],
   "source": [
    "mf.sort_values(\"risk\", ascending=False)[:10]"
   ]
  },
  {
   "cell_type": "markdown",
   "metadata": {},
   "source": [
    "# Save"
   ]
  },
  {
   "cell_type": "code",
   "execution_count": 83,
   "metadata": {
    "collapsed": false
   },
   "outputs": [],
   "source": [
    "pred = zip(mf.index, mf[\"risk\"])\n",
    "gridSize = len(df)\n",
    "result = np.zeros(gridSize)\n",
    "\n",
    "for index, risk in pred:\n",
    "    result[index] = risk\n",
    "    \n",
    "np.savetxt(targetDir + \"clusters8.csv\", result, delimiter=\",\", fmt=\"%d\")"
   ]
  },
  {
   "cell_type": "markdown",
   "metadata": {},
   "source": [
    "# Risk graph order by index"
   ]
  },
  {
   "cell_type": "code",
   "execution_count": 104,
   "metadata": {
    "collapsed": false,
    "scrolled": false
   },
   "outputs": [
    {
     "data": {
      "text/plain": [
       "<matplotlib.text.Text at 0x11502db50>"
      ]
     },
     "execution_count": 104,
     "metadata": {},
     "output_type": "execute_result"
    },
    {
     "data": {
      "image/png": "[encoded data removed]",
      "text/plain": [
       "<matplotlib.figure.Figure at 0x10f3b1b50>"
      ]
     },
     "metadata": {},
     "output_type": "display_data"
    }
   ],
   "source": [
    "plt.plot(result)\n",
    "plt.ylim(0, 3.0)\n",
    "plt.xlabel(\"Grid index\", size=\"medium\")\n",
    "plt.ylabel(\"Risk\", size=\"medium\")"
   ]
  },
  {
   "cell_type": "markdown",
   "metadata": {},
   "source": [
    "# Risk graph order by route"
   ]
  },
  {
   "cell_type": "code",
   "execution_count": null,
   "metadata": {
    "collapsed": true
   },
   "outputs": [],
   "source": []
  }
 ],
 "metadata": {
  "kernelspec": {
   "display_name": "Python 2",
   "language": "python",
   "name": "python2"
  },
  "language_info": {
   "codemirror_mode": {
    "name": "ipython",
    "version": 2
   },
   "file_extension": ".py",
   "mimetype": "text/x-python",
   "name": "python",
   "nbconvert_exporter": "python",
   "pygments_lexer": "ipython2",
   "version": "2.7.10"
  }
 },
 "nbformat": 4,
 "nbformat_minor": 1
}
