{
 "cells": [
  {
   "cell_type": "code",
   "execution_count": 2,
   "metadata": {
    "collapsed": false,
    "deletable": true,
    "editable": true
   },
   "outputs": [],
   "source": [
    "import pandas as pd"
   ]
  },
  {
   "cell_type": "code",
   "execution_count": 3,
   "metadata": {
    "collapsed": true
   },
   "outputs": [],
   "source": [
    "ROAD_TYPE = \"RoadType\"\n",
    "AHEAD_DISTANCE = \"Z_ABST_toAT[m]\""
   ]
  },
  {
   "cell_type": "code",
   "execution_count": 9,
   "metadata": {
    "collapsed": true,
    "deletable": true,
    "editable": true
   },
   "outputs": [],
   "source": [
    "df = pd.read_csv(\"../data/original/R5_L53E-DM05_2119_20161103140831.csv\")"
   ]
  },
  {
   "cell_type": "code",
   "execution_count": 5,
   "metadata": {
    "collapsed": false,
    "deletable": true,
    "editable": true,
    "scrolled": true
   },
   "outputs": [
    {
     "name": "stdout",
     "output_type": "stream",
     "text": [
      "Time\n",
      "YEAR[year]\n",
      "SEC[sec]\n",
      "MONTH[month]\n",
      "MINUTE[min]\n",
      "HOUR[hour]\n",
      "DAY[day]\n",
      "STAT\n",
      "GPS_S_NUM\n",
      "LON_GPS[deg]\n",
      "LAT_GPS[deg]\n",
      "ALT[m]\n",
      "GPS_TMP2\n",
      "GPS_TMP1\n",
      "ALTITUDE\n",
      "AZIMUTH\n",
      "SPEED\n",
      "VSP40_MET[km/h]\n",
      "VS_DISP\n",
      "VSO[km/h]\n",
      "V_APO[%]\n",
      "BRKSWTM\n",
      "PSS_02[bar]\n",
      "YAW_RATE_02[deg/s]\n",
      "TRANS_ACC_02[G]\n",
      "LONG_ACC_02[G]\n",
      "RawPedal_APOFS[%]\n",
      "TACHO[Tr/min]\n",
      "TTEPTD_ETRQDR[Nm]\n",
      "ErgonomicPedal_ATAPOST[%]\n",
      "TENG2[Nm]\n",
      "Z_ABST_toAT[m]\n",
      "TWN[degC]\n",
      "CURGPV\n",
      "TIM_FINE[mm3]\n",
      "Curve_20[Ѓгm]\n",
      "Curve_19[Ѓгm]\n",
      "Curve_18[Ѓгm]\n",
      "Curve_17[Ѓгm]\n",
      "Curve_16[Ѓгm]\n",
      "Curve_15[Ѓгm]\n",
      "Curve_14[Ѓгm]\n",
      "Curve_13[Ѓгm]\n",
      "Curve_12[Ѓгm]\n",
      "Curve_11[Ѓгm]\n",
      "Curve_10[Ѓгm]\n",
      "Curve_9[Ѓгm]\n",
      "Curve_8[Ѓгm]\n",
      "Curve_7[Ѓгm]\n",
      "Curve_6[Ѓгm]\n",
      "Curve_5[Ѓгm]\n",
      "Curve_4[Ѓгm]\n",
      "Curve_3[Ѓгm]\n",
      "Curve_2[Ѓгm]\n",
      "Curve_1[Ѓгm]\n",
      "Curve_0[Ѓгm]\n",
      "STRSPEED[deg/s]\n",
      "STRANGLE[deg]\n",
      "OWN_LOCATION\n",
      "D_BRANCH_FLG\n",
      "LINKF_FLG\n",
      "LINKF_DIST[m]\n",
      "OUTREADY\n",
      "OUT_DIST[m]\n",
      "GPSPositionSta\n",
      "TurningFlag\n",
      "MatchingSta\n",
      "DistTollgate[m]\n",
      "DistDivergence[m]\n",
      "RootGuidingFlag\n",
      "RootGuideSta\n",
      "RoadType\n",
      "LinkType\n",
      "InGuidingFlag\n",
      "INPREV[rpm]\n",
      "OUTREV[rpm]\n",
      "AscMode_Status\n",
      "NEXTGP\n",
      "CURGP\n",
      "HL_HIGH_REQ\n",
      "TURN_IND\n",
      "TAIL_L_REQ\n",
      "HL_LOW_REQ\n",
      "TENG[Nm]\n",
      "ACCACT\n",
      "ACC_ACT\n",
      "TECMD_S_upper[Nm]\n",
      "TECMD_S_lower[Nm]\n",
      "TECMD_M_upper[Nm]\n",
      "TECMD_M_lower[Nm]\n",
      "SET_DIST\n",
      "SET_VSP\n",
      "ASCDSW8\n",
      "ASCDSW7\n",
      "ASCDSW6\n",
      "ASCDSW5\n",
      "ASCDSW4\n",
      "ASCDSW3\n",
      "ASCDSW2\n",
      "ASCDSW1\n",
      "Dr_PTC[degC]\n",
      "Passenger_PTC[degC]\n",
      "Rear_PTC[degC]\n",
      "OutsideTemp[degC or degF]\n",
      "COMP_ACT\n",
      "AC_COMP_REQ\n",
      "OutsideTemp_AD[degC]\n",
      "EventSw[-]\n",
      "ErrorFrameCnt[Count/sec]\n",
      "BusLoad[%]\n",
      "ErrorFrameCnt[Count/sec].1\n",
      "BusLoad[%].1\n",
      "BaudRate[kbps]\n",
      "BytesToBeTransferred[byte]\n",
      "InternalTemp[degC]\n",
      "GXmin[m/s^2]\n",
      "GXmax[m/s^2]\n",
      "GXave[m/s^2]\n",
      "GYmin[m/s^2]\n",
      "GYmax[m/s^2]\n",
      "GYave[m/s^2]\n",
      "GZmin[m/s^2]\n",
      "GZmax[m/s^2]\n",
      "GZave[m/s^2]\n",
      "VC_LaneCount\n",
      "VC_GreenLamp\n",
      "VC_GreenLampDistance[m]\n",
      "VC_RedLamp\n",
      "VC_RedLampDistance[m]\n",
      "VC_RightLamp\n",
      "VC_RightLampDistance[m]\n",
      "VC_UpLamp\n",
      "VC_UpLampDistance[m]\n",
      "VC_LeftLamp\n",
      "VC_LeftLampDistance[m]\n",
      "VC_StopSign\n",
      "VC_StopSignDistance[m]\n",
      "VC_30Sign\n",
      "VC_30SignDistance[m]\n",
      "VC_50Sign\n",
      "VC_50SignDistance[m]\n",
      "VC_NotParkingSign\n",
      "VC_NotParkingSignDistance[m]\n",
      "VC_NotParkingAndStopSign\n",
      "VC_NotParkingAndStopSignDistance[m]\n",
      "VC_CarCount\n",
      "VC_Car\n",
      "VC_CarDistance[m]\n",
      "VC_CarBrake\n",
      "VC_CarBrakeDistance[m]\n",
      "VC_LeftCar\n",
      "VC_LeftCarDistance[m]\n",
      "VC_RightCar\n",
      "VC_RightCarDistance[m]\n",
      "VC_ManCycleCount\n",
      "VC_ManCycle\n",
      "VC_ManCycleDistance[m]\n",
      "VC_CrossCarCount\n",
      "VC_CrossCar\n",
      "VC_Heigth\n",
      "VC_Pitch\n",
      "VC_DistSlopeStart\n",
      "VC_DistSlopeEnd\n",
      "VC_Distance\n",
      "VC_Curvature\n",
      "VC_Signal[m]\n",
      "VC_RoadCls\n",
      "VC_NaviCls\n",
      "VC_LinkCls\n",
      "VC_Manager\n",
      "VC_Width\n",
      "VC_WideArea\n",
      "VC_Island\n",
      "VC_Bypass\n",
      "VC_CarOnly\n",
      "VC_RoadNo\n",
      "VC_RoadCode\n",
      "VC_LaneCount.1\n",
      "VC_NoPass\n",
      "VC_OneWay\n",
      "VC_ErrorDistance[m]\n",
      "a\n",
      "Jerk\n",
      "slope\n",
      "THW\n",
      "TTC\n",
      "RF\n",
      "DistSTOP\n",
      "AverageVelocity\n",
      "MaxSpeed\n",
      "MinSpeed\n",
      "CurveAverage\n",
      "TimeHeadway\n",
      "TimeToCollision\n",
      "RiskFactor\n"
     ]
    }
   ],
   "source": [
    "for c in df.columns:\n",
    "    print c"
   ]
  },
  {
   "cell_type": "code",
   "execution_count": 6,
   "metadata": {
    "collapsed": false,
    "deletable": true,
    "editable": true
   },
   "outputs": [
    {
     "data": {
      "text/plain": [
       "HOUR[hour]\n",
       "5     11480\n",
       "6      5620\n",
       "23      131\n",
       "dtype: int64"
      ]
     },
     "execution_count": 6,
     "metadata": {},
     "output_type": "execute_result"
    }
   ],
   "source": [
    "df[(df[\"VC_LaneCount.1\"] == 0)].groupby(\"HOUR[hour]\").size()"
   ]
  },
  {
   "cell_type": "code",
   "execution_count": 7,
   "metadata": {
    "collapsed": false,
    "deletable": true,
    "editable": true,
    "scrolled": true
   },
   "outputs": [
    {
     "data": {
      "text/plain": [
       "HOUR[hour]\n",
       "5     35139\n",
       "6     27771\n",
       "23      131\n",
       "dtype: int64"
      ]
     },
     "execution_count": 7,
     "metadata": {},
     "output_type": "execute_result"
    }
   ],
   "source": [
    "df.groupby(\"HOUR[hour]\").size()"
   ]
  },
  {
   "cell_type": "code",
   "execution_count": null,
   "metadata": {
    "collapsed": true
   },
   "outputs": [],
   "source": [
    "df."
   ]
  },
  {
   "cell_type": "code",
   "execution_count": 10,
   "metadata": {
    "collapsed": false
   },
   "outputs": [
    {
     "data": {
      "text/plain": [
       "RawPedal_APOFS[%]\n",
       "0.000     31584\n",
       "0.125        34\n",
       "0.250        41\n",
       "0.375        21\n",
       "0.500        75\n",
       "0.625        35\n",
       "0.750        61\n",
       "0.875        48\n",
       "1.000        62\n",
       "1.250        38\n",
       "1.375       127\n",
       "1.500        78\n",
       "1.625        70\n",
       "1.750        73\n",
       "1.875       155\n",
       "2.000        89\n",
       "2.125       110\n",
       "2.250        77\n",
       "2.500       121\n",
       "2.625        93\n",
       "2.750       110\n",
       "2.875        78\n",
       "3.000       158\n",
       "3.125        83\n",
       "3.250        87\n",
       "3.375        83\n",
       "3.500       106\n",
       "3.750        67\n",
       "3.875        69\n",
       "4.000        75\n",
       "          ...  \n",
       "30.250       18\n",
       "30.375       28\n",
       "30.500        9\n",
       "30.625        3\n",
       "30.875        4\n",
       "31.000       10\n",
       "31.125       30\n",
       "31.250        3\n",
       "31.375        2\n",
       "31.500        4\n",
       "31.625       15\n",
       "31.750        1\n",
       "31.875        4\n",
       "32.125        4\n",
       "32.250       32\n",
       "32.375       37\n",
       "32.500        3\n",
       "32.625        6\n",
       "32.750        1\n",
       "32.875        3\n",
       "33.000        2\n",
       "33.125       12\n",
       "33.375        2\n",
       "33.500        1\n",
       "33.625        3\n",
       "33.750        4\n",
       "33.875        2\n",
       "34.000        3\n",
       "34.125        1\n",
       "34.250        1\n",
       "dtype: int64"
      ]
     },
     "execution_count": 10,
     "metadata": {},
     "output_type": "execute_result"
    }
   ],
   "source": [
    "df.groupby(\"RawPedal_APOFS[%]\").size()"
   ]
  },
  {
   "cell_type": "code",
   "execution_count": null,
   "metadata": {
    "collapsed": true
   },
   "outputs": [],
   "source": [
    "df.groupby(\"\")"
   ]
  },
  {
   "cell_type": "code",
   "execution_count": null,
   "metadata": {
    "collapsed": true,
    "deletable": true,
    "editable": true
   },
   "outputs": [],
   "source": [
    "df = pd.read_csv(\"../data/input/R5_L53E-DM05_2119_20161102142424_comb.csv\")"
   ]
  },
  {
   "cell_type": "code",
   "execution_count": null,
   "metadata": {
    "collapsed": false,
    "deletable": true,
    "editable": true
   },
   "outputs": [],
   "source": [
    "df[(df[\"VC_LaneCount.1\"] == 0)].groupby(\"HOUR[hour]\").size()"
   ]
  },
  {
   "cell_type": "code",
   "execution_count": null,
   "metadata": {
    "collapsed": false,
    "deletable": true,
    "editable": true
   },
   "outputs": [],
   "source": [
    "df.groupby(\"HOUR[hour]\").size()"
   ]
  },
  {
   "cell_type": "code",
   "execution_count": null,
   "metadata": {
    "collapsed": true,
    "deletable": true,
    "editable": true
   },
   "outputs": [],
   "source": [
    "df = pd.read_csv(\"../data/input/R5_L53E-DM05_2119_20161104100017.csv\")"
   ]
  },
  {
   "cell_type": "code",
   "execution_count": null,
   "metadata": {
    "collapsed": false,
    "deletable": true,
    "editable": true
   },
   "outputs": [],
   "source": [
    "df[(df[\"VC_LaneCount.1\"] == 0)].groupby(\"HOUR[hour]\").size()"
   ]
  },
  {
   "cell_type": "code",
   "execution_count": null,
   "metadata": {
    "collapsed": true,
    "deletable": true,
    "editable": true
   },
   "outputs": [],
   "source": [
    "df = pd.read_csv(\"../data/input/R5_L53E-DM05_2119_20161104135907.csv\")"
   ]
  },
  {
   "cell_type": "code",
   "execution_count": null,
   "metadata": {
    "collapsed": false,
    "deletable": true,
    "editable": true
   },
   "outputs": [],
   "source": [
    "df[(df[\"VC_LaneCount.1\"] == 0)].groupby(\"HOUR[hour]\").size()"
   ]
  },
  {
   "cell_type": "code",
   "execution_count": null,
   "metadata": {
    "collapsed": true,
    "deletable": true,
    "editable": true
   },
   "outputs": [],
   "source": [
    "df = pd.read_csv(\"../data/input/R5_L53E-DM05_2119_20161104135907.csv\")"
   ]
  },
  {
   "cell_type": "code",
   "execution_count": null,
   "metadata": {
    "collapsed": false,
    "deletable": true,
    "editable": true
   },
   "outputs": [],
   "source": [
    "df[(df[\"VC_LaneCount.1\"] == 0)].groupby(\"HOUR[hour]\").size()"
   ]
  },
  {
   "cell_type": "code",
   "execution_count": null,
   "metadata": {
    "collapsed": true,
    "deletable": true,
    "editable": true
   },
   "outputs": [],
   "source": [
    "df = pd.read_csv(\"../data/input/R5_L53E-DM05_2119_20161107140346.csv\")"
   ]
  },
  {
   "cell_type": "code",
   "execution_count": null,
   "metadata": {
    "collapsed": false,
    "deletable": true,
    "editable": true
   },
   "outputs": [],
   "source": [
    "df[(df[\"VC_LaneCount.1\"] == 0)].groupby(\"HOUR[hour]\").size()"
   ]
  },
  {
   "cell_type": "code",
   "execution_count": null,
   "metadata": {
    "collapsed": false,
    "deletable": true,
    "editable": true,
    "scrolled": true
   },
   "outputs": [],
   "source": [
    "df[df[\"RawPedal_APOFS[%]\"] == -1]"
   ]
  },
  {
   "cell_type": "code",
   "execution_count": null,
   "metadata": {
    "collapsed": false,
    "deletable": true,
    "editable": true
   },
   "outputs": [],
   "source": [
    "df.groupby(\"HOUR[hour]\").size()"
   ]
  },
  {
   "cell_type": "code",
   "execution_count": null,
   "metadata": {
    "collapsed": false
   },
   "outputs": [],
   "source": [
    "df.groupby(\"RoadType\").agg(\"mean\")[\"SPEED\"]"
   ]
  },
  {
   "cell_type": "code",
   "execution_count": null,
   "metadata": {
    "collapsed": false
   },
   "outputs": [],
   "source": [
    "emptiness = df[(df[AHEAD_DISTANCE] > 90) | (df[AHEAD_DISTANCE] == 0)].groupby(ROAD_TYPE).size()  "
   ]
  },
  {
   "cell_type": "code",
   "execution_count": null,
   "metadata": {
    "collapsed": false
   },
   "outputs": [],
   "source": [
    "counts = df.groupby(ROAD_TYPE).size()"
   ]
  },
  {
   "cell_type": "code",
   "execution_count": null,
   "metadata": {
    "collapsed": false
   },
   "outputs": [],
   "source": [
    "jRoadType = [\"都市間高速\", \"都市高速\", \"有料道路\", \"国道\", \"県道\", \"主要地方道\", \"一般道1、一般道2、一般道3\", \"その他\"]"
   ]
  },
  {
   "cell_type": "code",
   "execution_count": null,
   "metadata": {
    "collapsed": false
   },
   "outputs": [],
   "source": [
    "for i in [0, 2, 3, 4, 5, 6, 7]:\n",
    "    emp, cnt = emptiness[i], counts[i]\n",
    "    print \"%d:\"%i, float(emp)/cnt"
   ]
  },
  {
   "cell_type": "code",
   "execution_count": null,
   "metadata": {
    "collapsed": false,
    "scrolled": true
   },
   "outputs": [],
   "source": [
    "df[[\"Time\", \"VC_ManCycleCount\"]][df[\"VC_ManCycleCount\"] > 0]"
   ]
  },
  {
   "cell_type": "code",
   "execution_count": null,
   "metadata": {
    "collapsed": false
   },
   "outputs": [],
   "source": [
    "lanes = df[df[\"VC_LaneCount.1\"] > 1].groupby(ROAD_TYPE).size()\n",
    "counts = df.groupby(ROAD_TYPE).size()\n",
    "for i in [0, 2, 3, 4, 5, 6]:\n",
    "    print \"%d:\"%i, float(lanes[i])/counts[i]"
   ]
  },
  {
   "cell_type": "code",
   "execution_count": null,
   "metadata": {
    "collapsed": false
   },
   "outputs": [],
   "source": [
    "AheadBrakeCounts = df.groupby(ROAD_TYPE).agg(\"sum\")[\"VC_CarBrake\"]\n",
    "for i in [0, 2, 3, 4, 5, 6, 7]:\n",
    "    print \"%d:\"%i, float(AheadBrakeCounts[i])/counts[i]"
   ]
  },
  {
   "cell_type": "code",
   "execution_count": null,
   "metadata": {
    "collapsed": false
   },
   "outputs": [],
   "source": [
    "mcCount = df.groupby(ROAD_TYPE).agg(\"sum\")[\"VC_ManCycleCount\"]\n",
    "for i in [0, 2, 3, 4, 5, 6, 7]:\n",
    "    print \"%d:\"%i, float(mcCount[i])/counts[i]"
   ]
  },
  {
   "cell_type": "code",
   "execution_count": null,
   "metadata": {
    "collapsed": false
   },
   "outputs": [],
   "source": [
    "df.groupby(ROAD_TYPE).agg(\"max\")[\"VC_ManCycleCount\"]"
   ]
  },
  {
   "cell_type": "code",
   "execution_count": null,
   "metadata": {
    "collapsed": false
   },
   "outputs": [],
   "source": [
    "df.loc[10, ROAD_TYPE]"
   ]
  },
  {
   "cell_type": "code",
   "execution_count": null,
   "metadata": {
    "collapsed": false
   },
   "outputs": [],
   "source": [
    "df.groupby(\"RawPedal_APOFS[%]\").size()"
   ]
  },
  {
   "cell_type": "code",
   "execution_count": null,
   "metadata": {
    "collapsed": false
   },
   "outputs": [],
   "source": [
    "df.groupby(\"BRKSWTM\").size()"
   ]
  },
  {
   "cell_type": "code",
   "execution_count": null,
   "metadata": {
    "collapsed": true
   },
   "outputs": [],
   "source": [
    "df = pd.read_csv(\"../data/original/\")"
   ]
  },
  {
   "cell_type": "code",
   "execution_count": null,
   "metadata": {
    "collapsed": true
   },
   "outputs": [],
   "source": []
  }
 ],
 "metadata": {
  "kernelspec": {
   "display_name": "Python 2",
   "language": "python",
   "name": "python2"
  },
  "language_info": {
   "codemirror_mode": {
    "name": "ipython",
    "version": 2
   },
   "file_extension": ".py",
   "mimetype": "text/x-python",
   "name": "python",
   "nbconvert_exporter": "python",
   "pygments_lexer": "ipython2",
   "version": "2.7.10"
  }
 },
 "nbformat": 4,
 "nbformat_minor": 2
}
