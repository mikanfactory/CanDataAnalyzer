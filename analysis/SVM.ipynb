{
 "cells": [
  {
   "cell_type": "markdown",
   "metadata": {
    "deletable": true,
    "editable": true
   },
   "source": [
    "# Apply SVM"
   ]
  },
  {
   "cell_type": "code",
   "execution_count": 1,
   "metadata": {
    "collapsed": false,
    "deletable": true,
    "editable": true
   },
   "outputs": [],
   "source": [
    "library(grid)\n",
    "library(rpart)\n",
    "library(rpart.plot)\n",
    "library(partykit)\n",
    "library(lattice)\n",
    "library(ggplot2)\n",
    "library(caret)\n",
    "library(e1071)"
   ]
  },
  {
   "cell_type": "code",
   "execution_count": 2,
   "metadata": {
    "collapsed": true,
    "deletable": true,
    "editable": true
   },
   "outputs": [],
   "source": [
    "set.seed(1)"
   ]
  },
  {
   "cell_type": "code",
   "execution_count": 3,
   "metadata": {
    "collapsed": false,
    "deletable": true,
    "editable": true
   },
   "outputs": [],
   "source": [
    "# invalids <- c('Time', 'Longitude', 'Latitude', 'Brake', 'Accel', 'flag', 'Curve100', 'Curve150', 'TimeHeadway')\n",
    "invalids <- c('Time', 'Longitude', 'Latitude', 'Brake', 'Accel', 'flag', 'Curve100', 'Curve150', 'RightLamp', 'LeftLamp', 'UpLamp')"
   ]
  },
  {
   "cell_type": "code",
   "execution_count": 4,
   "metadata": {
    "collapsed": false,
    "deletable": true,
    "editable": true
   },
   "outputs": [],
   "source": [
    "valuables <- c(\"RoadType\",\"CurveAverage\",\"Speed\",\"MaxSpeed\",\"RiskFactor\",\"Curve\",\"DistSignal\",\"Pitch\",\"AheadDistance\",\"AverageVelocity\",\"TimeToCollision\",\"AccelerationSpeed\",\"LaneCount\",\"Engine\",\"PathType\",\"SteeringAngle\")"
   ]
  },
  {
   "cell_type": "code",
   "execution_count": 5,
   "metadata": {
    "collapsed": true,
    "deletable": true,
    "editable": true
   },
   "outputs": [],
   "source": [
    "printf <- function(...) cat(sprintf(...))"
   ]
  },
  {
   "cell_type": "code",
   "execution_count": 6,
   "metadata": {
    "collapsed": false,
    "deletable": true,
    "editable": true
   },
   "outputs": [],
   "source": [
    "CV <- function(dfx, valuables, verbose=FALSE) {        \n",
    "    folds <- createFolds(dfx$flag)\n",
    "    \n",
    "    count <- 1\n",
    "    errs <- c()\n",
    "    reds <- c()\n",
    "    blues <- c()\n",
    "    for (ids in folds) {\n",
    "        train <- dfx[-ids, ]\n",
    "        test <- dfx[ids, ]         \n",
    "        fit <- svm(x=train[, valuables], y=train[, \"flag\"], data=train, type='C-classification', kernel='radial', gamma=0.3162278, cost=0.6309573)\n",
    "        # fit <- svm(x=train[, valuables], y=train[, \"flag\"], data=train, type='C-classification', kernel='radial', gamma=0.1, cost=1)\n",
    "        p <- predict(fit, newdata=test[, valuables])\n",
    "        \n",
    "        if (verbose) {            \n",
    "            printf(\"Fold%d\\n\", count)\n",
    "            result <- correctVsPredict(test, p)\n",
    "            reds <- c(reds, result[1])\n",
    "            blues <- c(blues, result[2])\n",
    "            count <- count + 1\n",
    "            printf(\"\\n\")\n",
    "        }\n",
    "        \n",
    "        nerr <- sum((p == test$flag) == FALSE)\n",
    "        errs <- c(errs, nerr / nrow(test))\n",
    "    }\n",
    "    \n",
    "    return(c(mean(errs), mean(reds), mean(blues)))\n",
    "}"
   ]
  },
  {
   "cell_type": "code",
   "execution_count": 7,
   "metadata": {
    "collapsed": false,
    "deletable": true,
    "editable": true
   },
   "outputs": [],
   "source": [
    "correctVsPredict <- function(test, predictedFlags) {    \n",
    "    # for All\n",
    "    # nTests <- nrow(test)\n",
    "    # nCorrectAll <- sum((predictedFlags == test$flag) == TRUE)\n",
    "    # printf(\"As fo All: correct/all = %d/%d = %f\\n\", nCorrectAll, nTests, nCorrectAll / nTests)\n",
    "    \n",
    "    # for Red\n",
    "    predictedRedRows <- test[predictedFlags == \"Red\", ]\n",
    "    nCorrectReds <- sum((predictedRedRows$flag == 'Red') == TRUE)\n",
    "    nPredictedReds <- nrow(predictedRedRows)\n",
    "    printf(\"As for Red: correct/predict = %d/%d = %f\\n\", nCorrectReds, nPredictedReds, nCorrectReds / nPredictedReds)\n",
    "    \n",
    "    # for Blue\n",
    "    predictedBlueRows <- test[predictedFlags == \"Blue\", ]\n",
    "    nCorrectBlues <- sum((predictedBlueRows$flag == 'Blue') == TRUE)\n",
    "    nPredictedBlues <- nrow(predictedBlueRows)\n",
    "    printf(\"As for Blue: correct/predict = %d/%d = %f\\n\", nCorrectBlues, nPredictedBlues, nCorrectBlues / nPredictedBlues)\n",
    "    \n",
    "    c(nCorrectReds/nPredictedReds, nCorrectBlues/nPredictedBlues)\n",
    "}"
   ]
  },
  {
   "cell_type": "code",
   "execution_count": 8,
   "metadata": {
    "collapsed": true,
    "deletable": true,
    "editable": true
   },
   "outputs": [],
   "source": [
    "printRedRatios <- function(dfx) {\n",
    "    nRed <- nrow(dfx[dfx$flag == \"Red\", ])\n",
    "    nAll <- nrow(dfx)\n",
    "    printf(\"Red/All = %d/%d = %f\\n\", nRed, nAll, nRed/nAll)\n",
    "    printf(\"1 - Red/All = %d/%d = %f\\n\", nAll - nRed, nAll, 1 - nRed/nAll)\n",
    "}"
   ]
  },
  {
   "cell_type": "code",
   "execution_count": 9,
   "metadata": {
    "collapsed": true,
    "deletable": true,
    "editable": true
   },
   "outputs": [],
   "source": [
    "createFormula <- function(invalids, allFeatures) {\n",
    "    isValidColumn <- function(x) ! x %in% invalids\n",
    "    \n",
    "    features <- Filter(isValidColumn, allFeatures)\n",
    "    return(paste(\"flag ~ \", paste(features, collapse=\" + \")))\n",
    "}"
   ]
  },
  {
   "cell_type": "markdown",
   "metadata": {
    "collapsed": true,
    "deletable": true,
    "editable": true
   },
   "source": [
    "# Predict Red"
   ]
  },
  {
   "cell_type": "code",
   "execution_count": 10,
   "metadata": {
    "collapsed": false,
    "deletable": true,
    "editable": true
   },
   "outputs": [],
   "source": [
    "df3 <- read.csv(\"../data/middle/sp4.csv\", stringsAsFactors=FALSE)"
   ]
  },
  {
   "cell_type": "code",
   "execution_count": 11,
   "metadata": {
    "collapsed": true,
    "deletable": true,
    "editable": true
   },
   "outputs": [],
   "source": [
    "df3$flag[df3$flag == \"RedA\"] <- \"Red\"\n",
    "df3$flag[df3$flag == \"RedB\"] <- \"Red\"\n",
    "df3$flag[df3$flag == \"BlueA\"] <- \"Blue\"\n",
    "df3$flag[df3$flag == \"BlueB\"] <- \"Blue\"\n",
    "df3$flag <- as.factor(df3$flag)"
   ]
  },
  {
   "cell_type": "code",
   "execution_count": 12,
   "metadata": {
    "collapsed": true,
    "deletable": true,
    "editable": true
   },
   "outputs": [],
   "source": [
    "set.seed(1)"
   ]
  },
  {
   "cell_type": "code",
   "execution_count": 13,
   "metadata": {
    "collapsed": false,
    "deletable": true,
    "editable": true,
    "scrolled": true
   },
   "outputs": [
    {
     "name": "stdout",
     "output_type": "stream",
     "text": [
      "Fold1\n",
      "As for Red: correct/predict = 49/70 = 0.700000\n",
      "As for Blue: correct/predict = 23/34 = 0.676471\n",
      "\n",
      "Fold2\n",
      "As for Red: correct/predict = 51/80 = 0.637500\n",
      "As for Blue: correct/predict = 16/25 = 0.640000\n",
      "\n",
      "Fold3\n",
      "As for Red: correct/predict = 52/87 = 0.597701\n",
      "As for Blue: correct/predict = 10/17 = 0.588235\n",
      "\n",
      "Fold4\n",
      "As for Red: correct/predict = 44/70 = 0.628571\n",
      "As for Blue: correct/predict = 19/34 = 0.558824\n",
      "\n",
      "Fold5\n",
      "As for Red: correct/predict = 51/80 = 0.637500\n",
      "As for Blue: correct/predict = 16/24 = 0.666667\n",
      "\n",
      "Fold6\n",
      "As for Red: correct/predict = 50/81 = 0.617284\n",
      "As for Blue: correct/predict = 14/23 = 0.608696\n",
      "\n",
      "Fold7\n",
      "As for Red: correct/predict = 45/67 = 0.671642\n",
      "As for Blue: correct/predict = 23/38 = 0.605263\n",
      "\n",
      "Fold8\n",
      "As for Red: correct/predict = 54/80 = 0.675000\n",
      "As for Blue: correct/predict = 19/24 = 0.791667\n",
      "\n",
      "Fold9\n",
      "As for Red: correct/predict = 50/80 = 0.625000\n",
      "As for Blue: correct/predict = 15/24 = 0.625000\n",
      "\n",
      "Fold10\n",
      "As for Red: correct/predict = 49/76 = 0.644737\n",
      "As for Blue: correct/predict = 18/28 = 0.642857\n",
      "\n",
      "Red/All = 593/1042 = 0.569098\n",
      "1 - Red/All = 449/1042 = 0.430902\n",
      "Red: Mean correct/predict = 0.643494\n",
      "Blue: Mean correct/predict = 0.640368\n",
      "CV value: 0.358929"
     ]
    }
   ],
   "source": [
    "result <- CV(df3, valuables, verbose=TRUE)\n",
    "printRedRatios(df3)\n",
    "printf(\"Red: Mean correct/predict = %f\\n\", result[2])\n",
    "printf(\"Blue: Mean correct/predict = %f\\n\", result[3])\n",
    "printf(\"CV value: %f\", result[1])"
   ]
  },
  {
   "cell_type": "code",
   "execution_count": null,
   "metadata": {
    "collapsed": true,
    "deletable": true,
    "editable": true
   },
   "outputs": [],
   "source": []
  },
  {
   "cell_type": "code",
   "execution_count": 14,
   "metadata": {
    "collapsed": true,
    "deletable": true,
    "editable": true
   },
   "outputs": [],
   "source": [
    "dfx <- df3[, c(valuables, \"flag\")]"
   ]
  },
  {
   "cell_type": "code",
   "execution_count": 16,
   "metadata": {
    "collapsed": false,
    "deletable": true,
    "editable": true
   },
   "outputs": [],
   "source": [
    "# gamma.lim <- 10^(seq(-5, 5, 0.1))\n",
    "cost.lim <- 10^(seq(-2, 2, 0.1))\n",
    "\n",
    "tune <- tune.svm(\n",
    "        flag ~ .,\n",
    "        data=dfx,\n",
    "        kernel='radial',\n",
    "        gamma = gamma.lim,\n",
    "        cost = cost.lim,\n",
    "        tunecontrol = tune.control(sampling = \"cross\", cross = 10)\n",
    ")"
   ]
  },
  {
   "cell_type": "code",
   "execution_count": null,
   "metadata": {
    "collapsed": false,
    "deletable": true,
    "editable": true
   },
   "outputs": [],
   "source": [
    "# summary(tune)"
   ]
  },
  {
   "cell_type": "markdown",
   "metadata": {
    "deletable": true,
    "editable": true
   },
   "source": [
    "Parameter tuning of ‘svm’:\n",
    "\n",
    "- sampling method: 5-fold cross validation   \n",
    "\n",
    "- best parameters:   \n",
    "     gamma      cost   \n",
    " 0.3162278 0.6309573   \n",
    "  \n",
    "- best performance: 0.3522037   \n"
   ]
  }
 ],
 "metadata": {
  "kernelspec": {
   "display_name": "R",
   "language": "R",
   "name": "ir"
  },
  "language_info": {
   "codemirror_mode": "r",
   "file_extension": ".r",
   "mimetype": "text/x-r-source",
   "name": "R",
   "pygments_lexer": "r",
   "version": "3.3.2"
  }
 },
 "nbformat": 4,
 "nbformat_minor": 1
}
