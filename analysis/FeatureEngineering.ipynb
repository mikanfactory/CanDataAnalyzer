{
 "cells": [
  {
   "cell_type": "code",
   "execution_count": 1,
   "metadata": {
    "collapsed": false
   },
   "outputs": [
    {
     "name": "stderr",
     "output_type": "stream",
     "text": [
      "/Users/shoji/go/src/github.com/mikanfactory/CanDataAnalyzer/venv/lib/python2.7/site-packages/matplotlib/font_manager.py:280: UserWarning: Matplotlib is building the font cache using fc-list. This may take a moment.\n",
      "  'Matplotlib is building the font cache using fc-list. '\n"
     ]
    }
   ],
   "source": [
    "%matplotlib inline"
   ]
  },
  {
   "cell_type": "code",
   "execution_count": 2,
   "metadata": {
    "collapsed": false
   },
   "outputs": [
    {
     "ename": "ImportError",
     "evalue": "No module named skbayes.mixture_models",
     "output_type": "error",
     "traceback": [
      "\u001b[0;31m---------------------------------------------------------------------------\u001b[0m",
      "\u001b[0;31mImportError\u001b[0m                               Traceback (most recent call last)",
      "\u001b[0;32m<ipython-input-2-51a1cfe60b96>\u001b[0m in \u001b[0;36m<module>\u001b[0;34m()\u001b[0m\n\u001b[1;32m      8\u001b[0m \u001b[0;32mimport\u001b[0m \u001b[0mpprint\u001b[0m\u001b[0;34m\u001b[0m\u001b[0m\n\u001b[1;32m      9\u001b[0m \u001b[0;32mfrom\u001b[0m \u001b[0msklearn\u001b[0m\u001b[0;34m.\u001b[0m\u001b[0mmixture\u001b[0m \u001b[0;32mimport\u001b[0m \u001b[0mBayesianGaussianMixture\u001b[0m\u001b[0;34m\u001b[0m\u001b[0m\n\u001b[0;32m---> 10\u001b[0;31m \u001b[0;32mfrom\u001b[0m \u001b[0mskbayes\u001b[0m\u001b[0;34m.\u001b[0m\u001b[0mmixture_models\u001b[0m \u001b[0;32mimport\u001b[0m \u001b[0mVBBMM\u001b[0m\u001b[0;34m\u001b[0m\u001b[0m\n\u001b[0m",
      "\u001b[0;31mImportError\u001b[0m: No module named skbayes.mixture_models"
     ]
    }
   ],
   "source": [
    "import numpy as np\n",
    "import pandas as pd\n",
    "import matplotlib.pyplot as plt\n",
    "import random\n",
    "import os\n",
    "import json\n",
    "import math\n",
    "import pprint\n",
    "from sklearn.mixture import BayesianGaussianMixture\n",
    "from skbayes.mixture_models import VBBMM"
   ]
  },
  {
   "cell_type": "code",
   "execution_count": null,
   "metadata": {
    "collapsed": true
   },
   "outputs": [],
   "source": [
    "import seaborn as sns\n",
    "sns.set(color_codes=True)"
   ]
  },
  {
   "cell_type": "code",
   "execution_count": null,
   "metadata": {
    "collapsed": false
   },
   "outputs": [],
   "source": [
    "target = \"../data/input/R5_L53E-DM05_2119_20161102142424_comb.csv\"\n",
    "df = pd.read_csv(target)"
   ]
  },
  {
   "cell_type": "code",
   "execution_count": null,
   "metadata": {
    "collapsed": true
   },
   "outputs": [],
   "source": [
    "len(df)"
   ]
  },
  {
   "cell_type": "code",
   "execution_count": 4,
   "metadata": {
    "collapsed": true
   },
   "outputs": [],
   "source": [
    "accel = \"RawPedal_APOFS[%]\"\n",
    "brake = \"BRKSWTM\"\n",
    "speed= \"VSO[km/h]\""
   ]
  },
  {
   "cell_type": "code",
   "execution_count": 5,
   "metadata": {
    "collapsed": true
   },
   "outputs": [],
   "source": [
    "c0 = \"Curve_0[\\xef\\xbf\\xbd\\xef\\xbf\\xbdm]\"\n",
    "c1 = \"Curve_1[\\xef\\xbf\\xbd\\xef\\xbf\\xbdm]\"\n",
    "c2 = \"Curve_2[\\xef\\xbf\\xbd\\xef\\xbf\\xbdm]\"\n",
    "c3 = \"Curve_3[\\xef\\xbf\\xbd\\xef\\xbf\\xbdm]\"\n",
    "c4 = \"Curve_4[\\xef\\xbf\\xbd\\xef\\xbf\\xbdm]\"\n",
    "c5 = \"Curve_5[\\xef\\xbf\\xbd\\xef\\xbf\\xbdm]\"\n",
    "c6 = \"Curve_6[\\xef\\xbf\\xbd\\xef\\xbf\\xbdm]\""
   ]
  },
  {
   "cell_type": "code",
   "execution_count": 6,
   "metadata": {
    "collapsed": false
   },
   "outputs": [],
   "source": [
    "RoadTypes = [\"都市間高速\", \"都市高速\", \"有料道路\", \"国道\", \"県道\", \"主要地方道\",  \"一般道1、一般道2、一般道3\", \"その他\"]\n",
    "HighSpeeds = [\"都市間高速\", \"都市高速\", \"有料道路\"]"
   ]
  },
  {
   "cell_type": "code",
   "execution_count": 7,
   "metadata": {
    "collapsed": false
   },
   "outputs": [
    {
     "data": {
      "text/plain": [
       "Int64Index([], dtype='int64')"
      ]
     },
     "execution_count": 7,
     "metadata": {},
     "output_type": "execute_result"
    }
   ],
   "source": [
    "df[df[\"RoadType\"].apply(lambda x: math.isnan(x))].index"
   ]
  },
  {
   "cell_type": "markdown",
   "metadata": {},
   "source": [
    "# Edit Average Velocity"
   ]
  },
  {
   "cell_type": "code",
   "execution_count": 8,
   "metadata": {
    "collapsed": true
   },
   "outputs": [],
   "source": [
    "avgVelocity = \"AverageVelocity\""
   ]
  },
  {
   "cell_type": "code",
   "execution_count": 9,
   "metadata": {
    "collapsed": true
   },
   "outputs": [],
   "source": [
    "df[avgVelocity] = 0"
   ]
  },
  {
   "cell_type": "code",
   "execution_count": 12,
   "metadata": {
    "collapsed": false
   },
   "outputs": [],
   "source": [
    "accelOffs = df[df[accel] == -1].index"
   ]
  },
  {
   "cell_type": "code",
   "execution_count": 18,
   "metadata": {
    "collapsed": false
   },
   "outputs": [],
   "source": [
    "starts = df.ix[accelOffs].index.map(lambda x: max(0, x-1000))"
   ]
  },
  {
   "cell_type": "code",
   "execution_count": 20,
   "metadata": {
    "collapsed": false
   },
   "outputs": [],
   "source": [
    "for start, stop in zip(starts, accelOffs):\n",
    "    df.loc[stop, avgVelocity] = df.ix[start:stop][speed].mean()"
   ]
  },
  {
   "cell_type": "code",
   "execution_count": 21,
   "metadata": {
    "collapsed": false
   },
   "outputs": [
    {
     "data": {
      "text/html": [
       "<div>\n",
       "<table border=\"1\" class=\"dataframe\">\n",
       "  <thead>\n",
       "    <tr style=\"text-align: right;\">\n",
       "      <th></th>\n",
       "      <th>Time</th>\n",
       "      <th>YEAR[year]</th>\n",
       "      <th>SEC[sec]</th>\n",
       "      <th>MONTH[month]</th>\n",
       "      <th>MINUTE[min]</th>\n",
       "      <th>HOUR[hour]</th>\n",
       "      <th>DAY[day]</th>\n",
       "      <th>STAT</th>\n",
       "      <th>GPS_S_NUM</th>\n",
       "      <th>LON_GPS[deg]</th>\n",
       "      <th>...</th>\n",
       "      <th>Jerk</th>\n",
       "      <th>slope</th>\n",
       "      <th>THW</th>\n",
       "      <th>TTC</th>\n",
       "      <th>RF</th>\n",
       "      <th>DistSTOP</th>\n",
       "      <th>AverageVelocity</th>\n",
       "      <th>MaxSpeed</th>\n",
       "      <th>MinSpeed</th>\n",
       "      <th>CurveAverage</th>\n",
       "    </tr>\n",
       "  </thead>\n",
       "  <tbody>\n",
       "    <tr>\n",
       "      <th>count</th>\n",
       "      <td>215.000000</td>\n",
       "      <td>215.0</td>\n",
       "      <td>215.000000</td>\n",
       "      <td>215.0</td>\n",
       "      <td>215.000000</td>\n",
       "      <td>215.000000</td>\n",
       "      <td>215.0</td>\n",
       "      <td>215.0</td>\n",
       "      <td>215.000000</td>\n",
       "      <td>215.000000</td>\n",
       "      <td>...</td>\n",
       "      <td>215.000000</td>\n",
       "      <td>215.000000</td>\n",
       "      <td>215.000000</td>\n",
       "      <td>215.000000</td>\n",
       "      <td>215.000000</td>\n",
       "      <td>215.000000</td>\n",
       "      <td>215.000000</td>\n",
       "      <td>215.00000</td>\n",
       "      <td>215.0</td>\n",
       "      <td>215.000000</td>\n",
       "    </tr>\n",
       "    <tr>\n",
       "      <th>mean</th>\n",
       "      <td>3293.651163</td>\n",
       "      <td>16.0</td>\n",
       "      <td>26.660465</td>\n",
       "      <td>11.0</td>\n",
       "      <td>29.674419</td>\n",
       "      <td>5.683721</td>\n",
       "      <td>2.0</td>\n",
       "      <td>0.0</td>\n",
       "      <td>8.097674</td>\n",
       "      <td>139.398241</td>\n",
       "      <td>...</td>\n",
       "      <td>0.266150</td>\n",
       "      <td>-1.290068</td>\n",
       "      <td>1.778668</td>\n",
       "      <td>33.110028</td>\n",
       "      <td>0.162352</td>\n",
       "      <td>1536.705049</td>\n",
       "      <td>25.198618</td>\n",
       "      <td>77.50214</td>\n",
       "      <td>0.0</td>\n",
       "      <td>184.330233</td>\n",
       "    </tr>\n",
       "    <tr>\n",
       "      <th>std</th>\n",
       "      <td>1867.991490</td>\n",
       "      <td>0.0</td>\n",
       "      <td>16.930343</td>\n",
       "      <td>0.0</td>\n",
       "      <td>17.720996</td>\n",
       "      <td>0.582024</td>\n",
       "      <td>0.0</td>\n",
       "      <td>0.0</td>\n",
       "      <td>2.467498</td>\n",
       "      <td>0.051107</td>\n",
       "      <td>...</td>\n",
       "      <td>0.949315</td>\n",
       "      <td>5.601274</td>\n",
       "      <td>1.207226</td>\n",
       "      <td>838.985706</td>\n",
       "      <td>1.452627</td>\n",
       "      <td>3973.608338</td>\n",
       "      <td>18.786103</td>\n",
       "      <td>24.48561</td>\n",
       "      <td>0.0</td>\n",
       "      <td>70.973918</td>\n",
       "    </tr>\n",
       "    <tr>\n",
       "      <th>min</th>\n",
       "      <td>46.600000</td>\n",
       "      <td>16.0</td>\n",
       "      <td>0.000000</td>\n",
       "      <td>11.0</td>\n",
       "      <td>0.000000</td>\n",
       "      <td>5.000000</td>\n",
       "      <td>2.0</td>\n",
       "      <td>0.0</td>\n",
       "      <td>0.000000</td>\n",
       "      <td>139.314082</td>\n",
       "      <td>...</td>\n",
       "      <td>-4.111111</td>\n",
       "      <td>-66.623377</td>\n",
       "      <td>0.000000</td>\n",
       "      <td>-4063.129412</td>\n",
       "      <td>-17.384074</td>\n",
       "      <td>3.551944</td>\n",
       "      <td>3.198615</td>\n",
       "      <td>16.31000</td>\n",
       "      <td>0.0</td>\n",
       "      <td>41.000000</td>\n",
       "    </tr>\n",
       "    <tr>\n",
       "      <th>25%</th>\n",
       "      <td>1788.750000</td>\n",
       "      <td>16.0</td>\n",
       "      <td>12.000000</td>\n",
       "      <td>11.0</td>\n",
       "      <td>15.500000</td>\n",
       "      <td>5.000000</td>\n",
       "      <td>2.0</td>\n",
       "      <td>0.0</td>\n",
       "      <td>8.000000</td>\n",
       "      <td>139.361563</td>\n",
       "      <td>...</td>\n",
       "      <td>-0.194444</td>\n",
       "      <td>-3.205183</td>\n",
       "      <td>1.044687</td>\n",
       "      <td>-36.594932</td>\n",
       "      <td>0.000000</td>\n",
       "      <td>109.048889</td>\n",
       "      <td>12.367428</td>\n",
       "      <td>51.41000</td>\n",
       "      <td>0.0</td>\n",
       "      <td>117.500000</td>\n",
       "    </tr>\n",
       "    <tr>\n",
       "      <th>50%</th>\n",
       "      <td>3177.600000</td>\n",
       "      <td>16.0</td>\n",
       "      <td>26.000000</td>\n",
       "      <td>11.0</td>\n",
       "      <td>32.000000</td>\n",
       "      <td>6.000000</td>\n",
       "      <td>2.0</td>\n",
       "      <td>0.0</td>\n",
       "      <td>9.000000</td>\n",
       "      <td>139.382225</td>\n",
       "      <td>...</td>\n",
       "      <td>0.333333</td>\n",
       "      <td>-0.418702</td>\n",
       "      <td>1.883270</td>\n",
       "      <td>-11.891205</td>\n",
       "      <td>0.335316</td>\n",
       "      <td>333.285833</td>\n",
       "      <td>22.132208</td>\n",
       "      <td>76.96000</td>\n",
       "      <td>0.0</td>\n",
       "      <td>209.000000</td>\n",
       "    </tr>\n",
       "    <tr>\n",
       "      <th>75%</th>\n",
       "      <td>4935.250000</td>\n",
       "      <td>16.0</td>\n",
       "      <td>40.000000</td>\n",
       "      <td>11.0</td>\n",
       "      <td>46.000000</td>\n",
       "      <td>6.000000</td>\n",
       "      <td>2.0</td>\n",
       "      <td>0.0</td>\n",
       "      <td>9.000000</td>\n",
       "      <td>139.462282</td>\n",
       "      <td>...</td>\n",
       "      <td>0.888889</td>\n",
       "      <td>0.833205</td>\n",
       "      <td>2.462282</td>\n",
       "      <td>0.000000</td>\n",
       "      <td>0.472840</td>\n",
       "      <td>759.413333</td>\n",
       "      <td>31.252498</td>\n",
       "      <td>106.19000</td>\n",
       "      <td>0.0</td>\n",
       "      <td>251.000000</td>\n",
       "    </tr>\n",
       "    <tr>\n",
       "      <th>max</th>\n",
       "      <td>6612.900000</td>\n",
       "      <td>16.0</td>\n",
       "      <td>59.000000</td>\n",
       "      <td>11.0</td>\n",
       "      <td>59.000000</td>\n",
       "      <td>7.000000</td>\n",
       "      <td>2.0</td>\n",
       "      <td>0.0</td>\n",
       "      <td>11.000000</td>\n",
       "      <td>139.484502</td>\n",
       "      <td>...</td>\n",
       "      <td>3.111111</td>\n",
       "      <td>8.924843</td>\n",
       "      <td>6.141965</td>\n",
       "      <td>9952.517647</td>\n",
       "      <td>4.787983</td>\n",
       "      <td>17293.401110</td>\n",
       "      <td>100.905365</td>\n",
       "      <td>106.19000</td>\n",
       "      <td>0.0</td>\n",
       "      <td>255.000000</td>\n",
       "    </tr>\n",
       "  </tbody>\n",
       "</table>\n",
       "<p>8 rows × 192 columns</p>\n",
       "</div>"
      ],
      "text/plain": [
       "              Time  YEAR[year]    SEC[sec]  MONTH[month]  MINUTE[min]  \\\n",
       "count   215.000000       215.0  215.000000         215.0   215.000000   \n",
       "mean   3293.651163        16.0   26.660465          11.0    29.674419   \n",
       "std    1867.991490         0.0   16.930343           0.0    17.720996   \n",
       "min      46.600000        16.0    0.000000          11.0     0.000000   \n",
       "25%    1788.750000        16.0   12.000000          11.0    15.500000   \n",
       "50%    3177.600000        16.0   26.000000          11.0    32.000000   \n",
       "75%    4935.250000        16.0   40.000000          11.0    46.000000   \n",
       "max    6612.900000        16.0   59.000000          11.0    59.000000   \n",
       "\n",
       "       HOUR[hour]  DAY[day]   STAT   GPS_S_NUM  LON_GPS[deg]      ...       \\\n",
       "count  215.000000     215.0  215.0  215.000000    215.000000      ...        \n",
       "mean     5.683721       2.0    0.0    8.097674    139.398241      ...        \n",
       "std      0.582024       0.0    0.0    2.467498      0.051107      ...        \n",
       "min      5.000000       2.0    0.0    0.000000    139.314082      ...        \n",
       "25%      5.000000       2.0    0.0    8.000000    139.361563      ...        \n",
       "50%      6.000000       2.0    0.0    9.000000    139.382225      ...        \n",
       "75%      6.000000       2.0    0.0    9.000000    139.462282      ...        \n",
       "max      7.000000       2.0    0.0   11.000000    139.484502      ...        \n",
       "\n",
       "             Jerk       slope         THW          TTC          RF  \\\n",
       "count  215.000000  215.000000  215.000000   215.000000  215.000000   \n",
       "mean     0.266150   -1.290068    1.778668    33.110028    0.162352   \n",
       "std      0.949315    5.601274    1.207226   838.985706    1.452627   \n",
       "min     -4.111111  -66.623377    0.000000 -4063.129412  -17.384074   \n",
       "25%     -0.194444   -3.205183    1.044687   -36.594932    0.000000   \n",
       "50%      0.333333   -0.418702    1.883270   -11.891205    0.335316   \n",
       "75%      0.888889    0.833205    2.462282     0.000000    0.472840   \n",
       "max      3.111111    8.924843    6.141965  9952.517647    4.787983   \n",
       "\n",
       "           DistSTOP  AverageVelocity   MaxSpeed  MinSpeed  CurveAverage  \n",
       "count    215.000000       215.000000  215.00000     215.0    215.000000  \n",
       "mean    1536.705049        25.198618   77.50214       0.0    184.330233  \n",
       "std     3973.608338        18.786103   24.48561       0.0     70.973918  \n",
       "min        3.551944         3.198615   16.31000       0.0     41.000000  \n",
       "25%      109.048889        12.367428   51.41000       0.0    117.500000  \n",
       "50%      333.285833        22.132208   76.96000       0.0    209.000000  \n",
       "75%      759.413333        31.252498  106.19000       0.0    251.000000  \n",
       "max    17293.401110       100.905365  106.19000       0.0    255.000000  \n",
       "\n",
       "[8 rows x 192 columns]"
      ]
     },
     "execution_count": 21,
     "metadata": {},
     "output_type": "execute_result"
    }
   ],
   "source": [
    "df[df[accel] == -1].describe()"
   ]
  },
  {
   "cell_type": "markdown",
   "metadata": {},
   "source": [
    "# Edit Curve Radius"
   ]
  },
  {
   "cell_type": "code",
   "execution_count": 14,
   "metadata": {
    "collapsed": true
   },
   "outputs": [],
   "source": [
    "curveAve = \"CurveAverage\""
   ]
  },
  {
   "cell_type": "code",
   "execution_count": 15,
   "metadata": {
    "collapsed": true
   },
   "outputs": [],
   "source": [
    "df[curveAve] = 0"
   ]
  },
  {
   "cell_type": "code",
   "execution_count": 16,
   "metadata": {
    "collapsed": true
   },
   "outputs": [],
   "source": [
    "highSpeeds = df[\"RoadType\"].apply(lambda x: x in [0.0, 2.0, 3.0])"
   ]
  },
  {
   "cell_type": "code",
   "execution_count": 17,
   "metadata": {
    "collapsed": false
   },
   "outputs": [],
   "source": [
    "df.loc[highSpeeds, curveAve] = df[highSpeeds].apply(lambda x: min(x[c0], x[c1], x[c2], x[c3], x[c4], x[c5], x[c6]), axis=1)"
   ]
  },
  {
   "cell_type": "code",
   "execution_count": 18,
   "metadata": {
    "collapsed": true
   },
   "outputs": [],
   "source": [
    "lowSpeeds = df[\"RoadType\"].apply(lambda x: x not in [0.0, 2.0, 3.0])"
   ]
  },
  {
   "cell_type": "code",
   "execution_count": 19,
   "metadata": {
    "collapsed": true
   },
   "outputs": [],
   "source": [
    "df.loc[lowSpeeds, curveAve] = df[lowSpeeds].apply(lambda x: min(x[c0], x[c1], x[c2], x[c3], x[c4]), axis=1)"
   ]
  },
  {
   "cell_type": "markdown",
   "metadata": {
    "collapsed": true
   },
   "source": [
    "# Update csv"
   ]
  },
  {
   "cell_type": "code",
   "execution_count": 25,
   "metadata": {
    "collapsed": true
   },
   "outputs": [],
   "source": [
    "integers = ['BRKSWTM', 'RawPedal_APOFS[%]', 'D_BRANCH_FLG', 'RoadType', 'VC_GreenLamp', 'VC_RedLamp', 'VC_RightLamp', 'VC_UpLamp', 'VC_LeftLamp', 'VC_StopSign', 'VC_30Sign', 'VC_50Sign', 'VC_CarBrake', 'VC_LeftCar', 'VC_ManCycleCount', 'VC_ManCycle', 'VC_LaneCount.1']"
   ]
  },
  {
   "cell_type": "code",
   "execution_count": 45,
   "metadata": {
    "collapsed": false
   },
   "outputs": [],
   "source": [
    "df[\"RoadType\"] = df[\"RoadType\"].fillna(-1)"
   ]
  },
  {
   "cell_type": "code",
   "execution_count": 46,
   "metadata": {
    "collapsed": true
   },
   "outputs": [],
   "source": [
    "df[\"D_BRANCH_FLG\"] = df[\"D_BRANCH_FLG\"].fillna(-1)"
   ]
  },
  {
   "cell_type": "code",
   "execution_count": 48,
   "metadata": {
    "collapsed": true
   },
   "outputs": [],
   "source": [
    "df[integers] = df[integers].astype(int)"
   ]
  }
 ],
 "metadata": {
  "kernelspec": {
   "display_name": "Python 2",
   "language": "python",
   "name": "python2"
  },
  "language_info": {
   "codemirror_mode": {
    "name": "ipython",
    "version": 2
   },
   "file_extension": ".py",
   "mimetype": "text/x-python",
   "name": "python",
   "nbconvert_exporter": "python",
   "pygments_lexer": "ipython2",
   "version": "2.7.10"
  }
 },
 "nbformat": 4,
 "nbformat_minor": 1
}
