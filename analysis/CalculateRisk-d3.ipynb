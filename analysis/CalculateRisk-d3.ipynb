{
 "cells": [
  {
   "cell_type": "code",
   "execution_count": 1,
   "metadata": {
    "collapsed": false
   },
   "outputs": [
    {
     "name": "stderr",
     "output_type": "stream",
     "text": [
      "/Users/shoji/go/src/github.com/mikanfactory/CanDataAnalyzer/venv/lib/python2.7/site-packages/matplotlib/font_manager.py:273: UserWarning: Matplotlib is building the font cache using fc-list. This may take a moment.\n",
      "  warnings.warn('Matplotlib is building the font cache using fc-list. This may take a moment.')\n"
     ]
    }
   ],
   "source": [
    "%matplotlib inline"
   ]
  },
  {
   "cell_type": "code",
   "execution_count": 2,
   "metadata": {
    "collapsed": true
   },
   "outputs": [],
   "source": [
    "import numpy as np\n",
    "import pandas as pd\n",
    "import matplotlib.pyplot as plt\n",
    "from sklearn.mixture import BayesianGaussianMixture\n",
    "from skbayes.mixture_models import VBBMM"
   ]
  },
  {
   "cell_type": "code",
   "execution_count": 3,
   "metadata": {
    "collapsed": true
   },
   "outputs": [],
   "source": [
    "import seaborn as sns\n",
    "sns.set(color_codes=True)"
   ]
  },
  {
   "cell_type": "markdown",
   "metadata": {},
   "source": [
    "# Preprocess"
   ]
  },
  {
   "cell_type": "code",
   "execution_count": 24,
   "metadata": {
    "collapsed": true
   },
   "outputs": [],
   "source": [
    "targetDir = \"../data/output/d3/Result/\"\n",
    "speedDir = \"../data/output/d3/Speed/\"\n",
    "brakeDir = \"../data/output/d3/Brake/\"\n",
    "accelDIr = \"../data/output/d3/Accel/\"\n",
    "steeringPositiveDir = \"../data/output/d3/SteeringPositive/\"\n",
    "steeringNegativeDir = \"../data/output/d3/SteeringNegative/\"\n",
    "aheadDistance = \"../data/output/d3/AheadDistance/\"\n",
    "relativitySpeed = \"../data/output/d3/AheadRelativitySpeed/\"\n",
    "segmentDir = \"../data/output/d3/SegmentSize/\""
   ]
  },
  {
   "cell_type": "code",
   "execution_count": 25,
   "metadata": {
    "collapsed": false
   },
   "outputs": [],
   "source": [
    "df1 = pd.read_csv(speedDir + \"result.csv\")\n",
    "df2 = pd.read_csv(brakeDir + \"result.csv\")\n",
    "df2.columns = [[\"id\", \"brake\"]]\n",
    "df3 = pd.read_csv(accelDIr + \"result.csv\")\n",
    "df3.columns = [[\"id\", \"accel\"]]\n",
    "df4 = pd.read_csv(steeringPositiveDir + \"result.csv\")\n",
    "df4.columns = [[\"id\", \"steeringPositive\"]]\n",
    "df5 = pd.read_csv(steeringNegativeDir + \"result.csv\")\n",
    "df5.columns = [[\"id\", \"steeringNegative\"]]\n",
    "df6 = pd.read_csv(aheadDistance + \"result.csv\")\n",
    "df6.columns = [[\"id\", \"near\", \"intermediate\", \"far\"]]\n",
    "df7 = pd.read_csv(relativitySpeed + \"result.csv\")\n",
    "df7.columns = [[\"id\", \"moderate\", \"slower\", \"little faster\", \"faster\"]]\n",
    "df8 = pd.read_csv(segmentDir + \"result.csv\")\n",
    "df8.columns = [[\"id\", \"segmentSize\"]]"
   ]
  },
  {
   "cell_type": "code",
   "execution_count": 26,
   "metadata": {
    "collapsed": false
   },
   "outputs": [],
   "source": [
    "df = pd.merge(pd.merge(pd.merge(pd.merge(df1, df2, on=\"id\"), df3, on=\"id\"), df4, on=\"id\"), df5, on=\"id\")\n",
    "df = pd.merge(pd.merge(df, df6, on=\"id\"), df7, on=\"id\")\n",
    "df = pd.merge(df, df8, on=\"id\")\n",
    "gridSize = len(df)"
   ]
  },
  {
   "cell_type": "code",
   "execution_count": 35,
   "metadata": {
    "collapsed": false
   },
   "outputs": [],
   "source": [
    "mf = df[df['red'] + df['yellow'] + df['green'] + df['stop'] > 0]\n",
    "mf = mf[[\"red\", \"yellow\", \"green\", \"stop\", \"brake\", \"accel\", \"steeringPositive\",  \"steeringNegative\", \"near\", \"intermediate\", \"far\", \"moderate\", \"slower\", \"little faster\", \"faster\", \"segmentSize\"]]\n",
    "mf.columns = [\"red\", \"yellow\", \"green\", \"slow\", \"brake\", \"accel\", \"steeringPositive\",  \"steeringNegative\", \"near\", \"intermediate\", \"far\", \"moderate\", \"slower\", \"little faster\", \"faster\", \"segmentSize\"]"
   ]
  },
  {
   "cell_type": "markdown",
   "metadata": {},
   "source": [
    "# Summation of all statuses and calculate risk"
   ]
  },
  {
   "cell_type": "code",
   "execution_count": 36,
   "metadata": {
    "collapsed": false
   },
   "outputs": [],
   "source": [
    "rows = mf.as_matrix()\n",
    "mf[\"sum\"] = [np.sum(rows[i][:-1]) for i in range(len(rows))]"
   ]
  },
  {
   "cell_type": "code",
   "execution_count": 37,
   "metadata": {
    "collapsed": false
   },
   "outputs": [],
   "source": [
    "mf[\"risk\"] = mf[\"sum\"] / mf[\"segmentSize\"]"
   ]
  },
  {
   "cell_type": "code",
   "execution_count": 38,
   "metadata": {
    "collapsed": false,
    "scrolled": true
   },
   "outputs": [
    {
     "data": {
      "text/html": [
       "<div>\n",
       "<table border=\"1\" class=\"dataframe\">\n",
       "  <thead>\n",
       "    <tr style=\"text-align: right;\">\n",
       "      <th></th>\n",
       "      <th>red</th>\n",
       "      <th>yellow</th>\n",
       "      <th>green</th>\n",
       "      <th>slow</th>\n",
       "      <th>brake</th>\n",
       "      <th>accel</th>\n",
       "      <th>steeringPositive</th>\n",
       "      <th>steeringNegative</th>\n",
       "      <th>near</th>\n",
       "      <th>intermediate</th>\n",
       "      <th>far</th>\n",
       "      <th>moderate</th>\n",
       "      <th>slower</th>\n",
       "      <th>little faster</th>\n",
       "      <th>faster</th>\n",
       "      <th>segmentSize</th>\n",
       "      <th>sum</th>\n",
       "      <th>risk</th>\n",
       "    </tr>\n",
       "  </thead>\n",
       "  <tbody>\n",
       "    <tr>\n",
       "      <th>count</th>\n",
       "      <td>104.000000</td>\n",
       "      <td>104.000000</td>\n",
       "      <td>104.000000</td>\n",
       "      <td>104.000000</td>\n",
       "      <td>104.000000</td>\n",
       "      <td>104.000000</td>\n",
       "      <td>104.000000</td>\n",
       "      <td>104.000000</td>\n",
       "      <td>104.000000</td>\n",
       "      <td>104.000000</td>\n",
       "      <td>104.000000</td>\n",
       "      <td>104.000000</td>\n",
       "      <td>104.000000</td>\n",
       "      <td>104.000000</td>\n",
       "      <td>104.000000</td>\n",
       "      <td>104.000000</td>\n",
       "      <td>104.000000</td>\n",
       "      <td>104.000000</td>\n",
       "    </tr>\n",
       "    <tr>\n",
       "      <th>mean</th>\n",
       "      <td>2.721154</td>\n",
       "      <td>1.692308</td>\n",
       "      <td>0.567308</td>\n",
       "      <td>1.240385</td>\n",
       "      <td>2.028846</td>\n",
       "      <td>1.490385</td>\n",
       "      <td>0.884615</td>\n",
       "      <td>0.557692</td>\n",
       "      <td>1.048077</td>\n",
       "      <td>1.836538</td>\n",
       "      <td>1.298077</td>\n",
       "      <td>3.163462</td>\n",
       "      <td>0.105769</td>\n",
       "      <td>0.365385</td>\n",
       "      <td>0.557692</td>\n",
       "      <td>4.192308</td>\n",
       "      <td>19.557692</td>\n",
       "      <td>4.533680</td>\n",
       "    </tr>\n",
       "    <tr>\n",
       "      <th>std</th>\n",
       "      <td>3.281181</td>\n",
       "      <td>1.520583</td>\n",
       "      <td>1.121411</td>\n",
       "      <td>5.162402</td>\n",
       "      <td>3.454157</td>\n",
       "      <td>3.075096</td>\n",
       "      <td>2.815725</td>\n",
       "      <td>2.715747</td>\n",
       "      <td>4.569591</td>\n",
       "      <td>1.712947</td>\n",
       "      <td>1.694536</td>\n",
       "      <td>5.411442</td>\n",
       "      <td>0.438848</td>\n",
       "      <td>0.683476</td>\n",
       "      <td>0.953552</td>\n",
       "      <td>5.532037</td>\n",
       "      <td>27.874834</td>\n",
       "      <td>1.917484</td>\n",
       "    </tr>\n",
       "    <tr>\n",
       "      <th>min</th>\n",
       "      <td>0.000000</td>\n",
       "      <td>0.000000</td>\n",
       "      <td>0.000000</td>\n",
       "      <td>0.000000</td>\n",
       "      <td>0.000000</td>\n",
       "      <td>0.000000</td>\n",
       "      <td>0.000000</td>\n",
       "      <td>0.000000</td>\n",
       "      <td>0.000000</td>\n",
       "      <td>0.000000</td>\n",
       "      <td>0.000000</td>\n",
       "      <td>0.000000</td>\n",
       "      <td>0.000000</td>\n",
       "      <td>0.000000</td>\n",
       "      <td>0.000000</td>\n",
       "      <td>1.000000</td>\n",
       "      <td>3.000000</td>\n",
       "      <td>3.000000</td>\n",
       "    </tr>\n",
       "    <tr>\n",
       "      <th>25%</th>\n",
       "      <td>1.000000</td>\n",
       "      <td>0.000000</td>\n",
       "      <td>0.000000</td>\n",
       "      <td>0.000000</td>\n",
       "      <td>0.000000</td>\n",
       "      <td>0.000000</td>\n",
       "      <td>0.000000</td>\n",
       "      <td>0.000000</td>\n",
       "      <td>0.000000</td>\n",
       "      <td>0.000000</td>\n",
       "      <td>0.000000</td>\n",
       "      <td>1.000000</td>\n",
       "      <td>0.000000</td>\n",
       "      <td>0.000000</td>\n",
       "      <td>0.000000</td>\n",
       "      <td>2.000000</td>\n",
       "      <td>8.000000</td>\n",
       "      <td>3.000000</td>\n",
       "    </tr>\n",
       "    <tr>\n",
       "      <th>50%</th>\n",
       "      <td>2.000000</td>\n",
       "      <td>2.000000</td>\n",
       "      <td>0.000000</td>\n",
       "      <td>0.000000</td>\n",
       "      <td>1.000000</td>\n",
       "      <td>1.000000</td>\n",
       "      <td>0.000000</td>\n",
       "      <td>0.000000</td>\n",
       "      <td>0.000000</td>\n",
       "      <td>2.000000</td>\n",
       "      <td>1.000000</td>\n",
       "      <td>2.000000</td>\n",
       "      <td>0.000000</td>\n",
       "      <td>0.000000</td>\n",
       "      <td>0.000000</td>\n",
       "      <td>3.000000</td>\n",
       "      <td>11.000000</td>\n",
       "      <td>4.000000</td>\n",
       "    </tr>\n",
       "    <tr>\n",
       "      <th>75%</th>\n",
       "      <td>3.000000</td>\n",
       "      <td>3.000000</td>\n",
       "      <td>0.250000</td>\n",
       "      <td>0.000000</td>\n",
       "      <td>3.000000</td>\n",
       "      <td>2.000000</td>\n",
       "      <td>1.000000</td>\n",
       "      <td>0.000000</td>\n",
       "      <td>0.000000</td>\n",
       "      <td>3.000000</td>\n",
       "      <td>2.000000</td>\n",
       "      <td>3.000000</td>\n",
       "      <td>0.000000</td>\n",
       "      <td>1.000000</td>\n",
       "      <td>1.000000</td>\n",
       "      <td>4.000000</td>\n",
       "      <td>21.250000</td>\n",
       "      <td>5.333333</td>\n",
       "    </tr>\n",
       "    <tr>\n",
       "      <th>max</th>\n",
       "      <td>30.000000</td>\n",
       "      <td>5.000000</td>\n",
       "      <td>4.000000</td>\n",
       "      <td>36.000000</td>\n",
       "      <td>30.000000</td>\n",
       "      <td>28.000000</td>\n",
       "      <td>27.000000</td>\n",
       "      <td>27.000000</td>\n",
       "      <td>36.000000</td>\n",
       "      <td>8.000000</td>\n",
       "      <td>13.000000</td>\n",
       "      <td>39.000000</td>\n",
       "      <td>3.000000</td>\n",
       "      <td>4.000000</td>\n",
       "      <td>4.000000</td>\n",
       "      <td>41.000000</td>\n",
       "      <td>222.000000</td>\n",
       "      <td>13.000000</td>\n",
       "    </tr>\n",
       "  </tbody>\n",
       "</table>\n",
       "</div>"
      ],
      "text/plain": [
       "              red      yellow       green        slow       brake       accel  \\\n",
       "count  104.000000  104.000000  104.000000  104.000000  104.000000  104.000000   \n",
       "mean     2.721154    1.692308    0.567308    1.240385    2.028846    1.490385   \n",
       "std      3.281181    1.520583    1.121411    5.162402    3.454157    3.075096   \n",
       "min      0.000000    0.000000    0.000000    0.000000    0.000000    0.000000   \n",
       "25%      1.000000    0.000000    0.000000    0.000000    0.000000    0.000000   \n",
       "50%      2.000000    2.000000    0.000000    0.000000    1.000000    1.000000   \n",
       "75%      3.000000    3.000000    0.250000    0.000000    3.000000    2.000000   \n",
       "max     30.000000    5.000000    4.000000   36.000000   30.000000   28.000000   \n",
       "\n",
       "       steeringPositive  steeringNegative        near  intermediate  \\\n",
       "count        104.000000        104.000000  104.000000    104.000000   \n",
       "mean           0.884615          0.557692    1.048077      1.836538   \n",
       "std            2.815725          2.715747    4.569591      1.712947   \n",
       "min            0.000000          0.000000    0.000000      0.000000   \n",
       "25%            0.000000          0.000000    0.000000      0.000000   \n",
       "50%            0.000000          0.000000    0.000000      2.000000   \n",
       "75%            1.000000          0.000000    0.000000      3.000000   \n",
       "max           27.000000         27.000000   36.000000      8.000000   \n",
       "\n",
       "              far    moderate      slower  little faster      faster  \\\n",
       "count  104.000000  104.000000  104.000000     104.000000  104.000000   \n",
       "mean     1.298077    3.163462    0.105769       0.365385    0.557692   \n",
       "std      1.694536    5.411442    0.438848       0.683476    0.953552   \n",
       "min      0.000000    0.000000    0.000000       0.000000    0.000000   \n",
       "25%      0.000000    1.000000    0.000000       0.000000    0.000000   \n",
       "50%      1.000000    2.000000    0.000000       0.000000    0.000000   \n",
       "75%      2.000000    3.000000    0.000000       1.000000    1.000000   \n",
       "max     13.000000   39.000000    3.000000       4.000000    4.000000   \n",
       "\n",
       "       segmentSize         sum        risk  \n",
       "count   104.000000  104.000000  104.000000  \n",
       "mean      4.192308   19.557692    4.533680  \n",
       "std       5.532037   27.874834    1.917484  \n",
       "min       1.000000    3.000000    3.000000  \n",
       "25%       2.000000    8.000000    3.000000  \n",
       "50%       3.000000   11.000000    4.000000  \n",
       "75%       4.000000   21.250000    5.333333  \n",
       "max      41.000000  222.000000   13.000000  "
      ]
     },
     "execution_count": 38,
     "metadata": {},
     "output_type": "execute_result"
    }
   ],
   "source": [
    "mf.describe()"
   ]
  },
  {
   "cell_type": "code",
   "execution_count": 39,
   "metadata": {
    "collapsed": false,
    "scrolled": true
   },
   "outputs": [],
   "source": [
    "top5 = mf.sort_values(\"risk\", ascending=False)[:5]\n",
    "top5 = top5[[\"red\", \"brake\", \"accel\", \"steeringNegative\", \"steeringPositive\", \"sum\"]]\n",
    "\n",
    "for key in top5.columns:\n",
    "    if key == \"sum\":\n",
    "        continue\n",
    "    top5[key] = top5[key] / top5[\"sum\"]\n",
    "\n",
    "top5 = top5[[\"red\", \"brake\", \"accel\", \"steeringNegative\", \"steeringPositive\"]]\n",
    "top5Index = top5.index"
   ]
  },
  {
   "cell_type": "code",
   "execution_count": 40,
   "metadata": {
    "collapsed": false,
    "scrolled": true
   },
   "outputs": [
    {
     "data": {
      "text/plain": [
       "Int64Index([55, 94, 213, 441, 682], dtype='int64')"
      ]
     },
     "execution_count": 40,
     "metadata": {},
     "output_type": "execute_result"
    }
   ],
   "source": [
    "top5Index"
   ]
  },
  {
   "cell_type": "markdown",
   "metadata": {},
   "source": [
    "# Save"
   ]
  },
  {
   "cell_type": "code",
   "execution_count": 41,
   "metadata": {
    "collapsed": false
   },
   "outputs": [],
   "source": [
    "pred = zip(mf.index, mf[\"risk\"])\n",
    "result = np.zeros(gridSize)\n",
    "\n",
    "for index, risk in pred:\n",
    "    result[index] = risk\n",
    "    \n",
    "np.savetxt(targetDir + \"risks.csv\", result, delimiter=\",\", fmt=\"%f\")"
   ]
  },
  {
   "cell_type": "markdown",
   "metadata": {},
   "source": [
    "# Risk graph order by index"
   ]
  },
  {
   "cell_type": "code",
   "execution_count": 44,
   "metadata": {
    "collapsed": false
   },
   "outputs": [
    {
     "data": {
      "text/plain": [
       "<matplotlib.text.Text at 0x10e5e0b50>"
      ]
     },
     "execution_count": 44,
     "metadata": {},
     "output_type": "execute_result"
    },
    {
     "data": {
      "image/png": "[encoded data removed]",
      "text/plain": [
       "<matplotlib.figure.Figure at 0x10e174950>"
      ]
     },
     "metadata": {},
     "output_type": "display_data"
    }
   ],
   "source": [
    "plt.plot(result)\n",
    "plt.ylim(0, 14)\n",
    "plt.xlabel(\"Grid index\", size=\"medium\")\n",
    "plt.ylabel(\"Risk\", size=\"medium\")"
   ]
  },
  {
   "cell_type": "code",
   "execution_count": null,
   "metadata": {
    "collapsed": true
   },
   "outputs": [],
   "source": []
  }
 ],
 "metadata": {
  "kernelspec": {
   "display_name": "Python 2",
   "language": "python",
   "name": "python2"
  },
  "language_info": {
   "codemirror_mode": {
    "name": "ipython",
    "version": 2
   },
   "file_extension": ".py",
   "mimetype": "text/x-python",
   "name": "python",
   "nbconvert_exporter": "python",
   "pygments_lexer": "ipython2",
   "version": "2.7.10"
  }
 },
 "nbformat": 4,
 "nbformat_minor": 1
}
