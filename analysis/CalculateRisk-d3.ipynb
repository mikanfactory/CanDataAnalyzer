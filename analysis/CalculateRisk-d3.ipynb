{
 "cells": [
  {
   "cell_type": "code",
   "execution_count": 1,
   "metadata": {
    "collapsed": false
   },
   "outputs": [
    {
     "name": "stderr",
     "output_type": "stream",
     "text": [
      "/Users/shoji/go/src/github.com/mikanfactory/CanDataAnalyzer/venv/lib/python2.7/site-packages/matplotlib/font_manager.py:273: UserWarning: Matplotlib is building the font cache using fc-list. This may take a moment.\n",
      "  warnings.warn('Matplotlib is building the font cache using fc-list. This may take a moment.')\n"
     ]
    }
   ],
   "source": [
    "%matplotlib inline"
   ]
  },
  {
   "cell_type": "code",
   "execution_count": 40,
   "metadata": {
    "collapsed": true
   },
   "outputs": [],
   "source": [
    "import numpy as np\n",
    "import pandas as pd\n",
    "import matplotlib.pyplot as plt\n",
    "from sklearn.mixture import BayesianGaussianMixture\n",
    "from skbayes.mixture_models import VBBMM"
   ]
  },
  {
   "cell_type": "code",
   "execution_count": 41,
   "metadata": {
    "collapsed": true
   },
   "outputs": [],
   "source": [
    "import seaborn as sns\n",
    "sns.set(color_codes=True)"
   ]
  },
  {
   "cell_type": "markdown",
   "metadata": {},
   "source": [
    "# Preprocess"
   ]
  },
  {
   "cell_type": "code",
   "execution_count": 42,
   "metadata": {
    "collapsed": true
   },
   "outputs": [],
   "source": [
    "targetDir = \"../data/output/d3/Result/\"\n",
    "speedDir = \"../data/output/d3/Speed/\"\n",
    "brakeDir = \"../data/output/d3/Brake/\"\n",
    "accelDIr = \"../data/output/d3/Accel/\"\n",
    "steeringPositiveDir = \"../data/output/d3/SteeringPositive/\"\n",
    "steeringNegativeDir = \"../data/output/d3/SteeringNegative/\"\n",
    "aheadDistance = \"../data/output/d3/AheadDistance/\"\n",
    "relativitySpeed = \"../data/output/d3/AheadRelativitySpeed/\"\n",
    "segmentDir = \"../data/output/d3/SegmentSize/\""
   ]
  },
  {
   "cell_type": "code",
   "execution_count": 79,
   "metadata": {
    "collapsed": false
   },
   "outputs": [],
   "source": [
    "fname = \"result.csv\"\n",
    "df1 = pd.read_csv(speedDir + fname)\n",
    "df2 = pd.read_csv(brakeDir + fname)\n",
    "df2.columns = [[\"id\", \"brake\"]]\n",
    "df3 = pd.read_csv(accelDIr + fname)\n",
    "df3.columns = [[\"id\", \"accel\"]]\n",
    "df4 = pd.read_csv(steeringPositiveDir + fname)\n",
    "df4.columns = [[\"id\", \"steeringPositive\"]]\n",
    "df5 = pd.read_csv(steeringNegativeDir + fname)\n",
    "df5.columns = [[\"id\", \"steeringNegative\"]]\n",
    "df6 = pd.read_csv(aheadDistance + fname)\n",
    "df6.columns = [[\"id\", \"near\", \"intermediate\", \"far\"]]\n",
    "df7 = pd.read_csv(relativitySpeed + fname)\n",
    "df7.columns = [[\"id\", \"moderate\", \"slower\", \"little faster\", \"faster\"]]\n",
    "df8 = pd.read_csv(segmentDir + fname)\n",
    "df8.columns = [[\"id\", \"segmentSize\"]]"
   ]
  },
  {
   "cell_type": "code",
   "execution_count": 80,
   "metadata": {
    "collapsed": false
   },
   "outputs": [],
   "source": [
    "df = pd.merge(pd.merge(pd.merge(pd.merge(df1, df2, on=\"id\"), df3, on=\"id\"), df4, on=\"id\"), df5, on=\"id\")\n",
    "df = pd.merge(pd.merge(df, df6, on=\"id\"), df7, on=\"id\")\n",
    "df = pd.merge(df, df8, on=\"id\")\n",
    "gridSize = len(df)"
   ]
  },
  {
   "cell_type": "code",
   "execution_count": 104,
   "metadata": {
    "collapsed": false
   },
   "outputs": [],
   "source": [
    "features =  [\"red\", \"brake\", \"accel\", \"steeringPositive\",  \"steeringNegative\", \"near\", \"intermediate\", \"moderate\", \"little faster\", \"faster\", \"segmentSize\"]"
   ]
  },
  {
   "cell_type": "code",
   "execution_count": 105,
   "metadata": {
    "collapsed": false
   },
   "outputs": [],
   "source": [
    "mf = df[df['red'] + df['yellow'] + df['green'] + df['stop'] > 0]\n",
    "mf = mf[features]\n",
    "mf.columns = features"
   ]
  },
  {
   "cell_type": "markdown",
   "metadata": {},
   "source": [
    "# Summation of all statuses and calculate risk"
   ]
  },
  {
   "cell_type": "code",
   "execution_count": 106,
   "metadata": {
    "collapsed": false
   },
   "outputs": [],
   "source": [
    "rows = mf.as_matrix()\n",
    "mf[\"sum\"] = [np.sum(rows[i][:-1]) for i in range(len(rows))]"
   ]
  },
  {
   "cell_type": "code",
   "execution_count": 107,
   "metadata": {
    "collapsed": false
   },
   "outputs": [],
   "source": [
    "mf[\"risk\"] = mf[\"sum\"] / mf[\"segmentSize\"]"
   ]
  },
  {
   "cell_type": "code",
   "execution_count": 108,
   "metadata": {
    "collapsed": false,
    "scrolled": false
   },
   "outputs": [
    {
     "data": {
      "text/html": [
       "<div>\n",
       "<table border=\"1\" class=\"dataframe\">\n",
       "  <thead>\n",
       "    <tr style=\"text-align: right;\">\n",
       "      <th></th>\n",
       "      <th>red</th>\n",
       "      <th>brake</th>\n",
       "      <th>accel</th>\n",
       "      <th>steeringPositive</th>\n",
       "      <th>steeringNegative</th>\n",
       "      <th>near</th>\n",
       "      <th>intermediate</th>\n",
       "      <th>moderate</th>\n",
       "      <th>little faster</th>\n",
       "      <th>faster</th>\n",
       "      <th>segmentSize</th>\n",
       "      <th>sum</th>\n",
       "      <th>risk</th>\n",
       "    </tr>\n",
       "  </thead>\n",
       "  <tbody>\n",
       "    <tr>\n",
       "      <th>count</th>\n",
       "      <td>104.000000</td>\n",
       "      <td>104.000000</td>\n",
       "      <td>104.000000</td>\n",
       "      <td>104.000000</td>\n",
       "      <td>104.000000</td>\n",
       "      <td>104.000000</td>\n",
       "      <td>104.000000</td>\n",
       "      <td>104.000000</td>\n",
       "      <td>104.000000</td>\n",
       "      <td>104.000000</td>\n",
       "      <td>104.000000</td>\n",
       "      <td>104.000000</td>\n",
       "      <td>104.000000</td>\n",
       "    </tr>\n",
       "    <tr>\n",
       "      <th>mean</th>\n",
       "      <td>0.692308</td>\n",
       "      <td>2.028846</td>\n",
       "      <td>1.490385</td>\n",
       "      <td>0.884615</td>\n",
       "      <td>0.557692</td>\n",
       "      <td>1.048077</td>\n",
       "      <td>1.836538</td>\n",
       "      <td>3.163462</td>\n",
       "      <td>0.365385</td>\n",
       "      <td>0.557692</td>\n",
       "      <td>4.192308</td>\n",
       "      <td>12.625000</td>\n",
       "      <td>2.954585</td>\n",
       "    </tr>\n",
       "    <tr>\n",
       "      <th>std</th>\n",
       "      <td>0.956094</td>\n",
       "      <td>3.454157</td>\n",
       "      <td>3.075096</td>\n",
       "      <td>2.815725</td>\n",
       "      <td>2.715747</td>\n",
       "      <td>4.569591</td>\n",
       "      <td>1.712947</td>\n",
       "      <td>5.411442</td>\n",
       "      <td>0.683476</td>\n",
       "      <td>0.953552</td>\n",
       "      <td>5.532037</td>\n",
       "      <td>19.339174</td>\n",
       "      <td>1.376337</td>\n",
       "    </tr>\n",
       "    <tr>\n",
       "      <th>min</th>\n",
       "      <td>0.000000</td>\n",
       "      <td>0.000000</td>\n",
       "      <td>0.000000</td>\n",
       "      <td>0.000000</td>\n",
       "      <td>0.000000</td>\n",
       "      <td>0.000000</td>\n",
       "      <td>0.000000</td>\n",
       "      <td>0.000000</td>\n",
       "      <td>0.000000</td>\n",
       "      <td>0.000000</td>\n",
       "      <td>1.000000</td>\n",
       "      <td>2.000000</td>\n",
       "      <td>1.333333</td>\n",
       "    </tr>\n",
       "    <tr>\n",
       "      <th>25%</th>\n",
       "      <td>0.000000</td>\n",
       "      <td>0.000000</td>\n",
       "      <td>0.000000</td>\n",
       "      <td>0.000000</td>\n",
       "      <td>0.000000</td>\n",
       "      <td>0.000000</td>\n",
       "      <td>0.000000</td>\n",
       "      <td>1.000000</td>\n",
       "      <td>0.000000</td>\n",
       "      <td>0.000000</td>\n",
       "      <td>2.000000</td>\n",
       "      <td>5.000000</td>\n",
       "      <td>2.000000</td>\n",
       "    </tr>\n",
       "    <tr>\n",
       "      <th>50%</th>\n",
       "      <td>0.000000</td>\n",
       "      <td>1.000000</td>\n",
       "      <td>1.000000</td>\n",
       "      <td>0.000000</td>\n",
       "      <td>0.000000</td>\n",
       "      <td>0.000000</td>\n",
       "      <td>2.000000</td>\n",
       "      <td>2.000000</td>\n",
       "      <td>0.000000</td>\n",
       "      <td>0.000000</td>\n",
       "      <td>3.000000</td>\n",
       "      <td>7.000000</td>\n",
       "      <td>2.500000</td>\n",
       "    </tr>\n",
       "    <tr>\n",
       "      <th>75%</th>\n",
       "      <td>1.250000</td>\n",
       "      <td>3.000000</td>\n",
       "      <td>2.000000</td>\n",
       "      <td>1.000000</td>\n",
       "      <td>0.000000</td>\n",
       "      <td>0.000000</td>\n",
       "      <td>3.000000</td>\n",
       "      <td>3.000000</td>\n",
       "      <td>1.000000</td>\n",
       "      <td>1.000000</td>\n",
       "      <td>4.000000</td>\n",
       "      <td>14.000000</td>\n",
       "      <td>3.500000</td>\n",
       "    </tr>\n",
       "    <tr>\n",
       "      <th>max</th>\n",
       "      <td>3.000000</td>\n",
       "      <td>30.000000</td>\n",
       "      <td>28.000000</td>\n",
       "      <td>27.000000</td>\n",
       "      <td>27.000000</td>\n",
       "      <td>36.000000</td>\n",
       "      <td>8.000000</td>\n",
       "      <td>39.000000</td>\n",
       "      <td>4.000000</td>\n",
       "      <td>4.000000</td>\n",
       "      <td>41.000000</td>\n",
       "      <td>165.000000</td>\n",
       "      <td>9.000000</td>\n",
       "    </tr>\n",
       "  </tbody>\n",
       "</table>\n",
       "</div>"
      ],
      "text/plain": [
       "              red       brake       accel  steeringPositive  steeringNegative  \\\n",
       "count  104.000000  104.000000  104.000000        104.000000        104.000000   \n",
       "mean     0.692308    2.028846    1.490385          0.884615          0.557692   \n",
       "std      0.956094    3.454157    3.075096          2.815725          2.715747   \n",
       "min      0.000000    0.000000    0.000000          0.000000          0.000000   \n",
       "25%      0.000000    0.000000    0.000000          0.000000          0.000000   \n",
       "50%      0.000000    1.000000    1.000000          0.000000          0.000000   \n",
       "75%      1.250000    3.000000    2.000000          1.000000          0.000000   \n",
       "max      3.000000   30.000000   28.000000         27.000000         27.000000   \n",
       "\n",
       "             near  intermediate    moderate  little faster      faster  \\\n",
       "count  104.000000    104.000000  104.000000     104.000000  104.000000   \n",
       "mean     1.048077      1.836538    3.163462       0.365385    0.557692   \n",
       "std      4.569591      1.712947    5.411442       0.683476    0.953552   \n",
       "min      0.000000      0.000000    0.000000       0.000000    0.000000   \n",
       "25%      0.000000      0.000000    1.000000       0.000000    0.000000   \n",
       "50%      0.000000      2.000000    2.000000       0.000000    0.000000   \n",
       "75%      0.000000      3.000000    3.000000       1.000000    1.000000   \n",
       "max     36.000000      8.000000   39.000000       4.000000    4.000000   \n",
       "\n",
       "       segmentSize         sum        risk  \n",
       "count   104.000000  104.000000  104.000000  \n",
       "mean      4.192308   12.625000    2.954585  \n",
       "std       5.532037   19.339174    1.376337  \n",
       "min       1.000000    2.000000    1.333333  \n",
       "25%       2.000000    5.000000    2.000000  \n",
       "50%       3.000000    7.000000    2.500000  \n",
       "75%       4.000000   14.000000    3.500000  \n",
       "max      41.000000  165.000000    9.000000  "
      ]
     },
     "execution_count": 108,
     "metadata": {},
     "output_type": "execute_result"
    }
   ],
   "source": [
    "mf.describe()"
   ]
  },
  {
   "cell_type": "code",
   "execution_count": 109,
   "metadata": {
    "collapsed": false
   },
   "outputs": [
    {
     "data": {
      "text/html": [
       "<div>\n",
       "<table border=\"1\" class=\"dataframe\">\n",
       "  <thead>\n",
       "    <tr style=\"text-align: right;\">\n",
       "      <th></th>\n",
       "      <th>red</th>\n",
       "      <th>brake</th>\n",
       "      <th>accel</th>\n",
       "      <th>steeringPositive</th>\n",
       "      <th>steeringNegative</th>\n",
       "      <th>near</th>\n",
       "      <th>intermediate</th>\n",
       "      <th>moderate</th>\n",
       "      <th>little faster</th>\n",
       "      <th>faster</th>\n",
       "      <th>segmentSize</th>\n",
       "      <th>sum</th>\n",
       "      <th>risk</th>\n",
       "    </tr>\n",
       "  </thead>\n",
       "  <tbody>\n",
       "    <tr>\n",
       "      <th>55</th>\n",
       "      <td>0</td>\n",
       "      <td>3</td>\n",
       "      <td>2</td>\n",
       "      <td>1</td>\n",
       "      <td>1</td>\n",
       "      <td>0</td>\n",
       "      <td>1</td>\n",
       "      <td>1</td>\n",
       "      <td>0</td>\n",
       "      <td>0</td>\n",
       "      <td>1</td>\n",
       "      <td>9</td>\n",
       "      <td>9.000000</td>\n",
       "    </tr>\n",
       "    <tr>\n",
       "      <th>94</th>\n",
       "      <td>0</td>\n",
       "      <td>2</td>\n",
       "      <td>2</td>\n",
       "      <td>1</td>\n",
       "      <td>1</td>\n",
       "      <td>0</td>\n",
       "      <td>1</td>\n",
       "      <td>1</td>\n",
       "      <td>0</td>\n",
       "      <td>0</td>\n",
       "      <td>1</td>\n",
       "      <td>8</td>\n",
       "      <td>8.000000</td>\n",
       "    </tr>\n",
       "    <tr>\n",
       "      <th>213</th>\n",
       "      <td>0</td>\n",
       "      <td>5</td>\n",
       "      <td>3</td>\n",
       "      <td>2</td>\n",
       "      <td>0</td>\n",
       "      <td>0</td>\n",
       "      <td>2</td>\n",
       "      <td>1</td>\n",
       "      <td>1</td>\n",
       "      <td>0</td>\n",
       "      <td>2</td>\n",
       "      <td>14</td>\n",
       "      <td>7.000000</td>\n",
       "    </tr>\n",
       "    <tr>\n",
       "      <th>441</th>\n",
       "      <td>0</td>\n",
       "      <td>7</td>\n",
       "      <td>5</td>\n",
       "      <td>3</td>\n",
       "      <td>3</td>\n",
       "      <td>1</td>\n",
       "      <td>3</td>\n",
       "      <td>2</td>\n",
       "      <td>2</td>\n",
       "      <td>0</td>\n",
       "      <td>4</td>\n",
       "      <td>26</td>\n",
       "      <td>6.500000</td>\n",
       "    </tr>\n",
       "    <tr>\n",
       "      <th>682</th>\n",
       "      <td>0</td>\n",
       "      <td>30</td>\n",
       "      <td>28</td>\n",
       "      <td>27</td>\n",
       "      <td>27</td>\n",
       "      <td>25</td>\n",
       "      <td>1</td>\n",
       "      <td>26</td>\n",
       "      <td>0</td>\n",
       "      <td>1</td>\n",
       "      <td>27</td>\n",
       "      <td>165</td>\n",
       "      <td>6.111111</td>\n",
       "    </tr>\n",
       "    <tr>\n",
       "      <th>56</th>\n",
       "      <td>0</td>\n",
       "      <td>6</td>\n",
       "      <td>6</td>\n",
       "      <td>5</td>\n",
       "      <td>3</td>\n",
       "      <td>4</td>\n",
       "      <td>1</td>\n",
       "      <td>5</td>\n",
       "      <td>1</td>\n",
       "      <td>0</td>\n",
       "      <td>6</td>\n",
       "      <td>31</td>\n",
       "      <td>5.166667</td>\n",
       "    </tr>\n",
       "    <tr>\n",
       "      <th>134</th>\n",
       "      <td>0</td>\n",
       "      <td>6</td>\n",
       "      <td>4</td>\n",
       "      <td>3</td>\n",
       "      <td>1</td>\n",
       "      <td>0</td>\n",
       "      <td>2</td>\n",
       "      <td>0</td>\n",
       "      <td>1</td>\n",
       "      <td>3</td>\n",
       "      <td>4</td>\n",
       "      <td>20</td>\n",
       "      <td>5.000000</td>\n",
       "    </tr>\n",
       "    <tr>\n",
       "      <th>252</th>\n",
       "      <td>0</td>\n",
       "      <td>4</td>\n",
       "      <td>3</td>\n",
       "      <td>2</td>\n",
       "      <td>0</td>\n",
       "      <td>1</td>\n",
       "      <td>2</td>\n",
       "      <td>3</td>\n",
       "      <td>0</td>\n",
       "      <td>0</td>\n",
       "      <td>3</td>\n",
       "      <td>15</td>\n",
       "      <td>5.000000</td>\n",
       "    </tr>\n",
       "    <tr>\n",
       "      <th>685</th>\n",
       "      <td>0</td>\n",
       "      <td>4</td>\n",
       "      <td>3</td>\n",
       "      <td>2</td>\n",
       "      <td>0</td>\n",
       "      <td>0</td>\n",
       "      <td>3</td>\n",
       "      <td>2</td>\n",
       "      <td>1</td>\n",
       "      <td>0</td>\n",
       "      <td>3</td>\n",
       "      <td>15</td>\n",
       "      <td>5.000000</td>\n",
       "    </tr>\n",
       "    <tr>\n",
       "      <th>341</th>\n",
       "      <td>0</td>\n",
       "      <td>5</td>\n",
       "      <td>5</td>\n",
       "      <td>4</td>\n",
       "      <td>4</td>\n",
       "      <td>3</td>\n",
       "      <td>1</td>\n",
       "      <td>3</td>\n",
       "      <td>3</td>\n",
       "      <td>0</td>\n",
       "      <td>6</td>\n",
       "      <td>28</td>\n",
       "      <td>4.666667</td>\n",
       "    </tr>\n",
       "    <tr>\n",
       "      <th>337</th>\n",
       "      <td>0</td>\n",
       "      <td>4</td>\n",
       "      <td>3</td>\n",
       "      <td>2</td>\n",
       "      <td>0</td>\n",
       "      <td>0</td>\n",
       "      <td>2</td>\n",
       "      <td>2</td>\n",
       "      <td>1</td>\n",
       "      <td>0</td>\n",
       "      <td>3</td>\n",
       "      <td>14</td>\n",
       "      <td>4.666667</td>\n",
       "    </tr>\n",
       "    <tr>\n",
       "      <th>246</th>\n",
       "      <td>0</td>\n",
       "      <td>6</td>\n",
       "      <td>4</td>\n",
       "      <td>2</td>\n",
       "      <td>1</td>\n",
       "      <td>0</td>\n",
       "      <td>5</td>\n",
       "      <td>5</td>\n",
       "      <td>0</td>\n",
       "      <td>0</td>\n",
       "      <td>5</td>\n",
       "      <td>23</td>\n",
       "      <td>4.600000</td>\n",
       "    </tr>\n",
       "    <tr>\n",
       "      <th>174</th>\n",
       "      <td>0</td>\n",
       "      <td>2</td>\n",
       "      <td>2</td>\n",
       "      <td>1</td>\n",
       "      <td>0</td>\n",
       "      <td>0</td>\n",
       "      <td>2</td>\n",
       "      <td>1</td>\n",
       "      <td>1</td>\n",
       "      <td>0</td>\n",
       "      <td>2</td>\n",
       "      <td>9</td>\n",
       "      <td>4.500000</td>\n",
       "    </tr>\n",
       "    <tr>\n",
       "      <th>684</th>\n",
       "      <td>0</td>\n",
       "      <td>4</td>\n",
       "      <td>3</td>\n",
       "      <td>2</td>\n",
       "      <td>1</td>\n",
       "      <td>0</td>\n",
       "      <td>3</td>\n",
       "      <td>0</td>\n",
       "      <td>0</td>\n",
       "      <td>4</td>\n",
       "      <td>4</td>\n",
       "      <td>17</td>\n",
       "      <td>4.250000</td>\n",
       "    </tr>\n",
       "    <tr>\n",
       "      <th>378</th>\n",
       "      <td>0</td>\n",
       "      <td>10</td>\n",
       "      <td>7</td>\n",
       "      <td>3</td>\n",
       "      <td>1</td>\n",
       "      <td>2</td>\n",
       "      <td>8</td>\n",
       "      <td>5</td>\n",
       "      <td>4</td>\n",
       "      <td>1</td>\n",
       "      <td>10</td>\n",
       "      <td>41</td>\n",
       "      <td>4.100000</td>\n",
       "    </tr>\n",
       "  </tbody>\n",
       "</table>\n",
       "</div>"
      ],
      "text/plain": [
       "     red  brake  accel  steeringPositive  steeringNegative  near  \\\n",
       "55     0      3      2                 1                 1     0   \n",
       "94     0      2      2                 1                 1     0   \n",
       "213    0      5      3                 2                 0     0   \n",
       "441    0      7      5                 3                 3     1   \n",
       "682    0     30     28                27                27    25   \n",
       "56     0      6      6                 5                 3     4   \n",
       "134    0      6      4                 3                 1     0   \n",
       "252    0      4      3                 2                 0     1   \n",
       "685    0      4      3                 2                 0     0   \n",
       "341    0      5      5                 4                 4     3   \n",
       "337    0      4      3                 2                 0     0   \n",
       "246    0      6      4                 2                 1     0   \n",
       "174    0      2      2                 1                 0     0   \n",
       "684    0      4      3                 2                 1     0   \n",
       "378    0     10      7                 3                 1     2   \n",
       "\n",
       "     intermediate  moderate  little faster  faster  segmentSize  sum      risk  \n",
       "55              1         1              0       0            1    9  9.000000  \n",
       "94              1         1              0       0            1    8  8.000000  \n",
       "213             2         1              1       0            2   14  7.000000  \n",
       "441             3         2              2       0            4   26  6.500000  \n",
       "682             1        26              0       1           27  165  6.111111  \n",
       "56              1         5              1       0            6   31  5.166667  \n",
       "134             2         0              1       3            4   20  5.000000  \n",
       "252             2         3              0       0            3   15  5.000000  \n",
       "685             3         2              1       0            3   15  5.000000  \n",
       "341             1         3              3       0            6   28  4.666667  \n",
       "337             2         2              1       0            3   14  4.666667  \n",
       "246             5         5              0       0            5   23  4.600000  \n",
       "174             2         1              1       0            2    9  4.500000  \n",
       "684             3         0              0       4            4   17  4.250000  \n",
       "378             8         5              4       1           10   41  4.100000  "
      ]
     },
     "execution_count": 109,
     "metadata": {},
     "output_type": "execute_result"
    }
   ],
   "source": [
    "mf.sort_values(\"risk\", ascending=False)[:15]"
   ]
  },
  {
   "cell_type": "code",
   "execution_count": 110,
   "metadata": {
    "collapsed": false,
    "scrolled": true
   },
   "outputs": [],
   "source": [
    "top5 = mf.sort_values(\"risk\", ascending=False)[:5]\n",
    "top5 = top5[features + [\"sum\"]]\n",
    "\n",
    "for key in top5.columns:\n",
    "    if key == \"sum\":\n",
    "        continue\n",
    "    top5[key] = top5[key] / top5[\"sum\"]\n",
    "\n",
    "top5 = top5[features]\n",
    "top5Index = top5.index"
   ]
  },
  {
   "cell_type": "code",
   "execution_count": 111,
   "metadata": {
    "collapsed": false,
    "scrolled": true
   },
   "outputs": [
    {
     "data": {
      "text/plain": [
       "Int64Index([55, 94, 213, 441, 682], dtype='int64')"
      ]
     },
     "execution_count": 111,
     "metadata": {},
     "output_type": "execute_result"
    }
   ],
   "source": [
    "top5Index"
   ]
  },
  {
   "cell_type": "markdown",
   "metadata": {},
   "source": [
    "# Save"
   ]
  },
  {
   "cell_type": "code",
   "execution_count": 112,
   "metadata": {
    "collapsed": false
   },
   "outputs": [],
   "source": [
    "pred = zip(mf.index, mf[\"risk\"])\n",
    "result = np.zeros(gridSize)\n",
    "\n",
    "for index, risk in pred:\n",
    "    result[index] = risk\n",
    "    \n",
    "np.savetxt(targetDir + \"risks.csv\", result, delimiter=\",\", fmt=\"%f\")"
   ]
  },
  {
   "cell_type": "markdown",
   "metadata": {},
   "source": [
    "# Risk graph order by index"
   ]
  },
  {
   "cell_type": "code",
   "execution_count": 113,
   "metadata": {
    "collapsed": false
   },
   "outputs": [
    {
     "data": {
      "text/plain": [
       "<matplotlib.text.Text at 0x114e17490>"
      ]
     },
     "execution_count": 113,
     "metadata": {},
     "output_type": "execute_result"
    },
    {
     "data": {
      "image/png": "[encoded data removed]",
      "text/plain": [
       "<matplotlib.figure.Figure at 0x115043ed0>"
      ]
     },
     "metadata": {},
     "output_type": "display_data"
    }
   ],
   "source": [
    "plt.plot(result)\n",
    "plt.ylim(0, 14)\n",
    "plt.xlabel(\"Grid index\", size=\"medium\")\n",
    "plt.ylabel(\"Risk\", size=\"medium\")"
   ]
  },
  {
   "cell_type": "code",
   "execution_count": null,
   "metadata": {
    "collapsed": true
   },
   "outputs": [],
   "source": []
  }
 ],
 "metadata": {
  "kernelspec": {
   "display_name": "Python 2",
   "language": "python",
   "name": "python2"
  },
  "language_info": {
   "codemirror_mode": {
    "name": "ipython",
    "version": 2
   },
   "file_extension": ".py",
   "mimetype": "text/x-python",
   "name": "python",
   "nbconvert_exporter": "python",
   "pygments_lexer": "ipython2",
   "version": "2.7.10"
  }
 },
 "nbformat": 4,
 "nbformat_minor": 1
}
