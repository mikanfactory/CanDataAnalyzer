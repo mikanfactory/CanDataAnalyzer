{
 "cells": [
  {
   "cell_type": "code",
   "execution_count": 1,
   "metadata": {
    "collapsed": false
   },
   "outputs": [],
   "source": [
    "library(grid)\n",
    "library(rpart)\n",
    "library(rpart.plot)\n",
    "library(partykit)\n",
    "library(lattice)\n",
    "library(ggplot2)\n",
    "library(caret)"
   ]
  },
  {
   "cell_type": "code",
   "execution_count": 2,
   "metadata": {
    "collapsed": true
   },
   "outputs": [],
   "source": [
    "set.seed(1)"
   ]
  },
  {
   "cell_type": "code",
   "execution_count": 18,
   "metadata": {
    "collapsed": false
   },
   "outputs": [],
   "source": [
    "# valid columns when high speed\n",
    "invalids <- c('Time', 'Longitude', 'Latitude', 'Brake', 'Accel', 'flag', 'Curve100', 'Curve150')"
   ]
  },
  {
   "cell_type": "code",
   "execution_count": 4,
   "metadata": {
    "collapsed": true
   },
   "outputs": [],
   "source": [
    "printf <- function(...) cat(sprintf(...))"
   ]
  },
  {
   "cell_type": "code",
   "execution_count": 5,
   "metadata": {
    "collapsed": false
   },
   "outputs": [],
   "source": [
    "CV <- function(dfx, expr, verbose=FALSE) {        \n",
    "    folds <- createFolds(dfx$flag)\n",
    "    \n",
    "    count <- 1\n",
    "    errs <- c()\n",
    "    reds <- c()\n",
    "    blues <- c()\n",
    "    for (ids in folds) {\n",
    "        train <- dfx[-ids, ]\n",
    "        test <- dfx[ids, ]\n",
    "        # fit <- rpart(expr, data=train, method=\"class\")\n",
    "        fit <- rpart(expr, data=train, method=\"class\", cp=0.024)\n",
    "        p <- predict(fit, newdata=test)\n",
    "        predictedFlags <- colnames(p)[max.col(p, ties.method = \"first\")]\n",
    "        \n",
    "        if (verbose) {            \n",
    "            printf(\"Fold%d\\n\", count)\n",
    "            result <- correctVsPredict(test, predictedFlags)\n",
    "            reds <- c(reds, result[1])\n",
    "            blues <- c(blues, result[2])\n",
    "            count <- count + 1\n",
    "            printf(\"\\n\")\n",
    "        }\n",
    "        \n",
    "        nerr <- sum((predictedFlags == test$flag) == FALSE)\n",
    "        errs <- c(errs, nerr / nrow(test))\n",
    "    }\n",
    "    \n",
    "    return(c(mean(errs), mean(reds), mean(blues)))\n",
    "}"
   ]
  },
  {
   "cell_type": "code",
   "execution_count": 6,
   "metadata": {
    "collapsed": false
   },
   "outputs": [],
   "source": [
    "correctVsPredict <- function(test, predictedFlags) {    \n",
    "    # for All\n",
    "    # nTests <- nrow(test)\n",
    "    # nCorrectAll <- sum((predictedFlags == test$flag) == TRUE)\n",
    "    # printf(\"As fo All: correct/all = %d/%d = %f\\n\", nCorrectAll, nTests, nCorrectAll / nTests)\n",
    "    \n",
    "    # for Red\n",
    "    predictedRedRows <- test[predictedFlags == \"Red\", ]\n",
    "    nCorrectReds <- sum((predictedRedRows$flag == 'Red') == TRUE)\n",
    "    nPredictedReds <- nrow(predictedRedRows)\n",
    "    printf(\"As for Red: correct/predict = %d/%d = %f\\n\", nCorrectReds, nPredictedReds, nCorrectReds / nPredictedReds)\n",
    "    \n",
    "    # for Blue\n",
    "    predictedBlueRows <- test[predictedFlags == \"Blue\", ]\n",
    "    nCorrectBlues <- sum((predictedBlueRows$flag == 'Blue') == TRUE)\n",
    "    nPredictedBlues <- nrow(predictedBlueRows)\n",
    "    printf(\"As for Blue: correct/predict = %d/%d = %f\\n\", nCorrectBlues, nPredictedBlues, nCorrectBlues / nPredictedBlues)\n",
    "    \n",
    "    c(nCorrectReds/nPredictedReds, nCorrectBlues/nPredictedBlues)\n",
    "}"
   ]
  },
  {
   "cell_type": "code",
   "execution_count": 7,
   "metadata": {
    "collapsed": true
   },
   "outputs": [],
   "source": [
    "printRedRatios <- function(dfx) {\n",
    "    nRed <- nrow(dfx[dfx$flag == \"Red\", ])\n",
    "    nAll <- nrow(dfx)\n",
    "    printf(\"Red/All = %d/%d = %f\\n\", nRed, nAll, nRed/nAll)\n",
    "    printf(\"1 - Red/All = %d/%d = %f\\n\", nAll - nRed, nAll, 1 - nRed/nAll)\n",
    "}"
   ]
  },
  {
   "cell_type": "code",
   "execution_count": 8,
   "metadata": {
    "collapsed": true
   },
   "outputs": [],
   "source": [
    "createFormula <- function(invalids, allFeatures) {\n",
    "    isValidColumn <- function(x) ! x %in% invalids\n",
    "    \n",
    "    features <- Filter(isValidColumn, allFeatures)\n",
    "    return(paste(\"flag ~ \", paste(features, collapse=\" + \")))\n",
    "}"
   ]
  },
  {
   "cell_type": "markdown",
   "metadata": {
    "collapsed": true
   },
   "source": [
    "# Predict Red"
   ]
  },
  {
   "cell_type": "code",
   "execution_count": 9,
   "metadata": {
    "collapsed": false
   },
   "outputs": [],
   "source": [
    "df3 <- read.csv(\"../data/middle/sp2.csv\", stringsAsFactors=FALSE)"
   ]
  },
  {
   "cell_type": "code",
   "execution_count": 10,
   "metadata": {
    "collapsed": true
   },
   "outputs": [],
   "source": [
    "df3$flag[df3$flag == \"RedA\"] <- \"Red\"\n",
    "df3$flag[df3$flag == \"RedB\"] <- \"Red\"\n",
    "df3$flag[df3$flag == \"BlueA\"] <- \"Blue\"\n",
    "df3$flag[df3$flag == \"BlueB\"] <- \"Blue\"\n",
    "df3$flag <- as.factor(df3$flag)"
   ]
  },
  {
   "cell_type": "code",
   "execution_count": 11,
   "metadata": {
    "collapsed": false,
    "scrolled": true
   },
   "outputs": [],
   "source": [
    "allFeatures <- c(colnames(df3))\n",
    "expr <- createFormula(invalids, allFeatures)"
   ]
  },
  {
   "cell_type": "code",
   "execution_count": 12,
   "metadata": {
    "collapsed": false,
    "scrolled": true
   },
   "outputs": [
    {
     "name": "stdout",
     "output_type": "stream",
     "text": [
      "Fold1\n",
      "As for Red: correct/predict = 37/55 = 0.672727\n",
      "As for Blue: correct/predict = 26/49 = 0.530612\n",
      "\n",
      "Fold2\n",
      "As for Red: correct/predict = 42/66 = 0.636364\n",
      "As for Blue: correct/predict = 21/39 = 0.538462\n",
      "\n",
      "Fold3\n",
      "As for Red: correct/predict = 42/74 = 0.567568\n",
      "As for Blue: correct/predict = 13/30 = 0.433333\n",
      "\n",
      "Fold4\n",
      "As for Red: correct/predict = 45/66 = 0.681818\n",
      "As for Blue: correct/predict = 24/38 = 0.631579\n",
      "\n",
      "Fold5\n",
      "As for Red: correct/predict = 43/65 = 0.661538\n",
      "As for Blue: correct/predict = 23/39 = 0.589744\n",
      "\n",
      "Fold6\n",
      "As for Red: correct/predict = 36/57 = 0.631579\n",
      "As for Blue: correct/predict = 24/47 = 0.510638\n",
      "\n",
      "Fold7\n",
      "As for Red: correct/predict = 41/60 = 0.683333\n",
      "As for Blue: correct/predict = 26/45 = 0.577778\n",
      "\n",
      "Fold8\n",
      "As for Red: correct/predict = 46/64 = 0.718750\n",
      "As for Blue: correct/predict = 27/40 = 0.675000\n",
      "\n",
      "Fold9\n",
      "As for Red: correct/predict = 47/73 = 0.643836\n",
      "As for Blue: correct/predict = 19/31 = 0.612903\n",
      "\n",
      "Fold10\n",
      "As for Red: correct/predict = 47/68 = 0.691176\n",
      "As for Blue: correct/predict = 24/36 = 0.666667\n",
      "\n",
      "Red/All = 593/1042 = 0.569098\n",
      "1 - Red/All = 449/1042 = 0.430902\n",
      "Red: Mean correct/predict = 0.658869\n",
      "Blue: Mean correct/predict = 0.576672\n",
      "CV value: 0.373306"
     ]
    }
   ],
   "source": [
    "result <- CV(df3, expr, verbose=TRUE)\n",
    "printRedRatios(df3)\n",
    "printf(\"Red: Mean correct/predict = %f\\n\", result[2])\n",
    "printf(\"Blue: Mean correct/predict = %f\\n\", result[3])\n",
    "printf(\"CV value: %f\", result[1])"
   ]
  },
  {
   "cell_type": "code",
   "execution_count": 13,
   "metadata": {
    "collapsed": true
   },
   "outputs": [],
   "source": [
    "fit3 <- rpart(expr, data=df3, method=\"class\")"
   ]
  },
  {
   "cell_type": "code",
   "execution_count": 14,
   "metadata": {
    "collapsed": false
   },
   "outputs": [
    {
     "data": {
      "text/html": [
       "0.0211581291759465"
      ],
      "text/latex": [
       "0.0211581291759465"
      ],
      "text/markdown": [
       "0.0211581291759465"
      ],
      "text/plain": [
       "[1] 0.02115813"
      ]
     },
     "metadata": {},
     "output_type": "display_data"
    }
   ],
   "source": [
    "fit3$cptable[which.min(fit3$cptable[,\"xerror\"]),\"CP\"]"
   ]
  },
  {
   "cell_type": "code",
   "execution_count": 15,
   "metadata": {
    "collapsed": false
   },
   "outputs": [
    {
     "name": "stdout",
     "output_type": "stream",
     "text": [
      "\n",
      "Classification tree:\n",
      "rpart(formula = expr, data = df3, method = \"class\")\n",
      "\n",
      "Variables actually used in tree construction:\n",
      " [1] AccelerationSpeed AheadDistance     AverageVelocity   CurveAverage     \n",
      " [5] DistSignal        Engine            Jerk              Pitch            \n",
      " [9] Speed             TimeHeadway       TimeToCollision  \n",
      "\n",
      "Root node error: 449/1042 = 0.4309\n",
      "\n",
      "n= 1042 \n",
      "\n",
      "        CP nsplit rel error  xerror     xstd\n",
      "1 0.073497      0   1.00000 1.00000 0.035602\n",
      "2 0.050111      1   0.92650 0.99109 0.035562\n",
      "3 0.026726      3   0.82628 0.89087 0.034964\n",
      "4 0.024499      4   0.79955 0.87528 0.034845\n",
      "5 0.021158      5   0.77506 0.87082 0.034810\n",
      "6 0.013363      7   0.73274 0.87751 0.034862\n",
      "7 0.011136     10   0.69265 0.87305 0.034827\n",
      "8 0.010022     11   0.68151 0.89532 0.034996\n",
      "9 0.010000     14   0.65033 0.90200 0.035044\n"
     ]
    }
   ],
   "source": [
    "printcp(fit3)"
   ]
  },
  {
   "cell_type": "code",
   "execution_count": 16,
   "metadata": {
    "collapsed": false
   },
   "outputs": [
    {
     "name": "stdout",
     "output_type": "stream",
     "text": [
      "Call:\n",
      "rpart(formula = expr, data = df3, method = \"class\")\n",
      "  n= 1042 \n",
      "\n",
      "          CP nsplit rel error    xerror       xstd\n",
      "1 0.07349666      0 1.0000000 1.0000000 0.03560167\n",
      "2 0.05011136      1 0.9265033 0.9910913 0.03556206\n",
      "3 0.02672606      3 0.8262806 0.8908686 0.03496369\n",
      "4 0.02449889      4 0.7995546 0.8752784 0.03484484\n",
      "5 0.02115813      5 0.7750557 0.8708241 0.03480957\n",
      "6 0.01336303      7 0.7327394 0.8775056 0.03486225\n",
      "7 0.01113586     10 0.6926503 0.8730512 0.03482728\n",
      "8 0.01002227     11 0.6815145 0.8953229 0.03499635\n",
      "9 0.01000000     14 0.6503341 0.9020045 0.03504427\n",
      "\n",
      "Variable importance\n",
      "      TimeHeadway             Speed     AheadDistance   AverageVelocity \n",
      "               17                17                14                 7 \n",
      "  TimeToCollision AccelerationSpeed            Engine          RoadType \n",
      "                7                 6                 6                 6 \n",
      "            Pitch      CurveAverage              Jerk             Curve \n",
      "                5                 3                 3                 3 \n",
      "       DistSignal     SteeringAngle         LaneCount \n",
      "                3                 2                 1 \n",
      "\n",
      "Node number 1: 1042 observations,    complexity param=0.07349666\n",
      "  predicted class=Red   expected loss=0.4309021  P(node) =1\n",
      "    class counts:   449   593\n",
      "   probabilities: 0.431 0.569 \n",
      "  left son=2 (225 obs) right son=3 (817 obs)\n",
      "  Primary splits:\n",
      "      TimeHeadway       < 2.861792    to the right, improve=11.643100, (0 missing)\n",
      "      AccelerationSpeed < 0.6416667   to the left,  improve= 9.009149, (0 missing)\n",
      "      Curve             < 253         to the left,  improve= 8.630724, (0 missing)\n",
      "      CurveAverage      < 253         to the left,  improve= 8.630724, (0 missing)\n",
      "      AverageVelocity   < 4.703744    to the right, improve= 8.345982, (0 missing)\n",
      "  Surrogate splits:\n",
      "      Speed           < 10.27       to the left,  agree=0.820, adj=0.164, (0 split)\n",
      "      AheadDistance   < 46.55       to the right, agree=0.807, adj=0.107, (0 split)\n",
      "      Engine          < 1051.562    to the left,  agree=0.800, adj=0.076, (0 split)\n",
      "      TimeToCollision < 1154.825    to the right, agree=0.791, adj=0.031, (0 split)\n",
      "      Limit30Sign     < 0.5         to the right, agree=0.785, adj=0.004, (0 split)\n",
      "\n",
      "Node number 2: 225 observations,    complexity param=0.02672606\n",
      "  predicted class=Blue  expected loss=0.4266667  P(node) =0.2159309\n",
      "    class counts:   129    96\n",
      "   probabilities: 0.573 0.427 \n",
      "  left son=4 (205 obs) right son=5 (20 obs)\n",
      "  Primary splits:\n",
      "      AverageVelocity   < 27.99092    to the left,  improve=6.119024, (0 missing)\n",
      "      AccelerationSpeed < 0.5472222   to the left,  improve=4.840000, (0 missing)\n",
      "      SteeringAngle     < 5.15        to the left,  improve=3.862857, (0 missing)\n",
      "      Pitch             < 0.1929104   to the left,  improve=3.022857, (0 missing)\n",
      "      Speed             < 5.715       to the right, improve=2.917209, (0 missing)\n",
      "  Surrogate splits:\n",
      "      BranchFlag < 0.5         to the left,  agree=0.92, adj=0.1, (0 split)\n",
      "\n",
      "Node number 3: 817 observations,    complexity param=0.05011136\n",
      "  predicted class=Red   expected loss=0.3916769  P(node) =0.7840691\n",
      "    class counts:   320   497\n",
      "   probabilities: 0.392 0.608 \n",
      "  left son=6 (592 obs) right son=7 (225 obs)\n",
      "  Primary splits:\n",
      "      Speed           < 28.735      to the right, improve=16.909640, (0 missing)\n",
      "      AheadDistance   < 1.6         to the left,  improve=10.191610, (0 missing)\n",
      "      TimeHeadway     < 1.200029    to the left,  improve= 8.527302, (0 missing)\n",
      "      Pitch           < -0.03656716 to the left,  improve= 8.137347, (0 missing)\n",
      "      AverageVelocity < 4.703744    to the right, improve= 6.936868, (0 missing)\n",
      "  Surrogate splits:\n",
      "      Engine            < 1079.688    to the right, agree=0.754, adj=0.107, (0 split)\n",
      "      RoadType          < 6.5         to the left,  agree=0.753, adj=0.102, (0 split)\n",
      "      AverageVelocity   < 13.50746    to the right, agree=0.753, adj=0.102, (0 split)\n",
      "      AccelerationSpeed < 0.5361111   to the left,  agree=0.749, adj=0.089, (0 split)\n",
      "      Curve             < 253         to the left,  agree=0.748, adj=0.084, (0 split)\n",
      "\n",
      "Node number 4: 205 observations,    complexity param=0.02449889\n",
      "  predicted class=Blue  expected loss=0.3902439  P(node) =0.196737\n",
      "    class counts:   125    80\n",
      "   probabilities: 0.610 0.390 \n",
      "  left son=8 (180 obs) right son=9 (25 obs)\n",
      "  Primary splits:\n",
      "      AccelerationSpeed < 0.5472222   to the left,  improve=6.192087, (0 missing)\n",
      "      SteeringAngle     < 10.65       to the left,  improve=4.257321, (0 missing)\n",
      "      Pitch             < 0.1929104   to the left,  improve=3.987258, (0 missing)\n",
      "      Speed             < 5.715       to the right, improve=2.827416, (0 missing)\n",
      "      TimeHeadway       < 3.069349    to the left,  improve=2.195391, (0 missing)\n",
      "  Surrogate splits:\n",
      "      Speed           < 5.64        to the right, agree=0.898, adj=0.16, (0 split)\n",
      "      AheadDistance   < 5.6         to the right, agree=0.893, adj=0.12, (0 split)\n",
      "      Curve           < 67.5        to the right, agree=0.888, adj=0.08, (0 split)\n",
      "      SteeringAngle   < 20.35       to the left,  agree=0.888, adj=0.08, (0 split)\n",
      "      AverageVelocity < 13.62389    to the right, agree=0.888, adj=0.08, (0 split)\n",
      "\n",
      "Node number 5: 20 observations\n",
      "  predicted class=Red   expected loss=0.2  P(node) =0.01919386\n",
      "    class counts:     4    16\n",
      "   probabilities: 0.200 0.800 \n",
      "\n",
      "Node number 6: 592 observations,    complexity param=0.05011136\n",
      "  predicted class=Red   expected loss=0.4543919  P(node) =0.5681382\n",
      "    class counts:   269   323\n",
      "   probabilities: 0.454 0.546 \n",
      "  left son=12 (219 obs) right son=13 (373 obs)\n",
      "  Primary splits:\n",
      "      AheadDistance   < 10.55       to the left,  improve=15.298520, (0 missing)\n",
      "      TimeHeadway     < 0.938368    to the left,  improve=11.224970, (0 missing)\n",
      "      TimeToCollision < -6.961519   to the right, improve= 7.032874, (0 missing)\n",
      "      RoadType        < 3.5         to the right, improve= 5.500442, (0 missing)\n",
      "      Speed           < 54.81       to the left,  improve= 5.257886, (0 missing)\n",
      "  Surrogate splits:\n",
      "      TimeHeadway     < 0.938368    to the left,  agree=0.961, adj=0.895, (0 split)\n",
      "      TimeToCollision < -4.428411   to the right, agree=0.829, adj=0.539, (0 split)\n",
      "      RoadType        < 5.5         to the right, agree=0.721, adj=0.247, (0 split)\n",
      "      LaneCount       < 0.5         to the left,  agree=0.688, adj=0.155, (0 split)\n",
      "      AverageVelocity < 15.1431     to the left,  agree=0.667, adj=0.100, (0 split)\n",
      "\n",
      "Node number 7: 225 observations\n",
      "  predicted class=Red   expected loss=0.2266667  P(node) =0.2159309\n",
      "    class counts:    51   174\n",
      "   probabilities: 0.227 0.773 \n",
      "\n",
      "Node number 8: 180 observations,    complexity param=0.01113586\n",
      "  predicted class=Blue  expected loss=0.3444444  P(node) =0.1727447\n",
      "    class counts:   118    62\n",
      "   probabilities: 0.656 0.344 \n",
      "  left son=16 (161 obs) right son=17 (19 obs)\n",
      "  Primary splits:\n",
      "      DistSignal    < 263.5737    to the left,  improve=3.502684, (0 missing)\n",
      "      Pitch         < 0.1929104   to the left,  improve=3.434128, (0 missing)\n",
      "      RoadType      < 1           to the right, improve=1.996796, (0 missing)\n",
      "      AheadDistance < 65.25       to the left,  improve=1.992440, (0 missing)\n",
      "      TimeHeadway   < 2.993153    to the left,  improve=1.932195, (0 missing)\n",
      "  Surrogate splits:\n",
      "      RoadType      < 1           to the right, agree=0.944, adj=0.474, (0 split)\n",
      "      Speed         < 83.15       to the left,  agree=0.917, adj=0.211, (0 split)\n",
      "      Engine        < 1792.188    to the left,  agree=0.917, adj=0.211, (0 split)\n",
      "      AheadDistance < 80.05       to the left,  agree=0.917, adj=0.211, (0 split)\n",
      "\n",
      "Node number 9: 25 observations\n",
      "  predicted class=Red   expected loss=0.28  P(node) =0.02399232\n",
      "    class counts:     7    18\n",
      "   probabilities: 0.280 0.720 \n",
      "\n",
      "Node number 12: 219 observations,    complexity param=0.02115813\n",
      "  predicted class=Blue  expected loss=0.3972603  P(node) =0.2101727\n",
      "    class counts:   132    87\n",
      "   probabilities: 0.603 0.397 \n",
      "  left son=24 (144 obs) right son=25 (75 obs)\n",
      "  Primary splits:\n",
      "      CurveAverage    < 113.5       to the right, improve=6.041712, (0 missing)\n",
      "      AverageVelocity < 21.14168    to the left,  improve=3.724060, (0 missing)\n",
      "      Curve           < 220         to the right, improve=3.064628, (0 missing)\n",
      "      Speed           < 50.51       to the left,  improve=2.971165, (0 missing)\n",
      "      DistManBicycle  < 13.622      to the right, improve=2.957551, (0 missing)\n",
      "  Surrogate splits:\n",
      "      Curve         < 118         to the right, agree=0.822, adj=0.480, (0 split)\n",
      "      SteeringAngle < 7.55        to the left,  agree=0.744, adj=0.253, (0 split)\n",
      "      RoadType      < 2.5         to the right, agree=0.731, adj=0.213, (0 split)\n",
      "      DistTollgate  < 610         to the right, agree=0.699, adj=0.120, (0 split)\n",
      "      DistSignal    < 359.9442    to the left,  agree=0.699, adj=0.120, (0 split)\n",
      "\n",
      "Node number 13: 373 observations,    complexity param=0.01336303\n",
      "  predicted class=Red   expected loss=0.3672922  P(node) =0.3579655\n",
      "    class counts:   137   236\n",
      "   probabilities: 0.367 0.633 \n",
      "  left son=26 (105 obs) right son=27 (268 obs)\n",
      "  Primary splits:\n",
      "      TimeHeadway < 2.231443    to the right, improve=4.784603, (0 missing)\n",
      "      Pitch       < -0.02014925 to the left,  improve=3.685660, (0 missing)\n",
      "      Engine      < 1620.312    to the left,  improve=3.379462, (0 missing)\n",
      "      DistSignal  < 23.15064    to the right, improve=3.072356, (0 missing)\n",
      "      Jerk        < -2.138889   to the left,  improve=2.937520, (0 missing)\n",
      "  Surrogate splits:\n",
      "      RoadType        < 5.5         to the right, agree=0.753, adj=0.124, (0 split)\n",
      "      AheadDistance   < 51.4        to the right, agree=0.735, adj=0.057, (0 split)\n",
      "      TimeToCollision < -384.9204   to the left,  agree=0.724, adj=0.019, (0 split)\n",
      "      DistTollgate    < 140         to the left,  agree=0.721, adj=0.010, (0 split)\n",
      "      AverageVelocity < 14.87667    to the left,  agree=0.721, adj=0.010, (0 split)\n",
      "\n",
      "Node number 16: 161 observations\n",
      "  predicted class=Blue  expected loss=0.310559  P(node) =0.1545106\n",
      "    class counts:   111    50\n",
      "   probabilities: 0.689 0.311 \n",
      "\n",
      "Node number 17: 19 observations\n",
      "  predicted class=Red   expected loss=0.3684211  P(node) =0.01823417\n",
      "    class counts:     7    12\n",
      "   probabilities: 0.368 0.632 \n",
      "\n",
      "Node number 24: 144 observations,    complexity param=0.01336303\n",
      "  predicted class=Blue  expected loss=0.3125  P(node) =0.1381958\n",
      "    class counts:    99    45\n",
      "   probabilities: 0.688 0.312 \n",
      "  left son=48 (132 obs) right son=49 (12 obs)\n",
      "  Primary splits:\n",
      "      Pitch             < 0.2248756   to the left,  improve=5.011364, (0 missing)\n",
      "      AccelerationSpeed < -0.2138889  to the right, improve=3.668651, (0 missing)\n",
      "      Engine            < 1526.562    to the left,  improve=3.025000, (0 missing)\n",
      "      DistSignal        < 324.7497    to the left,  improve=2.931044, (0 missing)\n",
      "      Speed             < 50.715      to the left,  improve=2.543305, (0 missing)\n",
      "  Surrogate splits:\n",
      "      AccelerationSpeed < -0.3527778  to the right, agree=0.931, adj=0.167, (0 split)\n",
      "      AverageVelocity   < 13.0254     to the right, agree=0.931, adj=0.167, (0 split)\n",
      "\n",
      "Node number 25: 75 observations,    complexity param=0.02115813\n",
      "  predicted class=Red   expected loss=0.44  P(node) =0.07197697\n",
      "    class counts:    33    42\n",
      "   probabilities: 0.440 0.560 \n",
      "  left son=50 (18 obs) right son=51 (57 obs)\n",
      "  Primary splits:\n",
      "      Speed           < 35.185      to the left,  improve=5.404444, (0 missing)\n",
      "      Engine          < 1257.812    to the left,  improve=4.842353, (0 missing)\n",
      "      AverageVelocity < 27.40381    to the left,  improve=3.484333, (0 missing)\n",
      "      LaneCount       < 1.5         to the left,  improve=3.225957, (0 missing)\n",
      "      DistSignal      < 267.6244    to the right, improve=2.400823, (0 missing)\n",
      "  Surrogate splits:\n",
      "      AverageVelocity   < 14.33155    to the left,  agree=0.853, adj=0.389, (0 split)\n",
      "      Pitch             < 0.1256219   to the right, agree=0.840, adj=0.333, (0 split)\n",
      "      Engine            < 1546.875    to the right, agree=0.827, adj=0.278, (0 split)\n",
      "      AccelerationSpeed < 0.3805556   to the right, agree=0.813, adj=0.222, (0 split)\n",
      "      AheadDistance     < 3.65        to the right, agree=0.787, adj=0.111, (0 split)\n",
      "\n",
      "Node number 26: 105 observations,    complexity param=0.01336303\n",
      "  predicted class=Red   expected loss=0.4952381  P(node) =0.1007678\n",
      "    class counts:    52    53\n",
      "   probabilities: 0.495 0.505 \n",
      "  left son=52 (18 obs) right son=53 (87 obs)\n",
      "  Primary splits:\n",
      "      Jerk          < -0.5555556  to the left,  improve=4.966502, (0 missing)\n",
      "      AheadDistance < 35.35       to the left,  improve=3.856400, (0 missing)\n",
      "      Pitch         < -0.02263682 to the left,  improve=3.095238, (0 missing)\n",
      "      Engine        < 1201.562    to the right, improve=2.904960, (0 missing)\n",
      "      Speed         < 33.705      to the right, improve=2.741227, (0 missing)\n",
      "  Surrogate splits:\n",
      "      Speed         < 91.475      to the right, agree=0.848, adj=0.111, (0 split)\n",
      "      AheadDistance < 63.9        to the right, agree=0.848, adj=0.111, (0 split)\n",
      "      Pitch         < -0.3139303  to the left,  agree=0.848, adj=0.111, (0 split)\n",
      "\n",
      "Node number 27: 268 observations\n",
      "  predicted class=Red   expected loss=0.3171642  P(node) =0.2571977\n",
      "    class counts:    85   183\n",
      "   probabilities: 0.317 0.683 \n",
      "\n",
      "Node number 48: 132 observations\n",
      "  predicted class=Blue  expected loss=0.2727273  P(node) =0.1266795\n",
      "    class counts:    96    36\n",
      "   probabilities: 0.727 0.273 \n",
      "\n",
      "Node number 49: 12 observations\n",
      "  predicted class=Red   expected loss=0.25  P(node) =0.01151631\n",
      "    class counts:     3     9\n",
      "   probabilities: 0.250 0.750 \n",
      "\n",
      "Node number 50: 18 observations\n",
      "  predicted class=Blue  expected loss=0.2222222  P(node) =0.01727447\n",
      "    class counts:    14     4\n",
      "   probabilities: 0.778 0.222 \n",
      "\n",
      "Node number 51: 57 observations\n",
      "  predicted class=Red   expected loss=0.3333333  P(node) =0.0547025\n",
      "    class counts:    19    38\n",
      "   probabilities: 0.333 0.667 \n",
      "\n",
      "Node number 52: 18 observations\n",
      "  predicted class=Blue  expected loss=0.1666667  P(node) =0.01727447\n",
      "    class counts:    15     3\n",
      "   probabilities: 0.833 0.167 \n",
      "\n",
      "Node number 53: 87 observations,    complexity param=0.01002227\n",
      "  predicted class=Red   expected loss=0.4252874  P(node) =0.08349328\n",
      "    class counts:    37    50\n",
      "   probabilities: 0.425 0.575 \n",
      "  left son=106 (60 obs) right son=107 (27 obs)\n",
      "  Primary splits:\n",
      "      AheadDistance   < 34.15       to the left,  improve=3.228736, (0 missing)\n",
      "      Engine          < 1201.562    to the right, improve=3.186963, (0 missing)\n",
      "      LaneCount       < 2.5         to the left,  improve=2.900531, (0 missing)\n",
      "      TimeToCollision < -94.37789   to the left,  improve=2.494548, (0 missing)\n",
      "      Pitch           < -0.01840796 to the left,  improve=1.906008, (0 missing)\n",
      "  Surrogate splits:\n",
      "      Speed      < 48.95       to the left,  agree=0.931, adj=0.778, (0 split)\n",
      "      RoadType   < 2.5         to the right, agree=0.770, adj=0.259, (0 split)\n",
      "      Pitch      < -0.199005   to the right, agree=0.747, adj=0.185, (0 split)\n",
      "      DistSignal < 416.8389    to the left,  agree=0.724, adj=0.111, (0 split)\n",
      "      Engine     < 1712.5      to the left,  agree=0.713, adj=0.074, (0 split)\n",
      "\n",
      "Node number 106: 60 observations,    complexity param=0.01002227\n",
      "  predicted class=Blue  expected loss=0.4833333  P(node) =0.05758157\n",
      "    class counts:    31    29\n",
      "   probabilities: 0.517 0.483 \n",
      "  left son=212 (53 obs) right son=213 (7 obs)\n",
      "  Primary splits:\n",
      "      Engine          < 1201.562    to the right, improve=4.230818, (0 missing)\n",
      "      TimeToCollision < -31.96268   to the left,  improve=4.206486, (0 missing)\n",
      "      Speed           < 33.705      to the right, improve=3.103030, (0 missing)\n",
      "      AheadDistance   < 24.75       to the right, improve=2.688889, (0 missing)\n",
      "      Jerk            < 0.25        to the left,  improve=2.016667, (0 missing)\n",
      "\n",
      "Node number 107: 27 observations\n",
      "  predicted class=Red   expected loss=0.2222222  P(node) =0.02591171\n",
      "    class counts:     6    21\n",
      "   probabilities: 0.222 0.778 \n",
      "\n",
      "Node number 212: 53 observations,    complexity param=0.01002227\n",
      "  predicted class=Blue  expected loss=0.4150943  P(node) =0.05086372\n",
      "    class counts:    31    22\n",
      "   probabilities: 0.585 0.415 \n",
      "  left son=424 (28 obs) right son=425 (25 obs)\n",
      "  Primary splits:\n",
      "      TimeToCollision < -23.21517   to the left,  improve=3.235849, (0 missing)\n",
      "      Speed           < 41.39       to the right, improve=2.351234, (0 missing)\n",
      "      AheadDistance   < 29.1        to the right, improve=2.351234, (0 missing)\n",
      "      LaneCount       < 2.5         to the left,  improve=1.700135, (0 missing)\n",
      "      Engine          < 1614.062    to the left,  improve=1.443924, (0 missing)\n",
      "  Surrogate splits:\n",
      "      AheadDistance     < 28.15       to the right, agree=0.679, adj=0.32, (0 split)\n",
      "      Speed             < 36.81       to the right, agree=0.660, adj=0.28, (0 split)\n",
      "      Engine            < 1560.938    to the left,  agree=0.642, adj=0.24, (0 split)\n",
      "      SteeringAngle     < 4.55        to the left,  agree=0.642, adj=0.24, (0 split)\n",
      "      AccelerationSpeed < -0.2333333  to the right, agree=0.642, adj=0.24, (0 split)\n",
      "\n",
      "Node number 213: 7 observations\n",
      "  predicted class=Red   expected loss=0  P(node) =0.00671785\n",
      "    class counts:     0     7\n",
      "   probabilities: 0.000 1.000 \n",
      "\n",
      "Node number 424: 28 observations\n",
      "  predicted class=Blue  expected loss=0.25  P(node) =0.0268714\n",
      "    class counts:    21     7\n",
      "   probabilities: 0.750 0.250 \n",
      "\n",
      "Node number 425: 25 observations\n",
      "  predicted class=Red   expected loss=0.4  P(node) =0.02399232\n",
      "    class counts:    10    15\n",
      "   probabilities: 0.400 0.600 \n",
      "\n"
     ]
    }
   ],
   "source": [
    "summary(fit3)"
   ]
  },
  {
   "cell_type": "code",
   "execution_count": 17,
   "metadata": {
    "collapsed": false
   },
   "outputs": [
    {
     "data": {
      "image/png": "[encoded data removed]",
      "text/plain": [
       "Plot with title “Classification Tree”"
      ]
     },
     "metadata": {},
     "output_type": "display_data"
    }
   ],
   "source": [
    "plot(fit3, uniform=TRUE, main=\"Classification Tree\")\n",
    "text(fit3, use.n=TRUE, all=TRUE, cex=.8)"
   ]
  },
  {
   "cell_type": "code",
   "execution_count": null,
   "metadata": {
    "collapsed": true
   },
   "outputs": [],
   "source": []
  }
 ],
 "metadata": {
  "kernelspec": {
   "display_name": "R",
   "language": "R",
   "name": "ir"
  },
  "language_info": {
   "codemirror_mode": "r",
   "file_extension": ".r",
   "mimetype": "text/x-r-source",
   "name": "R",
   "pygments_lexer": "r",
   "version": "3.3.2"
  }
 },
 "nbformat": 4,
 "nbformat_minor": 1
}
