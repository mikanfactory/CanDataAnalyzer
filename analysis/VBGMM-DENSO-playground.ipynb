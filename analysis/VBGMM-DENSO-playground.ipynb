{
 "cells": [
  {
   "cell_type": "code",
   "execution_count": 1,
   "metadata": {
    "collapsed": false
   },
   "outputs": [],
   "source": [
    "%matplotlib inline"
   ]
  },
  {
   "cell_type": "code",
   "execution_count": 2,
   "metadata": {
    "collapsed": false
   },
   "outputs": [],
   "source": [
    "import numpy as np\n",
    "import pandas as pd\n",
    "import matplotlib.pyplot as plt\n",
    "import random\n",
    "import os\n",
    "import json\n",
    "import pprint\n",
    "from sklearn.mixture import BayesianGaussianMixture"
   ]
  },
  {
   "cell_type": "code",
   "execution_count": 3,
   "metadata": {
    "collapsed": false
   },
   "outputs": [],
   "source": [
    "import seaborn as sns\n",
    "sns.set(color_codes=True)"
   ]
  },
  {
   "cell_type": "markdown",
   "metadata": {},
   "source": [
    "# Preprocess"
   ]
  },
  {
   "cell_type": "markdown",
   "metadata": {},
   "source": [
    "### まず実験結果の読み込み"
   ]
  },
  {
   "cell_type": "code",
   "execution_count": 4,
   "metadata": {
    "collapsed": true
   },
   "outputs": [],
   "source": [
    "targetDir = \"../data/output/Result1/Result/\"\n",
    "speedDir = \"../data/output/Result1/Speed/\"\n",
    "brakeDir = \"../data/output/Result1/Brake/\"\n",
    "accelDIr = \"../data/output/Result1/Accel/\"\n",
    "steeringPositiveDir = \"../data/output/Result1/SteeringPositive/\"\n",
    "steeringNegativeDir = \"../data/output/Result1/SteeringNegative/\"\n",
    "manyCarDir = \"../data/output/Result1/ManyCars/\"\n",
    "middleCarDir = \"../data/output/Result1/MiddleCars/\"\n",
    "lessCarDir = \"../data/output/Result1/LessCars/\"\n",
    "afternoonSunMax = \"../data/output/Result1/AfternoonSunMax/\"\n",
    "afternoonSunMiddle = \"../data/output/Result1/AfternoonSunMiddle/\"\n",
    "afternoonSunMin = \"../data/output/Result1/AfternoonSunMin/\"\n",
    "cloudMax = \"../data/output/Result1/CloudMax/\"\n",
    "cloudMiddle = \"../data/output/Result1/CloudMiddle/\"\n",
    "cloudMin = \"../data/output/Result1/CloudMin/\"\n",
    "sunshineMax = \"../data/output/Result1/SunshineMax/\"\n",
    "sunshineMiddle = \"../data/output/Result1/SunshineMiddle/\"\n",
    "sunshineMin = \"../data/output/Result1/SunshineMin/\""
   ]
  },
  {
   "cell_type": "markdown",
   "metadata": {},
   "source": [
    "### 読み込んだデータを元に data-frame を作成"
   ]
  },
  {
   "cell_type": "code",
   "execution_count": 5,
   "metadata": {
    "collapsed": false
   },
   "outputs": [],
   "source": [
    "df1 = pd.read_csv(speedDir + \"result.csv\")\n",
    "df1.columns = [[\"id\", \"red\", \"yellow\", \"green\", \"slow\"]]\n",
    "df2 = pd.read_csv(brakeDir + \"result.csv\")\n",
    "df2.columns = [[\"id\", \"brake\"]]\n",
    "df3 = pd.read_csv(accelDIr + \"result.csv\")\n",
    "df3.columns = [[\"id\", \"accel\"]]\n",
    "df4 = pd.read_csv(steeringPositiveDir + \"result.csv\")\n",
    "df4.columns = [[\"id\", \"steeringPositive\"]]\n",
    "df5 = pd.read_csv(steeringNegativeDir + \"result.csv\")\n",
    "df5.columns = [[\"id\", \"steeringNegative\"]]\n",
    "df6 = pd.read_csv(afternoonSunMax + \"result.csv\")\n",
    "df6.columns = [[\"id\", \"sunMax\"]]\n",
    "df7 = pd.read_csv(afternoonSunMiddle + \"result.csv\")\n",
    "df7.columns = [[\"id\", \"sunMiddle\"]]\n",
    "df8 = pd.read_csv(afternoonSunMin + \"result.csv\")\n",
    "df8.columns = [[\"id\", \"sunMin\"]]\n",
    "df9 = pd.read_csv(cloudMax + \"result.csv\")\n",
    "df9.columns = [[\"id\", \"cloudMax\"]]\n",
    "df10 = pd.read_csv(cloudMiddle + \"result.csv\")\n",
    "df10.columns = [[\"id\", \"cloudMiddle\"]]\n",
    "df11 = pd.read_csv(cloudMin + \"result.csv\")\n",
    "df11.columns = [[\"id\", \"cloudMin\"]]\n",
    "df12 = pd.read_csv(sunshineMax + \"result.csv\")\n",
    "df12.columns = [[\"id\", \"shineMax\"]]\n",
    "df13 = pd.read_csv(sunshineMiddle + \"result.csv\")\n",
    "df13.columns = [[\"id\", \"shineMiddle\"]]\n",
    "df14 = pd.read_csv(sunshineMin + \"result.csv\")\n",
    "df14.columns = [[\"id\", \"shineMin\"]]"
   ]
  },
  {
   "cell_type": "markdown",
   "metadata": {},
   "source": [
    "### Merge"
   ]
  },
  {
   "cell_type": "code",
   "execution_count": 6,
   "metadata": {
    "collapsed": true
   },
   "outputs": [],
   "source": [
    "def mergeFrames(dfs, key=\"id\"):\n",
    "    if len(dfs) == 0:\n",
    "        return pd.DataFrame()\n",
    "    \n",
    "    acc = dfs[0]\n",
    "    for df in dfs[1:]:\n",
    "        acc = pd.merge(acc, df, on=\"id\")\n",
    "        \n",
    "    return acc"
   ]
  },
  {
   "cell_type": "code",
   "execution_count": 7,
   "metadata": {
    "collapsed": false
   },
   "outputs": [],
   "source": [
    "df = mergeFrames([df1, df2, df3, df6, df7, df8, df9, df10, df11, df12, df13, df14])\n",
    "gridSize = len(df)"
   ]
  },
  {
   "cell_type": "markdown",
   "metadata": {},
   "source": [
    "### Rename"
   ]
  },
  {
   "cell_type": "code",
   "execution_count": 8,
   "metadata": {
    "collapsed": true
   },
   "outputs": [],
   "source": [
    "features =  [\n",
    "    \"red\",  \"yellow\",  \"green\", \"slow\", \n",
    "    # \"brake\", \"accel\", \n",
    "    # \"sunMax\", \"sunMiddle\", \"sunMin\",\n",
    "    # \"cloudMax\", \"cloudMiddle\", \"cloudMin\",\n",
    "    # \"shineMax\", \"shineMiddle\", \"shineMin\"\n",
    "]"
   ]
  },
  {
   "cell_type": "code",
   "execution_count": 9,
   "metadata": {
    "collapsed": true
   },
   "outputs": [],
   "source": [
    "normedFeatures = [\n",
    "    \"yellow\",  \"green\", \"slow\",\n",
    "    # \"brake\", \"accel\", \n",
    "    # \"sunMax\", \"sunMiddle\",\n",
    "    # \"cloudMax\", \"cloudMiddle\",\n",
    "    # \"shineMax\", \"shineMiddle\",\n",
    "]"
   ]
  },
  {
   "cell_type": "markdown",
   "metadata": {},
   "source": [
    "### 必要なデータだけ取り出す (通った経路だけ)"
   ]
  },
  {
   "cell_type": "code",
   "execution_count": 10,
   "metadata": {
    "collapsed": false
   },
   "outputs": [],
   "source": [
    "mf = df[df['red'] + df['yellow'] + df['green'] + df['slow'] > 0]\n",
    "# mf = df[df['brake'] + df['accel'] > 0]\n",
    "mf = mf[features]"
   ]
  },
  {
   "cell_type": "markdown",
   "metadata": {},
   "source": [
    "### 確認"
   ]
  },
  {
   "cell_type": "code",
   "execution_count": 11,
   "metadata": {
    "collapsed": false,
    "scrolled": true
   },
   "outputs": [
    {
     "data": {
      "text/html": [
       "<div>\n",
       "<table border=\"1\" class=\"dataframe\">\n",
       "  <thead>\n",
       "    <tr style=\"text-align: right;\">\n",
       "      <th></th>\n",
       "      <th>red</th>\n",
       "      <th>yellow</th>\n",
       "      <th>green</th>\n",
       "      <th>slow</th>\n",
       "    </tr>\n",
       "  </thead>\n",
       "  <tbody>\n",
       "    <tr>\n",
       "      <th>count</th>\n",
       "      <td>123.000000</td>\n",
       "      <td>123.000000</td>\n",
       "      <td>123.000000</td>\n",
       "      <td>123.000000</td>\n",
       "    </tr>\n",
       "    <tr>\n",
       "      <th>mean</th>\n",
       "      <td>155.894309</td>\n",
       "      <td>78.211382</td>\n",
       "      <td>133.609756</td>\n",
       "      <td>11.991870</td>\n",
       "    </tr>\n",
       "    <tr>\n",
       "      <th>std</th>\n",
       "      <td>492.554180</td>\n",
       "      <td>116.664311</td>\n",
       "      <td>83.804675</td>\n",
       "      <td>29.764512</td>\n",
       "    </tr>\n",
       "    <tr>\n",
       "      <th>min</th>\n",
       "      <td>0.000000</td>\n",
       "      <td>0.000000</td>\n",
       "      <td>0.000000</td>\n",
       "      <td>0.000000</td>\n",
       "    </tr>\n",
       "    <tr>\n",
       "      <th>25%</th>\n",
       "      <td>0.000000</td>\n",
       "      <td>0.000000</td>\n",
       "      <td>81.000000</td>\n",
       "      <td>0.000000</td>\n",
       "    </tr>\n",
       "    <tr>\n",
       "      <th>50%</th>\n",
       "      <td>0.000000</td>\n",
       "      <td>12.000000</td>\n",
       "      <td>119.000000</td>\n",
       "      <td>0.000000</td>\n",
       "    </tr>\n",
       "    <tr>\n",
       "      <th>75%</th>\n",
       "      <td>71.500000</td>\n",
       "      <td>138.500000</td>\n",
       "      <td>189.000000</td>\n",
       "      <td>3.000000</td>\n",
       "    </tr>\n",
       "    <tr>\n",
       "      <th>max</th>\n",
       "      <td>3831.000000</td>\n",
       "      <td>544.000000</td>\n",
       "      <td>392.000000</td>\n",
       "      <td>129.000000</td>\n",
       "    </tr>\n",
       "  </tbody>\n",
       "</table>\n",
       "</div>"
      ],
      "text/plain": [
       "               red      yellow       green        slow\n",
       "count   123.000000  123.000000  123.000000  123.000000\n",
       "mean    155.894309   78.211382  133.609756   11.991870\n",
       "std     492.554180  116.664311   83.804675   29.764512\n",
       "min       0.000000    0.000000    0.000000    0.000000\n",
       "25%       0.000000    0.000000   81.000000    0.000000\n",
       "50%       0.000000   12.000000  119.000000    0.000000\n",
       "75%      71.500000  138.500000  189.000000    3.000000\n",
       "max    3831.000000  544.000000  392.000000  129.000000"
      ]
     },
     "execution_count": 11,
     "metadata": {},
     "output_type": "execute_result"
    }
   ],
   "source": [
    "mf.describe()"
   ]
  },
  {
   "cell_type": "code",
   "execution_count": 12,
   "metadata": {
    "collapsed": true
   },
   "outputs": [],
   "source": [
    "# colors = [\n",
    "#   \"#FE2400\",\n",
    "#   \"#B21D72\",\n",
    "#   \"#5023D0\",\n",
    "#   \"#247395\",\n",
    "#   \"#FFFF01\",\n",
    "#   \"#FEAF07\",\n",
    "#   \"#247395\",\n",
    "# ]"
   ]
  },
  {
   "cell_type": "code",
   "execution_count": 13,
   "metadata": {
    "collapsed": true
   },
   "outputs": [],
   "source": [
    "colors = [\n",
    "    \"#FE2400\",\n",
    "    \"#EC2127\",\n",
    "    \"#D21E4E\",\n",
    "    \"#B21D72\",\n",
    "    \"#951E93\",\n",
    "    \"#7421B1\",\n",
    "    \"#5023D0\",\n",
    "    \"#3025EA\",\n",
    "    \"#082EFD\",\n",
    "    \"#1147CE\",\n",
    "    \"#247395\",\n",
    "    \"#389D51\",\n",
    "    \"#49C900\",\n",
    "    \"#81D503\",\n",
    "    \"#AFE400\",\n",
    "    \"#DAF201\",\n",
    "    \"#FFFF01\",\n",
    "    \"#FEE600\",\n",
    "    \"#FECD02\",\n",
    "    \"#FEAF07\",\n",
    "    \"#FF9400\",\n",
    "    \"#FE7701\",\n",
    "    \"#FD5800\",\n",
    "    \"#FF3900\",\n",
    "]"
   ]
  },
  {
   "cell_type": "markdown",
   "metadata": {},
   "source": [
    "# VBGMM"
   ]
  },
  {
   "cell_type": "markdown",
   "metadata": {},
   "source": [
    "### 各特徴料を正規化する下準備"
   ]
  },
  {
   "cell_type": "code",
   "execution_count": 14,
   "metadata": {
    "collapsed": true
   },
   "outputs": [],
   "source": [
    "speeds = [\"red\", \"yellow\", \"green\", \"slow\"]\n",
    "pedals = [\"brake\", \"accel\"]\n",
    "steerings = [\"steeringPositive\", \"steeringNegative\"]\n",
    "suns = [\"sunMax\", \"sunMiddle\", \"sunMin\",]\n",
    "clouds = [\"cloudMax\", \"cloudMiddle\", \"cloudMin\",]\n",
    "shines = [\"shineMax\", \"shineMiddle\", \"shineMin\"]"
   ]
  },
  {
   "cell_type": "markdown",
   "metadata": {},
   "source": [
    "### 各特徴料を正規化"
   ]
  },
  {
   "cell_type": "code",
   "execution_count": 15,
   "metadata": {
    "collapsed": false
   },
   "outputs": [],
   "source": [
    "bf = mf.copy()\n",
    "bf[\"sumSpeed\"] = bf[\"red\"] + bf[\"yellow\"] + bf[\"green\"] + bf[\"slow\"]\n",
    "# bf[\"sumPedal\"] = bf[\"brake\"] + bf[\"accel\"] \n",
    "# bf[\"sumSteering\"] = bf[\"steeringPositive\"] + bf[\"steeringNegative\"]\n",
    "# bf[\"sumSuns\"] = bf[\"sunMax\"] + bf[\"sunMiddle\"] + bf[\"sunMin\"]\n",
    "# bf[\"sumClouds\"] = bf[\"cloudMax\"] + bf[\"cloudMiddle\"] + bf[\"cloudMin\"]\n",
    "# bf[\"sumShines\"] = bf[\"shineMax\"] + bf[\"shineMiddle\"] + bf[\"shineMin\"]\n",
    "\n",
    "for key in speeds:\n",
    "    bf[key] = bf[key] / bf[\"sumSpeed\"]\n",
    "    \n",
    "# for key in pedals:\n",
    "#     bf[key] = bf[key] / bf[\"sumPedal\"]\n",
    "    \n",
    "# for key in steerings:\n",
    "#     bf[key] = bf[key] / bf[\"sumSteering\"]\n",
    "\n",
    "# for key in suns:\n",
    "#     bf[key] = bf[key] /bf[\"sumSuns\"]\n",
    "    \n",
    "# for key in clouds:\n",
    "#     bf[key] = bf[key] /bf[\"sumClouds\"]\n",
    "    \n",
    "# for key in shines:\n",
    "#     bf[key] = bf[key] /bf[\"sumShines\"]\n",
    "    \n",
    "bf = bf.fillna(0)    \n",
    "    \n",
    "# bf = bf[features]\n",
    "bf = bf[normedFeatures]"
   ]
  },
  {
   "cell_type": "code",
   "execution_count": 16,
   "metadata": {
    "collapsed": false
   },
   "outputs": [
    {
     "data": {
      "text/html": [
       "<div>\n",
       "<table border=\"1\" class=\"dataframe\">\n",
       "  <thead>\n",
       "    <tr style=\"text-align: right;\">\n",
       "      <th></th>\n",
       "      <th>yellow</th>\n",
       "      <th>green</th>\n",
       "      <th>slow</th>\n",
       "    </tr>\n",
       "  </thead>\n",
       "  <tbody>\n",
       "    <tr>\n",
       "      <th>count</th>\n",
       "      <td>123.000000</td>\n",
       "      <td>123.000000</td>\n",
       "      <td>123.000000</td>\n",
       "    </tr>\n",
       "    <tr>\n",
       "      <th>mean</th>\n",
       "      <td>0.173269</td>\n",
       "      <td>0.590656</td>\n",
       "      <td>0.080068</td>\n",
       "    </tr>\n",
       "    <tr>\n",
       "      <th>std</th>\n",
       "      <td>0.210690</td>\n",
       "      <td>0.339190</td>\n",
       "      <td>0.173157</td>\n",
       "    </tr>\n",
       "    <tr>\n",
       "      <th>min</th>\n",
       "      <td>0.000000</td>\n",
       "      <td>0.000000</td>\n",
       "      <td>0.000000</td>\n",
       "    </tr>\n",
       "    <tr>\n",
       "      <th>25%</th>\n",
       "      <td>0.000000</td>\n",
       "      <td>0.284895</td>\n",
       "      <td>0.000000</td>\n",
       "    </tr>\n",
       "    <tr>\n",
       "      <th>50%</th>\n",
       "      <td>0.058252</td>\n",
       "      <td>0.566667</td>\n",
       "      <td>0.000000</td>\n",
       "    </tr>\n",
       "    <tr>\n",
       "      <th>75%</th>\n",
       "      <td>0.310593</td>\n",
       "      <td>0.941462</td>\n",
       "      <td>0.019141</td>\n",
       "    </tr>\n",
       "    <tr>\n",
       "      <th>max</th>\n",
       "      <td>1.000000</td>\n",
       "      <td>1.000000</td>\n",
       "      <td>0.592593</td>\n",
       "    </tr>\n",
       "  </tbody>\n",
       "</table>\n",
       "</div>"
      ],
      "text/plain": [
       "           yellow       green        slow\n",
       "count  123.000000  123.000000  123.000000\n",
       "mean     0.173269    0.590656    0.080068\n",
       "std      0.210690    0.339190    0.173157\n",
       "min      0.000000    0.000000    0.000000\n",
       "25%      0.000000    0.284895    0.000000\n",
       "50%      0.058252    0.566667    0.000000\n",
       "75%      0.310593    0.941462    0.019141\n",
       "max      1.000000    1.000000    0.592593"
      ]
     },
     "execution_count": 16,
     "metadata": {},
     "output_type": "execute_result"
    }
   ],
   "source": [
    "bf.describe()"
   ]
  },
  {
   "cell_type": "markdown",
   "metadata": {},
   "source": [
    "### ハイパーパラメータの設定"
   ]
  },
  {
   "cell_type": "code",
   "execution_count": 17,
   "metadata": {
    "collapsed": false
   },
   "outputs": [],
   "source": [
    "components = 24\n",
    "prior = 0.0001\n",
    "cov_type = 'full'\n",
    "cov_prior = 0.005 * np.identity(len(normedFeatures))\n",
    "# cov_prior = 0.09 * np.identity(len(features))\n",
    "max_iter = 200"
   ]
  },
  {
   "cell_type": "markdown",
   "metadata": {},
   "source": [
    "### 一番良い seed 値をグリッドサーチする"
   ]
  },
  {
   "cell_type": "code",
   "execution_count": 18,
   "metadata": {
    "collapsed": false
   },
   "outputs": [
    {
     "name": "stdout",
     "output_type": "stream",
     "text": [
      "[{'classes': 5, 'lower bounds': 1306.5180911543357, 'seed': 12},\n",
      " {'classes': 5, 'lower bounds': 1311.1286192990237, 'seed': 0},\n",
      " {'classes': 5, 'lower bounds': 1340.7655710007043, 'seed': 6},\n",
      " {'classes': 5, 'lower bounds': 1358.9672169602406, 'seed': 2},\n",
      " {'classes': 5, 'lower bounds': 1394.7797503179204, 'seed': 16},\n",
      " {'classes': 5, 'lower bounds': 1405.9172290739173, 'seed': 3},\n",
      " {'classes': 5, 'lower bounds': 1413.3851451983737, 'seed': 19},\n",
      " {'classes': 5, 'lower bounds': 1413.457656717462, 'seed': 1},\n",
      " {'classes': 4, 'lower bounds': 1421.6870063799158, 'seed': 7},\n",
      " {'classes': 5, 'lower bounds': 1450.8205623367301, 'seed': 11},\n",
      " {'classes': 5, 'lower bounds': 1467.6010049731158, 'seed': 8},\n",
      " {'classes': 3, 'lower bounds': 1483.1729328745741, 'seed': 18},\n",
      " {'classes': 5, 'lower bounds': 1490.6417061262609, 'seed': 13},\n",
      " {'classes': 4, 'lower bounds': 1495.2311117817726, 'seed': 17},\n",
      " {'classes': 5, 'lower bounds': 1505.0766266020626, 'seed': 14},\n",
      " {'classes': 3, 'lower bounds': 1511.3259557017509, 'seed': 15},\n",
      " {'classes': 3, 'lower bounds': 1523.332797631713, 'seed': 4},\n",
      " {'classes': 3, 'lower bounds': 1551.3773655098455, 'seed': 9},\n",
      " {'classes': 3, 'lower bounds': 1566.0838463953855, 'seed': 5},\n",
      " {'classes': 3, 'lower bounds': 1566.0840031923972, 'seed': 10}]\n"
     ]
    }
   ],
   "source": [
    "def gridSearch():\n",
    "    result = []\n",
    "    for k in range(20):\n",
    "        sd = k\n",
    "        np.random.seed(sd)\n",
    "        random.seed(sd)\n",
    "    \n",
    "        vb = BayesianGaussianMixture(\n",
    "            n_components=components,\n",
    "            weight_concentration_prior=prior, \n",
    "            covariance_type=cov_type,\n",
    "            covariance_prior=cov_prior,\n",
    "            max_iter=max_iter\n",
    "        ).fit(bf)\n",
    "        result.append({\n",
    "                \"seed\": sd,\n",
    "                \"classes\": len(set(vb.predict(bf))),\n",
    "                \"lower bounds\": vb.lower_bound_\n",
    "        })\n",
    "\n",
    "    return sorted(result, key=lambda res: res[\"lower bounds\"])\n",
    "\n",
    "pprint.pprint(gridSearch())"
   ]
  },
  {
   "cell_type": "markdown",
   "metadata": {},
   "source": [
    "### 上で得られた一番良いシード値に設定"
   ]
  },
  {
   "cell_type": "code",
   "execution_count": 19,
   "metadata": {
    "collapsed": false
   },
   "outputs": [],
   "source": [
    "sd = 12\n",
    "np.random.seed(sd)\n",
    "random.seed(sd)"
   ]
  },
  {
   "cell_type": "markdown",
   "metadata": {},
   "source": [
    "### 実際に Bayesian Gaussian Mixture mode でクラスタリング"
   ]
  },
  {
   "cell_type": "code",
   "execution_count": 20,
   "metadata": {
    "collapsed": false,
    "scrolled": true
   },
   "outputs": [
    {
     "name": "stdout",
     "output_type": "stream",
     "text": [
      "class size:       5\n",
      "classes:           set([9, 10, 3, 21, 5])\n",
      "lower bound:  1306.51809115\n"
     ]
    }
   ],
   "source": [
    "vb = BayesianGaussianMixture(\n",
    "    n_components=components,\n",
    "    weight_concentration_prior=prior, \n",
    "    covariance_type=cov_type,\n",
    "    covariance_prior=cov_prior,\n",
    "    max_iter=max_iter    \n",
    ").fit(bf)\n",
    "print \"class size:      \", len(set(vb.predict(bf)))\n",
    "print \"classes:          \", set(vb.predict(bf))\n",
    "print \"lower bound: \", vb.lower_bound_"
   ]
  },
  {
   "cell_type": "markdown",
   "metadata": {},
   "source": [
    "### 結果の確認"
   ]
  },
  {
   "cell_type": "code",
   "execution_count": 21,
   "metadata": {
    "collapsed": false,
    "scrolled": true
   },
   "outputs": [
    {
     "data": {
      "text/plain": [
       "array([  8.07129119e-03,   8.00614469e-03,   7.94152403e-03,\n",
       "         3.99101337e-01,   7.77130462e-03,   2.30269519e-02,\n",
       "         7.56046868e-03,   7.45579309e-03,   7.35256680e-03,\n",
       "         6.83257832e-02,   1.99563852e-01,   6.94341399e-03,\n",
       "         6.75495663e-03,   6.57161453e-03,   6.39324886e-03,\n",
       "         6.21972451e-03,   6.05091008e-03,   5.88667771e-03,\n",
       "         5.72690303e-03,   5.57146503e-03,   5.42024599e-03,\n",
       "         1.94283295e-01,   5.26973287e-07,   5.26920595e-11])"
      ]
     },
     "execution_count": 21,
     "metadata": {},
     "output_type": "execute_result"
    }
   ],
   "source": [
    "vb.weights_"
   ]
  },
  {
   "cell_type": "code",
   "execution_count": 22,
   "metadata": {
    "collapsed": false
   },
   "outputs": [],
   "source": [
    "ws = [\"%02f\" % w for w in vb.weights_]"
   ]
  },
  {
   "cell_type": "code",
   "execution_count": 23,
   "metadata": {
    "collapsed": false,
    "scrolled": false
   },
   "outputs": [
    {
     "data": {
      "text/html": [
       "<div>\n",
       "<table border=\"1\" class=\"dataframe\">\n",
       "  <thead>\n",
       "    <tr style=\"text-align: right;\">\n",
       "      <th></th>\n",
       "      <th>yellow</th>\n",
       "      <th>green</th>\n",
       "      <th>slow</th>\n",
       "      <th>red</th>\n",
       "      <th>weight</th>\n",
       "    </tr>\n",
       "  </thead>\n",
       "  <tbody>\n",
       "    <tr>\n",
       "      <th>3</th>\n",
       "      <td>0.341225</td>\n",
       "      <td>0.287778</td>\n",
       "      <td>0.001580</td>\n",
       "      <td>0.369417</td>\n",
       "      <td>0.399101</td>\n",
       "    </tr>\n",
       "    <tr>\n",
       "      <th>10</th>\n",
       "      <td>0.008254</td>\n",
       "      <td>0.636591</td>\n",
       "      <td>0.349329</td>\n",
       "      <td>0.005826</td>\n",
       "      <td>0.199564</td>\n",
       "    </tr>\n",
       "    <tr>\n",
       "      <th>21</th>\n",
       "      <td>0.026720</td>\n",
       "      <td>0.956631</td>\n",
       "      <td>0.006315</td>\n",
       "      <td>0.010335</td>\n",
       "      <td>0.194283</td>\n",
       "    </tr>\n",
       "    <tr>\n",
       "      <th>9</th>\n",
       "      <td>0.171437</td>\n",
       "      <td>0.776474</td>\n",
       "      <td>0.008560</td>\n",
       "      <td>0.043529</td>\n",
       "      <td>0.068326</td>\n",
       "    </tr>\n",
       "    <tr>\n",
       "      <th>5</th>\n",
       "      <td>0.679147</td>\n",
       "      <td>0.201077</td>\n",
       "      <td>0.026637</td>\n",
       "      <td>0.093138</td>\n",
       "      <td>0.023027</td>\n",
       "    </tr>\n",
       "    <tr>\n",
       "      <th>0</th>\n",
       "      <td>0.173284</td>\n",
       "      <td>0.590623</td>\n",
       "      <td>0.080000</td>\n",
       "      <td>0.156093</td>\n",
       "      <td>0.008071</td>\n",
       "    </tr>\n",
       "    <tr>\n",
       "      <th>1</th>\n",
       "      <td>0.173284</td>\n",
       "      <td>0.590623</td>\n",
       "      <td>0.080001</td>\n",
       "      <td>0.156093</td>\n",
       "      <td>0.008006</td>\n",
       "    </tr>\n",
       "    <tr>\n",
       "      <th>2</th>\n",
       "      <td>0.173283</td>\n",
       "      <td>0.590623</td>\n",
       "      <td>0.080001</td>\n",
       "      <td>0.156092</td>\n",
       "      <td>0.007942</td>\n",
       "    </tr>\n",
       "    <tr>\n",
       "      <th>4</th>\n",
       "      <td>0.173283</td>\n",
       "      <td>0.590624</td>\n",
       "      <td>0.080003</td>\n",
       "      <td>0.156090</td>\n",
       "      <td>0.007771</td>\n",
       "    </tr>\n",
       "    <tr>\n",
       "      <th>6</th>\n",
       "      <td>0.173283</td>\n",
       "      <td>0.590625</td>\n",
       "      <td>0.080005</td>\n",
       "      <td>0.156088</td>\n",
       "      <td>0.007560</td>\n",
       "    </tr>\n",
       "    <tr>\n",
       "      <th>7</th>\n",
       "      <td>0.173283</td>\n",
       "      <td>0.590625</td>\n",
       "      <td>0.080006</td>\n",
       "      <td>0.156087</td>\n",
       "      <td>0.007456</td>\n",
       "    </tr>\n",
       "    <tr>\n",
       "      <th>8</th>\n",
       "      <td>0.173282</td>\n",
       "      <td>0.590626</td>\n",
       "      <td>0.080006</td>\n",
       "      <td>0.156086</td>\n",
       "      <td>0.007353</td>\n",
       "    </tr>\n",
       "    <tr>\n",
       "      <th>11</th>\n",
       "      <td>0.173282</td>\n",
       "      <td>0.590627</td>\n",
       "      <td>0.080010</td>\n",
       "      <td>0.156081</td>\n",
       "      <td>0.006943</td>\n",
       "    </tr>\n",
       "    <tr>\n",
       "      <th>12</th>\n",
       "      <td>0.173281</td>\n",
       "      <td>0.590628</td>\n",
       "      <td>0.080011</td>\n",
       "      <td>0.156079</td>\n",
       "      <td>0.006755</td>\n",
       "    </tr>\n",
       "    <tr>\n",
       "      <th>13</th>\n",
       "      <td>0.173281</td>\n",
       "      <td>0.590629</td>\n",
       "      <td>0.080013</td>\n",
       "      <td>0.156077</td>\n",
       "      <td>0.006572</td>\n",
       "    </tr>\n",
       "    <tr>\n",
       "      <th>14</th>\n",
       "      <td>0.173281</td>\n",
       "      <td>0.590630</td>\n",
       "      <td>0.080015</td>\n",
       "      <td>0.156075</td>\n",
       "      <td>0.006393</td>\n",
       "    </tr>\n",
       "    <tr>\n",
       "      <th>15</th>\n",
       "      <td>0.173280</td>\n",
       "      <td>0.590630</td>\n",
       "      <td>0.080016</td>\n",
       "      <td>0.156073</td>\n",
       "      <td>0.006220</td>\n",
       "    </tr>\n",
       "    <tr>\n",
       "      <th>16</th>\n",
       "      <td>0.173280</td>\n",
       "      <td>0.590631</td>\n",
       "      <td>0.080017</td>\n",
       "      <td>0.156072</td>\n",
       "      <td>0.006051</td>\n",
       "    </tr>\n",
       "    <tr>\n",
       "      <th>17</th>\n",
       "      <td>0.173280</td>\n",
       "      <td>0.590632</td>\n",
       "      <td>0.080019</td>\n",
       "      <td>0.156070</td>\n",
       "      <td>0.005887</td>\n",
       "    </tr>\n",
       "    <tr>\n",
       "      <th>18</th>\n",
       "      <td>0.173279</td>\n",
       "      <td>0.590632</td>\n",
       "      <td>0.080020</td>\n",
       "      <td>0.156068</td>\n",
       "      <td>0.005727</td>\n",
       "    </tr>\n",
       "    <tr>\n",
       "      <th>19</th>\n",
       "      <td>0.173279</td>\n",
       "      <td>0.590633</td>\n",
       "      <td>0.080021</td>\n",
       "      <td>0.156066</td>\n",
       "      <td>0.005571</td>\n",
       "    </tr>\n",
       "    <tr>\n",
       "      <th>20</th>\n",
       "      <td>0.173279</td>\n",
       "      <td>0.590634</td>\n",
       "      <td>0.080023</td>\n",
       "      <td>0.156065</td>\n",
       "      <td>0.005420</td>\n",
       "    </tr>\n",
       "    <tr>\n",
       "      <th>22</th>\n",
       "      <td>0.173269</td>\n",
       "      <td>0.590656</td>\n",
       "      <td>0.080068</td>\n",
       "      <td>0.156008</td>\n",
       "      <td>0.000001</td>\n",
       "    </tr>\n",
       "    <tr>\n",
       "      <th>23</th>\n",
       "      <td>0.173269</td>\n",
       "      <td>0.590656</td>\n",
       "      <td>0.080068</td>\n",
       "      <td>0.156008</td>\n",
       "      <td>0.000000</td>\n",
       "    </tr>\n",
       "  </tbody>\n",
       "</table>\n",
       "</div>"
      ],
      "text/plain": [
       "      yellow     green      slow       red    weight\n",
       "3   0.341225  0.287778  0.001580  0.369417  0.399101\n",
       "10  0.008254  0.636591  0.349329  0.005826  0.199564\n",
       "21  0.026720  0.956631  0.006315  0.010335  0.194283\n",
       "9   0.171437  0.776474  0.008560  0.043529  0.068326\n",
       "5   0.679147  0.201077  0.026637  0.093138  0.023027\n",
       "0   0.173284  0.590623  0.080000  0.156093  0.008071\n",
       "1   0.173284  0.590623  0.080001  0.156093  0.008006\n",
       "2   0.173283  0.590623  0.080001  0.156092  0.007942\n",
       "4   0.173283  0.590624  0.080003  0.156090  0.007771\n",
       "6   0.173283  0.590625  0.080005  0.156088  0.007560\n",
       "7   0.173283  0.590625  0.080006  0.156087  0.007456\n",
       "8   0.173282  0.590626  0.080006  0.156086  0.007353\n",
       "11  0.173282  0.590627  0.080010  0.156081  0.006943\n",
       "12  0.173281  0.590628  0.080011  0.156079  0.006755\n",
       "13  0.173281  0.590629  0.080013  0.156077  0.006572\n",
       "14  0.173281  0.590630  0.080015  0.156075  0.006393\n",
       "15  0.173280  0.590630  0.080016  0.156073  0.006220\n",
       "16  0.173280  0.590631  0.080017  0.156072  0.006051\n",
       "17  0.173280  0.590632  0.080019  0.156070  0.005887\n",
       "18  0.173279  0.590632  0.080020  0.156068  0.005727\n",
       "19  0.173279  0.590633  0.080021  0.156066  0.005571\n",
       "20  0.173279  0.590634  0.080023  0.156065  0.005420\n",
       "22  0.173269  0.590656  0.080068  0.156008  0.000001\n",
       "23  0.173269  0.590656  0.080068  0.156008  0.000000"
      ]
     },
     "execution_count": 23,
     "metadata": {},
     "output_type": "execute_result"
    }
   ],
   "source": [
    "ref = pd.DataFrame(vb.means_)\n",
    "# ref.columns = [features]\n",
    "ref.columns = [normedFeatures]\n",
    "ref[\"red\"] = 1 - (ref[\"slow\"] + ref[\"yellow\"] + ref[\"green\"])\n",
    "# ref[\"sunMin\"] = 1 - (ref[\"sunMax\"] + ref[\"sunMiddle\"])\n",
    "# ref[\"cloudMin\"] = 1 - (ref[\"cloudMax\"] + ref[\"cloudMiddle\"])\n",
    "# ref[\"shineMin\"] = 1 - (ref[\"shineMax\"] + ref[\"shineMiddle\"])\n",
    "ref[\"weight\"] = ws\n",
    "ref.sort_values(\"weight\", ascending=False)"
   ]
  },
  {
   "cell_type": "code",
   "execution_count": 24,
   "metadata": {
    "collapsed": false
   },
   "outputs": [
    {
     "data": {
      "text/html": [
       "<div>\n",
       "<table border=\"1\" class=\"dataframe\">\n",
       "  <thead>\n",
       "    <tr style=\"text-align: right;\">\n",
       "      <th></th>\n",
       "      <th>yellow</th>\n",
       "      <th>green</th>\n",
       "      <th>slow</th>\n",
       "      <th>red</th>\n",
       "      <th>weight</th>\n",
       "    </tr>\n",
       "  </thead>\n",
       "  <tbody>\n",
       "    <tr>\n",
       "      <th>3</th>\n",
       "      <td>0.341225</td>\n",
       "      <td>0.287778</td>\n",
       "      <td>0.001580</td>\n",
       "      <td>0.369417</td>\n",
       "      <td>0.399101</td>\n",
       "    </tr>\n",
       "    <tr>\n",
       "      <th>10</th>\n",
       "      <td>0.008254</td>\n",
       "      <td>0.636591</td>\n",
       "      <td>0.349329</td>\n",
       "      <td>0.005826</td>\n",
       "      <td>0.199564</td>\n",
       "    </tr>\n",
       "    <tr>\n",
       "      <th>21</th>\n",
       "      <td>0.026720</td>\n",
       "      <td>0.956631</td>\n",
       "      <td>0.006315</td>\n",
       "      <td>0.010335</td>\n",
       "      <td>0.194283</td>\n",
       "    </tr>\n",
       "    <tr>\n",
       "      <th>9</th>\n",
       "      <td>0.171437</td>\n",
       "      <td>0.776474</td>\n",
       "      <td>0.008560</td>\n",
       "      <td>0.043529</td>\n",
       "      <td>0.068326</td>\n",
       "    </tr>\n",
       "    <tr>\n",
       "      <th>5</th>\n",
       "      <td>0.679147</td>\n",
       "      <td>0.201077</td>\n",
       "      <td>0.026637</td>\n",
       "      <td>0.093138</td>\n",
       "      <td>0.023027</td>\n",
       "    </tr>\n",
       "  </tbody>\n",
       "</table>\n",
       "</div>"
      ],
      "text/plain": [
       "      yellow     green      slow       red    weight\n",
       "3   0.341225  0.287778  0.001580  0.369417  0.399101\n",
       "10  0.008254  0.636591  0.349329  0.005826  0.199564\n",
       "21  0.026720  0.956631  0.006315  0.010335  0.194283\n",
       "9   0.171437  0.776474  0.008560  0.043529  0.068326\n",
       "5   0.679147  0.201077  0.026637  0.093138  0.023027"
      ]
     },
     "execution_count": 24,
     "metadata": {},
     "output_type": "execute_result"
    }
   ],
   "source": [
    "ref.sort_values(\"weight\", ascending=False)[:len(set(vb.predict(bf)))]"
   ]
  },
  {
   "cell_type": "markdown",
   "metadata": {},
   "source": [
    "# Plot histgram of each clusters"
   ]
  },
  {
   "cell_type": "markdown",
   "metadata": {},
   "source": [
    "### ヒストグラムの表示と保存"
   ]
  },
  {
   "cell_type": "code",
   "execution_count": 25,
   "metadata": {
    "collapsed": false
   },
   "outputs": [],
   "source": [
    "cls = ref.sort_values(\"weight\", ascending=False)[:len(set(vb.predict(bf)))].index"
   ]
  },
  {
   "cell_type": "code",
   "execution_count": 27,
   "metadata": {
    "collapsed": false,
    "scrolled": false
   },
   "outputs": [
    {
     "data": {
      "image/png": "[encoded data removed]",
      "text/plain": [
       "<matplotlib.figure.Figure at 0x112c0d710>"
      ]
     },
     "metadata": {},
     "output_type": "display_data"
    },
    {
     "data": {
      "image/png": "[encoded data removed]",
      "text/plain": [
       "<matplotlib.figure.Figure at 0x112d10250>"
      ]
     },
     "metadata": {},
     "output_type": "display_data"
    },
    {
     "data": {
      "image/png": "[encoded data removed]",
      "text/plain": [
       "<matplotlib.figure.Figure at 0x112e04bd0>"
      ]
     },
     "metadata": {},
     "output_type": "display_data"
    },
    {
     "data": {
      "image/png": "[encoded data removed]",
      "text/plain": [
       "<matplotlib.figure.Figure at 0x112f89ad0>"
      ]
     },
     "metadata": {},
     "output_type": "display_data"
    },
    {
     "data": {
      "image/png": "[encoded data removed]",
      "text/plain": [
       "<matplotlib.figure.Figure at 0x113108650>"
      ]
     },
     "metadata": {},
     "output_type": "display_data"
    }
   ],
   "source": [
    "dir = \"./img/Result1/clusters-\" + str(sd)\n",
    "if not os.path.exists(dir):\n",
    "    os.mkdir(dir)\n",
    "\n",
    "ref = ref[features]\n",
    "for i in cls:\n",
    "    ref.ix[i].plot(kind='bar', color=colors[i])\n",
    "    plt.title(i)\n",
    "    plt.ylim(0, 1)\n",
    "    plt.savefig(dir + \"/cluster\" + str(i) + \".png\")\n",
    "    plt.show()"
   ]
  },
  {
   "cell_type": "markdown",
   "metadata": {},
   "source": [
    "# Save"
   ]
  },
  {
   "cell_type": "markdown",
   "metadata": {},
   "source": [
    "### 結果の保存"
   ]
  },
  {
   "cell_type": "code",
   "execution_count": 28,
   "metadata": {
    "collapsed": false
   },
   "outputs": [],
   "source": [
    "pred = zip(mf.index, vb.predict(bf))\n",
    "result = np.zeros(gridSize)\n",
    "\n",
    "for index, klass in pred:\n",
    "    result[index] = klass + 1\n",
    "    \n",
    "np.savetxt(targetDir + \"clusters.csv\", result, delimiter=\",\", fmt=\"%d\")\n",
    "\n",
    "with open(dir + '/VBSetting.json', 'w') as outfile:\n",
    "    data = {\n",
    "        \"n_components\": components,\n",
    "        \"weight_concentration_prior\": prior,\n",
    "        \"seed\": sd\n",
    "    }\n",
    "    json.dump(data, outfile)"
   ]
  },
  {
   "cell_type": "code",
   "execution_count": 29,
   "metadata": {
    "collapsed": false
   },
   "outputs": [
    {
     "data": {
      "text/plain": [
       "5"
      ]
     },
     "execution_count": 29,
     "metadata": {},
     "output_type": "execute_result"
    }
   ],
   "source": [
    "len(set(vb.predict(bf)))"
   ]
  },
  {
   "cell_type": "code",
   "execution_count": 30,
   "metadata": {
    "collapsed": false
   },
   "outputs": [],
   "source": [
    "for i, c in zip(bf.index, vb.predict(bf)):\n",
    "    if c == 10:\n",
    "        df.ix[i]"
   ]
  },
  {
   "cell_type": "code",
   "execution_count": 31,
   "metadata": {
    "collapsed": false
   },
   "outputs": [],
   "source": [
    "bf[\"cluster\"] = vb.predict(bf)"
   ]
  },
  {
   "cell_type": "code",
   "execution_count": 32,
   "metadata": {
    "collapsed": false
   },
   "outputs": [
    {
     "data": {
      "text/plain": [
       "Int64Index([423, 424, 501, 503, 504, 530, 531, 534, 559, 560, 588, 589, 617,\n",
       "            618, 646, 647, 675, 676, 704, 705, 728, 730, 731, 732, 733, 734],\n",
       "           dtype='int64')"
      ]
     },
     "execution_count": 32,
     "metadata": {},
     "output_type": "execute_result"
    }
   ],
   "source": [
    "mf[bf[\"cluster\"] == 10].index"
   ]
  },
  {
   "cell_type": "code",
   "execution_count": 35,
   "metadata": {
    "collapsed": false
   },
   "outputs": [
    {
     "data": {
      "text/plain": [
       "red        0\n",
       "yellow     0\n",
       "green     90\n",
       "slow      18\n",
       "Name: 734, dtype: int64"
      ]
     },
     "execution_count": 35,
     "metadata": {},
     "output_type": "execute_result"
    }
   ],
   "source": [
    "mf.ix[734]"
   ]
  },
  {
   "cell_type": "code",
   "execution_count": null,
   "metadata": {
    "collapsed": true
   },
   "outputs": [],
   "source": []
  }
 ],
 "metadata": {
  "kernelspec": {
   "display_name": "Python 2",
   "language": "python",
   "name": "python2"
  },
  "language_info": {
   "codemirror_mode": {
    "name": "ipython",
    "version": 2
   },
   "file_extension": ".py",
   "mimetype": "text/x-python",
   "name": "python",
   "nbconvert_exporter": "python",
   "pygments_lexer": "ipython2",
   "version": "2.7.10"
  },
  "widgets": {
   "state": {},
   "version": "1.1.2"
  }
 },
 "nbformat": 4,
 "nbformat_minor": 0
}
