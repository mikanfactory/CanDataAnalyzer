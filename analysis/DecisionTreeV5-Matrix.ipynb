{
 "cells": [
  {
   "cell_type": "code",
   "execution_count": 1,
   "metadata": {
    "collapsed": false,
    "deletable": true,
    "editable": true
   },
   "outputs": [
    {
     "name": "stderr",
     "output_type": "stream",
     "text": [
      "\n",
      "Attaching package: ‘dplyr’\n",
      "\n",
      "The following objects are masked from ‘package:stats’:\n",
      "\n",
      "    filter, lag\n",
      "\n",
      "The following objects are masked from ‘package:base’:\n",
      "\n",
      "    intersect, setdiff, setequal, union\n",
      "\n"
     ]
    }
   ],
   "source": [
    "library(grid)\n",
    "library(rpart)\n",
    "library(rpart.plot)\n",
    "library(partykit)\n",
    "library(lattice)\n",
    "library(ggplot2)\n",
    "library(caret)\n",
    "library(dplyr)"
   ]
  },
  {
   "cell_type": "code",
   "execution_count": 2,
   "metadata": {
    "collapsed": true,
    "deletable": true,
    "editable": true
   },
   "outputs": [],
   "source": [
    "set.seed(1)"
   ]
  },
  {
   "cell_type": "code",
   "execution_count": 3,
   "metadata": {
    "collapsed": false,
    "deletable": true,
    "editable": true
   },
   "outputs": [],
   "source": [
    "invalids <- c('Time', 'Longitude', 'Latitude', 'Brake', 'Accel', 'flag', 'Curve100', 'Curve150', 'TimeHeadway')\n",
    "valuables <- c(\"RoadType\",\"CurveAverage\",\"Speed\", \"Curve100\", \"Curve150\",\"MaxSpeed\",\"RiskFactor\",\"Curve\",\"DistSignal\",\"Pitch\",\"AheadDistance\",\"AverageVelocity\",\"TimeToCollision\",\"AccelerationSpeed\", \"Engine\", \"SteeringAngle\", \"TimeHeadway\", \"Jerk\", \"LaneCount\", \"DiffAvgSpeed\", \"EmptinessOfRoad\", \"RoadFactor\")"
   ]
  },
  {
   "cell_type": "code",
   "execution_count": 4,
   "metadata": {
    "collapsed": true,
    "deletable": true,
    "editable": true
   },
   "outputs": [],
   "source": [
    "printf <- function(...) cat(sprintf(...))"
   ]
  },
  {
   "cell_type": "code",
   "execution_count": 5,
   "metadata": {
    "collapsed": false,
    "deletable": true,
    "editable": true
   },
   "outputs": [],
   "source": [
    "trainAndPredict <- function(dfx, verbose=FALSE) {        \n",
    "    train <- dfx[, c(valuables, \"flag\")]\n",
    "    test <- dfx\n",
    "    fit <- rpart(flag ~ ., data=train)\n",
    "    p <- predict(fit, newdata=test, cp=0.018)\n",
    "    predictedFlags <- colnames(p)[max.col(p, ties.method = \"first\")]\n",
    "\n",
    "    showMatrix(test, predictedFlags)\n",
    "\n",
    "    nerr <- sum(predictedFlags != test$flag)\n",
    "}"
   ]
  },
  {
   "cell_type": "code",
   "execution_count": 6,
   "metadata": {
    "collapsed": true
   },
   "outputs": [],
   "source": [
    "showMatrix <- function(test, predictedFlags) {\n",
    "    predictedRed <- test[predictedFlags == \"Red\", ]\n",
    "    predictedBlue <- test[predictedFlags == \"Blue\", ]\n",
    "    print(predictedRed %>% group_by(flag, AccelOrBrake) %>% summarize(count=n()))\n",
    "    print(predictedBlue %>% group_by(flag, AccelOrBrake) %>% summarize(count=n()))\n",
    "}"
   ]
  },
  {
   "cell_type": "code",
   "execution_count": 7,
   "metadata": {
    "collapsed": false,
    "deletable": true,
    "editable": true
   },
   "outputs": [],
   "source": [
    "correctVsPredict <- function(test, predictedFlags) {    \n",
    "    # for All\n",
    "    # nTests <- nrow(test)\n",
    "    # nCorrectAll <- sum((predictedFlags == test$flag) == TRUE)\n",
    "    # printf(\"As fo All: correct/all = %d/%d = %f\\n\", nCorrectAll, nTests, nCorrectAll / nTests)\n",
    "    \n",
    "    # for Red\n",
    "    predictedRedRows <- test[predictedFlags == \"Red\", ]\n",
    "    nCorrectReds <- sum((predictedRedRows$flag == 'Red') == TRUE)\n",
    "    nPredictedReds <- nrow(predictedRedRows)\n",
    "    printf(\"As for Red: correct/predict = %d/%d = %f\\n\", nCorrectReds, nPredictedReds, nCorrectReds / nPredictedReds)\n",
    "    \n",
    "    # for Blue\n",
    "    predictedBlueRows <- test[predictedFlags == \"Blue\", ]\n",
    "    nCorrectBlues <- sum((predictedBlueRows$flag == 'Blue') == TRUE)\n",
    "    nPredictedBlues <- nrow(predictedBlueRows)\n",
    "    printf(\"As for Blue: correct/predict = %d/%d = %f\\n\", nCorrectBlues, nPredictedBlues, nCorrectBlues / nPredictedBlues)\n",
    "    \n",
    "    c(nCorrectReds/nPredictedReds, nCorrectBlues/nPredictedBlues)\n",
    "}"
   ]
  },
  {
   "cell_type": "code",
   "execution_count": 8,
   "metadata": {
    "collapsed": true,
    "deletable": true,
    "editable": true
   },
   "outputs": [],
   "source": [
    "printRedRatios <- function(dfx) {\n",
    "    nRed <- nrow(dfx[dfx$flag == \"Red\", ])\n",
    "    nAll <- nrow(dfx)\n",
    "    printf(\"Red/All = %d/%d = %f\\n\", nRed, nAll, nRed/nAll)\n",
    "    printf(\"1 - Red/All = %d/%d = %f\\n\", nAll - nRed, nAll, 1 - nRed/nAll)\n",
    "}"
   ]
  },
  {
   "cell_type": "code",
   "execution_count": 9,
   "metadata": {
    "collapsed": true,
    "deletable": true,
    "editable": true
   },
   "outputs": [],
   "source": [
    "createFormula <- function(invalids, allFeatures) {\n",
    "    isValidColumn <- function(x) ! x %in% invalids\n",
    "    \n",
    "    features <- Filter(isValidColumn, allFeatures)\n",
    "    return(paste(\"flag ~ \", paste(features, collapse=\" + \")))\n",
    "}"
   ]
  },
  {
   "cell_type": "markdown",
   "metadata": {
    "collapsed": true,
    "deletable": true,
    "editable": true
   },
   "source": [
    "# Predict Red"
   ]
  },
  {
   "cell_type": "code",
   "execution_count": 10,
   "metadata": {
    "collapsed": false,
    "deletable": true,
    "editable": true
   },
   "outputs": [],
   "source": [
    "df3 <- read.csv(\"../data/middle/sp5.csv\", stringsAsFactors=FALSE)"
   ]
  },
  {
   "cell_type": "code",
   "execution_count": 11,
   "metadata": {
    "collapsed": true
   },
   "outputs": [],
   "source": [
    "df3$AccelOrBrake[df3$flag == \"RedA\"] <- \"Accel\"\n",
    "df3$AccelOrBrake[df3$flag == \"RedB\"] <- \"Brake\"\n",
    "df3$AccelOrBrake[df3$flag == \"BlueA\"] <- \"Accel\"\n",
    "df3$AccelOrBrake[df3$flag == \"BlueB\"] <- \"Brake\""
   ]
  },
  {
   "cell_type": "code",
   "execution_count": 12,
   "metadata": {
    "collapsed": true,
    "deletable": true,
    "editable": true
   },
   "outputs": [],
   "source": [
    "df3$flag[df3$flag == \"RedA\"] <- \"Red\"\n",
    "df3$flag[df3$flag == \"RedB\"] <- \"Red\"\n",
    "df3$flag[df3$flag == \"BlueA\"] <- \"Blue\"\n",
    "df3$flag[df3$flag == \"BlueB\"] <- \"Blue\"\n",
    "df3$flag <- as.factor(df3$flag)"
   ]
  },
  {
   "cell_type": "code",
   "execution_count": 13,
   "metadata": {
    "collapsed": false,
    "deletable": true,
    "editable": true,
    "scrolled": true
   },
   "outputs": [],
   "source": [
    "allFeatures <- c(colnames(df3))\n",
    "expr <- createFormula(invalids, allFeatures)"
   ]
  },
  {
   "cell_type": "code",
   "execution_count": 14,
   "metadata": {
    "collapsed": false
   },
   "outputs": [
    {
     "data": {
      "text/html": [
       "<table>\n",
       "<thead><tr><th scope=col>flag</th><th scope=col>AccelOrBrake</th><th scope=col>count</th></tr></thead>\n",
       "<tbody>\n",
       "\t<tr><td>Blue </td><td>Accel</td><td> 77  </td></tr>\n",
       "\t<tr><td>Blue </td><td>Brake</td><td>372  </td></tr>\n",
       "\t<tr><td>Red  </td><td>Accel</td><td>401  </td></tr>\n",
       "\t<tr><td>Red  </td><td>Brake</td><td>192  </td></tr>\n",
       "</tbody>\n",
       "</table>\n"
      ],
      "text/latex": [
       "\\begin{tabular}{r|lll}\n",
       " flag & AccelOrBrake & count\\\\\n",
       "\\hline\n",
       "\t Blue  & Accel &  77  \\\\\n",
       "\t Blue  & Brake & 372  \\\\\n",
       "\t Red   & Accel & 401  \\\\\n",
       "\t Red   & Brake & 192  \\\\\n",
       "\\end{tabular}\n"
      ],
      "text/markdown": [
       "\n",
       "flag | AccelOrBrake | count | \n",
       "|---|---|---|---|\n",
       "| Blue  | Accel |  77   | \n",
       "| Blue  | Brake | 372   | \n",
       "| Red   | Accel | 401   | \n",
       "| Red   | Brake | 192   | \n",
       "\n",
       "\n"
      ],
      "text/plain": [
       "  flag AccelOrBrake count\n",
       "1 Blue Accel         77  \n",
       "2 Blue Brake        372  \n",
       "3 Red  Accel        401  \n",
       "4 Red  Brake        192  "
      ]
     },
     "metadata": {},
     "output_type": "display_data"
    }
   ],
   "source": [
    "df3 %>% group_by(flag, AccelOrBrake) %>% summarize(count=n())"
   ]
  },
  {
   "cell_type": "code",
   "execution_count": 15,
   "metadata": {
    "collapsed": false,
    "deletable": true,
    "editable": true,
    "scrolled": true
   },
   "outputs": [
    {
     "name": "stdout",
     "output_type": "stream",
     "text": [
      "Source: local data frame [4 x 3]\n",
      "Groups: flag [?]\n",
      "\n",
      "    flag AccelOrBrake count\n",
      "  <fctr>        <chr> <int>\n",
      "1   Blue        Accel    43\n",
      "2   Blue        Brake   142\n",
      "3    Red        Accel   341\n",
      "4    Red        Brake   155\n",
      "Source: local data frame [4 x 3]\n",
      "Groups: flag [?]\n",
      "\n",
      "    flag AccelOrBrake count\n",
      "  <fctr>        <chr> <int>\n",
      "1   Blue        Accel    34\n",
      "2   Blue        Brake   230\n",
      "3    Red        Accel    60\n",
      "4    Red        Brake    37\n"
     ]
    }
   ],
   "source": [
    "result <- trainAndPredict(df3, verbose=TRUE)"
   ]
  },
  {
   "cell_type": "code",
   "execution_count": 16,
   "metadata": {
    "collapsed": false,
    "deletable": true,
    "editable": true
   },
   "outputs": [],
   "source": [
    "fit3 <- rpart(expr, data=df3, method=\"class\")"
   ]
  },
  {
   "cell_type": "code",
   "execution_count": 17,
   "metadata": {
    "collapsed": false,
    "deletable": true,
    "editable": true
   },
   "outputs": [
    {
     "data": {
      "text/html": [
       "0.01"
      ],
      "text/latex": [
       "0.01"
      ],
      "text/markdown": [
       "0.01"
      ],
      "text/plain": [
       "[1] 0.01"
      ]
     },
     "metadata": {},
     "output_type": "display_data"
    }
   ],
   "source": [
    "fit3$cptable[which.min(fit3$cptable[,\"xerror\"]),\"CP\"]"
   ]
  },
  {
   "cell_type": "code",
   "execution_count": 18,
   "metadata": {
    "collapsed": false,
    "deletable": true,
    "editable": true
   },
   "outputs": [
    {
     "name": "stdout",
     "output_type": "stream",
     "text": [
      "\n",
      "Classification tree:\n",
      "rpart(formula = expr, data = df3, method = \"class\")\n",
      "\n",
      "Variables actually used in tree construction:\n",
      "[1] AccelerationSpeed AccelOrBrake      Curve            \n",
      "\n",
      "Root node error: 449/1042 = 0.4309\n",
      "\n",
      "n= 1042 \n",
      "\n",
      "        CP nsplit rel error  xerror     xstd\n",
      "1 0.400891      0   1.00000 1.00000 0.035602\n",
      "2 0.046771      1   0.59911 0.59911 0.031462\n",
      "3 0.031180      2   0.55234 0.57238 0.030990\n",
      "4 0.010000      3   0.52116 0.55234 0.030617\n"
     ]
    }
   ],
   "source": [
    "printcp(fit3)"
   ]
  },
  {
   "cell_type": "code",
   "execution_count": 19,
   "metadata": {
    "collapsed": false,
    "deletable": true,
    "editable": true
   },
   "outputs": [
    {
     "data": {
      "image/png": "[encoded data removed]",
      "text/plain": [
       "plot without title"
      ]
     },
     "metadata": {},
     "output_type": "display_data"
    }
   ],
   "source": [
    "plotcp(fit3)"
   ]
  },
  {
   "cell_type": "code",
   "execution_count": 20,
   "metadata": {
    "collapsed": false,
    "deletable": true,
    "editable": true
   },
   "outputs": [
    {
     "name": "stdout",
     "output_type": "stream",
     "text": [
      "Call:\n",
      "rpart(formula = expr, data = df3, method = \"class\")\n",
      "  n= 1042 \n",
      "\n",
      "         CP nsplit rel error    xerror       xstd\n",
      "1 0.4008909      0 1.0000000 1.0000000 0.03560167\n",
      "2 0.0467706      1 0.5991091 0.5991091 0.03146195\n",
      "3 0.0311804      2 0.5523385 0.5723831 0.03098997\n",
      "4 0.0100000      3 0.5211581 0.5523385 0.03061652\n",
      "\n",
      "Variable importance\n",
      "     AccelOrBrake          RoadType   EmptinessOfRoad          MaxSpeed \n",
      "               39                12                11                 8 \n",
      "            Speed        RiskFactor             Curve      CurveAverage \n",
      "                7                 7                 5                 5 \n",
      "AccelerationSpeed     SteeringAngle \n",
      "                3                 1 \n",
      "\n",
      "Node number 1: 1042 observations,    complexity param=0.4008909\n",
      "  predicted class=Red   expected loss=0.4309021  P(node) =1\n",
      "    class counts:   449   593\n",
      "   probabilities: 0.431 0.569 \n",
      "  left son=2 (564 obs) right son=3 (478 obs)\n",
      "  Primary splits:\n",
      "      AccelOrBrake  splits as  RL, improve=128.580800, (0 missing)\n",
      "      RiskFactor    < 0.4666483 to the left,  improve= 18.065120, (0 missing)\n",
      "      DiffAvgSpeed  < 9.66772   to the right, improve= 13.193700, (0 missing)\n",
      "      AheadDistance < 15.65     to the right, improve=  9.802522, (0 missing)\n",
      "      MaxSpeed      < 50.52     to the left,  improve=  9.239768, (0 missing)\n",
      "  Surrogate splits:\n",
      "      RoadType        < 3.5       to the right, agree=0.630, adj=0.192, (0 split)\n",
      "      Speed           < 45.46     to the left,  agree=0.627, adj=0.186, (0 split)\n",
      "      RiskFactor      < 0.5542995 to the left,  agree=0.625, adj=0.182, (0 split)\n",
      "      EmptinessOfRoad < 0.1835312 to the right, agree=0.617, adj=0.165, (0 split)\n",
      "      MaxSpeed        < 49.725    to the left,  agree=0.615, adj=0.161, (0 split)\n",
      "\n",
      "Node number 2: 564 observations,    complexity param=0.0467706\n",
      "  predicted class=Blue  expected loss=0.3404255  P(node) =0.5412668\n",
      "    class counts:   372   192\n",
      "   probabilities: 0.660 0.340 \n",
      "  left son=4 (539 obs) right son=5 (25 obs)\n",
      "  Primary splits:\n",
      "      Curve           < 253       to the left,  improve=17.57433, (0 missing)\n",
      "      CurveAverage    < 253       to the left,  improve=17.57433, (0 missing)\n",
      "      Speed           < 32.42     to the right, improve=16.79308, (0 missing)\n",
      "      DiffAvgSpeed    < 11.58883  to the right, improve=14.88374, (0 missing)\n",
      "      EmptinessOfRoad < 0.6482853 to the left,  improve=14.83422, (0 missing)\n",
      "  Surrogate splits:\n",
      "      CurveAverage    < 253       to the left,  agree=1.000, adj=1.00, (0 split)\n",
      "      RoadType        < 6.5       to the left,  agree=0.995, adj=0.88, (0 split)\n",
      "      EmptinessOfRoad < 0.8433092 to the left,  agree=0.995, adj=0.88, (0 split)\n",
      "      MaxSpeed        < 18.805    to the right, agree=0.972, adj=0.36, (0 split)\n",
      "      SteeringAngle   < -145.4    to the right, agree=0.965, adj=0.20, (0 split)\n",
      "\n",
      "Node number 3: 478 observations\n",
      "  predicted class=Red   expected loss=0.1610879  P(node) =0.4587332\n",
      "    class counts:    77   401\n",
      "   probabilities: 0.161 0.839 \n",
      "\n",
      "Node number 4: 539 observations,    complexity param=0.0311804\n",
      "  predicted class=Blue  expected loss=0.3135436  P(node) =0.5172745\n",
      "    class counts:   370   169\n",
      "   probabilities: 0.686 0.314 \n",
      "  left son=8 (509 obs) right son=9 (30 obs)\n",
      "  Primary splits:\n",
      "      AccelerationSpeed < 0.5416667 to the left,  improve=11.196590, (0 missing)\n",
      "      Speed             < 32.42     to the right, improve=10.422570, (0 missing)\n",
      "      DiffAvgSpeed      < 9.784002  to the right, improve=10.422570, (0 missing)\n",
      "      AheadDistance     < 17.65     to the right, improve= 7.423109, (0 missing)\n",
      "      DistSignal        < 61.13704  to the right, improve= 6.625914, (0 missing)\n",
      "  Surrogate splits:\n",
      "      Engine          < 1821.875  to the left,  agree=0.952, adj=0.133, (0 split)\n",
      "      AverageVelocity < 1.332737  to the right, agree=0.948, adj=0.067, (0 split)\n",
      "      SteeringAngle   < 74.6      to the left,  agree=0.946, adj=0.033, (0 split)\n",
      "      MaxSpeed        < 13.54     to the right, agree=0.946, adj=0.033, (0 split)\n",
      "\n",
      "Node number 5: 25 observations\n",
      "  predicted class=Red   expected loss=0.08  P(node) =0.02399232\n",
      "    class counts:     2    23\n",
      "   probabilities: 0.080 0.920 \n",
      "\n",
      "Node number 8: 509 observations\n",
      "  predicted class=Blue  expected loss=0.2888016  P(node) =0.4884837\n",
      "    class counts:   362   147\n",
      "   probabilities: 0.711 0.289 \n",
      "\n",
      "Node number 9: 30 observations\n",
      "  predicted class=Red   expected loss=0.2666667  P(node) =0.02879079\n",
      "    class counts:     8    22\n",
      "   probabilities: 0.267 0.733 \n",
      "\n"
     ]
    }
   ],
   "source": [
    "summary(fit3)"
   ]
  },
  {
   "cell_type": "code",
   "execution_count": 21,
   "metadata": {
    "collapsed": false,
    "deletable": true,
    "editable": true,
    "scrolled": true
   },
   "outputs": [
    {
     "data": {
      "image/png": "[encoded data removed]",
      "text/plain": [
       "Plot with title “Classification Tree”"
      ]
     },
     "metadata": {},
     "output_type": "display_data"
    }
   ],
   "source": [
    "plot(fit3, uniform=TRUE, main=\"Classification Tree\")\n",
    "text(fit3, use.n=TRUE, all=TRUE, cex=.8)"
   ]
  },
  {
   "cell_type": "code",
   "execution_count": null,
   "metadata": {
    "collapsed": true,
    "deletable": true,
    "editable": true
   },
   "outputs": [],
   "source": []
  }
 ],
 "metadata": {
  "kernelspec": {
   "display_name": "R",
   "language": "R",
   "name": "ir"
  },
  "language_info": {
   "codemirror_mode": "r",
   "file_extension": ".r",
   "mimetype": "text/x-r-source",
   "name": "R",
   "pygments_lexer": "r",
   "version": "3.3.2"
  }
 },
 "nbformat": 4,
 "nbformat_minor": 1
}
