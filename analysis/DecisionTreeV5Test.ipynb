{
 "cells": [
  {
   "cell_type": "code",
   "execution_count": 1,
   "metadata": {
    "collapsed": false,
    "deletable": true,
    "editable": true
   },
   "outputs": [
    {
     "name": "stderr",
     "output_type": "stream",
     "text": [
      "\n",
      "Attaching package: ‘dplyr’\n",
      "\n",
      "The following objects are masked from ‘package:stats’:\n",
      "\n",
      "    filter, lag\n",
      "\n",
      "The following objects are masked from ‘package:base’:\n",
      "\n",
      "    intersect, setdiff, setequal, union\n",
      "\n"
     ]
    }
   ],
   "source": [
    "library(grid)\n",
    "library(rpart)\n",
    "library(rpart.plot)\n",
    "library(partykit)\n",
    "library(lattice)\n",
    "library(ggplot2)\n",
    "library(caret)\n",
    "library(dplyr)"
   ]
  },
  {
   "cell_type": "code",
   "execution_count": 2,
   "metadata": {
    "collapsed": true,
    "deletable": true,
    "editable": true
   },
   "outputs": [],
   "source": [
    "set.seed(1)"
   ]
  },
  {
   "cell_type": "code",
   "execution_count": 3,
   "metadata": {
    "collapsed": false,
    "deletable": true,
    "editable": true
   },
   "outputs": [],
   "source": [
    "invalids <- c('Time', 'Longitude', 'Latitude', 'Brake', 'Accel', 'flag', 'Curve100', 'Curve150', 'TimeHeadway')\n",
    "valuables <- c(\"RoadType\",\"CurveAverage\",\"Speed\", \"Curve100\", \"Curve150\",\"MaxSpeed\",\"RiskFactor\",\"Curve\",\"DistSignal\",\"Pitch\",\"AheadDistance\",\"AverageVelocity\",\"TimeToCollision\",\"AccelerationSpeed\", \"Engine\", \"SteeringAngle\", \"TimeHeadway\", \"Jerk\", \"LaneCount\", \"DiffAvgSpeed\", \"EmptinessOfRoad\", \"RoadFactor\")"
   ]
  },
  {
   "cell_type": "code",
   "execution_count": 4,
   "metadata": {
    "collapsed": true,
    "deletable": true,
    "editable": true
   },
   "outputs": [],
   "source": [
    "printf <- function(...) cat(sprintf(...))"
   ]
  },
  {
   "cell_type": "code",
   "execution_count": 50,
   "metadata": {
    "collapsed": false,
    "deletable": true,
    "editable": true
   },
   "outputs": [],
   "source": [
    "trainAndPredict <- function(expr, train, test, verbose=FALSE) {        \n",
    "    fit <- rpart(expr, data=train)\n",
    "    p <- predict(fit, newdata=test, cp=0.018)\n",
    "    predictedFlags <- colnames(p)[max.col(p, ties.method = \"first\")]\n",
    "\n",
    "    showMatrix(test, predictedFlags)\n",
    "\n",
    "    nerr <- sum(predictedFlags != test$flag)\n",
    "    printf(\"Err: %f\\n\", nerr / nrow(test))\n",
    "}"
   ]
  },
  {
   "cell_type": "code",
   "execution_count": 51,
   "metadata": {
    "collapsed": true
   },
   "outputs": [],
   "source": [
    "showMatrix <- function(test, predictedFlags) {\n",
    "    predictedRed <- test[predictedFlags == \"Red\", ]\n",
    "    predictedBlue <- test[predictedFlags == \"Blue\", ]\n",
    "    print(predictedRed %>% group_by(flag, AccelOrBrake) %>% summarize(count=n()))\n",
    "    print(predictedBlue %>% group_by(flag, AccelOrBrake) %>% summarize(count=n()))\n",
    "}"
   ]
  },
  {
   "cell_type": "code",
   "execution_count": 52,
   "metadata": {
    "collapsed": true
   },
   "outputs": [],
   "source": [
    "createFormula <- function(invalids, allFeatures) {\n",
    "    isValidColumn <- function(x) ! x %in% invalids\n",
    "    \n",
    "    features <- Filter(isValidColumn, allFeatures)\n",
    "    return(paste(\"flag ~ \", paste(features, collapse=\" + \")))\n",
    "}"
   ]
  },
  {
   "cell_type": "markdown",
   "metadata": {
    "collapsed": true,
    "deletable": true,
    "editable": true
   },
   "source": [
    "# Predict Red"
   ]
  },
  {
   "cell_type": "code",
   "execution_count": 53,
   "metadata": {
    "collapsed": false,
    "deletable": true,
    "editable": true
   },
   "outputs": [],
   "source": [
    "train <- read.csv(\"../data/middle/sp5.csv\", stringsAsFactors=FALSE)"
   ]
  },
  {
   "cell_type": "code",
   "execution_count": 54,
   "metadata": {
    "collapsed": true
   },
   "outputs": [],
   "source": [
    "train <- train[, c(valuables, \"flag\")]"
   ]
  },
  {
   "cell_type": "code",
   "execution_count": 55,
   "metadata": {
    "collapsed": true
   },
   "outputs": [],
   "source": [
    "test <- read.csv(\"../data/middle/sp6.csv\", stringsAsFactors=FALSE)"
   ]
  },
  {
   "cell_type": "code",
   "execution_count": 56,
   "metadata": {
    "collapsed": true
   },
   "outputs": [],
   "source": [
    "test$AccelOrBrake[test$flag == \"RedA\"] <- \"Accel\"\n",
    "test$AccelOrBrake[test$flag == \"RedB\"] <- \"Brake\"\n",
    "test$AccelOrBrake[test$flag == \"BlueA\"] <- \"Accel\"\n",
    "test$AccelOrBrake[test$flag == \"BlueB\"] <- \"Brake\""
   ]
  },
  {
   "cell_type": "code",
   "execution_count": 57,
   "metadata": {
    "collapsed": true,
    "deletable": true,
    "editable": true
   },
   "outputs": [],
   "source": [
    "train$flag[train$flag == \"RedA\"] <- \"Red\"\n",
    "train$flag[train$flag == \"RedB\"] <- \"Red\"\n",
    "train$flag[train$flag == \"BlueA\"] <- \"Blue\"\n",
    "train$flag[train$flag == \"BlueB\"] <- \"Blue\"\n",
    "train$flag <- as.factor(train$flag)"
   ]
  },
  {
   "cell_type": "code",
   "execution_count": 58,
   "metadata": {
    "collapsed": true,
    "editable": true
   },
   "outputs": [],
   "source": [
    "test$flag[test$flag == \"RedA\"] <- \"Red\"\n",
    "test$flag[test$flag == \"RedB\"] <- \"Red\"\n",
    "test$flag[test$flag == \"BlueA\"] <- \"Blue\"\n",
    "test$flag[test$flag == \"BlueB\"] <- \"Blue\"\n",
    "test$flag <- as.factor(test$flag)"
   ]
  },
  {
   "cell_type": "code",
   "execution_count": 59,
   "metadata": {
    "collapsed": false,
    "deletable": true,
    "editable": true,
    "scrolled": true
   },
   "outputs": [],
   "source": [
    "allFeatures <- c(colnames(train))\n",
    "expr <- createFormula(invalids, allFeatures)"
   ]
  },
  {
   "cell_type": "code",
   "execution_count": 60,
   "metadata": {
    "collapsed": false
   },
   "outputs": [
    {
     "data": {
      "text/html": [
       "<table>\n",
       "<thead><tr><th scope=col>flag</th><th scope=col>AccelOrBrake</th><th scope=col>count</th></tr></thead>\n",
       "<tbody>\n",
       "\t<tr><td>Blue </td><td>Accel</td><td> 57  </td></tr>\n",
       "\t<tr><td>Blue </td><td>Brake</td><td>148  </td></tr>\n",
       "\t<tr><td>Red  </td><td>Accel</td><td>181  </td></tr>\n",
       "\t<tr><td>Red  </td><td>Brake</td><td> 90  </td></tr>\n",
       "</tbody>\n",
       "</table>\n"
      ],
      "text/latex": [
       "\\begin{tabular}{r|lll}\n",
       " flag & AccelOrBrake & count\\\\\n",
       "\\hline\n",
       "\t Blue  & Accel &  57  \\\\\n",
       "\t Blue  & Brake & 148  \\\\\n",
       "\t Red   & Accel & 181  \\\\\n",
       "\t Red   & Brake &  90  \\\\\n",
       "\\end{tabular}\n"
      ],
      "text/markdown": [
       "\n",
       "flag | AccelOrBrake | count | \n",
       "|---|---|---|---|\n",
       "| Blue  | Accel |  57   | \n",
       "| Blue  | Brake | 148   | \n",
       "| Red   | Accel | 181   | \n",
       "| Red   | Brake |  90   | \n",
       "\n",
       "\n"
      ],
      "text/plain": [
       "  flag AccelOrBrake count\n",
       "1 Blue Accel         57  \n",
       "2 Blue Brake        148  \n",
       "3 Red  Accel        181  \n",
       "4 Red  Brake         90  "
      ]
     },
     "metadata": {},
     "output_type": "display_data"
    }
   ],
   "source": [
    "test %>% group_by(flag, AccelOrBrake) %>% summarize(count=n())"
   ]
  },
  {
   "cell_type": "code",
   "execution_count": 61,
   "metadata": {
    "collapsed": false,
    "deletable": true,
    "editable": true,
    "scrolled": true
   },
   "outputs": [
    {
     "name": "stdout",
     "output_type": "stream",
     "text": [
      "Source: local data frame [4 x 3]\n",
      "Groups: flag [?]\n",
      "\n",
      "    flag AccelOrBrake count\n",
      "  <fctr>        <chr> <int>\n",
      "1   Blue        Accel    24\n",
      "2   Blue        Brake    68\n",
      "3    Red        Accel    92\n",
      "4    Red        Brake    50\n",
      "Source: local data frame [4 x 3]\n",
      "Groups: flag [?]\n",
      "\n",
      "    flag AccelOrBrake count\n",
      "  <fctr>        <chr> <int>\n",
      "1   Blue        Accel    33\n",
      "2   Blue        Brake    80\n",
      "3    Red        Accel    89\n",
      "4    Red        Brake    40\n",
      "Err: 0.464286\n"
     ]
    }
   ],
   "source": [
    "result <- trainAndPredict(expr, train, test, verbose=TRUE)"
   ]
  },
  {
   "cell_type": "code",
   "execution_count": null,
   "metadata": {
    "collapsed": true
   },
   "outputs": [],
   "source": []
  },
  {
   "cell_type": "code",
   "execution_count": null,
   "metadata": {
    "collapsed": true
   },
   "outputs": [],
   "source": []
  }
 ],
 "metadata": {
  "kernelspec": {
   "display_name": "R",
   "language": "R",
   "name": "ir"
  },
  "language_info": {
   "codemirror_mode": "r",
   "file_extension": ".r",
   "mimetype": "text/x-r-source",
   "name": "R",
   "pygments_lexer": "r",
   "version": "3.3.2"
  }
 },
 "nbformat": 4,
 "nbformat_minor": 1
}
