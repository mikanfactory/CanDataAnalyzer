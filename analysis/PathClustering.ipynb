{
 "cells": [
  {
   "cell_type": "code",
   "execution_count": 8,
   "metadata": {
    "collapsed": true
   },
   "outputs": [],
   "source": [
    "%matplotlib inline"
   ]
  },
  {
   "cell_type": "code",
   "execution_count": 9,
   "metadata": {
    "collapsed": true
   },
   "outputs": [],
   "source": [
    "import numpy as np\n",
    "import pandas as pd\n",
    "import matplotlib.pyplot as plt\n",
    "import random\n",
    "import os\n",
    "import json\n",
    "import pprint\n",
    "from sklearn.mixture import BayesianGaussianMixture\n",
    "from skbayes.mixture_models import VBBMM"
   ]
  },
  {
   "cell_type": "code",
   "execution_count": 10,
   "metadata": {
    "collapsed": true
   },
   "outputs": [],
   "source": [
    "import seaborn as sns\n",
    "sns.set(color_codes=True)"
   ]
  },
  {
   "cell_type": "code",
   "execution_count": 307,
   "metadata": {
    "collapsed": true
   },
   "outputs": [],
   "source": [
    "colors = [\n",
    "    \"#ff0000\",\n",
    "    \"#ffa500\",\n",
    "    \"#ffff00\",\n",
    "    \"#008000\",\n",
    "    \"#00ffff\",\n",
    "    \"#0000ff\",\n",
    "    \"#800080\"\n",
    "]"
   ]
  },
  {
   "cell_type": "code",
   "execution_count": 288,
   "metadata": {
    "collapsed": true
   },
   "outputs": [],
   "source": [
    "targetDir = \"../data/output/d5/Result/\"\n",
    "curveDir = \"../data/output/d5/CurveRadius/\"\n",
    "tollgateDir = \"../data/output/d5/DistTollgate/\"\n",
    "roadTypeDir = \"../data/output/d5/RoadType/\""
   ]
  },
  {
   "cell_type": "code",
   "execution_count": 19,
   "metadata": {
    "collapsed": false
   },
   "outputs": [],
   "source": [
    "df1 = pd.read_csv(curveDir + \"result.csv\")\n",
    "df1.columns = [[\"id\", \"rapid\", \"middle\", \"gentle\", \"straight\"]]\n",
    "df2 = pd.read_csv(tollgateDir + \"result.csv\")\n",
    "df2.columns = [[\"id\", \"t\", \"f\"]]\n",
    "df3 = pd.read_csv(roadTypeDir + \"result.csv\")\n",
    "df3.columns = [[\"id\", \"prefectual\", \"principal\", \"public\", \"others\", \"interCity\", \"toll\", \"national\"]]"
   ]
  },
  {
   "cell_type": "code",
   "execution_count": 24,
   "metadata": {
    "collapsed": false
   },
   "outputs": [],
   "source": [
    "df = pd.merge(pd.merge(df1, df2), df3)\n",
    "gridSize = len(df)"
   ]
  },
  {
   "cell_type": "code",
   "execution_count": 27,
   "metadata": {
    "collapsed": true
   },
   "outputs": [],
   "source": [
    "features = [\"rapid\", \"middle\", \"gentle\", \"straight\", \"t\", \"f\", \"prefectual\", \"principal\", \"public\", \"others\", \"interCity\", \"toll\", \"national\"]"
   ]
  },
  {
   "cell_type": "code",
   "execution_count": 119,
   "metadata": {
    "collapsed": true
   },
   "outputs": [],
   "source": [
    "valids = df['t'] + df['f'] > 0\n",
    "mf = df[df['t'] + df['f'] > 0]\n",
    "mf = mf[features]\n",
    "mf.columns = features"
   ]
  },
  {
   "cell_type": "code",
   "execution_count": 30,
   "metadata": {
    "collapsed": true
   },
   "outputs": [],
   "source": [
    "# RoadTypes = [\"interCity\", \"city\", \"toll\", \"national\", \"prefectual\", \"principal\", \"public\", \"others\"]\n",
    "# CurveRadiuses = {\"rapid\": \"30-100\", \"middle\": \"100-150\", \"gentle\": \"150-200\", \"straight\": \"200-\"}\n",
    "# DistTollgates = {\"t\": \"1-500\", \"f\": \"0 or 500-\"}"
   ]
  },
  {
   "cell_type": "code",
   "execution_count": 188,
   "metadata": {
    "collapsed": false,
    "scrolled": false
   },
   "outputs": [
    {
     "data": {
      "text/html": [
       "<div>\n",
       "<table border=\"1\" class=\"dataframe\">\n",
       "  <thead>\n",
       "    <tr style=\"text-align: right;\">\n",
       "      <th></th>\n",
       "      <th>rapid</th>\n",
       "      <th>middle</th>\n",
       "      <th>gentle</th>\n",
       "      <th>straight</th>\n",
       "      <th>t</th>\n",
       "      <th>f</th>\n",
       "      <th>prefectual</th>\n",
       "      <th>principal</th>\n",
       "      <th>public</th>\n",
       "      <th>others</th>\n",
       "      <th>interCity</th>\n",
       "      <th>toll</th>\n",
       "      <th>national</th>\n",
       "    </tr>\n",
       "  </thead>\n",
       "  <tbody>\n",
       "    <tr>\n",
       "      <th>count</th>\n",
       "      <td>261.000000</td>\n",
       "      <td>261.000000</td>\n",
       "      <td>261.000000</td>\n",
       "      <td>261.000000</td>\n",
       "      <td>261.000000</td>\n",
       "      <td>261.000000</td>\n",
       "      <td>261.000000</td>\n",
       "      <td>261.000000</td>\n",
       "      <td>261.000000</td>\n",
       "      <td>261.000000</td>\n",
       "      <td>261.000000</td>\n",
       "      <td>261.000000</td>\n",
       "      <td>261.000000</td>\n",
       "    </tr>\n",
       "    <tr>\n",
       "      <th>mean</th>\n",
       "      <td>0.459770</td>\n",
       "      <td>0.693487</td>\n",
       "      <td>0.643678</td>\n",
       "      <td>6.252874</td>\n",
       "      <td>0.068966</td>\n",
       "      <td>60.226054</td>\n",
       "      <td>0.643678</td>\n",
       "      <td>2.413793</td>\n",
       "      <td>1.620690</td>\n",
       "      <td>0.145594</td>\n",
       "      <td>0.781609</td>\n",
       "      <td>0.371648</td>\n",
       "      <td>2.490421</td>\n",
       "    </tr>\n",
       "    <tr>\n",
       "      <th>std</th>\n",
       "      <td>3.023515</td>\n",
       "      <td>2.998383</td>\n",
       "      <td>1.751771</td>\n",
       "      <td>8.245584</td>\n",
       "      <td>0.584277</td>\n",
       "      <td>63.041612</td>\n",
       "      <td>3.678347</td>\n",
       "      <td>6.074319</td>\n",
       "      <td>5.236502</td>\n",
       "      <td>2.352141</td>\n",
       "      <td>1.627352</td>\n",
       "      <td>2.565264</td>\n",
       "      <td>7.338315</td>\n",
       "    </tr>\n",
       "    <tr>\n",
       "      <th>min</th>\n",
       "      <td>0.000000</td>\n",
       "      <td>0.000000</td>\n",
       "      <td>0.000000</td>\n",
       "      <td>0.000000</td>\n",
       "      <td>0.000000</td>\n",
       "      <td>0.000000</td>\n",
       "      <td>0.000000</td>\n",
       "      <td>0.000000</td>\n",
       "      <td>0.000000</td>\n",
       "      <td>0.000000</td>\n",
       "      <td>0.000000</td>\n",
       "      <td>0.000000</td>\n",
       "      <td>0.000000</td>\n",
       "    </tr>\n",
       "    <tr>\n",
       "      <th>25%</th>\n",
       "      <td>0.000000</td>\n",
       "      <td>0.000000</td>\n",
       "      <td>0.000000</td>\n",
       "      <td>2.000000</td>\n",
       "      <td>0.000000</td>\n",
       "      <td>19.000000</td>\n",
       "      <td>0.000000</td>\n",
       "      <td>0.000000</td>\n",
       "      <td>0.000000</td>\n",
       "      <td>0.000000</td>\n",
       "      <td>0.000000</td>\n",
       "      <td>0.000000</td>\n",
       "      <td>0.000000</td>\n",
       "    </tr>\n",
       "    <tr>\n",
       "      <th>50%</th>\n",
       "      <td>0.000000</td>\n",
       "      <td>0.000000</td>\n",
       "      <td>0.000000</td>\n",
       "      <td>3.000000</td>\n",
       "      <td>0.000000</td>\n",
       "      <td>35.000000</td>\n",
       "      <td>0.000000</td>\n",
       "      <td>0.000000</td>\n",
       "      <td>0.000000</td>\n",
       "      <td>0.000000</td>\n",
       "      <td>0.000000</td>\n",
       "      <td>0.000000</td>\n",
       "      <td>0.000000</td>\n",
       "    </tr>\n",
       "    <tr>\n",
       "      <th>75%</th>\n",
       "      <td>0.000000</td>\n",
       "      <td>0.000000</td>\n",
       "      <td>0.000000</td>\n",
       "      <td>7.000000</td>\n",
       "      <td>0.000000</td>\n",
       "      <td>81.000000</td>\n",
       "      <td>0.000000</td>\n",
       "      <td>0.000000</td>\n",
       "      <td>0.000000</td>\n",
       "      <td>0.000000</td>\n",
       "      <td>1.000000</td>\n",
       "      <td>0.000000</td>\n",
       "      <td>0.000000</td>\n",
       "    </tr>\n",
       "    <tr>\n",
       "      <th>max</th>\n",
       "      <td>40.000000</td>\n",
       "      <td>32.000000</td>\n",
       "      <td>15.000000</td>\n",
       "      <td>51.000000</td>\n",
       "      <td>6.000000</td>\n",
       "      <td>347.000000</td>\n",
       "      <td>33.000000</td>\n",
       "      <td>35.000000</td>\n",
       "      <td>34.000000</td>\n",
       "      <td>38.000000</td>\n",
       "      <td>12.000000</td>\n",
       "      <td>38.000000</td>\n",
       "      <td>60.000000</td>\n",
       "    </tr>\n",
       "  </tbody>\n",
       "</table>\n",
       "</div>"
      ],
      "text/plain": [
       "            rapid      middle      gentle    straight           t           f  \\\n",
       "count  261.000000  261.000000  261.000000  261.000000  261.000000  261.000000   \n",
       "mean     0.459770    0.693487    0.643678    6.252874    0.068966   60.226054   \n",
       "std      3.023515    2.998383    1.751771    8.245584    0.584277   63.041612   \n",
       "min      0.000000    0.000000    0.000000    0.000000    0.000000    0.000000   \n",
       "25%      0.000000    0.000000    0.000000    2.000000    0.000000   19.000000   \n",
       "50%      0.000000    0.000000    0.000000    3.000000    0.000000   35.000000   \n",
       "75%      0.000000    0.000000    0.000000    7.000000    0.000000   81.000000   \n",
       "max     40.000000   32.000000   15.000000   51.000000    6.000000  347.000000   \n",
       "\n",
       "       prefectual   principal      public      others   interCity        toll  \\\n",
       "count  261.000000  261.000000  261.000000  261.000000  261.000000  261.000000   \n",
       "mean     0.643678    2.413793    1.620690    0.145594    0.781609    0.371648   \n",
       "std      3.678347    6.074319    5.236502    2.352141    1.627352    2.565264   \n",
       "min      0.000000    0.000000    0.000000    0.000000    0.000000    0.000000   \n",
       "25%      0.000000    0.000000    0.000000    0.000000    0.000000    0.000000   \n",
       "50%      0.000000    0.000000    0.000000    0.000000    0.000000    0.000000   \n",
       "75%      0.000000    0.000000    0.000000    0.000000    1.000000    0.000000   \n",
       "max     33.000000   35.000000   34.000000   38.000000   12.000000   38.000000   \n",
       "\n",
       "         national  \n",
       "count  261.000000  \n",
       "mean     2.490421  \n",
       "std      7.338315  \n",
       "min      0.000000  \n",
       "25%      0.000000  \n",
       "50%      0.000000  \n",
       "75%      0.000000  \n",
       "max     60.000000  "
      ]
     },
     "execution_count": 188,
     "metadata": {},
     "output_type": "execute_result"
    }
   ],
   "source": [
    "mf.describe()"
   ]
  },
  {
   "cell_type": "code",
   "execution_count": 274,
   "metadata": {
    "collapsed": false
   },
   "outputs": [],
   "source": [
    "bf = mf.copy()"
   ]
  },
  {
   "cell_type": "code",
   "execution_count": 275,
   "metadata": {
    "collapsed": false
   },
   "outputs": [],
   "source": [
    "tollidmap = {\"t\": 1, \"f\": 0}\n",
    "bf[\"tollgate\"] = [tollidmap[v] for v in bf[[\"t\", \"f\"]].idxmax(axis=1)]\n",
    "bf = bf[[\"rapid\", \"middle\", \"gentle\", \"straight\", \"prefectual\", \"principal\", \"public\", \"others\", \"interCity\", \"toll\", \"national\", \"tollgate\"]]"
   ]
  },
  {
   "cell_type": "code",
   "execution_count": 276,
   "metadata": {
    "collapsed": false
   },
   "outputs": [],
   "source": [
    "roadTypes = [\"interCity\", \"toll\", \"national\", \"prefectual\", \"principal\", \"public\", \"others\"]\n",
    "idmap = {key:i for i, key in enumerate(roadTypes)}\n",
    "\n",
    "bf[\"roadType\"] = bf[roadTypes].idxmax(axis=1)\n",
    "bf[\"roadType\"] = [idmap[v] for v in bf[\"roadType\"]]\n",
    "bf = bf[[\"rapid\", \"middle\", \"gentle\", \"straight\",  \"tollgate\", \"roadType\"]]"
   ]
  },
  {
   "cell_type": "code",
   "execution_count": 277,
   "metadata": {
    "collapsed": false
   },
   "outputs": [],
   "source": [
    "curves = [\"rapid\", \"middle\", \"gentle\", \"straight\"]\n",
    "bf[\"sumCurve\"] = bf[\"rapid\"] + bf[\"middle\"] + bf[\"gentle\"] + bf[\"straight\"]\n",
    "for col in curves:\n",
    "    bf[col] = bf[col] / bf[\"sumCurve\"]\n",
    "    \n",
    "bf = bf.fillna(0)\n",
    "bf = bf[[\"rapid\", \"middle\", \"gentle\", \"straight\",  \"tollgate\", \"roadType\"]]"
   ]
  },
  {
   "cell_type": "code",
   "execution_count": 278,
   "metadata": {
    "collapsed": false
   },
   "outputs": [
    {
     "data": {
      "text/html": [
       "<div>\n",
       "<table border=\"1\" class=\"dataframe\">\n",
       "  <thead>\n",
       "    <tr style=\"text-align: right;\">\n",
       "      <th></th>\n",
       "      <th>rapid</th>\n",
       "      <th>middle</th>\n",
       "      <th>gentle</th>\n",
       "      <th>straight</th>\n",
       "      <th>tollgate</th>\n",
       "      <th>roadType</th>\n",
       "    </tr>\n",
       "  </thead>\n",
       "  <tbody>\n",
       "    <tr>\n",
       "      <th>count</th>\n",
       "      <td>261.000000</td>\n",
       "      <td>261.000000</td>\n",
       "      <td>261.000000</td>\n",
       "      <td>261.000000</td>\n",
       "      <td>261.000000</td>\n",
       "      <td>261.000000</td>\n",
       "    </tr>\n",
       "    <tr>\n",
       "      <th>mean</th>\n",
       "      <td>0.036484</td>\n",
       "      <td>0.053412</td>\n",
       "      <td>0.071291</td>\n",
       "      <td>0.785173</td>\n",
       "      <td>0.003831</td>\n",
       "      <td>2.114943</td>\n",
       "    </tr>\n",
       "    <tr>\n",
       "      <th>std</th>\n",
       "      <td>0.149113</td>\n",
       "      <td>0.150056</td>\n",
       "      <td>0.174347</td>\n",
       "      <td>0.347590</td>\n",
       "      <td>0.061898</td>\n",
       "      <td>1.852806</td>\n",
       "    </tr>\n",
       "    <tr>\n",
       "      <th>min</th>\n",
       "      <td>0.000000</td>\n",
       "      <td>0.000000</td>\n",
       "      <td>0.000000</td>\n",
       "      <td>0.000000</td>\n",
       "      <td>0.000000</td>\n",
       "      <td>0.000000</td>\n",
       "    </tr>\n",
       "    <tr>\n",
       "      <th>25%</th>\n",
       "      <td>0.000000</td>\n",
       "      <td>0.000000</td>\n",
       "      <td>0.000000</td>\n",
       "      <td>0.642857</td>\n",
       "      <td>0.000000</td>\n",
       "      <td>0.000000</td>\n",
       "    </tr>\n",
       "    <tr>\n",
       "      <th>50%</th>\n",
       "      <td>0.000000</td>\n",
       "      <td>0.000000</td>\n",
       "      <td>0.000000</td>\n",
       "      <td>1.000000</td>\n",
       "      <td>0.000000</td>\n",
       "      <td>2.000000</td>\n",
       "    </tr>\n",
       "    <tr>\n",
       "      <th>75%</th>\n",
       "      <td>0.000000</td>\n",
       "      <td>0.000000</td>\n",
       "      <td>0.000000</td>\n",
       "      <td>1.000000</td>\n",
       "      <td>0.000000</td>\n",
       "      <td>4.000000</td>\n",
       "    </tr>\n",
       "    <tr>\n",
       "      <th>max</th>\n",
       "      <td>1.000000</td>\n",
       "      <td>1.000000</td>\n",
       "      <td>1.000000</td>\n",
       "      <td>1.000000</td>\n",
       "      <td>1.000000</td>\n",
       "      <td>6.000000</td>\n",
       "    </tr>\n",
       "  </tbody>\n",
       "</table>\n",
       "</div>"
      ],
      "text/plain": [
       "            rapid      middle      gentle    straight    tollgate    roadType\n",
       "count  261.000000  261.000000  261.000000  261.000000  261.000000  261.000000\n",
       "mean     0.036484    0.053412    0.071291    0.785173    0.003831    2.114943\n",
       "std      0.149113    0.150056    0.174347    0.347590    0.061898    1.852806\n",
       "min      0.000000    0.000000    0.000000    0.000000    0.000000    0.000000\n",
       "25%      0.000000    0.000000    0.000000    0.642857    0.000000    0.000000\n",
       "50%      0.000000    0.000000    0.000000    1.000000    0.000000    2.000000\n",
       "75%      0.000000    0.000000    0.000000    1.000000    0.000000    4.000000\n",
       "max      1.000000    1.000000    1.000000    1.000000    1.000000    6.000000"
      ]
     },
     "execution_count": 278,
     "metadata": {},
     "output_type": "execute_result"
    }
   ],
   "source": [
    "bf.describe()"
   ]
  },
  {
   "cell_type": "markdown",
   "metadata": {},
   "source": [
    "# VBGMM"
   ]
  },
  {
   "cell_type": "code",
   "execution_count": 279,
   "metadata": {
    "collapsed": true
   },
   "outputs": [],
   "source": [
    "components = 10"
   ]
  },
  {
   "cell_type": "code",
   "execution_count": 280,
   "metadata": {
    "collapsed": true
   },
   "outputs": [],
   "source": [
    "sd = 1\n",
    "np.random.seed(sd)\n",
    "random.seed(sd)"
   ]
  },
  {
   "cell_type": "code",
   "execution_count": 281,
   "metadata": {
    "collapsed": false
   },
   "outputs": [
    {
     "name": "stdout",
     "output_type": "stream",
     "text": [
      "class size:       7\n",
      "classes:           set([0, 1, 2, 3, 4, 5, 6])\n",
      "lower bound:  4184.00641221\n"
     ]
    }
   ],
   "source": [
    "vb = BayesianGaussianMixture(n_components=components).fit(bf)\n",
    "print \"class size:      \", len(set(vb.predict(bf)))\n",
    "print \"classes:          \", set(vb.predict(bf))\n",
    "print \"lower bound: \", vb.lower_bound_"
   ]
  },
  {
   "cell_type": "code",
   "execution_count": 282,
   "metadata": {
    "collapsed": true
   },
   "outputs": [],
   "source": [
    "ws = [\"%02f\" % w for w in vb.weights_]"
   ]
  },
  {
   "cell_type": "code",
   "execution_count": 312,
   "metadata": {
    "collapsed": false
   },
   "outputs": [
    {
     "data": {
      "text/html": [
       "<div>\n",
       "<table border=\"1\" class=\"dataframe\">\n",
       "  <thead>\n",
       "    <tr style=\"text-align: right;\">\n",
       "      <th></th>\n",
       "      <th>rapid</th>\n",
       "      <th>middle</th>\n",
       "      <th>gentle</th>\n",
       "      <th>straight</th>\n",
       "      <th>tollgate</th>\n",
       "      <th>roadType</th>\n",
       "      <th>weight</th>\n",
       "    </tr>\n",
       "  </thead>\n",
       "  <tbody>\n",
       "    <tr>\n",
       "      <th>1</th>\n",
       "      <td>0.000456</td>\n",
       "      <td>0.000668</td>\n",
       "      <td>0.000891</td>\n",
       "      <td>0.997314</td>\n",
       "      <td>0.000048</td>\n",
       "      <td>0.113804</td>\n",
       "      <td>0.303975</td>\n",
       "    </tr>\n",
       "    <tr>\n",
       "      <th>3</th>\n",
       "      <td>0.100491</td>\n",
       "      <td>0.173184</td>\n",
       "      <td>0.275644</td>\n",
       "      <td>0.449863</td>\n",
       "      <td>0.000058</td>\n",
       "      <td>2.949916</td>\n",
       "      <td>0.245544</td>\n",
       "    </tr>\n",
       "    <tr>\n",
       "      <th>2</th>\n",
       "      <td>0.000570</td>\n",
       "      <td>0.005037</td>\n",
       "      <td>0.009327</td>\n",
       "      <td>0.984229</td>\n",
       "      <td>0.000060</td>\n",
       "      <td>4.199898</td>\n",
       "      <td>0.241969</td>\n",
       "    </tr>\n",
       "    <tr>\n",
       "      <th>4</th>\n",
       "      <td>0.001017</td>\n",
       "      <td>0.001494</td>\n",
       "      <td>0.004193</td>\n",
       "      <td>0.991802</td>\n",
       "      <td>0.000107</td>\n",
       "      <td>2.003221</td>\n",
       "      <td>0.131572</td>\n",
       "    </tr>\n",
       "    <tr>\n",
       "      <th>0</th>\n",
       "      <td>0.004269</td>\n",
       "      <td>0.283580</td>\n",
       "      <td>0.008457</td>\n",
       "      <td>0.113814</td>\n",
       "      <td>0.000448</td>\n",
       "      <td>2.016081</td>\n",
       "      <td>0.032605</td>\n",
       "    </tr>\n",
       "    <tr>\n",
       "      <th>6</th>\n",
       "      <td>0.003644</td>\n",
       "      <td>0.005337</td>\n",
       "      <td>0.007123</td>\n",
       "      <td>0.078438</td>\n",
       "      <td>0.000383</td>\n",
       "      <td>0.214523</td>\n",
       "      <td>0.030559</td>\n",
       "    </tr>\n",
       "    <tr>\n",
       "      <th>5</th>\n",
       "      <td>0.755997</td>\n",
       "      <td>0.013432</td>\n",
       "      <td>0.017930</td>\n",
       "      <td>0.199154</td>\n",
       "      <td>0.252404</td>\n",
       "      <td>1.031526</td>\n",
       "      <td>0.013470</td>\n",
       "    </tr>\n",
       "    <tr>\n",
       "      <th>7</th>\n",
       "      <td>0.036484</td>\n",
       "      <td>0.053412</td>\n",
       "      <td>0.071291</td>\n",
       "      <td>0.785173</td>\n",
       "      <td>0.003831</td>\n",
       "      <td>2.114943</td>\n",
       "      <td>0.000277</td>\n",
       "    </tr>\n",
       "    <tr>\n",
       "      <th>8</th>\n",
       "      <td>0.036484</td>\n",
       "      <td>0.053412</td>\n",
       "      <td>0.071291</td>\n",
       "      <td>0.785173</td>\n",
       "      <td>0.003831</td>\n",
       "      <td>2.114943</td>\n",
       "      <td>0.000025</td>\n",
       "    </tr>\n",
       "    <tr>\n",
       "      <th>9</th>\n",
       "      <td>0.036484</td>\n",
       "      <td>0.053412</td>\n",
       "      <td>0.071291</td>\n",
       "      <td>0.785173</td>\n",
       "      <td>0.003831</td>\n",
       "      <td>2.114943</td>\n",
       "      <td>0.000002</td>\n",
       "    </tr>\n",
       "  </tbody>\n",
       "</table>\n",
       "</div>"
      ],
      "text/plain": [
       "      rapid    middle    gentle  straight  tollgate  roadType    weight\n",
       "1  0.000456  0.000668  0.000891  0.997314  0.000048  0.113804  0.303975\n",
       "3  0.100491  0.173184  0.275644  0.449863  0.000058  2.949916  0.245544\n",
       "2  0.000570  0.005037  0.009327  0.984229  0.000060  4.199898  0.241969\n",
       "4  0.001017  0.001494  0.004193  0.991802  0.000107  2.003221  0.131572\n",
       "0  0.004269  0.283580  0.008457  0.113814  0.000448  2.016081  0.032605\n",
       "6  0.003644  0.005337  0.007123  0.078438  0.000383  0.214523  0.030559\n",
       "5  0.755997  0.013432  0.017930  0.199154  0.252404  1.031526  0.013470\n",
       "7  0.036484  0.053412  0.071291  0.785173  0.003831  2.114943  0.000277\n",
       "8  0.036484  0.053412  0.071291  0.785173  0.003831  2.114943  0.000025\n",
       "9  0.036484  0.053412  0.071291  0.785173  0.003831  2.114943  0.000002"
      ]
     },
     "execution_count": 312,
     "metadata": {},
     "output_type": "execute_result"
    }
   ],
   "source": [
    "ref = pd.DataFrame(vb.means_)\n",
    "ref.columns = [\"rapid\", \"middle\", \"gentle\", \"straight\",  \"tollgate\", \"roadType\"]\n",
    "ref[\"weight\"] = ws\n",
    "ref.sort_values(\"weight\", ascending=False)"
   ]
  },
  {
   "cell_type": "code",
   "execution_count": 313,
   "metadata": {
    "collapsed": false,
    "scrolled": false
   },
   "outputs": [
    {
     "data": {
      "image/png": "[encoded data removed]",
      "text/plain": [
       "<matplotlib.figure.Figure at 0x1089aae50>"
      ]
     },
     "metadata": {},
     "output_type": "display_data"
    },
    {
     "data": {
      "image/png": "[encoded data removed]",
      "text/plain": [
       "<matplotlib.figure.Figure at 0x109e7f750>"
      ]
     },
     "metadata": {},
     "output_type": "display_data"
    },
    {
     "data": {
      "image/png": "[encoded data removed]",
      "text/plain": [
       "<matplotlib.figure.Figure at 0x1099910d0>"
      ]
     },
     "metadata": {},
     "output_type": "display_data"
    },
    {
     "data": {
      "image/png": "[encoded data removed]",
      "text/plain": [
       "<matplotlib.figure.Figure at 0x1099f4b10>"
      ]
     },
     "metadata": {},
     "output_type": "display_data"
    },
    {
     "data": {
      "image/png": "[encoded data removed]",
      "text/plain": [
       "<matplotlib.figure.Figure at 0x10a286d50>"
      ]
     },
     "metadata": {},
     "output_type": "display_data"
    },
    {
     "data": {
      "image/png": "[encoded data removed]",
      "text/plain": [
       "<matplotlib.figure.Figure at 0x10a2ecc90>"
      ]
     },
     "metadata": {},
     "output_type": "display_data"
    }
   ],
   "source": [
    "indices = ref.sort_values(\"weight\", ascending=False).index.tolist()\n",
    "\n",
    "ref = ref[[\"rapid\", \"middle\", \"gentle\", \"straight\",  \"tollgate\", \"roadType\"]]\n",
    "for n, id in enumerate(indices[:6]):\n",
    "    ref.ix[id].plot(kind='bar', color=colors[n])\n",
    "    plt.ylim(0, 5)\n",
    "    plt.show()"
   ]
  },
  {
   "cell_type": "code",
   "execution_count": 291,
   "metadata": {
    "collapsed": false
   },
   "outputs": [],
   "source": [
    "pred = zip(mf.index, vb.predict(bf))\n",
    "result = np.zeros(gridSize)\n",
    "\n",
    "for index, klass in pred:\n",
    "    result[index] = klass + 1\n",
    "    \n",
    "np.savetxt(targetDir + \"clusters.csv\", result, delimiter=\",\", fmt=\"%d\")"
   ]
  },
  {
   "cell_type": "code",
   "execution_count": null,
   "metadata": {
    "collapsed": true
   },
   "outputs": [],
   "source": []
  }
 ],
 "metadata": {
  "kernelspec": {
   "display_name": "Python 2",
   "language": "python",
   "name": "python2"
  },
  "language_info": {
   "codemirror_mode": {
    "name": "ipython",
    "version": 2
   },
   "file_extension": ".py",
   "mimetype": "text/x-python",
   "name": "python",
   "nbconvert_exporter": "python",
   "pygments_lexer": "ipython2",
   "version": "2.7.10"
  }
 },
 "nbformat": 4,
 "nbformat_minor": 1
}
