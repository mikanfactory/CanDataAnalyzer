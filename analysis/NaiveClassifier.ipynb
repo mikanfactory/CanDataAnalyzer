{
 "cells": [
  {
   "cell_type": "code",
   "execution_count": 1,
   "metadata": {
    "collapsed": false
   },
   "outputs": [],
   "source": [
    "library(grid)\n",
    "library(rpart)\n",
    "library(rpart.plot)\n",
    "library(partykit)\n",
    "library(lattice)\n",
    "library(ggplot2)\n",
    "library(caret)"
   ]
  },
  {
   "cell_type": "code",
   "execution_count": 2,
   "metadata": {
    "collapsed": true
   },
   "outputs": [],
   "source": [
    "set.seed(1)"
   ]
  },
  {
   "cell_type": "code",
   "execution_count": 3,
   "metadata": {
    "collapsed": false
   },
   "outputs": [],
   "source": [
    "invalids <- c('Time', 'Longitude', 'Latitude', 'Brake', 'Accel', 'flag')\n",
    "isValidColumn <- function(x) {\n",
    "    if (x %in% invalids) {\n",
    "        return(FALSE)\n",
    "    }\n",
    "    return(TRUE)\n",
    "}"
   ]
  },
  {
   "cell_type": "markdown",
   "metadata": {},
   "source": [
    "# Predict Red A or Not"
   ]
  },
  {
   "cell_type": "code",
   "execution_count": 4,
   "metadata": {
    "collapsed": false,
    "scrolled": false
   },
   "outputs": [],
   "source": [
    "df <- read.csv(\"../data/middle/sp.csv\", stringsAsFactors=FALSE)"
   ]
  },
  {
   "cell_type": "code",
   "execution_count": 5,
   "metadata": {
    "collapsed": false
   },
   "outputs": [],
   "source": [
    "df$flag[df$flag == \"RedB\"] <- \"ELSE\"\n",
    "df$flag[df$flag == \"BlueA\"] <- \"ELSE\"\n",
    "df$flag[df$flag == \"BlueB\"] <- \"ELSE\"\n",
    "df$flag <- as.factor(df$flag)"
   ]
  },
  {
   "cell_type": "code",
   "execution_count": 6,
   "metadata": {
    "collapsed": false,
    "scrolled": true
   },
   "outputs": [],
   "source": [
    "allFeatures <- c(colnames(df))\n",
    "features <- Filter(isValidColumn, allFeatures)"
   ]
  },
  {
   "cell_type": "code",
   "execution_count": 7,
   "metadata": {
    "collapsed": false
   },
   "outputs": [],
   "source": [
    "expr <- paste(\"flag ~ \", paste(features, collapse=\" + \"))"
   ]
  },
  {
   "cell_type": "code",
   "execution_count": 8,
   "metadata": {
    "collapsed": false
   },
   "outputs": [],
   "source": [
    "folds <- createFolds(df$flag)"
   ]
  },
  {
   "cell_type": "code",
   "execution_count": 9,
   "metadata": {
    "collapsed": false,
    "scrolled": true
   },
   "outputs": [
    {
     "data": {
      "text/html": [
       "'RedA/all = 0.387817'"
      ],
      "text/latex": [
       "'RedA/all = 0.387817'"
      ],
      "text/markdown": [
       "'RedA/all = 0.387817'"
      ],
      "text/plain": [
       "[1] \"RedA/all = 0.387817\""
      ]
     },
     "metadata": {},
     "output_type": "display_data"
    }
   ],
   "source": [
    "nred <- nrow(df[df$flag == \"RedA\", ])\n",
    "sprintf(\"RedA/all = %f\", as.numeric(nred)/nrow(df))"
   ]
  },
  {
   "cell_type": "code",
   "execution_count": 10,
   "metadata": {
    "collapsed": false
   },
   "outputs": [
    {
     "data": {
      "text/html": [
       "'CV value: 0.368581'"
      ],
      "text/latex": [
       "'CV value: 0.368581'"
      ],
      "text/markdown": [
       "'CV value: 0.368581'"
      ],
      "text/plain": [
       "[1] \"CV value: 0.368581\""
      ]
     },
     "metadata": {},
     "output_type": "display_data"
    }
   ],
   "source": [
    "errs <- c()\n",
    "for (ids in folds) {\n",
    "    train <- df[-ids, ]\n",
    "    test <- df[ids, ]\n",
    "    fit <- rpart(expr, data=train, method=\"class\")\n",
    "    p <- predict(fit, newdata=test)\n",
    "    res <- colnames(p)[max.col(p, ties.method = \"first\")] == test$flag\n",
    "    errs <- c(errs, table(res)[\"FALSE\"] / nrow(test))\n",
    "}\n",
    "sprintf(\"CV value: %f\", mean(errs))"
   ]
  },
  {
   "cell_type": "code",
   "execution_count": 11,
   "metadata": {
    "collapsed": true
   },
   "outputs": [],
   "source": [
    "fit <- rpart(expr, data=df, method=\"class\")"
   ]
  },
  {
   "cell_type": "code",
   "execution_count": 12,
   "metadata": {
    "collapsed": false
   },
   "outputs": [
    {
     "name": "stdout",
     "output_type": "stream",
     "text": [
      "\n",
      "Classification tree:\n",
      "rpart(formula = expr, data = df, method = \"class\")\n",
      "\n",
      "Variables actually used in tree construction:\n",
      "[1] AccelerationSpeed Curve             Jerk              RedLamp          \n",
      "[5] RiskFactor        RoadType          Speed             TimeHeadway      \n",
      "\n",
      "Root node error: 382/985 = 0.38782\n",
      "\n",
      "n= 985 \n",
      "\n",
      "        CP nsplit rel error  xerror     xstd\n",
      "1 0.034904      0   1.00000 1.00000 0.040032\n",
      "2 0.020942      3   0.89529 0.98691 0.039934\n",
      "3 0.020070      5   0.85340 0.98429 0.039914\n",
      "4 0.014398      8   0.79319 0.95026 0.039634\n",
      "5 0.013089     11   0.74869 0.95550 0.039679\n",
      "6 0.012216     13   0.72251 0.95288 0.039657\n",
      "7 0.010471     18   0.65969 0.97120 0.039810\n",
      "8 0.010000     20   0.63874 0.97120 0.039810\n"
     ]
    }
   ],
   "source": [
    "printcp(fit)"
   ]
  },
  {
   "cell_type": "code",
   "execution_count": 13,
   "metadata": {
    "collapsed": false,
    "scrolled": true
   },
   "outputs": [
    {
     "name": "stdout",
     "output_type": "stream",
     "text": [
      "Call:\n",
      "rpart(formula = expr, data = df, method = \"class\")\n",
      "  n= 985 \n",
      "\n",
      "          CP nsplit rel error    xerror       xstd\n",
      "1 0.03490401      0 1.0000000 1.0000000 0.04003214\n",
      "2 0.02094241      3 0.8952880 0.9869110 0.03993383\n",
      "3 0.02006981      5 0.8534031 0.9842932 0.03991362\n",
      "4 0.01439791      8 0.7931937 0.9502618 0.03963392\n",
      "5 0.01308901     11 0.7486911 0.9554974 0.03967901\n",
      "6 0.01221640     13 0.7225131 0.9528796 0.03965656\n",
      "7 0.01047120     18 0.6596859 0.9712042 0.03980977\n",
      "8 0.01000000     20 0.6387435 0.9712042 0.03980977\n",
      "\n",
      "Variable importance\n",
      "            Speed        RiskFactor       TimeHeadway          RoadType \n",
      "               16                15                15                11 \n",
      "    AheadDistance AccelerationSpeed          PathType            Engine \n",
      "                8                 7                 6                 4 \n",
      "            Pitch         LaneCount           RedLamp   TimeToCollision \n",
      "                4                 3                 3                 2 \n",
      "            Curve              Jerk     SteeringAngle        DistSignal \n",
      "                2                 2                 1                 1 \n",
      "\n",
      "Node number 1: 985 observations,    complexity param=0.03490401\n",
      "  predicted class=ELSE  expected loss=0.3878173  P(node) =1\n",
      "    class counts:   603   382\n",
      "   probabilities: 0.612 0.388 \n",
      "  left son=2 (538 obs) right son=3 (447 obs)\n",
      "  Primary splits:\n",
      "      RoadType      < 3.5          to the right, improve=22.70398, (0 missing)\n",
      "      RiskFactor    < 0.1332855    to the left,  improve=18.83307, (0 missing)\n",
      "      Speed         < 54.81        to the left,  improve=17.31190, (0 missing)\n",
      "      PathType      < 53.5         to the left,  improve=15.65084, (0 missing)\n",
      "      AheadDistance < 5.55         to the left,  improve=13.87639, (0 missing)\n",
      "  Surrogate splits:\n",
      "      PathType   < 53.5         to the left,  agree=0.752, adj=0.454, (0 split)\n",
      "      Speed      < 45.73        to the left,  agree=0.713, adj=0.367, (0 split)\n",
      "      LaneCount  < 2.5          to the left,  agree=0.652, adj=0.233, (0 split)\n",
      "      RiskFactor < 0.3431435    to the left,  agree=0.649, adj=0.226, (0 split)\n",
      "      Pitch      < -0.07189055  to the right, agree=0.637, adj=0.199, (0 split)\n",
      "\n",
      "Node number 2: 538 observations,    complexity param=0.02094241\n",
      "  predicted class=ELSE  expected loss=0.2899628  P(node) =0.5461929\n",
      "    class counts:   382   156\n",
      "   probabilities: 0.710 0.290 \n",
      "  left son=4 (502 obs) right son=5 (36 obs)\n",
      "  Primary splits:\n",
      "      Speed           < 49.64        to the left,  improve=7.958336, (0 missing)\n",
      "      RiskFactor      < 0.1332855    to the left,  improve=7.369705, (0 missing)\n",
      "      TimeToCollision < -15.55795    to the right, improve=6.490800, (0 missing)\n",
      "      TimeHeadway     < 0.9719791    to the left,  improve=5.785230, (0 missing)\n",
      "      DistSignal      < 36.50375     to the right, improve=4.956812, (0 missing)\n",
      "  Surrogate splits:\n",
      "      AheadDistance < 61.15        to the left,  agree=0.937, adj=0.056, (0 split)\n",
      "\n",
      "Node number 3: 447 observations,    complexity param=0.03490401\n",
      "  predicted class=RedA  expected loss=0.4944072  P(node) =0.4538071\n",
      "    class counts:   221   226\n",
      "   probabilities: 0.494 0.506 \n",
      "  left son=6 (412 obs) right son=7 (35 obs)\n",
      "  Primary splits:\n",
      "      Speed         < 81.715       to the left,  improve=5.367043, (0 missing)\n",
      "      RiskFactor    < 0.3123164    to the left,  improve=4.845948, (0 missing)\n",
      "      Engine        < 1657.812     to the left,  improve=4.618798, (0 missing)\n",
      "      RedLamp       < 0.5          to the right, improve=4.376127, (0 missing)\n",
      "      AheadDistance < 7.15         to the left,  improve=3.583147, (0 missing)\n",
      "  Surrogate splits:\n",
      "      Engine        < 1668.75      to the left,  agree=0.969, adj=0.600, (0 split)\n",
      "      AheadDistance < 80.05        to the left,  agree=0.933, adj=0.143, (0 split)\n",
      "      Pitch         < -0.4425373   to the right, agree=0.924, adj=0.029, (0 split)\n",
      "\n",
      "Node number 4: 502 observations,    complexity param=0.0122164\n",
      "  predicted class=ELSE  expected loss=0.2669323  P(node) =0.5096447\n",
      "    class counts:   368   134\n",
      "   probabilities: 0.733 0.267 \n",
      "  left son=8 (233 obs) right son=9 (269 obs)\n",
      "  Primary splits:\n",
      "      RiskFactor      < 0.1332855    to the left,  improve=7.196169, (0 missing)\n",
      "      TimeToCollision < -16.66656    to the right, improve=5.092151, (0 missing)\n",
      "      TimeHeadway     < 0.7751889    to the left,  improve=4.976958, (0 missing)\n",
      "      Pitch           < 0.000870647  to the left,  improve=4.526884, (0 missing)\n",
      "      AheadDistance   < 5.55         to the left,  improve=4.341942, (0 missing)\n",
      "  Surrogate splits:\n",
      "      AheadDistance   < 4            to the left,  agree=0.873, adj=0.725, (0 split)\n",
      "      TimeHeadway     < 1.168462     to the left,  agree=0.865, adj=0.708, (0 split)\n",
      "      TimeToCollision < 0.4492195    to the left,  agree=0.705, adj=0.365, (0 split)\n",
      "      DistSignal      < 283.2109     to the right, agree=0.641, adj=0.227, (0 split)\n",
      "      RoadType        < 5.5          to the right, agree=0.629, adj=0.202, (0 split)\n",
      "\n",
      "Node number 5: 36 observations,    complexity param=0.02094241\n",
      "  predicted class=RedA  expected loss=0.3888889  P(node) =0.03654822\n",
      "    class counts:    14    22\n",
      "   probabilities: 0.389 0.611 \n",
      "  left son=10 (12 obs) right son=11 (24 obs)\n",
      "  Primary splits:\n",
      "      AccelerationSpeed < -0.02777778  to the right, improve=7.111111, (0 missing)\n",
      "      Engine            < 1418.75      to the right, improve=3.810619, (0 missing)\n",
      "      TimeToCollision   < -0.9392146   to the right, improve=2.906777, (0 missing)\n",
      "      Speed             < 62.305       to the right, improve=2.682540, (0 missing)\n",
      "      Jerk              < 0.5833333    to the right, improve=2.680342, (0 missing)\n",
      "  Surrogate splits:\n",
      "      Speed           < 62.305       to the right, agree=0.778, adj=0.333, (0 split)\n",
      "      AheadDistance   < 50.35        to the right, agree=0.750, adj=0.250, (0 split)\n",
      "      TimeToCollision < 0.4580083    to the right, agree=0.750, adj=0.250, (0 split)\n",
      "      Pitch           < -0.1012438   to the left,  agree=0.722, adj=0.167, (0 split)\n",
      "      RiskFactor      < 0.4779939    to the right, agree=0.722, adj=0.167, (0 split)\n",
      "\n",
      "Node number 6: 412 observations,    complexity param=0.03490401\n",
      "  predicted class=ELSE  expected loss=0.4830097  P(node) =0.4182741\n",
      "    class counts:   213   199\n",
      "   probabilities: 0.517 0.483 \n",
      "  left son=12 (161 obs) right son=13 (251 obs)\n",
      "  Primary splits:\n",
      "      RiskFactor    < 0.3296537    to the left,  improve=4.444970, (0 missing)\n",
      "      Pitch         < -0.06007463  to the left,  improve=4.248514, (0 missing)\n",
      "      RedLamp       < 0.5          to the right, improve=3.787224, (0 missing)\n",
      "      Curve         < 61.5         to the right, improve=3.540428, (0 missing)\n",
      "      SteeringAngle < -23.2        to the left,  improve=2.957797, (0 missing)\n",
      "  Surrogate splits:\n",
      "      AheadDistance     < 2.75         to the left,  agree=0.760, adj=0.385, (0 split)\n",
      "      TimeHeadway       < 0.7026454    to the left,  agree=0.745, adj=0.348, (0 split)\n",
      "      AccelerationSpeed < -0.3083333   to the left,  agree=0.643, adj=0.087, (0 split)\n",
      "      Speed             < 17.015       to the left,  agree=0.631, adj=0.056, (0 split)\n",
      "      TimeToCollision   < -20.55289    to the right, agree=0.624, adj=0.037, (0 split)\n",
      "\n",
      "Node number 7: 35 observations\n",
      "  predicted class=RedA  expected loss=0.2285714  P(node) =0.03553299\n",
      "    class counts:     8    27\n",
      "   probabilities: 0.229 0.771 \n",
      "\n",
      "Node number 8: 233 observations\n",
      "  predicted class=ELSE  expected loss=0.1759657  P(node) =0.2365482\n",
      "    class counts:   192    41\n",
      "   probabilities: 0.824 0.176 \n",
      "\n",
      "Node number 9: 269 observations,    complexity param=0.0122164\n",
      "  predicted class=ELSE  expected loss=0.3457249  P(node) =0.2730964\n",
      "    class counts:   176    93\n",
      "   probabilities: 0.654 0.346 \n",
      "  left son=18 (184 obs) right son=19 (85 obs)\n",
      "  Primary splits:\n",
      "      TimeHeadway   < 2.216732     to the right, improve=9.494272, (0 missing)\n",
      "      Pitch         < -0.1738806   to the left,  improve=4.338024, (0 missing)\n",
      "      DistSignal    < 10.6749      to the right, improve=4.012254, (0 missing)\n",
      "      AheadDistance < 14.65        to the right, improve=3.097478, (0 missing)\n",
      "      Engine        < 1282.812     to the right, improve=2.798619, (0 missing)\n",
      "  Surrogate splits:\n",
      "      Pitch             < 0.2273632    to the left,  agree=0.714, adj=0.094, (0 split)\n",
      "      Engine            < 1771.875     to the left,  agree=0.691, adj=0.024, (0 split)\n",
      "      Curve             < 253          to the left,  agree=0.691, adj=0.024, (0 split)\n",
      "      SteeringAngle     < -18.8        to the right, agree=0.691, adj=0.024, (0 split)\n",
      "      AccelerationSpeed < -0.2305556   to the right, agree=0.691, adj=0.024, (0 split)\n",
      "\n",
      "Node number 10: 12 observations\n",
      "  predicted class=ELSE  expected loss=0.1666667  P(node) =0.01218274\n",
      "    class counts:    10     2\n",
      "   probabilities: 0.833 0.167 \n",
      "\n",
      "Node number 11: 24 observations\n",
      "  predicted class=RedA  expected loss=0.1666667  P(node) =0.02436548\n",
      "    class counts:     4    20\n",
      "   probabilities: 0.167 0.833 \n",
      "\n",
      "Node number 12: 161 observations,    complexity param=0.01308901\n",
      "  predicted class=ELSE  expected loss=0.3913043  P(node) =0.1634518\n",
      "    class counts:    98    63\n",
      "   probabilities: 0.609 0.391 \n",
      "  left son=24 (154 obs) right son=25 (7 obs)\n",
      "  Primary splits:\n",
      "      AccelerationSpeed < 0.4861111    to the left,  improve=3.176172, (0 missing)\n",
      "      Jerk              < 1.138889     to the right, improve=2.405684, (0 missing)\n",
      "      DistManBicycle    < 9.287063     to the right, improve=2.307897, (0 missing)\n",
      "      SteeringAngle     < -24.95       to the left,  improve=2.241107, (0 missing)\n",
      "      DistSignal        < 48.01355     to the right, improve=2.136678, (0 missing)\n",
      "\n",
      "Node number 13: 251 observations,    complexity param=0.02006981\n",
      "  predicted class=RedA  expected loss=0.4581673  P(node) =0.2548223\n",
      "    class counts:   115   136\n",
      "   probabilities: 0.458 0.542 \n",
      "  left son=26 (242 obs) right son=27 (9 obs)\n",
      "  Primary splits:\n",
      "      Curve         < 62.5         to the right, improve=3.919035, (0 missing)\n",
      "      Pitch         < -0.06007463  to the left,  improve=3.745895, (0 missing)\n",
      "      RedLamp       < 0.5          to the right, improve=3.426944, (0 missing)\n",
      "      RiskFactor    < 0.3825478    to the right, improve=3.178592, (0 missing)\n",
      "      SteeringAngle < 11.9         to the left,  improve=2.894013, (0 missing)\n",
      "  Surrogate splits:\n",
      "      SteeringAngle < 36.8         to the left,  agree=0.976, adj=0.333, (0 split)\n",
      "\n",
      "Node number 18: 184 observations\n",
      "  predicted class=ELSE  expected loss=0.2554348  P(node) =0.186802\n",
      "    class counts:   137    47\n",
      "   probabilities: 0.745 0.255 \n",
      "\n",
      "Node number 19: 85 observations,    complexity param=0.0122164\n",
      "  predicted class=RedA  expected loss=0.4588235  P(node) =0.08629442\n",
      "    class counts:    39    46\n",
      "   probabilities: 0.459 0.541 \n",
      "  left son=38 (7 obs) right son=39 (78 obs)\n",
      "  Primary splits:\n",
      "      RiskFactor    < 0.9698716    to the right, improve=4.468175, (0 missing)\n",
      "      TimeHeadway   < 1.7543       to the right, improve=2.916683, (0 missing)\n",
      "      PathType      < 3            to the left,  improve=2.717717, (0 missing)\n",
      "      Speed         < 28.375       to the right, improve=1.966867, (0 missing)\n",
      "      AheadDistance < 14.5         to the right, improve=1.966867, (0 missing)\n",
      "  Surrogate splits:\n",
      "      Engine        < 1739.062     to the right, agree=0.953, adj=0.429, (0 split)\n",
      "      AheadDistance < 27.9         to the right, agree=0.929, adj=0.143, (0 split)\n",
      "      SteeringAngle < -6.55        to the left,  agree=0.929, adj=0.143, (0 split)\n",
      "\n",
      "Node number 24: 154 observations\n",
      "  predicted class=ELSE  expected loss=0.3701299  P(node) =0.1563452\n",
      "    class counts:    97    57\n",
      "   probabilities: 0.630 0.370 \n",
      "\n",
      "Node number 25: 7 observations\n",
      "  predicted class=RedA  expected loss=0.1428571  P(node) =0.007106599\n",
      "    class counts:     1     6\n",
      "   probabilities: 0.143 0.857 \n",
      "\n",
      "Node number 26: 242 observations,    complexity param=0.02006981\n",
      "  predicted class=RedA  expected loss=0.4752066  P(node) =0.2456853\n",
      "    class counts:   115   127\n",
      "   probabilities: 0.475 0.525 \n",
      "  left son=52 (210 obs) right son=53 (32 obs)\n",
      "  Primary splits:\n",
      "      RiskFactor    < 0.3825478    to the right, improve=3.740575, (0 missing)\n",
      "      SteeringAngle < -21.4        to the left,  improve=3.199380, (0 missing)\n",
      "      RedLamp       < 0.5          to the right, improve=3.064832, (0 missing)\n",
      "      Pitch         < -0.06007463  to the left,  improve=3.038381, (0 missing)\n",
      "      TimeHeadway   < 1.577253     to the right, improve=3.036121, (0 missing)\n",
      "  Surrogate splits:\n",
      "      Speed < 9.375        to the right, agree=0.872, adj=0.031, (0 split)\n",
      "\n",
      "Node number 27: 9 observations\n",
      "  predicted class=RedA  expected loss=0  P(node) =0.009137056\n",
      "    class counts:     0     9\n",
      "   probabilities: 0.000 1.000 \n",
      "\n",
      "Node number 38: 7 observations\n",
      "  predicted class=ELSE  expected loss=0  P(node) =0.007106599\n",
      "    class counts:     7     0\n",
      "   probabilities: 1.000 0.000 \n",
      "\n",
      "Node number 39: 78 observations,    complexity param=0.0122164\n",
      "  predicted class=RedA  expected loss=0.4102564  P(node) =0.07918782\n",
      "    class counts:    32    46\n",
      "   probabilities: 0.410 0.590 \n",
      "  left son=78 (56 obs) right son=79 (22 obs)\n",
      "  Primary splits:\n",
      "      TimeHeadway   < 1.7543       to the right, improve=3.198135, (0 missing)\n",
      "      PathType      < 3            to the left,  improve=2.378073, (0 missing)\n",
      "      AheadDistance < 9.25         to the right, improve=2.208296, (0 missing)\n",
      "      DistSignal    < 98.72115     to the right, improve=2.166667, (0 missing)\n",
      "      Speed         < 29.155       to the right, improve=1.969503, (0 missing)\n",
      "  Surrogate splits:\n",
      "      AheadDistance < 9.85         to the right, agree=0.872, adj=0.545, (0 split)\n",
      "      Speed         < 19.56        to the right, agree=0.782, adj=0.227, (0 split)\n",
      "      SteeringAngle < -2.7         to the right, agree=0.782, adj=0.227, (0 split)\n",
      "      RiskFactor    < 0.6384124    to the left,  agree=0.782, adj=0.227, (0 split)\n",
      "      PathType      < 53.5         to the left,  agree=0.769, adj=0.182, (0 split)\n",
      "\n",
      "Node number 52: 210 observations,    complexity param=0.02006981\n",
      "  predicted class=ELSE  expected loss=0.4904762  P(node) =0.213198\n",
      "    class counts:   107   103\n",
      "   probabilities: 0.510 0.490 \n",
      "  left son=104 (133 obs) right son=105 (77 obs)\n",
      "  Primary splits:\n",
      "      TimeHeadway       < 1.577253     to the right, improve=4.294782, (0 missing)\n",
      "      RedLamp           < 0.5          to the right, improve=3.625170, (0 missing)\n",
      "      AccelerationSpeed < -0.002777778 to the right, improve=2.750018, (0 missing)\n",
      "      SteeringAngle     < -21.4        to the left,  improve=2.706515, (0 missing)\n",
      "      DistManBicycle    < 8.817813     to the left,  improve=2.477406, (0 missing)\n",
      "  Surrogate splits:\n",
      "      RiskFactor    < 0.625073     to the left,  agree=0.752, adj=0.325, (0 split)\n",
      "      DistSignal    < 391.938      to the left,  agree=0.667, adj=0.091, (0 split)\n",
      "      Engine        < 1650         to the left,  agree=0.662, adj=0.078, (0 split)\n",
      "      AheadDistance < 9.6          to the right, agree=0.662, adj=0.078, (0 split)\n",
      "      Pitch         < 0.1338308    to the left,  agree=0.662, adj=0.078, (0 split)\n",
      "\n",
      "Node number 53: 32 observations\n",
      "  predicted class=RedA  expected loss=0.25  P(node) =0.03248731\n",
      "    class counts:     8    24\n",
      "   probabilities: 0.250 0.750 \n",
      "\n",
      "Node number 78: 56 observations,    complexity param=0.0122164\n",
      "  predicted class=ELSE  expected loss=0.5  P(node) =0.05685279\n",
      "    class counts:    28    28\n",
      "   probabilities: 0.500 0.500 \n",
      "  left son=156 (18 obs) right son=157 (38 obs)\n",
      "  Primary splits:\n",
      "      TimeHeadway       < 1.938017     to the left,  improve=4.093567, (0 missing)\n",
      "      RiskFactor        < 0.5541537    to the right, improve=3.895652, (0 missing)\n",
      "      AccelerationSpeed < -0.008333334 to the right, improve=2.896552, (0 missing)\n",
      "      PathType          < 3            to the left,  improve=2.191304, (0 missing)\n",
      "      Engine            < 1132.812     to the left,  improve=2.040816, (0 missing)\n",
      "  Surrogate splits:\n",
      "      RiskFactor    < 0.4546288    to the right, agree=0.768, adj=0.278, (0 split)\n",
      "      Engine        < 1125         to the left,  agree=0.714, adj=0.111, (0 split)\n",
      "      AheadDistance < 11.6         to the left,  agree=0.714, adj=0.111, (0 split)\n",
      "      DistSignal    < 14.14697     to the left,  agree=0.714, adj=0.111, (0 split)\n",
      "      Speed         < 20.135       to the left,  agree=0.696, adj=0.056, (0 split)\n",
      "\n",
      "Node number 79: 22 observations\n",
      "  predicted class=RedA  expected loss=0.1818182  P(node) =0.02233503\n",
      "    class counts:     4    18\n",
      "   probabilities: 0.182 0.818 \n",
      "\n",
      "Node number 104: 133 observations,    complexity param=0.01439791\n",
      "  predicted class=ELSE  expected loss=0.4135338  P(node) =0.1350254\n",
      "    class counts:    78    55\n",
      "   probabilities: 0.586 0.414 \n",
      "  left son=208 (54 obs) right son=209 (79 obs)\n",
      "  Primary splits:\n",
      "      Jerk          < 0.08333333   to the left,  improve=3.350941, (0 missing)\n",
      "      RedLamp       < 0.5          to the right, improve=2.876292, (0 missing)\n",
      "      Speed         < 28.14        to the right, improve=2.788165, (0 missing)\n",
      "      AheadDistance < 15           to the right, improve=2.368421, (0 missing)\n",
      "      Pitch         < 0.1034826    to the right, improve=2.190791, (0 missing)\n",
      "  Surrogate splits:\n",
      "      Speed       < 44.425       to the right, agree=0.647, adj=0.130, (0 split)\n",
      "      GreenLamp   < 0.5          to the right, agree=0.632, adj=0.093, (0 split)\n",
      "      Engine      < 1040.625     to the left,  agree=0.617, adj=0.056, (0 split)\n",
      "      Curve       < 70.5         to the left,  agree=0.617, adj=0.056, (0 split)\n",
      "      TimeHeadway < 1.586215     to the left,  agree=0.617, adj=0.056, (0 split)\n",
      "\n",
      "Node number 105: 77 observations,    complexity param=0.0104712\n",
      "  predicted class=RedA  expected loss=0.3766234  P(node) =0.07817259\n",
      "    class counts:    29    48\n",
      "   probabilities: 0.377 0.623 \n",
      "  left son=210 (59 obs) right son=211 (18 obs)\n",
      "  Primary splits:\n",
      "      RiskFactor        < 0.5726752    to the right, improve=3.312153, (0 missing)\n",
      "      Speed             < 39.025       to the left,  improve=2.852683, (0 missing)\n",
      "      AccelerationSpeed < 0            to the right, improve=2.812987, (0 missing)\n",
      "      AheadDistance     < 22.85        to the left,  improve=2.809690, (0 missing)\n",
      "      Pitch             < 0.0199005    to the left,  improve=2.680269, (0 missing)\n",
      "  Surrogate splits:\n",
      "      AccelerationSpeed < -0.1611111   to the right, agree=0.844, adj=0.333, (0 split)\n",
      "      AheadDistance     < 22.85        to the left,  agree=0.805, adj=0.167, (0 split)\n",
      "      Engine            < 1156.25      to the right, agree=0.779, adj=0.056, (0 split)\n",
      "      TimeHeadway       < 1.546346     to the left,  agree=0.779, adj=0.056, (0 split)\n",
      "\n",
      "Node number 156: 18 observations\n",
      "  predicted class=ELSE  expected loss=0.2222222  P(node) =0.01827411\n",
      "    class counts:    14     4\n",
      "   probabilities: 0.778 0.222 \n",
      "\n",
      "Node number 157: 38 observations\n",
      "  predicted class=RedA  expected loss=0.3684211  P(node) =0.03857868\n",
      "    class counts:    14    24\n",
      "   probabilities: 0.368 0.632 \n",
      "\n",
      "Node number 208: 54 observations\n",
      "  predicted class=ELSE  expected loss=0.2777778  P(node) =0.05482234\n",
      "    class counts:    39    15\n",
      "   probabilities: 0.722 0.278 \n",
      "\n",
      "Node number 209: 79 observations,    complexity param=0.01439791\n",
      "  predicted class=RedA  expected loss=0.4936709  P(node) =0.08020305\n",
      "    class counts:    39    40\n",
      "   probabilities: 0.494 0.506 \n",
      "  left son=418 (10 obs) right son=419 (69 obs)\n",
      "  Primary splits:\n",
      "      RedLamp     < 0.5          to the right, improve=5.870482, (0 missing)\n",
      "      TimeHeadway < 1.708009     to the left,  improve=3.866631, (0 missing)\n",
      "      Pitch       < -0.0960199   to the left,  improve=3.327802, (0 missing)\n",
      "      Speed       < 62.36        to the right, improve=2.588741, (0 missing)\n",
      "      Engine      < 1578.125     to the right, improve=2.029385, (0 missing)\n",
      "  Surrogate splits:\n",
      "      TimeToCollision < 355.2717     to the right, agree=0.886, adj=0.1, (0 split)\n",
      "\n",
      "Node number 210: 59 observations,    complexity param=0.0104712\n",
      "  predicted class=RedA  expected loss=0.4576271  P(node) =0.05989848\n",
      "    class counts:    27    32\n",
      "   probabilities: 0.458 0.542 \n",
      "  left son=420 (24 obs) right son=421 (35 obs)\n",
      "  Primary splits:\n",
      "      Speed             < 39.025       to the left,  improve=3.535755, (0 missing)\n",
      "      Pitch             < 0.02686567   to the left,  improve=2.870791, (0 missing)\n",
      "      AccelerationSpeed < -0.01388889  to the right, improve=2.608648, (0 missing)\n",
      "      Engine            < 1537.5       to the left,  improve=2.550547, (0 missing)\n",
      "      AheadDistance     < 11.6         to the left,  improve=1.836631, (0 missing)\n",
      "  Surrogate splits:\n",
      "      AheadDistance     < 14.35        to the left,  agree=0.831, adj=0.583, (0 split)\n",
      "      PathType          < 4            to the left,  agree=0.746, adj=0.375, (0 split)\n",
      "      LaneCount         < 2.5          to the left,  agree=0.695, adj=0.250, (0 split)\n",
      "      Engine            < 1292.188     to the left,  agree=0.678, adj=0.208, (0 split)\n",
      "      AccelerationSpeed < 0.08611111   to the right, agree=0.678, adj=0.208, (0 split)\n",
      "\n",
      "Node number 211: 18 observations\n",
      "  predicted class=RedA  expected loss=0.1111111  P(node) =0.01827411\n",
      "    class counts:     2    16\n",
      "   probabilities: 0.111 0.889 \n",
      "\n",
      "Node number 418: 10 observations\n",
      "  predicted class=ELSE  expected loss=0  P(node) =0.01015228\n",
      "    class counts:    10     0\n",
      "   probabilities: 1.000 0.000 \n",
      "\n",
      "Node number 419: 69 observations,    complexity param=0.01439791\n",
      "  predicted class=RedA  expected loss=0.4202899  P(node) =0.07005076\n",
      "    class counts:    29    40\n",
      "   probabilities: 0.420 0.580 \n",
      "  left son=838 (8 obs) right son=839 (61 obs)\n",
      "  Primary splits:\n",
      "      Speed         < 62.36        to the right, improve=3.742041, (0 missing)\n",
      "      Pitch         < -0.0960199   to the left,  improve=3.652662, (0 missing)\n",
      "      TimeHeadway   < 1.70569      to the left,  improve=3.372341, (0 missing)\n",
      "      AheadDistance < 14.6         to the right, improve=2.004141, (0 missing)\n",
      "      RiskFactor    < 0.5047925    to the left,  improve=1.901626, (0 missing)\n",
      "  Surrogate splits:\n",
      "      AheadDistance < 34.45        to the right, agree=0.928, adj=0.375, (0 split)\n",
      "      Pitch         < -0.4161692   to the left,  agree=0.913, adj=0.250, (0 split)\n",
      "\n",
      "Node number 420: 24 observations\n",
      "  predicted class=ELSE  expected loss=0.3333333  P(node) =0.02436548\n",
      "    class counts:    16     8\n",
      "   probabilities: 0.667 0.333 \n",
      "\n",
      "Node number 421: 35 observations\n",
      "  predicted class=RedA  expected loss=0.3142857  P(node) =0.03553299\n",
      "    class counts:    11    24\n",
      "   probabilities: 0.314 0.686 \n",
      "\n",
      "Node number 838: 8 observations\n",
      "  predicted class=ELSE  expected loss=0.125  P(node) =0.008121827\n",
      "    class counts:     7     1\n",
      "   probabilities: 0.875 0.125 \n",
      "\n",
      "Node number 839: 61 observations,    complexity param=0.01308901\n",
      "  predicted class=RedA  expected loss=0.3606557  P(node) =0.06192893\n",
      "    class counts:    22    39\n",
      "   probabilities: 0.361 0.639 \n",
      "  left son=1678 (9 obs) right son=1679 (52 obs)\n",
      "  Primary splits:\n",
      "      TimeHeadway       < 1.70569      to the left,  improve=3.673883, (0 missing)\n",
      "      Pitch             < -0.0960199   to the left,  improve=2.278974, (0 missing)\n",
      "      AccelerationSpeed < 0.3055556    to the right, improve=1.614430, (0 missing)\n",
      "      SteeringAngle     < -3           to the left,  improve=1.286808, (0 missing)\n",
      "      AheadDistance     < 23.05        to the left,  improve=1.224388, (0 missing)\n",
      "  Surrogate splits:\n",
      "      AccelerationSpeed < 0.6083333    to the right, agree=0.902, adj=0.333, (0 split)\n",
      "      Engine            < 1589.062     to the right, agree=0.885, adj=0.222, (0 split)\n",
      "\n",
      "Node number 1678: 9 observations\n",
      "  predicted class=ELSE  expected loss=0.2222222  P(node) =0.009137056\n",
      "    class counts:     7     2\n",
      "   probabilities: 0.778 0.222 \n",
      "\n",
      "Node number 1679: 52 observations\n",
      "  predicted class=RedA  expected loss=0.2884615  P(node) =0.05279188\n",
      "    class counts:    15    37\n",
      "   probabilities: 0.288 0.712 \n",
      "\n"
     ]
    }
   ],
   "source": [
    "summary(fit)"
   ]
  },
  {
   "cell_type": "code",
   "execution_count": 14,
   "metadata": {
    "collapsed": false,
    "scrolled": false
   },
   "outputs": [
    {
     "data": {
      "image/png": "[encoded data removed]",
      "text/plain": [
       "Plot with title “Classification Tree for RedA”"
      ]
     },
     "metadata": {},
     "output_type": "display_data"
    }
   ],
   "source": [
    "plot(fit, uniform=TRUE, main=\"Classification Tree for RedA\")\n",
    "text(fit, use.n=TRUE, all=TRUE, cex=.6)"
   ]
  },
  {
   "cell_type": "markdown",
   "metadata": {},
   "source": [
    "# Predict Red B"
   ]
  },
  {
   "cell_type": "code",
   "execution_count": 15,
   "metadata": {
    "collapsed": false
   },
   "outputs": [],
   "source": [
    "df2 <- read.csv(\"../data/middle/sp.csv\", stringsAsFactors=FALSE)"
   ]
  },
  {
   "cell_type": "code",
   "execution_count": 16,
   "metadata": {
    "collapsed": true
   },
   "outputs": [],
   "source": [
    "df2$flag[df2$flag == \"RedA\"] <- \"ELSE\"\n",
    "df2$flag[df2$flag == \"BlueA\"] <- \"ELSE\"\n",
    "df2$flag[df2$flag == \"BlueB\"] <- \"ELSE\"\n",
    "df2$flag <- as.factor(df2$flag)"
   ]
  },
  {
   "cell_type": "code",
   "execution_count": 17,
   "metadata": {
    "collapsed": false
   },
   "outputs": [],
   "source": [
    "folds2 <- createFolds(df2$flag)"
   ]
  },
  {
   "cell_type": "code",
   "execution_count": 18,
   "metadata": {
    "collapsed": false
   },
   "outputs": [
    {
     "data": {
      "text/html": [
       "'RedB/all = 0.186802'"
      ],
      "text/latex": [
       "'RedB/all = 0.186802'"
      ],
      "text/markdown": [
       "'RedB/all = 0.186802'"
      ],
      "text/plain": [
       "[1] \"RedB/all = 0.186802\""
      ]
     },
     "metadata": {},
     "output_type": "display_data"
    }
   ],
   "source": [
    "nred <- nrow(df2[df2$flag == \"RedB\", ])\n",
    "sprintf(\"RedB/all = %f\", as.numeric(nred)/nrow(df))"
   ]
  },
  {
   "cell_type": "code",
   "execution_count": 19,
   "metadata": {
    "collapsed": false
   },
   "outputs": [
    {
     "data": {
      "text/html": [
       "'CV value: 0.205025'"
      ],
      "text/latex": [
       "'CV value: 0.205025'"
      ],
      "text/markdown": [
       "'CV value: 0.205025'"
      ],
      "text/plain": [
       "[1] \"CV value: 0.205025\""
      ]
     },
     "metadata": {},
     "output_type": "display_data"
    }
   ],
   "source": [
    "errs <- c()\n",
    "for (ids in folds2) {\n",
    "    train <- df2[-ids, ]\n",
    "    test <- df2[ids, ]\n",
    "    fit <- rpart(expr, data=train, method=\"class\")\n",
    "    p <- predict(fit, newdata=test)\n",
    "    res <- colnames(p)[max.col(p, ties.method = \"first\")] == test$flag\n",
    "    errs <- c(errs, table(res)[\"FALSE\"] / nrow(test))\n",
    "}\n",
    "sprintf(\"CV value: %f\", mean(errs))"
   ]
  },
  {
   "cell_type": "code",
   "execution_count": 20,
   "metadata": {
    "collapsed": true
   },
   "outputs": [],
   "source": [
    "fit2 <- rpart(expr, data=df2, method=\"class\")"
   ]
  },
  {
   "cell_type": "code",
   "execution_count": 21,
   "metadata": {
    "collapsed": false
   },
   "outputs": [
    {
     "name": "stdout",
     "output_type": "stream",
     "text": [
      "\n",
      "Classification tree:\n",
      "rpart(formula = expr, data = df2, method = \"class\")\n",
      "\n",
      "Variables actually used in tree construction:\n",
      "[1] AccelerationSpeed DistSignal        Engine            Pitch            \n",
      "[5] Speed             TimeHeadway       TimeToCollision  \n",
      "\n",
      "Root node error: 184/985 = 0.1868\n",
      "\n",
      "n= 985 \n",
      "\n",
      "        CP nsplit rel error  xerror     xstd\n",
      "1 0.070652      0   1.00000 1.00000 0.066480\n",
      "2 0.027174      1   0.92935 0.95652 0.065342\n",
      "3 0.019022      2   0.90217 0.94565 0.065050\n",
      "4 0.017663      4   0.86413 0.94565 0.065050\n",
      "5 0.010000      9   0.76630 1.03261 0.067301\n"
     ]
    }
   ],
   "source": [
    "printcp(fit2)"
   ]
  },
  {
   "cell_type": "code",
   "execution_count": 22,
   "metadata": {
    "collapsed": false,
    "scrolled": true
   },
   "outputs": [
    {
     "name": "stdout",
     "output_type": "stream",
     "text": [
      "Call:\n",
      "rpart(formula = expr, data = df2, method = \"class\")\n",
      "  n= 985 \n",
      "\n",
      "          CP nsplit rel error    xerror       xstd\n",
      "1 0.07065217      0 1.0000000 1.0000000 0.06647973\n",
      "2 0.02717391      1 0.9293478 0.9565217 0.06534234\n",
      "3 0.01902174      2 0.9021739 0.9456522 0.06505027\n",
      "4 0.01766304      4 0.8641304 0.9456522 0.06505027\n",
      "5 0.01000000      9 0.7663043 1.0326087 0.06730145\n",
      "\n",
      "Variable importance\n",
      "       DistSignal             Speed          RoadType   TimeToCollision \n",
      "               15                14                11                10 \n",
      "AccelerationSpeed            Engine             Curve     AheadDistance \n",
      "                9                 8                 8                 7 \n",
      "      TimeHeadway             Pitch     SteeringAngle              Jerk \n",
      "                5                 4                 3                 2 \n",
      "       RiskFactor          PathType \n",
      "                2                 2 \n",
      "\n",
      "Node number 1: 985 observations,    complexity param=0.07065217\n",
      "  predicted class=ELSE  expected loss=0.186802  P(node) =1\n",
      "    class counts:   801   184\n",
      "   probabilities: 0.813 0.187 \n",
      "  left son=2 (948 obs) right son=3 (37 obs)\n",
      "  Primary splits:\n",
      "      DistSignal        < 754.6548     to the left,  improve=18.37608, (0 missing)\n",
      "      RoadType          < 6.5          to the left,  improve=17.03680, (0 missing)\n",
      "      Curve             < 253          to the left,  improve=14.91987, (0 missing)\n",
      "      AccelerationSpeed < 0.3027778    to the left,  improve=14.78251, (0 missing)\n",
      "      Speed             < 34.155       to the right, improve=14.61864, (0 missing)\n",
      "  Surrogate splits:\n",
      "      RoadType          < 6.5          to the left,  agree=0.988, adj=0.676, (0 split)\n",
      "      Curve             < 253          to the left,  agree=0.983, adj=0.541, (0 split)\n",
      "      SteeringAngle     < 88.1         to the left,  agree=0.969, adj=0.162, (0 split)\n",
      "      Speed             < 3.61         to the right, agree=0.965, adj=0.081, (0 split)\n",
      "      AccelerationSpeed < 0.8777778    to the left,  agree=0.963, adj=0.027, (0 split)\n",
      "\n",
      "Node number 2: 948 observations,    complexity param=0.01902174\n",
      "  predicted class=ELSE  expected loss=0.1677215  P(node) =0.9624365\n",
      "    class counts:   789   159\n",
      "   probabilities: 0.832 0.168 \n",
      "  left son=4 (434 obs) right son=5 (514 obs)\n",
      "  Primary splits:\n",
      "      Speed             < 38.45        to the right, improve=9.704902, (0 missing)\n",
      "      AccelerationSpeed < 0.5805556    to the left,  improve=8.741480, (0 missing)\n",
      "      TimeToCollision   < -18.2103     to the left,  improve=6.750859, (0 missing)\n",
      "      DistSignal        < 89.34554     to the right, improve=6.010464, (0 missing)\n",
      "      RedLamp           < 0.5          to the left,  improve=5.974402, (0 missing)\n",
      "  Surrogate splits:\n",
      "      AheadDistance     < 23.9         to the right, agree=0.716, adj=0.380, (0 split)\n",
      "      PathType          < 53.5         to the right, agree=0.659, adj=0.256, (0 split)\n",
      "      AccelerationSpeed < -1.334e-14   to the left,  agree=0.653, adj=0.242, (0 split)\n",
      "      RoadType          < 3.5          to the left,  agree=0.647, adj=0.228, (0 split)\n",
      "      Engine            < 1376.562     to the right, agree=0.641, adj=0.217, (0 split)\n",
      "\n",
      "Node number 3: 37 observations,    complexity param=0.02717391\n",
      "  predicted class=RedB  expected loss=0.3243243  P(node) =0.03756345\n",
      "    class counts:    12    25\n",
      "   probabilities: 0.324 0.676 \n",
      "  left son=6 (9 obs) right son=7 (28 obs)\n",
      "  Primary splits:\n",
      "      Pitch      < 0.0007462685 to the right, improve=4.890819, (0 missing)\n",
      "      DistSignal < 819.0666     to the right, improve=4.433863, (0 missing)\n",
      "      Speed      < 23.88        to the right, improve=3.698975, (0 missing)\n",
      "      PathType   < 3            to the left,  improve=2.625740, (0 missing)\n",
      "      Engine     < 1370.312     to the left,  improve=2.163585, (0 missing)\n",
      "  Surrogate splits:\n",
      "      Speed      < 3.46         to the left,  agree=0.811, adj=0.222, (0 split)\n",
      "      Engine     < 970.3125     to the left,  agree=0.811, adj=0.222, (0 split)\n",
      "      DistSignal < 1049.488     to the right, agree=0.811, adj=0.222, (0 split)\n",
      "      Jerk       < 1.083333     to the right, agree=0.784, adj=0.111, (0 split)\n",
      "\n",
      "Node number 4: 434 observations\n",
      "  predicted class=ELSE  expected loss=0.08986175  P(node) =0.4406091\n",
      "    class counts:   395    39\n",
      "   probabilities: 0.910 0.090 \n",
      "\n",
      "Node number 5: 514 observations,    complexity param=0.01902174\n",
      "  predicted class=ELSE  expected loss=0.233463  P(node) =0.5218274\n",
      "    class counts:   394   120\n",
      "   probabilities: 0.767 0.233 \n",
      "  left son=10 (501 obs) right son=11 (13 obs)\n",
      "  Primary splits:\n",
      "      AccelerationSpeed < 0.7277778    to the left,  improve=7.656880, (0 missing)\n",
      "      TimeToCollision   < -18.21102    to the left,  improve=6.998620, (0 missing)\n",
      "      Engine            < 1485.938     to the left,  improve=5.496961, (0 missing)\n",
      "      RiskFactor        < 0.8354627    to the left,  improve=5.173038, (0 missing)\n",
      "      SteeringAngle     < 17.35        to the left,  improve=5.001616, (0 missing)\n",
      "  Surrogate splits:\n",
      "      Engine        < 1828.125     to the left,  agree=0.981, adj=0.231, (0 split)\n",
      "      SteeringAngle < 82.6         to the left,  agree=0.977, adj=0.077, (0 split)\n",
      "\n",
      "Node number 6: 9 observations\n",
      "  predicted class=ELSE  expected loss=0.2222222  P(node) =0.009137056\n",
      "    class counts:     7     2\n",
      "   probabilities: 0.778 0.222 \n",
      "\n",
      "Node number 7: 28 observations\n",
      "  predicted class=RedB  expected loss=0.1785714  P(node) =0.0284264\n",
      "    class counts:     5    23\n",
      "   probabilities: 0.179 0.821 \n",
      "\n",
      "Node number 10: 501 observations,    complexity param=0.01766304\n",
      "  predicted class=ELSE  expected loss=0.2195609  P(node) =0.5086294\n",
      "    class counts:   391   110\n",
      "   probabilities: 0.780 0.220 \n",
      "  left son=20 (180 obs) right son=21 (321 obs)\n",
      "  Primary splits:\n",
      "      TimeToCollision < -18.21102    to the left,  improve=5.948632, (0 missing)\n",
      "      RiskFactor      < 0.8354627    to the left,  improve=3.897031, (0 missing)\n",
      "      Jerk            < 1.972222     to the left,  improve=3.887586, (0 missing)\n",
      "      Engine          < 1364.062     to the left,  improve=3.855523, (0 missing)\n",
      "      Speed           < 38.055       to the left,  improve=2.953633, (0 missing)\n",
      "  Surrogate splits:\n",
      "      Jerk          < -2.138889    to the left,  agree=0.649, adj=0.022, (0 split)\n",
      "      SteeringAngle < -51.3        to the left,  agree=0.647, adj=0.017, (0 split)\n",
      "      Limit30Sign   < 0.5          to the right, agree=0.645, adj=0.011, (0 split)\n",
      "      AheadDistance < 25.15        to the right, agree=0.643, adj=0.006, (0 split)\n",
      "      Curve         < 58           to the left,  agree=0.643, adj=0.006, (0 split)\n",
      "\n",
      "Node number 11: 13 observations\n",
      "  predicted class=RedB  expected loss=0.2307692  P(node) =0.01319797\n",
      "    class counts:     3    10\n",
      "   probabilities: 0.231 0.769 \n",
      "\n",
      "Node number 20: 180 observations\n",
      "  predicted class=ELSE  expected loss=0.1166667  P(node) =0.1827411\n",
      "    class counts:   159    21\n",
      "   probabilities: 0.883 0.117 \n",
      "\n",
      "Node number 21: 321 observations,    complexity param=0.01766304\n",
      "  predicted class=ELSE  expected loss=0.2772586  P(node) =0.3258883\n",
      "    class counts:   232    89\n",
      "   probabilities: 0.723 0.277 \n",
      "  left son=42 (264 obs) right son=43 (57 obs)\n",
      "  Primary splits:\n",
      "      Engine     < 1485.938     to the left,  improve=4.435455, (0 missing)\n",
      "      Jerk       < 2.027778     to the left,  improve=3.098025, (0 missing)\n",
      "      RiskFactor < 0.8354627    to the left,  improve=2.807297, (0 missing)\n",
      "      Speed      < 38.045       to the left,  improve=2.733507, (0 missing)\n",
      "      DistSignal < 72.01412     to the right, improve=2.649453, (0 missing)\n",
      "  Surrogate splits:\n",
      "      Jerk  < 2.777778     to the left,  agree=0.835, adj=0.070, (0 split)\n",
      "      Speed < 38.355       to the left,  agree=0.829, adj=0.035, (0 split)\n",
      "\n",
      "Node number 42: 264 observations\n",
      "  predicted class=ELSE  expected loss=0.2386364  P(node) =0.2680203\n",
      "    class counts:   201    63\n",
      "   probabilities: 0.761 0.239 \n",
      "\n",
      "Node number 43: 57 observations,    complexity param=0.01766304\n",
      "  predicted class=ELSE  expected loss=0.4561404  P(node) =0.05786802\n",
      "    class counts:    31    26\n",
      "   probabilities: 0.544 0.456 \n",
      "  left son=86 (10 obs) right son=87 (47 obs)\n",
      "  Primary splits:\n",
      "      TimeToCollision < 39.98708     to the right, improve=5.046659, (0 missing)\n",
      "      Speed           < 30.44        to the right, improve=3.010702, (0 missing)\n",
      "      Curve           < 247.5        to the right, improve=2.963566, (0 missing)\n",
      "      Jerk            < 1.083333     to the left,  improve=2.625146, (0 missing)\n",
      "      PathType        < 5            to the right, improve=2.122807, (0 missing)\n",
      "  Surrogate splits:\n",
      "      AheadDistance < 26.3         to the right, agree=0.860, adj=0.2, (0 split)\n",
      "      TimeHeadway   < 2.874338     to the right, agree=0.860, adj=0.2, (0 split)\n",
      "      Jerk          < -0.9722222   to the left,  agree=0.842, adj=0.1, (0 split)\n",
      "\n",
      "Node number 86: 10 observations\n",
      "  predicted class=ELSE  expected loss=0  P(node) =0.01015228\n",
      "    class counts:    10     0\n",
      "   probabilities: 1.000 0.000 \n",
      "\n",
      "Node number 87: 47 observations,    complexity param=0.01766304\n",
      "  predicted class=RedB  expected loss=0.4468085  P(node) =0.04771574\n",
      "    class counts:    21    26\n",
      "   probabilities: 0.447 0.553 \n",
      "  left son=174 (30 obs) right son=175 (17 obs)\n",
      "  Primary splits:\n",
      "      TimeHeadway   < 1.725239     to the left,  improve=5.771297, (0 missing)\n",
      "      Speed         < 30.5         to the right, improve=5.324268, (0 missing)\n",
      "      Engine        < 1603.125     to the right, improve=4.578870, (0 missing)\n",
      "      AheadDistance < 14.4         to the left,  improve=4.257852, (0 missing)\n",
      "      Jerk          < 0.6111111    to the left,  improve=3.262268, (0 missing)\n",
      "  Surrogate splits:\n",
      "      AheadDistance   < 13.75        to the left,  agree=0.894, adj=0.706, (0 split)\n",
      "      RiskFactor      < 0.02072627   to the left,  agree=0.809, adj=0.471, (0 split)\n",
      "      TimeToCollision < -2.727636    to the right, agree=0.787, adj=0.412, (0 split)\n",
      "      Jerk            < 0.6111111    to the left,  agree=0.723, adj=0.235, (0 split)\n",
      "      Speed           < 30.5         to the right, agree=0.702, adj=0.176, (0 split)\n",
      "\n",
      "Node number 174: 30 observations,    complexity param=0.01766304\n",
      "  predicted class=ELSE  expected loss=0.3666667  P(node) =0.03045685\n",
      "    class counts:    19    11\n",
      "   probabilities: 0.633 0.367 \n",
      "  left son=348 (23 obs) right son=349 (7 obs)\n",
      "  Primary splits:\n",
      "      Speed             < 28.605       to the right, improve=4.392961, (0 missing)\n",
      "      Pitch             < -0.0181592   to the left,  improve=3.211111, (0 missing)\n",
      "      Curve             < 247.5        to the right, improve=2.629762, (0 missing)\n",
      "      AccelerationSpeed < 0.4916667    to the left,  improve=2.206625, (0 missing)\n",
      "      DistManBicycle    < 10.76856     to the right, improve=2.133333, (0 missing)\n",
      "  Surrogate splits:\n",
      "      AccelerationSpeed < 0.5388889    to the left,  agree=0.867, adj=0.429, (0 split)\n",
      "      Engine            < 1520.312     to the right, agree=0.800, adj=0.143, (0 split)\n",
      "      SteeringAngle     < 16.25        to the left,  agree=0.800, adj=0.143, (0 split)\n",
      "\n",
      "Node number 175: 17 observations\n",
      "  predicted class=RedB  expected loss=0.1176471  P(node) =0.01725888\n",
      "    class counts:     2    15\n",
      "   probabilities: 0.118 0.882 \n",
      "\n",
      "Node number 348: 23 observations\n",
      "  predicted class=ELSE  expected loss=0.2173913  P(node) =0.02335025\n",
      "    class counts:    18     5\n",
      "   probabilities: 0.783 0.217 \n",
      "\n",
      "Node number 349: 7 observations\n",
      "  predicted class=RedB  expected loss=0.1428571  P(node) =0.007106599\n",
      "    class counts:     1     6\n",
      "   probabilities: 0.143 0.857 \n",
      "\n"
     ]
    }
   ],
   "source": [
    "summary(fit2)"
   ]
  },
  {
   "cell_type": "code",
   "execution_count": 23,
   "metadata": {
    "collapsed": false,
    "scrolled": true
   },
   "outputs": [
    {
     "data": {
      "image/png": "[encoded data removed]",
      "text/plain": [
       "Plot with title “Classification Tree for RedB”"
      ]
     },
     "metadata": {},
     "output_type": "display_data"
    }
   ],
   "source": [
    "plot(fit, uniform=TRUE, main=\"Classification Tree for RedB\")\n",
    "text(fit, use.n=TRUE, all=TRUE, cex=.6)"
   ]
  },
  {
   "cell_type": "markdown",
   "metadata": {
    "collapsed": true
   },
   "source": [
    "# Predict Red"
   ]
  },
  {
   "cell_type": "code",
   "execution_count": 24,
   "metadata": {
    "collapsed": true
   },
   "outputs": [],
   "source": [
    "df3 <- read.csv(\"../data/middle/sp.csv\", stringsAsFactors=FALSE)"
   ]
  },
  {
   "cell_type": "code",
   "execution_count": 25,
   "metadata": {
    "collapsed": true
   },
   "outputs": [],
   "source": [
    "df3$flag[df3$flag == \"RedA\"] <- \"Red\"\n",
    "df3$flag[df3$flag == \"RedB\"] <- \"Red\"\n",
    "df3$flag[df3$flag == \"BlueA\"] <- \"Blue\"\n",
    "df3$flag[df3$flag == \"BlueB\"] <- \"Blue\"\n",
    "df3$flag <- as.factor(df3$flag)"
   ]
  },
  {
   "cell_type": "code",
   "execution_count": 26,
   "metadata": {
    "collapsed": false
   },
   "outputs": [
    {
     "data": {
      "text/html": [
       "'Red/all = 0.574619'"
      ],
      "text/latex": [
       "'Red/all = 0.574619'"
      ],
      "text/markdown": [
       "'Red/all = 0.574619'"
      ],
      "text/plain": [
       "[1] \"Red/all = 0.574619\""
      ]
     },
     "metadata": {},
     "output_type": "display_data"
    }
   ],
   "source": [
    "nred <- nrow(df3[df3$flag == \"Red\", ])\n",
    "sprintf(\"Red/all = %f\", as.numeric(nred)/nrow(df))"
   ]
  },
  {
   "cell_type": "code",
   "execution_count": 27,
   "metadata": {
    "collapsed": true
   },
   "outputs": [],
   "source": [
    "folds3 <- createFolds(df3$flag)"
   ]
  },
  {
   "cell_type": "code",
   "execution_count": 28,
   "metadata": {
    "collapsed": false
   },
   "outputs": [
    {
     "data": {
      "text/html": [
       "'CV value: 0.394135'"
      ],
      "text/latex": [
       "'CV value: 0.394135'"
      ],
      "text/markdown": [
       "'CV value: 0.394135'"
      ],
      "text/plain": [
       "[1] \"CV value: 0.394135\""
      ]
     },
     "metadata": {},
     "output_type": "display_data"
    }
   ],
   "source": [
    "errs <- c()\n",
    "for (ids in folds3) {\n",
    "    train <- df3[-ids, ]\n",
    "    test <- df3[ids, ]\n",
    "    fit <- rpart(expr, data=train, method=\"class\")\n",
    "    p <- predict(fit, newdata=test)\n",
    "    res <- colnames(p)[max.col(p, ties.method = \"first\")] == test$flag\n",
    "    errs <- c(errs, table(res)[\"FALSE\"] / nrow(test))\n",
    "}\n",
    "sprintf(\"CV value: %f\", mean(errs))"
   ]
  },
  {
   "cell_type": "code",
   "execution_count": 29,
   "metadata": {
    "collapsed": true
   },
   "outputs": [],
   "source": [
    "fit3 <- rpart(expr, data=df3, method=\"class\")"
   ]
  },
  {
   "cell_type": "code",
   "execution_count": 31,
   "metadata": {
    "collapsed": false
   },
   "outputs": [
    {
     "name": "stdout",
     "output_type": "stream",
     "text": [
      "Call:\n",
      "rpart(formula = expr, data = df3, method = \"class\")\n",
      "  n= 985 \n",
      "\n",
      "          CP nsplit rel error    xerror       xstd\n",
      "1 0.03436754      0 1.0000000 1.0000000 0.03703250\n",
      "2 0.02386635      5 0.8281623 0.9284010 0.03661557\n",
      "3 0.01670644      7 0.7804296 0.9260143 0.03659914\n",
      "4 0.01431981      9 0.7470167 0.8949881 0.03637043\n",
      "5 0.01312649     10 0.7326969 0.9093079 0.03647950\n",
      "6 0.01193317     12 0.7064439 0.8973747 0.03638903\n",
      "7 0.01000000     13 0.6945107 0.8997613 0.03640746\n",
      "\n",
      "Variable importance\n",
      "       RiskFactor        DistSignal   TimeToCollision       TimeHeadway \n",
      "               14                13                13                12 \n",
      "    AheadDistance             Speed AccelerationSpeed          RoadType \n",
      "                9                 8                 7                 7 \n",
      "            Curve    DistManBicycle     SteeringAngle            Engine \n",
      "                7                 3                 2                 2 \n",
      "        LaneCount        ManBicycle   ManBicycleCount \n",
      "                1                 1                 1 \n",
      "\n",
      "Node number 1: 985 observations,    complexity param=0.03436754\n",
      "  predicted class=Red   expected loss=0.4253807  P(node) =1\n",
      "    class counts:   419   566\n",
      "   probabilities: 0.425 0.575 \n",
      "  left son=2 (626 obs) right son=3 (359 obs)\n",
      "  Primary splits:\n",
      "      RiskFactor        < 0.3958754   to the left,  improve=12.466630, (0 missing)\n",
      "      TimeHeadway       < 2.54646     to the right, improve=10.645350, (0 missing)\n",
      "      Speed             < 32.42       to the right, improve= 9.024134, (0 missing)\n",
      "      AccelerationSpeed < 0.5194444   to the left,  improve= 8.013003, (0 missing)\n",
      "      Curve             < 253         to the left,  improve= 8.005697, (0 missing)\n",
      "  Surrogate splits:\n",
      "      TimeToCollision < 0.4492195   to the left,  agree=0.790, adj=0.423, (0 split)\n",
      "      BrakeCar        < 0.5         to the left,  agree=0.653, adj=0.047, (0 split)\n",
      "      RoadType        < 1           to the right, agree=0.647, adj=0.031, (0 split)\n",
      "      Curve           < 95          to the right, agree=0.645, adj=0.025, (0 split)\n",
      "      SteeringAngle   < -8.05       to the right, agree=0.643, adj=0.019, (0 split)\n",
      "\n",
      "Node number 2: 626 observations,    complexity param=0.03436754\n",
      "  predicted class=Red   expected loss=0.485623  P(node) =0.635533\n",
      "    class counts:   304   322\n",
      "   probabilities: 0.486 0.514 \n",
      "  left son=4 (595 obs) right son=5 (31 obs)\n",
      "  Primary splits:\n",
      "      Curve             < 253         to the left,  improve=9.863036, (0 missing)\n",
      "      RoadType          < 6.5         to the left,  improve=9.558378, (0 missing)\n",
      "      AccelerationSpeed < 0.5888889   to the left,  improve=9.558378, (0 missing)\n",
      "      DistSignal        < 768.1815    to the left,  improve=8.242208, (0 missing)\n",
      "      Speed             < 30.69       to the right, improve=7.928024, (0 missing)\n",
      "  Surrogate splits:\n",
      "      RoadType          < 6.5         to the left,  agree=0.994, adj=0.871, (0 split)\n",
      "      DistSignal        < 754.6548    to the left,  agree=0.976, adj=0.516, (0 split)\n",
      "      SteeringAngle     < -147.2      to the right, agree=0.958, adj=0.161, (0 split)\n",
      "      Speed             < 3.61        to the right, agree=0.955, adj=0.097, (0 split)\n",
      "      AccelerationSpeed < 0.8361111   to the left,  agree=0.955, adj=0.097, (0 split)\n",
      "\n",
      "Node number 3: 359 observations,    complexity param=0.01670644\n",
      "  predicted class=Red   expected loss=0.3203343  P(node) =0.364467\n",
      "    class counts:   115   244\n",
      "   probabilities: 0.320 0.680 \n",
      "  left son=6 (108 obs) right son=7 (251 obs)\n",
      "  Primary splits:\n",
      "      TimeHeadway   < 2.221       to the right, improve=6.284755, (0 missing)\n",
      "      DistSignal    < 59.24842    to the right, improve=5.339935, (0 missing)\n",
      "      Pitch         < -0.0579602  to the left,  improve=5.023463, (0 missing)\n",
      "      AheadDistance < 15.75       to the right, improve=4.687322, (0 missing)\n",
      "      RiskFactor    < 0.6769943   to the left,  improve=3.644530, (0 missing)\n",
      "  Surrogate splits:\n",
      "      Speed             < 16.84       to the left,  agree=0.797, adj=0.324, (0 split)\n",
      "      RoadType          < 5.5         to the right, agree=0.744, adj=0.148, (0 split)\n",
      "      Engine            < 1090.625    to the left,  agree=0.724, adj=0.083, (0 split)\n",
      "      AheadDistance     < 46.35       to the right, agree=0.724, adj=0.083, (0 split)\n",
      "      AccelerationSpeed < 0.5722222   to the right, agree=0.724, adj=0.083, (0 split)\n",
      "\n",
      "Node number 4: 595 observations,    complexity param=0.03436754\n",
      "  predicted class=Blue  expected loss=0.4941176  P(node) =0.6040609\n",
      "    class counts:   301   294\n",
      "   probabilities: 0.506 0.494 \n",
      "  left son=8 (576 obs) right son=9 (19 obs)\n",
      "  Primary splits:\n",
      "      AccelerationSpeed < 0.575       to the left,  improve=8.064087, (0 missing)\n",
      "      TimeToCollision   < -48.8279    to the left,  improve=6.308765, (0 missing)\n",
      "      DistSignal        < 22.00974    to the right, improve=5.137586, (0 missing)\n",
      "      RoadType          < 3.5         to the right, improve=4.827430, (0 missing)\n",
      "      Curve             < 245         to the right, improve=4.297950, (0 missing)\n",
      "\n",
      "Node number 5: 31 observations\n",
      "  predicted class=Red   expected loss=0.09677419  P(node) =0.03147208\n",
      "    class counts:     3    28\n",
      "   probabilities: 0.097 0.903 \n",
      "\n",
      "Node number 6: 108 observations,    complexity param=0.01670644\n",
      "  predicted class=Red   expected loss=0.462963  P(node) =0.1096447\n",
      "    class counts:    50    58\n",
      "   probabilities: 0.463 0.537 \n",
      "  left son=12 (66 obs) right son=13 (42 obs)\n",
      "  Primary splits:\n",
      "      AheadDistance < 15.1        to the right, improve=6.950457, (0 missing)\n",
      "      Speed         < 35.8        to the right, improve=5.856327, (0 missing)\n",
      "      Pitch         < -0.181592   to the left,  improve=4.209826, (0 missing)\n",
      "      Engine        < 1309.375    to the right, improve=3.805773, (0 missing)\n",
      "      RiskFactor    < 0.6742619   to the left,  improve=3.428704, (0 missing)\n",
      "  Surrogate splits:\n",
      "      Speed             < 16.02       to the right, agree=0.907, adj=0.762, (0 split)\n",
      "      Engine            < 1145.312    to the right, agree=0.722, adj=0.286, (0 split)\n",
      "      AccelerationSpeed < 0.3222222   to the left,  agree=0.694, adj=0.214, (0 split)\n",
      "      SteeringAngle     < -10.45      to the right, agree=0.667, adj=0.143, (0 split)\n",
      "      TimeHeadway       < 3.106299    to the left,  agree=0.648, adj=0.095, (0 split)\n",
      "\n",
      "Node number 7: 251 observations\n",
      "  predicted class=Red   expected loss=0.2589641  P(node) =0.2548223\n",
      "    class counts:    65   186\n",
      "   probabilities: 0.259 0.741 \n",
      "\n",
      "Node number 8: 576 observations,    complexity param=0.03436754\n",
      "  predicted class=Blue  expected loss=0.4791667  P(node) =0.5847716\n",
      "    class counts:   300   276\n",
      "   probabilities: 0.521 0.479 \n",
      "  left son=16 (60 obs) right son=17 (516 obs)\n",
      "  Primary splits:\n",
      "      TimeToCollision < -48.8279    to the left,  improve=6.048837, (0 missing)\n",
      "      DistSignal      < 22.00974    to the right, improve=5.583721, (0 missing)\n",
      "      RoadType        < 3.5         to the right, improve=5.346396, (0 missing)\n",
      "      TimeHeadway     < 2.908603    to the right, improve=4.293709, (0 missing)\n",
      "      DistManBicycle  < 14.07506    to the right, improve=3.802411, (0 missing)\n",
      "\n",
      "Node number 9: 19 observations\n",
      "  predicted class=Red   expected loss=0.05263158  P(node) =0.01928934\n",
      "    class counts:     1    18\n",
      "   probabilities: 0.053 0.947 \n",
      "\n",
      "Node number 12: 66 observations\n",
      "  predicted class=Blue  expected loss=0.3939394  P(node) =0.06700508\n",
      "    class counts:    40    26\n",
      "   probabilities: 0.606 0.394 \n",
      "\n",
      "Node number 13: 42 observations\n",
      "  predicted class=Red   expected loss=0.2380952  P(node) =0.04263959\n",
      "    class counts:    10    32\n",
      "   probabilities: 0.238 0.762 \n",
      "\n",
      "Node number 16: 60 observations\n",
      "  predicted class=Blue  expected loss=0.2666667  P(node) =0.06091371\n",
      "    class counts:    44    16\n",
      "   probabilities: 0.733 0.267 \n",
      "\n",
      "Node number 17: 516 observations,    complexity param=0.03436754\n",
      "  predicted class=Red   expected loss=0.496124  P(node) =0.5238579\n",
      "    class counts:   256   260\n",
      "   probabilities: 0.496 0.504 \n",
      "  left son=34 (272 obs) right son=35 (244 obs)\n",
      "  Primary splits:\n",
      "      TimeToCollision < -8.271477   to the right, improve=8.264631, (0 missing)\n",
      "      DistSignal      < 79.28191    to the right, improve=6.524858, (0 missing)\n",
      "      RoadType        < 3.5         to the right, improve=4.890619, (0 missing)\n",
      "      RiskFactor      < 0.03565546  to the left,  improve=4.750237, (0 missing)\n",
      "      Speed           < 31.51       to the right, improve=4.622125, (0 missing)\n",
      "  Surrogate splits:\n",
      "      AheadDistance < 5.7         to the left,  agree=0.891, adj=0.770, (0 split)\n",
      "      RiskFactor    < 0.001922093 to the left,  agree=0.891, adj=0.770, (0 split)\n",
      "      TimeHeadway   < 1.384331    to the left,  agree=0.890, adj=0.766, (0 split)\n",
      "      Speed         < 31.595      to the right, agree=0.655, adj=0.270, (0 split)\n",
      "      LaneCount     < 2.5         to the left,  agree=0.630, adj=0.217, (0 split)\n",
      "\n",
      "Node number 34: 272 observations,    complexity param=0.02386635\n",
      "  predicted class=Blue  expected loss=0.4191176  P(node) =0.2761421\n",
      "    class counts:   158   114\n",
      "   probabilities: 0.581 0.419 \n",
      "  left son=68 (256 obs) right son=69 (16 obs)\n",
      "  Primary splits:\n",
      "      DistSignal     < 16.05905    to the right, improve=5.261489, (0 missing)\n",
      "      DistManBicycle < 13.622      to the right, improve=4.630510, (0 missing)\n",
      "      Curve          < 213         to the right, improve=3.888618, (0 missing)\n",
      "      SteeringAngle  < 38          to the left,  improve=2.757079, (0 missing)\n",
      "      RiskFactor     < 0.3005946   to the right, improve=2.324170, (0 missing)\n",
      "\n",
      "Node number 35: 244 observations,    complexity param=0.02386635\n",
      "  predicted class=Red   expected loss=0.4016393  P(node) =0.2477157\n",
      "    class counts:    98   146\n",
      "   probabilities: 0.402 0.598 \n",
      "  left son=70 (64 obs) right son=71 (180 obs)\n",
      "  Primary splits:\n",
      "      TimeHeadway     < 3.015722    to the right, improve=5.404383, (0 missing)\n",
      "      TimeToCollision < -10.62626   to the left,  improve=5.019507, (0 missing)\n",
      "      DistSignal      < 79.541      to the right, improve=3.455462, (0 missing)\n",
      "      AheadDistance   < 15.65       to the right, improve=2.312714, (0 missing)\n",
      "      DistManBicycle  < 9.424563    to the right, improve=2.212835, (0 missing)\n",
      "  Surrogate splits:\n",
      "      RiskFactor        < 0.1411901   to the left,  agree=0.816, adj=0.297, (0 split)\n",
      "      Speed             < 10.605      to the left,  agree=0.791, adj=0.203, (0 split)\n",
      "      Engine            < 1001.562    to the left,  agree=0.758, adj=0.078, (0 split)\n",
      "      AheadDistance     < 46.8        to the right, agree=0.754, adj=0.062, (0 split)\n",
      "      AccelerationSpeed < 0.3861111   to the right, agree=0.746, adj=0.031, (0 split)\n",
      "\n",
      "Node number 68: 256 observations,    complexity param=0.01312649\n",
      "  predicted class=Blue  expected loss=0.3945312  P(node) =0.2598985\n",
      "    class counts:   155   101\n",
      "   probabilities: 0.605 0.395 \n",
      "  left son=136 (63 obs) right son=137 (193 obs)\n",
      "  Primary splits:\n",
      "      DistManBicycle < 13.622      to the right, improve=4.090032, (0 missing)\n",
      "      Curve          < 213         to the right, improve=4.004976, (0 missing)\n",
      "      RiskFactor     < 0.3005946   to the right, improve=2.366895, (0 missing)\n",
      "      Engine         < 1439.062    to the left,  improve=2.331602, (0 missing)\n",
      "      Speed          < 52.22       to the left,  improve=2.180402, (0 missing)\n",
      "  Surrogate splits:\n",
      "      ManBicycleCount   < 0.5         to the right, agree=0.848, adj=0.381, (0 split)\n",
      "      ManBicycle        < 0.5         to the right, agree=0.848, adj=0.381, (0 split)\n",
      "      AccelerationSpeed < 0.5111111   to the right, agree=0.770, adj=0.063, (0 split)\n",
      "      TimeToCollision   < -7.589132   to the left,  agree=0.762, adj=0.032, (0 split)\n",
      "      Speed             < 6.785       to the left,  agree=0.758, adj=0.016, (0 split)\n",
      "\n",
      "Node number 69: 16 observations\n",
      "  predicted class=Red   expected loss=0.1875  P(node) =0.01624365\n",
      "    class counts:     3    13\n",
      "   probabilities: 0.188 0.812 \n",
      "\n",
      "Node number 70: 64 observations,    complexity param=0.01431981\n",
      "  predicted class=Blue  expected loss=0.421875  P(node) =0.06497462\n",
      "    class counts:    37    27\n",
      "   probabilities: 0.578 0.422 \n",
      "  left son=140 (56 obs) right son=141 (8 obs)\n",
      "  Primary splits:\n",
      "      DistSignal        < 21.92548    to the right, improve=3.754464, (0 missing)\n",
      "      Speed             < 44.73       to the left,  improve=3.389120, (0 missing)\n",
      "      Pitch             < 0.03656716  to the right, improve=2.343939, (0 missing)\n",
      "      AccelerationSpeed < 0.09166667  to the left,  improve=2.002083, (0 missing)\n",
      "      TimeToCollision   < -26.69183   to the left,  improve=1.491477, (0 missing)\n",
      "  Surrogate splits:\n",
      "      LeftCar         < 0.5         to the left,  agree=0.891, adj=0.125, (0 split)\n",
      "      TimeToCollision < -9.941189   to the left,  agree=0.891, adj=0.125, (0 split)\n",
      "      RiskFactor      < -0.1562428  to the right, agree=0.891, adj=0.125, (0 split)\n",
      "\n",
      "Node number 71: 180 observations\n",
      "  predicted class=Red   expected loss=0.3388889  P(node) =0.1827411\n",
      "    class counts:    61   119\n",
      "   probabilities: 0.339 0.661 \n",
      "\n",
      "Node number 136: 63 observations\n",
      "  predicted class=Blue  expected loss=0.2380952  P(node) =0.06395939\n",
      "    class counts:    48    15\n",
      "   probabilities: 0.762 0.238 \n",
      "\n",
      "Node number 137: 193 observations,    complexity param=0.01312649\n",
      "  predicted class=Blue  expected loss=0.4455959  P(node) =0.1959391\n",
      "    class counts:   107    86\n",
      "   probabilities: 0.554 0.446 \n",
      "  left son=274 (150 obs) right son=275 (43 obs)\n",
      "  Primary splits:\n",
      "      DistSignal < 55.86804    to the right, improve=3.677823, (0 missing)\n",
      "      Curve      < 213         to the right, improve=3.211072, (0 missing)\n",
      "      RiskFactor < -2.765654   to the right, improve=2.888149, (0 missing)\n",
      "      Speed      < 37.44       to the right, improve=2.373876, (0 missing)\n",
      "      Jerk       < -0.1944444  to the right, improve=1.746306, (0 missing)\n",
      "  Surrogate splits:\n",
      "      RiskFactor     < -7.891967   to the right, agree=0.798, adj=0.093, (0 split)\n",
      "      Speed          < 7.175       to the right, agree=0.793, adj=0.070, (0 split)\n",
      "      Engine         < 964.0625    to the right, agree=0.788, adj=0.047, (0 split)\n",
      "      SteeringAngle  < -85.45      to the right, agree=0.788, adj=0.047, (0 split)\n",
      "      DistManBicycle < 12.64662    to the left,  agree=0.788, adj=0.047, (0 split)\n",
      "\n",
      "Node number 140: 56 observations\n",
      "  predicted class=Blue  expected loss=0.3571429  P(node) =0.05685279\n",
      "    class counts:    36    20\n",
      "   probabilities: 0.643 0.357 \n",
      "\n",
      "Node number 141: 8 observations\n",
      "  predicted class=Red   expected loss=0.125  P(node) =0.008121827\n",
      "    class counts:     1     7\n",
      "   probabilities: 0.125 0.875 \n",
      "\n",
      "Node number 274: 150 observations,    complexity param=0.01193317\n",
      "  predicted class=Blue  expected loss=0.3933333  P(node) =0.1522843\n",
      "    class counts:    91    59\n",
      "   probabilities: 0.607 0.393 \n",
      "  left son=548 (127 obs) right son=549 (23 obs)\n",
      "  Primary splits:\n",
      "      DistSignal        < 401.2067    to the left,  improve=2.519909, (0 missing)\n",
      "      Curve             < 213         to the right, improve=1.993740, (0 missing)\n",
      "      RoadType          < 4.5         to the right, improve=1.974113, (0 missing)\n",
      "      Pitch             < 0.1949005   to the left,  improve=1.940202, (0 missing)\n",
      "      AccelerationSpeed < 0.3111111   to the right, improve=1.843810, (0 missing)\n",
      "  Surrogate splits:\n",
      "      Pitch         < -0.4375622  to the right, agree=0.873, adj=0.174, (0 split)\n",
      "      RoadType      < 1           to the right, agree=0.867, adj=0.130, (0 split)\n",
      "      SteeringAngle < 45.6        to the left,  agree=0.860, adj=0.087, (0 split)\n",
      "      Speed         < 85.745      to the left,  agree=0.853, adj=0.043, (0 split)\n",
      "      Engine        < 2087.5      to the left,  agree=0.853, adj=0.043, (0 split)\n",
      "\n",
      "Node number 275: 43 observations\n",
      "  predicted class=Red   expected loss=0.372093  P(node) =0.04365482\n",
      "    class counts:    16    27\n",
      "   probabilities: 0.372 0.628 \n",
      "\n",
      "Node number 548: 127 observations\n",
      "  predicted class=Blue  expected loss=0.3543307  P(node) =0.128934\n",
      "    class counts:    82    45\n",
      "   probabilities: 0.646 0.354 \n",
      "\n",
      "Node number 549: 23 observations\n",
      "  predicted class=Red   expected loss=0.3913043  P(node) =0.02335025\n",
      "    class counts:     9    14\n",
      "   probabilities: 0.391 0.609 \n",
      "\n"
     ]
    }
   ],
   "source": [
    "summary(fit3)"
   ]
  },
  {
   "cell_type": "code",
   "execution_count": null,
   "metadata": {
    "collapsed": true
   },
   "outputs": [],
   "source": []
  }
 ],
 "metadata": {
  "kernelspec": {
   "display_name": "R",
   "language": "R",
   "name": "ir"
  },
  "language_info": {
   "codemirror_mode": "r",
   "file_extension": ".r",
   "mimetype": "text/x-r-source",
   "name": "R",
   "pygments_lexer": "r",
   "version": "3.3.2"
  }
 },
 "nbformat": 4,
 "nbformat_minor": 1
}
