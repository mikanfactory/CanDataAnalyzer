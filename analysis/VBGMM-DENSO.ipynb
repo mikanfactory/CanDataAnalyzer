{
 "cells": [
  {
   "cell_type": "code",
   "execution_count": 1,
   "metadata": {
    "collapsed": false
   },
   "outputs": [],
   "source": [
    "%matplotlib inline"
   ]
  },
  {
   "cell_type": "code",
   "execution_count": 2,
   "metadata": {
    "collapsed": false
   },
   "outputs": [],
   "source": [
    "import numpy as np\n",
    "import pandas as pd\n",
    "import matplotlib.pyplot as plt\n",
    "import random\n",
    "import os\n",
    "import json\n",
    "import pprint\n",
    "from sklearn.mixture import BayesianGaussianMixture"
   ]
  },
  {
   "cell_type": "code",
   "execution_count": 3,
   "metadata": {
    "collapsed": false
   },
   "outputs": [],
   "source": [
    "import seaborn as sns\n",
    "sns.set(color_codes=True)"
   ]
  },
  {
   "cell_type": "markdown",
   "metadata": {},
   "source": [
    "# Preprocess"
   ]
  },
  {
   "cell_type": "markdown",
   "metadata": {},
   "source": [
    "### まず実験結果の読み込み"
   ]
  },
  {
   "cell_type": "code",
   "execution_count": 4,
   "metadata": {
    "collapsed": true
   },
   "outputs": [],
   "source": [
    "targetDir = \"../data/output/Result1/Result/\"\n",
    "speedDir = \"../data/output/Result1/Speed/\"\n",
    "brakeDir = \"../data/output/Result1/Brake/\"\n",
    "accelDIr = \"../data/output/Result1/Accel/\"\n",
    "steeringPositiveDir = \"../data/output/Result1/SteeringPositive/\"\n",
    "steeringNegativeDir = \"../data/output/Result1/SteeringNegative/\"\n",
    "manyCarDir = \"../data/output/Result1/ManyCars/\"\n",
    "middleCarDir = \"../data/output/Result1/MiddleCars/\"\n",
    "lessCarDir = \"../data/output/Result1/LessCars/\"\n",
    "afternoonSunMax = \"../data/output/Result1/AfternoonSunMax/\"\n",
    "afternoonSunMiddle = \"../data/output/Result1/AfternoonSunMiddle/\"\n",
    "afternoonSunMin = \"../data/output/Result1/AfternoonSunMin/\"\n",
    "cloudMax = \"../data/output/Result1/CloudMax/\"\n",
    "cloudMiddle = \"../data/output/Result1/CloudMiddle/\"\n",
    "cloudMin = \"../data/output/Result1/CloudMin/\"\n",
    "sunshineMax = \"../data/output/Result1/SunshineMax/\"\n",
    "sunshineMiddle = \"../data/output/Result1/SunshineMiddle/\"\n",
    "sunshineMin = \"../data/output/Result1/SunshineMin/\""
   ]
  },
  {
   "cell_type": "markdown",
   "metadata": {},
   "source": [
    "### 読み込んだデータを元に data-frame を作成"
   ]
  },
  {
   "cell_type": "code",
   "execution_count": 5,
   "metadata": {
    "collapsed": false
   },
   "outputs": [],
   "source": [
    "df1 = pd.read_csv(speedDir + \"result.csv\")\n",
    "df1.columns = [[\"id\", \"red\", \"yellow\", \"green\", \"slow\"]]\n",
    "df2 = pd.read_csv(brakeDir + \"result.csv\")\n",
    "df2.columns = [[\"id\", \"brake\"]]\n",
    "df3 = pd.read_csv(accelDIr + \"result.csv\")\n",
    "df3.columns = [[\"id\", \"accel\"]]\n",
    "df4 = pd.read_csv(steeringPositiveDir + \"result.csv\")\n",
    "df4.columns = [[\"id\", \"steeringPositive\"]]\n",
    "df5 = pd.read_csv(steeringNegativeDir + \"result.csv\")\n",
    "df5.columns = [[\"id\", \"steeringNegative\"]]\n",
    "df6 = pd.read_csv(afternoonSunMax + \"result.csv\")\n",
    "df6.columns = [[\"id\", \"sunMax\"]]\n",
    "df7 = pd.read_csv(afternoonSunMiddle + \"result.csv\")\n",
    "df7.columns = [[\"id\", \"sunMiddle\"]]\n",
    "df8 = pd.read_csv(afternoonSunMin + \"result.csv\")\n",
    "df8.columns = [[\"id\", \"sunMin\"]]\n",
    "df9 = pd.read_csv(cloudMax + \"result.csv\")\n",
    "df9.columns = [[\"id\", \"cloudMax\"]]\n",
    "df10 = pd.read_csv(cloudMiddle + \"result.csv\")\n",
    "df10.columns = [[\"id\", \"cloudMiddle\"]]\n",
    "df11 = pd.read_csv(cloudMin + \"result.csv\")\n",
    "df11.columns = [[\"id\", \"cloudMin\"]]\n",
    "df12 = pd.read_csv(sunshineMax + \"result.csv\")\n",
    "df12.columns = [[\"id\", \"shineMax\"]]\n",
    "df13 = pd.read_csv(sunshineMiddle + \"result.csv\")\n",
    "df13.columns = [[\"id\", \"shineMiddle\"]]\n",
    "df14 = pd.read_csv(sunshineMin + \"result.csv\")\n",
    "df14.columns = [[\"id\", \"shineMin\"]]"
   ]
  },
  {
   "cell_type": "markdown",
   "metadata": {},
   "source": [
    "### Merge"
   ]
  },
  {
   "cell_type": "code",
   "execution_count": 178,
   "metadata": {
    "collapsed": true
   },
   "outputs": [],
   "source": [
    "def mergeFrames(dfs, key=\"id\"):\n",
    "    if len(dfs) == 0:\n",
    "        return pd.DataFrame()\n",
    "    \n",
    "    acc = dfs[0]\n",
    "    for df in dfs[1:]:\n",
    "        acc = pd.merge(acc, df, on=\"id\")\n",
    "        \n",
    "    return acc"
   ]
  },
  {
   "cell_type": "code",
   "execution_count": 179,
   "metadata": {
    "collapsed": false
   },
   "outputs": [],
   "source": [
    "df = mergeFrames([df1, df2, df3, df6, df7, df8, df9, df10, df11, df12, df13, df14])\n",
    "gridSize = len(df)"
   ]
  },
  {
   "cell_type": "markdown",
   "metadata": {},
   "source": [
    "### Rename"
   ]
  },
  {
   "cell_type": "code",
   "execution_count": 315,
   "metadata": {
    "collapsed": true
   },
   "outputs": [],
   "source": [
    "features =  [\n",
    "    \"red\",  \"yellow\",  \"green\", \"slow\", \n",
    "    \"brake\", \"accel\", \n",
    "]\n",
    "\n",
    "# features =  [\n",
    "#     \"red\",  \"yellow\",  \"green\", \"slow\", \n",
    "#     \"brake\", \"accel\", \n",
    "#     \"sunMax\", \"sunMiddle\", \"sunMin\",\n",
    "#     \"cloudMax\", \"cloudMiddle\", \"cloudMin\",\n",
    "#     \"shineMax\", \"shineMiddle\", \"shineMin\"\n",
    "# ]"
   ]
  },
  {
   "cell_type": "markdown",
   "metadata": {},
   "source": [
    "### 必要なデータだけ取り出す (通った経路だけ)"
   ]
  },
  {
   "cell_type": "code",
   "execution_count": 316,
   "metadata": {
    "collapsed": false
   },
   "outputs": [],
   "source": [
    "mf = df[df['red'] + df['yellow'] + df['green'] + df['slow'] > 0]\n",
    "mf = mf[features]"
   ]
  },
  {
   "cell_type": "markdown",
   "metadata": {},
   "source": [
    "### 確認"
   ]
  },
  {
   "cell_type": "code",
   "execution_count": 317,
   "metadata": {
    "collapsed": false,
    "scrolled": true
   },
   "outputs": [
    {
     "data": {
      "text/html": [
       "<div>\n",
       "<table border=\"1\" class=\"dataframe\">\n",
       "  <thead>\n",
       "    <tr style=\"text-align: right;\">\n",
       "      <th></th>\n",
       "      <th>red</th>\n",
       "      <th>yellow</th>\n",
       "      <th>green</th>\n",
       "      <th>slow</th>\n",
       "      <th>brake</th>\n",
       "      <th>accel</th>\n",
       "    </tr>\n",
       "  </thead>\n",
       "  <tbody>\n",
       "    <tr>\n",
       "      <th>count</th>\n",
       "      <td>123.000000</td>\n",
       "      <td>123.000000</td>\n",
       "      <td>123.000000</td>\n",
       "      <td>123.000000</td>\n",
       "      <td>123.000000</td>\n",
       "      <td>123.000000</td>\n",
       "    </tr>\n",
       "    <tr>\n",
       "      <th>mean</th>\n",
       "      <td>155.894309</td>\n",
       "      <td>78.211382</td>\n",
       "      <td>133.609756</td>\n",
       "      <td>11.991870</td>\n",
       "      <td>8.634146</td>\n",
       "      <td>18.048780</td>\n",
       "    </tr>\n",
       "    <tr>\n",
       "      <th>std</th>\n",
       "      <td>492.554180</td>\n",
       "      <td>116.664311</td>\n",
       "      <td>83.804675</td>\n",
       "      <td>29.764512</td>\n",
       "      <td>11.072983</td>\n",
       "      <td>14.551691</td>\n",
       "    </tr>\n",
       "    <tr>\n",
       "      <th>min</th>\n",
       "      <td>0.000000</td>\n",
       "      <td>0.000000</td>\n",
       "      <td>0.000000</td>\n",
       "      <td>0.000000</td>\n",
       "      <td>0.000000</td>\n",
       "      <td>0.000000</td>\n",
       "    </tr>\n",
       "    <tr>\n",
       "      <th>25%</th>\n",
       "      <td>0.000000</td>\n",
       "      <td>0.000000</td>\n",
       "      <td>81.000000</td>\n",
       "      <td>0.000000</td>\n",
       "      <td>0.000000</td>\n",
       "      <td>6.000000</td>\n",
       "    </tr>\n",
       "    <tr>\n",
       "      <th>50%</th>\n",
       "      <td>0.000000</td>\n",
       "      <td>12.000000</td>\n",
       "      <td>119.000000</td>\n",
       "      <td>0.000000</td>\n",
       "      <td>4.000000</td>\n",
       "      <td>15.000000</td>\n",
       "    </tr>\n",
       "    <tr>\n",
       "      <th>75%</th>\n",
       "      <td>71.500000</td>\n",
       "      <td>138.500000</td>\n",
       "      <td>189.000000</td>\n",
       "      <td>3.000000</td>\n",
       "      <td>13.500000</td>\n",
       "      <td>26.000000</td>\n",
       "    </tr>\n",
       "    <tr>\n",
       "      <th>max</th>\n",
       "      <td>3831.000000</td>\n",
       "      <td>544.000000</td>\n",
       "      <td>392.000000</td>\n",
       "      <td>129.000000</td>\n",
       "      <td>57.000000</td>\n",
       "      <td>69.000000</td>\n",
       "    </tr>\n",
       "  </tbody>\n",
       "</table>\n",
       "</div>"
      ],
      "text/plain": [
       "               red      yellow       green        slow       brake       accel\n",
       "count   123.000000  123.000000  123.000000  123.000000  123.000000  123.000000\n",
       "mean    155.894309   78.211382  133.609756   11.991870    8.634146   18.048780\n",
       "std     492.554180  116.664311   83.804675   29.764512   11.072983   14.551691\n",
       "min       0.000000    0.000000    0.000000    0.000000    0.000000    0.000000\n",
       "25%       0.000000    0.000000   81.000000    0.000000    0.000000    6.000000\n",
       "50%       0.000000   12.000000  119.000000    0.000000    4.000000   15.000000\n",
       "75%      71.500000  138.500000  189.000000    3.000000   13.500000   26.000000\n",
       "max    3831.000000  544.000000  392.000000  129.000000   57.000000   69.000000"
      ]
     },
     "execution_count": 317,
     "metadata": {},
     "output_type": "execute_result"
    }
   ],
   "source": [
    "mf.describe()"
   ]
  },
  {
   "cell_type": "code",
   "execution_count": 318,
   "metadata": {
    "collapsed": true
   },
   "outputs": [],
   "source": [
    "# colors = [\n",
    "#   \"#FE2400\",\n",
    "#   \"#B21D72\",\n",
    "#   \"#5023D0\",\n",
    "#   \"#247395\",\n",
    "#   \"#FFFF01\",\n",
    "#   \"#FEAF07\",\n",
    "#   \"#247395\",\n",
    "# ]"
   ]
  },
  {
   "cell_type": "code",
   "execution_count": 319,
   "metadata": {
    "collapsed": true
   },
   "outputs": [],
   "source": [
    "colors = [\n",
    "    \"#FE2400\",\n",
    "    \"#EC2127\",\n",
    "    \"#D21E4E\",\n",
    "    \"#B21D72\",\n",
    "    \"#951E93\",\n",
    "    \"#7421B1\",\n",
    "    \"#5023D0\",\n",
    "    \"#3025EA\",\n",
    "    \"#082EFD\",\n",
    "    \"#1147CE\",\n",
    "    \"#247395\",\n",
    "    \"#389D51\",\n",
    "    \"#49C900\",\n",
    "    \"#81D503\",\n",
    "    \"#AFE400\",\n",
    "    \"#DAF201\",\n",
    "    \"#FFFF01\",\n",
    "    \"#FEE600\",\n",
    "    \"#FECD02\",\n",
    "    \"#FEAF07\",\n",
    "    \"#FF9400\",\n",
    "    \"#FE7701\",\n",
    "    \"#FD5800\",\n",
    "    \"#FF3900\",\n",
    "]"
   ]
  },
  {
   "cell_type": "markdown",
   "metadata": {},
   "source": [
    "# VBGMM"
   ]
  },
  {
   "cell_type": "markdown",
   "metadata": {},
   "source": [
    "### 各特徴料を正規化する下準備"
   ]
  },
  {
   "cell_type": "code",
   "execution_count": 320,
   "metadata": {
    "collapsed": true
   },
   "outputs": [],
   "source": [
    "normedFeatures = [\n",
    "    \"red\",  \"yellow\",  \"green\",\n",
    "    \"brake\", \"accel\", \n",
    "]\n",
    "\n",
    "# normedFeatures = [\n",
    "#     \"red\",  \"yellow\",  \"green\",\n",
    "#     \"brake\", \"accel\", \n",
    "#     \"sunMax\", \"sunMiddle\",\n",
    "#     \"cloudMax\", \"cloudMiddle\",\n",
    "#     \"shineMax\", \"shineMiddle\",\n",
    "# ]"
   ]
  },
  {
   "cell_type": "code",
   "execution_count": 321,
   "metadata": {
    "collapsed": true
   },
   "outputs": [],
   "source": [
    "speeds = [\"red\", \"yellow\", \"green\", \"slow\"]\n",
    "pedals = [\"brake\", \"accel\"]\n",
    "steerings = [\"steeringPositive\", \"steeringNegative\"]\n",
    "suns = [\"sunMax\", \"sunMiddle\", \"sunMin\",]\n",
    "clouds = [\"cloudMax\", \"cloudMiddle\", \"cloudMin\",]\n",
    "shines = [\"shineMax\", \"shineMiddle\", \"shineMin\"]"
   ]
  },
  {
   "cell_type": "markdown",
   "metadata": {},
   "source": [
    "### 各特徴料を正規化"
   ]
  },
  {
   "cell_type": "code",
   "execution_count": 324,
   "metadata": {
    "collapsed": false
   },
   "outputs": [],
   "source": [
    "bf = mf.copy()\n",
    "bf[\"sumSpeed\"] = bf[\"red\"] + bf[\"yellow\"] + bf[\"green\"] + bf[\"slow\"]\n",
    "bf[\"sumPedal\"] = bf[\"brake\"] + bf[\"accel\"] \n",
    "# bf[\"sumSteering\"] = bf[\"steeringPositive\"] + bf[\"steeringNegative\"]\n",
    "# bf[\"sumSuns\"] = bf[\"sunMax\"] + bf[\"sunMiddle\"] + bf[\"sunMin\"]\n",
    "# bf[\"sumClouds\"] = bf[\"cloudMax\"] + bf[\"cloudMiddle\"] + bf[\"cloudMin\"]\n",
    "# bf[\"sumShines\"] = bf[\"shineMax\"] + bf[\"shineMiddle\"] + bf[\"shineMin\"]\n",
    "\n",
    "for key in speeds:\n",
    "    bf[key] = bf[key] / bf[\"sumSpeed\"]\n",
    "    \n",
    "for key in pedals:\n",
    "    bf[key] = bf[key] / bf[\"sumPedal\"]\n",
    "    \n",
    "# for key in steerings:\n",
    "#     bf[key] = bf[key] / bf[\"sumSteering\"]\n",
    "\n",
    "# for key in suns:\n",
    "#     bf[key] = bf[key] /bf[\"sumSuns\"]\n",
    "#     \n",
    "# for key in clouds:\n",
    "#     bf[key] = bf[key] /bf[\"sumClouds\"]\n",
    "# \n",
    "# for key in shines:\n",
    "#     bf[key] = bf[key] /bf[\"sumShines\"]\n",
    "    \n",
    "bf = bf.fillna(0)    \n",
    "    \n",
    "# bf = bf[features]\n",
    "bf = bf[normedFeatures]"
   ]
  },
  {
   "cell_type": "code",
   "execution_count": 325,
   "metadata": {
    "collapsed": false
   },
   "outputs": [
    {
     "data": {
      "text/html": [
       "<div>\n",
       "<table border=\"1\" class=\"dataframe\">\n",
       "  <thead>\n",
       "    <tr style=\"text-align: right;\">\n",
       "      <th></th>\n",
       "      <th>red</th>\n",
       "      <th>yellow</th>\n",
       "      <th>green</th>\n",
       "      <th>brake</th>\n",
       "      <th>accel</th>\n",
       "    </tr>\n",
       "  </thead>\n",
       "  <tbody>\n",
       "    <tr>\n",
       "      <th>count</th>\n",
       "      <td>123.000000</td>\n",
       "      <td>123.000000</td>\n",
       "      <td>123.000000</td>\n",
       "      <td>123.000000</td>\n",
       "      <td>123.000000</td>\n",
       "    </tr>\n",
       "    <tr>\n",
       "      <th>mean</th>\n",
       "      <td>0.156008</td>\n",
       "      <td>0.173269</td>\n",
       "      <td>0.590656</td>\n",
       "      <td>0.226762</td>\n",
       "      <td>0.756977</td>\n",
       "    </tr>\n",
       "    <tr>\n",
       "      <th>std</th>\n",
       "      <td>0.252005</td>\n",
       "      <td>0.210690</td>\n",
       "      <td>0.339190</td>\n",
       "      <td>0.222738</td>\n",
       "      <td>0.241463</td>\n",
       "    </tr>\n",
       "    <tr>\n",
       "      <th>min</th>\n",
       "      <td>0.000000</td>\n",
       "      <td>0.000000</td>\n",
       "      <td>0.000000</td>\n",
       "      <td>0.000000</td>\n",
       "      <td>0.000000</td>\n",
       "    </tr>\n",
       "    <tr>\n",
       "      <th>25%</th>\n",
       "      <td>0.000000</td>\n",
       "      <td>0.000000</td>\n",
       "      <td>0.284895</td>\n",
       "      <td>0.000000</td>\n",
       "      <td>0.608696</td>\n",
       "    </tr>\n",
       "    <tr>\n",
       "      <th>50%</th>\n",
       "      <td>0.000000</td>\n",
       "      <td>0.058252</td>\n",
       "      <td>0.566667</td>\n",
       "      <td>0.200000</td>\n",
       "      <td>0.777778</td>\n",
       "    </tr>\n",
       "    <tr>\n",
       "      <th>75%</th>\n",
       "      <td>0.276674</td>\n",
       "      <td>0.310593</td>\n",
       "      <td>0.941462</td>\n",
       "      <td>0.385354</td>\n",
       "      <td>1.000000</td>\n",
       "    </tr>\n",
       "    <tr>\n",
       "      <th>max</th>\n",
       "      <td>0.958167</td>\n",
       "      <td>1.000000</td>\n",
       "      <td>1.000000</td>\n",
       "      <td>0.954545</td>\n",
       "      <td>1.000000</td>\n",
       "    </tr>\n",
       "  </tbody>\n",
       "</table>\n",
       "</div>"
      ],
      "text/plain": [
       "              red      yellow       green       brake       accel\n",
       "count  123.000000  123.000000  123.000000  123.000000  123.000000\n",
       "mean     0.156008    0.173269    0.590656    0.226762    0.756977\n",
       "std      0.252005    0.210690    0.339190    0.222738    0.241463\n",
       "min      0.000000    0.000000    0.000000    0.000000    0.000000\n",
       "25%      0.000000    0.000000    0.284895    0.000000    0.608696\n",
       "50%      0.000000    0.058252    0.566667    0.200000    0.777778\n",
       "75%      0.276674    0.310593    0.941462    0.385354    1.000000\n",
       "max      0.958167    1.000000    1.000000    0.954545    1.000000"
      ]
     },
     "execution_count": 325,
     "metadata": {},
     "output_type": "execute_result"
    }
   ],
   "source": [
    "bf.describe()"
   ]
  },
  {
   "cell_type": "markdown",
   "metadata": {},
   "source": [
    "### ハイパーパラメータの設定"
   ]
  },
  {
   "cell_type": "code",
   "execution_count": 326,
   "metadata": {
    "collapsed": false
   },
   "outputs": [],
   "source": [
    "components = 24\n",
    "prior = 0.0001\n",
    "cov_type = 'full'\n",
    "cov_prior = 0.07 * np.identity(len(normedFeatures))\n",
    "# cov_prior = 0.09 * np.identity(len(features))\n",
    "max_iter = 200"
   ]
  },
  {
   "cell_type": "markdown",
   "metadata": {},
   "source": [
    "### 一番良い seed 値をグリッドサーチする"
   ]
  },
  {
   "cell_type": "code",
   "execution_count": 327,
   "metadata": {
    "collapsed": false
   },
   "outputs": [
    {
     "name": "stdout",
     "output_type": "stream",
     "text": [
      "[{'classes': 7, 'lower bounds': 1938.917606776304, 'seed': 13},\n",
      " {'classes': 7, 'lower bounds': 1972.7185307738216, 'seed': 14},\n",
      " {'classes': 5, 'lower bounds': 1990.2508996813535, 'seed': 3},\n",
      " {'classes': 6, 'lower bounds': 2044.4583702211112, 'seed': 16},\n",
      " {'classes': 6, 'lower bounds': 2054.0843052771943, 'seed': 4},\n",
      " {'classes': 5, 'lower bounds': 2070.0012250148411, 'seed': 2},\n",
      " {'classes': 5, 'lower bounds': 2072.9462727711525, 'seed': 6},\n",
      " {'classes': 6, 'lower bounds': 2078.179541447581, 'seed': 8},\n",
      " {'classes': 6, 'lower bounds': 2079.3011610744838, 'seed': 11},\n",
      " {'classes': 6, 'lower bounds': 2090.2556179987141, 'seed': 15},\n",
      " {'classes': 5, 'lower bounds': 2092.9509361693645, 'seed': 19},\n",
      " {'classes': 6, 'lower bounds': 2104.4588184924792, 'seed': 10},\n",
      " {'classes': 6, 'lower bounds': 2108.4382617748893, 'seed': 12},\n",
      " {'classes': 6, 'lower bounds': 2110.1651466840276, 'seed': 17},\n",
      " {'classes': 5, 'lower bounds': 2116.2866173978955, 'seed': 1},\n",
      " {'classes': 5, 'lower bounds': 2119.3829245012089, 'seed': 9},\n",
      " {'classes': 5, 'lower bounds': 2121.2479550989124, 'seed': 7},\n",
      " {'classes': 6, 'lower bounds': 2121.2678383316784, 'seed': 18},\n",
      " {'classes': 5, 'lower bounds': 2129.2079794852957, 'seed': 0},\n",
      " {'classes': 6, 'lower bounds': 2131.3332680972762, 'seed': 5}]\n"
     ]
    }
   ],
   "source": [
    "def gridSearch():\n",
    "    result = []\n",
    "    for k in range(20):\n",
    "        sd = k\n",
    "        np.random.seed(sd)\n",
    "        random.seed(sd)\n",
    "    \n",
    "        vb = BayesianGaussianMixture(\n",
    "            n_components=components,\n",
    "            weight_concentration_prior=prior, \n",
    "            covariance_type=cov_type,\n",
    "            covariance_prior=cov_prior,\n",
    "            max_iter=max_iter\n",
    "        ).fit(bf)\n",
    "        result.append({\n",
    "                \"seed\": sd,\n",
    "                \"classes\": len(set(vb.predict(bf))),\n",
    "                \"lower bounds\": vb.lower_bound_\n",
    "        })\n",
    "\n",
    "    return sorted(result, key=lambda res: res[\"lower bounds\"])\n",
    "\n",
    "pprint.pprint(gridSearch())"
   ]
  },
  {
   "cell_type": "markdown",
   "metadata": {},
   "source": [
    "### 上で得られた一番良いシード値に設定"
   ]
  },
  {
   "cell_type": "code",
   "execution_count": 329,
   "metadata": {
    "collapsed": false
   },
   "outputs": [],
   "source": [
    "sd = 13\n",
    "np.random.seed(sd)\n",
    "random.seed(sd)"
   ]
  },
  {
   "cell_type": "markdown",
   "metadata": {},
   "source": [
    "### 実際に Bayesian Gaussian Mixture mode でクラスタリング"
   ]
  },
  {
   "cell_type": "code",
   "execution_count": 330,
   "metadata": {
    "collapsed": false,
    "scrolled": true
   },
   "outputs": [
    {
     "name": "stdout",
     "output_type": "stream",
     "text": [
      "class size:       7\n",
      "classes:           set([0, 3, 6, 9, 13, 18, 21])\n",
      "lower bound:  1938.91760678\n"
     ]
    }
   ],
   "source": [
    "vb = BayesianGaussianMixture(\n",
    "    n_components=components,\n",
    "    weight_concentration_prior=prior, \n",
    "    covariance_type=cov_type,\n",
    "    covariance_prior=cov_prior,\n",
    "    max_iter=max_iter    \n",
    ").fit(bf)\n",
    "print \"class size:      \", len(set(vb.predict(bf)))\n",
    "print \"classes:          \", set(vb.predict(bf))\n",
    "print \"lower bound: \", vb.lower_bound_"
   ]
  },
  {
   "cell_type": "markdown",
   "metadata": {},
   "source": [
    "### 結果の確認"
   ]
  },
  {
   "cell_type": "code",
   "execution_count": 335,
   "metadata": {
    "collapsed": false,
    "scrolled": true
   },
   "outputs": [
    {
     "data": {
      "text/plain": [
       "array([  1.57573060e-01,   7.99424140e-03,   7.91837922e-03,\n",
       "         3.69850107e-01,   7.71080213e-03,   7.58060357e-03,\n",
       "         4.30827709e-02,   7.31571417e-03,   7.18133931e-03,\n",
       "         1.41051896e-02,   6.91752391e-03,   6.78808346e-03,\n",
       "         6.66106514e-03,   1.30419108e-02,   6.41179342e-03,\n",
       "         6.28953958e-03,   6.16961680e-03,   6.05198064e-03,\n",
       "         1.18839014e-02,   5.82119031e-03,   5.70803630e-03,\n",
       "         2.87942592e-01,   5.59349620e-07,   5.59293691e-11])"
      ]
     },
     "execution_count": 335,
     "metadata": {},
     "output_type": "execute_result"
    }
   ],
   "source": [
    "vb.weights_"
   ]
  },
  {
   "cell_type": "code",
   "execution_count": 336,
   "metadata": {
    "collapsed": false
   },
   "outputs": [],
   "source": [
    "ws = [\"%02f\" % w for w in vb.weights_]"
   ]
  },
  {
   "cell_type": "code",
   "execution_count": 338,
   "metadata": {
    "collapsed": false,
    "scrolled": false
   },
   "outputs": [
    {
     "data": {
      "text/html": [
       "<div>\n",
       "<table border=\"1\" class=\"dataframe\">\n",
       "  <thead>\n",
       "    <tr style=\"text-align: right;\">\n",
       "      <th></th>\n",
       "      <th>red</th>\n",
       "      <th>yellow</th>\n",
       "      <th>green</th>\n",
       "      <th>brake</th>\n",
       "      <th>accel</th>\n",
       "      <th>slow</th>\n",
       "      <th>weight</th>\n",
       "    </tr>\n",
       "  </thead>\n",
       "  <tbody>\n",
       "    <tr>\n",
       "      <th>3</th>\n",
       "      <td>0.010178</td>\n",
       "      <td>0.041823</td>\n",
       "      <td>0.928868</td>\n",
       "      <td>0.125834</td>\n",
       "      <td>0.873822</td>\n",
       "      <td>0.019130</td>\n",
       "      <td>0.369850</td>\n",
       "    </tr>\n",
       "    <tr>\n",
       "      <th>21</th>\n",
       "      <td>0.367490</td>\n",
       "      <td>0.347465</td>\n",
       "      <td>0.283488</td>\n",
       "      <td>0.343310</td>\n",
       "      <td>0.656374</td>\n",
       "      <td>0.001557</td>\n",
       "      <td>0.287943</td>\n",
       "    </tr>\n",
       "    <tr>\n",
       "      <th>0</th>\n",
       "      <td>0.008808</td>\n",
       "      <td>0.010547</td>\n",
       "      <td>0.530065</td>\n",
       "      <td>0.024760</td>\n",
       "      <td>0.974407</td>\n",
       "      <td>0.450580</td>\n",
       "      <td>0.157573</td>\n",
       "    </tr>\n",
       "    <tr>\n",
       "      <th>6</th>\n",
       "      <td>0.029078</td>\n",
       "      <td>0.098037</td>\n",
       "      <td>0.806932</td>\n",
       "      <td>0.650092</td>\n",
       "      <td>0.347098</td>\n",
       "      <td>0.065954</td>\n",
       "      <td>0.043083</td>\n",
       "    </tr>\n",
       "    <tr>\n",
       "      <th>9</th>\n",
       "      <td>0.078063</td>\n",
       "      <td>0.586208</td>\n",
       "      <td>0.295732</td>\n",
       "      <td>0.113535</td>\n",
       "      <td>0.378910</td>\n",
       "      <td>0.039996</td>\n",
       "      <td>0.014105</td>\n",
       "    </tr>\n",
       "    <tr>\n",
       "      <th>13</th>\n",
       "      <td>0.115411</td>\n",
       "      <td>0.272532</td>\n",
       "      <td>0.571912</td>\n",
       "      <td>0.584954</td>\n",
       "      <td>0.406902</td>\n",
       "      <td>0.040145</td>\n",
       "      <td>0.013042</td>\n",
       "    </tr>\n",
       "    <tr>\n",
       "      <th>18</th>\n",
       "      <td>0.078103</td>\n",
       "      <td>0.086709</td>\n",
       "      <td>0.795203</td>\n",
       "      <td>0.113575</td>\n",
       "      <td>0.379045</td>\n",
       "      <td>0.039985</td>\n",
       "      <td>0.011884</td>\n",
       "    </tr>\n",
       "    <tr>\n",
       "      <th>1</th>\n",
       "      <td>0.155999</td>\n",
       "      <td>0.173248</td>\n",
       "      <td>0.590741</td>\n",
       "      <td>0.226771</td>\n",
       "      <td>0.756981</td>\n",
       "      <td>0.080012</td>\n",
       "      <td>0.007994</td>\n",
       "    </tr>\n",
       "    <tr>\n",
       "      <th>2</th>\n",
       "      <td>0.155999</td>\n",
       "      <td>0.173248</td>\n",
       "      <td>0.590740</td>\n",
       "      <td>0.226771</td>\n",
       "      <td>0.756981</td>\n",
       "      <td>0.080013</td>\n",
       "      <td>0.007918</td>\n",
       "    </tr>\n",
       "    <tr>\n",
       "      <th>4</th>\n",
       "      <td>0.155999</td>\n",
       "      <td>0.173249</td>\n",
       "      <td>0.590738</td>\n",
       "      <td>0.226771</td>\n",
       "      <td>0.756981</td>\n",
       "      <td>0.080014</td>\n",
       "      <td>0.007711</td>\n",
       "    </tr>\n",
       "    <tr>\n",
       "      <th>5</th>\n",
       "      <td>0.155999</td>\n",
       "      <td>0.173249</td>\n",
       "      <td>0.590737</td>\n",
       "      <td>0.226771</td>\n",
       "      <td>0.756981</td>\n",
       "      <td>0.080015</td>\n",
       "      <td>0.007581</td>\n",
       "    </tr>\n",
       "    <tr>\n",
       "      <th>7</th>\n",
       "      <td>0.155999</td>\n",
       "      <td>0.173250</td>\n",
       "      <td>0.590734</td>\n",
       "      <td>0.226770</td>\n",
       "      <td>0.756981</td>\n",
       "      <td>0.080017</td>\n",
       "      <td>0.007316</td>\n",
       "    </tr>\n",
       "    <tr>\n",
       "      <th>8</th>\n",
       "      <td>0.156000</td>\n",
       "      <td>0.173250</td>\n",
       "      <td>0.590732</td>\n",
       "      <td>0.226770</td>\n",
       "      <td>0.756981</td>\n",
       "      <td>0.080018</td>\n",
       "      <td>0.007181</td>\n",
       "    </tr>\n",
       "    <tr>\n",
       "      <th>10</th>\n",
       "      <td>0.156000</td>\n",
       "      <td>0.173251</td>\n",
       "      <td>0.590730</td>\n",
       "      <td>0.226770</td>\n",
       "      <td>0.756981</td>\n",
       "      <td>0.080020</td>\n",
       "      <td>0.006918</td>\n",
       "    </tr>\n",
       "    <tr>\n",
       "      <th>11</th>\n",
       "      <td>0.156000</td>\n",
       "      <td>0.173251</td>\n",
       "      <td>0.590728</td>\n",
       "      <td>0.226770</td>\n",
       "      <td>0.756981</td>\n",
       "      <td>0.080021</td>\n",
       "      <td>0.006788</td>\n",
       "    </tr>\n",
       "    <tr>\n",
       "      <th>12</th>\n",
       "      <td>0.156000</td>\n",
       "      <td>0.173251</td>\n",
       "      <td>0.590727</td>\n",
       "      <td>0.226770</td>\n",
       "      <td>0.756981</td>\n",
       "      <td>0.080022</td>\n",
       "      <td>0.006661</td>\n",
       "    </tr>\n",
       "    <tr>\n",
       "      <th>14</th>\n",
       "      <td>0.156001</td>\n",
       "      <td>0.173252</td>\n",
       "      <td>0.590724</td>\n",
       "      <td>0.226769</td>\n",
       "      <td>0.756980</td>\n",
       "      <td>0.080023</td>\n",
       "      <td>0.006412</td>\n",
       "    </tr>\n",
       "    <tr>\n",
       "      <th>15</th>\n",
       "      <td>0.156001</td>\n",
       "      <td>0.173252</td>\n",
       "      <td>0.590723</td>\n",
       "      <td>0.226769</td>\n",
       "      <td>0.756980</td>\n",
       "      <td>0.080024</td>\n",
       "      <td>0.006290</td>\n",
       "    </tr>\n",
       "    <tr>\n",
       "      <th>16</th>\n",
       "      <td>0.156001</td>\n",
       "      <td>0.173253</td>\n",
       "      <td>0.590721</td>\n",
       "      <td>0.226769</td>\n",
       "      <td>0.756980</td>\n",
       "      <td>0.080025</td>\n",
       "      <td>0.006170</td>\n",
       "    </tr>\n",
       "    <tr>\n",
       "      <th>17</th>\n",
       "      <td>0.156001</td>\n",
       "      <td>0.173253</td>\n",
       "      <td>0.590720</td>\n",
       "      <td>0.226769</td>\n",
       "      <td>0.756980</td>\n",
       "      <td>0.080026</td>\n",
       "      <td>0.006052</td>\n",
       "    </tr>\n",
       "    <tr>\n",
       "      <th>19</th>\n",
       "      <td>0.156001</td>\n",
       "      <td>0.173254</td>\n",
       "      <td>0.590718</td>\n",
       "      <td>0.226769</td>\n",
       "      <td>0.756980</td>\n",
       "      <td>0.080027</td>\n",
       "      <td>0.005821</td>\n",
       "    </tr>\n",
       "    <tr>\n",
       "      <th>20</th>\n",
       "      <td>0.156001</td>\n",
       "      <td>0.173254</td>\n",
       "      <td>0.590716</td>\n",
       "      <td>0.226769</td>\n",
       "      <td>0.756980</td>\n",
       "      <td>0.080028</td>\n",
       "      <td>0.005708</td>\n",
       "    </tr>\n",
       "    <tr>\n",
       "      <th>22</th>\n",
       "      <td>0.156008</td>\n",
       "      <td>0.173269</td>\n",
       "      <td>0.590656</td>\n",
       "      <td>0.226762</td>\n",
       "      <td>0.756977</td>\n",
       "      <td>0.080068</td>\n",
       "      <td>0.000001</td>\n",
       "    </tr>\n",
       "    <tr>\n",
       "      <th>23</th>\n",
       "      <td>0.156008</td>\n",
       "      <td>0.173269</td>\n",
       "      <td>0.590656</td>\n",
       "      <td>0.226762</td>\n",
       "      <td>0.756977</td>\n",
       "      <td>0.080068</td>\n",
       "      <td>0.000000</td>\n",
       "    </tr>\n",
       "  </tbody>\n",
       "</table>\n",
       "</div>"
      ],
      "text/plain": [
       "         red    yellow     green     brake     accel      slow    weight\n",
       "3   0.010178  0.041823  0.928868  0.125834  0.873822  0.019130  0.369850\n",
       "21  0.367490  0.347465  0.283488  0.343310  0.656374  0.001557  0.287943\n",
       "0   0.008808  0.010547  0.530065  0.024760  0.974407  0.450580  0.157573\n",
       "6   0.029078  0.098037  0.806932  0.650092  0.347098  0.065954  0.043083\n",
       "9   0.078063  0.586208  0.295732  0.113535  0.378910  0.039996  0.014105\n",
       "13  0.115411  0.272532  0.571912  0.584954  0.406902  0.040145  0.013042\n",
       "18  0.078103  0.086709  0.795203  0.113575  0.379045  0.039985  0.011884\n",
       "1   0.155999  0.173248  0.590741  0.226771  0.756981  0.080012  0.007994\n",
       "2   0.155999  0.173248  0.590740  0.226771  0.756981  0.080013  0.007918\n",
       "4   0.155999  0.173249  0.590738  0.226771  0.756981  0.080014  0.007711\n",
       "5   0.155999  0.173249  0.590737  0.226771  0.756981  0.080015  0.007581\n",
       "7   0.155999  0.173250  0.590734  0.226770  0.756981  0.080017  0.007316\n",
       "8   0.156000  0.173250  0.590732  0.226770  0.756981  0.080018  0.007181\n",
       "10  0.156000  0.173251  0.590730  0.226770  0.756981  0.080020  0.006918\n",
       "11  0.156000  0.173251  0.590728  0.226770  0.756981  0.080021  0.006788\n",
       "12  0.156000  0.173251  0.590727  0.226770  0.756981  0.080022  0.006661\n",
       "14  0.156001  0.173252  0.590724  0.226769  0.756980  0.080023  0.006412\n",
       "15  0.156001  0.173252  0.590723  0.226769  0.756980  0.080024  0.006290\n",
       "16  0.156001  0.173253  0.590721  0.226769  0.756980  0.080025  0.006170\n",
       "17  0.156001  0.173253  0.590720  0.226769  0.756980  0.080026  0.006052\n",
       "19  0.156001  0.173254  0.590718  0.226769  0.756980  0.080027  0.005821\n",
       "20  0.156001  0.173254  0.590716  0.226769  0.756980  0.080028  0.005708\n",
       "22  0.156008  0.173269  0.590656  0.226762  0.756977  0.080068  0.000001\n",
       "23  0.156008  0.173269  0.590656  0.226762  0.756977  0.080068  0.000000"
      ]
     },
     "execution_count": 338,
     "metadata": {},
     "output_type": "execute_result"
    }
   ],
   "source": [
    "ref = pd.DataFrame(vb.means_)\n",
    "# ref.columns = [features]\n",
    "ref.columns = [normedFeatures]\n",
    "ref[\"slow\"] = 1 - (ref[\"red\"] + ref[\"yellow\"] + ref[\"green\"])\n",
    "# ref[\"sunMin\"] = 1 - (ref[\"sunMax\"] + ref[\"sunMiddle\"])\n",
    "# ref[\"cloudMin\"] = 1 - (ref[\"cloudMax\"] + ref[\"cloudMiddle\"])\n",
    "# ref[\"shineMin\"] = 1 - (ref[\"shineMax\"] + ref[\"shineMiddle\"])\n",
    "ref[\"weight\"] = ws\n",
    "ref.sort_values(\"weight\", ascending=False)"
   ]
  },
  {
   "cell_type": "code",
   "execution_count": 339,
   "metadata": {
    "collapsed": false
   },
   "outputs": [
    {
     "data": {
      "text/html": [
       "<div>\n",
       "<table border=\"1\" class=\"dataframe\">\n",
       "  <thead>\n",
       "    <tr style=\"text-align: right;\">\n",
       "      <th></th>\n",
       "      <th>red</th>\n",
       "      <th>yellow</th>\n",
       "      <th>green</th>\n",
       "      <th>brake</th>\n",
       "      <th>accel</th>\n",
       "      <th>slow</th>\n",
       "      <th>weight</th>\n",
       "    </tr>\n",
       "  </thead>\n",
       "  <tbody>\n",
       "    <tr>\n",
       "      <th>3</th>\n",
       "      <td>0.010178</td>\n",
       "      <td>0.041823</td>\n",
       "      <td>0.928868</td>\n",
       "      <td>0.125834</td>\n",
       "      <td>0.873822</td>\n",
       "      <td>0.019130</td>\n",
       "      <td>0.369850</td>\n",
       "    </tr>\n",
       "    <tr>\n",
       "      <th>21</th>\n",
       "      <td>0.367490</td>\n",
       "      <td>0.347465</td>\n",
       "      <td>0.283488</td>\n",
       "      <td>0.343310</td>\n",
       "      <td>0.656374</td>\n",
       "      <td>0.001557</td>\n",
       "      <td>0.287943</td>\n",
       "    </tr>\n",
       "    <tr>\n",
       "      <th>0</th>\n",
       "      <td>0.008808</td>\n",
       "      <td>0.010547</td>\n",
       "      <td>0.530065</td>\n",
       "      <td>0.024760</td>\n",
       "      <td>0.974407</td>\n",
       "      <td>0.450580</td>\n",
       "      <td>0.157573</td>\n",
       "    </tr>\n",
       "    <tr>\n",
       "      <th>6</th>\n",
       "      <td>0.029078</td>\n",
       "      <td>0.098037</td>\n",
       "      <td>0.806932</td>\n",
       "      <td>0.650092</td>\n",
       "      <td>0.347098</td>\n",
       "      <td>0.065954</td>\n",
       "      <td>0.043083</td>\n",
       "    </tr>\n",
       "    <tr>\n",
       "      <th>9</th>\n",
       "      <td>0.078063</td>\n",
       "      <td>0.586208</td>\n",
       "      <td>0.295732</td>\n",
       "      <td>0.113535</td>\n",
       "      <td>0.378910</td>\n",
       "      <td>0.039996</td>\n",
       "      <td>0.014105</td>\n",
       "    </tr>\n",
       "    <tr>\n",
       "      <th>13</th>\n",
       "      <td>0.115411</td>\n",
       "      <td>0.272532</td>\n",
       "      <td>0.571912</td>\n",
       "      <td>0.584954</td>\n",
       "      <td>0.406902</td>\n",
       "      <td>0.040145</td>\n",
       "      <td>0.013042</td>\n",
       "    </tr>\n",
       "    <tr>\n",
       "      <th>18</th>\n",
       "      <td>0.078103</td>\n",
       "      <td>0.086709</td>\n",
       "      <td>0.795203</td>\n",
       "      <td>0.113575</td>\n",
       "      <td>0.379045</td>\n",
       "      <td>0.039985</td>\n",
       "      <td>0.011884</td>\n",
       "    </tr>\n",
       "  </tbody>\n",
       "</table>\n",
       "</div>"
      ],
      "text/plain": [
       "         red    yellow     green     brake     accel      slow    weight\n",
       "3   0.010178  0.041823  0.928868  0.125834  0.873822  0.019130  0.369850\n",
       "21  0.367490  0.347465  0.283488  0.343310  0.656374  0.001557  0.287943\n",
       "0   0.008808  0.010547  0.530065  0.024760  0.974407  0.450580  0.157573\n",
       "6   0.029078  0.098037  0.806932  0.650092  0.347098  0.065954  0.043083\n",
       "9   0.078063  0.586208  0.295732  0.113535  0.378910  0.039996  0.014105\n",
       "13  0.115411  0.272532  0.571912  0.584954  0.406902  0.040145  0.013042\n",
       "18  0.078103  0.086709  0.795203  0.113575  0.379045  0.039985  0.011884"
      ]
     },
     "execution_count": 339,
     "metadata": {},
     "output_type": "execute_result"
    }
   ],
   "source": [
    "ref.sort_values(\"weight\", ascending=False)[:len(set(vb.predict(bf)))]"
   ]
  },
  {
   "cell_type": "markdown",
   "metadata": {},
   "source": [
    "# Plot histgram of each clusters"
   ]
  },
  {
   "cell_type": "markdown",
   "metadata": {},
   "source": [
    "### ヒストグラムの表示と保存"
   ]
  },
  {
   "cell_type": "code",
   "execution_count": 340,
   "metadata": {
    "collapsed": false
   },
   "outputs": [],
   "source": [
    "cls = ref.sort_values(\"weight\", ascending=False)[:len(set(vb.predict(bf)))].index"
   ]
  },
  {
   "cell_type": "code",
   "execution_count": 341,
   "metadata": {
    "collapsed": false,
    "scrolled": false
   },
   "outputs": [
    {
     "data": {
      "image/png": "[encoded data removed]",
      "text/plain": [
       "<matplotlib.figure.Figure at 0x107bd15d0>"
      ]
     },
     "metadata": {},
     "output_type": "display_data"
    },
    {
     "data": {
      "image/png": "[encoded data removed]",
      "text/plain": [
       "<matplotlib.figure.Figure at 0x107113b90>"
      ]
     },
     "metadata": {},
     "output_type": "display_data"
    },
    {
     "data": {
      "image/png": "[encoded data removed]",
      "text/plain": [
       "<matplotlib.figure.Figure at 0x107620690>"
      ]
     },
     "metadata": {},
     "output_type": "display_data"
    },
    {
     "data": {
      "image/png": "[encoded data removed]",
      "text/plain": [
       "<matplotlib.figure.Figure at 0x10815fdd0>"
      ]
     },
     "metadata": {},
     "output_type": "display_data"
    },
    {
     "data": {
      "image/png": "[encoded data removed]",
      "text/plain": [
       "<matplotlib.figure.Figure at 0x107c44510>"
      ]
     },
     "metadata": {},
     "output_type": "display_data"
    },
    {
     "data": {
      "image/png": "[encoded data removed]",
      "text/plain": [
       "<matplotlib.figure.Figure at 0x107889850>"
      ]
     },
     "metadata": {},
     "output_type": "display_data"
    },
    {
     "data": {
      "image/png": "[encoded data removed]",
      "text/plain": [
       "<matplotlib.figure.Figure at 0x107b2a950>"
      ]
     },
     "metadata": {},
     "output_type": "display_data"
    }
   ],
   "source": [
    "dir = \"./img/Result1/clusters-\" + str(sd)\n",
    "if not os.path.exists(dir):\n",
    "    os.mkdir(dir)\n",
    "\n",
    "ref = ref[features]\n",
    "for i in cls:\n",
    "    ref.ix[i].plot(kind='bar', color=colors[i])\n",
    "    plt.title(i)\n",
    "    plt.ylim(0, 1)\n",
    "    plt.savefig(dir + \"/cluster\" + str(i) + \".png\")\n",
    "    plt.show()"
   ]
  },
  {
   "cell_type": "markdown",
   "metadata": {},
   "source": [
    "# Save"
   ]
  },
  {
   "cell_type": "markdown",
   "metadata": {},
   "source": [
    "### 結果の保存"
   ]
  },
  {
   "cell_type": "code",
   "execution_count": 342,
   "metadata": {
    "collapsed": false
   },
   "outputs": [],
   "source": [
    "pred = zip(mf.index, vb.predict(bf))\n",
    "result = np.zeros(gridSize)\n",
    "\n",
    "for index, klass in pred:\n",
    "    result[index] = klass + 1\n",
    "    \n",
    "np.savetxt(targetDir + \"clusters.csv\", result, delimiter=\",\", fmt=\"%d\")\n",
    "\n",
    "with open(dir + '/VBSetting.json', 'w') as outfile:\n",
    "    data = {\n",
    "        \"n_components\": components,\n",
    "        \"weight_concentration_prior\": prior,\n",
    "        \"seed\": sd\n",
    "    }\n",
    "    json.dump(data, outfile)"
   ]
  },
  {
   "cell_type": "code",
   "execution_count": 343,
   "metadata": {
    "collapsed": false
   },
   "outputs": [
    {
     "data": {
      "text/plain": [
       "7"
      ]
     },
     "execution_count": 343,
     "metadata": {},
     "output_type": "execute_result"
    }
   ],
   "source": [
    "len(set(vb.predict(bf)))"
   ]
  },
  {
   "cell_type": "code",
   "execution_count": null,
   "metadata": {
    "collapsed": true
   },
   "outputs": [],
   "source": []
  }
 ],
 "metadata": {
  "kernelspec": {
   "display_name": "Python 2",
   "language": "python",
   "name": "python2"
  },
  "language_info": {
   "codemirror_mode": {
    "name": "ipython",
    "version": 2
   },
   "file_extension": ".py",
   "mimetype": "text/x-python",
   "name": "python",
   "nbconvert_exporter": "python",
   "pygments_lexer": "ipython2",
   "version": "2.7.10"
  },
  "widgets": {
   "state": {},
   "version": "1.1.2"
  }
 },
 "nbformat": 4,
 "nbformat_minor": 0
}
