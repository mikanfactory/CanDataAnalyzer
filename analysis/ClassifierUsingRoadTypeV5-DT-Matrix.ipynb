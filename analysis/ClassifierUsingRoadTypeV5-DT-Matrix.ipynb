{
 "cells": [
  {
   "cell_type": "code",
   "execution_count": 1,
   "metadata": {
    "collapsed": false,
    "deletable": true,
    "editable": true
   },
   "outputs": [
    {
     "name": "stderr",
     "output_type": "stream",
     "text": [
      "\n",
      "Attaching package: ‘dplyr’\n",
      "\n",
      "The following objects are masked from ‘package:stats’:\n",
      "\n",
      "    filter, lag\n",
      "\n",
      "The following objects are masked from ‘package:base’:\n",
      "\n",
      "    intersect, setdiff, setequal, union\n",
      "\n"
     ]
    }
   ],
   "source": [
    "library(grid)\n",
    "library(rpart)\n",
    "library(rpart.plot)\n",
    "library(partykit)\n",
    "library(lattice)\n",
    "library(ggplot2)\n",
    "library(caret)\n",
    "library(dplyr)"
   ]
  },
  {
   "cell_type": "code",
   "execution_count": 2,
   "metadata": {
    "collapsed": true,
    "deletable": true,
    "editable": true
   },
   "outputs": [],
   "source": [
    "set.seed(1)"
   ]
  },
  {
   "cell_type": "code",
   "execution_count": 3,
   "metadata": {
    "collapsed": false,
    "deletable": true,
    "editable": true
   },
   "outputs": [],
   "source": [
    "jRoadType <- c(\"都市間高速\", \"都市高速\", \"有料道路\", \"国道\", \"県道\", \"主要地方道\", \"一般道1、一般道2、一般道3\", \"その他\")\n",
    "jHighSpeeds <- c(\"都市間高速\", \"都市高速\", \"有料道路\")"
   ]
  },
  {
   "cell_type": "code",
   "execution_count": 4,
   "metadata": {
    "collapsed": true,
    "deletable": true,
    "editable": true
   },
   "outputs": [],
   "source": [
    "printf <- function(...) cat(sprintf(...))"
   ]
  },
  {
   "cell_type": "code",
   "execution_count": 5,
   "metadata": {
    "collapsed": true,
    "deletable": true,
    "editable": true
   },
   "outputs": [],
   "source": [
    "# valid columns when high speed\n",
    "invalids <- c('Time', 'Longitude', 'Latitude', 'Brake', 'Accel', 'RoadType', 'flag', 'TimeToCollision', \"RoadFactor\")\n",
    "valuables <- c(\"RoadType\",\"CurveAverage\",\"Speed\", \"Curve100\", \"Curve150\",\"MaxSpeed\",\"RiskFactor\",\"Curve\",\"DistSignal\",\"Pitch\",\"AheadDistance\",\"AverageVelocity\",\"TimeToCollision\",\"AccelerationSpeed\", \"Engine\", \"SteeringAngle\", \"TimeHeadway\", \"Jerk\", \"LaneCount\", \"DiffAvgSpeed\", \"EmptinessOfRoad\", \"RoadFactor\")\n",
    "isValidColumn <- function(x) ! x %in% invalids"
   ]
  },
  {
   "cell_type": "code",
   "execution_count": 6,
   "metadata": {
    "collapsed": true
   },
   "outputs": [],
   "source": [
    "trainAndPredict <- function(dfx, verbose=FALSE) {        \n",
    "    train <- dfx[, c(valuables, \"flag\")]\n",
    "    test <- dfx\n",
    "    fit <- rpart(flag ~ ., data=train)\n",
    "    p <- predict(fit, newdata=test, cp=0.018)\n",
    "    predictedFlags <- colnames(p)[max.col(p, ties.method = \"first\")]\n",
    "\n",
    "    showMatrix(test, predictedFlags)\n",
    "\n",
    "    nerr <- sum(predictedFlags != test$flag)\n",
    "}"
   ]
  },
  {
   "cell_type": "code",
   "execution_count": 7,
   "metadata": {
    "collapsed": true
   },
   "outputs": [],
   "source": [
    "showMatrix <- function(test, predictedFlags) {\n",
    "    predictedRed <- test[predictedFlags == \"Red\", ]\n",
    "    predictedBlue <- test[predictedFlags == \"Blue\", ]\n",
    "    printf(\"Predict Red\\n\")\n",
    "    print(predictedRed %>% group_by(flag, AccelOrBrake) %>% summarize(count=n()))\n",
    "    printf(\"Predict Blue\\n\")\n",
    "    print(predictedBlue %>% group_by(flag, AccelOrBrake) %>% summarize(count=n()))\n",
    "}"
   ]
  },
  {
   "cell_type": "code",
   "execution_count": 8,
   "metadata": {
    "collapsed": true,
    "deletable": true,
    "editable": true
   },
   "outputs": [],
   "source": [
    "createFormula <- function(invalids, allFeatures) {\n",
    "    isValidColumn <- function(x) ! x %in% invalids\n",
    "    \n",
    "    features <- Filter(isValidColumn, allFeatures)\n",
    "    return(paste(\"flag ~ \", paste(features, collapse=\" + \")))\n",
    "}"
   ]
  },
  {
   "cell_type": "markdown",
   "metadata": {
    "deletable": true,
    "editable": true
   },
   "source": [
    "# Predict Reds"
   ]
  },
  {
   "cell_type": "code",
   "execution_count": 9,
   "metadata": {
    "collapsed": false,
    "deletable": true,
    "editable": true
   },
   "outputs": [],
   "source": [
    "df <- read.csv(\"../data/middle/sp5.csv\", stringsAsFactors=FALSE)"
   ]
  },
  {
   "cell_type": "code",
   "execution_count": 10,
   "metadata": {
    "collapsed": true
   },
   "outputs": [],
   "source": [
    "df$AccelOrBrake[df$flag == \"RedA\"] <- \"Accel\"\n",
    "df$AccelOrBrake[df$flag == \"RedB\"] <- \"Brake\"\n",
    "df$AccelOrBrake[df$flag == \"BlueA\"] <- \"Accel\"\n",
    "df$AccelOrBrake[df$flag == \"BlueB\"] <- \"Brake\""
   ]
  },
  {
   "cell_type": "code",
   "execution_count": 11,
   "metadata": {
    "collapsed": false,
    "deletable": true,
    "editable": true
   },
   "outputs": [],
   "source": [
    "df$flag[df$flag == \"RedA\"] <- \"Red\"\n",
    "df$flag[df$flag == \"RedB\"] <- \"Red\"\n",
    "df$flag[df$flag == \"BlueA\"] <- \"Blue\"\n",
    "df$flag[df$flag == \"BlueB\"] <- \"Blue\"\n",
    "df$flag <- as.factor(df$flag)"
   ]
  },
  {
   "cell_type": "code",
   "execution_count": 12,
   "metadata": {
    "collapsed": false,
    "deletable": true,
    "editable": true
   },
   "outputs": [],
   "source": [
    "allFeatures <- c(colnames(df))"
   ]
  },
  {
   "cell_type": "code",
   "execution_count": 13,
   "metadata": {
    "collapsed": false,
    "deletable": true,
    "editable": true
   },
   "outputs": [],
   "source": [
    "roadTypes <- unique(df$RoadType)"
   ]
  },
  {
   "cell_type": "code",
   "execution_count": 15,
   "metadata": {
    "collapsed": false,
    "deletable": true,
    "editable": true,
    "scrolled": true
   },
   "outputs": [
    {
     "name": "stdout",
     "output_type": "stream",
     "text": [
      "RoadType: 0 (都市間高速)\n",
      "Predict Red\n",
      "Source: local data frame [4 x 3]\n",
      "Groups: flag [?]\n",
      "\n",
      "    flag AccelOrBrake count\n",
      "  <fctr>        <chr> <int>\n",
      "1   Blue        Accel     5\n",
      "2   Blue        Brake     4\n",
      "3    Red        Accel    44\n",
      "4    Red        Brake     4\n",
      "Predict Blue\n",
      "Source: local data frame [4 x 3]\n",
      "Groups: flag [?]\n",
      "\n",
      "    flag AccelOrBrake count\n",
      "  <fctr>        <chr> <int>\n",
      "1   Blue        Accel     8\n",
      "2   Blue        Brake     9\n",
      "3    Red        Accel     6\n",
      "4    Red        Brake     1\n",
      "RoadType: 2 (有料道路)\n",
      "Predict Red\n",
      "Source: local data frame [4 x 3]\n",
      "Groups: flag [?]\n",
      "\n",
      "    flag AccelOrBrake count\n",
      "  <fctr>        <chr> <int>\n",
      "1   Blue        Accel     2\n",
      "2   Blue        Brake     4\n",
      "3    Red        Accel    21\n",
      "4    Red        Brake     9\n",
      "Predict Blue\n",
      "Source: local data frame [2 x 3]\n",
      "Groups: flag [?]\n",
      "\n",
      "    flag AccelOrBrake count\n",
      "  <fctr>        <chr> <int>\n",
      "1   Blue        Brake    10\n",
      "2    Red        Brake     1\n",
      "RoadType: 3 (国道)\n",
      "Predict Red\n",
      "Source: local data frame [4 x 3]\n",
      "Groups: flag [?]\n",
      "\n",
      "    flag AccelOrBrake count\n",
      "  <fctr>        <chr> <int>\n",
      "1   Blue        Accel    14\n",
      "2   Blue        Brake    26\n",
      "3    Red        Accel   138\n",
      "4    Red        Brake    39\n",
      "Predict Blue\n",
      "Source: local data frame [4 x 3]\n",
      "Groups: flag [?]\n",
      "\n",
      "    flag AccelOrBrake count\n",
      "  <fctr>        <chr> <int>\n",
      "1   Blue        Accel    14\n",
      "2   Blue        Brake    68\n",
      "3    Red        Accel    20\n",
      "4    Red        Brake     5\n",
      "RoadType: 4 (県道)\n",
      "Predict Red\n",
      "Source: local data frame [4 x 3]\n",
      "Groups: flag [?]\n",
      "\n",
      "    flag AccelOrBrake count\n",
      "  <fctr>        <chr> <int>\n",
      "1   Blue        Accel     1\n",
      "2   Blue        Brake    13\n",
      "3    Red        Accel    24\n",
      "4    Red        Brake    10\n",
      "Predict Blue\n",
      "Source: local data frame [3 x 3]\n",
      "Groups: flag [?]\n",
      "\n",
      "    flag AccelOrBrake count\n",
      "  <fctr>        <chr> <int>\n",
      "1   Blue        Accel     2\n",
      "2   Blue        Brake    19\n",
      "3    Red        Brake     2\n",
      "RoadType: 5 (主要地方道)\n",
      "Predict Red\n",
      "Source: local data frame [4 x 3]\n",
      "Groups: flag [?]\n",
      "\n",
      "    flag AccelOrBrake count\n",
      "  <fctr>        <chr> <int>\n",
      "1   Blue        Accel     4\n",
      "2   Blue        Brake    28\n",
      "3    Red        Accel    70\n",
      "4    Red        Brake    49\n",
      "Predict Blue\n",
      "Source: local data frame [4 x 3]\n",
      "Groups: flag [?]\n",
      "\n",
      "    flag AccelOrBrake count\n",
      "  <fctr>        <chr> <int>\n",
      "1   Blue        Accel    20\n",
      "2   Blue        Brake    97\n",
      "3    Red        Accel    23\n",
      "4    Red        Brake    12\n",
      "RoadType: 6 (一般道1、一般道2、一般道3)\n",
      "Predict Red\n",
      "Source: local data frame [3 x 3]\n",
      "Groups: flag [?]\n",
      "\n",
      "    flag AccelOrBrake count\n",
      "  <fctr>        <chr> <int>\n",
      "1   Blue        Brake    23\n",
      "2    Red        Accel    46\n",
      "3    Red        Brake    32\n",
      "Predict Blue\n",
      "Source: local data frame [4 x 3]\n",
      "Groups: flag [?]\n",
      "\n",
      "    flag AccelOrBrake count\n",
      "  <fctr>        <chr> <int>\n",
      "1   Blue        Accel     7\n",
      "2   Blue        Brake    69\n",
      "3    Red        Accel     4\n",
      "4    Red        Brake     8\n",
      "RoadType: 7 (その他)\n",
      "Predict Red\n",
      "Source: local data frame [3 x 3]\n",
      "Groups: flag [?]\n",
      "\n",
      "    flag AccelOrBrake count\n",
      "  <fctr>        <chr> <int>\n",
      "1   Blue        Brake     2\n",
      "2    Red        Accel     5\n",
      "3    Red        Brake    20\n",
      "Predict Blue\n",
      "Source: local data frame [0 x 3]\n",
      "Groups: flag [?]\n",
      "\n",
      "# ... with 3 variables: flag <fctr>, AccelOrBrake <chr>, count <int>\n"
     ]
    }
   ],
   "source": [
    "for (i in c(0, 2, 3, 4, 5, 6, 7)) {\n",
    "    printf(\"RoadType: %d (%s)\\n\", i, jRoadType[i+1])\n",
    "    dfx <- df[df$RoadType == i, ]\n",
    "    result <- trainAndPredict(dfx, verbose=TRUE)\n",
    "}"
   ]
  },
  {
   "cell_type": "code",
   "execution_count": null,
   "metadata": {
    "collapsed": true
   },
   "outputs": [],
   "source": []
  }
 ],
 "metadata": {
  "kernelspec": {
   "display_name": "R",
   "language": "R",
   "name": "ir"
  },
  "language_info": {
   "codemirror_mode": "r",
   "file_extension": ".r",
   "mimetype": "text/x-r-source",
   "name": "R",
   "pygments_lexer": "r",
   "version": "3.3.2"
  }
 },
 "nbformat": 4,
 "nbformat_minor": 1
}
