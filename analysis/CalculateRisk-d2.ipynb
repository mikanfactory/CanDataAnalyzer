{
 "cells": [
  {
   "cell_type": "code",
   "execution_count": 1,
   "metadata": {
    "collapsed": true
   },
   "outputs": [],
   "source": [
    "%matplotlib inline"
   ]
  },
  {
   "cell_type": "code",
   "execution_count": 2,
   "metadata": {
    "collapsed": true
   },
   "outputs": [],
   "source": [
    "import numpy as np\n",
    "import pandas as pd\n",
    "import matplotlib.pyplot as plt\n",
    "from sklearn.mixture import BayesianGaussianMixture\n",
    "from skbayes.mixture_models import VBBMM"
   ]
  },
  {
   "cell_type": "code",
   "execution_count": 3,
   "metadata": {
    "collapsed": true
   },
   "outputs": [],
   "source": [
    "import seaborn as sns\n",
    "sns.set(color_codes=True)"
   ]
  },
  {
   "cell_type": "markdown",
   "metadata": {},
   "source": [
    "# Preprocess"
   ]
  },
  {
   "cell_type": "code",
   "execution_count": 4,
   "metadata": {
    "collapsed": true
   },
   "outputs": [],
   "source": [
    "targetDir = \"../data/output/d2/Result/\"\n",
    "speedDir = \"../data/output/d2/Speed/\"\n",
    "brakeDir = \"../data/output/d2/Brake/\"\n",
    "accelDIr = \"../data/output/d2/Accel/\"\n",
    "steeringPositiveDir = \"../data/output/d2/SteeringPositive/\"\n",
    "steeringNegativeDir = \"../data/output/d2/SteeringNegative/\"\n",
    "segmentDir = \"../data/output/d2/SegmentSize/\""
   ]
  },
  {
   "cell_type": "code",
   "execution_count": 5,
   "metadata": {
    "collapsed": false
   },
   "outputs": [],
   "source": [
    "df1 = pd.read_csv(speedDir + \"result.csv\")\n",
    "df2 = pd.read_csv(brakeDir + \"result.csv\")\n",
    "df2.columns = [[\"id\", \"brake\"]]\n",
    "df3 = pd.read_csv(accelDIr + \"result.csv\")\n",
    "df3.columns = [[\"id\", \"accel\"]]\n",
    "df4 = pd.read_csv(steeringPositiveDir + \"result.csv\")\n",
    "df4.columns = [[\"id\", \"steeringPositive\"]]\n",
    "df5 = pd.read_csv(steeringNegativeDir + \"result.csv\")\n",
    "df5.columns = [[\"id\", \"steeringNegative\"]]\n",
    "df6 = pd.read_csv(segmentDir + \"result.csv\")\n",
    "df6.columns = [[\"id\", \"segmentSize\"]]"
   ]
  },
  {
   "cell_type": "code",
   "execution_count": 6,
   "metadata": {
    "collapsed": false
   },
   "outputs": [],
   "source": [
    "df = pd.merge(pd.merge(pd.merge(pd.merge(df1, df2, on=\"id\"), df3, on=\"id\"), df4, on=\"id\"), df5, on=\"id\")\n",
    "df = pd.merge(df, df6, on=\"id\")\n",
    "gridSize = len(df)"
   ]
  },
  {
   "cell_type": "code",
   "execution_count": 7,
   "metadata": {
    "collapsed": false,
    "scrolled": true
   },
   "outputs": [],
   "source": [
    "noisyRows = [1568, 626, 1252, 662, 625, 1332, 624, 623, 663, 662, 711, 751]\n",
    "df = df.drop(df.index[noisyRows])"
   ]
  },
  {
   "cell_type": "code",
   "execution_count": 8,
   "metadata": {
    "collapsed": false
   },
   "outputs": [],
   "source": [
    "mf = df[df['red'] + df['yellow'] + df['green'] + df['stop'] > 0]\n",
    "mf = mf[[\"red\", \"brake\", \"accel\", \"steeringPositive\",  \"steeringNegative\", \"segmentSize\"]]\n",
    "mf.columns = [\"red\", \"brake\", \"accel\", \"steeringPositive\",  \"steeringNegative\", \"segmentSize\"]"
   ]
  },
  {
   "cell_type": "markdown",
   "metadata": {},
   "source": [
    "# Summation of all statuses and calculate risk"
   ]
  },
  {
   "cell_type": "code",
   "execution_count": 9,
   "metadata": {
    "collapsed": false
   },
   "outputs": [],
   "source": [
    "rows = mf.as_matrix()\n",
    "mf[\"sum\"] = [np.sum(rows[i][:-1]) for i in range(len(rows))]"
   ]
  },
  {
   "cell_type": "code",
   "execution_count": 10,
   "metadata": {
    "collapsed": false
   },
   "outputs": [],
   "source": [
    "mf[\"risk\"] = mf[\"sum\"] / mf[\"segmentSize\"]"
   ]
  },
  {
   "cell_type": "code",
   "execution_count": 11,
   "metadata": {
    "collapsed": false,
    "scrolled": true
   },
   "outputs": [
    {
     "data": {
      "text/html": [
       "<div>\n",
       "<table border=\"1\" class=\"dataframe\">\n",
       "  <thead>\n",
       "    <tr style=\"text-align: right;\">\n",
       "      <th></th>\n",
       "      <th>red</th>\n",
       "      <th>brake</th>\n",
       "      <th>accel</th>\n",
       "      <th>steeringPositive</th>\n",
       "      <th>steeringNegative</th>\n",
       "      <th>segmentSize</th>\n",
       "      <th>sum</th>\n",
       "      <th>risk</th>\n",
       "    </tr>\n",
       "  </thead>\n",
       "  <tbody>\n",
       "    <tr>\n",
       "      <th>count</th>\n",
       "      <td>178.000000</td>\n",
       "      <td>178.000000</td>\n",
       "      <td>178.000000</td>\n",
       "      <td>178.000000</td>\n",
       "      <td>178.000000</td>\n",
       "      <td>178.000000</td>\n",
       "      <td>178.000000</td>\n",
       "      <td>178.000000</td>\n",
       "    </tr>\n",
       "    <tr>\n",
       "      <th>mean</th>\n",
       "      <td>26.443820</td>\n",
       "      <td>43.539326</td>\n",
       "      <td>64.213483</td>\n",
       "      <td>46.887640</td>\n",
       "      <td>74.511236</td>\n",
       "      <td>387.415730</td>\n",
       "      <td>255.595506</td>\n",
       "      <td>0.632504</td>\n",
       "    </tr>\n",
       "    <tr>\n",
       "      <th>std</th>\n",
       "      <td>43.534254</td>\n",
       "      <td>58.858454</td>\n",
       "      <td>74.016867</td>\n",
       "      <td>104.210233</td>\n",
       "      <td>206.214858</td>\n",
       "      <td>443.847694</td>\n",
       "      <td>339.807946</td>\n",
       "      <td>0.341437</td>\n",
       "    </tr>\n",
       "    <tr>\n",
       "      <th>min</th>\n",
       "      <td>0.000000</td>\n",
       "      <td>0.000000</td>\n",
       "      <td>0.000000</td>\n",
       "      <td>0.000000</td>\n",
       "      <td>0.000000</td>\n",
       "      <td>1.000000</td>\n",
       "      <td>0.000000</td>\n",
       "      <td>0.000000</td>\n",
       "    </tr>\n",
       "    <tr>\n",
       "      <th>25%</th>\n",
       "      <td>0.000000</td>\n",
       "      <td>1.000000</td>\n",
       "      <td>12.250000</td>\n",
       "      <td>0.000000</td>\n",
       "      <td>0.000000</td>\n",
       "      <td>116.750000</td>\n",
       "      <td>56.000000</td>\n",
       "      <td>0.367983</td>\n",
       "    </tr>\n",
       "    <tr>\n",
       "      <th>50%</th>\n",
       "      <td>5.000000</td>\n",
       "      <td>20.000000</td>\n",
       "      <td>28.000000</td>\n",
       "      <td>1.000000</td>\n",
       "      <td>2.000000</td>\n",
       "      <td>276.500000</td>\n",
       "      <td>153.000000</td>\n",
       "      <td>0.574862</td>\n",
       "    </tr>\n",
       "    <tr>\n",
       "      <th>75%</th>\n",
       "      <td>31.000000</td>\n",
       "      <td>62.000000</td>\n",
       "      <td>99.000000</td>\n",
       "      <td>26.000000</td>\n",
       "      <td>35.750000</td>\n",
       "      <td>466.500000</td>\n",
       "      <td>272.000000</td>\n",
       "      <td>0.794653</td>\n",
       "    </tr>\n",
       "    <tr>\n",
       "      <th>max</th>\n",
       "      <td>188.000000</td>\n",
       "      <td>313.000000</td>\n",
       "      <td>383.000000</td>\n",
       "      <td>521.000000</td>\n",
       "      <td>1455.000000</td>\n",
       "      <td>2529.000000</td>\n",
       "      <td>1872.000000</td>\n",
       "      <td>1.419142</td>\n",
       "    </tr>\n",
       "  </tbody>\n",
       "</table>\n",
       "</div>"
      ],
      "text/plain": [
       "              red       brake       accel  steeringPositive  steeringNegative  \\\n",
       "count  178.000000  178.000000  178.000000        178.000000        178.000000   \n",
       "mean    26.443820   43.539326   64.213483         46.887640         74.511236   \n",
       "std     43.534254   58.858454   74.016867        104.210233        206.214858   \n",
       "min      0.000000    0.000000    0.000000          0.000000          0.000000   \n",
       "25%      0.000000    1.000000   12.250000          0.000000          0.000000   \n",
       "50%      5.000000   20.000000   28.000000          1.000000          2.000000   \n",
       "75%     31.000000   62.000000   99.000000         26.000000         35.750000   \n",
       "max    188.000000  313.000000  383.000000        521.000000       1455.000000   \n",
       "\n",
       "       segmentSize          sum        risk  \n",
       "count   178.000000   178.000000  178.000000  \n",
       "mean    387.415730   255.595506    0.632504  \n",
       "std     443.847694   339.807946    0.341437  \n",
       "min       1.000000     0.000000    0.000000  \n",
       "25%     116.750000    56.000000    0.367983  \n",
       "50%     276.500000   153.000000    0.574862  \n",
       "75%     466.500000   272.000000    0.794653  \n",
       "max    2529.000000  1872.000000    1.419142  "
      ]
     },
     "execution_count": 11,
     "metadata": {},
     "output_type": "execute_result"
    }
   ],
   "source": [
    "mf.describe()"
   ]
  },
  {
   "cell_type": "code",
   "execution_count": 13,
   "metadata": {
    "collapsed": false,
    "scrolled": true
   },
   "outputs": [],
   "source": [
    "top5 = mf[mf[\"sum\"] > 40].sort_values(\"risk\", ascending=False)[:5]\n",
    "top5 = top5[[\"red\", \"brake\", \"accel\", \"steeringNegative\", \"steeringPositive\", \"sum\"]]\n",
    "\n",
    "for key in top5.columns:\n",
    "    if key == \"sum\":\n",
    "        continue\n",
    "    top5[key] = top5[key] / top5[\"sum\"]\n",
    "\n",
    "top5 = top5[[\"red\", \"brake\", \"accel\", \"steeringNegative\", \"steeringPositive\"]]\n",
    "top5Index = top5.index"
   ]
  },
  {
   "cell_type": "code",
   "execution_count": 14,
   "metadata": {
    "collapsed": false
   },
   "outputs": [
    {
     "data": {
      "text/plain": [
       "Int64Index([1337, 632, 1289, 182, 869], dtype='int64')"
      ]
     },
     "execution_count": 14,
     "metadata": {},
     "output_type": "execute_result"
    }
   ],
   "source": [
    "top5Index"
   ]
  },
  {
   "cell_type": "markdown",
   "metadata": {},
   "source": [
    "# Save"
   ]
  },
  {
   "cell_type": "code",
   "execution_count": 15,
   "metadata": {
    "collapsed": false
   },
   "outputs": [],
   "source": [
    "pred = zip(mf.index, mf[\"risk\"])\n",
    "result = np.zeros(gridSize)\n",
    "\n",
    "for index, risk in pred:\n",
    "    result[index] = risk\n",
    "    \n",
    "np.savetxt(targetDir + \"risks.csv\", result, delimiter=\",\", fmt=\"%f\")"
   ]
  },
  {
   "cell_type": "markdown",
   "metadata": {},
   "source": [
    "# Risk graph order by index"
   ]
  },
  {
   "cell_type": "code",
   "execution_count": 16,
   "metadata": {
    "collapsed": false
   },
   "outputs": [
    {
     "data": {
      "text/plain": [
       "<matplotlib.text.Text at 0x10bf31b50>"
      ]
     },
     "execution_count": 16,
     "metadata": {},
     "output_type": "execute_result"
    },
    {
     "data": {
      "image/png": "[encoded data removed]",
      "text/plain": [
       "<matplotlib.figure.Figure at 0x10be03950>"
      ]
     },
     "metadata": {},
     "output_type": "display_data"
    }
   ],
   "source": [
    "plt.plot(result)\n",
    "plt.ylim(0, 2.5)\n",
    "plt.xlabel(\"Grid index\", size=\"medium\")\n",
    "plt.ylabel(\"Risk\", size=\"medium\")"
   ]
  },
  {
   "cell_type": "code",
   "execution_count": null,
   "metadata": {
    "collapsed": true
   },
   "outputs": [],
   "source": []
  }
 ],
 "metadata": {
  "kernelspec": {
   "display_name": "Python 2",
   "language": "python",
   "name": "python2"
  },
  "language_info": {
   "codemirror_mode": {
    "name": "ipython",
    "version": 2
   },
   "file_extension": ".py",
   "mimetype": "text/x-python",
   "name": "python",
   "nbconvert_exporter": "python",
   "pygments_lexer": "ipython2",
   "version": "2.7.10"
  }
 },
 "nbformat": 4,
 "nbformat_minor": 1
}
