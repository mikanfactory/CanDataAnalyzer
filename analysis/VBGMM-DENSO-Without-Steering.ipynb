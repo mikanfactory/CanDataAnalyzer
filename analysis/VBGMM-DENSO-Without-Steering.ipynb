{
 "cells": [
  {
   "cell_type": "code",
   "execution_count": 1,
   "metadata": {
    "collapsed": false
   },
   "outputs": [],
   "source": [
    "%matplotlib inline"
   ]
  },
  {
   "cell_type": "code",
   "execution_count": 2,
   "metadata": {
    "collapsed": false
   },
   "outputs": [],
   "source": [
    "import numpy as np\n",
    "import pandas as pd\n",
    "import matplotlib.pyplot as plt\n",
    "import random\n",
    "import os\n",
    "import json\n",
    "import pprint\n",
    "from sklearn.mixture import BayesianGaussianMixture"
   ]
  },
  {
   "cell_type": "code",
   "execution_count": 3,
   "metadata": {
    "collapsed": false
   },
   "outputs": [],
   "source": [
    "import seaborn as sns\n",
    "sns.set(color_codes=True)"
   ]
  },
  {
   "cell_type": "markdown",
   "metadata": {},
   "source": [
    "# Preprocess"
   ]
  },
  {
   "cell_type": "markdown",
   "metadata": {},
   "source": [
    "### まず実験結果の読み込み"
   ]
  },
  {
   "cell_type": "code",
   "execution_count": 4,
   "metadata": {
    "collapsed": true
   },
   "outputs": [],
   "source": [
    "targetDir = \"../data/output/Result1/Result/\"\n",
    "speedDir = \"../data/output/Result1/Speed/\"\n",
    "brakeDir = \"../data/output/Result1/Brake/\"\n",
    "accelDIr = \"../data/output/Result1/Accel/\"\n",
    "accelOffDir = \"../data/output/Result1/AccelOff/\"\n",
    "turnRightDir = \"../data/output/Result1/TurnRight/\"\n",
    "turnLeftDir = \"../data/output/Result1/TurnLeft/\"\n",
    "manyCarDir = \"../data/output/Result1/ManyCars/\"\n",
    "middleCarDir = \"../data/output/Result1/MiddleCars/\"\n",
    "lessCarDir = \"../data/output/Result1/LessCars/\"\n",
    "afternoonSunMax = \"../data/output/Result1/AfternoonSunMax/\"\n",
    "afternoonSunMiddle = \"../data/output/Result1/AfternoonSunMiddle/\"\n",
    "afternoonSunMin = \"../data/output/Result1/AfternoonSunMin/\"\n",
    "cloudMax = \"../data/output/Result1/CloudMax/\"\n",
    "cloudMiddle = \"../data/output/Result1/CloudMiddle/\"\n",
    "cloudMin = \"../data/output/Result1/CloudMin/\""
   ]
  },
  {
   "cell_type": "markdown",
   "metadata": {},
   "source": [
    "### 読み込んだデータを元に data-frame を作成"
   ]
  },
  {
   "cell_type": "code",
   "execution_count": 5,
   "metadata": {
    "collapsed": false
   },
   "outputs": [],
   "source": [
    "df1 = pd.read_csv(speedDir + \"result.csv\")\n",
    "df1.columns = [[\"id\", \"slow\", \"green\", \"yellow\", \"red\"]]\n",
    "df2 = pd.read_csv(brakeDir + \"result.csv\")\n",
    "df2.columns = [[\"id\", \"brake\"]]\n",
    "df3 = pd.read_csv(accelDIr + \"result.csv\")\n",
    "df3.columns = [[\"id\", \"accel\"]]\n",
    "df4 = pd.read_csv(turnRightDir + \"result.csv\")\n",
    "df4.columns = [[\"id\", \"turnRight\"]]\n",
    "df5 = pd.read_csv(turnLeftDir + \"result.csv\")\n",
    "df5.columns = [[\"id\", \"turnLeft\"]]\n",
    "df6 = pd.read_csv(afternoonSunMax + \"result.csv\")\n",
    "df6.columns = [[\"id\", \"sunMax\"]]\n",
    "df7 = pd.read_csv(afternoonSunMiddle + \"result.csv\")\n",
    "df7.columns = [[\"id\", \"sunMiddle\"]]\n",
    "df8 = pd.read_csv(afternoonSunMin + \"result.csv\")\n",
    "df8.columns = [[\"id\", \"sunMin\"]]\n",
    "df9 = pd.read_csv(cloudMax + \"result.csv\")\n",
    "df9.columns = [[\"id\", \"cloudMax\"]]\n",
    "df10 = pd.read_csv(cloudMiddle + \"result.csv\")\n",
    "df10.columns = [[\"id\", \"cloudMiddle\"]]\n",
    "df11 = pd.read_csv(cloudMin + \"result.csv\")\n",
    "df11.columns = [[\"id\", \"cloudMin\"]]\n",
    "df12 = pd.read_csv(manyCarDir + \"result.csv\")\n",
    "df12.columns = [[\"id\", \"manyCars\"]]\n",
    "df13 = pd.read_csv(middleCarDir + \"result.csv\")\n",
    "df13.columns = [[\"id\", \"middleCars\"]]\n",
    "df14 = pd.read_csv(lessCarDir + \"result.csv\")\n",
    "df14.columns = [[\"id\", \"lessCars\"]]"
   ]
  },
  {
   "cell_type": "markdown",
   "metadata": {},
   "source": [
    "### Merge"
   ]
  },
  {
   "cell_type": "code",
   "execution_count": 6,
   "metadata": {
    "collapsed": true
   },
   "outputs": [],
   "source": [
    "def mergeFrames(dfs, key=\"id\"):\n",
    "    if len(dfs) == 0:\n",
    "        return pd.DataFrame()\n",
    "    \n",
    "    acc = dfs[0]\n",
    "    for df in dfs[1:]:\n",
    "        acc = pd.merge(acc, df, on=\"id\")\n",
    "        \n",
    "    return acc"
   ]
  },
  {
   "cell_type": "code",
   "execution_count": 7,
   "metadata": {
    "collapsed": false
   },
   "outputs": [],
   "source": [
    "df = mergeFrames([df1, df2, df3, df6, df7, df8, df9, df10, df11, df12, df13, df14])\n",
    "gridSize = len(df)"
   ]
  },
  {
   "cell_type": "markdown",
   "metadata": {},
   "source": [
    "### Rename"
   ]
  },
  {
   "cell_type": "code",
   "execution_count": 8,
   "metadata": {
    "collapsed": true
   },
   "outputs": [],
   "source": [
    "features =  [\n",
    "    \"red\",  \"yellow\",  \"green\", \"slow\", \n",
    "    \"brake\", \"accel\", \n",
    "    \"sunMax\", \"sunMiddle\", \"sunMin\",\n",
    "    \"cloudMax\", \"cloudMiddle\", \"cloudMin\",\n",
    "    \"manyCars\", \"middleCars\", \"lessCars\"\n",
    "]"
   ]
  },
  {
   "cell_type": "markdown",
   "metadata": {},
   "source": [
    "### 必要なデータだけ取り出す (通った経路だけ)"
   ]
  },
  {
   "cell_type": "code",
   "execution_count": 9,
   "metadata": {
    "collapsed": false
   },
   "outputs": [],
   "source": [
    "mf = df[df['red'] + df['yellow'] + df['green'] + df['slow'] > 0]\n",
    "mf = mf[features]"
   ]
  },
  {
   "cell_type": "markdown",
   "metadata": {},
   "source": [
    "### 確認"
   ]
  },
  {
   "cell_type": "code",
   "execution_count": 10,
   "metadata": {
    "collapsed": false,
    "scrolled": true
   },
   "outputs": [
    {
     "data": {
      "text/html": [
       "<div>\n",
       "<table border=\"1\" class=\"dataframe\">\n",
       "  <thead>\n",
       "    <tr style=\"text-align: right;\">\n",
       "      <th></th>\n",
       "      <th>red</th>\n",
       "      <th>yellow</th>\n",
       "      <th>green</th>\n",
       "      <th>slow</th>\n",
       "      <th>brake</th>\n",
       "      <th>accel</th>\n",
       "      <th>sunMax</th>\n",
       "      <th>sunMiddle</th>\n",
       "      <th>sunMin</th>\n",
       "      <th>cloudMax</th>\n",
       "      <th>cloudMiddle</th>\n",
       "      <th>cloudMin</th>\n",
       "      <th>manyCars</th>\n",
       "      <th>middleCars</th>\n",
       "      <th>lessCars</th>\n",
       "    </tr>\n",
       "  </thead>\n",
       "  <tbody>\n",
       "    <tr>\n",
       "      <th>count</th>\n",
       "      <td>123.000000</td>\n",
       "      <td>123.000000</td>\n",
       "      <td>123.000000</td>\n",
       "      <td>123.000000</td>\n",
       "      <td>123.000000</td>\n",
       "      <td>123.000000</td>\n",
       "      <td>123.000000</td>\n",
       "      <td>123.000000</td>\n",
       "      <td>123.000000</td>\n",
       "      <td>123.000000</td>\n",
       "      <td>123.000000</td>\n",
       "      <td>123.000000</td>\n",
       "      <td>123.000000</td>\n",
       "      <td>123.000000</td>\n",
       "      <td>123.000000</td>\n",
       "    </tr>\n",
       "    <tr>\n",
       "      <th>mean</th>\n",
       "      <td>11.991870</td>\n",
       "      <td>133.609756</td>\n",
       "      <td>78.211382</td>\n",
       "      <td>155.894309</td>\n",
       "      <td>8.634146</td>\n",
       "      <td>18.048780</td>\n",
       "      <td>101.243902</td>\n",
       "      <td>83.552846</td>\n",
       "      <td>194.910569</td>\n",
       "      <td>134.406504</td>\n",
       "      <td>52.666667</td>\n",
       "      <td>192.634146</td>\n",
       "      <td>65.414634</td>\n",
       "      <td>36.390244</td>\n",
       "      <td>277.902439</td>\n",
       "    </tr>\n",
       "    <tr>\n",
       "      <th>std</th>\n",
       "      <td>29.764512</td>\n",
       "      <td>83.804675</td>\n",
       "      <td>116.664311</td>\n",
       "      <td>492.554180</td>\n",
       "      <td>11.072983</td>\n",
       "      <td>14.551691</td>\n",
       "      <td>136.674397</td>\n",
       "      <td>94.135776</td>\n",
       "      <td>414.956881</td>\n",
       "      <td>168.708490</td>\n",
       "      <td>51.929755</td>\n",
       "      <td>420.551575</td>\n",
       "      <td>72.397234</td>\n",
       "      <td>34.061091</td>\n",
       "      <td>491.127398</td>\n",
       "    </tr>\n",
       "    <tr>\n",
       "      <th>min</th>\n",
       "      <td>0.000000</td>\n",
       "      <td>0.000000</td>\n",
       "      <td>0.000000</td>\n",
       "      <td>0.000000</td>\n",
       "      <td>0.000000</td>\n",
       "      <td>0.000000</td>\n",
       "      <td>0.000000</td>\n",
       "      <td>0.000000</td>\n",
       "      <td>0.000000</td>\n",
       "      <td>1.000000</td>\n",
       "      <td>0.000000</td>\n",
       "      <td>0.000000</td>\n",
       "      <td>0.000000</td>\n",
       "      <td>0.000000</td>\n",
       "      <td>1.000000</td>\n",
       "    </tr>\n",
       "    <tr>\n",
       "      <th>25%</th>\n",
       "      <td>0.000000</td>\n",
       "      <td>81.000000</td>\n",
       "      <td>0.000000</td>\n",
       "      <td>0.000000</td>\n",
       "      <td>0.000000</td>\n",
       "      <td>6.000000</td>\n",
       "      <td>13.000000</td>\n",
       "      <td>25.500000</td>\n",
       "      <td>62.000000</td>\n",
       "      <td>29.000000</td>\n",
       "      <td>17.000000</td>\n",
       "      <td>46.000000</td>\n",
       "      <td>21.500000</td>\n",
       "      <td>15.000000</td>\n",
       "      <td>85.000000</td>\n",
       "    </tr>\n",
       "    <tr>\n",
       "      <th>50%</th>\n",
       "      <td>0.000000</td>\n",
       "      <td>119.000000</td>\n",
       "      <td>12.000000</td>\n",
       "      <td>0.000000</td>\n",
       "      <td>4.000000</td>\n",
       "      <td>15.000000</td>\n",
       "      <td>43.000000</td>\n",
       "      <td>57.000000</td>\n",
       "      <td>107.000000</td>\n",
       "      <td>79.000000</td>\n",
       "      <td>35.000000</td>\n",
       "      <td>99.000000</td>\n",
       "      <td>37.000000</td>\n",
       "      <td>26.000000</td>\n",
       "      <td>158.000000</td>\n",
       "    </tr>\n",
       "    <tr>\n",
       "      <th>75%</th>\n",
       "      <td>3.000000</td>\n",
       "      <td>189.000000</td>\n",
       "      <td>138.500000</td>\n",
       "      <td>71.500000</td>\n",
       "      <td>13.500000</td>\n",
       "      <td>26.000000</td>\n",
       "      <td>139.500000</td>\n",
       "      <td>107.500000</td>\n",
       "      <td>169.000000</td>\n",
       "      <td>164.500000</td>\n",
       "      <td>71.000000</td>\n",
       "      <td>173.500000</td>\n",
       "      <td>89.000000</td>\n",
       "      <td>46.000000</td>\n",
       "      <td>234.500000</td>\n",
       "    </tr>\n",
       "    <tr>\n",
       "      <th>max</th>\n",
       "      <td>129.000000</td>\n",
       "      <td>392.000000</td>\n",
       "      <td>544.000000</td>\n",
       "      <td>3831.000000</td>\n",
       "      <td>57.000000</td>\n",
       "      <td>69.000000</td>\n",
       "      <td>729.000000</td>\n",
       "      <td>669.000000</td>\n",
       "      <td>3571.000000</td>\n",
       "      <td>914.000000</td>\n",
       "      <td>293.000000</td>\n",
       "      <td>3557.000000</td>\n",
       "      <td>464.000000</td>\n",
       "      <td>209.000000</td>\n",
       "      <td>4040.000000</td>\n",
       "    </tr>\n",
       "  </tbody>\n",
       "</table>\n",
       "</div>"
      ],
      "text/plain": [
       "              red      yellow       green         slow       brake  \\\n",
       "count  123.000000  123.000000  123.000000   123.000000  123.000000   \n",
       "mean    11.991870  133.609756   78.211382   155.894309    8.634146   \n",
       "std     29.764512   83.804675  116.664311   492.554180   11.072983   \n",
       "min      0.000000    0.000000    0.000000     0.000000    0.000000   \n",
       "25%      0.000000   81.000000    0.000000     0.000000    0.000000   \n",
       "50%      0.000000  119.000000   12.000000     0.000000    4.000000   \n",
       "75%      3.000000  189.000000  138.500000    71.500000   13.500000   \n",
       "max    129.000000  392.000000  544.000000  3831.000000   57.000000   \n",
       "\n",
       "            accel      sunMax   sunMiddle       sunMin    cloudMax  \\\n",
       "count  123.000000  123.000000  123.000000   123.000000  123.000000   \n",
       "mean    18.048780  101.243902   83.552846   194.910569  134.406504   \n",
       "std     14.551691  136.674397   94.135776   414.956881  168.708490   \n",
       "min      0.000000    0.000000    0.000000     0.000000    1.000000   \n",
       "25%      6.000000   13.000000   25.500000    62.000000   29.000000   \n",
       "50%     15.000000   43.000000   57.000000   107.000000   79.000000   \n",
       "75%     26.000000  139.500000  107.500000   169.000000  164.500000   \n",
       "max     69.000000  729.000000  669.000000  3571.000000  914.000000   \n",
       "\n",
       "       cloudMiddle     cloudMin    manyCars  middleCars     lessCars  \n",
       "count   123.000000   123.000000  123.000000  123.000000   123.000000  \n",
       "mean     52.666667   192.634146   65.414634   36.390244   277.902439  \n",
       "std      51.929755   420.551575   72.397234   34.061091   491.127398  \n",
       "min       0.000000     0.000000    0.000000    0.000000     1.000000  \n",
       "25%      17.000000    46.000000   21.500000   15.000000    85.000000  \n",
       "50%      35.000000    99.000000   37.000000   26.000000   158.000000  \n",
       "75%      71.000000   173.500000   89.000000   46.000000   234.500000  \n",
       "max     293.000000  3557.000000  464.000000  209.000000  4040.000000  "
      ]
     },
     "execution_count": 10,
     "metadata": {},
     "output_type": "execute_result"
    }
   ],
   "source": [
    "mf.describe()"
   ]
  },
  {
   "cell_type": "code",
   "execution_count": 11,
   "metadata": {
    "collapsed": true
   },
   "outputs": [],
   "source": [
    "# colors = [\n",
    "#   \"#FE2400\",\n",
    "#   \"#B21D72\",\n",
    "#   \"#5023D0\",\n",
    "#   \"#247395\",\n",
    "#   \"#FFFF01\",\n",
    "#   \"#FEAF07\",\n",
    "#   \"#247395\",\n",
    "# ]"
   ]
  },
  {
   "cell_type": "code",
   "execution_count": 12,
   "metadata": {
    "collapsed": true
   },
   "outputs": [],
   "source": [
    "colors = [\n",
    "    \"#FE2400\",\n",
    "    \"#EC2127\",\n",
    "    \"#D21E4E\",\n",
    "    \"#B21D72\",\n",
    "    \"#951E93\",\n",
    "    \"#7421B1\",\n",
    "    \"#5023D0\",\n",
    "    \"#3025EA\",\n",
    "    \"#082EFD\",\n",
    "    \"#1147CE\",\n",
    "    \"#247395\",\n",
    "    \"#389D51\",\n",
    "    \"#49C900\",\n",
    "    \"#81D503\",\n",
    "    \"#AFE400\",\n",
    "    \"#DAF201\",\n",
    "    \"#FFFF01\",\n",
    "    \"#FEE600\",\n",
    "    \"#FECD02\",\n",
    "    \"#FEAF07\",\n",
    "    \"#FF9400\",\n",
    "    \"#FE7701\",\n",
    "    \"#FD5800\",\n",
    "    \"#FF3900\",\n",
    "]"
   ]
  },
  {
   "cell_type": "markdown",
   "metadata": {},
   "source": [
    "# VBGMM"
   ]
  },
  {
   "cell_type": "markdown",
   "metadata": {},
   "source": [
    "### 各特徴料を正規化する下準備"
   ]
  },
  {
   "cell_type": "code",
   "execution_count": 13,
   "metadata": {
    "collapsed": true
   },
   "outputs": [],
   "source": [
    "normedFeatures = [\n",
    "    \"red\",  \"yellow\",  \"green\",\n",
    "    \"brake\", \"accel\", \n",
    "    \"sunMax\", \"sunMiddle\",\n",
    "    \"cloudMax\", \"cloudMiddle\",\n",
    "    \"manyCars\", \"middleCars\"\n",
    "]"
   ]
  },
  {
   "cell_type": "code",
   "execution_count": 14,
   "metadata": {
    "collapsed": true
   },
   "outputs": [],
   "source": [
    "speeds = [\"red\", \"yellow\", \"green\", \"slow\"]\n",
    "pedals = [\"brake\", \"accel\"]\n",
    "suns = [\"sunMax\", \"sunMiddle\", \"sunMin\",]\n",
    "clouds = [\"cloudMax\", \"cloudMiddle\", \"cloudMin\",]\n",
    "detectCars = [\"manyCars\", \"middleCars\", \"lessCars\"]"
   ]
  },
  {
   "cell_type": "markdown",
   "metadata": {},
   "source": [
    "### 各特徴料を正規化"
   ]
  },
  {
   "cell_type": "code",
   "execution_count": 15,
   "metadata": {
    "collapsed": false
   },
   "outputs": [],
   "source": [
    "bf = mf.copy()\n",
    "bf[\"sumSpeed\"] = bf[\"red\"] + bf[\"yellow\"] + bf[\"green\"] + bf[\"slow\"]\n",
    "bf[\"sumPedal\"] = bf[\"brake\"] + bf[\"accel\"] \n",
    "bf[\"sumSuns\"] = bf[\"sunMax\"] + bf[\"sunMiddle\"] + bf[\"sunMin\"]\n",
    "bf[\"sumClouds\"] = bf[\"cloudMax\"] + bf[\"cloudMiddle\"] + bf[\"cloudMin\"]\n",
    "bf[\"sumDetect\"] = bf[\"manyCars\"] + bf[\"middleCars\"] + bf[\"lessCars\"]\n",
    "\n",
    "for key in speeds:\n",
    "    bf[key] = bf[key] / bf[\"sumSpeed\"]\n",
    "    \n",
    "for key in pedals:\n",
    "    bf[key] = bf[key] / bf[\"sumPedal\"]\n",
    "\n",
    "for key in suns:\n",
    "    bf[key] = bf[key] /bf[\"sumSuns\"]\n",
    "    \n",
    "for key in clouds:\n",
    "    bf[key] = bf[key] /bf[\"sumClouds\"]\n",
    "\n",
    "for key in detectCars:\n",
    "    bf[key] = bf[key] /bf[\"sumDetect\"]\n",
    "    \n",
    "bf = bf.fillna(0)    \n",
    "    \n",
    "# bf = bf[features]\n",
    "bf = bf[normedFeatures]"
   ]
  },
  {
   "cell_type": "code",
   "execution_count": 16,
   "metadata": {
    "collapsed": false
   },
   "outputs": [
    {
     "data": {
      "text/html": [
       "<div>\n",
       "<table border=\"1\" class=\"dataframe\">\n",
       "  <thead>\n",
       "    <tr style=\"text-align: right;\">\n",
       "      <th></th>\n",
       "      <th>red</th>\n",
       "      <th>yellow</th>\n",
       "      <th>green</th>\n",
       "      <th>brake</th>\n",
       "      <th>accel</th>\n",
       "      <th>sunMax</th>\n",
       "      <th>sunMiddle</th>\n",
       "      <th>cloudMax</th>\n",
       "      <th>cloudMiddle</th>\n",
       "      <th>manyCars</th>\n",
       "      <th>middleCars</th>\n",
       "    </tr>\n",
       "  </thead>\n",
       "  <tbody>\n",
       "    <tr>\n",
       "      <th>count</th>\n",
       "      <td>123.000000</td>\n",
       "      <td>123.000000</td>\n",
       "      <td>123.000000</td>\n",
       "      <td>123.000000</td>\n",
       "      <td>123.000000</td>\n",
       "      <td>123.000000</td>\n",
       "      <td>123.000000</td>\n",
       "      <td>123.000000</td>\n",
       "      <td>123.000000</td>\n",
       "      <td>123.000000</td>\n",
       "      <td>123.000000</td>\n",
       "    </tr>\n",
       "    <tr>\n",
       "      <th>mean</th>\n",
       "      <td>0.080068</td>\n",
       "      <td>0.590656</td>\n",
       "      <td>0.173269</td>\n",
       "      <td>0.226762</td>\n",
       "      <td>0.756977</td>\n",
       "      <td>0.260159</td>\n",
       "      <td>0.250583</td>\n",
       "      <td>0.363240</td>\n",
       "      <td>0.173227</td>\n",
       "      <td>0.196625</td>\n",
       "      <td>0.116595</td>\n",
       "    </tr>\n",
       "    <tr>\n",
       "      <th>std</th>\n",
       "      <td>0.173157</td>\n",
       "      <td>0.339190</td>\n",
       "      <td>0.210690</td>\n",
       "      <td>0.222738</td>\n",
       "      <td>0.241463</td>\n",
       "      <td>0.183125</td>\n",
       "      <td>0.120910</td>\n",
       "      <td>0.200093</td>\n",
       "      <td>0.096777</td>\n",
       "      <td>0.108029</td>\n",
       "      <td>0.046423</td>\n",
       "    </tr>\n",
       "    <tr>\n",
       "      <th>min</th>\n",
       "      <td>0.000000</td>\n",
       "      <td>0.000000</td>\n",
       "      <td>0.000000</td>\n",
       "      <td>0.000000</td>\n",
       "      <td>0.000000</td>\n",
       "      <td>0.000000</td>\n",
       "      <td>0.000000</td>\n",
       "      <td>0.015075</td>\n",
       "      <td>0.000000</td>\n",
       "      <td>0.000000</td>\n",
       "      <td>0.000000</td>\n",
       "    </tr>\n",
       "    <tr>\n",
       "      <th>25%</th>\n",
       "      <td>0.000000</td>\n",
       "      <td>0.284895</td>\n",
       "      <td>0.000000</td>\n",
       "      <td>0.000000</td>\n",
       "      <td>0.608696</td>\n",
       "      <td>0.086923</td>\n",
       "      <td>0.158286</td>\n",
       "      <td>0.190014</td>\n",
       "      <td>0.102174</td>\n",
       "      <td>0.130467</td>\n",
       "      <td>0.086857</td>\n",
       "    </tr>\n",
       "    <tr>\n",
       "      <th>50%</th>\n",
       "      <td>0.000000</td>\n",
       "      <td>0.566667</td>\n",
       "      <td>0.058252</td>\n",
       "      <td>0.200000</td>\n",
       "      <td>0.777778</td>\n",
       "      <td>0.259259</td>\n",
       "      <td>0.246575</td>\n",
       "      <td>0.399314</td>\n",
       "      <td>0.160237</td>\n",
       "      <td>0.167127</td>\n",
       "      <td>0.112821</td>\n",
       "    </tr>\n",
       "    <tr>\n",
       "      <th>75%</th>\n",
       "      <td>0.019141</td>\n",
       "      <td>0.941462</td>\n",
       "      <td>0.310593</td>\n",
       "      <td>0.385354</td>\n",
       "      <td>1.000000</td>\n",
       "      <td>0.404749</td>\n",
       "      <td>0.311382</td>\n",
       "      <td>0.487189</td>\n",
       "      <td>0.232524</td>\n",
       "      <td>0.243448</td>\n",
       "      <td>0.146257</td>\n",
       "    </tr>\n",
       "    <tr>\n",
       "      <th>max</th>\n",
       "      <td>0.592593</td>\n",
       "      <td>1.000000</td>\n",
       "      <td>1.000000</td>\n",
       "      <td>0.954545</td>\n",
       "      <td>1.000000</td>\n",
       "      <td>1.000000</td>\n",
       "      <td>1.000000</td>\n",
       "      <td>1.000000</td>\n",
       "      <td>0.666667</td>\n",
       "      <td>0.581818</td>\n",
       "      <td>0.235294</td>\n",
       "    </tr>\n",
       "  </tbody>\n",
       "</table>\n",
       "</div>"
      ],
      "text/plain": [
       "              red      yellow       green       brake       accel      sunMax  \\\n",
       "count  123.000000  123.000000  123.000000  123.000000  123.000000  123.000000   \n",
       "mean     0.080068    0.590656    0.173269    0.226762    0.756977    0.260159   \n",
       "std      0.173157    0.339190    0.210690    0.222738    0.241463    0.183125   \n",
       "min      0.000000    0.000000    0.000000    0.000000    0.000000    0.000000   \n",
       "25%      0.000000    0.284895    0.000000    0.000000    0.608696    0.086923   \n",
       "50%      0.000000    0.566667    0.058252    0.200000    0.777778    0.259259   \n",
       "75%      0.019141    0.941462    0.310593    0.385354    1.000000    0.404749   \n",
       "max      0.592593    1.000000    1.000000    0.954545    1.000000    1.000000   \n",
       "\n",
       "        sunMiddle    cloudMax  cloudMiddle    manyCars  middleCars  \n",
       "count  123.000000  123.000000   123.000000  123.000000  123.000000  \n",
       "mean     0.250583    0.363240     0.173227    0.196625    0.116595  \n",
       "std      0.120910    0.200093     0.096777    0.108029    0.046423  \n",
       "min      0.000000    0.015075     0.000000    0.000000    0.000000  \n",
       "25%      0.158286    0.190014     0.102174    0.130467    0.086857  \n",
       "50%      0.246575    0.399314     0.160237    0.167127    0.112821  \n",
       "75%      0.311382    0.487189     0.232524    0.243448    0.146257  \n",
       "max      1.000000    1.000000     0.666667    0.581818    0.235294  "
      ]
     },
     "execution_count": 16,
     "metadata": {},
     "output_type": "execute_result"
    }
   ],
   "source": [
    "bf.describe()"
   ]
  },
  {
   "cell_type": "markdown",
   "metadata": {},
   "source": [
    "### ハイパーパラメータの設定"
   ]
  },
  {
   "cell_type": "code",
   "execution_count": 17,
   "metadata": {
    "collapsed": false
   },
   "outputs": [],
   "source": [
    "components = 24\n",
    "prior = 0.01\n",
    "cov_type = 'full'\n",
    "cov_p_v = 0.08\n",
    "cov_prior = cov_p_v * np.identity(len(normedFeatures))\n",
    "max_iter = 200"
   ]
  },
  {
   "cell_type": "markdown",
   "metadata": {},
   "source": [
    "### 一番良い seed 値をグリッドサーチする"
   ]
  },
  {
   "cell_type": "code",
   "execution_count": 18,
   "metadata": {
    "collapsed": false
   },
   "outputs": [
    {
     "name": "stdout",
     "output_type": "stream",
     "text": [
      "[{'classes': 17, 'lower bounds': 7027.2989881638314, 'seed': 13},\n",
      " {'classes': 16, 'lower bounds': 7081.8163150199562, 'seed': 16},\n",
      " {'classes': 14, 'lower bounds': 7119.6739353074154, 'seed': 18},\n",
      " {'classes': 15, 'lower bounds': 7123.3777118591352, 'seed': 17},\n",
      " {'classes': 13, 'lower bounds': 7144.7640932877912, 'seed': 0},\n",
      " {'classes': 12, 'lower bounds': 7162.2757684556409, 'seed': 10},\n",
      " {'classes': 12, 'lower bounds': 7175.5670276066503, 'seed': 2},\n",
      " {'classes': 10, 'lower bounds': 7181.3128752691136, 'seed': 15},\n",
      " {'classes': 9, 'lower bounds': 7208.3267036575444, 'seed': 9},\n",
      " {'classes': 12, 'lower bounds': 7209.7104968445838, 'seed': 6},\n",
      " {'classes': 9, 'lower bounds': 7228.2663506776425, 'seed': 8},\n",
      " {'classes': 11, 'lower bounds': 7236.554109618929, 'seed': 4},\n",
      " {'classes': 10, 'lower bounds': 7237.8676258115847, 'seed': 1},\n",
      " {'classes': 10, 'lower bounds': 7238.9420660824271, 'seed': 7},\n",
      " {'classes': 9, 'lower bounds': 7249.859540437551, 'seed': 14},\n",
      " {'classes': 10, 'lower bounds': 7251.0854419364723, 'seed': 19},\n",
      " {'classes': 9, 'lower bounds': 7267.6672724221708, 'seed': 3},\n",
      " {'classes': 6, 'lower bounds': 7304.1073431213672, 'seed': 11},\n",
      " {'classes': 7, 'lower bounds': 7315.2966608280458, 'seed': 5},\n",
      " {'classes': 8, 'lower bounds': 7334.3962968808364, 'seed': 12}]\n"
     ]
    }
   ],
   "source": [
    "def gridSearch():\n",
    "    result = []\n",
    "    for k in range(20):\n",
    "        sd = k\n",
    "        np.random.seed(sd)\n",
    "        random.seed(sd)\n",
    "    \n",
    "        vb = BayesianGaussianMixture(\n",
    "            n_components=components,\n",
    "            weight_concentration_prior=prior, \n",
    "            covariance_type=cov_type,\n",
    "            covariance_prior=cov_prior,\n",
    "            max_iter=max_iter\n",
    "        ).fit(bf)\n",
    "        result.append({\n",
    "                \"seed\": sd,\n",
    "                \"classes\": len(set(vb.predict(bf))),\n",
    "                \"lower bounds\": vb.lower_bound_\n",
    "        })\n",
    "\n",
    "    return sorted(result, key=lambda res: res[\"lower bounds\"])\n",
    "\n",
    "pprint.pprint(gridSearch())"
   ]
  },
  {
   "cell_type": "markdown",
   "metadata": {},
   "source": [
    "### 上で得られた一番良いシード値に設定"
   ]
  },
  {
   "cell_type": "code",
   "execution_count": 19,
   "metadata": {
    "collapsed": false
   },
   "outputs": [],
   "source": [
    "sd = 16\n",
    "np.random.seed(sd)\n",
    "random.seed(sd)"
   ]
  },
  {
   "cell_type": "markdown",
   "metadata": {},
   "source": [
    "### 実際に Bayesian Gaussian Mixture mode でクラスタリング"
   ]
  },
  {
   "cell_type": "code",
   "execution_count": 20,
   "metadata": {
    "collapsed": false,
    "scrolled": true
   },
   "outputs": [
    {
     "name": "stdout",
     "output_type": "stream",
     "text": [
      "class size:       16\n",
      "classes:           set([0, 2, 3, 6, 9, 10, 11, 12, 14, 17, 18, 19, 20, 21, 22, 23])\n",
      "lower bound:  7081.81631502\n"
     ]
    }
   ],
   "source": [
    "vb = BayesianGaussianMixture(\n",
    "    n_components=components,\n",
    "    weight_concentration_prior=prior, \n",
    "    covariance_type=cov_type,\n",
    "    covariance_prior=cov_prior,\n",
    "    max_iter=max_iter    \n",
    ").fit(bf)\n",
    "print \"class size:      \", len(set(vb.predict(bf)))\n",
    "print \"classes:          \", set(vb.predict(bf))\n",
    "print \"lower bound: \", vb.lower_bound_"
   ]
  },
  {
   "cell_type": "markdown",
   "metadata": {},
   "source": [
    "### 結果の確認"
   ]
  },
  {
   "cell_type": "code",
   "execution_count": 21,
   "metadata": {
    "collapsed": false,
    "scrolled": true
   },
   "outputs": [
    {
     "data": {
      "text/plain": [
       "array([ 0.02418705,  0.00799824,  0.01586377,  0.11803621,  0.00779361,\n",
       "        0.00772078,  0.02955622,  0.00757518,  0.00750244,  0.01486083,\n",
       "        0.02204212,  0.01457128,  0.32947706,  0.00708283,  0.0138514 ,\n",
       "        0.00682747,  0.00670214,  0.03287462,  0.02543111,  0.01262627,\n",
       "        0.02467526,  0.01211147,  0.01166583,  0.23896679])"
      ]
     },
     "execution_count": 21,
     "metadata": {},
     "output_type": "execute_result"
    }
   ],
   "source": [
    "vb.weights_"
   ]
  },
  {
   "cell_type": "code",
   "execution_count": 22,
   "metadata": {
    "collapsed": false
   },
   "outputs": [],
   "source": [
    "ws = [\"%02f\" % w for w in vb.weights_]"
   ]
  },
  {
   "cell_type": "code",
   "execution_count": 23,
   "metadata": {
    "collapsed": false,
    "scrolled": false
   },
   "outputs": [
    {
     "data": {
      "text/html": [
       "<div>\n",
       "<table border=\"1\" class=\"dataframe\">\n",
       "  <thead>\n",
       "    <tr style=\"text-align: right;\">\n",
       "      <th></th>\n",
       "      <th>red</th>\n",
       "      <th>yellow</th>\n",
       "      <th>green</th>\n",
       "      <th>brake</th>\n",
       "      <th>accel</th>\n",
       "      <th>sunMax</th>\n",
       "      <th>sunMiddle</th>\n",
       "      <th>cloudMax</th>\n",
       "      <th>cloudMiddle</th>\n",
       "      <th>manyCars</th>\n",
       "      <th>middleCars</th>\n",
       "      <th>slow</th>\n",
       "      <th>sunMin</th>\n",
       "      <th>cloudMin</th>\n",
       "      <th>lessCars</th>\n",
       "      <th>weight</th>\n",
       "    </tr>\n",
       "  </thead>\n",
       "  <tbody>\n",
       "    <tr>\n",
       "      <th>12</th>\n",
       "      <td>0.001753</td>\n",
       "      <td>0.282623</td>\n",
       "      <td>0.361228</td>\n",
       "      <td>0.352778</td>\n",
       "      <td>0.646866</td>\n",
       "      <td>0.351722</td>\n",
       "      <td>0.257471</td>\n",
       "      <td>0.446298</td>\n",
       "      <td>0.182334</td>\n",
       "      <td>0.199841</td>\n",
       "      <td>0.106734</td>\n",
       "      <td>0.354396</td>\n",
       "      <td>0.390806</td>\n",
       "      <td>0.371368</td>\n",
       "      <td>0.693425</td>\n",
       "      <td>0.329477</td>\n",
       "    </tr>\n",
       "    <tr>\n",
       "      <th>23</th>\n",
       "      <td>0.015682</td>\n",
       "      <td>0.918514</td>\n",
       "      <td>0.050487</td>\n",
       "      <td>0.123497</td>\n",
       "      <td>0.876112</td>\n",
       "      <td>0.233551</td>\n",
       "      <td>0.264143</td>\n",
       "      <td>0.335210</td>\n",
       "      <td>0.167486</td>\n",
       "      <td>0.168100</td>\n",
       "      <td>0.121463</td>\n",
       "      <td>0.015317</td>\n",
       "      <td>0.502305</td>\n",
       "      <td>0.497305</td>\n",
       "      <td>0.710436</td>\n",
       "      <td>0.238967</td>\n",
       "    </tr>\n",
       "    <tr>\n",
       "      <th>3</th>\n",
       "      <td>0.467530</td>\n",
       "      <td>0.510519</td>\n",
       "      <td>0.011552</td>\n",
       "      <td>0.015126</td>\n",
       "      <td>0.983790</td>\n",
       "      <td>0.070694</td>\n",
       "      <td>0.145745</td>\n",
       "      <td>0.186035</td>\n",
       "      <td>0.135114</td>\n",
       "      <td>0.164202</td>\n",
       "      <td>0.129448</td>\n",
       "      <td>0.010399</td>\n",
       "      <td>0.783561</td>\n",
       "      <td>0.678851</td>\n",
       "      <td>0.706350</td>\n",
       "      <td>0.118036</td>\n",
       "    </tr>\n",
       "    <tr>\n",
       "      <th>17</th>\n",
       "      <td>0.353806</td>\n",
       "      <td>0.575362</td>\n",
       "      <td>0.039610</td>\n",
       "      <td>0.095672</td>\n",
       "      <td>0.901074</td>\n",
       "      <td>0.162343</td>\n",
       "      <td>0.316191</td>\n",
       "      <td>0.463669</td>\n",
       "      <td>0.139559</td>\n",
       "      <td>0.171433</td>\n",
       "      <td>0.108032</td>\n",
       "      <td>0.031223</td>\n",
       "      <td>0.521466</td>\n",
       "      <td>0.396772</td>\n",
       "      <td>0.720535</td>\n",
       "      <td>0.032875</td>\n",
       "    </tr>\n",
       "    <tr>\n",
       "      <th>6</th>\n",
       "      <td>0.100749</td>\n",
       "      <td>0.795788</td>\n",
       "      <td>0.063088</td>\n",
       "      <td>0.498235</td>\n",
       "      <td>0.497557</td>\n",
       "      <td>0.161435</td>\n",
       "      <td>0.244643</td>\n",
       "      <td>0.347847</td>\n",
       "      <td>0.200054</td>\n",
       "      <td>0.215669</td>\n",
       "      <td>0.145366</td>\n",
       "      <td>0.040376</td>\n",
       "      <td>0.593923</td>\n",
       "      <td>0.452099</td>\n",
       "      <td>0.638965</td>\n",
       "      <td>0.029556</td>\n",
       "    </tr>\n",
       "    <tr>\n",
       "      <th>18</th>\n",
       "      <td>0.103080</td>\n",
       "      <td>0.813394</td>\n",
       "      <td>0.043953</td>\n",
       "      <td>0.099745</td>\n",
       "      <td>0.896132</td>\n",
       "      <td>0.371309</td>\n",
       "      <td>0.171115</td>\n",
       "      <td>0.424189</td>\n",
       "      <td>0.177975</td>\n",
       "      <td>0.320335</td>\n",
       "      <td>0.155662</td>\n",
       "      <td>0.039573</td>\n",
       "      <td>0.457576</td>\n",
       "      <td>0.397836</td>\n",
       "      <td>0.524003</td>\n",
       "      <td>0.025431</td>\n",
       "    </tr>\n",
       "    <tr>\n",
       "      <th>20</th>\n",
       "      <td>0.024597</td>\n",
       "      <td>0.859288</td>\n",
       "      <td>0.077057</td>\n",
       "      <td>0.119737</td>\n",
       "      <td>0.876192</td>\n",
       "      <td>0.093944</td>\n",
       "      <td>0.286206</td>\n",
       "      <td>0.154517</td>\n",
       "      <td>0.131458</td>\n",
       "      <td>0.439897</td>\n",
       "      <td>0.133249</td>\n",
       "      <td>0.039058</td>\n",
       "      <td>0.619849</td>\n",
       "      <td>0.714025</td>\n",
       "      <td>0.426854</td>\n",
       "      <td>0.024675</td>\n",
       "    </tr>\n",
       "    <tr>\n",
       "      <th>0</th>\n",
       "      <td>0.026696</td>\n",
       "      <td>0.380969</td>\n",
       "      <td>0.196201</td>\n",
       "      <td>0.669106</td>\n",
       "      <td>0.325473</td>\n",
       "      <td>0.154888</td>\n",
       "      <td>0.196766</td>\n",
       "      <td>0.212738</td>\n",
       "      <td>0.089375</td>\n",
       "      <td>0.102173</td>\n",
       "      <td>0.072337</td>\n",
       "      <td>0.396134</td>\n",
       "      <td>0.648346</td>\n",
       "      <td>0.697887</td>\n",
       "      <td>0.825490</td>\n",
       "      <td>0.024187</td>\n",
       "    </tr>\n",
       "    <tr>\n",
       "      <th>10</th>\n",
       "      <td>0.026737</td>\n",
       "      <td>0.733628</td>\n",
       "      <td>0.185213</td>\n",
       "      <td>0.575542</td>\n",
       "      <td>0.419030</td>\n",
       "      <td>0.389859</td>\n",
       "      <td>0.256528</td>\n",
       "      <td>0.440677</td>\n",
       "      <td>0.234135</td>\n",
       "      <td>0.290105</td>\n",
       "      <td>0.142322</td>\n",
       "      <td>0.054422</td>\n",
       "      <td>0.353613</td>\n",
       "      <td>0.325187</td>\n",
       "      <td>0.567574</td>\n",
       "      <td>0.022042</td>\n",
       "    </tr>\n",
       "    <tr>\n",
       "      <th>2</th>\n",
       "      <td>0.040038</td>\n",
       "      <td>0.295361</td>\n",
       "      <td>0.151854</td>\n",
       "      <td>0.113395</td>\n",
       "      <td>0.878474</td>\n",
       "      <td>0.390935</td>\n",
       "      <td>0.277463</td>\n",
       "      <td>0.485955</td>\n",
       "      <td>0.260516</td>\n",
       "      <td>0.207006</td>\n",
       "      <td>0.101777</td>\n",
       "      <td>0.512748</td>\n",
       "      <td>0.331602</td>\n",
       "      <td>0.253528</td>\n",
       "      <td>0.691217</td>\n",
       "      <td>0.015864</td>\n",
       "    </tr>\n",
       "    <tr>\n",
       "      <th>9</th>\n",
       "      <td>0.040034</td>\n",
       "      <td>0.295328</td>\n",
       "      <td>0.586634</td>\n",
       "      <td>0.113381</td>\n",
       "      <td>0.378489</td>\n",
       "      <td>0.630079</td>\n",
       "      <td>0.125292</td>\n",
       "      <td>0.681619</td>\n",
       "      <td>0.086614</td>\n",
       "      <td>0.098313</td>\n",
       "      <td>0.058298</td>\n",
       "      <td>0.078004</td>\n",
       "      <td>0.244629</td>\n",
       "      <td>0.231767</td>\n",
       "      <td>0.843389</td>\n",
       "      <td>0.014861</td>\n",
       "    </tr>\n",
       "    <tr>\n",
       "      <th>11</th>\n",
       "      <td>0.040034</td>\n",
       "      <td>0.461995</td>\n",
       "      <td>0.419967</td>\n",
       "      <td>0.113381</td>\n",
       "      <td>0.878489</td>\n",
       "      <td>0.130080</td>\n",
       "      <td>0.625291</td>\n",
       "      <td>0.348287</td>\n",
       "      <td>0.419946</td>\n",
       "      <td>0.098313</td>\n",
       "      <td>0.058298</td>\n",
       "      <td>0.078004</td>\n",
       "      <td>0.244629</td>\n",
       "      <td>0.231767</td>\n",
       "      <td>0.843389</td>\n",
       "      <td>0.014571</td>\n",
       "    </tr>\n",
       "    <tr>\n",
       "      <th>14</th>\n",
       "      <td>0.040204</td>\n",
       "      <td>0.768917</td>\n",
       "      <td>0.112543</td>\n",
       "      <td>0.113870</td>\n",
       "      <td>0.877966</td>\n",
       "      <td>0.322119</td>\n",
       "      <td>0.393902</td>\n",
       "      <td>0.322821</td>\n",
       "      <td>0.303993</td>\n",
       "      <td>0.328505</td>\n",
       "      <td>0.096846</td>\n",
       "      <td>0.078336</td>\n",
       "      <td>0.283979</td>\n",
       "      <td>0.373186</td>\n",
       "      <td>0.574649</td>\n",
       "      <td>0.013851</td>\n",
       "    </tr>\n",
       "    <tr>\n",
       "      <th>19</th>\n",
       "      <td>0.040034</td>\n",
       "      <td>0.795328</td>\n",
       "      <td>0.086635</td>\n",
       "      <td>0.113382</td>\n",
       "      <td>0.378490</td>\n",
       "      <td>0.230080</td>\n",
       "      <td>0.208625</td>\n",
       "      <td>0.281620</td>\n",
       "      <td>0.186613</td>\n",
       "      <td>0.148313</td>\n",
       "      <td>0.158297</td>\n",
       "      <td>0.078004</td>\n",
       "      <td>0.561295</td>\n",
       "      <td>0.531767</td>\n",
       "      <td>0.693390</td>\n",
       "      <td>0.012626</td>\n",
       "    </tr>\n",
       "    <tr>\n",
       "      <th>21</th>\n",
       "      <td>0.040138</td>\n",
       "      <td>0.785790</td>\n",
       "      <td>0.096326</td>\n",
       "      <td>0.590834</td>\n",
       "      <td>0.401063</td>\n",
       "      <td>0.334754</td>\n",
       "      <td>0.195987</td>\n",
       "      <td>0.392678</td>\n",
       "      <td>0.168709</td>\n",
       "      <td>0.281942</td>\n",
       "      <td>0.124965</td>\n",
       "      <td>0.077747</td>\n",
       "      <td>0.469259</td>\n",
       "      <td>0.438612</td>\n",
       "      <td>0.593093</td>\n",
       "      <td>0.012111</td>\n",
       "    </tr>\n",
       "    <tr>\n",
       "      <th>22</th>\n",
       "      <td>0.040451</td>\n",
       "      <td>0.321551</td>\n",
       "      <td>0.171393</td>\n",
       "      <td>0.364938</td>\n",
       "      <td>0.626847</td>\n",
       "      <td>0.176589</td>\n",
       "      <td>0.281029</td>\n",
       "      <td>0.227907</td>\n",
       "      <td>0.124322</td>\n",
       "      <td>0.275397</td>\n",
       "      <td>0.128722</td>\n",
       "      <td>0.466605</td>\n",
       "      <td>0.542382</td>\n",
       "      <td>0.647771</td>\n",
       "      <td>0.595881</td>\n",
       "      <td>0.011666</td>\n",
       "    </tr>\n",
       "    <tr>\n",
       "      <th>1</th>\n",
       "      <td>0.080068</td>\n",
       "      <td>0.590656</td>\n",
       "      <td>0.173269</td>\n",
       "      <td>0.226762</td>\n",
       "      <td>0.756977</td>\n",
       "      <td>0.260159</td>\n",
       "      <td>0.250583</td>\n",
       "      <td>0.363240</td>\n",
       "      <td>0.173227</td>\n",
       "      <td>0.196625</td>\n",
       "      <td>0.116595</td>\n",
       "      <td>0.156008</td>\n",
       "      <td>0.489257</td>\n",
       "      <td>0.463533</td>\n",
       "      <td>0.686780</td>\n",
       "      <td>0.007998</td>\n",
       "    </tr>\n",
       "    <tr>\n",
       "      <th>4</th>\n",
       "      <td>0.080068</td>\n",
       "      <td>0.590656</td>\n",
       "      <td>0.173269</td>\n",
       "      <td>0.226762</td>\n",
       "      <td>0.756977</td>\n",
       "      <td>0.260159</td>\n",
       "      <td>0.250583</td>\n",
       "      <td>0.363240</td>\n",
       "      <td>0.173227</td>\n",
       "      <td>0.196625</td>\n",
       "      <td>0.116595</td>\n",
       "      <td>0.156008</td>\n",
       "      <td>0.489257</td>\n",
       "      <td>0.463533</td>\n",
       "      <td>0.686780</td>\n",
       "      <td>0.007794</td>\n",
       "    </tr>\n",
       "    <tr>\n",
       "      <th>5</th>\n",
       "      <td>0.080068</td>\n",
       "      <td>0.590656</td>\n",
       "      <td>0.173269</td>\n",
       "      <td>0.226762</td>\n",
       "      <td>0.756977</td>\n",
       "      <td>0.260159</td>\n",
       "      <td>0.250583</td>\n",
       "      <td>0.363240</td>\n",
       "      <td>0.173227</td>\n",
       "      <td>0.196625</td>\n",
       "      <td>0.116595</td>\n",
       "      <td>0.156008</td>\n",
       "      <td>0.489257</td>\n",
       "      <td>0.463533</td>\n",
       "      <td>0.686780</td>\n",
       "      <td>0.007721</td>\n",
       "    </tr>\n",
       "    <tr>\n",
       "      <th>7</th>\n",
       "      <td>0.080068</td>\n",
       "      <td>0.590656</td>\n",
       "      <td>0.173269</td>\n",
       "      <td>0.226762</td>\n",
       "      <td>0.756977</td>\n",
       "      <td>0.260159</td>\n",
       "      <td>0.250583</td>\n",
       "      <td>0.363240</td>\n",
       "      <td>0.173227</td>\n",
       "      <td>0.196625</td>\n",
       "      <td>0.116595</td>\n",
       "      <td>0.156008</td>\n",
       "      <td>0.489257</td>\n",
       "      <td>0.463533</td>\n",
       "      <td>0.686780</td>\n",
       "      <td>0.007575</td>\n",
       "    </tr>\n",
       "    <tr>\n",
       "      <th>8</th>\n",
       "      <td>0.080068</td>\n",
       "      <td>0.590656</td>\n",
       "      <td>0.173269</td>\n",
       "      <td>0.226762</td>\n",
       "      <td>0.756977</td>\n",
       "      <td>0.260159</td>\n",
       "      <td>0.250583</td>\n",
       "      <td>0.363240</td>\n",
       "      <td>0.173227</td>\n",
       "      <td>0.196625</td>\n",
       "      <td>0.116595</td>\n",
       "      <td>0.156008</td>\n",
       "      <td>0.489257</td>\n",
       "      <td>0.463533</td>\n",
       "      <td>0.686780</td>\n",
       "      <td>0.007502</td>\n",
       "    </tr>\n",
       "    <tr>\n",
       "      <th>13</th>\n",
       "      <td>0.080068</td>\n",
       "      <td>0.590656</td>\n",
       "      <td>0.173269</td>\n",
       "      <td>0.226762</td>\n",
       "      <td>0.756977</td>\n",
       "      <td>0.260159</td>\n",
       "      <td>0.250583</td>\n",
       "      <td>0.363240</td>\n",
       "      <td>0.173227</td>\n",
       "      <td>0.196625</td>\n",
       "      <td>0.116595</td>\n",
       "      <td>0.156008</td>\n",
       "      <td>0.489257</td>\n",
       "      <td>0.463533</td>\n",
       "      <td>0.686780</td>\n",
       "      <td>0.007083</td>\n",
       "    </tr>\n",
       "    <tr>\n",
       "      <th>15</th>\n",
       "      <td>0.080068</td>\n",
       "      <td>0.590656</td>\n",
       "      <td>0.173269</td>\n",
       "      <td>0.226762</td>\n",
       "      <td>0.756977</td>\n",
       "      <td>0.260159</td>\n",
       "      <td>0.250583</td>\n",
       "      <td>0.363240</td>\n",
       "      <td>0.173227</td>\n",
       "      <td>0.196625</td>\n",
       "      <td>0.116595</td>\n",
       "      <td>0.156008</td>\n",
       "      <td>0.489257</td>\n",
       "      <td>0.463533</td>\n",
       "      <td>0.686780</td>\n",
       "      <td>0.006827</td>\n",
       "    </tr>\n",
       "    <tr>\n",
       "      <th>16</th>\n",
       "      <td>0.080068</td>\n",
       "      <td>0.590656</td>\n",
       "      <td>0.173269</td>\n",
       "      <td>0.226762</td>\n",
       "      <td>0.756977</td>\n",
       "      <td>0.260159</td>\n",
       "      <td>0.250583</td>\n",
       "      <td>0.363240</td>\n",
       "      <td>0.173227</td>\n",
       "      <td>0.196625</td>\n",
       "      <td>0.116595</td>\n",
       "      <td>0.156008</td>\n",
       "      <td>0.489257</td>\n",
       "      <td>0.463533</td>\n",
       "      <td>0.686780</td>\n",
       "      <td>0.006702</td>\n",
       "    </tr>\n",
       "  </tbody>\n",
       "</table>\n",
       "</div>"
      ],
      "text/plain": [
       "         red    yellow     green     brake     accel    sunMax  sunMiddle  \\\n",
       "12  0.001753  0.282623  0.361228  0.352778  0.646866  0.351722   0.257471   \n",
       "23  0.015682  0.918514  0.050487  0.123497  0.876112  0.233551   0.264143   \n",
       "3   0.467530  0.510519  0.011552  0.015126  0.983790  0.070694   0.145745   \n",
       "17  0.353806  0.575362  0.039610  0.095672  0.901074  0.162343   0.316191   \n",
       "6   0.100749  0.795788  0.063088  0.498235  0.497557  0.161435   0.244643   \n",
       "18  0.103080  0.813394  0.043953  0.099745  0.896132  0.371309   0.171115   \n",
       "20  0.024597  0.859288  0.077057  0.119737  0.876192  0.093944   0.286206   \n",
       "0   0.026696  0.380969  0.196201  0.669106  0.325473  0.154888   0.196766   \n",
       "10  0.026737  0.733628  0.185213  0.575542  0.419030  0.389859   0.256528   \n",
       "2   0.040038  0.295361  0.151854  0.113395  0.878474  0.390935   0.277463   \n",
       "9   0.040034  0.295328  0.586634  0.113381  0.378489  0.630079   0.125292   \n",
       "11  0.040034  0.461995  0.419967  0.113381  0.878489  0.130080   0.625291   \n",
       "14  0.040204  0.768917  0.112543  0.113870  0.877966  0.322119   0.393902   \n",
       "19  0.040034  0.795328  0.086635  0.113382  0.378490  0.230080   0.208625   \n",
       "21  0.040138  0.785790  0.096326  0.590834  0.401063  0.334754   0.195987   \n",
       "22  0.040451  0.321551  0.171393  0.364938  0.626847  0.176589   0.281029   \n",
       "1   0.080068  0.590656  0.173269  0.226762  0.756977  0.260159   0.250583   \n",
       "4   0.080068  0.590656  0.173269  0.226762  0.756977  0.260159   0.250583   \n",
       "5   0.080068  0.590656  0.173269  0.226762  0.756977  0.260159   0.250583   \n",
       "7   0.080068  0.590656  0.173269  0.226762  0.756977  0.260159   0.250583   \n",
       "8   0.080068  0.590656  0.173269  0.226762  0.756977  0.260159   0.250583   \n",
       "13  0.080068  0.590656  0.173269  0.226762  0.756977  0.260159   0.250583   \n",
       "15  0.080068  0.590656  0.173269  0.226762  0.756977  0.260159   0.250583   \n",
       "16  0.080068  0.590656  0.173269  0.226762  0.756977  0.260159   0.250583   \n",
       "\n",
       "    cloudMax  cloudMiddle  manyCars  middleCars      slow    sunMin  cloudMin  \\\n",
       "12  0.446298     0.182334  0.199841    0.106734  0.354396  0.390806  0.371368   \n",
       "23  0.335210     0.167486  0.168100    0.121463  0.015317  0.502305  0.497305   \n",
       "3   0.186035     0.135114  0.164202    0.129448  0.010399  0.783561  0.678851   \n",
       "17  0.463669     0.139559  0.171433    0.108032  0.031223  0.521466  0.396772   \n",
       "6   0.347847     0.200054  0.215669    0.145366  0.040376  0.593923  0.452099   \n",
       "18  0.424189     0.177975  0.320335    0.155662  0.039573  0.457576  0.397836   \n",
       "20  0.154517     0.131458  0.439897    0.133249  0.039058  0.619849  0.714025   \n",
       "0   0.212738     0.089375  0.102173    0.072337  0.396134  0.648346  0.697887   \n",
       "10  0.440677     0.234135  0.290105    0.142322  0.054422  0.353613  0.325187   \n",
       "2   0.485955     0.260516  0.207006    0.101777  0.512748  0.331602  0.253528   \n",
       "9   0.681619     0.086614  0.098313    0.058298  0.078004  0.244629  0.231767   \n",
       "11  0.348287     0.419946  0.098313    0.058298  0.078004  0.244629  0.231767   \n",
       "14  0.322821     0.303993  0.328505    0.096846  0.078336  0.283979  0.373186   \n",
       "19  0.281620     0.186613  0.148313    0.158297  0.078004  0.561295  0.531767   \n",
       "21  0.392678     0.168709  0.281942    0.124965  0.077747  0.469259  0.438612   \n",
       "22  0.227907     0.124322  0.275397    0.128722  0.466605  0.542382  0.647771   \n",
       "1   0.363240     0.173227  0.196625    0.116595  0.156008  0.489257  0.463533   \n",
       "4   0.363240     0.173227  0.196625    0.116595  0.156008  0.489257  0.463533   \n",
       "5   0.363240     0.173227  0.196625    0.116595  0.156008  0.489257  0.463533   \n",
       "7   0.363240     0.173227  0.196625    0.116595  0.156008  0.489257  0.463533   \n",
       "8   0.363240     0.173227  0.196625    0.116595  0.156008  0.489257  0.463533   \n",
       "13  0.363240     0.173227  0.196625    0.116595  0.156008  0.489257  0.463533   \n",
       "15  0.363240     0.173227  0.196625    0.116595  0.156008  0.489257  0.463533   \n",
       "16  0.363240     0.173227  0.196625    0.116595  0.156008  0.489257  0.463533   \n",
       "\n",
       "    lessCars    weight  \n",
       "12  0.693425  0.329477  \n",
       "23  0.710436  0.238967  \n",
       "3   0.706350  0.118036  \n",
       "17  0.720535  0.032875  \n",
       "6   0.638965  0.029556  \n",
       "18  0.524003  0.025431  \n",
       "20  0.426854  0.024675  \n",
       "0   0.825490  0.024187  \n",
       "10  0.567574  0.022042  \n",
       "2   0.691217  0.015864  \n",
       "9   0.843389  0.014861  \n",
       "11  0.843389  0.014571  \n",
       "14  0.574649  0.013851  \n",
       "19  0.693390  0.012626  \n",
       "21  0.593093  0.012111  \n",
       "22  0.595881  0.011666  \n",
       "1   0.686780  0.007998  \n",
       "4   0.686780  0.007794  \n",
       "5   0.686780  0.007721  \n",
       "7   0.686780  0.007575  \n",
       "8   0.686780  0.007502  \n",
       "13  0.686780  0.007083  \n",
       "15  0.686780  0.006827  \n",
       "16  0.686780  0.006702  "
      ]
     },
     "execution_count": 23,
     "metadata": {},
     "output_type": "execute_result"
    }
   ],
   "source": [
    "ref = pd.DataFrame(vb.means_)\n",
    "ref.columns = [normedFeatures]\n",
    "ref[\"slow\"] = 1 - (ref[\"red\"] + ref[\"yellow\"] + ref[\"green\"])\n",
    "ref[\"sunMin\"] = 1 - (ref[\"sunMax\"] + ref[\"sunMiddle\"])\n",
    "ref[\"cloudMin\"] = 1 - (ref[\"cloudMax\"] + ref[\"cloudMiddle\"])\n",
    "ref[\"lessCars\"] = 1 - (ref[\"manyCars\"] + ref[\"middleCars\"])\n",
    "ref[\"weight\"] = ws\n",
    "ref.sort_values(\"weight\", ascending=False)"
   ]
  },
  {
   "cell_type": "code",
   "execution_count": 24,
   "metadata": {
    "collapsed": false
   },
   "outputs": [
    {
     "data": {
      "text/html": [
       "<div>\n",
       "<table border=\"1\" class=\"dataframe\">\n",
       "  <thead>\n",
       "    <tr style=\"text-align: right;\">\n",
       "      <th></th>\n",
       "      <th>red</th>\n",
       "      <th>yellow</th>\n",
       "      <th>green</th>\n",
       "      <th>brake</th>\n",
       "      <th>accel</th>\n",
       "      <th>sunMax</th>\n",
       "      <th>sunMiddle</th>\n",
       "      <th>cloudMax</th>\n",
       "      <th>cloudMiddle</th>\n",
       "      <th>manyCars</th>\n",
       "      <th>middleCars</th>\n",
       "      <th>slow</th>\n",
       "      <th>sunMin</th>\n",
       "      <th>cloudMin</th>\n",
       "      <th>lessCars</th>\n",
       "      <th>weight</th>\n",
       "    </tr>\n",
       "  </thead>\n",
       "  <tbody>\n",
       "    <tr>\n",
       "      <th>12</th>\n",
       "      <td>0.001753</td>\n",
       "      <td>0.282623</td>\n",
       "      <td>0.361228</td>\n",
       "      <td>0.352778</td>\n",
       "      <td>0.646866</td>\n",
       "      <td>0.351722</td>\n",
       "      <td>0.257471</td>\n",
       "      <td>0.446298</td>\n",
       "      <td>0.182334</td>\n",
       "      <td>0.199841</td>\n",
       "      <td>0.106734</td>\n",
       "      <td>0.354396</td>\n",
       "      <td>0.390806</td>\n",
       "      <td>0.371368</td>\n",
       "      <td>0.693425</td>\n",
       "      <td>0.329477</td>\n",
       "    </tr>\n",
       "    <tr>\n",
       "      <th>23</th>\n",
       "      <td>0.015682</td>\n",
       "      <td>0.918514</td>\n",
       "      <td>0.050487</td>\n",
       "      <td>0.123497</td>\n",
       "      <td>0.876112</td>\n",
       "      <td>0.233551</td>\n",
       "      <td>0.264143</td>\n",
       "      <td>0.335210</td>\n",
       "      <td>0.167486</td>\n",
       "      <td>0.168100</td>\n",
       "      <td>0.121463</td>\n",
       "      <td>0.015317</td>\n",
       "      <td>0.502305</td>\n",
       "      <td>0.497305</td>\n",
       "      <td>0.710436</td>\n",
       "      <td>0.238967</td>\n",
       "    </tr>\n",
       "    <tr>\n",
       "      <th>3</th>\n",
       "      <td>0.467530</td>\n",
       "      <td>0.510519</td>\n",
       "      <td>0.011552</td>\n",
       "      <td>0.015126</td>\n",
       "      <td>0.983790</td>\n",
       "      <td>0.070694</td>\n",
       "      <td>0.145745</td>\n",
       "      <td>0.186035</td>\n",
       "      <td>0.135114</td>\n",
       "      <td>0.164202</td>\n",
       "      <td>0.129448</td>\n",
       "      <td>0.010399</td>\n",
       "      <td>0.783561</td>\n",
       "      <td>0.678851</td>\n",
       "      <td>0.706350</td>\n",
       "      <td>0.118036</td>\n",
       "    </tr>\n",
       "    <tr>\n",
       "      <th>17</th>\n",
       "      <td>0.353806</td>\n",
       "      <td>0.575362</td>\n",
       "      <td>0.039610</td>\n",
       "      <td>0.095672</td>\n",
       "      <td>0.901074</td>\n",
       "      <td>0.162343</td>\n",
       "      <td>0.316191</td>\n",
       "      <td>0.463669</td>\n",
       "      <td>0.139559</td>\n",
       "      <td>0.171433</td>\n",
       "      <td>0.108032</td>\n",
       "      <td>0.031223</td>\n",
       "      <td>0.521466</td>\n",
       "      <td>0.396772</td>\n",
       "      <td>0.720535</td>\n",
       "      <td>0.032875</td>\n",
       "    </tr>\n",
       "    <tr>\n",
       "      <th>6</th>\n",
       "      <td>0.100749</td>\n",
       "      <td>0.795788</td>\n",
       "      <td>0.063088</td>\n",
       "      <td>0.498235</td>\n",
       "      <td>0.497557</td>\n",
       "      <td>0.161435</td>\n",
       "      <td>0.244643</td>\n",
       "      <td>0.347847</td>\n",
       "      <td>0.200054</td>\n",
       "      <td>0.215669</td>\n",
       "      <td>0.145366</td>\n",
       "      <td>0.040376</td>\n",
       "      <td>0.593923</td>\n",
       "      <td>0.452099</td>\n",
       "      <td>0.638965</td>\n",
       "      <td>0.029556</td>\n",
       "    </tr>\n",
       "    <tr>\n",
       "      <th>18</th>\n",
       "      <td>0.103080</td>\n",
       "      <td>0.813394</td>\n",
       "      <td>0.043953</td>\n",
       "      <td>0.099745</td>\n",
       "      <td>0.896132</td>\n",
       "      <td>0.371309</td>\n",
       "      <td>0.171115</td>\n",
       "      <td>0.424189</td>\n",
       "      <td>0.177975</td>\n",
       "      <td>0.320335</td>\n",
       "      <td>0.155662</td>\n",
       "      <td>0.039573</td>\n",
       "      <td>0.457576</td>\n",
       "      <td>0.397836</td>\n",
       "      <td>0.524003</td>\n",
       "      <td>0.025431</td>\n",
       "    </tr>\n",
       "    <tr>\n",
       "      <th>20</th>\n",
       "      <td>0.024597</td>\n",
       "      <td>0.859288</td>\n",
       "      <td>0.077057</td>\n",
       "      <td>0.119737</td>\n",
       "      <td>0.876192</td>\n",
       "      <td>0.093944</td>\n",
       "      <td>0.286206</td>\n",
       "      <td>0.154517</td>\n",
       "      <td>0.131458</td>\n",
       "      <td>0.439897</td>\n",
       "      <td>0.133249</td>\n",
       "      <td>0.039058</td>\n",
       "      <td>0.619849</td>\n",
       "      <td>0.714025</td>\n",
       "      <td>0.426854</td>\n",
       "      <td>0.024675</td>\n",
       "    </tr>\n",
       "    <tr>\n",
       "      <th>0</th>\n",
       "      <td>0.026696</td>\n",
       "      <td>0.380969</td>\n",
       "      <td>0.196201</td>\n",
       "      <td>0.669106</td>\n",
       "      <td>0.325473</td>\n",
       "      <td>0.154888</td>\n",
       "      <td>0.196766</td>\n",
       "      <td>0.212738</td>\n",
       "      <td>0.089375</td>\n",
       "      <td>0.102173</td>\n",
       "      <td>0.072337</td>\n",
       "      <td>0.396134</td>\n",
       "      <td>0.648346</td>\n",
       "      <td>0.697887</td>\n",
       "      <td>0.825490</td>\n",
       "      <td>0.024187</td>\n",
       "    </tr>\n",
       "    <tr>\n",
       "      <th>10</th>\n",
       "      <td>0.026737</td>\n",
       "      <td>0.733628</td>\n",
       "      <td>0.185213</td>\n",
       "      <td>0.575542</td>\n",
       "      <td>0.419030</td>\n",
       "      <td>0.389859</td>\n",
       "      <td>0.256528</td>\n",
       "      <td>0.440677</td>\n",
       "      <td>0.234135</td>\n",
       "      <td>0.290105</td>\n",
       "      <td>0.142322</td>\n",
       "      <td>0.054422</td>\n",
       "      <td>0.353613</td>\n",
       "      <td>0.325187</td>\n",
       "      <td>0.567574</td>\n",
       "      <td>0.022042</td>\n",
       "    </tr>\n",
       "    <tr>\n",
       "      <th>2</th>\n",
       "      <td>0.040038</td>\n",
       "      <td>0.295361</td>\n",
       "      <td>0.151854</td>\n",
       "      <td>0.113395</td>\n",
       "      <td>0.878474</td>\n",
       "      <td>0.390935</td>\n",
       "      <td>0.277463</td>\n",
       "      <td>0.485955</td>\n",
       "      <td>0.260516</td>\n",
       "      <td>0.207006</td>\n",
       "      <td>0.101777</td>\n",
       "      <td>0.512748</td>\n",
       "      <td>0.331602</td>\n",
       "      <td>0.253528</td>\n",
       "      <td>0.691217</td>\n",
       "      <td>0.015864</td>\n",
       "    </tr>\n",
       "    <tr>\n",
       "      <th>9</th>\n",
       "      <td>0.040034</td>\n",
       "      <td>0.295328</td>\n",
       "      <td>0.586634</td>\n",
       "      <td>0.113381</td>\n",
       "      <td>0.378489</td>\n",
       "      <td>0.630079</td>\n",
       "      <td>0.125292</td>\n",
       "      <td>0.681619</td>\n",
       "      <td>0.086614</td>\n",
       "      <td>0.098313</td>\n",
       "      <td>0.058298</td>\n",
       "      <td>0.078004</td>\n",
       "      <td>0.244629</td>\n",
       "      <td>0.231767</td>\n",
       "      <td>0.843389</td>\n",
       "      <td>0.014861</td>\n",
       "    </tr>\n",
       "    <tr>\n",
       "      <th>11</th>\n",
       "      <td>0.040034</td>\n",
       "      <td>0.461995</td>\n",
       "      <td>0.419967</td>\n",
       "      <td>0.113381</td>\n",
       "      <td>0.878489</td>\n",
       "      <td>0.130080</td>\n",
       "      <td>0.625291</td>\n",
       "      <td>0.348287</td>\n",
       "      <td>0.419946</td>\n",
       "      <td>0.098313</td>\n",
       "      <td>0.058298</td>\n",
       "      <td>0.078004</td>\n",
       "      <td>0.244629</td>\n",
       "      <td>0.231767</td>\n",
       "      <td>0.843389</td>\n",
       "      <td>0.014571</td>\n",
       "    </tr>\n",
       "    <tr>\n",
       "      <th>14</th>\n",
       "      <td>0.040204</td>\n",
       "      <td>0.768917</td>\n",
       "      <td>0.112543</td>\n",
       "      <td>0.113870</td>\n",
       "      <td>0.877966</td>\n",
       "      <td>0.322119</td>\n",
       "      <td>0.393902</td>\n",
       "      <td>0.322821</td>\n",
       "      <td>0.303993</td>\n",
       "      <td>0.328505</td>\n",
       "      <td>0.096846</td>\n",
       "      <td>0.078336</td>\n",
       "      <td>0.283979</td>\n",
       "      <td>0.373186</td>\n",
       "      <td>0.574649</td>\n",
       "      <td>0.013851</td>\n",
       "    </tr>\n",
       "    <tr>\n",
       "      <th>19</th>\n",
       "      <td>0.040034</td>\n",
       "      <td>0.795328</td>\n",
       "      <td>0.086635</td>\n",
       "      <td>0.113382</td>\n",
       "      <td>0.378490</td>\n",
       "      <td>0.230080</td>\n",
       "      <td>0.208625</td>\n",
       "      <td>0.281620</td>\n",
       "      <td>0.186613</td>\n",
       "      <td>0.148313</td>\n",
       "      <td>0.158297</td>\n",
       "      <td>0.078004</td>\n",
       "      <td>0.561295</td>\n",
       "      <td>0.531767</td>\n",
       "      <td>0.693390</td>\n",
       "      <td>0.012626</td>\n",
       "    </tr>\n",
       "    <tr>\n",
       "      <th>21</th>\n",
       "      <td>0.040138</td>\n",
       "      <td>0.785790</td>\n",
       "      <td>0.096326</td>\n",
       "      <td>0.590834</td>\n",
       "      <td>0.401063</td>\n",
       "      <td>0.334754</td>\n",
       "      <td>0.195987</td>\n",
       "      <td>0.392678</td>\n",
       "      <td>0.168709</td>\n",
       "      <td>0.281942</td>\n",
       "      <td>0.124965</td>\n",
       "      <td>0.077747</td>\n",
       "      <td>0.469259</td>\n",
       "      <td>0.438612</td>\n",
       "      <td>0.593093</td>\n",
       "      <td>0.012111</td>\n",
       "    </tr>\n",
       "    <tr>\n",
       "      <th>22</th>\n",
       "      <td>0.040451</td>\n",
       "      <td>0.321551</td>\n",
       "      <td>0.171393</td>\n",
       "      <td>0.364938</td>\n",
       "      <td>0.626847</td>\n",
       "      <td>0.176589</td>\n",
       "      <td>0.281029</td>\n",
       "      <td>0.227907</td>\n",
       "      <td>0.124322</td>\n",
       "      <td>0.275397</td>\n",
       "      <td>0.128722</td>\n",
       "      <td>0.466605</td>\n",
       "      <td>0.542382</td>\n",
       "      <td>0.647771</td>\n",
       "      <td>0.595881</td>\n",
       "      <td>0.011666</td>\n",
       "    </tr>\n",
       "  </tbody>\n",
       "</table>\n",
       "</div>"
      ],
      "text/plain": [
       "         red    yellow     green     brake     accel    sunMax  sunMiddle  \\\n",
       "12  0.001753  0.282623  0.361228  0.352778  0.646866  0.351722   0.257471   \n",
       "23  0.015682  0.918514  0.050487  0.123497  0.876112  0.233551   0.264143   \n",
       "3   0.467530  0.510519  0.011552  0.015126  0.983790  0.070694   0.145745   \n",
       "17  0.353806  0.575362  0.039610  0.095672  0.901074  0.162343   0.316191   \n",
       "6   0.100749  0.795788  0.063088  0.498235  0.497557  0.161435   0.244643   \n",
       "18  0.103080  0.813394  0.043953  0.099745  0.896132  0.371309   0.171115   \n",
       "20  0.024597  0.859288  0.077057  0.119737  0.876192  0.093944   0.286206   \n",
       "0   0.026696  0.380969  0.196201  0.669106  0.325473  0.154888   0.196766   \n",
       "10  0.026737  0.733628  0.185213  0.575542  0.419030  0.389859   0.256528   \n",
       "2   0.040038  0.295361  0.151854  0.113395  0.878474  0.390935   0.277463   \n",
       "9   0.040034  0.295328  0.586634  0.113381  0.378489  0.630079   0.125292   \n",
       "11  0.040034  0.461995  0.419967  0.113381  0.878489  0.130080   0.625291   \n",
       "14  0.040204  0.768917  0.112543  0.113870  0.877966  0.322119   0.393902   \n",
       "19  0.040034  0.795328  0.086635  0.113382  0.378490  0.230080   0.208625   \n",
       "21  0.040138  0.785790  0.096326  0.590834  0.401063  0.334754   0.195987   \n",
       "22  0.040451  0.321551  0.171393  0.364938  0.626847  0.176589   0.281029   \n",
       "\n",
       "    cloudMax  cloudMiddle  manyCars  middleCars      slow    sunMin  cloudMin  \\\n",
       "12  0.446298     0.182334  0.199841    0.106734  0.354396  0.390806  0.371368   \n",
       "23  0.335210     0.167486  0.168100    0.121463  0.015317  0.502305  0.497305   \n",
       "3   0.186035     0.135114  0.164202    0.129448  0.010399  0.783561  0.678851   \n",
       "17  0.463669     0.139559  0.171433    0.108032  0.031223  0.521466  0.396772   \n",
       "6   0.347847     0.200054  0.215669    0.145366  0.040376  0.593923  0.452099   \n",
       "18  0.424189     0.177975  0.320335    0.155662  0.039573  0.457576  0.397836   \n",
       "20  0.154517     0.131458  0.439897    0.133249  0.039058  0.619849  0.714025   \n",
       "0   0.212738     0.089375  0.102173    0.072337  0.396134  0.648346  0.697887   \n",
       "10  0.440677     0.234135  0.290105    0.142322  0.054422  0.353613  0.325187   \n",
       "2   0.485955     0.260516  0.207006    0.101777  0.512748  0.331602  0.253528   \n",
       "9   0.681619     0.086614  0.098313    0.058298  0.078004  0.244629  0.231767   \n",
       "11  0.348287     0.419946  0.098313    0.058298  0.078004  0.244629  0.231767   \n",
       "14  0.322821     0.303993  0.328505    0.096846  0.078336  0.283979  0.373186   \n",
       "19  0.281620     0.186613  0.148313    0.158297  0.078004  0.561295  0.531767   \n",
       "21  0.392678     0.168709  0.281942    0.124965  0.077747  0.469259  0.438612   \n",
       "22  0.227907     0.124322  0.275397    0.128722  0.466605  0.542382  0.647771   \n",
       "\n",
       "    lessCars    weight  \n",
       "12  0.693425  0.329477  \n",
       "23  0.710436  0.238967  \n",
       "3   0.706350  0.118036  \n",
       "17  0.720535  0.032875  \n",
       "6   0.638965  0.029556  \n",
       "18  0.524003  0.025431  \n",
       "20  0.426854  0.024675  \n",
       "0   0.825490  0.024187  \n",
       "10  0.567574  0.022042  \n",
       "2   0.691217  0.015864  \n",
       "9   0.843389  0.014861  \n",
       "11  0.843389  0.014571  \n",
       "14  0.574649  0.013851  \n",
       "19  0.693390  0.012626  \n",
       "21  0.593093  0.012111  \n",
       "22  0.595881  0.011666  "
      ]
     },
     "execution_count": 24,
     "metadata": {},
     "output_type": "execute_result"
    }
   ],
   "source": [
    "ref.sort_values(\"weight\", ascending=False)[:len(set(vb.predict(bf)))]"
   ]
  },
  {
   "cell_type": "markdown",
   "metadata": {},
   "source": [
    "# Plot histgram of each clusters"
   ]
  },
  {
   "cell_type": "markdown",
   "metadata": {},
   "source": [
    "### ヒストグラムの表示と保存"
   ]
  },
  {
   "cell_type": "code",
   "execution_count": 25,
   "metadata": {
    "collapsed": false
   },
   "outputs": [],
   "source": [
    "cls = ref.sort_values(\"weight\", ascending=False)[:len(set(vb.predict(bf)))].index"
   ]
  },
  {
   "cell_type": "code",
   "execution_count": 26,
   "metadata": {
    "collapsed": false,
    "scrolled": true
   },
   "outputs": [
    {
     "data": {
      "image/png": "[encoded data removed]",
      "text/plain": [
       "<matplotlib.figure.Figure at 0x10a2a6b10>"
      ]
     },
     "metadata": {},
     "output_type": "display_data"
    },
    {
     "data": {
      "image/png": "[encoded data removed]",
      "text/plain": [
       "<matplotlib.figure.Figure at 0x10a474990>"
      ]
     },
     "metadata": {},
     "output_type": "display_data"
    },
    {
     "data": {
      "image/png": "[encoded data removed]",
      "text/plain": [
       "<matplotlib.figure.Figure at 0x10a405a90>"
      ]
     },
     "metadata": {},
     "output_type": "display_data"
    },
    {
     "data": {
      "image/png": "[encoded data removed]",
      "text/plain": [
       "<matplotlib.figure.Figure at 0x10a5c2490>"
      ]
     },
     "metadata": {},
     "output_type": "display_data"
    },
    {
     "data": {
      "image/png": "[encoded data removed]",
      "text/plain": [
       "<matplotlib.figure.Figure at 0x10a486350>"
      ]
     },
     "metadata": {},
     "output_type": "display_data"
    },
    {
     "data": {
      "image/png": "[encoded data removed]",
      "text/plain": [
       "<matplotlib.figure.Figure at 0x10a36a310>"
      ]
     },
     "metadata": {},
     "output_type": "display_data"
    },
    {
     "data": {
      "image/png": "[encoded data removed]",
      "text/plain": [
       "<matplotlib.figure.Figure at 0x10a8a74d0>"
      ]
     },
     "metadata": {},
     "output_type": "display_data"
    },
    {
     "data": {
      "image/png": "[encoded data removed]",
      "text/plain": [
       "<matplotlib.figure.Figure at 0x10a859050>"
      ]
     },
     "metadata": {},
     "output_type": "display_data"
    },
    {
     "data": {
      "image/png": "[encoded data removed]",
      "text/plain": [
       "<matplotlib.figure.Figure at 0x10ab07a90>"
      ]
     },
     "metadata": {},
     "output_type": "display_data"
    },
    {
     "data": {
      "image/png": "[encoded data removed]",
      "text/plain": [
       "<matplotlib.figure.Figure at 0x10acd8310>"
      ]
     },
     "metadata": {},
     "output_type": "display_data"
    },
    {
     "data": {
      "image/png": "[encoded data removed]",
      "text/plain": [
       "<matplotlib.figure.Figure at 0x10aca1a90>"
      ]
     },
     "metadata": {},
     "output_type": "display_data"
    },
    {
     "data": {
      "image/png": "[encoded data removed]",
      "text/plain": [
       "<matplotlib.figure.Figure at 0x10a859f50>"
      ]
     },
     "metadata": {},
     "output_type": "display_data"
    },
    {
     "data": {
      "image/png": "[encoded data removed]",
      "text/plain": [
       "<matplotlib.figure.Figure at 0x10a458950>"
      ]
     },
     "metadata": {},
     "output_type": "display_data"
    },
    {
     "data": {
      "image/png": "[encoded data removed]",
      "text/plain": [
       "<matplotlib.figure.Figure at 0x10aa97490>"
      ]
     },
     "metadata": {},
     "output_type": "display_data"
    },
    {
     "data": {
      "image/png": "[encoded data removed]",
      "text/plain": [
       "<matplotlib.figure.Figure at 0x10a6edfd0>"
      ]
     },
     "metadata": {},
     "output_type": "display_data"
    },
    {
     "data": {
      "image/png": "[encoded data removed]",
      "text/plain": [
       "<matplotlib.figure.Figure at 0x10a757c10>"
      ]
     },
     "metadata": {},
     "output_type": "display_data"
    }
   ],
   "source": [
    "dir = \"./img/Result1/clusters-\" + str(sd)\n",
    "if not os.path.exists(dir):\n",
    "    os.mkdir(dir)\n",
    "\n",
    "ref = ref[features]\n",
    "for i in cls:\n",
    "    ref.ix[i].plot(kind='bar', color=colors[i])\n",
    "    plt.title(i)\n",
    "    plt.ylim(0, 1)\n",
    "    plt.savefig(dir + \"/cluster\" + str(i) + \".png\")\n",
    "    plt.show()"
   ]
  },
  {
   "cell_type": "markdown",
   "metadata": {},
   "source": [
    "# Save"
   ]
  },
  {
   "cell_type": "markdown",
   "metadata": {},
   "source": [
    "### 結果の保存"
   ]
  },
  {
   "cell_type": "code",
   "execution_count": 27,
   "metadata": {
    "collapsed": false
   },
   "outputs": [],
   "source": [
    "pred = zip(mf.index, vb.predict(bf))\n",
    "result = np.zeros(gridSize)\n",
    "\n",
    "for index, klass in pred:\n",
    "    result[index] = klass + 1\n",
    "    \n",
    "np.savetxt(targetDir + \"clusters.csv\", result, delimiter=\",\", fmt=\"%d\")\n",
    "\n",
    "with open(dir + '/VBSetting.json', 'w') as outfile:\n",
    "    data = {\n",
    "        \"n_components\": components,\n",
    "        \"weight_concentration_prior\": prior,\n",
    "        \"seed\": sd\n",
    "    }\n",
    "    json.dump(data, outfile)"
   ]
  },
  {
   "cell_type": "markdown",
   "metadata": {
    "collapsed": true
   },
   "source": [
    "# Display Top-5"
   ]
  },
  {
   "cell_type": "code",
   "execution_count": 28,
   "metadata": {
    "collapsed": true
   },
   "outputs": [],
   "source": [
    "normedFeatures = [\n",
    "    \"red\",  \"yellow\",  \"green\",\n",
    "    \"brake\", \"accel\", \"accelOff\",\n",
    "    \"sunMax\", \"sunMiddle\",\n",
    "    \"cloudMax\", \"cloudMiddle\",\n",
    "    \"manyCars\", \"middleCars\"\n",
    "]"
   ]
  },
  {
   "cell_type": "code",
   "execution_count": 29,
   "metadata": {
    "collapsed": true
   },
   "outputs": [],
   "source": [
    "pathIndex = bf.index"
   ]
  },
  {
   "cell_type": "code",
   "execution_count": 30,
   "metadata": {
    "collapsed": false
   },
   "outputs": [],
   "source": [
    "top10Index =   [511, 223, 249, 277, 252, 633, 251, 253, 482, 244]"
   ]
  },
  {
   "cell_type": "code",
   "execution_count": 38,
   "metadata": {
    "collapsed": false
   },
   "outputs": [
    {
     "data": {
      "text/plain": [
       "34"
      ]
     },
     "execution_count": 38,
     "metadata": {},
     "output_type": "execute_result"
    }
   ],
   "source": [
    "len(mf[mf[\"red\"] > 0])"
   ]
  },
  {
   "cell_type": "code",
   "execution_count": 32,
   "metadata": {
    "collapsed": false,
    "scrolled": true
   },
   "outputs": [
    {
     "data": {
      "text/html": [
       "<div>\n",
       "<table border=\"1\" class=\"dataframe\">\n",
       "  <thead>\n",
       "    <tr style=\"text-align: right;\">\n",
       "      <th></th>\n",
       "      <th>red</th>\n",
       "      <th>yellow</th>\n",
       "      <th>green</th>\n",
       "      <th>slow</th>\n",
       "      <th>brake</th>\n",
       "      <th>accel</th>\n",
       "      <th>sunMax</th>\n",
       "      <th>sunMiddle</th>\n",
       "      <th>sunMin</th>\n",
       "      <th>cloudMax</th>\n",
       "      <th>cloudMiddle</th>\n",
       "      <th>cloudMin</th>\n",
       "      <th>manyCars</th>\n",
       "      <th>middleCars</th>\n",
       "      <th>lessCars</th>\n",
       "    </tr>\n",
       "  </thead>\n",
       "  <tbody>\n",
       "    <tr>\n",
       "      <th>511</th>\n",
       "      <td>0</td>\n",
       "      <td>1</td>\n",
       "      <td>2</td>\n",
       "      <td>0</td>\n",
       "      <td>0</td>\n",
       "      <td>1</td>\n",
       "      <td>0</td>\n",
       "      <td>3</td>\n",
       "      <td>0</td>\n",
       "      <td>1</td>\n",
       "      <td>2</td>\n",
       "      <td>0</td>\n",
       "      <td>0</td>\n",
       "      <td>0</td>\n",
       "      <td>3</td>\n",
       "    </tr>\n",
       "    <tr>\n",
       "      <th>223</th>\n",
       "      <td>0</td>\n",
       "      <td>119</td>\n",
       "      <td>22</td>\n",
       "      <td>1</td>\n",
       "      <td>12</td>\n",
       "      <td>6</td>\n",
       "      <td>73</td>\n",
       "      <td>40</td>\n",
       "      <td>29</td>\n",
       "      <td>80</td>\n",
       "      <td>33</td>\n",
       "      <td>29</td>\n",
       "      <td>62</td>\n",
       "      <td>23</td>\n",
       "      <td>57</td>\n",
       "    </tr>\n",
       "    <tr>\n",
       "      <th>249</th>\n",
       "      <td>0</td>\n",
       "      <td>287</td>\n",
       "      <td>141</td>\n",
       "      <td>4</td>\n",
       "      <td>13</td>\n",
       "      <td>40</td>\n",
       "      <td>171</td>\n",
       "      <td>185</td>\n",
       "      <td>76</td>\n",
       "      <td>179</td>\n",
       "      <td>151</td>\n",
       "      <td>102</td>\n",
       "      <td>177</td>\n",
       "      <td>73</td>\n",
       "      <td>182</td>\n",
       "    </tr>\n",
       "    <tr>\n",
       "      <th>277</th>\n",
       "      <td>0</td>\n",
       "      <td>37</td>\n",
       "      <td>2</td>\n",
       "      <td>0</td>\n",
       "      <td>0</td>\n",
       "      <td>5</td>\n",
       "      <td>15</td>\n",
       "      <td>21</td>\n",
       "      <td>3</td>\n",
       "      <td>11</td>\n",
       "      <td>17</td>\n",
       "      <td>11</td>\n",
       "      <td>18</td>\n",
       "      <td>3</td>\n",
       "      <td>18</td>\n",
       "    </tr>\n",
       "    <tr>\n",
       "      <th>252</th>\n",
       "      <td>0</td>\n",
       "      <td>301</td>\n",
       "      <td>59</td>\n",
       "      <td>3</td>\n",
       "      <td>16</td>\n",
       "      <td>40</td>\n",
       "      <td>142</td>\n",
       "      <td>141</td>\n",
       "      <td>80</td>\n",
       "      <td>170</td>\n",
       "      <td>102</td>\n",
       "      <td>91</td>\n",
       "      <td>130</td>\n",
       "      <td>70</td>\n",
       "      <td>163</td>\n",
       "    </tr>\n",
       "    <tr>\n",
       "      <th>633</th>\n",
       "      <td>0</td>\n",
       "      <td>17</td>\n",
       "      <td>23</td>\n",
       "      <td>37</td>\n",
       "      <td>2</td>\n",
       "      <td>4</td>\n",
       "      <td>46</td>\n",
       "      <td>24</td>\n",
       "      <td>7</td>\n",
       "      <td>45</td>\n",
       "      <td>25</td>\n",
       "      <td>7</td>\n",
       "      <td>26</td>\n",
       "      <td>6</td>\n",
       "      <td>45</td>\n",
       "    </tr>\n",
       "    <tr>\n",
       "      <th>251</th>\n",
       "      <td>0</td>\n",
       "      <td>240</td>\n",
       "      <td>171</td>\n",
       "      <td>15</td>\n",
       "      <td>10</td>\n",
       "      <td>42</td>\n",
       "      <td>146</td>\n",
       "      <td>181</td>\n",
       "      <td>99</td>\n",
       "      <td>188</td>\n",
       "      <td>133</td>\n",
       "      <td>105</td>\n",
       "      <td>164</td>\n",
       "      <td>69</td>\n",
       "      <td>193</td>\n",
       "    </tr>\n",
       "    <tr>\n",
       "      <th>253</th>\n",
       "      <td>0</td>\n",
       "      <td>167</td>\n",
       "      <td>143</td>\n",
       "      <td>22</td>\n",
       "      <td>11</td>\n",
       "      <td>23</td>\n",
       "      <td>143</td>\n",
       "      <td>121</td>\n",
       "      <td>68</td>\n",
       "      <td>161</td>\n",
       "      <td>100</td>\n",
       "      <td>71</td>\n",
       "      <td>136</td>\n",
       "      <td>46</td>\n",
       "      <td>150</td>\n",
       "    </tr>\n",
       "    <tr>\n",
       "      <th>482</th>\n",
       "      <td>0</td>\n",
       "      <td>0</td>\n",
       "      <td>3</td>\n",
       "      <td>20</td>\n",
       "      <td>0</td>\n",
       "      <td>2</td>\n",
       "      <td>12</td>\n",
       "      <td>7</td>\n",
       "      <td>4</td>\n",
       "      <td>14</td>\n",
       "      <td>8</td>\n",
       "      <td>1</td>\n",
       "      <td>5</td>\n",
       "      <td>2</td>\n",
       "      <td>16</td>\n",
       "    </tr>\n",
       "    <tr>\n",
       "      <th>244</th>\n",
       "      <td>0</td>\n",
       "      <td>49</td>\n",
       "      <td>53</td>\n",
       "      <td>0</td>\n",
       "      <td>1</td>\n",
       "      <td>6</td>\n",
       "      <td>47</td>\n",
       "      <td>38</td>\n",
       "      <td>17</td>\n",
       "      <td>60</td>\n",
       "      <td>19</td>\n",
       "      <td>23</td>\n",
       "      <td>33</td>\n",
       "      <td>13</td>\n",
       "      <td>56</td>\n",
       "    </tr>\n",
       "  </tbody>\n",
       "</table>\n",
       "</div>"
      ],
      "text/plain": [
       "     red  yellow  green  slow  brake  accel  sunMax  sunMiddle  sunMin  \\\n",
       "511    0       1      2     0      0      1       0          3       0   \n",
       "223    0     119     22     1     12      6      73         40      29   \n",
       "249    0     287    141     4     13     40     171        185      76   \n",
       "277    0      37      2     0      0      5      15         21       3   \n",
       "252    0     301     59     3     16     40     142        141      80   \n",
       "633    0      17     23    37      2      4      46         24       7   \n",
       "251    0     240    171    15     10     42     146        181      99   \n",
       "253    0     167    143    22     11     23     143        121      68   \n",
       "482    0       0      3    20      0      2      12          7       4   \n",
       "244    0      49     53     0      1      6      47         38      17   \n",
       "\n",
       "     cloudMax  cloudMiddle  cloudMin  manyCars  middleCars  lessCars  \n",
       "511         1            2         0         0           0         3  \n",
       "223        80           33        29        62          23        57  \n",
       "249       179          151       102       177          73       182  \n",
       "277        11           17        11        18           3        18  \n",
       "252       170          102        91       130          70       163  \n",
       "633        45           25         7        26           6        45  \n",
       "251       188          133       105       164          69       193  \n",
       "253       161          100        71       136          46       150  \n",
       "482        14            8         1         5           2        16  \n",
       "244        60           19        23        33          13        56  "
      ]
     },
     "execution_count": 32,
     "metadata": {},
     "output_type": "execute_result"
    }
   ],
   "source": [
    "mf.ix[top10Index]"
   ]
  },
  {
   "cell_type": "code",
   "execution_count": 33,
   "metadata": {
    "collapsed": false
   },
   "outputs": [],
   "source": [
    "top10Color = vb.predict(bf.ix[top10Index])"
   ]
  },
  {
   "cell_type": "code",
   "execution_count": 34,
   "metadata": {
    "collapsed": false
   },
   "outputs": [],
   "source": [
    "df16 = pd.read_csv(accelOffDir + \"result.csv\")\n",
    "df16.columns = [[\"id\", \"accelOff\"]]\n",
    "df16 = df16.ix[pathIndex]"
   ]
  },
  {
   "cell_type": "code",
   "execution_count": 35,
   "metadata": {
    "collapsed": false
   },
   "outputs": [],
   "source": [
    "cf = pd.concat([bf, df16], axis=1)\n",
    "maxAccelOff = cf[\"accelOff\"].sum()\n",
    "cf[\"accelOff\"] = cf[\"accelOff\"] / maxAccelOff\n",
    "cf = cf[normedFeatures]"
   ]
  },
  {
   "cell_type": "code",
   "execution_count": 36,
   "metadata": {
    "collapsed": false,
    "scrolled": true
   },
   "outputs": [
    {
     "data": {
      "image/png": "[encoded data removed]",
      "text/plain": [
       "<matplotlib.figure.Figure at 0x10a1bc410>"
      ]
     },
     "metadata": {},
     "output_type": "display_data"
    },
    {
     "data": {
      "image/png": "[encoded data removed]",
      "text/plain": [
       "<matplotlib.figure.Figure at 0x10ac3a250>"
      ]
     },
     "metadata": {},
     "output_type": "display_data"
    },
    {
     "data": {
      "image/png": "[encoded data removed]",
      "text/plain": [
       "<matplotlib.figure.Figure at 0x10aaaf610>"
      ]
     },
     "metadata": {},
     "output_type": "display_data"
    },
    {
     "data": {
      "image/png": "[encoded data removed]",
      "text/plain": [
       "<matplotlib.figure.Figure at 0x10ad3b610>"
      ]
     },
     "metadata": {},
     "output_type": "display_data"
    },
    {
     "data": {
      "image/png": "[encoded data removed]",
      "text/plain": [
       "<matplotlib.figure.Figure at 0x10acba590>"
      ]
     },
     "metadata": {},
     "output_type": "display_data"
    },
    {
     "data": {
      "image/png": "[encoded data removed]",
      "text/plain": [
       "<matplotlib.figure.Figure at 0x10a851910>"
      ]
     },
     "metadata": {},
     "output_type": "display_data"
    },
    {
     "data": {
      "image/png": "[encoded data removed]",
      "text/plain": [
       "<matplotlib.figure.Figure at 0x10a458dd0>"
      ]
     },
     "metadata": {},
     "output_type": "display_data"
    },
    {
     "data": {
      "image/png": "[encoded data removed]",
      "text/plain": [
       "<matplotlib.figure.Figure at 0x10a33b910>"
      ]
     },
     "metadata": {},
     "output_type": "display_data"
    },
    {
     "data": {
      "image/png": "[encoded data removed]",
      "text/plain": [
       "<matplotlib.figure.Figure at 0x10a394d90>"
      ]
     },
     "metadata": {},
     "output_type": "display_data"
    },
    {
     "data": {
      "image/png": "[encoded data removed]",
      "text/plain": [
       "<matplotlib.figure.Figure at 0x10aa5f990>"
      ]
     },
     "metadata": {},
     "output_type": "display_data"
    }
   ],
   "source": [
    "dir = \"./img/Result1/clusters-\" + str(sd)\n",
    "if not os.path.exists(dir):\n",
    "    os.mkdir(dir)\n",
    "    \n",
    "for i, ic in enumerate(zip(top10Index, top10Color)):\n",
    "    cf.ix[ic[0]].plot(kind='bar', color=colors[ic[1]])\n",
    "    plt.ylim(0, 1)\n",
    "    plt.title(str(top10Index[i]))\n",
    "    plt.savefig(dir + \"/top10-\" + str(i+1) + \".png\")\n",
    "    plt.show()"
   ]
  },
  {
   "cell_type": "code",
   "execution_count": null,
   "metadata": {
    "collapsed": true
   },
   "outputs": [],
   "source": [
    "    "
   ]
  }
 ],
 "metadata": {
  "kernelspec": {
   "display_name": "Python 2",
   "language": "python",
   "name": "python2"
  },
  "language_info": {
   "codemirror_mode": {
    "name": "ipython",
    "version": 2
   },
   "file_extension": ".py",
   "mimetype": "text/x-python",
   "name": "python",
   "nbconvert_exporter": "python",
   "pygments_lexer": "ipython2",
   "version": "2.7.10"
  },
  "widgets": {
   "state": {},
   "version": "1.1.2"
  }
 },
 "nbformat": 4,
 "nbformat_minor": 0
}
