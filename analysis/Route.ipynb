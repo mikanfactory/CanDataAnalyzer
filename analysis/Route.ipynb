{
 "cells": [
  {
   "cell_type": "code",
   "execution_count": 122,
   "metadata": {
    "collapsed": true
   },
   "outputs": [],
   "source": [
    "import sys\n",
    "import sqlite3\n",
    "import json\n",
    "from operator import itemgetter\n",
    "import numpy as np"
   ]
  },
  {
   "cell_type": "code",
   "execution_count": 13,
   "metadata": {
    "collapsed": true
   },
   "outputs": [],
   "source": [
    "dbname = '../db/sqlite3.db'\n",
    "conn = sqlite3.connect(dbname)\n",
    "conn.row_factory = sqlite3.Row\n",
    "c = conn.cursor()"
   ]
  },
  {
   "cell_type": "code",
   "execution_count": 19,
   "metadata": {
    "collapsed": true
   },
   "outputs": [],
   "source": [
    "with open('../data/working/setting.json') as f:    \n",
    "    data = json.load(f)"
   ]
  },
  {
   "cell_type": "code",
   "execution_count": 22,
   "metadata": {
    "collapsed": false
   },
   "outputs": [],
   "source": [
    "divideSize = data[\"grid\"][\"divideSize\"]\n",
    "northEast = data[\"grid\"][\"northEast\"]\n",
    "southWest = data[\"grid\"][\"southWest\"]"
   ]
  },
  {
   "cell_type": "code",
   "execution_count": 94,
   "metadata": {
    "collapsed": true
   },
   "outputs": [],
   "source": [
    "def createGridPoints():\n",
    "    dividerWidth = {\n",
    "        \"lat\": (northEast[\"lat\"] - southWest[\"lat\"])/divideSize,\n",
    "        \"lng\": (northEast[\"lng\"] - southWest[\"lng\"])/divideSize\n",
    "    }\n",
    "    \n",
    "    def helper(i, j):\n",
    "        return {\n",
    "            \"north\": northEast[\"lat\"] - dividerWidth[\"lat\"]*i,\n",
    "            \"south\": northEast[\"lat\"] - dividerWidth[\"lat\"]*(i+1),\n",
    "            \"east\": northEast[\"lng\"] - dividerWidth[\"lng\"]*j,\n",
    "            \"west\": northEast[\"lng\"] - dividerWidth[\"lng\"]*(j+1)\n",
    "        }\n",
    "    \n",
    "    outer = []\n",
    "    for i in range(divideSize):\n",
    "        inner = []\n",
    "        for j in range(divideSize):\n",
    "            inner.append(helper(i, j))\n",
    "        outer.append(inner)\n",
    "        \n",
    "    return outer"
   ]
  },
  {
   "cell_type": "code",
   "execution_count": 95,
   "metadata": {
    "collapsed": false
   },
   "outputs": [],
   "source": [
    "gridPoints = createGridPoints()"
   ]
  },
  {
   "cell_type": "code",
   "execution_count": 97,
   "metadata": {
    "collapsed": true
   },
   "outputs": [],
   "source": [
    "def findGridIndex(position, gridPoints):\n",
    "    for i in range(divideSize):\n",
    "        bounds = gridPoints[i][0]\n",
    "        if bounds[\"south\"] > position[\"lat\"]:  \n",
    "            continue            \n",
    "        for j in range(divideSize):\n",
    "            bounds = gridPoints[i][j]\n",
    "            if bounds[\"west\"] <= position[\"lng\"]:\n",
    "                return i*divideSize + j"
   ]
  },
  {
   "cell_type": "code",
   "execution_count": 39,
   "metadata": {
    "collapsed": false,
    "scrolled": true
   },
   "outputs": [],
   "source": [
    "c.execute(\"select * from cans where target = \\\"021021K1KAm\\\"\")\n",
    "\n",
    "markers = []\n",
    "for row in c:\n",
    "    lat, lng = row[\"GPSLatitude\"], row[\"GPSLongtitude\"]\n",
    "    lngW = lng - lat*0.000046038 - lng*0.000083043 + 0.010040\n",
    "    latW = lat - lat*0.00010695 + lng*0.000017464 + 0.0046017\n",
    "    markers.append((row[\"id\"], row[\"FrameIndex\"], { \"lat\": latW, \"lng\": lngW })) "
   ]
  },
  {
   "cell_type": "code",
   "execution_count": 118,
   "metadata": {
    "collapsed": false
   },
   "outputs": [],
   "source": [
    "gridIndices = [sys.maxint for _ in range(divideSize*divideSize)]"
   ]
  },
  {
   "cell_type": "code",
   "execution_count": 119,
   "metadata": {
    "collapsed": false,
    "scrolled": true
   },
   "outputs": [],
   "source": [
    "for marker in markers:\n",
    "    id, frame, position = marker\n",
    "    index = findGridIndex(position, gridPoints)\n",
    "    if gridIndices[index] > frame:\n",
    "        gridIndices[index] = frame\n"
   ]
  },
  {
   "cell_type": "code",
   "execution_count": 128,
   "metadata": {
    "collapsed": false
   },
   "outputs": [],
   "source": [
    "result = []\n",
    "for i, value in enumerate(gridIndices):\n",
    "    if value == sys.maxint:\n",
    "        result.append((i, 0))\n",
    "    else:\n",
    "        result.append((i, value))"
   ]
  },
  {
   "cell_type": "code",
   "execution_count": 130,
   "metadata": {
    "collapsed": true
   },
   "outputs": [],
   "source": [
    "with open('../data/working/route.csv', 'w') as fp:\n",
    "    fp.write('index,route\\n')\n",
    "    fp.write('\\n'.join('%d,%d' % x for x in result))"
   ]
  },
  {
   "cell_type": "code",
   "execution_count": null,
   "metadata": {
    "collapsed": true
   },
   "outputs": [],
   "source": []
  }
 ],
 "metadata": {
  "kernelspec": {
   "display_name": "Python 2",
   "language": "python",
   "name": "python2"
  },
  "language_info": {
   "codemirror_mode": {
    "name": "ipython",
    "version": 2
   },
   "file_extension": ".py",
   "mimetype": "text/x-python",
   "name": "python",
   "nbconvert_exporter": "python",
   "pygments_lexer": "ipython2",
   "version": "2.7.10"
  }
 },
 "nbformat": 4,
 "nbformat_minor": 1
}
