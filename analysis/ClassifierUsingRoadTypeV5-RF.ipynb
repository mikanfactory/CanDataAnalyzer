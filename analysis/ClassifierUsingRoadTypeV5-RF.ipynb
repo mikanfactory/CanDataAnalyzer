{
 "cells": [
  {
   "cell_type": "code",
   "execution_count": 1,
   "metadata": {
    "collapsed": false,
    "deletable": true,
    "editable": true
   },
   "outputs": [
    {
     "name": "stderr",
     "output_type": "stream",
     "text": [
      "\n",
      "Attaching package: ‘dplyr’\n",
      "\n",
      "The following objects are masked from ‘package:stats’:\n",
      "\n",
      "    filter, lag\n",
      "\n",
      "The following objects are masked from ‘package:base’:\n",
      "\n",
      "    intersect, setdiff, setequal, union\n",
      "\n",
      "randomForest 4.6-12\n",
      "Type rfNews() to see new features/changes/bug fixes.\n",
      "\n",
      "Attaching package: ‘randomForest’\n",
      "\n",
      "The following object is masked from ‘package:dplyr’:\n",
      "\n",
      "    combine\n",
      "\n",
      "The following object is masked from ‘package:ggplot2’:\n",
      "\n",
      "    margin\n",
      "\n"
     ]
    }
   ],
   "source": [
    "library(grid)\n",
    "library(rpart)\n",
    "library(rpart.plot)\n",
    "library(partykit)\n",
    "library(lattice)\n",
    "library(ggplot2)\n",
    "library(caret)\n",
    "library(dplyr)\n",
    "library(randomForest)"
   ]
  },
  {
   "cell_type": "code",
   "execution_count": 2,
   "metadata": {
    "collapsed": true,
    "deletable": true,
    "editable": true
   },
   "outputs": [],
   "source": [
    "set.seed(1)"
   ]
  },
  {
   "cell_type": "code",
   "execution_count": 3,
   "metadata": {
    "collapsed": false,
    "deletable": true,
    "editable": true
   },
   "outputs": [],
   "source": [
    "jRoadType <- c(\"都市間高速\", \"都市高速\", \"有料道路\", \"国道\", \"県道\", \"主要地方道\", \"一般道1、一般道2、一般道3\", \"その他\")\n",
    "jHighSpeeds <- c(\"都市間高速\", \"都市高速\", \"有料道路\")"
   ]
  },
  {
   "cell_type": "code",
   "execution_count": 4,
   "metadata": {
    "collapsed": true
   },
   "outputs": [],
   "source": [
    "valuables <- c(\"RoadType\",\"CurveAverage\",\"Speed\", \"Curve100\", \"Curve150\",\"MaxSpeed\",\"RiskFactor\",\"Curve\",\"DistSignal\",\"Pitch\",\"AheadDistance\",\"AverageVelocity\",\"TimeToCollision\",\"AccelerationSpeed\", \"Engine\", \"SteeringAngle\", \"TimeHeadway\", \"Jerk\", \"LaneCount\", \"DiffAvgSpeed\", \"EmptinessOfRoad\", \"RoadFactor\")"
   ]
  },
  {
   "cell_type": "code",
   "execution_count": 5,
   "metadata": {
    "collapsed": true,
    "deletable": true,
    "editable": true
   },
   "outputs": [],
   "source": [
    "printf <- function(...) cat(sprintf(...))"
   ]
  },
  {
   "cell_type": "code",
   "execution_count": 6,
   "metadata": {
    "collapsed": true,
    "deletable": true,
    "editable": true
   },
   "outputs": [],
   "source": [
    "CV <- function(dfx, verbose=FALSE) {        \n",
    "    folds <- createFolds(dfx$flag, k=2)\n",
    "    \n",
    "    count <- 1\n",
    "    errs <- c()\n",
    "    reds <- c()\n",
    "    blues <- c()\n",
    "    shorts <- c()\n",
    "    for (ids in folds) {\n",
    "        train <- dfx[-ids, c(valuables, \"flag\")]\n",
    "        test <- dfx[ids, ]\n",
    "        fit <- randomForest(flag ~ ., data=train, mtry=3, ntree=300) \n",
    "        p <- predict(fit, newdata=test)\n",
    "        \n",
    "        if (verbose) {\n",
    "            printf(\"Fold%d\\n\", count)\n",
    "            result <- correctVsPredict(test, p, verbose)\n",
    "            shorts <- c(shorts, shortErr(test, p))\n",
    "            reds <- c(reds, result[1])\n",
    "            blues <- c(blues, result[2])\n",
    "            count <- count + 1\n",
    "            printf(\"\\n\")\n",
    "        } else {\n",
    "            result <- correctVsPredict(test, p, verbose)\n",
    "            reds <- c(reds, result[1])\n",
    "            blues <- c(blues, result[2])\n",
    "        }\n",
    "        \n",
    "        nerr <- sum(p != test$flag)\n",
    "        errs <- c(errs, nerr / nrow(test))\n",
    "    }\n",
    "    \n",
    "    return(c(mean(errs), mean(shorts), mean(reds), mean(blues)))\n",
    "}"
   ]
  },
  {
   "cell_type": "code",
   "execution_count": 7,
   "metadata": {
    "collapsed": true
   },
   "outputs": [],
   "source": [
    "shortErr <- function(test, predictedFlags) {\n",
    "    predictedRedRows <- test[predictedFlags == \"Red\", ]\n",
    "    nRedAccel <- nrow(filter(predictedRedRows, flag == \"Red\" & AccelOrBrake == \"Accel\"))\n",
    "    nBlueAccel <- nrow(filter(predictedRedRows, flag == \"Blue\" & AccelOrBrake == \"Accel\"))\n",
    "    nPredictedRedsAB <- nRedAccel + nBlueAccel\n",
    "    printf(\"Short: accel/predictRedAB = %d/%d = %f\\n\", nRedAccel, nPredictedRedsAB, nRedAccel / nPredictedRedsAB)\n",
    "    # print(predictedRedRows %>% group_by(flag, AccelOrBrake) %>% summarize(count=n()))\n",
    "    nRedAccel / nPredictedRedsAB\n",
    "}"
   ]
  },
  {
   "cell_type": "code",
   "execution_count": 8,
   "metadata": {
    "collapsed": true,
    "deletable": true,
    "editable": true
   },
   "outputs": [],
   "source": [
    "correctVsPredict <- function(test, predictedFlags, verbose=FALSE) {    \n",
    "    # for All\n",
    "    # nTests <- nrow(test)\n",
    "    # nCorrectAll <- sum((predictedFlags == test$flag) == TRUE)\n",
    "    # printf(\"As fo All: correct/all = %d/%d = %f\\n\", nCorrectAll, nTests, nCorrectAll / nTests)\n",
    "    \n",
    "    # for Red\n",
    "    predictedRedRows <- test[predictedFlags == \"Red\", ]\n",
    "    nCorrectReds <- sum((predictedRedRows$flag == 'Red') == TRUE)\n",
    "    nPredictedReds <- nrow(predictedRedRows)\n",
    "    \n",
    "    # for Blue\n",
    "    predictedBlueRows <- test[predictedFlags == \"Blue\", ]\n",
    "    nCorrectBlues <- sum((predictedBlueRows$flag == 'Blue') == TRUE)\n",
    "    nPredictedBlues <- nrow(predictedBlueRows)\n",
    "        \n",
    "    if (verbose) {\n",
    "        printf(\"As for Red: correct/predict = %d/%d = %f\\n\", nCorrectReds, nPredictedReds, nCorrectReds / nPredictedReds)\n",
    "        printf(\"As for Blue: correct/predict = %d/%d = %f\\n\", nCorrectBlues, nPredictedBlues, nCorrectBlues / nPredictedBlues)  \n",
    "    }    \n",
    "    \n",
    "    c(nCorrectReds/nPredictedReds, nCorrectBlues/nPredictedBlues)\n",
    "}"
   ]
  },
  {
   "cell_type": "code",
   "execution_count": 9,
   "metadata": {
    "collapsed": true,
    "deletable": true,
    "editable": true
   },
   "outputs": [],
   "source": [
    "printRedRatios <- function(dfx) {\n",
    "    nRed <- nrow(dfx[dfx$flag == \"Red\", ])\n",
    "    nAll <- nrow(dfx)\n",
    "    printf(\"Red/All = %d/%d = %f\\n\", nRed, nAll, nRed/nAll)\n",
    "    printf(\"1 - Red/All = %d/%d = %f\\n\", nAll - nRed, nAll, 1 - nRed/nAll)\n",
    "}"
   ]
  },
  {
   "cell_type": "code",
   "execution_count": 10,
   "metadata": {
    "collapsed": true,
    "deletable": true,
    "editable": true
   },
   "outputs": [],
   "source": [
    "createFormula <- function(invalids, allFeatures) {\n",
    "    isValidColumn <- function(x) ! x %in% invalids\n",
    "    \n",
    "    features <- Filter(isValidColumn, allFeatures)\n",
    "    return(paste(\"flag ~ \", paste(features, collapse=\" + \")))\n",
    "}"
   ]
  },
  {
   "cell_type": "markdown",
   "metadata": {
    "deletable": true,
    "editable": true
   },
   "source": [
    "# Predict Reds"
   ]
  },
  {
   "cell_type": "code",
   "execution_count": 11,
   "metadata": {
    "collapsed": false,
    "deletable": true,
    "editable": true
   },
   "outputs": [],
   "source": [
    "df3 <- read.csv(\"../data/middle/sp5.csv\", stringsAsFactors=FALSE)"
   ]
  },
  {
   "cell_type": "code",
   "execution_count": 12,
   "metadata": {
    "collapsed": true
   },
   "outputs": [],
   "source": [
    "df3$AccelOrBrake[df3$flag == \"RedA\"] <- \"Accel\"\n",
    "df3$AccelOrBrake[df3$flag == \"RedB\"] <- \"Brake\"\n",
    "df3$AccelOrBrake[df3$flag == \"BlueA\"] <- \"Accel\"\n",
    "df3$AccelOrBrake[df3$flag == \"BlueB\"] <- \"Brake\""
   ]
  },
  {
   "cell_type": "code",
   "execution_count": 13,
   "metadata": {
    "collapsed": false,
    "deletable": true,
    "editable": true
   },
   "outputs": [],
   "source": [
    "df3$flag[df3$flag == \"RedA\"] <- \"Red\"\n",
    "df3$flag[df3$flag == \"RedB\"] <- \"Red\"\n",
    "df3$flag[df3$flag == \"BlueA\"] <- \"Blue\"\n",
    "df3$flag[df3$flag == \"BlueB\"] <- \"Blue\"\n",
    "df3$flag <- as.factor(df3$flag)"
   ]
  },
  {
   "cell_type": "code",
   "execution_count": 14,
   "metadata": {
    "collapsed": true,
    "deletable": true,
    "editable": true
   },
   "outputs": [],
   "source": [
    "allFeatures <- c(colnames(df3))"
   ]
  },
  {
   "cell_type": "code",
   "execution_count": 15,
   "metadata": {
    "collapsed": false,
    "deletable": true,
    "editable": true
   },
   "outputs": [],
   "source": [
    "roadTypes <- unique(df3$RoadType)"
   ]
  },
  {
   "cell_type": "code",
   "execution_count": 16,
   "metadata": {
    "collapsed": true
   },
   "outputs": [],
   "source": [
    "df <- df3[, c(valuables, \"AccelOrBrake\", \"flag\")]"
   ]
  },
  {
   "cell_type": "code",
   "execution_count": 17,
   "metadata": {
    "collapsed": false,
    "deletable": true,
    "editable": true,
    "scrolled": true
   },
   "outputs": [
    {
     "name": "stdout",
     "output_type": "stream",
     "text": [
      "RoadType: 7 (その他)\n",
      "Fold1\n",
      "As for Red: correct/predict = 12/13 = 0.923077\n",
      "As for Blue: correct/predict = 0/0 = NaN\n",
      "Short: accel/predictRedAB = 3/3 = 1.000000\n",
      "\n",
      "Fold2\n",
      "As for Red: correct/predict = 13/14 = 0.928571\n",
      "As for Blue: correct/predict = 0/0 = NaN\n",
      "Short: accel/predictRedAB = 2/2 = 1.000000\n",
      "\n",
      "Red/All = 25/27 = 0.925926\n",
      "1 - Red/All = 2/27 = 0.074074\n",
      "Red: Mean correct/predict = 0.925824\n",
      "Blue: Mean correct/predict = NaN\n",
      "Short: Mean accel/predictRed = 1.000000\n",
      "CV value: 0.074176\n",
      "\n",
      "RoadType: 6 (一般道1、一般道2、一般道3)\n",
      "Fold1\n",
      "As for Red: correct/predict = 22/43 = 0.511628\n",
      "As for Blue: correct/predict = 28/51 = 0.549020\n",
      "Short: accel/predictRedAB = 10/10 = 1.000000\n",
      "\n",
      "Fold2\n",
      "As for Red: correct/predict = 26/35 = 0.742857\n",
      "As for Blue: correct/predict = 41/60 = 0.683333\n",
      "Short: accel/predictRedAB = 13/13 = 1.000000\n",
      "\n",
      "Red/All = 90/189 = 0.476190\n",
      "1 - Red/All = 99/189 = 0.523810\n",
      "Red: Mean correct/predict = 0.627243\n",
      "Blue: Mean correct/predict = 0.616176\n",
      "Short: Mean accel/predictRed = 1.000000\n",
      "CV value: 0.381411\n",
      "\n",
      "RoadType: 4 (県道)\n",
      "Fold1\n",
      "As for Red: correct/predict = 11/21 = 0.523810\n",
      "As for Blue: correct/predict = 8/15 = 0.533333\n",
      "Short: accel/predictRedAB = 9/11 = 0.818182\n",
      "\n",
      "Fold2\n",
      "As for Red: correct/predict = 10/19 = 0.526316\n",
      "As for Blue: correct/predict = 8/16 = 0.500000\n",
      "Short: accel/predictRedAB = 7/7 = 1.000000\n",
      "\n",
      "Red/All = 36/71 = 0.507042\n",
      "1 - Red/All = 35/71 = 0.492958\n",
      "Red: Mean correct/predict = 0.525063\n",
      "Blue: Mean correct/predict = 0.516667\n",
      "Short: Mean accel/predictRed = 0.909091\n",
      "CV value: 0.478968\n",
      "\n",
      "RoadType: 5 (主要地方道)\n",
      "Fold1\n",
      "As for Red: correct/predict = 49/73 = 0.671233\n",
      "As for Blue: correct/predict = 51/79 = 0.645570\n",
      "Short: accel/predictRedAB = 30/35 = 0.857143\n",
      "\n",
      "Fold2\n",
      "As for Red: correct/predict = 41/66 = 0.621212\n",
      "As for Blue: correct/predict = 49/85 = 0.576471\n",
      "Short: accel/predictRedAB = 27/33 = 0.818182\n",
      "\n",
      "Red/All = 154/303 = 0.508251\n",
      "1 - Red/All = 149/303 = 0.491749\n",
      "Red: Mean correct/predict = 0.646222\n",
      "Blue: Mean correct/predict = 0.611020\n",
      "Short: Mean accel/predictRed = 0.837662\n",
      "CV value: 0.373039\n",
      "\n",
      "RoadType: 3 (国道)\n",
      "Fold1\n",
      "As for Red: correct/predict = 88/131 = 0.671756\n",
      "As for Blue: correct/predict = 18/31 = 0.580645\n",
      "Short: accel/predictRedAB = 69/80 = 0.862500\n",
      "\n",
      "Fold2\n",
      "As for Red: correct/predict = 89/138 = 0.644928\n",
      "As for Blue: correct/predict = 12/24 = 0.500000\n",
      "Short: accel/predictRedAB = 67/80 = 0.837500\n",
      "\n",
      "Red/All = 202/324 = 0.623457\n",
      "1 - Red/All = 122/324 = 0.376543\n",
      "Red: Mean correct/predict = 0.658342\n",
      "Blue: Mean correct/predict = 0.540323\n",
      "Short: Mean accel/predictRed = 0.850000\n",
      "CV value: 0.361111\n",
      "\n",
      "RoadType: 0 (都市間高速)\n",
      "Fold1\n",
      "As for Red: correct/predict = 21/32 = 0.656250\n",
      "As for Blue: correct/predict = 2/8 = 0.250000\n",
      "Short: accel/predictRedAB = 19/26 = 0.730769\n",
      "\n",
      "Fold2\n",
      "As for Red: correct/predict = 26/38 = 0.684211\n",
      "As for Blue: correct/predict = 1/3 = 0.333333\n",
      "Short: accel/predictRedAB = 24/30 = 0.800000\n",
      "\n",
      "Red/All = 55/81 = 0.679012\n",
      "1 - Red/All = 26/81 = 0.320988\n",
      "Red: Mean correct/predict = 0.670230\n",
      "Blue: Mean correct/predict = 0.291667\n",
      "Short: Mean accel/predictRed = 0.765385\n",
      "CV value: 0.383232\n",
      "\n",
      "RoadType: 2 (有料道路)\n",
      "Fold1\n",
      "As for Red: correct/predict = 10/16 = 0.625000\n",
      "As for Blue: correct/predict = 2/7 = 0.285714\n",
      "Short: accel/predictRedAB = 6/6 = 1.000000\n",
      "\n",
      "Fold2\n",
      "As for Red: correct/predict = 12/19 = 0.631579\n",
      "As for Blue: correct/predict = 1/5 = 0.200000\n",
      "Short: accel/predictRedAB = 8/10 = 0.800000\n",
      "\n",
      "Red/All = 31/47 = 0.659574\n",
      "1 - Red/All = 16/47 = 0.340426\n",
      "Red: Mean correct/predict = 0.628289\n",
      "Blue: Mean correct/predict = 0.242857\n",
      "Short: Mean accel/predictRed = 0.900000\n",
      "CV value: 0.468297\n",
      "\n"
     ]
    }
   ],
   "source": [
    "for (i in roadTypes) {\n",
    "    printf(\"RoadType: %d (%s)\\n\", i, jRoadType[i+1])\n",
    "    dfx <- df[df$RoadType == i, ]\n",
    "    result <- CV(dfx, verbose=TRUE)\n",
    "    printRedRatios(dfx)\n",
    "    printf(\"Red: Mean correct/predict = %f\\n\", result[3])\n",
    "    printf(\"Blue: Mean correct/predict = %f\\n\", result[4])\n",
    "    printf(\"Short: Mean accel/predictRed = %f\\n\", result[2]) \n",
    "    printf(\"CV value: %f\", result[1])\n",
    "    printf(\"\\n\\n\")\n",
    "}"
   ]
  },
  {
   "cell_type": "markdown",
   "metadata": {},
   "source": [
    "# Divide More ..."
   ]
  },
  {
   "cell_type": "code",
   "execution_count": 18,
   "metadata": {
    "collapsed": false
   },
   "outputs": [
    {
     "data": {
      "text/html": [
       "<table>\n",
       "<thead><tr><th scope=col>RoadType</th><th scope=col>counts</th></tr></thead>\n",
       "<tbody>\n",
       "\t<tr><td>0  </td><td> 81</td></tr>\n",
       "\t<tr><td>2  </td><td> 47</td></tr>\n",
       "\t<tr><td>3  </td><td>324</td></tr>\n",
       "\t<tr><td>4  </td><td> 71</td></tr>\n",
       "\t<tr><td>5  </td><td>303</td></tr>\n",
       "\t<tr><td>6  </td><td>189</td></tr>\n",
       "\t<tr><td>7  </td><td> 27</td></tr>\n",
       "</tbody>\n",
       "</table>\n"
      ],
      "text/latex": [
       "\\begin{tabular}{r|ll}\n",
       " RoadType & counts\\\\\n",
       "\\hline\n",
       "\t 0   &  81\\\\\n",
       "\t 2   &  47\\\\\n",
       "\t 3   & 324\\\\\n",
       "\t 4   &  71\\\\\n",
       "\t 5   & 303\\\\\n",
       "\t 6   & 189\\\\\n",
       "\t 7   &  27\\\\\n",
       "\\end{tabular}\n"
      ],
      "text/markdown": [
       "\n",
       "RoadType | counts | \n",
       "|---|---|---|---|---|---|---|\n",
       "| 0   |  81 | \n",
       "| 2   |  47 | \n",
       "| 3   | 324 | \n",
       "| 4   |  71 | \n",
       "| 5   | 303 | \n",
       "| 6   | 189 | \n",
       "| 7   |  27 | \n",
       "\n",
       "\n"
      ],
      "text/plain": [
       "  RoadType counts\n",
       "1 0         81   \n",
       "2 2         47   \n",
       "3 3        324   \n",
       "4 4         71   \n",
       "5 5        303   \n",
       "6 6        189   \n",
       "7 7         27   "
      ]
     },
     "metadata": {},
     "output_type": "display_data"
    }
   ],
   "source": [
    "df %>% group_by(RoadType) %>% summarize(counts=n())"
   ]
  },
  {
   "cell_type": "markdown",
   "metadata": {
    "deletable": true,
    "editable": true
   },
   "source": [
    "# Threshold = 10, 30"
   ]
  },
  {
   "cell_type": "code",
   "execution_count": 19,
   "metadata": {
    "collapsed": true,
    "deletable": true,
    "editable": true
   },
   "outputs": [],
   "source": [
    "set.seed(1)"
   ]
  },
  {
   "cell_type": "code",
   "execution_count": 20,
   "metadata": {
    "collapsed": true,
    "deletable": true,
    "editable": true
   },
   "outputs": [],
   "source": [
    "# Not Use\n",
    "dfx <- df[df$RoadType == i, ]\n",
    "folds <- createFolds(dfx$flag, k=5)"
   ]
  },
  {
   "cell_type": "code",
   "execution_count": 21,
   "metadata": {
    "collapsed": true,
    "deletable": true,
    "editable": true
   },
   "outputs": [],
   "source": [
    "verbose = TRUE"
   ]
  },
  {
   "cell_type": "code",
   "execution_count": 22,
   "metadata": {
    "collapsed": false,
    "deletable": true,
    "editable": true,
    "scrolled": true
   },
   "outputs": [],
   "source": [
    "i = 6\n",
    "dfx <- df[df$RoadType == i, ]\n",
    "folds <- createFolds(dfx$flag, k=5)"
   ]
  },
  {
   "cell_type": "code",
   "execution_count": 23,
   "metadata": {
    "collapsed": false,
    "deletable": true,
    "editable": true,
    "scrolled": true
   },
   "outputs": [],
   "source": [
    "i = 4\n",
    "dfx <- df[df$RoadType == i, ]\n",
    "folds <- createFolds(dfx$flag, k=5)"
   ]
  },
  {
   "cell_type": "code",
   "execution_count": 24,
   "metadata": {
    "collapsed": false,
    "deletable": true,
    "editable": true,
    "scrolled": true
   },
   "outputs": [
    {
     "name": "stdout",
     "output_type": "stream",
     "text": [
      "RoadType: 5 (主要地方道)\n",
      "Fold1\n",
      "As for Red: correct/predict = 8/15 = 0.533333\n",
      "As for Blue: correct/predict = 11/20 = 0.550000\n",
      "Short: accel/predictRedAB = 3/3 = 1.000000\n",
      "\n",
      "Fold2\n",
      "As for Red: correct/predict = 8/19 = 0.421053\n",
      "As for Blue: correct/predict = 7/15 = 0.466667\n",
      "Short: accel/predictRedAB = 4/4 = 1.000000\n",
      "\n",
      "AverageVelocity <= 10:\n",
      "Red/All = 33/69 = 0.478261\n",
      "1 - Red/All = 36/69 = 0.521739\n",
      "Red: Mean correct/predict = 0.628289\n",
      "Blue: Mean correct/predict = 0.242857\n",
      "Short: Mean accel/predictRed = 0.900000\n",
      "CV value: 0.507983\n",
      "\n",
      "Fold1\n",
      "As for Red: correct/predict = 28/45 = 0.622222\n",
      "As for Blue: correct/predict = 28/45 = 0.622222\n",
      "Short: accel/predictRedAB = 16/19 = 0.842105\n",
      "\n",
      "Fold2\n",
      "As for Red: correct/predict = 29/46 = 0.630435\n",
      "As for Blue: correct/predict = 27/42 = 0.642857\n",
      "Short: accel/predictRedAB = 18/20 = 0.900000\n",
      "\n",
      "10 < AverageVelocity <= 30:\n",
      "Red/All = 89/178 = 0.500000\n",
      "1 - Red/All = 89/178 = 0.500000\n",
      "Red: Mean correct/predict = 0.628289\n",
      "Blue: Mean correct/predict = 0.242857\n",
      "Short: Mean accel/predictRed = 0.900000\n",
      "CV value: 0.370707\n",
      "\n",
      "Fold1\n",
      "As for Red: correct/predict = 13/20 = 0.650000\n",
      "As for Blue: correct/predict = 5/8 = 0.625000\n",
      "Short: accel/predictRedAB = 9/11 = 0.818182\n",
      "\n",
      "Fold2\n",
      "As for Red: correct/predict = 15/25 = 0.600000\n",
      "As for Blue: correct/predict = 2/3 = 0.666667\n",
      "Short: accel/predictRedAB = 10/11 = 0.909091\n",
      "\n",
      "AverageVelocity > 30:\n",
      "Red/All = 32/56 = 0.571429\n",
      "1 - Red/All = 24/56 = 0.428571\n",
      "Red: Mean correct/predict = 0.628289\n",
      "Blue: Mean correct/predict = 0.242857\n",
      "Short: Mean accel/predictRed = 0.900000\n",
      "CV value: 0.370707\n",
      "\n"
     ]
    }
   ],
   "source": [
    "i = 5\n",
    "threshold1 <- 10\n",
    "threshold2 <- 30\n",
    "printf(\"RoadType: %d (%s)\\n\", i, jRoadType[i+1])\n",
    "dfx <- df[df$RoadType == i, ]\n",
    "dfx1 <- dfx %>% filter(AverageVelocity <= threshold1)\n",
    "dfx2 <- dfx %>% filter(AverageVelocity > threshold1, AverageVelocity <= threshold2)\n",
    "dfx3 <- dfx %>% filter(AverageVelocity > threshold2)\n",
    "\n",
    "result1 <- CV(dfx1, verbose=verbose)        \n",
    "printf(\"AverageVelocity <= %d:\\n\", threshold1)\n",
    "printRedRatios(dfx1)        \n",
    "printf(\"Red: Mean correct/predict = %f\\n\", result[3])\n",
    "printf(\"Blue: Mean correct/predict = %f\\n\", result[4])\n",
    "printf(\"Short: Mean accel/predictRed = %f\\n\", result[2]) \n",
    "printf(\"CV value: %f\", result1[1])        \n",
    "printf(\"\\n\\n\")\n",
    "        \n",
    "result2 <- CV(dfx2, verbose=verbose)\n",
    "printf(\"%d < AverageVelocity <= %d:\\n\", threshold1, threshold2)\n",
    "printRedRatios(dfx2)\n",
    "printf(\"Red: Mean correct/predict = %f\\n\", result[3])\n",
    "printf(\"Blue: Mean correct/predict = %f\\n\", result[4])\n",
    "printf(\"Short: Mean accel/predictRed = %f\\n\", result[2]) \n",
    "printf(\"CV value: %f\", result2[1])       \n",
    "printf(\"\\n\\n\")\n",
    "\n",
    "result3 <- CV(dfx3, verbose=verbose)        \n",
    "printf(\"AverageVelocity > %d:\\n\", threshold2)\n",
    "printRedRatios(dfx3)\n",
    "printf(\"Red: Mean correct/predict = %f\\n\", result[3])\n",
    "printf(\"Blue: Mean correct/predict = %f\\n\", result[4])\n",
    "printf(\"Short: Mean accel/predictRed = %f\\n\", result[2]) \n",
    "printf(\"CV value: %f\", result2[1])       \n",
    "printf(\"\\n\\n\")"
   ]
  },
  {
   "cell_type": "code",
   "execution_count": 25,
   "metadata": {
    "collapsed": false,
    "deletable": true,
    "editable": true,
    "scrolled": true
   },
   "outputs": [
    {
     "name": "stdout",
     "output_type": "stream",
     "text": [
      "RoadType: 3 (国道)\n",
      "Fold1\n",
      "As for Red: correct/predict = 13/21 = 0.619048\n",
      "As for Blue: correct/predict = 1/5 = 0.200000\n",
      "Short: accel/predictRedAB = 12/13 = 0.923077\n",
      "\n",
      "Fold2\n",
      "As for Red: correct/predict = 14/20 = 0.700000\n",
      "As for Blue: correct/predict = 3/6 = 0.500000\n",
      "Short: accel/predictRedAB = 13/15 = 0.866667\n",
      "\n",
      "AverageVelocity <= 10:\n",
      "Red/All = 34/52 = 0.653846\n",
      "1 - Red/All = 18/52 = 0.346154\n",
      "Red: Mean correct/predict = 0.628289\n",
      "Blue: Mean correct/predict = 0.242857\n",
      "Short: Mean accel/predictRed = 0.900000\n",
      "CV value: 0.403846\n",
      "\n",
      "Fold1\n",
      "As for Red: correct/predict = 41/60 = 0.683333\n",
      "As for Blue: correct/predict = 10/20 = 0.500000\n",
      "Short: accel/predictRedAB = 33/37 = 0.891892\n",
      "\n",
      "Fold2\n",
      "As for Red: correct/predict = 40/58 = 0.689655\n",
      "As for Blue: correct/predict = 11/23 = 0.478261\n",
      "Short: accel/predictRedAB = 29/32 = 0.906250\n",
      "\n",
      "10 < AverageVelocity <= 30:\n",
      "Red/All = 103/161 = 0.639752\n",
      "1 - Red/All = 58/161 = 0.360248\n",
      "Red: Mean correct/predict = 0.628289\n",
      "Blue: Mean correct/predict = 0.242857\n",
      "Short: Mean accel/predictRed = 0.900000\n",
      "CV value: 0.366435\n",
      "\n",
      "Fold1\n",
      "As for Red: correct/predict = 25/40 = 0.625000\n",
      "As for Blue: correct/predict = 8/15 = 0.533333\n",
      "Short: accel/predictRedAB = 19/25 = 0.760000\n",
      "\n",
      "Fold2\n",
      "As for Red: correct/predict = 25/40 = 0.625000\n",
      "As for Blue: correct/predict = 8/16 = 0.500000\n",
      "Short: accel/predictRedAB = 18/24 = 0.750000\n",
      "\n",
      "AverageVelocity > 30:\n",
      "Red/All = 65/111 = 0.585586\n",
      "1 - Red/All = 46/111 = 0.414414\n",
      "Red: Mean correct/predict = 0.628289\n",
      "Blue: Mean correct/predict = 0.242857\n",
      "Short: Mean accel/predictRed = 0.900000\n",
      "CV value: 0.366435\n",
      "\n"
     ]
    }
   ],
   "source": [
    "i = 3\n",
    "threshold1 <- 10\n",
    "threshold2 <- 30\n",
    "printf(\"RoadType: %d (%s)\\n\", i, jRoadType[i+1])\n",
    "dfx <- df[df$RoadType == i, ]\n",
    "dfx1 <- dfx %>% filter(AverageVelocity <= threshold1)\n",
    "dfx2 <- dfx %>% filter(AverageVelocity > threshold1, AverageVelocity <= threshold2)\n",
    "dfx3 <- dfx %>% filter(AverageVelocity > threshold2)\n",
    "\n",
    "result1 <- CV(dfx1, verbose=verbose)        \n",
    "printf(\"AverageVelocity <= %d:\\n\", threshold1)\n",
    "printRedRatios(dfx1)        \n",
    "printf(\"Red: Mean correct/predict = %f\\n\", result[3])\n",
    "printf(\"Blue: Mean correct/predict = %f\\n\", result[4])\n",
    "printf(\"Short: Mean accel/predictRed = %f\\n\", result[2]) \n",
    "printf(\"CV value: %f\", result1[1])        \n",
    "printf(\"\\n\\n\")\n",
    "        \n",
    "result2 <- CV(dfx2, verbose=verbose)\n",
    "printf(\"%d < AverageVelocity <= %d:\\n\", threshold1, threshold2)\n",
    "printRedRatios(dfx2)\n",
    "printf(\"Red: Mean correct/predict = %f\\n\", result[3])\n",
    "printf(\"Blue: Mean correct/predict = %f\\n\", result[4])\n",
    "printf(\"Short: Mean accel/predictRed = %f\\n\", result[2]) \n",
    "printf(\"CV value: %f\", result2[1])       \n",
    "printf(\"\\n\\n\")\n",
    "\n",
    "result3 <- CV(dfx3, verbose=verbose)        \n",
    "printf(\"AverageVelocity > %d:\\n\", threshold2)\n",
    "printRedRatios(dfx3)\n",
    "printf(\"Red: Mean correct/predict = %f\\n\", result[3])\n",
    "printf(\"Blue: Mean correct/predict = %f\\n\", result[4])\n",
    "printf(\"Short: Mean accel/predictRed = %f\\n\", result[2]) \n",
    "printf(\"CV value: %f\", result2[1])       \n",
    "printf(\"\\n\\n\")"
   ]
  },
  {
   "cell_type": "code",
   "execution_count": null,
   "metadata": {
    "collapsed": true,
    "deletable": true,
    "editable": true
   },
   "outputs": [],
   "source": []
  }
 ],
 "metadata": {
  "kernelspec": {
   "display_name": "R",
   "language": "R",
   "name": "ir"
  },
  "language_info": {
   "codemirror_mode": "r",
   "file_extension": ".r",
   "mimetype": "text/x-r-source",
   "name": "R",
   "pygments_lexer": "r",
   "version": "3.3.2"
  }
 },
 "nbformat": 4,
 "nbformat_minor": 1
}
