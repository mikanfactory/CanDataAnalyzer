{
 "cells": [
  {
   "cell_type": "code",
   "execution_count": 1,
   "metadata": {
    "collapsed": false,
    "deletable": true,
    "editable": true
   },
   "outputs": [
    {
     "name": "stderr",
     "output_type": "stream",
     "text": [
      "\n",
      "Attaching package: ‘dplyr’\n",
      "\n",
      "The following objects are masked from ‘package:stats’:\n",
      "\n",
      "    filter, lag\n",
      "\n",
      "The following objects are masked from ‘package:base’:\n",
      "\n",
      "    intersect, setdiff, setequal, union\n",
      "\n",
      "randomForest 4.6-12\n",
      "Type rfNews() to see new features/changes/bug fixes.\n",
      "\n",
      "Attaching package: ‘randomForest’\n",
      "\n",
      "The following object is masked from ‘package:dplyr’:\n",
      "\n",
      "    combine\n",
      "\n",
      "The following object is masked from ‘package:ggplot2’:\n",
      "\n",
      "    margin\n",
      "\n"
     ]
    }
   ],
   "source": [
    "library(grid)\n",
    "library(rpart)\n",
    "library(rpart.plot)\n",
    "library(partykit)\n",
    "library(lattice)\n",
    "library(ggplot2)\n",
    "library(caret)\n",
    "library(dplyr)\n",
    "library(randomForest)"
   ]
  },
  {
   "cell_type": "code",
   "execution_count": 2,
   "metadata": {
    "collapsed": true,
    "deletable": true,
    "editable": true
   },
   "outputs": [],
   "source": [
    "set.seed(1)"
   ]
  },
  {
   "cell_type": "code",
   "execution_count": 3,
   "metadata": {
    "collapsed": false,
    "deletable": true,
    "editable": true
   },
   "outputs": [],
   "source": [
    "jRoadType <- c(\"都市間高速\", \"都市高速\", \"有料道路\", \"国道\", \"県道\", \"主要地方道\", \"一般道1、一般道2、一般道3\", \"その他\")\n",
    "jHighSpeeds <- c(\"都市間高速\", \"都市高速\", \"有料道路\")"
   ]
  },
  {
   "cell_type": "code",
   "execution_count": 4,
   "metadata": {
    "collapsed": true
   },
   "outputs": [],
   "source": [
    "valuables <- c(\"RoadType\",\"CurveAverage\",\"Speed\", \"Curve100\", \"Curve150\",\"MaxSpeed\",\"RiskFactor\",\"Curve\",\"DistSignal\",\"Pitch\",\"AheadDistance\",\"AverageVelocity\",\"TimeToCollision\",\"AccelerationSpeed\", \"Engine\", \"SteeringAngle\", \"TimeHeadway\", \"Jerk\", \"LaneCount\", \"DiffAvgSpeed\", \"EmptinessOfRoad\", \"RoadFactor\")"
   ]
  },
  {
   "cell_type": "code",
   "execution_count": 5,
   "metadata": {
    "collapsed": true,
    "deletable": true,
    "editable": true
   },
   "outputs": [],
   "source": [
    "printf <- function(...) cat(sprintf(...))"
   ]
  },
  {
   "cell_type": "code",
   "execution_count": 6,
   "metadata": {
    "collapsed": true,
    "deletable": true,
    "editable": true
   },
   "outputs": [],
   "source": [
    "CV <- function(dfx, verbose=FALSE) {        \n",
    "    folds <- createFolds(dfx$flag, k=5)\n",
    "    \n",
    "    count <- 1\n",
    "    errs <- c()\n",
    "    reds <- c()\n",
    "    blues <- c()\n",
    "    shorts <- c()\n",
    "    for (ids in folds) {\n",
    "        train <- dfx[-ids, c(valuables, \"flag\")]\n",
    "        test <- dfx[ids, ]\n",
    "        fit <- randomForest(flag ~ ., data=train, mtry=3, ntree=300) \n",
    "        p <- predict(fit, newdata=test)\n",
    "        \n",
    "        if (verbose) {\n",
    "            printf(\"Fold%d\\n\", count)\n",
    "            result <- correctVsPredict(test, p, verbose)\n",
    "            shorts <- c(shorts, shortErr(test, p))\n",
    "            reds <- c(reds, result[1])\n",
    "            blues <- c(blues, result[2])\n",
    "            count <- count + 1\n",
    "            printf(\"\\n\")\n",
    "        } else {\n",
    "            result <- correctVsPredict(test, p, verbose)\n",
    "            reds <- c(reds, result[1])\n",
    "            blues <- c(blues, result[2])\n",
    "        }\n",
    "        \n",
    "        nerr <- sum(p != test$flag)\n",
    "        errs <- c(errs, nerr / nrow(test))\n",
    "    }\n",
    "    \n",
    "    return(c(mean(errs), mean(shorts), mean(reds), mean(blues)))\n",
    "}"
   ]
  },
  {
   "cell_type": "code",
   "execution_count": 7,
   "metadata": {
    "collapsed": true
   },
   "outputs": [],
   "source": [
    "shortErr <- function(test, predictedFlags) {\n",
    "    predictedRedRowsInTrue <- nrow(test[test$flag == \"Red\" & test$AccelOrBrake == \"Accel\" & predictedFlags == \"Red\", ])\n",
    "    nRedAccel <- nrow(test[test$flag == \"Red\" & test$AccelOrBrake == \"Accel\", ])\n",
    "    printf(\"Short: predictedRedAInTrueA/trueRedA = %d/%d = %f\\n\", predictedRedRowsInTrue, nRedAccel, predictedRedRowsInTrue / nRedAccel)\n",
    "    # print(predictedRedRowsInTrue %>% group_by(flag, AccelOrBrake) %>% summarize(count=n()))\n",
    "    predictedRedRowsInTrue / nRedAccel\n",
    "}"
   ]
  },
  {
   "cell_type": "code",
   "execution_count": 8,
   "metadata": {
    "collapsed": true,
    "deletable": true,
    "editable": true
   },
   "outputs": [],
   "source": [
    "correctVsPredict <- function(test, predictedFlags, verbose=FALSE) {    \n",
    "    # for All\n",
    "    # nTests <- nrow(test)\n",
    "    # nCorrectAll <- sum((predictedFlags == test$flag) == TRUE)\n",
    "    # printf(\"As fo All: correct/all = %d/%d = %f\\n\", nCorrectAll, nTests, nCorrectAll / nTests)\n",
    "    \n",
    "    # for Red\n",
    "    predictedRedRows <- test[predictedFlags == \"Red\", ]\n",
    "    nCorrectReds <- sum((predictedRedRows$flag == 'Red') == TRUE)\n",
    "    nPredictedReds <- nrow(predictedRedRows)\n",
    "    \n",
    "    # for Blue\n",
    "    predictedBlueRows <- test[predictedFlags == \"Blue\", ]\n",
    "    nCorrectBlues <- sum((predictedBlueRows$flag == 'Blue') == TRUE)\n",
    "    nPredictedBlues <- nrow(predictedBlueRows)\n",
    "        \n",
    "    if (verbose) {\n",
    "        printf(\"As for Red: correct/predict = %d/%d = %f\\n\", nCorrectReds, nPredictedReds, nCorrectReds / nPredictedReds)\n",
    "        printf(\"As for Blue: correct/predict = %d/%d = %f\\n\", nCorrectBlues, nPredictedBlues, nCorrectBlues / nPredictedBlues)  \n",
    "    }    \n",
    "    \n",
    "    c(nCorrectReds/nPredictedReds, nCorrectBlues/nPredictedBlues)\n",
    "}"
   ]
  },
  {
   "cell_type": "code",
   "execution_count": 9,
   "metadata": {
    "collapsed": true,
    "deletable": true,
    "editable": true
   },
   "outputs": [],
   "source": [
    "printRedRatios <- function(dfx) {\n",
    "    nRed <- nrow(dfx[dfx$flag == \"Red\", ])\n",
    "    nAll <- nrow(dfx)\n",
    "    printf(\"Red/All = %d/%d = %f\\n\", nRed, nAll, nRed/nAll)\n",
    "    printf(\"1 - Red/All = %d/%d = %f\\n\", nAll - nRed, nAll, 1 - nRed/nAll)\n",
    "}"
   ]
  },
  {
   "cell_type": "code",
   "execution_count": 10,
   "metadata": {
    "collapsed": true,
    "deletable": true,
    "editable": true
   },
   "outputs": [],
   "source": [
    "createFormula <- function(invalids, allFeatures) {\n",
    "    isValidColumn <- function(x) ! x %in% invalids\n",
    "    \n",
    "    features <- Filter(isValidColumn, allFeatures)\n",
    "    return(paste(\"flag ~ \", paste(features, collapse=\" + \")))\n",
    "}"
   ]
  },
  {
   "cell_type": "markdown",
   "metadata": {
    "deletable": true,
    "editable": true
   },
   "source": [
    "# Predict Reds"
   ]
  },
  {
   "cell_type": "code",
   "execution_count": 11,
   "metadata": {
    "collapsed": false,
    "deletable": true,
    "editable": true
   },
   "outputs": [],
   "source": [
    "df3 <- read.csv(\"../data/middle/sp5.csv\", stringsAsFactors=FALSE)"
   ]
  },
  {
   "cell_type": "code",
   "execution_count": 12,
   "metadata": {
    "collapsed": true
   },
   "outputs": [],
   "source": [
    "df3$AccelOrBrake[df3$flag == \"RedA\"] <- \"Accel\"\n",
    "df3$AccelOrBrake[df3$flag == \"RedB\"] <- \"Brake\"\n",
    "df3$AccelOrBrake[df3$flag == \"BlueA\"] <- \"Accel\"\n",
    "df3$AccelOrBrake[df3$flag == \"BlueB\"] <- \"Brake\""
   ]
  },
  {
   "cell_type": "code",
   "execution_count": 13,
   "metadata": {
    "collapsed": false,
    "deletable": true,
    "editable": true
   },
   "outputs": [],
   "source": [
    "df3$flag[df3$flag == \"RedA\"] <- \"Red\"\n",
    "df3$flag[df3$flag == \"RedB\"] <- \"Red\"\n",
    "df3$flag[df3$flag == \"BlueA\"] <- \"Blue\"\n",
    "df3$flag[df3$flag == \"BlueB\"] <- \"Blue\"\n",
    "df3$flag <- as.factor(df3$flag)"
   ]
  },
  {
   "cell_type": "code",
   "execution_count": 14,
   "metadata": {
    "collapsed": true,
    "deletable": true,
    "editable": true
   },
   "outputs": [],
   "source": [
    "allFeatures <- c(colnames(df3))"
   ]
  },
  {
   "cell_type": "code",
   "execution_count": 15,
   "metadata": {
    "collapsed": false,
    "deletable": true,
    "editable": true
   },
   "outputs": [],
   "source": [
    "roadTypes <- unique(df3$RoadType)"
   ]
  },
  {
   "cell_type": "code",
   "execution_count": 16,
   "metadata": {
    "collapsed": true
   },
   "outputs": [],
   "source": [
    "df <- df3[, c(valuables, \"AccelOrBrake\", \"flag\")]"
   ]
  },
  {
   "cell_type": "code",
   "execution_count": 17,
   "metadata": {
    "collapsed": false,
    "deletable": true,
    "editable": true,
    "scrolled": true
   },
   "outputs": [
    {
     "name": "stdout",
     "output_type": "stream",
     "text": [
      "RoadType: 7 (その他)\n",
      "Fold1\n",
      "As for Red: correct/predict = 5/5 = 1.000000\n",
      "As for Blue: correct/predict = 0/0 = NaN\n",
      "Short: predictedRedAInTrueA/trueRedA = 1/1 = 1.000000\n",
      "\n",
      "Fold2\n",
      "As for Red: correct/predict = 5/6 = 0.833333\n",
      "As for Blue: correct/predict = 0/0 = NaN\n",
      "Short: predictedRedAInTrueA/trueRedA = 0/0 = NaN\n",
      "\n",
      "Fold3\n",
      "As for Red: correct/predict = 5/5 = 1.000000\n",
      "As for Blue: correct/predict = 0/0 = NaN\n",
      "Short: predictedRedAInTrueA/trueRedA = 1/1 = 1.000000\n",
      "\n",
      "Fold4\n",
      "As for Red: correct/predict = 5/5 = 1.000000\n",
      "As for Blue: correct/predict = 0/0 = NaN\n",
      "Short: predictedRedAInTrueA/trueRedA = 2/2 = 1.000000\n",
      "\n",
      "Fold5\n",
      "As for Red: correct/predict = 5/6 = 0.833333\n",
      "As for Blue: correct/predict = 0/0 = NaN\n",
      "Short: predictedRedAInTrueA/trueRedA = 1/1 = 1.000000\n",
      "\n",
      "Red/All = 25/27 = 0.925926\n",
      "1 - Red/All = 2/27 = 0.074074\n",
      "Red: Mean correct/predict = 0.933333\n",
      "Blue: Mean correct/predict = NaN\n",
      "Short: Mean accel/predictRed = NaN\n",
      "CV value: 0.066667\n",
      "\n",
      "RoadType: 6 (一般道1、一般道2、一般道3)\n",
      "Fold1\n",
      "As for Red: correct/predict = 11/18 = 0.611111\n",
      "As for Blue: correct/predict = 12/19 = 0.631579\n",
      "Short: predictedRedAInTrueA/trueRedA = 4/6 = 0.666667\n",
      "\n",
      "Fold2\n",
      "As for Red: correct/predict = 12/15 = 0.800000\n",
      "As for Blue: correct/predict = 17/23 = 0.739130\n",
      "Short: predictedRedAInTrueA/trueRedA = 7/10 = 0.700000\n",
      "\n",
      "Fold3\n",
      "As for Red: correct/predict = 10/18 = 0.555556\n",
      "As for Blue: correct/predict = 12/20 = 0.600000\n",
      "Short: predictedRedAInTrueA/trueRedA = 6/10 = 0.600000\n",
      "\n",
      "Fold4\n",
      "As for Red: correct/predict = 9/13 = 0.692308\n",
      "As for Blue: correct/predict = 16/25 = 0.640000\n",
      "Short: predictedRedAInTrueA/trueRedA = 5/11 = 0.454545\n",
      "\n",
      "Fold5\n",
      "As for Red: correct/predict = 10/14 = 0.714286\n",
      "As for Blue: correct/predict = 16/24 = 0.666667\n",
      "Short: predictedRedAInTrueA/trueRedA = 7/13 = 0.538462\n",
      "\n",
      "Red/All = 90/189 = 0.476190\n",
      "1 - Red/All = 99/189 = 0.523810\n",
      "Red: Mean correct/predict = 0.674652\n",
      "Blue: Mean correct/predict = 0.655475\n",
      "Short: Mean accel/predictRed = 0.591935\n",
      "CV value: 0.338834\n",
      "\n",
      "RoadType: 4 (県道)\n",
      "Fold1\n",
      "As for Red: correct/predict = 5/9 = 0.555556\n",
      "As for Blue: correct/predict = 3/5 = 0.600000\n",
      "Short: predictedRedAInTrueA/trueRedA = 5/5 = 1.000000\n",
      "\n",
      "Fold2\n",
      "As for Red: correct/predict = 3/4 = 0.750000\n",
      "As for Blue: correct/predict = 6/10 = 0.600000\n",
      "Short: predictedRedAInTrueA/trueRedA = 3/6 = 0.500000\n",
      "\n",
      "Fold3\n",
      "As for Red: correct/predict = 3/7 = 0.428571\n",
      "As for Blue: correct/predict = 3/7 = 0.428571\n",
      "Short: predictedRedAInTrueA/trueRedA = 3/4 = 0.750000\n",
      "\n",
      "Fold4\n",
      "As for Red: correct/predict = 3/7 = 0.428571\n",
      "As for Blue: correct/predict = 3/7 = 0.428571\n",
      "Short: predictedRedAInTrueA/trueRedA = 2/5 = 0.400000\n",
      "\n",
      "Fold5\n",
      "As for Red: correct/predict = 5/10 = 0.500000\n",
      "As for Blue: correct/predict = 2/5 = 0.400000\n",
      "Short: predictedRedAInTrueA/trueRedA = 3/4 = 0.750000\n",
      "\n",
      "Red/All = 36/71 = 0.507042\n",
      "1 - Red/All = 35/71 = 0.492958\n",
      "Red: Mean correct/predict = 0.532540\n",
      "Blue: Mean correct/predict = 0.491429\n",
      "Short: Mean accel/predictRed = 0.680000\n",
      "CV value: 0.492381\n",
      "\n",
      "RoadType: 5 (主要地方道)\n",
      "Fold1\n",
      "As for Red: correct/predict = 24/37 = 0.648649\n",
      "As for Blue: correct/predict = 17/23 = 0.739130\n",
      "Short: predictedRedAInTrueA/trueRedA = 15/17 = 0.882353\n",
      "\n",
      "Fold2\n",
      "As for Red: correct/predict = 17/33 = 0.515152\n",
      "As for Blue: correct/predict = 13/27 = 0.481481\n",
      "Short: predictedRedAInTrueA/trueRedA = 11/18 = 0.611111\n",
      "\n",
      "Fold3\n",
      "As for Red: correct/predict = 20/32 = 0.625000\n",
      "As for Blue: correct/predict = 18/29 = 0.620690\n",
      "Short: predictedRedAInTrueA/trueRedA = 12/21 = 0.571429\n",
      "\n",
      "Fold4\n",
      "As for Red: correct/predict = 25/37 = 0.675676\n",
      "As for Blue: correct/predict = 18/24 = 0.750000\n",
      "Short: predictedRedAInTrueA/trueRedA = 15/19 = 0.789474\n",
      "\n",
      "Fold5\n",
      "As for Red: correct/predict = 17/27 = 0.629630\n",
      "As for Blue: correct/predict = 20/34 = 0.588235\n",
      "Short: predictedRedAInTrueA/trueRedA = 11/18 = 0.611111\n",
      "\n",
      "Red/All = 154/303 = 0.508251\n",
      "1 - Red/All = 149/303 = 0.491749\n",
      "Red: Mean correct/predict = 0.618821\n",
      "Blue: Mean correct/predict = 0.635907\n",
      "Short: Mean accel/predictRed = 0.693095\n",
      "CV value: 0.376448\n",
      "\n",
      "RoadType: 3 (国道)\n",
      "Fold1\n",
      "As for Red: correct/predict = 32/50 = 0.640000\n",
      "As for Blue: correct/predict = 7/16 = 0.437500\n",
      "Short: predictedRedAInTrueA/trueRedA = 25/33 = 0.757576\n",
      "\n",
      "Fold2\n",
      "As for Red: correct/predict = 35/48 = 0.729167\n",
      "As for Blue: correct/predict = 11/16 = 0.687500\n",
      "Short: predictedRedAInTrueA/trueRedA = 28/31 = 0.903226\n",
      "\n",
      "Fold3\n",
      "As for Red: correct/predict = 36/52 = 0.692308\n",
      "As for Blue: correct/predict = 8/13 = 0.615385\n",
      "Short: predictedRedAInTrueA/trueRedA = 24/27 = 0.888889\n",
      "\n",
      "Fold4\n",
      "As for Red: correct/predict = 33/53 = 0.622642\n",
      "As for Blue: correct/predict = 4/11 = 0.363636\n",
      "Short: predictedRedAInTrueA/trueRedA = 29/35 = 0.828571\n",
      "\n",
      "Fold5\n",
      "As for Red: correct/predict = 37/54 = 0.685185\n",
      "As for Blue: correct/predict = 8/11 = 0.727273\n",
      "Short: predictedRedAInTrueA/trueRedA = 29/32 = 0.906250\n",
      "\n",
      "Red/All = 202/324 = 0.623457\n",
      "1 - Red/All = 122/324 = 0.376543\n",
      "Red: Mean correct/predict = 0.673860\n",
      "Blue: Mean correct/predict = 0.566259\n",
      "Short: Mean accel/predictRed = 0.856902\n",
      "CV value: 0.348597\n",
      "\n",
      "RoadType: 0 (都市間高速)\n",
      "Fold1\n",
      "As for Red: correct/predict = 9/13 = 0.692308\n",
      "As for Blue: correct/predict = 1/3 = 0.333333\n",
      "Short: predictedRedAInTrueA/trueRedA = 6/8 = 0.750000\n",
      "\n",
      "Fold2\n",
      "As for Red: correct/predict = 11/15 = 0.733333\n",
      "As for Blue: correct/predict = 1/1 = 1.000000\n",
      "Short: predictedRedAInTrueA/trueRedA = 10/10 = 1.000000\n",
      "\n",
      "Fold3\n",
      "As for Red: correct/predict = 10/15 = 0.666667\n",
      "As for Blue: correct/predict = 1/2 = 0.500000\n",
      "Short: predictedRedAInTrueA/trueRedA = 10/11 = 0.909091\n",
      "\n",
      "Fold4\n",
      "As for Red: correct/predict = 10/15 = 0.666667\n",
      "As for Blue: correct/predict = 0/1 = 0.000000\n",
      "Short: predictedRedAInTrueA/trueRedA = 10/11 = 0.909091\n",
      "\n",
      "Fold5\n",
      "As for Red: correct/predict = 9/14 = 0.642857\n",
      "As for Blue: correct/predict = 0/2 = 0.000000\n",
      "Short: predictedRedAInTrueA/trueRedA = 8/10 = 0.800000\n",
      "\n",
      "Red/All = 55/81 = 0.679012\n",
      "1 - Red/All = 26/81 = 0.320988\n",
      "Red: Mean correct/predict = 0.680366\n",
      "Blue: Mean correct/predict = 0.366667\n",
      "Short: Mean accel/predictRed = 0.873636\n",
      "CV value: 0.358088\n",
      "\n",
      "RoadType: 2 (有料道路)\n",
      "Fold1\n",
      "As for Red: correct/predict = 7/7 = 1.000000\n",
      "As for Blue: correct/predict = 3/3 = 1.000000\n",
      "Short: predictedRedAInTrueA/trueRedA = 6/6 = 1.000000\n",
      "\n",
      "Fold2\n",
      "As for Red: correct/predict = 2/4 = 0.500000\n",
      "As for Blue: correct/predict = 1/5 = 0.200000\n",
      "Short: predictedRedAInTrueA/trueRedA = 1/4 = 0.250000\n",
      "\n",
      "Fold3\n",
      "As for Red: correct/predict = 6/7 = 0.857143\n",
      "As for Blue: correct/predict = 2/2 = 1.000000\n",
      "Short: predictedRedAInTrueA/trueRedA = 5/5 = 1.000000\n",
      "\n",
      "Fold4\n",
      "As for Red: correct/predict = 3/5 = 0.600000\n",
      "As for Blue: correct/predict = 1/4 = 0.250000\n",
      "Short: predictedRedAInTrueA/trueRedA = 1/3 = 0.333333\n",
      "\n",
      "Fold5\n",
      "As for Red: correct/predict = 6/9 = 0.666667\n",
      "As for Blue: correct/predict = 1/1 = 1.000000\n",
      "Short: predictedRedAInTrueA/trueRedA = 3/3 = 1.000000\n",
      "\n",
      "Red/All = 31/47 = 0.659574\n",
      "1 - Red/All = 16/47 = 0.340426\n",
      "Red: Mean correct/predict = 0.724762\n",
      "Blue: Mean correct/predict = 0.690000\n",
      "Short: Mean accel/predictRed = 0.716667\n",
      "CV value: 0.326667\n",
      "\n"
     ]
    }
   ],
   "source": [
    "for (i in roadTypes) {\n",
    "    printf(\"RoadType: %d (%s)\\n\", i, jRoadType[i+1])\n",
    "    dfx <- df[df$RoadType == i, ]\n",
    "    result <- CV(dfx, verbose=TRUE)\n",
    "    printRedRatios(dfx)\n",
    "    printf(\"Red: Mean correct/predict = %f\\n\", result[3])\n",
    "    printf(\"Blue: Mean correct/predict = %f\\n\", result[4])\n",
    "    printf(\"Short: Mean accel/predictRed = %f\\n\", result[2]) \n",
    "    printf(\"CV value: %f\", result[1])\n",
    "    printf(\"\\n\\n\")\n",
    "}"
   ]
  },
  {
   "cell_type": "markdown",
   "metadata": {},
   "source": [
    "# Divide More ..."
   ]
  },
  {
   "cell_type": "code",
   "execution_count": 18,
   "metadata": {
    "collapsed": false
   },
   "outputs": [
    {
     "data": {
      "text/html": [
       "<table>\n",
       "<thead><tr><th scope=col>RoadType</th><th scope=col>counts</th></tr></thead>\n",
       "<tbody>\n",
       "\t<tr><td>0  </td><td> 81</td></tr>\n",
       "\t<tr><td>2  </td><td> 47</td></tr>\n",
       "\t<tr><td>3  </td><td>324</td></tr>\n",
       "\t<tr><td>4  </td><td> 71</td></tr>\n",
       "\t<tr><td>5  </td><td>303</td></tr>\n",
       "\t<tr><td>6  </td><td>189</td></tr>\n",
       "\t<tr><td>7  </td><td> 27</td></tr>\n",
       "</tbody>\n",
       "</table>\n"
      ],
      "text/latex": [
       "\\begin{tabular}{r|ll}\n",
       " RoadType & counts\\\\\n",
       "\\hline\n",
       "\t 0   &  81\\\\\n",
       "\t 2   &  47\\\\\n",
       "\t 3   & 324\\\\\n",
       "\t 4   &  71\\\\\n",
       "\t 5   & 303\\\\\n",
       "\t 6   & 189\\\\\n",
       "\t 7   &  27\\\\\n",
       "\\end{tabular}\n"
      ],
      "text/markdown": [
       "\n",
       "RoadType | counts | \n",
       "|---|---|---|---|---|---|---|\n",
       "| 0   |  81 | \n",
       "| 2   |  47 | \n",
       "| 3   | 324 | \n",
       "| 4   |  71 | \n",
       "| 5   | 303 | \n",
       "| 6   | 189 | \n",
       "| 7   |  27 | \n",
       "\n",
       "\n"
      ],
      "text/plain": [
       "  RoadType counts\n",
       "1 0         81   \n",
       "2 2         47   \n",
       "3 3        324   \n",
       "4 4         71   \n",
       "5 5        303   \n",
       "6 6        189   \n",
       "7 7         27   "
      ]
     },
     "metadata": {},
     "output_type": "display_data"
    }
   ],
   "source": [
    "df %>% group_by(RoadType) %>% summarize(counts=n())"
   ]
  },
  {
   "cell_type": "markdown",
   "metadata": {
    "deletable": true,
    "editable": true
   },
   "source": [
    "# Threshold = 10, 30"
   ]
  },
  {
   "cell_type": "code",
   "execution_count": 19,
   "metadata": {
    "collapsed": true,
    "deletable": true,
    "editable": true
   },
   "outputs": [],
   "source": [
    "set.seed(1)"
   ]
  },
  {
   "cell_type": "code",
   "execution_count": 20,
   "metadata": {
    "collapsed": true,
    "deletable": true,
    "editable": true
   },
   "outputs": [],
   "source": [
    "# Not Use\n",
    "dfx <- df[df$RoadType == i, ]\n",
    "folds <- createFolds(dfx$flag, k=5)"
   ]
  },
  {
   "cell_type": "code",
   "execution_count": 21,
   "metadata": {
    "collapsed": true,
    "deletable": true,
    "editable": true
   },
   "outputs": [],
   "source": [
    "verbose = TRUE"
   ]
  },
  {
   "cell_type": "code",
   "execution_count": 22,
   "metadata": {
    "collapsed": false,
    "deletable": true,
    "editable": true,
    "scrolled": true
   },
   "outputs": [],
   "source": [
    "i = 6\n",
    "dfx <- df[df$RoadType == i, ]\n",
    "folds <- createFolds(dfx$flag, k=5)"
   ]
  },
  {
   "cell_type": "code",
   "execution_count": 23,
   "metadata": {
    "collapsed": false,
    "deletable": true,
    "editable": true,
    "scrolled": true
   },
   "outputs": [],
   "source": [
    "i = 4\n",
    "dfx <- df[df$RoadType == i, ]\n",
    "folds <- createFolds(dfx$flag, k=5)"
   ]
  },
  {
   "cell_type": "code",
   "execution_count": 24,
   "metadata": {
    "collapsed": false,
    "deletable": true,
    "editable": true,
    "scrolled": true
   },
   "outputs": [
    {
     "name": "stdout",
     "output_type": "stream",
     "text": [
      "RoadType: 5 (主要地方道)\n",
      "Fold1\n",
      "As for Red: correct/predict = 4/7 = 0.571429\n",
      "As for Blue: correct/predict = 4/7 = 0.571429\n",
      "Short: predictedRedAInTrueA/trueRedA = 2/4 = 0.500000\n",
      "\n",
      "Fold2\n",
      "As for Red: correct/predict = 4/7 = 0.571429\n",
      "As for Blue: correct/predict = 5/8 = 0.625000\n",
      "Short: predictedRedAInTrueA/trueRedA = 2/3 = 0.666667\n",
      "\n",
      "Fold3\n",
      "As for Red: correct/predict = 2/3 = 0.666667\n",
      "As for Blue: correct/predict = 6/10 = 0.600000\n",
      "Short: predictedRedAInTrueA/trueRedA = 1/3 = 0.333333\n",
      "\n",
      "Fold4\n",
      "As for Red: correct/predict = 1/3 = 0.333333\n",
      "As for Blue: correct/predict = 5/11 = 0.454545\n",
      "Short: predictedRedAInTrueA/trueRedA = 0/2 = 0.000000\n",
      "\n",
      "Fold5\n",
      "As for Red: correct/predict = 4/5 = 0.800000\n",
      "As for Blue: correct/predict = 6/8 = 0.750000\n",
      "Short: predictedRedAInTrueA/trueRedA = 2/3 = 0.666667\n",
      "\n",
      "AverageVelocity <= 10:\n",
      "Red/All = 33/69 = 0.478261\n",
      "1 - Red/All = 36/69 = 0.521739\n",
      "Red: Mean correct/predict = 0.724762\n",
      "Blue: Mean correct/predict = 0.690000\n",
      "Short: Mean accel/predictRed = 0.716667\n",
      "CV value: 0.403077\n",
      "\n",
      "Fold1\n",
      "As for Red: correct/predict = 13/18 = 0.722222\n",
      "As for Blue: correct/predict = 12/17 = 0.705882\n",
      "Short: predictedRedAInTrueA/trueRedA = 10/14 = 0.714286\n",
      "\n",
      "Fold2\n",
      "As for Red: correct/predict = 9/14 = 0.642857\n",
      "As for Blue: correct/predict = 13/21 = 0.619048\n",
      "Short: predictedRedAInTrueA/trueRedA = 4/9 = 0.444444\n",
      "\n",
      "Fold3\n",
      "As for Red: correct/predict = 12/19 = 0.631579\n",
      "As for Blue: correct/predict = 11/17 = 0.647059\n",
      "Short: predictedRedAInTrueA/trueRedA = 7/10 = 0.700000\n",
      "\n",
      "Fold4\n",
      "As for Red: correct/predict = 11/17 = 0.647059\n",
      "As for Blue: correct/predict = 12/19 = 0.631579\n",
      "Short: predictedRedAInTrueA/trueRedA = 8/14 = 0.571429\n",
      "\n",
      "Fold5\n",
      "As for Red: correct/predict = 13/19 = 0.684211\n",
      "As for Blue: correct/predict = 12/17 = 0.705882\n",
      "Short: predictedRedAInTrueA/trueRedA = 8/10 = 0.800000\n",
      "\n",
      "10 < AverageVelocity <= 30:\n",
      "Red/All = 89/178 = 0.500000\n",
      "1 - Red/All = 89/178 = 0.500000\n",
      "Red: Mean correct/predict = 0.724762\n",
      "Blue: Mean correct/predict = 0.690000\n",
      "Short: Mean accel/predictRed = 0.716667\n",
      "CV value: 0.336984\n",
      "\n",
      "Fold1\n",
      "As for Red: correct/predict = 5/9 = 0.555556\n",
      "As for Blue: correct/predict = 1/3 = 0.333333\n",
      "Short: predictedRedAInTrueA/trueRedA = 1/2 = 0.500000\n",
      "\n",
      "Fold2\n",
      "As for Red: correct/predict = 3/7 = 0.428571\n",
      "As for Blue: correct/predict = 1/4 = 0.250000\n",
      "Short: predictedRedAInTrueA/trueRedA = 2/5 = 0.400000\n",
      "\n",
      "Fold3\n",
      "As for Red: correct/predict = 4/8 = 0.500000\n",
      "As for Blue: correct/predict = 1/3 = 0.333333\n",
      "Short: predictedRedAInTrueA/trueRedA = 3/4 = 0.750000\n",
      "\n",
      "Fold4\n",
      "As for Red: correct/predict = 5/5 = 1.000000\n",
      "As for Blue: correct/predict = 4/5 = 0.800000\n",
      "Short: predictedRedAInTrueA/trueRedA = 3/4 = 0.750000\n",
      "\n",
      "Fold5\n",
      "As for Red: correct/predict = 4/6 = 0.666667\n",
      "As for Blue: correct/predict = 3/6 = 0.500000\n",
      "Short: predictedRedAInTrueA/trueRedA = 3/6 = 0.500000\n",
      "\n",
      "AverageVelocity > 30:\n",
      "Red/All = 32/56 = 0.571429\n",
      "1 - Red/All = 24/56 = 0.428571\n",
      "Red: Mean correct/predict = 0.724762\n",
      "Blue: Mean correct/predict = 0.690000\n",
      "Short: Mean accel/predictRed = 0.716667\n",
      "CV value: 0.336984\n",
      "\n"
     ]
    }
   ],
   "source": [
    "i = 5\n",
    "threshold1 <- 10\n",
    "threshold2 <- 30\n",
    "printf(\"RoadType: %d (%s)\\n\", i, jRoadType[i+1])\n",
    "dfx <- df[df$RoadType == i, ]\n",
    "dfx1 <- dfx %>% filter(AverageVelocity <= threshold1)\n",
    "dfx2 <- dfx %>% filter(AverageVelocity > threshold1, AverageVelocity <= threshold2)\n",
    "dfx3 <- dfx %>% filter(AverageVelocity > threshold2)\n",
    "\n",
    "result1 <- CV(dfx1, verbose=verbose)        \n",
    "printf(\"AverageVelocity <= %d:\\n\", threshold1)\n",
    "printRedRatios(dfx1)        \n",
    "printf(\"Red: Mean correct/predict = %f\\n\", result[3])\n",
    "printf(\"Blue: Mean correct/predict = %f\\n\", result[4])\n",
    "printf(\"Short: Mean accel/predictRed = %f\\n\", result[2]) \n",
    "printf(\"CV value: %f\", result1[1])        \n",
    "printf(\"\\n\\n\")\n",
    "        \n",
    "result2 <- CV(dfx2, verbose=verbose)\n",
    "printf(\"%d < AverageVelocity <= %d:\\n\", threshold1, threshold2)\n",
    "printRedRatios(dfx2)\n",
    "printf(\"Red: Mean correct/predict = %f\\n\", result[3])\n",
    "printf(\"Blue: Mean correct/predict = %f\\n\", result[4])\n",
    "printf(\"Short: Mean accel/predictRed = %f\\n\", result[2]) \n",
    "printf(\"CV value: %f\", result2[1])       \n",
    "printf(\"\\n\\n\")\n",
    "\n",
    "result3 <- CV(dfx3, verbose=verbose)        \n",
    "printf(\"AverageVelocity > %d:\\n\", threshold2)\n",
    "printRedRatios(dfx3)\n",
    "printf(\"Red: Mean correct/predict = %f\\n\", result[3])\n",
    "printf(\"Blue: Mean correct/predict = %f\\n\", result[4])\n",
    "printf(\"Short: Mean accel/predictRed = %f\\n\", result[2]) \n",
    "printf(\"CV value: %f\", result2[1])       \n",
    "printf(\"\\n\\n\")"
   ]
  },
  {
   "cell_type": "code",
   "execution_count": 25,
   "metadata": {
    "collapsed": false,
    "deletable": true,
    "editable": true,
    "scrolled": true
   },
   "outputs": [
    {
     "name": "stdout",
     "output_type": "stream",
     "text": [
      "RoadType: 3 (国道)\n",
      "Fold1\n",
      "As for Red: correct/predict = 5/6 = 0.833333\n",
      "As for Blue: correct/predict = 2/3 = 0.666667\n",
      "Short: predictedRedAInTrueA/trueRedA = 4/5 = 0.800000\n",
      "\n",
      "Fold2\n",
      "As for Red: correct/predict = 7/10 = 0.700000\n",
      "As for Blue: correct/predict = 0/0 = NaN\n",
      "Short: predictedRedAInTrueA/trueRedA = 6/6 = 1.000000\n",
      "\n",
      "Fold3\n",
      "As for Red: correct/predict = 4/5 = 0.800000\n",
      "As for Blue: correct/predict = 3/6 = 0.500000\n",
      "Short: predictedRedAInTrueA/trueRedA = 4/6 = 0.666667\n",
      "\n",
      "Fold4\n",
      "As for Red: correct/predict = 6/10 = 0.600000\n",
      "As for Blue: correct/predict = 0/1 = 0.000000\n",
      "Short: predictedRedAInTrueA/trueRedA = 6/7 = 0.857143\n",
      "\n",
      "Fold5\n",
      "As for Red: correct/predict = 7/10 = 0.700000\n",
      "As for Blue: correct/predict = 1/1 = 1.000000\n",
      "Short: predictedRedAInTrueA/trueRedA = 6/6 = 1.000000\n",
      "\n",
      "AverageVelocity <= 10:\n",
      "Red/All = 34/52 = 0.653846\n",
      "1 - Red/All = 18/52 = 0.346154\n",
      "Red: Mean correct/predict = 0.724762\n",
      "Blue: Mean correct/predict = 0.690000\n",
      "Short: Mean accel/predictRed = 0.716667\n",
      "CV value: 0.322626\n",
      "\n",
      "Fold1\n",
      "As for Red: correct/predict = 20/28 = 0.714286\n",
      "As for Blue: correct/predict = 4/5 = 0.800000\n",
      "Short: predictedRedAInTrueA/trueRedA = 15/16 = 0.937500\n",
      "\n",
      "Fold2\n",
      "As for Red: correct/predict = 15/26 = 0.576923\n",
      "As for Blue: correct/predict = 1/6 = 0.166667\n",
      "Short: predictedRedAInTrueA/trueRedA = 7/12 = 0.583333\n",
      "\n",
      "Fold3\n",
      "As for Red: correct/predict = 18/25 = 0.720000\n",
      "As for Blue: correct/predict = 4/7 = 0.571429\n",
      "Short: predictedRedAInTrueA/trueRedA = 14/17 = 0.823529\n",
      "\n",
      "Fold4\n",
      "As for Red: correct/predict = 18/26 = 0.692308\n",
      "As for Blue: correct/predict = 3/5 = 0.600000\n",
      "Short: predictedRedAInTrueA/trueRedA = 14/16 = 0.875000\n",
      "\n",
      "Fold5\n",
      "As for Red: correct/predict = 19/26 = 0.730769\n",
      "As for Blue: correct/predict = 5/7 = 0.714286\n",
      "Short: predictedRedAInTrueA/trueRedA = 15/17 = 0.882353\n",
      "\n",
      "10 < AverageVelocity <= 30:\n",
      "Red/All = 103/161 = 0.639752\n",
      "1 - Red/All = 58/161 = 0.360248\n",
      "Red: Mean correct/predict = 0.724762\n",
      "Blue: Mean correct/predict = 0.690000\n",
      "Short: Mean accel/predictRed = 0.716667\n",
      "CV value: 0.336107\n",
      "\n",
      "Fold1\n",
      "As for Red: correct/predict = 11/18 = 0.611111\n",
      "As for Blue: correct/predict = 2/4 = 0.500000\n",
      "Short: predictedRedAInTrueA/trueRedA = 9/11 = 0.818182\n",
      "\n",
      "Fold2\n",
      "As for Red: correct/predict = 12/19 = 0.631579\n",
      "As for Blue: correct/predict = 2/3 = 0.666667\n",
      "Short: predictedRedAInTrueA/trueRedA = 10/11 = 0.909091\n",
      "\n",
      "Fold3\n",
      "As for Red: correct/predict = 11/20 = 0.550000\n",
      "As for Blue: correct/predict = 1/3 = 0.333333\n",
      "Short: predictedRedAInTrueA/trueRedA = 8/10 = 0.800000\n",
      "\n",
      "Fold4\n",
      "As for Red: correct/predict = 11/16 = 0.687500\n",
      "As for Blue: correct/predict = 4/6 = 0.666667\n",
      "Short: predictedRedAInTrueA/trueRedA = 7/9 = 0.777778\n",
      "\n",
      "Fold5\n",
      "As for Red: correct/predict = 10/14 = 0.714286\n",
      "As for Blue: correct/predict = 5/8 = 0.625000\n",
      "Short: predictedRedAInTrueA/trueRedA = 7/9 = 0.777778\n",
      "\n",
      "AverageVelocity > 30:\n",
      "Red/All = 65/111 = 0.585586\n",
      "1 - Red/All = 46/111 = 0.414414\n",
      "Red: Mean correct/predict = 0.724762\n",
      "Blue: Mean correct/predict = 0.690000\n",
      "Short: Mean accel/predictRed = 0.716667\n",
      "CV value: 0.336107\n",
      "\n"
     ]
    }
   ],
   "source": [
    "i = 3\n",
    "threshold1 <- 10\n",
    "threshold2 <- 30\n",
    "printf(\"RoadType: %d (%s)\\n\", i, jRoadType[i+1])\n",
    "dfx <- df[df$RoadType == i, ]\n",
    "dfx1 <- dfx %>% filter(AverageVelocity <= threshold1)\n",
    "dfx2 <- dfx %>% filter(AverageVelocity > threshold1, AverageVelocity <= threshold2)\n",
    "dfx3 <- dfx %>% filter(AverageVelocity > threshold2)\n",
    "\n",
    "result1 <- CV(dfx1, verbose=verbose)        \n",
    "printf(\"AverageVelocity <= %d:\\n\", threshold1)\n",
    "printRedRatios(dfx1)        \n",
    "printf(\"Red: Mean correct/predict = %f\\n\", result[3])\n",
    "printf(\"Blue: Mean correct/predict = %f\\n\", result[4])\n",
    "printf(\"Short: Mean accel/predictRed = %f\\n\", result[2]) \n",
    "printf(\"CV value: %f\", result1[1])        \n",
    "printf(\"\\n\\n\")\n",
    "        \n",
    "result2 <- CV(dfx2, verbose=verbose)\n",
    "printf(\"%d < AverageVelocity <= %d:\\n\", threshold1, threshold2)\n",
    "printRedRatios(dfx2)\n",
    "printf(\"Red: Mean correct/predict = %f\\n\", result[3])\n",
    "printf(\"Blue: Mean correct/predict = %f\\n\", result[4])\n",
    "printf(\"Short: Mean accel/predictRed = %f\\n\", result[2]) \n",
    "printf(\"CV value: %f\", result2[1])       \n",
    "printf(\"\\n\\n\")\n",
    "\n",
    "result3 <- CV(dfx3, verbose=verbose)        \n",
    "printf(\"AverageVelocity > %d:\\n\", threshold2)\n",
    "printRedRatios(dfx3)\n",
    "printf(\"Red: Mean correct/predict = %f\\n\", result[3])\n",
    "printf(\"Blue: Mean correct/predict = %f\\n\", result[4])\n",
    "printf(\"Short: Mean accel/predictRed = %f\\n\", result[2]) \n",
    "printf(\"CV value: %f\", result2[1])       \n",
    "printf(\"\\n\\n\")"
   ]
  },
  {
   "cell_type": "code",
   "execution_count": null,
   "metadata": {
    "collapsed": true,
    "deletable": true,
    "editable": true
   },
   "outputs": [],
   "source": []
  }
 ],
 "metadata": {
  "kernelspec": {
   "display_name": "R",
   "language": "R",
   "name": "ir"
  },
  "language_info": {
   "codemirror_mode": "r",
   "file_extension": ".r",
   "mimetype": "text/x-r-source",
   "name": "R",
   "pygments_lexer": "r",
   "version": "3.3.2"
  }
 },
 "nbformat": 4,
 "nbformat_minor": 1
}
