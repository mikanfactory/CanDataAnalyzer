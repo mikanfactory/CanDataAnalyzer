{
 "cells": [
  {
   "cell_type": "code",
   "execution_count": 1,
   "metadata": {
    "collapsed": false,
    "deletable": true,
    "editable": true
   },
   "outputs": [],
   "source": [
    "library(grid)\n",
    "library(rpart)\n",
    "library(rpart.plot)\n",
    "library(partykit)\n",
    "library(lattice)\n",
    "library(ggplot2)\n",
    "library(caret)"
   ]
  },
  {
   "cell_type": "code",
   "execution_count": 2,
   "metadata": {
    "collapsed": true,
    "deletable": true,
    "editable": true
   },
   "outputs": [],
   "source": [
    "set.seed(1)"
   ]
  },
  {
   "cell_type": "code",
   "execution_count": 3,
   "metadata": {
    "collapsed": false,
    "deletable": true,
    "editable": true
   },
   "outputs": [],
   "source": [
    "jRoadType <- c(\"都市間高速\", \"都市高速\", \"有料道路\", \"国道\", \"県道\", \"主要地方道\", \"一般道1、一般道2、一般道3\", \"その他\")"
   ]
  },
  {
   "cell_type": "code",
   "execution_count": 4,
   "metadata": {
    "collapsed": true,
    "deletable": true,
    "editable": true
   },
   "outputs": [],
   "source": [
    "printf <- function(...) cat(sprintf(...))"
   ]
  },
  {
   "cell_type": "code",
   "execution_count": 5,
   "metadata": {
    "collapsed": true,
    "deletable": true,
    "editable": true
   },
   "outputs": [],
   "source": [
    "invalids <- c('Time', 'Longitude', 'Latitude', 'Brake', 'Accel', 'RoadType', 'flag')\n",
    "isValidColumn <- function(x) ! x %in% invalids"
   ]
  },
  {
   "cell_type": "code",
   "execution_count": 6,
   "metadata": {
    "collapsed": false,
    "deletable": true,
    "editable": true
   },
   "outputs": [],
   "source": [
    "CV <- function(dfx, expr, verbose=FALSE) {        \n",
    "    folds <- createFolds(dfx$flag)\n",
    "    \n",
    "    count <- 1\n",
    "    errs <- c()\n",
    "    reds <- c()\n",
    "    blues <- c()\n",
    "    for (ids in folds) {\n",
    "        train <- dfx[-ids, ]\n",
    "        test <- dfx[ids, ]\n",
    "        fit <- rpart(expr, data=train, method=\"class\", cp=0.013)\n",
    "        # fit <- rpart(expr, data=train, method=\"class\", cp=0.013)\n",
    "        p <- predict(fit, newdata=test)\n",
    "        predictedFlags <- colnames(p)[max.col(p, ties.method = \"first\")]\n",
    "        \n",
    "        if (verbose) {\n",
    "            printf(\"Fold%d\\n\", count)\n",
    "            result <- correctVsPredict(test, predictedFlags, verbose)\n",
    "            reds <- c(reds, result[1])\n",
    "            blues <- c(blues, result[2])\n",
    "            count <- count + 1\n",
    "            printf(\"\\n\")\n",
    "        } else {\n",
    "            result <- correctVsPredict(test, predictedFlags, verbose)\n",
    "            reds <- c(reds, result[1])\n",
    "            blues <- c(blues, result[2])\n",
    "        }\n",
    "        \n",
    "        nerr <- sum((predictedFlags == test$flag) == FALSE)\n",
    "        errs <- c(errs, nerr / nrow(test))\n",
    "    }\n",
    "    \n",
    "    return(c(mean(errs), mean(reds), mean(blues)))\n",
    "}"
   ]
  },
  {
   "cell_type": "code",
   "execution_count": 7,
   "metadata": {
    "collapsed": false,
    "deletable": true,
    "editable": true
   },
   "outputs": [],
   "source": [
    "correctVsPredict <- function(test, predictedFlags, verbose=FALSE) {    \n",
    "    # for All\n",
    "    # nTests <- nrow(test)\n",
    "    # nCorrectAll <- sum((predictedFlags == test$flag) == TRUE)\n",
    "    # printf(\"As fo All: correct/all = %d/%d = %f\\n\", nCorrectAll, nTests, nCorrectAll / nTests)\n",
    "    \n",
    "    # for Red\n",
    "    predictedRedRows <- test[predictedFlags == \"Red\", ]\n",
    "    nCorrectReds <- sum((predictedRedRows$flag == 'Red') == TRUE)\n",
    "    nPredictedReds <- nrow(predictedRedRows)\n",
    "    \n",
    "    # for Blue\n",
    "    predictedBlueRows <- test[predictedFlags == \"Blue\", ]\n",
    "    nCorrectBlues <- sum((predictedBlueRows$flag == 'Blue') == TRUE)\n",
    "    nPredictedBlues <- nrow(predictedBlueRows)\n",
    "        \n",
    "    if (verbose) {\n",
    "        printf(\"As for Red: correct/predict = %d/%d = %f\\n\", nCorrectReds, nPredictedReds, nCorrectReds / nPredictedReds)\n",
    "        printf(\"As for Blue: correct/predict = %d/%d = %f\\n\", nCorrectBlues, nPredictedBlues, nCorrectBlues / nPredictedBlues)  \n",
    "    }    \n",
    "    \n",
    "    c(nCorrectReds/nPredictedReds, nCorrectBlues/nPredictedBlues)\n",
    "}"
   ]
  },
  {
   "cell_type": "code",
   "execution_count": 8,
   "metadata": {
    "collapsed": true,
    "deletable": true,
    "editable": true
   },
   "outputs": [],
   "source": [
    "printRedRatios <- function(dfx) {\n",
    "    nRed <- nrow(dfx[dfx$flag == \"Red\", ])\n",
    "    nAll <- nrow(dfx)\n",
    "    printf(\"Red/All = %d/%d = %f\\n\", nRed, nAll, nRed/nAll)\n",
    "    printf(\"1 - Red/All = %d/%d = %f\\n\", nAll - nRed, nAll, 1 - nRed/nAll)\n",
    "}"
   ]
  },
  {
   "cell_type": "markdown",
   "metadata": {
    "deletable": true,
    "editable": true
   },
   "source": [
    "# Predict Reds"
   ]
  },
  {
   "cell_type": "code",
   "execution_count": 9,
   "metadata": {
    "collapsed": false,
    "deletable": true,
    "editable": true
   },
   "outputs": [],
   "source": [
    "df3 <- read.csv(\"../data/middle/sp1.csv\", stringsAsFactors=FALSE)"
   ]
  },
  {
   "cell_type": "code",
   "execution_count": 10,
   "metadata": {
    "collapsed": false,
    "deletable": true,
    "editable": true
   },
   "outputs": [],
   "source": [
    "df3$flag[df3$flag == \"RedA\"] <- \"Red\"\n",
    "df3$flag[df3$flag == \"RedB\"] <- \"Red\"\n",
    "df3$flag[df3$flag == \"BlueA\"] <- \"Blue\"\n",
    "df3$flag[df3$flag == \"BlueB\"] <- \"Blue\"\n",
    "df3$flag <- as.factor(df3$flag)"
   ]
  },
  {
   "cell_type": "code",
   "execution_count": 11,
   "metadata": {
    "collapsed": true,
    "deletable": true,
    "editable": true
   },
   "outputs": [],
   "source": [
    "allFeatures <- c(colnames(df3))\n",
    "features <- Filter(isValidColumn, allFeatures)"
   ]
  },
  {
   "cell_type": "code",
   "execution_count": 12,
   "metadata": {
    "collapsed": true,
    "deletable": true,
    "editable": true
   },
   "outputs": [],
   "source": [
    "expr <- paste(\"flag ~ \", paste(features, collapse=\" + \"))"
   ]
  },
  {
   "cell_type": "code",
   "execution_count": 13,
   "metadata": {
    "collapsed": false,
    "deletable": true,
    "editable": true
   },
   "outputs": [],
   "source": [
    "roadTypes <- unique(df3$RoadType)"
   ]
  },
  {
   "cell_type": "code",
   "execution_count": 14,
   "metadata": {
    "collapsed": false,
    "deletable": true,
    "editable": true,
    "scrolled": true
   },
   "outputs": [
    {
     "name": "stdout",
     "output_type": "stream",
     "text": [
      "RoadType: 7 (その他)\n",
      "Red/All = 25/27 = 0.925926\n",
      "1 - Red/All = 2/27 = 0.074074\n",
      "Red: Mean correct/predict = 0.933333\n",
      "Blue: Mean correct/predict = NaN\n",
      "CV value: 0.066667\n",
      "\n",
      "RoadType: 6 (一般道1、一般道2、一般道3)\n",
      "Red/All = 90/189 = 0.476190\n",
      "1 - Red/All = 99/189 = 0.523810\n",
      "Red: Mean correct/predict = 0.613969\n",
      "Blue: Mean correct/predict = 0.644714\n",
      "CV value: 0.380994\n",
      "\n",
      "RoadType: 4 (県道)\n",
      "Red/All = 36/71 = 0.507042\n",
      "1 - Red/All = 35/71 = 0.492958\n",
      "Red: Mean correct/predict = 0.483333\n",
      "Blue: Mean correct/predict = 0.350000\n",
      "CV value: 0.540476\n",
      "\n",
      "RoadType: 5 (主要地方道)\n",
      "Red/All = 154/303 = 0.508251\n",
      "1 - Red/All = 149/303 = 0.491749\n",
      "Red: Mean correct/predict = 0.569190\n",
      "Blue: Mean correct/predict = 0.551010\n",
      "CV value: 0.441613\n",
      "\n",
      "RoadType: 3 (国道)\n",
      "Red/All = 202/324 = 0.623457\n",
      "1 - Red/All = 122/324 = 0.376543\n",
      "Red: Mean correct/predict = 0.626721\n",
      "Blue: Mean correct/predict = 0.399503\n",
      "CV value: 0.453504\n",
      "\n",
      "RoadType: 0 (都市間高速)\n",
      "Red/All = 55/81 = 0.679012\n",
      "1 - Red/All = 26/81 = 0.320988\n",
      "Red: Mean correct/predict = 0.654524\n",
      "Blue: Mean correct/predict = NaN\n",
      "CV value: 0.470437\n",
      "\n",
      "RoadType: 2 (有料道路)\n",
      "Red/All = 31/47 = 0.659574\n",
      "1 - Red/All = 16/47 = 0.340426\n",
      "Red: Mean correct/predict = 0.933333\n",
      "Blue: Mean correct/predict = 0.633333\n",
      "CV value: 0.230000\n",
      "\n"
     ]
    }
   ],
   "source": [
    "for (i in roadTypes) {\n",
    "    printf(\"RoadType: %d (%s)\\n\", i, jRoadType[i+1])\n",
    "    dfx <- df3[df3$RoadType == i, ]\n",
    "    result <- CV(dfx, expr, FALSE)\n",
    "    printRedRatios(dfx)\n",
    "    printf(\"Red: Mean correct/predict = %f\\n\", result[2])\n",
    "    printf(\"Blue: Mean correct/predict = %f\\n\", result[3])\n",
    "    printf(\"CV value: %f\", result[1])\n",
    "    printf(\"\\n\\n\")\n",
    "}"
   ]
  },
  {
   "cell_type": "code",
   "execution_count": 15,
   "metadata": {
    "collapsed": true,
    "deletable": true,
    "editable": true
   },
   "outputs": [],
   "source": [
    "fit3 <- rpart(expr, data=df3, method=\"class\")"
   ]
  },
  {
   "cell_type": "code",
   "execution_count": 16,
   "metadata": {
    "collapsed": false,
    "deletable": true,
    "editable": true,
    "scrolled": true
   },
   "outputs": [
    {
     "data": {
      "text/html": [
       "0.0133630289532294"
      ],
      "text/latex": [
       "0.0133630289532294"
      ],
      "text/markdown": [
       "0.0133630289532294"
      ],
      "text/plain": [
       "[1] 0.01336303"
      ]
     },
     "metadata": {},
     "output_type": "display_data"
    }
   ],
   "source": [
    "fit3$cptable[which.min(fit3$cptable[,\"xerror\"]),\"CP\"]"
   ]
  },
  {
   "cell_type": "code",
   "execution_count": 17,
   "metadata": {
    "collapsed": false,
    "deletable": true,
    "editable": true
   },
   "outputs": [
    {
     "name": "stdout",
     "output_type": "stream",
     "text": [
      "\n",
      "Classification tree:\n",
      "rpart(formula = expr, data = df3, method = \"class\")\n",
      "\n",
      "Variables actually used in tree construction:\n",
      " [1] AccelerationSpeed AheadDistance     Curve             DistManBicycle   \n",
      " [5] DistSignal        Pitch             RiskFactor        Speed            \n",
      " [9] TimeHeadway       TimeToCollision  \n",
      "\n",
      "Root node error: 449/1042 = 0.4309\n",
      "\n",
      "n= 1042 \n",
      "\n",
      "        CP nsplit rel error  xerror     xstd\n",
      "1 0.031180      0   1.00000 1.00000 0.035602\n",
      "2 0.023385      6   0.81069 0.92873 0.035223\n",
      "3 0.018931      8   0.76392 0.94655 0.035331\n",
      "4 0.013363     10   0.72606 0.91091 0.035106\n",
      "5 0.011136     12   0.69933 0.91759 0.035151\n",
      "6 0.010000     13   0.68820 0.92650 0.035209\n"
     ]
    }
   ],
   "source": [
    "printcp(fit3)"
   ]
  },
  {
   "cell_type": "code",
   "execution_count": 18,
   "metadata": {
    "collapsed": false,
    "deletable": true,
    "editable": true
   },
   "outputs": [
    {
     "name": "stdout",
     "output_type": "stream",
     "text": [
      "Call:\n",
      "rpart(formula = expr, data = df3, method = \"class\")\n",
      "  n= 1042 \n",
      "\n",
      "          CP nsplit rel error    xerror       xstd\n",
      "1 0.03118040      0 1.0000000 1.0000000 0.03560167\n",
      "2 0.02338530      6 0.8106904 0.9287305 0.03522312\n",
      "3 0.01893096      8 0.7639198 0.9465479 0.03533107\n",
      "4 0.01336303     10 0.7260579 0.9109131 0.03510616\n",
      "5 0.01113586     12 0.6993318 0.9175947 0.03515108\n",
      "6 0.01000000     13 0.6881960 0.9265033 0.03520900\n",
      "\n",
      "Variable importance\n",
      "       RiskFactor       TimeHeadway   TimeToCollision             Speed \n",
      "               14                13                12                12 \n",
      "    AheadDistance AccelerationSpeed        DistSignal             Curve \n",
      "               11                 8                 8                 7 \n",
      "   DistManBicycle            Engine             Pitch     SteeringAngle \n",
      "                4                 3                 3                 2 \n",
      "  ManBicycleCount        ManBicycle         LaneCount              Jerk \n",
      "                1                 1                 1                 1 \n",
      "\n",
      "Node number 1: 1042 observations,    complexity param=0.0311804\n",
      "  predicted class=Red   expected loss=0.4309021  P(node) =1\n",
      "    class counts:   449   593\n",
      "   probabilities: 0.431 0.569 \n",
      "  left son=2 (672 obs) right son=3 (370 obs)\n",
      "  Primary splits:\n",
      "      RiskFactor        < 0.3958754   to the left,  improve=12.380920, (0 missing)\n",
      "      TimeHeadway       < 2.861792    to the right, improve=11.643100, (0 missing)\n",
      "      AccelerationSpeed < 0.6416667   to the left,  improve= 9.009149, (0 missing)\n",
      "      Curve             < 253         to the left,  improve= 8.630724, (0 missing)\n",
      "      Speed             < 32.43       to the right, improve= 7.881950, (0 missing)\n",
      "  Surrogate splits:\n",
      "      TimeToCollision < 0.4492195   to the left,  agree=0.798, adj=0.430, (0 split)\n",
      "      BrakeCar        < 0.5         to the left,  agree=0.660, adj=0.043, (0 split)\n",
      "      Curve           < 92.5        to the right, agree=0.653, adj=0.022, (0 split)\n",
      "      SteeringAngle   < -8.15       to the right, agree=0.650, adj=0.014, (0 split)\n",
      "      DistSignal      < 3.581806    to the right, agree=0.649, adj=0.011, (0 split)\n",
      "\n",
      "Node number 2: 672 observations,    complexity param=0.0311804\n",
      "  predicted class=Red   expected loss=0.4880952  P(node) =0.6449136\n",
      "    class counts:   328   344\n",
      "   probabilities: 0.488 0.512 \n",
      "  left son=4 (641 obs) right son=5 (31 obs)\n",
      "  Primary splits:\n",
      "      Curve             < 253         to the left,  improve=9.953351, (0 missing)\n",
      "      AccelerationSpeed < 0.6444444   to the left,  improve=9.415741, (0 missing)\n",
      "      DistSignal        < 747.0376    to the left,  improve=8.006015, (0 missing)\n",
      "      Speed             < 30.31       to the right, improve=6.480406, (0 missing)\n",
      "      TimeHeadway       < 2.908603    to the right, improve=6.122202, (0 missing)\n",
      "  Surrogate splits:\n",
      "      DistSignal        < 758.4787    to the left,  agree=0.967, adj=0.290, (0 split)\n",
      "      SteeringAngle     < -147.2      to the right, agree=0.961, adj=0.161, (0 split)\n",
      "      Speed             < 3.51        to the right, agree=0.958, adj=0.097, (0 split)\n",
      "      AccelerationSpeed < 0.8361111   to the left,  agree=0.957, adj=0.065, (0 split)\n",
      "      RiskFactor        < -11.6674    to the right, agree=0.955, adj=0.032, (0 split)\n",
      "\n",
      "Node number 3: 370 observations,    complexity param=0.01893096\n",
      "  predicted class=Red   expected loss=0.327027  P(node) =0.3550864\n",
      "    class counts:   121   249\n",
      "   probabilities: 0.327 0.673 \n",
      "  left son=6 (118 obs) right son=7 (252 obs)\n",
      "  Primary splits:\n",
      "      TimeHeadway   < 2.219974    to the right, improve=6.702074, (0 missing)\n",
      "      Pitch         < -0.0579602  to the left,  improve=5.268385, (0 missing)\n",
      "      DistSignal    < 58.35245    to the right, improve=5.064054, (0 missing)\n",
      "      AheadDistance < 15.6        to the right, improve=4.872531, (0 missing)\n",
      "      RiskFactor    < 0.6769943   to the left,  improve=3.527884, (0 missing)\n",
      "  Surrogate splits:\n",
      "      Speed             < 18          to the left,  agree=0.792, adj=0.347, (0 split)\n",
      "      TimeToCollision   < 1.06208     to the right, agree=0.727, adj=0.144, (0 split)\n",
      "      Engine            < 1090.625    to the left,  agree=0.711, adj=0.093, (0 split)\n",
      "      AheadDistance     < 46.35       to the right, agree=0.708, adj=0.085, (0 split)\n",
      "      AccelerationSpeed < 0.5194444   to the right, agree=0.708, adj=0.085, (0 split)\n",
      "\n",
      "Node number 4: 641 observations,    complexity param=0.0311804\n",
      "  predicted class=Blue  expected loss=0.4929797  P(node) =0.6151631\n",
      "    class counts:   325   316\n",
      "   probabilities: 0.507 0.493 \n",
      "  left son=8 (620 obs) right son=9 (21 obs)\n",
      "  Primary splits:\n",
      "      AccelerationSpeed < 0.575       to the left,  improve=7.362931, (0 missing)\n",
      "      Curve             < 245         to the right, improve=5.746836, (0 missing)\n",
      "      TimeToCollision   < -48.8279    to the left,  improve=5.309334, (0 missing)\n",
      "      TimeHeadway       < 2.908603    to the right, improve=4.744614, (0 missing)\n",
      "      DistSignal        < 22.00974    to the right, improve=4.439136, (0 missing)\n",
      "\n",
      "Node number 5: 31 observations\n",
      "  predicted class=Red   expected loss=0.09677419  P(node) =0.02975048\n",
      "    class counts:     3    28\n",
      "   probabilities: 0.097 0.903 \n",
      "\n",
      "Node number 6: 118 observations,    complexity param=0.01893096\n",
      "  predicted class=Red   expected loss=0.4661017  P(node) =0.1132438\n",
      "    class counts:    55    63\n",
      "   probabilities: 0.466 0.534 \n",
      "  left son=12 (71 obs) right son=13 (47 obs)\n",
      "  Primary splits:\n",
      "      AheadDistance < 15.1        to the right, improve=8.412961, (0 missing)\n",
      "      Speed         < 35.8        to the right, improve=6.129846, (0 missing)\n",
      "      Pitch         < -0.181592   to the left,  improve=4.113999, (0 missing)\n",
      "      Engine        < 1309.375    to the right, improve=3.970949, (0 missing)\n",
      "      RiskFactor    < 0.6978732   to the left,  improve=3.428814, (0 missing)\n",
      "  Surrogate splits:\n",
      "      Speed             < 19.595      to the right, agree=0.907, adj=0.766, (0 split)\n",
      "      Engine            < 1145.312    to the right, agree=0.729, adj=0.319, (0 split)\n",
      "      AccelerationSpeed < 0.3388889   to the left,  agree=0.669, adj=0.170, (0 split)\n",
      "      SteeringAngle     < -10.45      to the right, agree=0.661, adj=0.149, (0 split)\n",
      "      Curve             < 86          to the right, agree=0.627, adj=0.064, (0 split)\n",
      "\n",
      "Node number 7: 252 observations\n",
      "  predicted class=Red   expected loss=0.2619048  P(node) =0.2418426\n",
      "    class counts:    66   186\n",
      "   probabilities: 0.262 0.738 \n",
      "\n",
      "Node number 8: 620 observations,    complexity param=0.0311804\n",
      "  predicted class=Blue  expected loss=0.4790323  P(node) =0.5950096\n",
      "    class counts:   323   297\n",
      "   probabilities: 0.521 0.479 \n",
      "  left son=16 (65 obs) right son=17 (555 obs)\n",
      "  Primary splits:\n",
      "      TimeToCollision < -48.8279    to the left,  improve=5.063432, (0 missing)\n",
      "      TimeHeadway     < 2.908603    to the right, improve=4.859944, (0 missing)\n",
      "      DistSignal      < 22.00974    to the right, improve=4.837236, (0 missing)\n",
      "      DistManBicycle  < 14.07506    to the right, improve=4.631983, (0 missing)\n",
      "      Curve           < 245         to the right, improve=4.382341, (0 missing)\n",
      "\n",
      "Node number 9: 21 observations\n",
      "  predicted class=Red   expected loss=0.0952381  P(node) =0.02015355\n",
      "    class counts:     2    19\n",
      "   probabilities: 0.095 0.905 \n",
      "\n",
      "Node number 12: 71 observations\n",
      "  predicted class=Blue  expected loss=0.3802817  P(node) =0.0681382\n",
      "    class counts:    44    27\n",
      "   probabilities: 0.620 0.380 \n",
      "\n",
      "Node number 13: 47 observations\n",
      "  predicted class=Red   expected loss=0.2340426  P(node) =0.04510557\n",
      "    class counts:    11    36\n",
      "   probabilities: 0.234 0.766 \n",
      "\n",
      "Node number 16: 65 observations\n",
      "  predicted class=Blue  expected loss=0.2923077  P(node) =0.06238004\n",
      "    class counts:    46    19\n",
      "   probabilities: 0.708 0.292 \n",
      "\n",
      "Node number 17: 555 observations,    complexity param=0.0311804\n",
      "  predicted class=Red   expected loss=0.4990991  P(node) =0.5326296\n",
      "    class counts:   277   278\n",
      "   probabilities: 0.499 0.501 \n",
      "  left son=34 (293 obs) right son=35 (262 obs)\n",
      "  Primary splits:\n",
      "      TimeToCollision < -8.271477   to the right, improve=6.849046, (0 missing)\n",
      "      DistSignal      < 22.00974    to the right, improve=5.496809, (0 missing)\n",
      "      DistManBicycle  < 14.07506    to the right, improve=4.483179, (0 missing)\n",
      "      Curve           < 245         to the right, improve=4.150039, (0 missing)\n",
      "      TimeHeadway     < 3.273951    to the right, improve=4.091152, (0 missing)\n",
      "  Surrogate splits:\n",
      "      AheadDistance < 6.7         to the left,  agree=0.894, adj=0.775, (0 split)\n",
      "      TimeHeadway   < 1.384331    to the left,  agree=0.890, adj=0.767, (0 split)\n",
      "      RiskFactor    < 0.001922093 to the left,  agree=0.886, adj=0.760, (0 split)\n",
      "      Speed         < 31.595      to the right, agree=0.654, adj=0.267, (0 split)\n",
      "      LaneCount     < 2.5         to the left,  agree=0.627, adj=0.210, (0 split)\n",
      "\n",
      "Node number 34: 293 observations,    complexity param=0.0233853\n",
      "  predicted class=Blue  expected loss=0.4266212  P(node) =0.28119\n",
      "    class counts:   168   125\n",
      "   probabilities: 0.573 0.427 \n",
      "  left son=68 (72 obs) right son=69 (221 obs)\n",
      "  Primary splits:\n",
      "      DistManBicycle < 13.622      to the right, improve=5.055746, (0 missing)\n",
      "      DistSignal     < 16.05905    to the right, improve=4.729760, (0 missing)\n",
      "      Curve          < 213.5       to the right, improve=4.242176, (0 missing)\n",
      "      SteeringAngle  < 41.9        to the left,  improve=2.658396, (0 missing)\n",
      "      Engine         < 1435.938    to the left,  improve=2.336201, (0 missing)\n",
      "  Surrogate splits:\n",
      "      ManBicycleCount   < 1.5         to the right, agree=0.850, adj=0.389, (0 split)\n",
      "      ManBicycle        < 0.5         to the right, agree=0.836, adj=0.333, (0 split)\n",
      "      AccelerationSpeed < 0.5138889   to the right, agree=0.771, adj=0.069, (0 split)\n",
      "      TimeHeadway       < 4.093516    to the right, agree=0.768, adj=0.056, (0 split)\n",
      "      Engine            < 992.1875    to the left,  agree=0.761, adj=0.028, (0 split)\n",
      "\n",
      "Node number 35: 262 observations,    complexity param=0.0311804\n",
      "  predicted class=Red   expected loss=0.4160305  P(node) =0.2514395\n",
      "    class counts:   109   153\n",
      "   probabilities: 0.416 0.584 \n",
      "  left son=70 (71 obs) right son=71 (191 obs)\n",
      "  Primary splits:\n",
      "      TimeHeadway     < 3.015722    to the right, improve=7.002416, (0 missing)\n",
      "      TimeToCollision < -10.62626   to the left,  improve=5.802038, (0 missing)\n",
      "      Curve           < 245         to the right, improve=3.195132, (0 missing)\n",
      "      DistManBicycle  < 9.424563    to the right, improve=2.759150, (0 missing)\n",
      "      AheadDistance   < 15.65       to the right, improve=2.667923, (0 missing)\n",
      "  Surrogate splits:\n",
      "      RiskFactor        < 0.1411901   to the left,  agree=0.821, adj=0.338, (0 split)\n",
      "      Speed             < 10.605      to the left,  agree=0.790, adj=0.225, (0 split)\n",
      "      Engine            < 1035.938    to the left,  agree=0.756, adj=0.099, (0 split)\n",
      "      AheadDistance     < 46.8        to the right, agree=0.748, adj=0.070, (0 split)\n",
      "      AccelerationSpeed < 0.3861111   to the right, agree=0.740, adj=0.042, (0 split)\n",
      "\n",
      "Node number 68: 72 observations\n",
      "  predicted class=Blue  expected loss=0.2638889  P(node) =0.06909789\n",
      "    class counts:    53    19\n",
      "   probabilities: 0.736 0.264 \n",
      "\n",
      "Node number 69: 221 observations,    complexity param=0.0233853\n",
      "  predicted class=Blue  expected loss=0.479638  P(node) =0.2120921\n",
      "    class counts:   115   106\n",
      "   probabilities: 0.520 0.480 \n",
      "  left son=138 (164 obs) right son=139 (57 obs)\n",
      "  Primary splits:\n",
      "      DistSignal < 55.86804    to the right, improve=6.429066, (0 missing)\n",
      "      Curve      < 220         to the right, improve=3.624460, (0 missing)\n",
      "      Speed      < 31.63       to the right, improve=3.069520, (0 missing)\n",
      "      Pitch      < 0.2248756   to the left,  improve=1.739879, (0 missing)\n",
      "      RiskFactor < -5.310272   to the right, improve=1.667895, (0 missing)\n",
      "  Surrogate splits:\n",
      "      Speed             < 31.76       to the right, agree=0.765, adj=0.088, (0 split)\n",
      "      RiskFactor        < -7.891967   to the right, agree=0.765, adj=0.088, (0 split)\n",
      "      SteeringAngle     < -85.45      to the right, agree=0.756, adj=0.053, (0 split)\n",
      "      DistManBicycle    < 12.64662    to the left,  agree=0.756, adj=0.053, (0 split)\n",
      "      AccelerationSpeed < 0.4583333   to the left,  agree=0.756, adj=0.053, (0 split)\n",
      "\n",
      "Node number 70: 71 observations,    complexity param=0.01336303\n",
      "  predicted class=Blue  expected loss=0.3943662  P(node) =0.0681382\n",
      "    class counts:    43    28\n",
      "   probabilities: 0.606 0.394 \n",
      "  left son=140 (61 obs) right son=141 (10 obs)\n",
      "  Primary splits:\n",
      "      Speed             < 44.73       to the left,  improve=3.830247, (0 missing)\n",
      "      DistSignal        < 23.41254    to the right, improve=2.885190, (0 missing)\n",
      "      AccelerationSpeed < -0.2055556  to the right, improve=2.280572, (0 missing)\n",
      "      Pitch             < 0.03109453  to the right, improve=2.122465, (0 missing)\n",
      "      SteeringAngle     < 0.3         to the right, improve=1.528396, (0 missing)\n",
      "  Surrogate splits:\n",
      "      AheadDistance     < 55.55       to the left,  agree=0.930, adj=0.5, (0 split)\n",
      "      AccelerationSpeed < -0.225      to the right, agree=0.901, adj=0.3, (0 split)\n",
      "      Engine            < 1845.312    to the left,  agree=0.887, adj=0.2, (0 split)\n",
      "      Pitch             < -0.09614428 to the right, agree=0.887, adj=0.2, (0 split)\n",
      "      Jerk              < 2.055556    to the left,  agree=0.887, adj=0.2, (0 split)\n",
      "\n",
      "Node number 71: 191 observations\n",
      "  predicted class=Red   expected loss=0.3455497  P(node) =0.1833013\n",
      "    class counts:    66   125\n",
      "   probabilities: 0.346 0.654 \n",
      "\n",
      "Node number 138: 164 observations,    complexity param=0.01336303\n",
      "  predicted class=Blue  expected loss=0.4085366  P(node) =0.1573896\n",
      "    class counts:    97    67\n",
      "   probabilities: 0.591 0.409 \n",
      "  left son=276 (144 obs) right son=277 (20 obs)\n",
      "  Primary splits:\n",
      "      Pitch             < 0.1949005   to the left,  improve=2.656098, (0 missing)\n",
      "      Curve             < 213.5       to the right, improve=2.618843, (0 missing)\n",
      "      DistSignal        < 321.6604    to the left,  improve=2.476610, (0 missing)\n",
      "      AccelerationSpeed < -0.2361111  to the right, improve=2.162572, (0 missing)\n",
      "      SteeringAngle     < -6          to the right, improve=1.725396, (0 missing)\n",
      "  Surrogate splits:\n",
      "      AccelerationSpeed < -0.4972222  to the right, agree=0.896, adj=0.15, (0 split)\n",
      "      Engine            < 1057.812    to the right, agree=0.884, adj=0.05, (0 split)\n",
      "\n",
      "Node number 139: 57 observations\n",
      "  predicted class=Red   expected loss=0.3157895  P(node) =0.0547025\n",
      "    class counts:    18    39\n",
      "   probabilities: 0.316 0.684 \n",
      "\n",
      "Node number 140: 61 observations\n",
      "  predicted class=Blue  expected loss=0.3278689  P(node) =0.05854127\n",
      "    class counts:    41    20\n",
      "   probabilities: 0.672 0.328 \n",
      "\n",
      "Node number 141: 10 observations\n",
      "  predicted class=Red   expected loss=0.2  P(node) =0.009596929\n",
      "    class counts:     2     8\n",
      "   probabilities: 0.200 0.800 \n",
      "\n",
      "Node number 276: 144 observations,    complexity param=0.01113586\n",
      "  predicted class=Blue  expected loss=0.375  P(node) =0.1381958\n",
      "    class counts:    90    54\n",
      "   probabilities: 0.625 0.375 \n",
      "  left son=552 (121 obs) right son=553 (23 obs)\n",
      "  Primary splits:\n",
      "      DistSignal        < 401.2067    to the left,  improve=2.989759, (0 missing)\n",
      "      SteeringAngle     < -6          to the right, improve=2.955913, (0 missing)\n",
      "      AccelerationSpeed < -0.02222222 to the left,  improve=2.922394, (0 missing)\n",
      "      Curve             < 216.5       to the right, improve=2.255413, (0 missing)\n",
      "      Jerk              < 0.08333333  to the right, improve=2.255413, (0 missing)\n",
      "  Surrogate splits:\n",
      "      Pitch         < -0.4375622  to the right, agree=0.875, adj=0.217, (0 split)\n",
      "      SteeringAngle < 45.6        to the left,  agree=0.861, adj=0.130, (0 split)\n",
      "      Speed         < 85.745      to the left,  agree=0.847, adj=0.043, (0 split)\n",
      "      Engine        < 2087.5      to the left,  agree=0.847, adj=0.043, (0 split)\n",
      "      Jerk          < 2.833333    to the left,  agree=0.847, adj=0.043, (0 split)\n",
      "\n",
      "Node number 277: 20 observations\n",
      "  predicted class=Red   expected loss=0.35  P(node) =0.01919386\n",
      "    class counts:     7    13\n",
      "   probabilities: 0.350 0.650 \n",
      "\n",
      "Node number 552: 121 observations\n",
      "  predicted class=Blue  expected loss=0.3305785  P(node) =0.1161228\n",
      "    class counts:    81    40\n",
      "   probabilities: 0.669 0.331 \n",
      "\n",
      "Node number 553: 23 observations\n",
      "  predicted class=Red   expected loss=0.3913043  P(node) =0.02207294\n",
      "    class counts:     9    14\n",
      "   probabilities: 0.391 0.609 \n",
      "\n"
     ]
    }
   ],
   "source": [
    "summary(fit3)"
   ]
  },
  {
   "cell_type": "raw",
   "metadata": {
    "collapsed": true,
    "deletable": true,
    "editable": true
   },
   "source": []
  }
 ],
 "metadata": {
  "kernelspec": {
   "display_name": "R",
   "language": "R",
   "name": "ir"
  },
  "language_info": {
   "codemirror_mode": "r",
   "file_extension": ".r",
   "mimetype": "text/x-r-source",
   "name": "R",
   "pygments_lexer": "r",
   "version": "3.3.2"
  }
 },
 "nbformat": 4,
 "nbformat_minor": 1
}
