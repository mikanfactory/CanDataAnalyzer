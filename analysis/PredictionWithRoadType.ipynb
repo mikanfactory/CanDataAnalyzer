{
 "cells": [
  {
   "cell_type": "code",
   "execution_count": 1,
   "metadata": {
    "collapsed": false
   },
   "outputs": [],
   "source": [
    "library(grid)\n",
    "library(rpart)\n",
    "library(rpart.plot)\n",
    "library(partykit)\n",
    "library(lattice)\n",
    "library(ggplot2)\n",
    "library(caret)"
   ]
  },
  {
   "cell_type": "code",
   "execution_count": 2,
   "metadata": {
    "collapsed": true
   },
   "outputs": [],
   "source": [
    "set.seed(1)"
   ]
  },
  {
   "cell_type": "code",
   "execution_count": 3,
   "metadata": {
    "collapsed": false
   },
   "outputs": [],
   "source": [
    "jRoadType <- c(\"都市間高速\", \"都市高速\", \"有料道路\", \"国道\", \"県道\", \"主要地方道\", \"一般道1、一般道2、一般道3\", \"その他\")"
   ]
  },
  {
   "cell_type": "code",
   "execution_count": 4,
   "metadata": {
    "collapsed": true
   },
   "outputs": [],
   "source": [
    "printf <- function(...) cat(sprintf(...))"
   ]
  },
  {
   "cell_type": "code",
   "execution_count": 5,
   "metadata": {
    "collapsed": true
   },
   "outputs": [],
   "source": [
    "invalids <- c('Time', 'Longitude', 'Latitude', 'Brake', 'Accel', 'RoadType', 'flag')\n",
    "isValidColumn <- function(x) {\n",
    "    if (x %in% invalids) {\n",
    "        return(FALSE)\n",
    "    }\n",
    "    return(TRUE)\n",
    "}"
   ]
  },
  {
   "cell_type": "code",
   "execution_count": 6,
   "metadata": {
    "collapsed": false
   },
   "outputs": [],
   "source": [
    "CV <- function(dfx, target) {    \n",
    "    nred <- nrow(dfx[dfx$flag == target, ])\n",
    "    rate <- as.numeric(nred)/nrow(dfx)\n",
    "    \n",
    "    folds <- createFolds(dfx$flag)\n",
    "    \n",
    "    errs <- c()\n",
    "    for (ids in folds) {\n",
    "        train <- dfx[-ids, ]\n",
    "        test <- dfx[ids, ]\n",
    "        fit <- rpart(expr, data=train, method=\"class\")\n",
    "        p <- predict(fit, newdata=test)\n",
    "        res <- colnames(p)[max.col(p, ties.method = \"first\")] == test$flag\n",
    "        errs <- c(errs, sum(res == FALSE) / nrow(test))\n",
    "    }\n",
    "    \n",
    "    return(c(rate, mean(errs)))\n",
    "}"
   ]
  },
  {
   "cell_type": "markdown",
   "metadata": {},
   "source": [
    "# Predict Red A"
   ]
  },
  {
   "cell_type": "code",
   "execution_count": 7,
   "metadata": {
    "collapsed": true
   },
   "outputs": [],
   "source": [
    "df <- read.csv(\"../data/middle/sp.csv\", stringsAsFactors=FALSE)"
   ]
  },
  {
   "cell_type": "code",
   "execution_count": 8,
   "metadata": {
    "collapsed": true
   },
   "outputs": [],
   "source": [
    "df$flag[df$flag == \"RedB\"] <- \"ELSE\"\n",
    "df$flag[df$flag == \"BlueA\"] <- \"ELSE\"\n",
    "df$flag[df$flag == \"BlueB\"] <- \"ELSE\"\n",
    "df$flag <- as.factor(df$flag)"
   ]
  },
  {
   "cell_type": "code",
   "execution_count": 9,
   "metadata": {
    "collapsed": true
   },
   "outputs": [],
   "source": [
    "allFeatures <- c(colnames(df))\n",
    "features <- Filter(isValidColumn, allFeatures)"
   ]
  },
  {
   "cell_type": "code",
   "execution_count": 10,
   "metadata": {
    "collapsed": true
   },
   "outputs": [],
   "source": [
    "expr <- paste(\"flag ~ \", paste(features, collapse=\" + \"))"
   ]
  },
  {
   "cell_type": "code",
   "execution_count": 11,
   "metadata": {
    "collapsed": true
   },
   "outputs": [],
   "source": [
    "roadTypes <- unique(df$RoadType)"
   ]
  },
  {
   "cell_type": "code",
   "execution_count": 12,
   "metadata": {
    "collapsed": false
   },
   "outputs": [
    {
     "name": "stdout",
     "output_type": "stream",
     "text": [
      "RoadType: 7 (その他)\n",
      "RedA/all = 0.185185\n",
      "CV value: 0.083333\n",
      "\n",
      "RoadType: 6 (一般道1、一般道2、一般道3)\n",
      "RedA/all = 0.250000\n",
      "CV value: 0.368750\n",
      "\n",
      "RoadType: 4 (県道)\n",
      "RedA/all = 0.346154\n",
      "CV value: 0.601667\n",
      "\n",
      "RoadType: 5 (主要地方道)\n",
      "RedA/all = 0.311037\n",
      "CV value: 0.327519\n",
      "\n",
      "RoadType: 3 (国道)\n",
      "RedA/all = 0.485893\n",
      "CV value: 0.476494\n",
      "\n",
      "RoadType: 0 (都市間高速)\n",
      "RedA/all = 0.617284\n",
      "CV value: 0.481944\n",
      "\n",
      "RoadType: 2 (有料道路)\n",
      "RedA/all = 0.446809\n",
      "CV value: 0.433333\n",
      "\n"
     ]
    },
    {
     "data": {
      "text/html": [
       "<ol class=list-inline>\n",
       "\t<li>'その他'</li>\n",
       "\t<li>'国道'</li>\n",
       "\t<li>'都市間高速'</li>\n",
       "\t<li>'有料道路'</li>\n",
       "</ol>\n"
      ],
      "text/latex": [
       "\\begin{enumerate*}\n",
       "\\item 'その他'\n",
       "\\item '国道'\n",
       "\\item '都市間高速'\n",
       "\\item '有料道路'\n",
       "\\end{enumerate*}\n"
      ],
      "text/markdown": [
       "1. 'その他'\n",
       "2. '国道'\n",
       "3. '都市間高速'\n",
       "4. '有料道路'\n",
       "\n",
       "\n"
      ],
      "text/plain": [
       "[1] \"その他\"     \"国道\"       \"都市間高速\" \"有料道路\"  "
      ]
     },
     "metadata": {},
     "output_type": "display_data"
    }
   ],
   "source": [
    "poss <- c()\n",
    "for (i in roadTypes) {\n",
    "    printf(\"RoadType: %d (%s)\\n\", i, jRoadType[i+1])\n",
    "    dfx <- df[df$RoadType == i, ]\n",
    "    res <- CV(dfx, \"RedA\")\n",
    "    printf(\"RedA/all = %f\\n\", res[1])\n",
    "    printf(\"CV value: %f\\n\", res[2])\n",
    "    printf(\"\\n\")\n",
    "    \n",
    "    if (res[1] > res[2]) {\n",
    "        poss <- c(poss, jRoadType[i+1])\n",
    "    }\n",
    "}\n",
    "poss"
   ]
  },
  {
   "cell_type": "markdown",
   "metadata": {},
   "source": [
    "# Predict Red B"
   ]
  },
  {
   "cell_type": "code",
   "execution_count": 13,
   "metadata": {
    "collapsed": true
   },
   "outputs": [],
   "source": [
    "df2 <- read.csv(\"../data/middle/sp.csv\", stringsAsFactors=FALSE)"
   ]
  },
  {
   "cell_type": "code",
   "execution_count": 14,
   "metadata": {
    "collapsed": false
   },
   "outputs": [],
   "source": [
    "df2$flag[df2$flag == \"RedA\"] <- \"ELSE\"\n",
    "df2$flag[df2$flag == \"BlueA\"] <- \"ELSE\"\n",
    "df2$flag[df2$flag == \"BlueB\"] <- \"ELSE\"\n",
    "df2$flag <- as.factor(df2$flag)"
   ]
  },
  {
   "cell_type": "code",
   "execution_count": 15,
   "metadata": {
    "collapsed": false
   },
   "outputs": [
    {
     "name": "stdout",
     "output_type": "stream",
     "text": [
      "RoadType: 7 (その他)\n",
      "RedB/all = 0.740741\n",
      "CV value: 0.133333\n",
      "\n",
      "RoadType: 6 (一般道1、一般道2、一般道3)\n",
      "RedB/all = 0.225000\n",
      "CV value: 0.278971\n",
      "\n",
      "RoadType: 4 (県道)\n",
      "RedB/all = 0.173077\n",
      "CV value: 0.250000\n",
      "\n",
      "RoadType: 5 (主要地方道)\n",
      "RedB/all = 0.204013\n",
      "CV value: 0.261194\n",
      "\n",
      "RoadType: 3 (国道)\n",
      "RedB/all = 0.134796\n",
      "CV value: 0.193848\n",
      "\n",
      "RoadType: 0 (都市間高速)\n",
      "RedB/all = 0.061728\n",
      "CV value: 0.059722\n",
      "\n",
      "RoadType: 2 (有料道路)\n",
      "RedB/all = 0.212766\n",
      "CV value: 0.175000\n",
      "\n"
     ]
    },
    {
     "data": {
      "text/html": [
       "<ol class=list-inline>\n",
       "\t<li>'その他'</li>\n",
       "\t<li>'都市間高速'</li>\n",
       "\t<li>'有料道路'</li>\n",
       "</ol>\n"
      ],
      "text/latex": [
       "\\begin{enumerate*}\n",
       "\\item 'その他'\n",
       "\\item '都市間高速'\n",
       "\\item '有料道路'\n",
       "\\end{enumerate*}\n"
      ],
      "text/markdown": [
       "1. 'その他'\n",
       "2. '都市間高速'\n",
       "3. '有料道路'\n",
       "\n",
       "\n"
      ],
      "text/plain": [
       "[1] \"その他\"     \"都市間高速\" \"有料道路\"  "
      ]
     },
     "metadata": {},
     "output_type": "display_data"
    }
   ],
   "source": [
    "poss <- c()\n",
    "for (i in roadTypes) {\n",
    "    printf(\"RoadType: %d (%s)\\n\", i, jRoadType[i+1])\n",
    "    dfx <- df2[df2$RoadType == i, ]\n",
    "    res <- CV(dfx, \"RedB\")\n",
    "    printf(\"RedB/all = %f\\n\", res[1])\n",
    "    printf(\"CV value: %f\\n\", res[2])\n",
    "    printf(\"\\n\")\n",
    "    \n",
    "    if (res[1] > res[2]) {\n",
    "        poss <- c(poss, jRoadType[i+1])\n",
    "    }\n",
    "}\n",
    "poss"
   ]
  },
  {
   "cell_type": "markdown",
   "metadata": {},
   "source": [
    "# Predict Reds"
   ]
  },
  {
   "cell_type": "code",
   "execution_count": 16,
   "metadata": {
    "collapsed": true
   },
   "outputs": [],
   "source": [
    "df3 <- read.csv(\"../data/middle/sp.csv\", stringsAsFactors=FALSE)"
   ]
  },
  {
   "cell_type": "code",
   "execution_count": 17,
   "metadata": {
    "collapsed": true
   },
   "outputs": [],
   "source": [
    "df3$flag[df3$flag == \"RedA\"] <- \"Red\"\n",
    "df3$flag[df3$flag == \"RedB\"] <- \"Red\"\n",
    "df3$flag[df3$flag == \"BlueA\"] <- \"ELSE\"\n",
    "df3$flag[df3$flag == \"BlueB\"] <- \"ELSE\"\n",
    "df3$flag <- as.factor(df3$flag)"
   ]
  },
  {
   "cell_type": "code",
   "execution_count": 18,
   "metadata": {
    "collapsed": false,
    "scrolled": false
   },
   "outputs": [
    {
     "name": "stdout",
     "output_type": "stream",
     "text": [
      "RoadType: 7 (その他)\n",
      "Red/all = 0.925926\n",
      "CV value: 0.066667\n",
      "\n",
      "RoadType: 6 (一般道1、一般道2、一般道3)\n",
      "Red/all = 0.475000\n",
      "CV value: 0.388848\n",
      "\n",
      "RoadType: 4 (県道)\n",
      "Red/all = 0.519231\n",
      "CV value: 0.600000\n",
      "\n",
      "RoadType: 5 (主要地方道)\n",
      "Red/all = 0.515050\n",
      "CV value: 0.442462\n",
      "\n",
      "RoadType: 3 (国道)\n",
      "Red/all = 0.620690\n",
      "CV value: 0.417217\n",
      "\n",
      "RoadType: 0 (都市間高速)\n",
      "Red/all = 0.679012\n",
      "CV value: 0.370040\n",
      "\n",
      "RoadType: 2 (有料道路)\n",
      "Red/all = 0.659574\n",
      "CV value: 0.273333\n",
      "\n"
     ]
    },
    {
     "data": {
      "text/html": [
       "<ol class=list-inline>\n",
       "\t<li>'その他'</li>\n",
       "\t<li>'一般道1、一般道2、一般道3'</li>\n",
       "\t<li>'主要地方道'</li>\n",
       "\t<li>'国道'</li>\n",
       "\t<li>'都市間高速'</li>\n",
       "\t<li>'有料道路'</li>\n",
       "</ol>\n"
      ],
      "text/latex": [
       "\\begin{enumerate*}\n",
       "\\item 'その他'\n",
       "\\item '一般道1、一般道2、一般道3'\n",
       "\\item '主要地方道'\n",
       "\\item '国道'\n",
       "\\item '都市間高速'\n",
       "\\item '有料道路'\n",
       "\\end{enumerate*}\n"
      ],
      "text/markdown": [
       "1. 'その他'\n",
       "2. '一般道1、一般道2、一般道3'\n",
       "3. '主要地方道'\n",
       "4. '国道'\n",
       "5. '都市間高速'\n",
       "6. '有料道路'\n",
       "\n",
       "\n"
      ],
      "text/plain": [
       "[1] \"その他\"                    \"一般道1、一般道2、一般道3\"\n",
       "[3] \"主要地方道\"                \"国道\"                     \n",
       "[5] \"都市間高速\"                \"有料道路\"                 "
      ]
     },
     "metadata": {},
     "output_type": "display_data"
    }
   ],
   "source": [
    "poss <- c()\n",
    "for (i in roadTypes) {\n",
    "    printf(\"RoadType: %d (%s)\\n\", i, jRoadType[i+1])\n",
    "    dfx <- df3[df3$RoadType == i, ]\n",
    "    res <- CV(dfx, \"Red\")\n",
    "    printf(\"Red/all = %f\\n\", res[1])\n",
    "    printf(\"CV value: %f\\n\", res[2])    \n",
    "    printf(\"\\n\")\n",
    "    \n",
    "    if (res[1] > res[2]) {\n",
    "        poss <- c(poss, jRoadType[i+1])\n",
    "    }\n",
    "}\n",
    "poss"
   ]
  },
  {
   "cell_type": "markdown",
   "metadata": {},
   "source": [
    "# Data"
   ]
  },
  {
   "cell_type": "code",
   "execution_count": 23,
   "metadata": {
    "collapsed": true
   },
   "outputs": [],
   "source": [
    "sp <- read.csv(\"../data/middle/sp.csv\", stringsAsFactors=FALSE)"
   ]
  },
  {
   "cell_type": "code",
   "execution_count": 24,
   "metadata": {
    "collapsed": false
   },
   "outputs": [],
   "source": [
    "redA <- sp[sp$flag == \"RedA\", ]\n",
    "redB <- sp[sp$flag == \"RedB\", ]\n",
    "blueA <- sp[sp$flag == \"BlueA\", ]\n",
    "blueB <- sp[sp$flag == \"BlueB\", ]"
   ]
  },
  {
   "cell_type": "code",
   "execution_count": 25,
   "metadata": {
    "collapsed": false
   },
   "outputs": [
    {
     "name": "stdout",
     "output_type": "stream",
     "text": [
      "RedA/All: 0.387817\n",
      "RedB/All: 0.186802\n",
      "Red/All: 0.574619\n"
     ]
    }
   ],
   "source": [
    "printf(\"RedA/All: %f\\n\", nrow(redA) / nrow(sp))\n",
    "printf(\"RedB/All: %f\\n\", nrow(redB) / nrow(sp))\n",
    "printf(\"Red/All: %f\\n\", (nrow(redA) + nrow(redB)) / nrow(sp) )"
   ]
  }
 ],
 "metadata": {
  "kernelspec": {
   "display_name": "R",
   "language": "R",
   "name": "ir"
  },
  "language_info": {
   "codemirror_mode": "r",
   "file_extension": ".r",
   "mimetype": "text/x-r-source",
   "name": "R",
   "pygments_lexer": "r",
   "version": "3.3.2"
  }
 },
 "nbformat": 4,
 "nbformat_minor": 1
}
