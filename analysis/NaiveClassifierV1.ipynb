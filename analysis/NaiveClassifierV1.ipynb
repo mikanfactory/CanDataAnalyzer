{
 "cells": [
  {
   "cell_type": "code",
   "execution_count": 1,
   "metadata": {
    "collapsed": false
   },
   "outputs": [],
   "source": [
    "library(grid)\n",
    "library(rpart)\n",
    "library(rpart.plot)\n",
    "library(partykit)\n",
    "library(lattice)\n",
    "library(ggplot2)\n",
    "library(caret)"
   ]
  },
  {
   "cell_type": "code",
   "execution_count": 2,
   "metadata": {
    "collapsed": true
   },
   "outputs": [],
   "source": [
    "set.seed(1)"
   ]
  },
  {
   "cell_type": "code",
   "execution_count": 3,
   "metadata": {
    "collapsed": false
   },
   "outputs": [],
   "source": [
    "invalids <- c('Time', 'Longitude', 'Latitude', 'Brake', 'Accel', 'flag')\n",
    "isValidColumn <- function(x) ! x %in% invalids"
   ]
  },
  {
   "cell_type": "code",
   "execution_count": 4,
   "metadata": {
    "collapsed": true
   },
   "outputs": [],
   "source": [
    "printf <- function(...) cat(sprintf(...))"
   ]
  },
  {
   "cell_type": "code",
   "execution_count": 5,
   "metadata": {
    "collapsed": false
   },
   "outputs": [],
   "source": [
    "CV <- function(dfx, expr, verbose=FALSE) {        \n",
    "    folds <- createFolds(dfx$flag)\n",
    "    \n",
    "    count <- 1\n",
    "    errs <- c()\n",
    "    reds <- c()\n",
    "    blues <- c()\n",
    "    for (ids in folds) {\n",
    "        train <- dfx[-ids, ]\n",
    "        test <- dfx[ids, ]\n",
    "        # fit <- rpart(expr, data=train, method=\"class\")\n",
    "        fit <- rpart(expr, data=train, method=\"class\", cp=0.0189)\n",
    "        p <- predict(fit, newdata=test)\n",
    "        predictedFlags <- colnames(p)[max.col(p, ties.method = \"first\")]\n",
    "        \n",
    "        if (verbose) {            \n",
    "            printf(\"Fold%d\\n\", count)\n",
    "            result <- correctVsPredict(test, predictedFlags)\n",
    "            reds <- c(reds, result[1])\n",
    "            blues <- c(blues, result[2])\n",
    "            count <- count + 1\n",
    "            printf(\"\\n\")\n",
    "        }\n",
    "        \n",
    "        nerr <- sum((predictedFlags == test$flag) == FALSE)\n",
    "        errs <- c(errs, nerr / nrow(test))\n",
    "    }\n",
    "    \n",
    "    return(c(mean(errs), mean(reds), mean(blues)))\n",
    "}"
   ]
  },
  {
   "cell_type": "code",
   "execution_count": 6,
   "metadata": {
    "collapsed": false
   },
   "outputs": [],
   "source": [
    "correctVsPredict <- function(test, predictedFlags) {    \n",
    "    # for All\n",
    "    # nTests <- nrow(test)\n",
    "    # nCorrectAll <- sum((predictedFlags == test$flag) == TRUE)\n",
    "    # printf(\"As fo All: correct/all = %d/%d = %f\\n\", nCorrectAll, nTests, nCorrectAll / nTests)\n",
    "    \n",
    "    # for Red\n",
    "    predictedRedRows <- test[predictedFlags == \"Red\", ]\n",
    "    nCorrectReds <- sum((predictedRedRows$flag == 'Red') == TRUE)\n",
    "    nPredictedReds <- nrow(predictedRedRows)\n",
    "    printf(\"As for Red: correct/predict = %d/%d = %f\\n\", nCorrectReds, nPredictedReds, nCorrectReds / nPredictedReds)\n",
    "    \n",
    "    # for Blue\n",
    "    predictedBlueRows <- test[predictedFlags == \"Blue\", ]\n",
    "    nCorrectBlues <- sum((predictedBlueRows$flag == 'Blue') == TRUE)\n",
    "    nPredictedBlues <- nrow(predictedBlueRows)\n",
    "    printf(\"As for Blue: correct/predict = %d/%d = %f\\n\", nCorrectBlues, nPredictedBlues, nCorrectBlues / nPredictedBlues)\n",
    "    \n",
    "    c(nCorrectReds/nPredictedReds, nCorrectBlues/nPredictedBlues)\n",
    "}"
   ]
  },
  {
   "cell_type": "code",
   "execution_count": 7,
   "metadata": {
    "collapsed": true
   },
   "outputs": [],
   "source": [
    "printRedRatios <- function(dfx) {\n",
    "    nRed <- nrow(dfx[dfx$flag == \"Red\", ])\n",
    "    nAll <- nrow(dfx)\n",
    "    printf(\"Red/All = %d/%d = %f\\n\", nRed, nAll, nRed/nAll)\n",
    "    printf(\"1 - Red/All = %d/%d = %f\\n\", nAll - nRed, nAll, 1 - nRed/nAll)\n",
    "}"
   ]
  },
  {
   "cell_type": "markdown",
   "metadata": {
    "collapsed": true
   },
   "source": [
    "# Predict Red"
   ]
  },
  {
   "cell_type": "code",
   "execution_count": 8,
   "metadata": {
    "collapsed": true
   },
   "outputs": [],
   "source": [
    "df3 <- read.csv(\"../data/middle/sp1.csv\", stringsAsFactors=FALSE)"
   ]
  },
  {
   "cell_type": "code",
   "execution_count": 9,
   "metadata": {
    "collapsed": true
   },
   "outputs": [],
   "source": [
    "df3$flag[df3$flag == \"RedA\"] <- \"Red\"\n",
    "df3$flag[df3$flag == \"RedB\"] <- \"Red\"\n",
    "df3$flag[df3$flag == \"BlueA\"] <- \"Blue\"\n",
    "df3$flag[df3$flag == \"BlueB\"] <- \"Blue\"\n",
    "df3$flag <- as.factor(df3$flag)"
   ]
  },
  {
   "cell_type": "code",
   "execution_count": 10,
   "metadata": {
    "collapsed": false,
    "scrolled": true
   },
   "outputs": [],
   "source": [
    "allFeatures <- c(colnames(df3))\n",
    "features <- Filter(isValidColumn, allFeatures)"
   ]
  },
  {
   "cell_type": "code",
   "execution_count": 11,
   "metadata": {
    "collapsed": false
   },
   "outputs": [],
   "source": [
    "expr <- paste(\"flag ~ \", paste(features, collapse=\" + \"))"
   ]
  },
  {
   "cell_type": "code",
   "execution_count": 12,
   "metadata": {
    "collapsed": true
   },
   "outputs": [],
   "source": [
    "folds3 <- createFolds(df3$flag)"
   ]
  },
  {
   "cell_type": "code",
   "execution_count": 13,
   "metadata": {
    "collapsed": false,
    "scrolled": true
   },
   "outputs": [
    {
     "name": "stdout",
     "output_type": "stream",
     "text": [
      "Fold1\n",
      "As for Red: correct/predict = 37/70 = 0.528571\n",
      "As for Blue: correct/predict = 12/34 = 0.352941\n",
      "\n",
      "Fold2\n",
      "As for Red: correct/predict = 48/74 = 0.648649\n",
      "As for Blue: correct/predict = 19/30 = 0.633333\n",
      "\n",
      "Fold3\n",
      "As for Red: correct/predict = 39/66 = 0.590909\n",
      "As for Blue: correct/predict = 18/38 = 0.473684\n",
      "\n",
      "Fold4\n",
      "As for Red: correct/predict = 48/72 = 0.666667\n",
      "As for Blue: correct/predict = 21/32 = 0.656250\n",
      "\n",
      "Fold5\n",
      "As for Red: correct/predict = 43/77 = 0.558442\n",
      "As for Blue: correct/predict = 11/27 = 0.407407\n",
      "\n",
      "Fold6\n",
      "As for Red: correct/predict = 39/65 = 0.600000\n",
      "As for Blue: correct/predict = 18/38 = 0.473684\n",
      "\n",
      "Fold7\n",
      "As for Red: correct/predict = 46/77 = 0.597403\n",
      "As for Blue: correct/predict = 14/28 = 0.500000\n",
      "\n",
      "Fold8\n",
      "As for Red: correct/predict = 38/56 = 0.678571\n",
      "As for Blue: correct/predict = 27/49 = 0.551020\n",
      "\n",
      "Fold9\n",
      "As for Red: correct/predict = 41/63 = 0.650794\n",
      "As for Blue: correct/predict = 23/41 = 0.560976\n",
      "\n",
      "Fold10\n",
      "As for Red: correct/predict = 43/65 = 0.661538\n",
      "As for Blue: correct/predict = 23/40 = 0.575000\n",
      "\n",
      "Red/All = 593/1042 = 0.569098\n",
      "1 - Red/All = 449/1042 = 0.430902\n",
      "Red: Mean correct/predict = 0.618154\n",
      "Blue: Mean correct/predict = 0.518430\n",
      "CV value: 0.416602"
     ]
    }
   ],
   "source": [
    "result <- CV(df3, expr, verbose=TRUE)\n",
    "printRedRatios(df3)\n",
    "printf(\"Red: Mean correct/predict = %f\\n\", result[2])\n",
    "printf(\"Blue: Mean correct/predict = %f\\n\", result[3])\n",
    "printf(\"CV value: %f\", result[1])"
   ]
  },
  {
   "cell_type": "code",
   "execution_count": 14,
   "metadata": {
    "collapsed": false
   },
   "outputs": [],
   "source": [
    "fit3 <- rpart(expr, data=df3, method=\"class\")"
   ]
  },
  {
   "cell_type": "code",
   "execution_count": 15,
   "metadata": {
    "collapsed": false
   },
   "outputs": [
    {
     "data": {
      "text/html": [
       "0.0111358574610245"
      ],
      "text/latex": [
       "0.0111358574610245"
      ],
      "text/markdown": [
       "0.0111358574610245"
      ],
      "text/plain": [
       "[1] 0.01113586"
      ]
     },
     "metadata": {},
     "output_type": "display_data"
    }
   ],
   "source": [
    "fit3$cptable[which.min(fit3$cptable[,\"xerror\"]),\"CP\"]"
   ]
  },
  {
   "cell_type": "code",
   "execution_count": 16,
   "metadata": {
    "collapsed": false
   },
   "outputs": [
    {
     "name": "stdout",
     "output_type": "stream",
     "text": [
      "\n",
      "Classification tree:\n",
      "rpart(formula = expr, data = df3, method = \"class\")\n",
      "\n",
      "Variables actually used in tree construction:\n",
      " [1] AccelerationSpeed AheadDistance     Curve             DistSignal       \n",
      " [5] Jerk              ManBicycleCount   Pitch             RiskFactor       \n",
      " [9] RoadType          Speed             SteeringAngle     TimeHeadway      \n",
      "\n",
      "Root node error: 449/1042 = 0.4309\n",
      "\n",
      "n= 1042 \n",
      "\n",
      "        CP nsplit rel error  xerror     xstd\n",
      "1 0.031737      0   1.00000 1.00000 0.035602\n",
      "2 0.024499      5   0.83519 0.97105 0.035465\n",
      "3 0.018931      6   0.81069 0.95991 0.035406\n",
      "4 0.011136      8   0.77283 0.93764 0.035278\n",
      "5 0.010579     12   0.72606 0.94432 0.035318\n",
      "6 0.010000     17   0.66592 0.94432 0.035318\n"
     ]
    }
   ],
   "source": [
    "printcp(fit3)"
   ]
  },
  {
   "cell_type": "code",
   "execution_count": 17,
   "metadata": {
    "collapsed": false
   },
   "outputs": [
    {
     "name": "stdout",
     "output_type": "stream",
     "text": [
      "Call:\n",
      "rpart(formula = expr, data = df3, method = \"class\")\n",
      "  n= 1042 \n",
      "\n",
      "          CP nsplit rel error    xerror       xstd\n",
      "1 0.03173719      0 1.0000000 1.0000000 0.03560167\n",
      "2 0.02449889      5 0.8351893 0.9710468 0.03546495\n",
      "3 0.01893096      6 0.8106904 0.9599109 0.03540618\n",
      "4 0.01113586      8 0.7728285 0.9376392 0.03527822\n",
      "5 0.01057906     12 0.7260579 0.9443207 0.03531807\n",
      "6 0.01000000     17 0.6659243 0.9443207 0.03531807\n",
      "\n",
      "Variable importance\n",
      "       RiskFactor             Speed          RoadType AccelerationSpeed \n",
      "               13                11                11                 9 \n",
      "            Pitch             Curve       TimeHeadway        DistSignal \n",
      "                7                 7                 7                 6 \n",
      "    AheadDistance   TimeToCollision     SteeringAngle              Jerk \n",
      "                6                 5                 4                 4 \n",
      "           Engine   ManBicycleCount          PathType         LaneCount \n",
      "                3                 2                 1                 1 \n",
      "   DistManBicycle \n",
      "                1 \n",
      "\n",
      "Node number 1: 1042 observations,    complexity param=0.03173719\n",
      "  predicted class=Red   expected loss=0.4309021  P(node) =1\n",
      "    class counts:   449   593\n",
      "   probabilities: 0.431 0.569 \n",
      "  left son=2 (672 obs) right son=3 (370 obs)\n",
      "  Primary splits:\n",
      "      RiskFactor        < 0.3958754   to the left,  improve=12.380920, (0 missing)\n",
      "      TimeHeadway       < 2.861792    to the right, improve=11.643100, (0 missing)\n",
      "      AccelerationSpeed < 0.6416667   to the left,  improve= 9.009149, (0 missing)\n",
      "      Curve             < 253         to the left,  improve= 8.630724, (0 missing)\n",
      "      Speed             < 32.43       to the right, improve= 7.881950, (0 missing)\n",
      "  Surrogate splits:\n",
      "      TimeToCollision < 0.4492195   to the left,  agree=0.798, adj=0.430, (0 split)\n",
      "      BrakeCar        < 0.5         to the left,  agree=0.660, adj=0.043, (0 split)\n",
      "      RoadType        < 1           to the right, agree=0.655, adj=0.030, (0 split)\n",
      "      Curve           < 92.5        to the right, agree=0.653, adj=0.022, (0 split)\n",
      "      SteeringAngle   < -8.15       to the right, agree=0.650, adj=0.014, (0 split)\n",
      "\n",
      "Node number 2: 672 observations,    complexity param=0.03173719\n",
      "  predicted class=Red   expected loss=0.4880952  P(node) =0.6449136\n",
      "    class counts:   328   344\n",
      "   probabilities: 0.488 0.512 \n",
      "  left son=4 (641 obs) right son=5 (31 obs)\n",
      "  Primary splits:\n",
      "      Curve             < 253         to the left,  improve=9.953351, (0 missing)\n",
      "      RoadType          < 6.5         to the left,  improve=9.643805, (0 missing)\n",
      "      AccelerationSpeed < 0.6444444   to the left,  improve=9.415741, (0 missing)\n",
      "      DistSignal        < 747.0376    to the left,  improve=8.006015, (0 missing)\n",
      "      Speed             < 30.31       to the right, improve=6.480406, (0 missing)\n",
      "  Surrogate splits:\n",
      "      RoadType          < 6.5         to the left,  agree=0.994, adj=0.871, (0 split)\n",
      "      DistSignal        < 758.4787    to the left,  agree=0.967, adj=0.290, (0 split)\n",
      "      SteeringAngle     < -147.2      to the right, agree=0.961, adj=0.161, (0 split)\n",
      "      Speed             < 3.51        to the right, agree=0.958, adj=0.097, (0 split)\n",
      "      AccelerationSpeed < 0.8361111   to the left,  agree=0.957, adj=0.065, (0 split)\n",
      "\n",
      "Node number 3: 370 observations,    complexity param=0.01893096\n",
      "  predicted class=Red   expected loss=0.327027  P(node) =0.3550864\n",
      "    class counts:   121   249\n",
      "   probabilities: 0.327 0.673 \n",
      "  left son=6 (118 obs) right son=7 (252 obs)\n",
      "  Primary splits:\n",
      "      TimeHeadway   < 2.219974    to the right, improve=6.702074, (0 missing)\n",
      "      Pitch         < -0.0579602  to the left,  improve=5.268385, (0 missing)\n",
      "      DistSignal    < 58.35245    to the right, improve=5.064054, (0 missing)\n",
      "      AheadDistance < 15.6        to the right, improve=4.872531, (0 missing)\n",
      "      RiskFactor    < 0.6769943   to the left,  improve=3.527884, (0 missing)\n",
      "  Surrogate splits:\n",
      "      Speed           < 18          to the left,  agree=0.792, adj=0.347, (0 split)\n",
      "      RoadType        < 3.5         to the right, agree=0.730, adj=0.153, (0 split)\n",
      "      TimeToCollision < 1.06208     to the right, agree=0.727, adj=0.144, (0 split)\n",
      "      Engine          < 1090.625    to the left,  agree=0.711, adj=0.093, (0 split)\n",
      "      AheadDistance   < 46.35       to the right, agree=0.708, adj=0.085, (0 split)\n",
      "\n",
      "Node number 4: 641 observations,    complexity param=0.03173719\n",
      "  predicted class=Blue  expected loss=0.4929797  P(node) =0.6151631\n",
      "    class counts:   325   316\n",
      "   probabilities: 0.507 0.493 \n",
      "  left son=8 (620 obs) right son=9 (21 obs)\n",
      "  Primary splits:\n",
      "      AccelerationSpeed < 0.575       to the left,  improve=7.362931, (0 missing)\n",
      "      Curve             < 245         to the right, improve=5.746836, (0 missing)\n",
      "      TimeToCollision   < -48.8279    to the left,  improve=5.309334, (0 missing)\n",
      "      RoadType          < 3.5         to the right, improve=5.257732, (0 missing)\n",
      "      TimeHeadway       < 2.908603    to the right, improve=4.744614, (0 missing)\n",
      "\n",
      "Node number 5: 31 observations\n",
      "  predicted class=Red   expected loss=0.09677419  P(node) =0.02975048\n",
      "    class counts:     3    28\n",
      "   probabilities: 0.097 0.903 \n",
      "\n",
      "Node number 6: 118 observations,    complexity param=0.01893096\n",
      "  predicted class=Red   expected loss=0.4661017  P(node) =0.1132438\n",
      "    class counts:    55    63\n",
      "   probabilities: 0.466 0.534 \n",
      "  left son=12 (71 obs) right son=13 (47 obs)\n",
      "  Primary splits:\n",
      "      AheadDistance < 15.1        to the right, improve=8.412961, (0 missing)\n",
      "      Speed         < 35.8        to the right, improve=6.129846, (0 missing)\n",
      "      Pitch         < -0.181592   to the left,  improve=4.113999, (0 missing)\n",
      "      Engine        < 1309.375    to the right, improve=3.970949, (0 missing)\n",
      "      RiskFactor    < 0.6978732   to the left,  improve=3.428814, (0 missing)\n",
      "  Surrogate splits:\n",
      "      Speed             < 19.595      to the right, agree=0.907, adj=0.766, (0 split)\n",
      "      Engine            < 1145.312    to the right, agree=0.729, adj=0.319, (0 split)\n",
      "      AccelerationSpeed < 0.3388889   to the left,  agree=0.669, adj=0.170, (0 split)\n",
      "      SteeringAngle     < -10.45      to the right, agree=0.661, adj=0.149, (0 split)\n",
      "      Curve             < 86          to the right, agree=0.627, adj=0.064, (0 split)\n",
      "\n",
      "Node number 7: 252 observations\n",
      "  predicted class=Red   expected loss=0.2619048  P(node) =0.2418426\n",
      "    class counts:    66   186\n",
      "   probabilities: 0.262 0.738 \n",
      "\n",
      "Node number 8: 620 observations,    complexity param=0.03173719\n",
      "  predicted class=Blue  expected loss=0.4790323  P(node) =0.5950096\n",
      "    class counts:   323   297\n",
      "   probabilities: 0.521 0.479 \n",
      "  left son=16 (401 obs) right son=17 (219 obs)\n",
      "  Primary splits:\n",
      "      RoadType        < 3.5         to the right, improve=5.700025, (0 missing)\n",
      "      TimeToCollision < -48.8279    to the left,  improve=5.063432, (0 missing)\n",
      "      TimeHeadway     < 2.908603    to the right, improve=4.859944, (0 missing)\n",
      "      DistSignal      < 22.00974    to the right, improve=4.837236, (0 missing)\n",
      "      DistManBicycle  < 14.07506    to the right, improve=4.631983, (0 missing)\n",
      "  Surrogate splits:\n",
      "      PathType  < 53.5        to the left,  agree=0.784, adj=0.388, (0 split)\n",
      "      Speed     < 48.18       to the left,  agree=0.777, adj=0.370, (0 split)\n",
      "      LaneCount < 2.5         to the left,  agree=0.700, adj=0.151, (0 split)\n",
      "      Pitch     < -0.2935323  to the right, agree=0.685, adj=0.110, (0 split)\n",
      "      Engine    < 1723.438    to the left,  agree=0.679, adj=0.091, (0 split)\n",
      "\n",
      "Node number 9: 21 observations\n",
      "  predicted class=Red   expected loss=0.0952381  P(node) =0.02015355\n",
      "    class counts:     2    19\n",
      "   probabilities: 0.095 0.905 \n",
      "\n",
      "Node number 12: 71 observations\n",
      "  predicted class=Blue  expected loss=0.3802817  P(node) =0.0681382\n",
      "    class counts:    44    27\n",
      "   probabilities: 0.620 0.380 \n",
      "\n",
      "Node number 13: 47 observations\n",
      "  predicted class=Red   expected loss=0.2340426  P(node) =0.04510557\n",
      "    class counts:    11    36\n",
      "   probabilities: 0.234 0.766 \n",
      "\n",
      "Node number 16: 401 observations,    complexity param=0.03173719\n",
      "  predicted class=Blue  expected loss=0.4289277  P(node) =0.3848369\n",
      "    class counts:   229   172\n",
      "   probabilities: 0.571 0.429 \n",
      "  left son=32 (350 obs) right son=33 (51 obs)\n",
      "  Primary splits:\n",
      "      DistSignal      < 22.00974    to the right, improve=6.605068, (0 missing)\n",
      "      Pitch           < 0.3447761   to the left,  improve=5.185444, (0 missing)\n",
      "      Curve           < 246         to the right, improve=3.824087, (0 missing)\n",
      "      TimeToCollision < -31.86283   to the left,  improve=3.735693, (0 missing)\n",
      "      Speed           < 49.64       to the left,  improve=3.471652, (0 missing)\n",
      "  Surrogate splits:\n",
      "      SteeringAngle   < -61.4       to the right, agree=0.878, adj=0.039, (0 split)\n",
      "      Engine          < 1689.062    to the left,  agree=0.875, adj=0.020, (0 split)\n",
      "      TimeToCollision < -511.9913   to the right, agree=0.875, adj=0.020, (0 split)\n",
      "\n",
      "Node number 17: 219 observations,    complexity param=0.01057906\n",
      "  predicted class=Red   expected loss=0.4292237  P(node) =0.2101727\n",
      "    class counts:    94   125\n",
      "   probabilities: 0.429 0.571 \n",
      "  left son=34 (175 obs) right son=35 (44 obs)\n",
      "  Primary splits:\n",
      "      RiskFactor        < 0.3296537   to the left,  improve=3.537365, (0 missing)\n",
      "      Jerk              < 1.25        to the right, improve=3.367707, (0 missing)\n",
      "      AccelerationSpeed < 0.2583333   to the left,  improve=3.350302, (0 missing)\n",
      "      ManBicycleCount   < 1.5         to the right, improve=3.296135, (0 missing)\n",
      "      LaneCount         < 0.5         to the left,  improve=2.919971, (0 missing)\n",
      "  Surrogate splits:\n",
      "      LeftCar         < 0.5         to the left,  agree=0.808, adj=0.045, (0 split)\n",
      "      TimeToCollision < 64.04954    to the left,  agree=0.808, adj=0.045, (0 split)\n",
      "\n",
      "Node number 32: 350 observations,    complexity param=0.02449889\n",
      "  predicted class=Blue  expected loss=0.3942857  P(node) =0.3358925\n",
      "    class counts:   212   138\n",
      "   probabilities: 0.606 0.394 \n",
      "  left son=64 (331 obs) right son=65 (19 obs)\n",
      "  Primary splits:\n",
      "      Pitch       < 0.3447761   to the left,  improve=6.275251, (0 missing)\n",
      "      Jerk        < 1.416667    to the left,  improve=3.773038, (0 missing)\n",
      "      Curve       < 246         to the right, improve=3.387373, (0 missing)\n",
      "      DistSignal  < 307.7992    to the left,  improve=3.320136, (0 missing)\n",
      "      TimeHeadway < 2.908603    to the right, improve=3.260327, (0 missing)\n",
      "  Surrogate splits:\n",
      "      AccelerationSpeed < -0.4972222  to the right, agree=0.954, adj=0.158, (0 split)\n",
      "\n",
      "Node number 33: 51 observations\n",
      "  predicted class=Red   expected loss=0.3333333  P(node) =0.04894434\n",
      "    class counts:    17    34\n",
      "   probabilities: 0.333 0.667 \n",
      "\n",
      "Node number 34: 175 observations,    complexity param=0.01057906\n",
      "  predicted class=Red   expected loss=0.4742857  P(node) =0.1679463\n",
      "    class counts:    83    92\n",
      "   probabilities: 0.474 0.526 \n",
      "  left son=68 (153 obs) right son=69 (22 obs)\n",
      "  Primary splits:\n",
      "      AccelerationSpeed < 0.2361111   to the left,  improve=3.070710, (0 missing)\n",
      "      ManBicycleCount   < 1.5         to the right, improve=3.010355, (0 missing)\n",
      "      DistManBicycle    < 18.20156    to the right, improve=2.590567, (0 missing)\n",
      "      PathType          < 1.5         to the right, improve=2.521214, (0 missing)\n",
      "      TimeToCollision   < -49.69333   to the left,  improve=2.443310, (0 missing)\n",
      "  Surrogate splits:\n",
      "      Speed           < 7.9         to the right, agree=0.886, adj=0.091, (0 split)\n",
      "      ManBicycleCount < 3.5         to the left,  agree=0.880, adj=0.045, (0 split)\n",
      "\n",
      "Node number 35: 44 observations\n",
      "  predicted class=Red   expected loss=0.25  P(node) =0.04222649\n",
      "    class counts:    11    33\n",
      "   probabilities: 0.250 0.750 \n",
      "\n",
      "Node number 64: 331 observations,    complexity param=0.01113586\n",
      "  predicted class=Blue  expected loss=0.3716012  P(node) =0.3176583\n",
      "    class counts:   208   123\n",
      "   probabilities: 0.628 0.372 \n",
      "  left son=128 (324 obs) right son=129 (7 obs)\n",
      "  Primary splits:\n",
      "      SteeringAngle   < -8.9        to the right, improve=3.371817, (0 missing)\n",
      "      Jerk            < 1.416667    to the left,  improve=3.055495, (0 missing)\n",
      "      TimeToCollision < -31.86283   to the left,  improve=2.962742, (0 missing)\n",
      "      Engine          < 1295.312    to the left,  improve=2.670537, (0 missing)\n",
      "      TimeHeadway     < 2.797894    to the right, improve=2.631747, (0 missing)\n",
      "\n",
      "Node number 65: 19 observations\n",
      "  predicted class=Red   expected loss=0.2105263  P(node) =0.01823417\n",
      "    class counts:     4    15\n",
      "   probabilities: 0.211 0.789 \n",
      "\n",
      "Node number 68: 153 observations,    complexity param=0.01057906\n",
      "  predicted class=Blue  expected loss=0.4901961  P(node) =0.146833\n",
      "    class counts:    78    75\n",
      "   probabilities: 0.510 0.490 \n",
      "  left son=136 (11 obs) right son=137 (142 obs)\n",
      "  Primary splits:\n",
      "      TimeHeadway     < 3.508414    to the right, improve=3.779167, (0 missing)\n",
      "      DistManBicycle  < 10.48131    to the right, improve=3.677003, (0 missing)\n",
      "      ManBicycleCount < 1.5         to the right, improve=3.497043, (0 missing)\n",
      "      DistSignal      < 48.01355    to the right, improve=2.285304, (0 missing)\n",
      "      PathType        < 1.5         to the right, improve=2.021160, (0 missing)\n",
      "  Surrogate splits:\n",
      "      TimeToCollision < -103.2341   to the left,  agree=0.941, adj=0.182, (0 split)\n",
      "\n",
      "Node number 69: 22 observations\n",
      "  predicted class=Red   expected loss=0.2272727  P(node) =0.02111324\n",
      "    class counts:     5    17\n",
      "   probabilities: 0.227 0.773 \n",
      "\n",
      "Node number 128: 324 observations,    complexity param=0.01113586\n",
      "  predicted class=Blue  expected loss=0.3611111  P(node) =0.3109405\n",
      "    class counts:   207   117\n",
      "   probabilities: 0.639 0.361 \n",
      "  left son=256 (27 obs) right son=257 (297 obs)\n",
      "  Primary splits:\n",
      "      Pitch           < -0.1661692  to the left,  improve=3.681818, (0 missing)\n",
      "      Jerk            < 1.583333    to the left,  improve=3.035173, (0 missing)\n",
      "      Engine          < 1295.312    to the left,  improve=2.773898, (0 missing)\n",
      "      TimeToCollision < -31.86283   to the left,  improve=2.527005, (0 missing)\n",
      "      TimeHeadway     < 2.797894    to the right, improve=2.413796, (0 missing)\n",
      "  Surrogate splits:\n",
      "      Jerk < -2.416667   to the left,  agree=0.92, adj=0.037, (0 split)\n",
      "\n",
      "Node number 129: 7 observations\n",
      "  predicted class=Red   expected loss=0.1428571  P(node) =0.00671785\n",
      "    class counts:     1     6\n",
      "   probabilities: 0.143 0.857 \n",
      "\n",
      "Node number 136: 11 observations\n",
      "  predicted class=Blue  expected loss=0.09090909  P(node) =0.01055662\n",
      "    class counts:    10     1\n",
      "   probabilities: 0.909 0.091 \n",
      "\n",
      "Node number 137: 142 observations,    complexity param=0.01057906\n",
      "  predicted class=Red   expected loss=0.4788732  P(node) =0.1362764\n",
      "    class counts:    68    74\n",
      "   probabilities: 0.479 0.521 \n",
      "  left son=274 (24 obs) right son=275 (118 obs)\n",
      "  Primary splits:\n",
      "      ManBicycleCount   < 1.5         to the right, improve=3.041319, (0 missing)\n",
      "      TimeHeadway       < 2.33889     to the left,  improve=2.759879, (0 missing)\n",
      "      DistManBicycle    < 10.48131    to the right, improve=2.681526, (0 missing)\n",
      "      AheadDistance     < 10.25       to the left,  improve=2.365303, (0 missing)\n",
      "      AccelerationSpeed < -0.02222222 to the left,  improve=2.217502, (0 missing)\n",
      "  Surrogate splits:\n",
      "      DistManBicycle < 19.95256    to the right, agree=0.873, adj=0.25, (0 split)\n",
      "\n",
      "Node number 256: 27 observations\n",
      "  predicted class=Blue  expected loss=0.1111111  P(node) =0.02591171\n",
      "    class counts:    24     3\n",
      "   probabilities: 0.889 0.111 \n",
      "\n",
      "Node number 257: 297 observations,    complexity param=0.01113586\n",
      "  predicted class=Blue  expected loss=0.3838384  P(node) =0.2850288\n",
      "    class counts:   183   114\n",
      "   probabilities: 0.616 0.384 \n",
      "  left son=514 (271 obs) right son=515 (26 obs)\n",
      "  Primary splits:\n",
      "      Jerk            < 1.416667    to the left,  improve=5.422686, (0 missing)\n",
      "      Engine          < 1320.312    to the left,  improve=3.661981, (0 missing)\n",
      "      TimeToCollision < -31.86283   to the left,  improve=3.154875, (0 missing)\n",
      "      TimeHeadway     < 2.90063     to the right, improve=2.944052, (0 missing)\n",
      "      Speed           < 49.64       to the left,  improve=2.498714, (0 missing)\n",
      "  Surrogate splits:\n",
      "      Pitch < -0.1549751  to the right, agree=0.916, adj=0.038, (0 split)\n",
      "\n",
      "Node number 274: 24 observations\n",
      "  predicted class=Blue  expected loss=0.2916667  P(node) =0.02303263\n",
      "    class counts:    17     7\n",
      "   probabilities: 0.708 0.292 \n",
      "\n",
      "Node number 275: 118 observations,    complexity param=0.01057906\n",
      "  predicted class=Red   expected loss=0.4322034  P(node) =0.1132438\n",
      "    class counts:    51    67\n",
      "   probabilities: 0.432 0.568 \n",
      "  left son=550 (14 obs) right son=551 (104 obs)\n",
      "  Primary splits:\n",
      "      RiskFactor  < 0.3030257   to the right, improve=3.970199, (0 missing)\n",
      "      PathType    < 1.5         to the right, improve=2.204648, (0 missing)\n",
      "      DistSignal  < 193.5288    to the right, improve=1.939064, (0 missing)\n",
      "      TimeHeadway < 2.33889     to the left,  improve=1.821417, (0 missing)\n",
      "      BrakeCar    < 0.5         to the right, improve=1.733436, (0 missing)\n",
      "  Surrogate splits:\n",
      "      TimeToCollision < -50.35848   to the left,  agree=0.907, adj=0.214, (0 split)\n",
      "      Limit30Sign     < 0.5         to the right, agree=0.898, adj=0.143, (0 split)\n",
      "      Speed           < 10.815      to the left,  agree=0.890, adj=0.071, (0 split)\n",
      "\n",
      "Node number 514: 271 observations,    complexity param=0.01113586\n",
      "  predicted class=Blue  expected loss=0.3542435  P(node) =0.2600768\n",
      "    class counts:   175    96\n",
      "   probabilities: 0.646 0.354 \n",
      "  left son=1028 (255 obs) right son=1029 (16 obs)\n",
      "  Primary splits:\n",
      "      Speed             < 49.64       to the left,  improve=3.776907, (0 missing)\n",
      "      TimeToCollision   < -31.86283   to the left,  improve=2.861308, (0 missing)\n",
      "      AccelerationSpeed < 0.4583333   to the right, improve=2.336385, (0 missing)\n",
      "      TimeHeadway       < 2.90063     to the right, improve=2.067008, (0 missing)\n",
      "      Curve             < 150         to the right, improve=2.056668, (0 missing)\n",
      "\n",
      "Node number 515: 26 observations\n",
      "  predicted class=Red   expected loss=0.3076923  P(node) =0.02495202\n",
      "    class counts:     8    18\n",
      "   probabilities: 0.308 0.692 \n",
      "\n",
      "Node number 550: 14 observations\n",
      "  predicted class=Blue  expected loss=0.2142857  P(node) =0.0134357\n",
      "    class counts:    11     3\n",
      "   probabilities: 0.786 0.214 \n",
      "\n",
      "Node number 551: 104 observations\n",
      "  predicted class=Red   expected loss=0.3846154  P(node) =0.09980806\n",
      "    class counts:    40    64\n",
      "   probabilities: 0.385 0.615 \n",
      "\n",
      "Node number 1028: 255 observations\n",
      "  predicted class=Blue  expected loss=0.3333333  P(node) =0.2447217\n",
      "    class counts:   170    85\n",
      "   probabilities: 0.667 0.333 \n",
      "\n",
      "Node number 1029: 16 observations\n",
      "  predicted class=Red   expected loss=0.3125  P(node) =0.01535509\n",
      "    class counts:     5    11\n",
      "   probabilities: 0.312 0.688 \n",
      "\n"
     ]
    }
   ],
   "source": [
    "summary(fit3)"
   ]
  },
  {
   "cell_type": "code",
   "execution_count": 18,
   "metadata": {
    "collapsed": false
   },
   "outputs": [
    {
     "data": {
      "image/png": "[encoded data removed]",
      "text/plain": [
       "plot without title"
      ]
     },
     "metadata": {},
     "output_type": "display_data"
    }
   ],
   "source": [
    "plotcp(fit3)"
   ]
  },
  {
   "cell_type": "code",
   "execution_count": null,
   "metadata": {
    "collapsed": true
   },
   "outputs": [],
   "source": []
  }
 ],
 "metadata": {
  "kernelspec": {
   "display_name": "R",
   "language": "R",
   "name": "ir"
  },
  "language_info": {
   "codemirror_mode": "r",
   "file_extension": ".r",
   "mimetype": "text/x-r-source",
   "name": "R",
   "pygments_lexer": "r",
   "version": "3.3.2"
  }
 },
 "nbformat": 4,
 "nbformat_minor": 1
}
