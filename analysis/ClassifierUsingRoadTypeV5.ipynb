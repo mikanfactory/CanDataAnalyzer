{
 "cells": [
  {
   "cell_type": "code",
   "execution_count": 1,
   "metadata": {
    "collapsed": false,
    "deletable": true,
    "editable": true
   },
   "outputs": [
    {
     "name": "stderr",
     "output_type": "stream",
     "text": [
      "\n",
      "Attaching package: ‘dplyr’\n",
      "\n",
      "The following objects are masked from ‘package:stats’:\n",
      "\n",
      "    filter, lag\n",
      "\n",
      "The following objects are masked from ‘package:base’:\n",
      "\n",
      "    intersect, setdiff, setequal, union\n",
      "\n"
     ]
    }
   ],
   "source": [
    "library(grid)\n",
    "library(rpart)\n",
    "library(rpart.plot)\n",
    "library(partykit)\n",
    "library(lattice)\n",
    "library(ggplot2)\n",
    "library(caret)\n",
    "library(dplyr)"
   ]
  },
  {
   "cell_type": "code",
   "execution_count": 2,
   "metadata": {
    "collapsed": true,
    "deletable": true,
    "editable": true
   },
   "outputs": [],
   "source": [
    "set.seed(1)"
   ]
  },
  {
   "cell_type": "code",
   "execution_count": 3,
   "metadata": {
    "collapsed": false,
    "deletable": true,
    "editable": true
   },
   "outputs": [],
   "source": [
    "jRoadType <- c(\"都市間高速\", \"都市高速\", \"有料道路\", \"国道\", \"県道\", \"主要地方道\", \"一般道1、一般道2、一般道3\", \"その他\")\n",
    "jHighSpeeds <- c(\"都市間高速\", \"都市高速\", \"有料道路\")"
   ]
  },
  {
   "cell_type": "code",
   "execution_count": 4,
   "metadata": {
    "collapsed": true,
    "deletable": true,
    "editable": true
   },
   "outputs": [],
   "source": [
    "printf <- function(...) cat(sprintf(...))"
   ]
  },
  {
   "cell_type": "code",
   "execution_count": 23,
   "metadata": {
    "collapsed": true,
    "deletable": true,
    "editable": true
   },
   "outputs": [],
   "source": [
    "# valid columns when high speed\n",
    "invalids <- c('Time', 'Longitude', 'Latitude', 'Brake', 'Accel', 'RoadType', 'flag', 'TimeToCollision', \"RoadFactor\")\n",
    "isValidColumn <- function(x) ! x %in% invalids"
   ]
  },
  {
   "cell_type": "code",
   "execution_count": 24,
   "metadata": {
    "collapsed": true,
    "deletable": true,
    "editable": true
   },
   "outputs": [],
   "source": [
    "CV <- function(dfx, expr, verbose=FALSE) {        \n",
    "    folds <- createFolds(dfx$flag, k=5)\n",
    "    \n",
    "    count <- 1\n",
    "    errs <- c()\n",
    "    reds <- c()\n",
    "    blues <- c()\n",
    "    for (ids in folds) {\n",
    "        train <- dfx[-ids, ]\n",
    "        test <- dfx[ids, ]\n",
    "        # fit <- rpart(expr, data=train, method=\"class\")\n",
    "        fit <- rpart(expr, data=train, method=\"class\", cp=0.022)\n",
    "        p <- predict(fit, newdata=test)\n",
    "        predictedFlags <- colnames(p)[max.col(p, ties.method = \"first\")]\n",
    "        \n",
    "        if (verbose) {\n",
    "            printf(\"Fold%d\\n\", count)\n",
    "            result <- correctVsPredict(test, predictedFlags, verbose)\n",
    "            reds <- c(reds, result[1])\n",
    "            blues <- c(blues, result[2])\n",
    "            count <- count + 1\n",
    "            printf(\"\\n\")\n",
    "        } else {\n",
    "            result <- correctVsPredict(test, predictedFlags, verbose)\n",
    "            reds <- c(reds, result[1])\n",
    "            blues <- c(blues, result[2])\n",
    "        }\n",
    "        \n",
    "        nerr <- sum((predictedFlags == test$flag) == FALSE)\n",
    "        errs <- c(errs, nerr / nrow(test))\n",
    "    }\n",
    "    \n",
    "    return(c(mean(errs), mean(reds), mean(blues)))\n",
    "}"
   ]
  },
  {
   "cell_type": "code",
   "execution_count": 25,
   "metadata": {
    "collapsed": true,
    "deletable": true,
    "editable": true
   },
   "outputs": [],
   "source": [
    "correctVsPredict <- function(test, predictedFlags, verbose=FALSE) {    \n",
    "    # for All\n",
    "    # nTests <- nrow(test)\n",
    "    # nCorrectAll <- sum((predictedFlags == test$flag) == TRUE)\n",
    "    # printf(\"As fo All: correct/all = %d/%d = %f\\n\", nCorrectAll, nTests, nCorrectAll / nTests)\n",
    "    \n",
    "    # for Red\n",
    "    predictedRedRows <- test[predictedFlags == \"Red\", ]\n",
    "    nCorrectReds <- sum((predictedRedRows$flag == 'Red') == TRUE)\n",
    "    nPredictedReds <- nrow(predictedRedRows)\n",
    "    \n",
    "    # for Blue\n",
    "    predictedBlueRows <- test[predictedFlags == \"Blue\", ]\n",
    "    nCorrectBlues <- sum((predictedBlueRows$flag == 'Blue') == TRUE)\n",
    "    nPredictedBlues <- nrow(predictedBlueRows)\n",
    "        \n",
    "    if (verbose) {\n",
    "        printf(\"As for Red: correct/predict = %d/%d = %f\\n\", nCorrectReds, nPredictedReds, nCorrectReds / nPredictedReds)\n",
    "        printf(\"As for Blue: correct/predict = %d/%d = %f\\n\", nCorrectBlues, nPredictedBlues, nCorrectBlues / nPredictedBlues)  \n",
    "    }    \n",
    "    \n",
    "    c(nCorrectReds/nPredictedReds, nCorrectBlues/nPredictedBlues)\n",
    "}"
   ]
  },
  {
   "cell_type": "code",
   "execution_count": 26,
   "metadata": {
    "collapsed": true,
    "deletable": true,
    "editable": true
   },
   "outputs": [],
   "source": [
    "printRedRatios <- function(dfx) {\n",
    "    nRed <- nrow(dfx[dfx$flag == \"Red\", ])\n",
    "    nAll <- nrow(dfx)\n",
    "    printf(\"Red/All = %d/%d = %f\\n\", nRed, nAll, nRed/nAll)\n",
    "    printf(\"1 - Red/All = %d/%d = %f\\n\", nAll - nRed, nAll, 1 - nRed/nAll)\n",
    "}"
   ]
  },
  {
   "cell_type": "code",
   "execution_count": 27,
   "metadata": {
    "collapsed": true,
    "deletable": true,
    "editable": true
   },
   "outputs": [],
   "source": [
    "createFormula <- function(invalids, allFeatures) {\n",
    "    isValidColumn <- function(x) ! x %in% invalids\n",
    "    \n",
    "    features <- Filter(isValidColumn, allFeatures)\n",
    "    return(paste(\"flag ~ \", paste(features, collapse=\" + \")))\n",
    "}"
   ]
  },
  {
   "cell_type": "markdown",
   "metadata": {
    "deletable": true,
    "editable": true
   },
   "source": [
    "# Predict Reds"
   ]
  },
  {
   "cell_type": "code",
   "execution_count": 28,
   "metadata": {
    "collapsed": false,
    "deletable": true,
    "editable": true
   },
   "outputs": [],
   "source": [
    "df3 <- read.csv(\"../data/middle/sp5.csv\", stringsAsFactors=FALSE)"
   ]
  },
  {
   "cell_type": "code",
   "execution_count": 29,
   "metadata": {
    "collapsed": false,
    "deletable": true,
    "editable": true
   },
   "outputs": [],
   "source": [
    "df3$flag[df3$flag == \"RedA\"] <- \"Red\"\n",
    "df3$flag[df3$flag == \"RedB\"] <- \"Red\"\n",
    "df3$flag[df3$flag == \"BlueA\"] <- \"Blue\"\n",
    "df3$flag[df3$flag == \"BlueB\"] <- \"Blue\"\n",
    "df3$flag <- as.factor(df3$flag)"
   ]
  },
  {
   "cell_type": "code",
   "execution_count": 30,
   "metadata": {
    "collapsed": true,
    "deletable": true,
    "editable": true
   },
   "outputs": [],
   "source": [
    "allFeatures <- c(colnames(df3))"
   ]
  },
  {
   "cell_type": "code",
   "execution_count": 31,
   "metadata": {
    "collapsed": false,
    "deletable": true,
    "editable": true
   },
   "outputs": [],
   "source": [
    "roadTypes <- unique(df3$RoadType)"
   ]
  },
  {
   "cell_type": "code",
   "execution_count": 32,
   "metadata": {
    "collapsed": false,
    "deletable": true,
    "editable": true,
    "scrolled": true
   },
   "outputs": [
    {
     "name": "stdout",
     "output_type": "stream",
     "text": [
      "RoadType: 7 (その他)\n",
      "Red/All = 25/27 = 0.925926\n",
      "1 - Red/All = 2/27 = 0.074074\n",
      "Red: Mean correct/predict = 0.933333\n",
      "Blue: Mean correct/predict = NaN\n",
      "CV value: 0.066667\n",
      "\n",
      "RoadType: 6 (一般道1、一般道2、一般道3)\n",
      "Red/All = 90/189 = 0.476190\n",
      "1 - Red/All = 99/189 = 0.523810\n",
      "Red: Mean correct/predict = 0.588895\n",
      "Blue: Mean correct/predict = 0.611340\n",
      "CV value: 0.407112\n",
      "\n",
      "RoadType: 4 (県道)\n",
      "Red/All = 36/71 = 0.507042\n",
      "1 - Red/All = 35/71 = 0.492958\n",
      "Red: Mean correct/predict = 0.513131\n",
      "Blue: Mean correct/predict = 0.536667\n",
      "CV value: 0.477143\n",
      "\n",
      "RoadType: 5 (主要地方道)\n",
      "Red/All = 154/303 = 0.508251\n",
      "1 - Red/All = 149/303 = 0.491749\n",
      "Red: Mean correct/predict = 0.598957\n",
      "Blue: Mean correct/predict = 0.583743\n",
      "CV value: 0.409617\n",
      "\n",
      "RoadType: 3 (国道)\n",
      "Red/All = 202/324 = 0.623457\n",
      "1 - Red/All = 122/324 = 0.376543\n",
      "Red: Mean correct/predict = 0.678337\n",
      "Blue: Mean correct/predict = 0.528571\n",
      "CV value: 0.364038\n",
      "\n",
      "RoadType: 0 (都市間高速)\n",
      "Red/All = 55/81 = 0.679012\n",
      "1 - Red/All = 26/81 = 0.320988\n",
      "Red: Mean correct/predict = 0.676190\n",
      "Blue: Mean correct/predict = 0.444444\n",
      "CV value: 0.383088\n",
      "\n",
      "RoadType: 2 (有料道路)\n",
      "Red/All = 31/47 = 0.659574\n",
      "1 - Red/All = 16/47 = 0.340426\n",
      "Red: Mean correct/predict = 0.900000\n",
      "Blue: Mean correct/predict = 0.660000\n",
      "CV value: 0.257778\n",
      "\n"
     ]
    }
   ],
   "source": [
    "for (i in roadTypes) {\n",
    "    printf(\"RoadType: %d (%s)\\n\", i, jRoadType[i+1])\n",
    "    dfx <- df3[df3$RoadType == i, ]\n",
    "    expr <- createFormula(invalids, allFeatures)\n",
    "    result <- CV(dfx, expr, verbose=FALSE)\n",
    "    printRedRatios(dfx)\n",
    "    printf(\"Red: Mean correct/predict = %f\\n\", result[2])\n",
    "    printf(\"Blue: Mean correct/predict = %f\\n\", result[3])\n",
    "    printf(\"CV value: %f\", result[1])\n",
    "    printf(\"\\n\\n\")\n",
    "}"
   ]
  },
  {
   "cell_type": "markdown",
   "metadata": {},
   "source": [
    "# Divide More ..."
   ]
  },
  {
   "cell_type": "code",
   "execution_count": 15,
   "metadata": {
    "collapsed": false
   },
   "outputs": [
    {
     "data": {
      "text/html": [
       "<table>\n",
       "<thead><tr><th scope=col>RoadType</th><th scope=col>counts</th></tr></thead>\n",
       "<tbody>\n",
       "\t<tr><td>0  </td><td> 81</td></tr>\n",
       "\t<tr><td>2  </td><td> 47</td></tr>\n",
       "\t<tr><td>3  </td><td>324</td></tr>\n",
       "\t<tr><td>4  </td><td> 71</td></tr>\n",
       "\t<tr><td>5  </td><td>303</td></tr>\n",
       "\t<tr><td>6  </td><td>189</td></tr>\n",
       "\t<tr><td>7  </td><td> 27</td></tr>\n",
       "</tbody>\n",
       "</table>\n"
      ],
      "text/latex": [
       "\\begin{tabular}{r|ll}\n",
       " RoadType & counts\\\\\n",
       "\\hline\n",
       "\t 0   &  81\\\\\n",
       "\t 2   &  47\\\\\n",
       "\t 3   & 324\\\\\n",
       "\t 4   &  71\\\\\n",
       "\t 5   & 303\\\\\n",
       "\t 6   & 189\\\\\n",
       "\t 7   &  27\\\\\n",
       "\\end{tabular}\n"
      ],
      "text/markdown": [
       "\n",
       "RoadType | counts | \n",
       "|---|---|---|---|---|---|---|\n",
       "| 0   |  81 | \n",
       "| 2   |  47 | \n",
       "| 3   | 324 | \n",
       "| 4   |  71 | \n",
       "| 5   | 303 | \n",
       "| 6   | 189 | \n",
       "| 7   |  27 | \n",
       "\n",
       "\n"
      ],
      "text/plain": [
       "  RoadType counts\n",
       "1 0         81   \n",
       "2 2         47   \n",
       "3 3        324   \n",
       "4 4         71   \n",
       "5 5        303   \n",
       "6 6        189   \n",
       "7 7         27   "
      ]
     },
     "metadata": {},
     "output_type": "display_data"
    }
   ],
   "source": [
    "df3 %>% group_by(RoadType) %>% summarize(counts=n())"
   ]
  },
  {
   "cell_type": "markdown",
   "metadata": {
    "deletable": true,
    "editable": true
   },
   "source": [
    "# Threshold = 10, 30"
   ]
  },
  {
   "cell_type": "code",
   "execution_count": 16,
   "metadata": {
    "collapsed": true,
    "deletable": true,
    "editable": true
   },
   "outputs": [],
   "source": [
    "set.seed(1)"
   ]
  },
  {
   "cell_type": "code",
   "execution_count": 17,
   "metadata": {
    "collapsed": true,
    "deletable": true,
    "editable": true
   },
   "outputs": [],
   "source": [
    "# Not Use\n",
    "dfx <- df3[df3$RoadType == i, ]\n",
    "folds <- createFolds(dfx$flag, k=5)"
   ]
  },
  {
   "cell_type": "code",
   "execution_count": 18,
   "metadata": {
    "collapsed": true,
    "deletable": true,
    "editable": true
   },
   "outputs": [],
   "source": [
    "verbose = TRUE"
   ]
  },
  {
   "cell_type": "code",
   "execution_count": 19,
   "metadata": {
    "collapsed": false,
    "deletable": true,
    "editable": true,
    "scrolled": true
   },
   "outputs": [],
   "source": [
    "i = 6\n",
    "dfx <- df3[df3$RoadType == i, ]\n",
    "folds <- createFolds(dfx$flag, k=5)"
   ]
  },
  {
   "cell_type": "code",
   "execution_count": 20,
   "metadata": {
    "collapsed": false,
    "deletable": true,
    "editable": true,
    "scrolled": true
   },
   "outputs": [],
   "source": [
    "i = 4\n",
    "dfx <- df3[df3$RoadType == i, ]\n",
    "folds <- createFolds(dfx$flag, k=5)"
   ]
  },
  {
   "cell_type": "code",
   "execution_count": 21,
   "metadata": {
    "collapsed": false,
    "deletable": true,
    "editable": true
   },
   "outputs": [
    {
     "name": "stdout",
     "output_type": "stream",
     "text": [
      "RoadType: 5 (主要地方道)\n",
      "Fold1\n",
      "As for Red: correct/predict = 3/5 = 0.600000\n",
      "As for Blue: correct/predict = 5/9 = 0.555556\n",
      "\n",
      "Fold2\n",
      "As for Red: correct/predict = 4/9 = 0.444444\n",
      "As for Blue: correct/predict = 3/6 = 0.500000\n",
      "\n",
      "Fold3\n",
      "As for Red: correct/predict = 4/8 = 0.500000\n",
      "As for Blue: correct/predict = 3/5 = 0.600000\n",
      "\n",
      "Fold4\n",
      "As for Red: correct/predict = 4/6 = 0.666667\n",
      "As for Blue: correct/predict = 5/8 = 0.625000\n",
      "\n",
      "Fold5\n",
      "As for Red: correct/predict = 4/6 = 0.666667\n",
      "As for Blue: correct/predict = 5/7 = 0.714286\n",
      "\n",
      "AverageVelocity <= 10:\n",
      "Red/All = 33/69 = 0.478261\n",
      "1 - Red/All = 36/69 = 0.521739\n",
      "Red: Mean correct/predict = 0.575556\n",
      "Blue: Mean correct/predict = 0.598968\n",
      "CV value: 0.417656\n",
      "\n",
      "Fold1\n",
      "As for Red: correct/predict = 5/10 = 0.500000\n",
      "As for Blue: correct/predict = 12/25 = 0.480000\n",
      "\n",
      "Fold2\n",
      "As for Red: correct/predict = 6/15 = 0.400000\n",
      "As for Blue: correct/predict = 9/20 = 0.450000\n",
      "\n",
      "Fold3\n",
      "As for Red: correct/predict = 12/25 = 0.480000\n",
      "As for Blue: correct/predict = 5/11 = 0.454545\n",
      "\n",
      "Fold4\n",
      "As for Red: correct/predict = 7/14 = 0.500000\n",
      "As for Blue: correct/predict = 11/22 = 0.500000\n",
      "\n",
      "Fold5\n",
      "As for Red: correct/predict = 11/23 = 0.478261\n",
      "As for Blue: correct/predict = 6/13 = 0.461538\n",
      "\n",
      "10 < AverageVelocity <= 30:\n",
      "Red/All = 89/178 = 0.500000\n",
      "1 - Red/All = 89/178 = 0.500000\n",
      "Red: Mean correct/predict = 0.471652\n",
      "Blue: Mean correct/predict = 0.469217\n",
      "CV value: 0.528254\n",
      "\n",
      "Fold1\n",
      "As for Red: correct/predict = 3/4 = 0.750000\n",
      "As for Blue: correct/predict = 4/8 = 0.500000\n",
      "\n",
      "Fold2\n",
      "As for Red: correct/predict = 5/7 = 0.714286\n",
      "As for Blue: correct/predict = 2/3 = 0.666667\n",
      "\n",
      "Fold3\n",
      "As for Red: correct/predict = 4/6 = 0.666667\n",
      "As for Blue: correct/predict = 3/6 = 0.500000\n",
      "\n",
      "Fold4\n",
      "As for Red: correct/predict = 4/5 = 0.800000\n",
      "As for Blue: correct/predict = 4/6 = 0.666667\n",
      "\n",
      "Fold5\n",
      "As for Red: correct/predict = 5/10 = 0.500000\n",
      "As for Blue: correct/predict = 0/1 = 0.000000\n",
      "\n",
      "AverageVelocity > 30:\n",
      "Red/All = 32/56 = 0.571429\n",
      "1 - Red/All = 24/56 = 0.428571\n",
      "Red: Mean correct/predict = 0.471652\n",
      "Blue: Mean correct/predict = 0.469217\n",
      "CV value: 0.528254\n",
      "\n"
     ]
    }
   ],
   "source": [
    "i = 5\n",
    "threshold1 <- 10\n",
    "threshold2 <- 30\n",
    "printf(\"RoadType: %d (%s)\\n\", i, jRoadType[i+1])\n",
    "dfx <- df3[df3$RoadType == i, ]\n",
    "expr <- createFormula(invalids, allFeatures)\n",
    "dfx1 <- dfx %>% filter(AverageVelocity <= threshold1)\n",
    "dfx2 <- dfx %>% filter(AverageVelocity > threshold1, AverageVelocity <= threshold2)\n",
    "dfx3 <- dfx %>% filter(AverageVelocity > threshold2)\n",
    "\n",
    "result1 <- CV(dfx1, expr, verbose=verbose)        \n",
    "printf(\"AverageVelocity <= %d:\\n\", threshold1)\n",
    "printRedRatios(dfx1)        \n",
    "printf(\"Red: Mean correct/predict = %f\\n\", result1[2])\n",
    "printf(\"Blue: Mean correct/predict = %f\\n\", result1[3])\n",
    "printf(\"CV value: %f\", result1[1])        \n",
    "printf(\"\\n\\n\")\n",
    "        \n",
    "result2 <- CV(dfx2, expr, verbose=verbose)\n",
    "printf(\"%d < AverageVelocity <= %d:\\n\", threshold1, threshold2)\n",
    "printRedRatios(dfx2)\n",
    "printf(\"Red: Mean correct/predict = %f\\n\", result2[2])\n",
    "printf(\"Blue: Mean correct/predict = %f\\n\", result2[3])\n",
    "printf(\"CV value: %f\", result2[1])       \n",
    "printf(\"\\n\\n\")\n",
    "\n",
    "result3 <- CV(dfx3, expr, verbose=verbose)        \n",
    "printf(\"AverageVelocity > %d:\\n\", threshold2)\n",
    "printRedRatios(dfx3)\n",
    "printf(\"Red: Mean correct/predict = %f\\n\", result2[2])\n",
    "printf(\"Blue: Mean correct/predict = %f\\n\", result2[3])\n",
    "printf(\"CV value: %f\", result2[1])       \n",
    "printf(\"\\n\\n\")"
   ]
  },
  {
   "cell_type": "code",
   "execution_count": 22,
   "metadata": {
    "collapsed": false,
    "deletable": true,
    "editable": true
   },
   "outputs": [
    {
     "name": "stdout",
     "output_type": "stream",
     "text": [
      "RoadType: 3 (国道)\n",
      "Fold1\n",
      "As for Red: correct/predict = 6/8 = 0.750000\n",
      "As for Blue: correct/predict = 2/2 = 1.000000\n",
      "\n",
      "Fold2\n",
      "As for Red: correct/predict = 7/9 = 0.777778\n",
      "As for Blue: correct/predict = 1/1 = 1.000000\n",
      "\n",
      "Fold3\n",
      "As for Red: correct/predict = 4/5 = 0.800000\n",
      "As for Blue: correct/predict = 3/6 = 0.500000\n",
      "\n",
      "Fold4\n",
      "As for Red: correct/predict = 5/6 = 0.833333\n",
      "As for Blue: correct/predict = 2/4 = 0.500000\n",
      "\n",
      "Fold5\n",
      "As for Red: correct/predict = 7/10 = 0.700000\n",
      "As for Blue: correct/predict = 1/1 = 1.000000\n",
      "\n",
      "AverageVelocity <= 10:\n",
      "Red/All = 34/52 = 0.653846\n",
      "1 - Red/All = 18/52 = 0.346154\n",
      "Red: Mean correct/predict = 0.772222\n",
      "Blue: Mean correct/predict = 0.800000\n",
      "CV value: 0.267273\n",
      "\n",
      "Fold1\n",
      "As for Red: correct/predict = 19/27 = 0.703704\n",
      "As for Blue: correct/predict = 4/5 = 0.800000\n",
      "\n",
      "Fold2\n",
      "As for Red: correct/predict = 17/26 = 0.653846\n",
      "As for Blue: correct/predict = 3/7 = 0.428571\n",
      "\n",
      "Fold3\n",
      "As for Red: correct/predict = 12/17 = 0.705882\n",
      "As for Blue: correct/predict = 7/16 = 0.437500\n",
      "\n",
      "Fold4\n",
      "As for Red: correct/predict = 16/24 = 0.666667\n",
      "As for Blue: correct/predict = 3/7 = 0.428571\n",
      "\n",
      "Fold5\n",
      "As for Red: correct/predict = 14/20 = 0.700000\n",
      "As for Blue: correct/predict = 5/12 = 0.416667\n",
      "\n",
      "10 < AverageVelocity <= 30:\n",
      "Red/All = 103/161 = 0.639752\n",
      "1 - Red/All = 58/161 = 0.360248\n",
      "Red: Mean correct/predict = 0.686020\n",
      "Blue: Mean correct/predict = 0.502262\n",
      "CV value: 0.378556\n",
      "\n",
      "Fold1\n",
      "As for Red: correct/predict = 7/12 = 0.583333\n",
      "As for Blue: correct/predict = 4/10 = 0.400000\n",
      "\n",
      "Fold2\n",
      "As for Red: correct/predict = 8/11 = 0.727273\n",
      "As for Blue: correct/predict = 6/11 = 0.545455\n",
      "\n",
      "Fold3\n",
      "As for Red: correct/predict = 9/12 = 0.750000\n",
      "As for Blue: correct/predict = 6/10 = 0.600000\n",
      "\n",
      "Fold4\n",
      "As for Red: correct/predict = 8/14 = 0.571429\n",
      "As for Blue: correct/predict = 3/8 = 0.375000\n",
      "\n",
      "Fold5\n",
      "As for Red: correct/predict = 11/20 = 0.550000\n",
      "As for Blue: correct/predict = 1/3 = 0.333333\n",
      "\n",
      "AverageVelocity > 30:\n",
      "Red/All = 65/111 = 0.585586\n",
      "1 - Red/All = 46/111 = 0.414414\n",
      "Red: Mean correct/predict = 0.686020\n",
      "Blue: Mean correct/predict = 0.502262\n",
      "CV value: 0.378556\n",
      "\n"
     ]
    }
   ],
   "source": [
    "i = 3\n",
    "threshold1 <- 10\n",
    "threshold2 <- 30\n",
    "printf(\"RoadType: %d (%s)\\n\", i, jRoadType[i+1])\n",
    "dfx <- df3[df3$RoadType == i, ]\n",
    "expr <- createFormula(invalids, allFeatures)\n",
    "dfx1 <- dfx %>% filter(AverageVelocity <= threshold1)\n",
    "dfx2 <- dfx %>% filter(AverageVelocity > threshold1, AverageVelocity <= threshold2)\n",
    "dfx3 <- dfx %>% filter(AverageVelocity > threshold2)\n",
    "\n",
    "result1 <- CV(dfx1, expr, verbose=verbose)        \n",
    "printf(\"AverageVelocity <= %d:\\n\", threshold1)\n",
    "printRedRatios(dfx1)        \n",
    "printf(\"Red: Mean correct/predict = %f\\n\", result1[2])\n",
    "printf(\"Blue: Mean correct/predict = %f\\n\", result1[3])\n",
    "printf(\"CV value: %f\", result1[1])        \n",
    "printf(\"\\n\\n\")\n",
    "        \n",
    "result2 <- CV(dfx2, expr, verbose=verbose)\n",
    "printf(\"%d < AverageVelocity <= %d:\\n\", threshold1, threshold2)\n",
    "printRedRatios(dfx2)\n",
    "printf(\"Red: Mean correct/predict = %f\\n\", result2[2])\n",
    "printf(\"Blue: Mean correct/predict = %f\\n\", result2[3])\n",
    "printf(\"CV value: %f\", result2[1])       \n",
    "printf(\"\\n\\n\")\n",
    "\n",
    "result3 <- CV(dfx3, expr, verbose=verbose)        \n",
    "printf(\"AverageVelocity > %d:\\n\", threshold2)\n",
    "printRedRatios(dfx3)\n",
    "printf(\"Red: Mean correct/predict = %f\\n\", result2[2])\n",
    "printf(\"Blue: Mean correct/predict = %f\\n\", result2[3])\n",
    "printf(\"CV value: %f\", result2[1])       \n",
    "printf(\"\\n\\n\")"
   ]
  },
  {
   "cell_type": "code",
   "execution_count": null,
   "metadata": {
    "collapsed": true,
    "deletable": true,
    "editable": true
   },
   "outputs": [],
   "source": []
  }
 ],
 "metadata": {
  "kernelspec": {
   "display_name": "R",
   "language": "R",
   "name": "ir"
  },
  "language_info": {
   "codemirror_mode": "r",
   "file_extension": ".r",
   "mimetype": "text/x-r-source",
   "name": "R",
   "pygments_lexer": "r",
   "version": "3.3.2"
  }
 },
 "nbformat": 4,
 "nbformat_minor": 1
}
