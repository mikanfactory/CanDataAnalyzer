{
 "cells": [
  {
   "cell_type": "code",
   "execution_count": 1,
   "metadata": {
    "collapsed": false
   },
   "outputs": [
    {
     "name": "stderr",
     "output_type": "stream",
     "text": [
      "\n",
      "Attaching package: ‘dplyr’\n",
      "\n",
      "The following objects are masked from ‘package:stats’:\n",
      "\n",
      "    filter, lag\n",
      "\n",
      "The following objects are masked from ‘package:base’:\n",
      "\n",
      "    intersect, setdiff, setequal, union\n",
      "\n"
     ]
    }
   ],
   "source": [
    "library(grid)\n",
    "library(rpart)\n",
    "library(rpart.plot)\n",
    "library(partykit)\n",
    "library(lattice)\n",
    "library(ggplot2)\n",
    "library(caret)\n",
    "library(dplyr)"
   ]
  },
  {
   "cell_type": "code",
   "execution_count": 2,
   "metadata": {
    "collapsed": true
   },
   "outputs": [],
   "source": [
    "set.seed(1)"
   ]
  },
  {
   "cell_type": "code",
   "execution_count": 3,
   "metadata": {
    "collapsed": false
   },
   "outputs": [],
   "source": [
    "jRoadType <- c(\"都市間高速\", \"都市高速\", \"有料道路\", \"国道\", \"県道\", \"主要地方道\", \"一般道1、一般道2、一般道3\", \"その他\")\n",
    "jHighSpeeds <- c(\"都市間高速\", \"都市高速\", \"有料道路\")"
   ]
  },
  {
   "cell_type": "code",
   "execution_count": 4,
   "metadata": {
    "collapsed": true
   },
   "outputs": [],
   "source": [
    "printf <- function(...) cat(sprintf(...))"
   ]
  },
  {
   "cell_type": "code",
   "execution_count": 5,
   "metadata": {
    "collapsed": true
   },
   "outputs": [],
   "source": [
    "# valid columns when high speed\n",
    "invalids <- c('Time', 'Longitude', 'Latitude', 'Brake', 'Accel', 'RoadType', 'flag')\n",
    "isValidColumn <- function(x) ! x %in% invalids"
   ]
  },
  {
   "cell_type": "code",
   "execution_count": 6,
   "metadata": {
    "collapsed": true
   },
   "outputs": [],
   "source": [
    "CV <- function(dfx, expr, verbose=FALSE) {        \n",
    "    folds <- createFolds(dfx$flag, k=5)\n",
    "    \n",
    "    count <- 1\n",
    "    errs <- c()\n",
    "    reds <- c()\n",
    "    blues <- c()\n",
    "    for (ids in folds) {\n",
    "        train <- dfx[-ids, ]\n",
    "        test <- dfx[ids, ]\n",
    "        # fit <- rpart(expr, data=train, method=\"class\")\n",
    "        fit <- rpart(expr, data=train, method=\"class\", cp=0.022)\n",
    "        p <- predict(fit, newdata=test)\n",
    "        predictedFlags <- colnames(p)[max.col(p, ties.method = \"first\")]\n",
    "        \n",
    "        if (verbose) {\n",
    "            printf(\"Fold%d\\n\", count)\n",
    "            result <- correctVsPredict(test, predictedFlags, verbose)\n",
    "            reds <- c(reds, result[1])\n",
    "            blues <- c(blues, result[2])\n",
    "            count <- count + 1\n",
    "            printf(\"\\n\")\n",
    "        } else {\n",
    "            result <- correctVsPredict(test, predictedFlags, verbose)\n",
    "            reds <- c(reds, result[1])\n",
    "            blues <- c(blues, result[2])\n",
    "        }\n",
    "        \n",
    "        nerr <- sum((predictedFlags == test$flag) == FALSE)\n",
    "        errs <- c(errs, nerr / nrow(test))\n",
    "    }\n",
    "    \n",
    "    return(c(mean(errs), mean(reds), mean(blues)))\n",
    "}"
   ]
  },
  {
   "cell_type": "code",
   "execution_count": 7,
   "metadata": {
    "collapsed": true
   },
   "outputs": [],
   "source": [
    "correctVsPredict <- function(test, predictedFlags, verbose=FALSE) {    \n",
    "    # for All\n",
    "    # nTests <- nrow(test)\n",
    "    # nCorrectAll <- sum((predictedFlags == test$flag) == TRUE)\n",
    "    # printf(\"As fo All: correct/all = %d/%d = %f\\n\", nCorrectAll, nTests, nCorrectAll / nTests)\n",
    "    \n",
    "    # for Red\n",
    "    predictedRedRows <- test[predictedFlags == \"Red\", ]\n",
    "    nCorrectReds <- sum((predictedRedRows$flag == 'Red') == TRUE)\n",
    "    nPredictedReds <- nrow(predictedRedRows)\n",
    "    \n",
    "    # for Blue\n",
    "    predictedBlueRows <- test[predictedFlags == \"Blue\", ]\n",
    "    nCorrectBlues <- sum((predictedBlueRows$flag == 'Blue') == TRUE)\n",
    "    nPredictedBlues <- nrow(predictedBlueRows)\n",
    "        \n",
    "    if (verbose) {\n",
    "        printf(\"As for Red: correct/predict = %d/%d = %f\\n\", nCorrectReds, nPredictedReds, nCorrectReds / nPredictedReds)\n",
    "        printf(\"As for Blue: correct/predict = %d/%d = %f\\n\", nCorrectBlues, nPredictedBlues, nCorrectBlues / nPredictedBlues)  \n",
    "    }    \n",
    "    \n",
    "    c(nCorrectReds/nPredictedReds, nCorrectBlues/nPredictedBlues)\n",
    "}"
   ]
  },
  {
   "cell_type": "code",
   "execution_count": 8,
   "metadata": {
    "collapsed": true
   },
   "outputs": [],
   "source": [
    "printRedRatios <- function(dfx) {\n",
    "    nRed <- nrow(dfx[dfx$flag == \"Red\", ])\n",
    "    nAll <- nrow(dfx)\n",
    "    printf(\"Red/All = %d/%d = %f\\n\", nRed, nAll, nRed/nAll)\n",
    "    printf(\"1 - Red/All = %d/%d = %f\\n\", nAll - nRed, nAll, 1 - nRed/nAll)\n",
    "}"
   ]
  },
  {
   "cell_type": "code",
   "execution_count": 9,
   "metadata": {
    "collapsed": true
   },
   "outputs": [],
   "source": [
    "createFormula <- function(invalids, allFeatures) {\n",
    "    isValidColumn <- function(x) ! x %in% invalids\n",
    "    \n",
    "    features <- Filter(isValidColumn, allFeatures)\n",
    "    return(paste(\"flag ~ \", paste(features, collapse=\" + \")))\n",
    "}"
   ]
  },
  {
   "cell_type": "markdown",
   "metadata": {},
   "source": [
    "# Predict Reds"
   ]
  },
  {
   "cell_type": "code",
   "execution_count": 11,
   "metadata": {
    "collapsed": false
   },
   "outputs": [],
   "source": [
    "df3 <- read.csv(\"../data/middle/sp3-tmp.csv\", stringsAsFactors=FALSE)"
   ]
  },
  {
   "cell_type": "code",
   "execution_count": 12,
   "metadata": {
    "collapsed": false
   },
   "outputs": [],
   "source": [
    "df3$flag[df3$flag == \"RedA\"] <- \"Red\"\n",
    "df3$flag[df3$flag == \"RedB\"] <- \"Red\"\n",
    "df3$flag[df3$flag == \"BlueA\"] <- \"Blue\"\n",
    "df3$flag[df3$flag == \"BlueB\"] <- \"Blue\"\n",
    "df3$flag <- as.factor(df3$flag)"
   ]
  },
  {
   "cell_type": "code",
   "execution_count": 13,
   "metadata": {
    "collapsed": true
   },
   "outputs": [],
   "source": [
    "allFeatures <- c(colnames(df3))"
   ]
  },
  {
   "cell_type": "code",
   "execution_count": 14,
   "metadata": {
    "collapsed": false
   },
   "outputs": [],
   "source": [
    "roadTypes <- unique(df3$RoadType)"
   ]
  },
  {
   "cell_type": "code",
   "execution_count": 15,
   "metadata": {
    "collapsed": false,
    "scrolled": true
   },
   "outputs": [
    {
     "name": "stdout",
     "output_type": "stream",
     "text": [
      "RoadType: 7 (その他)\n",
      "Red/All = 25/27 = 0.925926\n",
      "1 - Red/All = 2/27 = 0.074074\n",
      "Red: Mean correct/predict = 0.933333\n",
      "Blue: Mean correct/predict = NaN\n",
      "CV value: 0.066667\n",
      "\n",
      "RoadType: 6 (一般道1、一般道2、一般道3)\n",
      "Red/All = 90/189 = 0.476190\n",
      "1 - Red/All = 99/189 = 0.523810\n",
      "Red: Mean correct/predict = 0.629710\n",
      "Blue: Mean correct/predict = 0.627986\n",
      "CV value: 0.380939\n",
      "\n",
      "RoadType: 4 (県道)\n",
      "Red/All = 36/71 = 0.507042\n",
      "1 - Red/All = 35/71 = 0.492958\n",
      "Red: Mean correct/predict = 0.469841\n",
      "Blue: Mean correct/predict = 0.425952\n",
      "CV value: 0.547619\n",
      "\n",
      "RoadType: 5 (主要地方道)\n",
      "Red/All = 154/303 = 0.508251\n",
      "1 - Red/All = 149/303 = 0.491749\n",
      "Red: Mean correct/predict = 0.590612\n",
      "Blue: Mean correct/predict = 0.580113\n",
      "CV value: 0.415847\n",
      "\n",
      "RoadType: 3 (国道)\n",
      "Red/All = 202/324 = 0.623457\n",
      "1 - Red/All = 122/324 = 0.376543\n",
      "Red: Mean correct/predict = 0.692106\n",
      "Blue: Mean correct/predict = 0.514000\n",
      "CV value: 0.367019\n",
      "\n",
      "RoadType: 0 (都市間高速)\n",
      "Red/All = 55/81 = 0.679012\n",
      "1 - Red/All = 26/81 = 0.320988\n",
      "Red: Mean correct/predict = 0.727735\n",
      "Blue: Mean correct/predict = 0.619048\n",
      "CV value: 0.307353\n",
      "\n",
      "RoadType: 2 (有料道路)\n",
      "Red/All = 31/47 = 0.659574\n",
      "1 - Red/All = 16/47 = 0.340426\n",
      "Red: Mean correct/predict = 0.900000\n",
      "Blue: Mean correct/predict = 0.584286\n",
      "CV value: 0.255556\n",
      "\n"
     ]
    }
   ],
   "source": [
    "for (i in roadTypes) {\n",
    "    printf(\"RoadType: %d (%s)\\n\", i, jRoadType[i+1])\n",
    "    dfx <- df3[df3$RoadType == i, ]\n",
    "    expr <- createFormula(invalids, allFeatures)\n",
    "    result <- CV(dfx, expr, verbose=FALSE)\n",
    "    printRedRatios(dfx)\n",
    "    printf(\"Red: Mean correct/predict = %f\\n\", result[2])\n",
    "    printf(\"Blue: Mean correct/predict = %f\\n\", result[3])\n",
    "    printf(\"CV value: %f\", result[1])\n",
    "    printf(\"\\n\\n\")\n",
    "}"
   ]
  },
  {
   "cell_type": "code",
   "execution_count": 16,
   "metadata": {
    "collapsed": true
   },
   "outputs": [],
   "source": [
    "fit3 <- rpart(expr, data=df3, method=\"class\")"
   ]
  },
  {
   "cell_type": "code",
   "execution_count": 17,
   "metadata": {
    "collapsed": false
   },
   "outputs": [
    {
     "data": {
      "text/html": [
       "0.010022271714922"
      ],
      "text/latex": [
       "0.010022271714922"
      ],
      "text/markdown": [
       "0.010022271714922"
      ],
      "text/plain": [
       "[1] 0.01002227"
      ]
     },
     "metadata": {},
     "output_type": "display_data"
    }
   ],
   "source": [
    "fit3$cptable[which.min(fit3$cptable[,\"xerror\"]),\"CP\"]"
   ]
  },
  {
   "cell_type": "code",
   "execution_count": 18,
   "metadata": {
    "collapsed": false,
    "scrolled": false
   },
   "outputs": [
    {
     "name": "stdout",
     "output_type": "stream",
     "text": [
      "\n",
      "Classification tree:\n",
      "rpart(formula = expr, data = df3, method = \"class\")\n",
      "\n",
      "Variables actually used in tree construction:\n",
      " [1] AheadDistance   AverageVelocity BrakeCar        Curve100       \n",
      " [5] Curve150        CurveAverage    DistManBicycle  MaxSpeed       \n",
      " [9] Pitch           RiskFactor      Speed           TimeHeadway    \n",
      "[13] TimeToCollision\n",
      "\n",
      "Root node error: 449/1042 = 0.4309\n",
      "\n",
      "n= 1042 \n",
      "\n",
      "        CP nsplit rel error  xerror     xstd\n",
      "1 0.040831      0   1.00000 1.00000 0.035602\n",
      "2 0.037862      3   0.87751 1.00445 0.035621\n",
      "3 0.024499      4   0.83964 0.94878 0.035344\n",
      "4 0.018931      5   0.81514 0.92428 0.035195\n",
      "5 0.013363      9   0.73942 0.93541 0.035265\n",
      "6 0.011136     14   0.67261 0.92873 0.035223\n",
      "7 0.010022     15   0.66147 0.91982 0.035166\n",
      "8 0.010000     17   0.64143 0.91982 0.035166\n"
     ]
    }
   ],
   "source": [
    "printcp(fit3)"
   ]
  },
  {
   "cell_type": "code",
   "execution_count": 19,
   "metadata": {
    "collapsed": false
   },
   "outputs": [
    {
     "data": {
      "image/png": "[encoded data removed]",
      "text/plain": [
       "plot without title"
      ]
     },
     "metadata": {},
     "output_type": "display_data"
    }
   ],
   "source": [
    "plotcp(fit3)"
   ]
  },
  {
   "cell_type": "code",
   "execution_count": 20,
   "metadata": {
    "collapsed": false
   },
   "outputs": [
    {
     "name": "stdout",
     "output_type": "stream",
     "text": [
      "Call:\n",
      "rpart(formula = expr, data = df3, method = \"class\")\n",
      "  n= 1042 \n",
      "\n",
      "          CP nsplit rel error    xerror       xstd\n",
      "1 0.04083148      0 1.0000000 1.0000000 0.03560167\n",
      "2 0.03786192      3 0.8775056 1.0044543 0.03562065\n",
      "3 0.02449889      4 0.8396437 0.9487751 0.03534394\n",
      "4 0.01893096      5 0.8151448 0.9242762 0.03519473\n",
      "5 0.01336303      9 0.7394209 0.9354120 0.03526465\n",
      "6 0.01113586     14 0.6726058 0.9287305 0.03522312\n",
      "7 0.01002227     15 0.6614699 0.9198218 0.03516577\n",
      "8 0.01000000     17 0.6414254 0.9198218 0.03516577\n",
      "\n",
      "Variable importance\n",
      "  AverageVelocity             Speed          MaxSpeed       TimeHeadway \n",
      "               10                10                 9                 9 \n",
      "    AheadDistance   TimeToCollision        RiskFactor      CurveAverage \n",
      "                9                 7                 6                 6 \n",
      "         Curve100          Curve150             Curve            Engine \n",
      "                6                 6                 4                 3 \n",
      "            Pitch     SteeringAngle    DistManBicycle        ManBicycle \n",
      "                2                 2                 2                 2 \n",
      "  ManBicycleCount          MinSpeed          BrakeCar          PathType \n",
      "                2                 1                 1                 1 \n",
      "AccelerationSpeed              Jerk        DistSignal         LaneCount \n",
      "                1                 1                 1                 1 \n",
      "\n",
      "Node number 1: 1042 observations,    complexity param=0.04083148\n",
      "  predicted class=Red   expected loss=0.4309021  P(node) =1\n",
      "    class counts:   449   593\n",
      "   probabilities: 0.431 0.569 \n",
      "  left son=2 (672 obs) right son=3 (370 obs)\n",
      "  Primary splits:\n",
      "      RiskFactor        < 0.3958754   to the left,  improve=12.380920, (0 missing)\n",
      "      TimeHeadway       < 2.861792    to the right, improve=11.643100, (0 missing)\n",
      "      AheadDistance     < 15.65       to the right, improve= 9.802522, (0 missing)\n",
      "      MaxSpeed          < 50.52       to the left,  improve= 9.239768, (0 missing)\n",
      "      AccelerationSpeed < 0.6416667   to the left,  improve= 9.009149, (0 missing)\n",
      "  Surrogate splits:\n",
      "      TimeToCollision < 0.4492195   to the left,  agree=0.798, adj=0.430, (0 split)\n",
      "      AheadDistance   < 26.4        to the right, agree=0.679, adj=0.097, (0 split)\n",
      "      BrakeCar        < 0.5         to the left,  agree=0.660, adj=0.043, (0 split)\n",
      "      CurveAverage    < 58.5        to the right, agree=0.655, adj=0.027, (0 split)\n",
      "      Curve           < 92.5        to the right, agree=0.653, adj=0.022, (0 split)\n",
      "\n",
      "Node number 2: 672 observations,    complexity param=0.04083148\n",
      "  predicted class=Red   expected loss=0.4880952  P(node) =0.6449136\n",
      "    class counts:   328   344\n",
      "   probabilities: 0.488 0.512 \n",
      "  left son=4 (635 obs) right son=5 (37 obs)\n",
      "  Primary splits:\n",
      "      AverageVelocity < 4.305364    to the right, improve=11.307460, (0 missing)\n",
      "      Curve150        < 253         to the left,  improve= 9.953351, (0 missing)\n",
      "      Curve100        < 253         to the left,  improve= 9.953351, (0 missing)\n",
      "      Curve           < 253         to the left,  improve= 9.953351, (0 missing)\n",
      "      CurveAverage    < 253         to the left,  improve= 9.953351, (0 missing)\n",
      "  Surrogate splits:\n",
      "      Curve150     < 253         to the left,  agree=0.964, adj=0.351, (0 split)\n",
      "      Curve100     < 253         to the left,  agree=0.964, adj=0.351, (0 split)\n",
      "      Curve        < 253         to the left,  agree=0.964, adj=0.351, (0 split)\n",
      "      CurveAverage < 253         to the left,  agree=0.964, adj=0.351, (0 split)\n",
      "      MaxSpeed     < 16.95       to the right, agree=0.961, adj=0.297, (0 split)\n",
      "\n",
      "Node number 3: 370 observations,    complexity param=0.01893096\n",
      "  predicted class=Red   expected loss=0.327027  P(node) =0.3550864\n",
      "    class counts:   121   249\n",
      "   probabilities: 0.327 0.673 \n",
      "  left son=6 (118 obs) right son=7 (252 obs)\n",
      "  Primary splits:\n",
      "      TimeHeadway   < 2.219974    to the right, improve=6.702074, (0 missing)\n",
      "      Pitch         < -0.0579602  to the left,  improve=5.268385, (0 missing)\n",
      "      DistSignal    < 58.35245    to the right, improve=5.064054, (0 missing)\n",
      "      AheadDistance < 15.6        to the right, improve=4.872531, (0 missing)\n",
      "      RiskFactor    < 0.6769943   to the left,  improve=3.527884, (0 missing)\n",
      "  Surrogate splits:\n",
      "      Speed           < 18          to the left,  agree=0.792, adj=0.347, (0 split)\n",
      "      MaxSpeed        < 28.75       to the left,  agree=0.738, adj=0.178, (0 split)\n",
      "      AverageVelocity < 7.052602    to the left,  agree=0.730, adj=0.153, (0 split)\n",
      "      TimeToCollision < 1.06208     to the right, agree=0.727, adj=0.144, (0 split)\n",
      "      Engine          < 1090.625    to the left,  agree=0.711, adj=0.093, (0 split)\n",
      "\n",
      "Node number 4: 635 observations,    complexity param=0.04083148\n",
      "  predicted class=Blue  expected loss=0.4897638  P(node) =0.609405\n",
      "    class counts:   324   311\n",
      "   probabilities: 0.510 0.490 \n",
      "  left son=8 (393 obs) right son=9 (242 obs)\n",
      "  Primary splits:\n",
      "      CurveAverage      < 167.5       to the right, improve=7.360158, (0 missing)\n",
      "      MaxSpeed          < 49.845      to the left,  improve=6.094253, (0 missing)\n",
      "      TimeHeadway       < 2.908603    to the right, improve=5.477547, (0 missing)\n",
      "      Curve             < 245         to the right, improve=5.081838, (0 missing)\n",
      "      AccelerationSpeed < 0.6444444   to the left,  improve=4.983798, (0 missing)\n",
      "  Surrogate splits:\n",
      "      Curve100      < 185         to the right, agree=0.830, adj=0.554, (0 split)\n",
      "      Curve         < 211.5       to the right, agree=0.825, adj=0.541, (0 split)\n",
      "      Curve150      < 230.5       to the right, agree=0.809, adj=0.500, (0 split)\n",
      "      SteeringAngle < 5.65        to the left,  agree=0.704, adj=0.223, (0 split)\n",
      "      LaneCount     < 1.5         to the right, agree=0.683, adj=0.169, (0 split)\n",
      "\n",
      "Node number 5: 37 observations\n",
      "  predicted class=Red   expected loss=0.1081081  P(node) =0.03550864\n",
      "    class counts:     4    33\n",
      "   probabilities: 0.108 0.892 \n",
      "\n",
      "Node number 6: 118 observations,    complexity param=0.01893096\n",
      "  predicted class=Red   expected loss=0.4661017  P(node) =0.1132438\n",
      "    class counts:    55    63\n",
      "   probabilities: 0.466 0.534 \n",
      "  left son=12 (71 obs) right son=13 (47 obs)\n",
      "  Primary splits:\n",
      "      AheadDistance < 15.1        to the right, improve=8.412961, (0 missing)\n",
      "      Speed         < 35.8        to the right, improve=6.129846, (0 missing)\n",
      "      Pitch         < -0.181592   to the left,  improve=4.113999, (0 missing)\n",
      "      Engine        < 1309.375    to the right, improve=3.970949, (0 missing)\n",
      "      Curve150      < 120         to the left,  improve=3.603027, (0 missing)\n",
      "  Surrogate splits:\n",
      "      Speed             < 19.595      to the right, agree=0.907, adj=0.766, (0 split)\n",
      "      AverageVelocity   < 9.751344    to the right, agree=0.754, adj=0.383, (0 split)\n",
      "      MaxSpeed          < 31.05       to the right, agree=0.746, adj=0.362, (0 split)\n",
      "      Engine            < 1145.312    to the right, agree=0.729, adj=0.319, (0 split)\n",
      "      AccelerationSpeed < 0.3388889   to the left,  agree=0.669, adj=0.170, (0 split)\n",
      "\n",
      "Node number 7: 252 observations\n",
      "  predicted class=Red   expected loss=0.2619048  P(node) =0.2418426\n",
      "    class counts:    66   186\n",
      "   probabilities: 0.262 0.738 \n",
      "\n",
      "Node number 8: 393 observations,    complexity param=0.03786192\n",
      "  predicted class=Blue  expected loss=0.4300254  P(node) =0.3771593\n",
      "    class counts:   224   169\n",
      "   probabilities: 0.570 0.430 \n",
      "  left son=16 (296 obs) right son=17 (97 obs)\n",
      "  Primary splits:\n",
      "      MaxSpeed   < 51.43       to the left,  improve=6.397847, (0 missing)\n",
      "      Speed      < 56.035      to the left,  improve=6.123863, (0 missing)\n",
      "      RiskFactor < 0.0446202   to the left,  improve=5.845671, (0 missing)\n",
      "      PathType   < 53.5        to the left,  improve=4.781801, (0 missing)\n",
      "      DistSignal < 61.36245    to the right, improve=4.277354, (0 missing)\n",
      "  Surrogate splits:\n",
      "      Speed           < 48.18       to the left,  agree=0.903, adj=0.608, (0 split)\n",
      "      AverageVelocity < 32.88599    to the left,  agree=0.883, adj=0.526, (0 split)\n",
      "      MinSpeed        < 24.865      to the left,  agree=0.845, adj=0.371, (0 split)\n",
      "      PathType        < 53.5        to the left,  agree=0.794, adj=0.165, (0 split)\n",
      "      Engine          < 1648.438    to the left,  agree=0.791, adj=0.155, (0 split)\n",
      "\n",
      "Node number 9: 242 observations,    complexity param=0.02449889\n",
      "  predicted class=Red   expected loss=0.4132231  P(node) =0.2322457\n",
      "    class counts:   100   142\n",
      "   probabilities: 0.413 0.587 \n",
      "  left son=18 (11 obs) right son=19 (231 obs)\n",
      "  Primary splits:\n",
      "      TimeToCollision < -88.66179   to the left,  improve=7.935458, (0 missing)\n",
      "      AheadDistance   < 15.2        to the right, improve=4.348944, (0 missing)\n",
      "      TimeHeadway     < 3.47055     to the right, improve=4.318789, (0 missing)\n",
      "      Pitch           < -0.06442786 to the left,  improve=3.860797, (0 missing)\n",
      "      Speed           < 24.52       to the right, improve=3.715665, (0 missing)\n",
      "\n",
      "Node number 12: 71 observations\n",
      "  predicted class=Blue  expected loss=0.3802817  P(node) =0.0681382\n",
      "    class counts:    44    27\n",
      "   probabilities: 0.620 0.380 \n",
      "\n",
      "Node number 13: 47 observations\n",
      "  predicted class=Red   expected loss=0.2340426  P(node) =0.04510557\n",
      "    class counts:    11    36\n",
      "   probabilities: 0.234 0.766 \n",
      "\n",
      "Node number 16: 296 observations,    complexity param=0.01893096\n",
      "  predicted class=Blue  expected loss=0.3783784  P(node) =0.2840691\n",
      "    class counts:   184   112\n",
      "   probabilities: 0.622 0.378 \n",
      "  left son=32 (132 obs) right son=33 (164 obs)\n",
      "  Primary splits:\n",
      "      Speed         < 34.94       to the right, improve=5.318631, (0 missing)\n",
      "      DistSignal    < 271.5711    to the left,  improve=4.938411, (0 missing)\n",
      "      Pitch         < 0.2557214   to the left,  improve=4.376621, (0 missing)\n",
      "      RiskFactor    < 0.0446202   to the left,  improve=3.719175, (0 missing)\n",
      "      AheadDistance < 25.4        to the right, improve=3.528814, (0 missing)\n",
      "  Surrogate splits:\n",
      "      AheadDistance   < 25.4        to the right, agree=0.801, adj=0.553, (0 split)\n",
      "      MaxSpeed        < 40.765      to the right, agree=0.740, adj=0.417, (0 split)\n",
      "      TimeHeadway     < 1.687465    to the left,  agree=0.679, adj=0.280, (0 split)\n",
      "      AverageVelocity < 13.83802    to the right, agree=0.679, adj=0.280, (0 split)\n",
      "      Pitch           < -0.03395522 to the left,  agree=0.655, adj=0.227, (0 split)\n",
      "\n",
      "Node number 17: 97 observations,    complexity param=0.01113586\n",
      "  predicted class=Red   expected loss=0.4123711  P(node) =0.09309021\n",
      "    class counts:    40    57\n",
      "   probabilities: 0.412 0.588 \n",
      "  left son=34 (9 obs) right son=35 (88 obs)\n",
      "  Primary splits:\n",
      "      BrakeCar        < 0.5         to the right, improve=2.649198, (0 missing)\n",
      "      RiskFactor      < 0.008878114 to the left,  improve=2.580202, (0 missing)\n",
      "      TimeToCollision < -6.763222   to the right, improve=2.458124, (0 missing)\n",
      "      TimeHeadway     < 2.795544    to the left,  improve=2.376919, (0 missing)\n",
      "      Jerk            < -1.775e-13  to the right, improve=2.342920, (0 missing)\n",
      "  Surrogate splits:\n",
      "      DistSignal < 6.10421     to the left,  agree=0.918, adj=0.111, (0 split)\n",
      "\n",
      "Node number 18: 11 observations\n",
      "  predicted class=Blue  expected loss=0  P(node) =0.01055662\n",
      "    class counts:    11     0\n",
      "   probabilities: 1.000 0.000 \n",
      "\n",
      "Node number 19: 231 observations,    complexity param=0.01336303\n",
      "  predicted class=Red   expected loss=0.3852814  P(node) =0.2216891\n",
      "    class counts:    89   142\n",
      "   probabilities: 0.385 0.615 \n",
      "  left son=38 (191 obs) right son=39 (40 obs)\n",
      "  Primary splits:\n",
      "      AheadDistance < 15.2        to the right, improve=5.356039, (0 missing)\n",
      "      Speed         < 26.12       to the right, improve=5.226556, (0 missing)\n",
      "      Pitch         < -0.07089552 to the left,  improve=4.640125, (0 missing)\n",
      "      DistSignal    < 209.3728    to the right, improve=4.124261, (0 missing)\n",
      "      LaneCount     < 0.5         to the left,  improve=3.327058, (0 missing)\n",
      "  Surrogate splits:\n",
      "      Speed       < 17.29       to the right, agree=0.879, adj=0.300, (0 split)\n",
      "      MaxSpeed    < 24.535      to the right, agree=0.870, adj=0.250, (0 split)\n",
      "      Engine      < 1009.375    to the right, agree=0.844, adj=0.100, (0 split)\n",
      "      TimeHeadway < 4.817661    to the left,  agree=0.831, adj=0.025, (0 split)\n",
      "\n",
      "Node number 32: 132 observations\n",
      "  predicted class=Blue  expected loss=0.2727273  P(node) =0.1266795\n",
      "    class counts:    96    36\n",
      "   probabilities: 0.727 0.273 \n",
      "\n",
      "Node number 33: 164 observations,    complexity param=0.01893096\n",
      "  predicted class=Blue  expected loss=0.4634146  P(node) =0.1573896\n",
      "    class counts:    88    76\n",
      "   probabilities: 0.537 0.463 \n",
      "  left son=66 (83 obs) right son=67 (81 obs)\n",
      "  Primary splits:\n",
      "      TimeHeadway       < 2.860438    to the right, improve=6.411191, (0 missing)\n",
      "      PathType          < 0.5         to the left,  improve=5.435495, (0 missing)\n",
      "      Engine            < 1304.688    to the left,  improve=4.472226, (0 missing)\n",
      "      DistSignal        < 258.8117    to the left,  improve=4.321111, (0 missing)\n",
      "      AccelerationSpeed < -0.175      to the right, improve=4.110229, (0 missing)\n",
      "  Surrogate splits:\n",
      "      Speed           < 19.95       to the left,  agree=0.720, adj=0.432, (0 split)\n",
      "      MaxSpeed        < 26.945      to the left,  agree=0.695, adj=0.383, (0 split)\n",
      "      AverageVelocity < 8.357063    to the left,  agree=0.659, adj=0.309, (0 split)\n",
      "      Jerk            < 0.6388889   to the left,  agree=0.634, adj=0.259, (0 split)\n",
      "      Engine          < 1373.438    to the left,  agree=0.628, adj=0.247, (0 split)\n",
      "\n",
      "Node number 34: 9 observations\n",
      "  predicted class=Blue  expected loss=0.2222222  P(node) =0.008637236\n",
      "    class counts:     7     2\n",
      "   probabilities: 0.778 0.222 \n",
      "\n",
      "Node number 35: 88 observations\n",
      "  predicted class=Red   expected loss=0.375  P(node) =0.08445298\n",
      "    class counts:    33    55\n",
      "   probabilities: 0.375 0.625 \n",
      "\n",
      "Node number 38: 191 observations,    complexity param=0.01336303\n",
      "  predicted class=Red   expected loss=0.434555  P(node) =0.1833013\n",
      "    class counts:    83   108\n",
      "   probabilities: 0.435 0.565 \n",
      "  left son=76 (10 obs) right son=77 (181 obs)\n",
      "  Primary splits:\n",
      "      TimeHeadway < 3.464897    to the right, improve=4.572162, (0 missing)\n",
      "      DistSignal  < 193.4476    to the right, improve=4.021450, (0 missing)\n",
      "      Pitch       < -0.06094527 to the left,  improve=3.383949, (0 missing)\n",
      "      Speed       < 59.49       to the right, improve=2.957687, (0 missing)\n",
      "      Curve100    < 81          to the right, improve=2.882094, (0 missing)\n",
      "  Surrogate splits:\n",
      "      TimeToCollision < 18.03825    to the right, agree=0.958, adj=0.2, (0 split)\n",
      "      MaxSpeed        < 23.41       to the left,  agree=0.958, adj=0.2, (0 split)\n",
      "      Engine          < 1090.625    to the left,  agree=0.953, adj=0.1, (0 split)\n",
      "\n",
      "Node number 39: 40 observations\n",
      "  predicted class=Red   expected loss=0.15  P(node) =0.03838772\n",
      "    class counts:     6    34\n",
      "   probabilities: 0.150 0.850 \n",
      "\n",
      "Node number 66: 83 observations\n",
      "  predicted class=Blue  expected loss=0.3253012  P(node) =0.07965451\n",
      "    class counts:    56    27\n",
      "   probabilities: 0.675 0.325 \n",
      "\n",
      "Node number 67: 81 observations,    complexity param=0.01002227\n",
      "  predicted class=Red   expected loss=0.3950617  P(node) =0.07773512\n",
      "    class counts:    32    49\n",
      "   probabilities: 0.395 0.605 \n",
      "  left son=134 (40 obs) right son=135 (41 obs)\n",
      "  Primary splits:\n",
      "      DistManBicycle  < 1.2315      to the right, improve=3.794098, (0 missing)\n",
      "      ManBicycleCount < 0.5         to the right, improve=3.325805, (0 missing)\n",
      "      ManBicycle      < 0.5         to the right, improve=3.325805, (0 missing)\n",
      "      Pitch           < 0.004975124 to the right, improve=2.877340, (0 missing)\n",
      "      RiskFactor      < 0.1759406   to the left,  improve=2.466355, (0 missing)\n",
      "  Surrogate splits:\n",
      "      ManBicycleCount < 0.5         to the right, agree=0.988, adj=0.975, (0 split)\n",
      "      ManBicycle      < 0.5         to the right, agree=0.988, adj=0.975, (0 split)\n",
      "      AverageVelocity < 19.1137     to the left,  agree=0.679, adj=0.350, (0 split)\n",
      "      PathType        < 3           to the left,  agree=0.654, adj=0.300, (0 split)\n",
      "      DistSignal      < 82.30689    to the left,  agree=0.642, adj=0.275, (0 split)\n",
      "\n",
      "Node number 76: 10 observations\n",
      "  predicted class=Blue  expected loss=0.1  P(node) =0.009596929\n",
      "    class counts:     9     1\n",
      "   probabilities: 0.900 0.100 \n",
      "\n",
      "Node number 77: 181 observations,    complexity param=0.01336303\n",
      "  predicted class=Red   expected loss=0.4088398  P(node) =0.1737044\n",
      "    class counts:    74   107\n",
      "   probabilities: 0.409 0.591 \n",
      "  left son=154 (70 obs) right son=155 (111 obs)\n",
      "  Primary splits:\n",
      "      Pitch      < -0.06094527 to the left,  improve=4.100207, (0 missing)\n",
      "      DistSignal < 193.4476    to the right, improve=4.060019, (0 missing)\n",
      "      Curve      < 136.5       to the left,  improve=3.308769, (0 missing)\n",
      "      LaneCount  < 0.5         to the left,  improve=3.250333, (0 missing)\n",
      "      Speed      < 26.12       to the right, improve=3.245428, (0 missing)\n",
      "  Surrogate splits:\n",
      "      MaxSpeed        < 71.605      to the right, agree=0.702, adj=0.229, (0 split)\n",
      "      AverageVelocity < 53.63793    to the right, agree=0.696, adj=0.214, (0 split)\n",
      "      MinSpeed        < 25.805      to the right, agree=0.691, adj=0.200, (0 split)\n",
      "      CurveAverage    < 68.5        to the left,  agree=0.691, adj=0.200, (0 split)\n",
      "      Speed           < 43.645      to the right, agree=0.680, adj=0.171, (0 split)\n",
      "\n",
      "Node number 134: 40 observations,    complexity param=0.01002227\n",
      "  predicted class=Blue  expected loss=0.45  P(node) =0.03838772\n",
      "    class counts:    22    18\n",
      "   probabilities: 0.550 0.450 \n",
      "  left son=268 (13 obs) right son=269 (27 obs)\n",
      "  Primary splits:\n",
      "      RiskFactor      < 0.04054832  to the left,  improve=3.378348, (0 missing)\n",
      "      TimeHeadway     < 1.811477    to the left,  improve=2.752381, (0 missing)\n",
      "      TimeToCollision < -13.64644   to the right, improve=2.725831, (0 missing)\n",
      "      AverageVelocity < 18.25575    to the left,  improve=2.332915, (0 missing)\n",
      "      Pitch           < 0.004975124 to the right, improve=2.253333, (0 missing)\n",
      "  Surrogate splits:\n",
      "      TimeToCollision < -11.75711   to the right, agree=0.950, adj=0.846, (0 split)\n",
      "      TimeHeadway     < 1.272104    to the left,  agree=0.925, adj=0.769, (0 split)\n",
      "      AheadDistance   < 57.25       to the right, agree=0.900, adj=0.692, (0 split)\n",
      "      SteeringAngle   < 3.6         to the right, agree=0.800, adj=0.385, (0 split)\n",
      "      CurveAverage    < 220         to the left,  agree=0.800, adj=0.385, (0 split)\n",
      "\n",
      "Node number 135: 41 observations\n",
      "  predicted class=Red   expected loss=0.2439024  P(node) =0.03934741\n",
      "    class counts:    10    31\n",
      "   probabilities: 0.244 0.756 \n",
      "\n",
      "Node number 154: 70 observations,    complexity param=0.01336303\n",
      "  predicted class=Blue  expected loss=0.4571429  P(node) =0.0671785\n",
      "    class counts:    38    32\n",
      "   probabilities: 0.543 0.457 \n",
      "  left son=308 (24 obs) right son=309 (46 obs)\n",
      "  Primary splits:\n",
      "      Curve100        < 187         to the right, improve=6.163147, (0 missing)\n",
      "      Curve150        < 246.5       to the right, improve=4.047455, (0 missing)\n",
      "      AverageVelocity < 27.59216    to the left,  improve=3.254211, (0 missing)\n",
      "      MaxSpeed        < 39.685      to the left,  improve=3.250794, (0 missing)\n",
      "      LaneCount       < 0.5         to the left,  improve=3.206625, (0 missing)\n",
      "  Surrogate splits:\n",
      "      Curve150          < 193.5       to the right, agree=0.771, adj=0.333, (0 split)\n",
      "      CurveAverage      < 106.5       to the right, agree=0.757, adj=0.292, (0 split)\n",
      "      AccelerationSpeed < -0.2305556  to the left,  agree=0.714, adj=0.167, (0 split)\n",
      "      Engine            < 1320.312    to the left,  agree=0.700, adj=0.125, (0 split)\n",
      "      PathType          < 0.5         to the left,  agree=0.700, adj=0.125, (0 split)\n",
      "\n",
      "Node number 155: 111 observations\n",
      "  predicted class=Red   expected loss=0.3243243  P(node) =0.1065259\n",
      "    class counts:    36    75\n",
      "   probabilities: 0.324 0.676 \n",
      "\n",
      "Node number 268: 13 observations\n",
      "  predicted class=Blue  expected loss=0.1538462  P(node) =0.01247601\n",
      "    class counts:    11     2\n",
      "   probabilities: 0.846 0.154 \n",
      "\n",
      "Node number 269: 27 observations\n",
      "  predicted class=Red   expected loss=0.4074074  P(node) =0.02591171\n",
      "    class counts:    11    16\n",
      "   probabilities: 0.407 0.593 \n",
      "\n",
      "Node number 308: 24 observations\n",
      "  predicted class=Blue  expected loss=0.1666667  P(node) =0.02303263\n",
      "    class counts:    20     4\n",
      "   probabilities: 0.833 0.167 \n",
      "\n",
      "Node number 309: 46 observations,    complexity param=0.01336303\n",
      "  predicted class=Red   expected loss=0.3913043  P(node) =0.04414587\n",
      "    class counts:    18    28\n",
      "   probabilities: 0.391 0.609 \n",
      "  left son=618 (10 obs) right son=619 (36 obs)\n",
      "  Primary splits:\n",
      "      Curve150      < 76.5        to the left,  improve=4.268599, (0 missing)\n",
      "      SteeringAngle < 20.7        to the right, improve=4.268599, (0 missing)\n",
      "      MaxSpeed      < 41.64       to the left,  improve=3.583373, (0 missing)\n",
      "      CurveAverage  < 124.5       to the left,  improve=2.528428, (0 missing)\n",
      "      Curve         < 93          to the left,  improve=2.435266, (0 missing)\n",
      "  Surrogate splits:\n",
      "      Curve         < 83.5        to the left,  agree=0.848, adj=0.3, (0 split)\n",
      "      Speed         < 27.635      to the left,  agree=0.826, adj=0.2, (0 split)\n",
      "      AheadDistance < 19.95       to the left,  agree=0.826, adj=0.2, (0 split)\n",
      "      SteeringAngle < -24.95      to the left,  agree=0.826, adj=0.2, (0 split)\n",
      "      MaxSpeed      < 38.755      to the left,  agree=0.826, adj=0.2, (0 split)\n",
      "\n",
      "Node number 618: 10 observations\n",
      "  predicted class=Blue  expected loss=0.2  P(node) =0.009596929\n",
      "    class counts:     8     2\n",
      "   probabilities: 0.800 0.200 \n",
      "\n",
      "Node number 619: 36 observations\n",
      "  predicted class=Red   expected loss=0.2777778  P(node) =0.03454894\n",
      "    class counts:    10    26\n",
      "   probabilities: 0.278 0.722 \n",
      "\n"
     ]
    }
   ],
   "source": [
    "summary(fit3)"
   ]
  },
  {
   "cell_type": "code",
   "execution_count": 21,
   "metadata": {
    "collapsed": true
   },
   "outputs": [],
   "source": [
    "set.seed(1)"
   ]
  },
  {
   "cell_type": "code",
   "execution_count": 22,
   "metadata": {
    "collapsed": false
   },
   "outputs": [
    {
     "data": {
      "text/html": [
       "<ol class=list-inline>\n",
       "\t<li>7</li>\n",
       "\t<li>6</li>\n",
       "\t<li>4</li>\n",
       "\t<li>5</li>\n",
       "\t<li>3</li>\n",
       "\t<li>0</li>\n",
       "\t<li>2</li>\n",
       "</ol>\n"
      ],
      "text/latex": [
       "\\begin{enumerate*}\n",
       "\\item 7\n",
       "\\item 6\n",
       "\\item 4\n",
       "\\item 5\n",
       "\\item 3\n",
       "\\item 0\n",
       "\\item 2\n",
       "\\end{enumerate*}\n"
      ],
      "text/markdown": [
       "1. 7\n",
       "2. 6\n",
       "3. 4\n",
       "4. 5\n",
       "5. 3\n",
       "6. 0\n",
       "7. 2\n",
       "\n",
       "\n"
      ],
      "text/plain": [
       "[1] 7 6 4 5 3 0 2"
      ]
     },
     "metadata": {},
     "output_type": "display_data"
    }
   ],
   "source": [
    "roadTypes"
   ]
  },
  {
   "cell_type": "code",
   "execution_count": 23,
   "metadata": {
    "collapsed": false,
    "scrolled": true
   },
   "outputs": [
    {
     "name": "stdout",
     "output_type": "stream",
     "text": [
      "RoadType: 3 (国道)\n",
      "Fold1\n",
      "As for Red: correct/predict = 7/9 = 0.777778\n",
      "As for Blue: correct/predict = 1/1 = 1.000000\n",
      "\n",
      "Fold2\n",
      "As for Red: correct/predict = 6/9 = 0.666667\n",
      "As for Blue: correct/predict = 1/2 = 0.500000\n",
      "\n",
      "Fold3\n",
      "As for Red: correct/predict = 7/9 = 0.777778\n",
      "As for Blue: correct/predict = 1/1 = 1.000000\n",
      "\n",
      "Fold4\n",
      "As for Red: correct/predict = 4/6 = 0.666667\n",
      "As for Blue: correct/predict = 2/5 = 0.400000\n",
      "\n",
      "Fold5\n",
      "As for Red: correct/predict = 5/7 = 0.714286\n",
      "As for Blue: correct/predict = 2/3 = 0.666667\n",
      "\n",
      "AverageVelocity <= 10:\n",
      "Red/All = 34/52 = 0.653846\n",
      "1 - Red/All = 18/52 = 0.346154\n",
      "Red: Mean correct/predict = 0.720635\n",
      "Blue: Mean correct/predict = 0.713333\n",
      "CV value: 0.303636\n",
      "\n",
      "Fold1\n",
      "As for Red: correct/predict = 18/30 = 0.600000\n",
      "As for Blue: correct/predict = 9/24 = 0.375000\n",
      "\n",
      "Fold2\n",
      "As for Red: correct/predict = 25/33 = 0.757576\n",
      "As for Blue: correct/predict = 12/21 = 0.571429\n",
      "\n",
      "Fold3\n",
      "As for Red: correct/predict = 26/37 = 0.702703\n",
      "As for Blue: correct/predict = 10/18 = 0.555556\n",
      "\n",
      "Fold4\n",
      "As for Red: correct/predict = 25/41 = 0.609756\n",
      "As for Blue: correct/predict = 5/13 = 0.384615\n",
      "\n",
      "Fold5\n",
      "As for Red: correct/predict = 24/35 = 0.685714\n",
      "As for Blue: correct/predict = 10/20 = 0.500000\n",
      "\n",
      "AverageVelocity > 10:\n",
      "Red/All = 168/272 = 0.617647\n",
      "1 - Red/All = 104/272 = 0.382353\n",
      "Red: Mean correct/predict = 0.671150\n",
      "Blue: Mean correct/predict = 0.477320\n",
      "CV value: 0.397306\n",
      "\n"
     ]
    }
   ],
   "source": [
    "i = 3\n",
    "threshold <- 10\n",
    "printf(\"RoadType: %d (%s)\\n\", i, jRoadType[i+1])\n",
    "dfx <- df3[df3$RoadType == i, ]\n",
    "expr <- createFormula(invalids, allFeatures)\n",
    "dfx1 <- dfx %>% filter( AverageVelocity <= threshold)\n",
    "dfx2 <- dfx %>% filter(AverageVelocity >   threshold)\n",
    "        \n",
    "result1 <- CV(dfx1, expr, verbose=TRUE)        \n",
    "printf(\"AverageVelocity <= %d:\\n\", threshold)\n",
    "printRedRatios(dfx1)        \n",
    "printf(\"Red: Mean correct/predict = %f\\n\", result1[2])\n",
    "printf(\"Blue: Mean correct/predict = %f\\n\", result1[3])\n",
    "printf(\"CV value: %f\", result1[1])        \n",
    "printf(\"\\n\\n\")\n",
    "        \n",
    "result2 <- CV(dfx2, expr, verbose=TRUE)        \n",
    "printf(\"AverageVelocity > %d:\\n\", threshold)\n",
    "printRedRatios(dfx2)\n",
    "printf(\"Red: Mean correct/predict = %f\\n\", result2[2])\n",
    "printf(\"Blue: Mean correct/predict = %f\\n\", result2[3])\n",
    "printf(\"CV value: %f\", result2[1])       \n",
    "printf(\"\\n\\n\")"
   ]
  },
  {
   "cell_type": "code",
   "execution_count": 26,
   "metadata": {
    "collapsed": false,
    "scrolled": true
   },
   "outputs": [
    {
     "name": "stdout",
     "output_type": "stream",
     "text": [
      "RoadType: 0 (都市間高速)\n",
      "Fold1\n",
      "As for Red: correct/predict = 1/3 = 0.333333\n",
      "As for Blue: correct/predict = 1/5 = 0.200000\n",
      "\n",
      "Fold2\n",
      "As for Red: correct/predict = 3/5 = 0.600000\n",
      "As for Blue: correct/predict = 1/3 = 0.333333\n",
      "\n",
      "Fold3\n",
      "As for Red: correct/predict = 4/6 = 0.666667\n",
      "As for Blue: correct/predict = 0/1 = 0.000000\n",
      "\n",
      "Fold4\n",
      "As for Red: correct/predict = 3/5 = 0.600000\n",
      "As for Blue: correct/predict = 1/3 = 0.333333\n",
      "\n",
      "Fold5\n",
      "As for Red: correct/predict = 3/6 = 0.500000\n",
      "As for Blue: correct/predict = 0/2 = 0.000000\n",
      "\n",
      "AverageVelocity <= 50:\n",
      "Red/All = 25/39 = 0.641026\n",
      "1 - Red/All = 14/39 = 0.358974\n",
      "Red: Mean correct/predict = 0.540000\n",
      "Blue: Mean correct/predict = 0.173333\n",
      "CV value: 0.560714\n",
      "\n",
      "Fold1\n",
      "As for Red: correct/predict = 2/5 = 0.400000\n",
      "As for Blue: correct/predict = 0/4 = 0.000000\n",
      "\n",
      "Fold2\n",
      "As for Red: correct/predict = 6/8 = 0.750000\n",
      "As for Blue: correct/predict = 0/0 = NaN\n",
      "\n",
      "Fold3\n",
      "As for Red: correct/predict = 3/5 = 0.600000\n",
      "As for Blue: correct/predict = 1/4 = 0.250000\n",
      "\n",
      "Fold4\n",
      "As for Red: correct/predict = 4/6 = 0.666667\n",
      "As for Blue: correct/predict = 0/2 = 0.000000\n",
      "\n",
      "Fold5\n",
      "As for Red: correct/predict = 3/4 = 0.750000\n",
      "As for Blue: correct/predict = 1/4 = 0.250000\n",
      "\n",
      "AverageVelocity > 50:\n",
      "Red/All = 30/42 = 0.714286\n",
      "1 - Red/All = 12/42 = 0.285714\n",
      "Red: Mean correct/predict = 0.633333\n",
      "Blue: Mean correct/predict = NaN\n",
      "CV value: 0.516667\n",
      "\n"
     ]
    }
   ],
   "source": [
    "i = 0\n",
    "threshold <- 50\n",
    "printf(\"RoadType: %d (%s)\\n\", i, jRoadType[i+1])\n",
    "dfx <- df3[df3$RoadType == i, ]\n",
    "expr <- createFormula(invalids, allFeatures)\n",
    "dfx1 <- dfx %>% filter( AverageVelocity <= threshold)\n",
    "dfx2 <- dfx %>% filter(AverageVelocity >   threshold)\n",
    "        \n",
    "result1 <- CV(dfx1, expr, verbose=TRUE)        \n",
    "printf(\"AverageVelocity <= %d:\\n\", threshold)\n",
    "printRedRatios(dfx1)        \n",
    "printf(\"Red: Mean correct/predict = %f\\n\", result1[2])\n",
    "printf(\"Blue: Mean correct/predict = %f\\n\", result1[3])\n",
    "printf(\"CV value: %f\", result1[1])        \n",
    "printf(\"\\n\\n\")\n",
    "        \n",
    "result2 <- CV(dfx2, expr, verbose=TRUE)        \n",
    "printf(\"AverageVelocity > %d:\\n\", threshold)\n",
    "printRedRatios(dfx2)\n",
    "printf(\"Red: Mean correct/predict = %f\\n\", result2[2])\n",
    "printf(\"Blue: Mean correct/predict = %f\\n\", result2[3])\n",
    "printf(\"CV value: %f\", result2[1])       \n",
    "printf(\"\\n\\n\")"
   ]
  },
  {
   "cell_type": "code",
   "execution_count": null,
   "metadata": {
    "collapsed": true
   },
   "outputs": [],
   "source": []
  },
  {
   "cell_type": "code",
   "execution_count": null,
   "metadata": {
    "collapsed": true
   },
   "outputs": [],
   "source": []
  }
 ],
 "metadata": {
  "kernelspec": {
   "display_name": "R",
   "language": "R",
   "name": "ir"
  },
  "language_info": {
   "codemirror_mode": "r",
   "file_extension": ".r",
   "mimetype": "text/x-r-source",
   "name": "R",
   "pygments_lexer": "r",
   "version": "3.3.2"
  }
 },
 "nbformat": 4,
 "nbformat_minor": 1
}
