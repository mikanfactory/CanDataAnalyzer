{
 "cells": [
  {
   "cell_type": "code",
   "execution_count": 1,
   "metadata": {
    "collapsed": false
   },
   "outputs": [
    {
     "name": "stderr",
     "output_type": "stream",
     "text": [
      "\n",
      "Attaching package: ‘dplyr’\n",
      "\n",
      "The following objects are masked from ‘package:stats’:\n",
      "\n",
      "    filter, lag\n",
      "\n",
      "The following objects are masked from ‘package:base’:\n",
      "\n",
      "    intersect, setdiff, setequal, union\n",
      "\n"
     ]
    }
   ],
   "source": [
    "library(grid)\n",
    "library(rpart)\n",
    "library(rpart.plot)\n",
    "library(partykit)\n",
    "library(lattice)\n",
    "library(ggplot2)\n",
    "library(caret)\n",
    "library(dplyr)"
   ]
  },
  {
   "cell_type": "code",
   "execution_count": 2,
   "metadata": {
    "collapsed": true
   },
   "outputs": [],
   "source": [
    "set.seed(1)"
   ]
  },
  {
   "cell_type": "code",
   "execution_count": 3,
   "metadata": {
    "collapsed": false
   },
   "outputs": [],
   "source": [
    "jRoadType <- c(\"都市間高速\", \"都市高速\", \"有料道路\", \"国道\", \"県道\", \"主要地方道\", \"一般道1、一般道2、一般道3\", \"その他\")\n",
    "jHighSpeeds <- c(\"都市間高速\", \"都市高速\", \"有料道路\")"
   ]
  },
  {
   "cell_type": "code",
   "execution_count": 4,
   "metadata": {
    "collapsed": true
   },
   "outputs": [],
   "source": [
    "printf <- function(...) cat(sprintf(...))"
   ]
  },
  {
   "cell_type": "code",
   "execution_count": 5,
   "metadata": {
    "collapsed": true
   },
   "outputs": [],
   "source": [
    "# valid columns when high speed\n",
    "invalids <- c('Time', 'Longitude', 'Latitude', 'Brake', 'Accel', 'RoadType', 'flag')\n",
    "isValidColumn <- function(x) ! x %in% invalids"
   ]
  },
  {
   "cell_type": "code",
   "execution_count": 15,
   "metadata": {
    "collapsed": true
   },
   "outputs": [],
   "source": [
    "CV <- function(dfx, expr, verbose=FALSE) {        \n",
    "    folds <- createFolds(dfx$flag, k=5)\n",
    "    \n",
    "    count <- 1\n",
    "    errs <- c()\n",
    "    reds <- c()\n",
    "    blues <- c()\n",
    "    for (ids in folds) {\n",
    "        train <- dfx[-ids, ]\n",
    "        test <- dfx[ids, ]\n",
    "        # fit <- rpart(expr, data=train, method=\"class\")\n",
    "        fit <- rpart(expr, data=train, method=\"class\", cp=0.022, split=\"information\")\n",
    "        p <- predict(fit, newdata=test)\n",
    "        predictedFlags <- colnames(p)[max.col(p, ties.method = \"first\")]\n",
    "        \n",
    "        if (verbose) {\n",
    "            printf(\"Fold%d\\n\", count)\n",
    "            result <- correctVsPredict(test, predictedFlags, verbose)\n",
    "            reds <- c(reds, result[1])\n",
    "            blues <- c(blues, result[2])\n",
    "            count <- count + 1\n",
    "            printf(\"\\n\")\n",
    "        } else {\n",
    "            result <- correctVsPredict(test, predictedFlags, verbose)\n",
    "            reds <- c(reds, result[1])\n",
    "            blues <- c(blues, result[2])\n",
    "        }\n",
    "        \n",
    "        nerr <- sum((predictedFlags == test$flag) == FALSE)\n",
    "        errs <- c(errs, nerr / nrow(test))\n",
    "    }\n",
    "    \n",
    "    return(c(mean(errs), mean(reds), mean(blues)))\n",
    "}"
   ]
  },
  {
   "cell_type": "code",
   "execution_count": 16,
   "metadata": {
    "collapsed": true
   },
   "outputs": [],
   "source": [
    "correctVsPredict <- function(test, predictedFlags, verbose=FALSE) {    \n",
    "    # for All\n",
    "    # nTests <- nrow(test)\n",
    "    # nCorrectAll <- sum((predictedFlags == test$flag) == TRUE)\n",
    "    # printf(\"As fo All: correct/all = %d/%d = %f\\n\", nCorrectAll, nTests, nCorrectAll / nTests)\n",
    "    \n",
    "    # for Red\n",
    "    predictedRedRows <- test[predictedFlags == \"Red\", ]\n",
    "    nCorrectReds <- sum((predictedRedRows$flag == 'Red') == TRUE)\n",
    "    nPredictedReds <- nrow(predictedRedRows)\n",
    "    \n",
    "    # for Blue\n",
    "    predictedBlueRows <- test[predictedFlags == \"Blue\", ]\n",
    "    nCorrectBlues <- sum((predictedBlueRows$flag == 'Blue') == TRUE)\n",
    "    nPredictedBlues <- nrow(predictedBlueRows)\n",
    "        \n",
    "    if (verbose) {\n",
    "        printf(\"As for Red: correct/predict = %d/%d = %f\\n\", nCorrectReds, nPredictedReds, nCorrectReds / nPredictedReds)\n",
    "        printf(\"As for Blue: correct/predict = %d/%d = %f\\n\", nCorrectBlues, nPredictedBlues, nCorrectBlues / nPredictedBlues)  \n",
    "    }    \n",
    "    \n",
    "    c(nCorrectReds/nPredictedReds, nCorrectBlues/nPredictedBlues)\n",
    "}"
   ]
  },
  {
   "cell_type": "code",
   "execution_count": 17,
   "metadata": {
    "collapsed": true
   },
   "outputs": [],
   "source": [
    "printRedRatios <- function(dfx) {\n",
    "    nRed <- nrow(dfx[dfx$flag == \"Red\", ])\n",
    "    nAll <- nrow(dfx)\n",
    "    printf(\"Red/All = %d/%d = %f\\n\", nRed, nAll, nRed/nAll)\n",
    "    printf(\"1 - Red/All = %d/%d = %f\\n\", nAll - nRed, nAll, 1 - nRed/nAll)\n",
    "}"
   ]
  },
  {
   "cell_type": "code",
   "execution_count": 18,
   "metadata": {
    "collapsed": true
   },
   "outputs": [],
   "source": [
    "createFormula <- function(invalids, allFeatures) {\n",
    "    isValidColumn <- function(x) ! x %in% invalids\n",
    "    \n",
    "    features <- Filter(isValidColumn, allFeatures)\n",
    "    return(paste(\"flag ~ \", paste(features, collapse=\" + \")))\n",
    "}"
   ]
  },
  {
   "cell_type": "markdown",
   "metadata": {},
   "source": [
    "# Predict Reds"
   ]
  },
  {
   "cell_type": "code",
   "execution_count": 19,
   "metadata": {
    "collapsed": false
   },
   "outputs": [],
   "source": [
    "df3 <- read.csv(\"../data/middle/sp3.csv\", stringsAsFactors=FALSE)"
   ]
  },
  {
   "cell_type": "code",
   "execution_count": 20,
   "metadata": {
    "collapsed": false
   },
   "outputs": [],
   "source": [
    "df3$flag[df3$flag == \"RedA\"] <- \"Red\"\n",
    "df3$flag[df3$flag == \"RedB\"] <- \"Red\"\n",
    "df3$flag[df3$flag == \"BlueA\"] <- \"Blue\"\n",
    "df3$flag[df3$flag == \"BlueB\"] <- \"Blue\"\n",
    "df3$flag <- as.factor(df3$flag)"
   ]
  },
  {
   "cell_type": "code",
   "execution_count": 21,
   "metadata": {
    "collapsed": true
   },
   "outputs": [],
   "source": [
    "allFeatures <- c(colnames(df3))"
   ]
  },
  {
   "cell_type": "code",
   "execution_count": 22,
   "metadata": {
    "collapsed": false
   },
   "outputs": [],
   "source": [
    "roadTypes <- unique(df3$RoadType)"
   ]
  },
  {
   "cell_type": "code",
   "execution_count": 23,
   "metadata": {
    "collapsed": false,
    "scrolled": true
   },
   "outputs": [
    {
     "name": "stdout",
     "output_type": "stream",
     "text": [
      "RoadType: 7 (その他)\n"
     ]
    },
    {
     "ename": "ERROR",
     "evalue": "Error in rpart(expr, data = train, method = \"class\", cp = 0.022, split = \"information\"): Argument split not matched\n",
     "output_type": "error",
     "traceback": [
      "Error in rpart(expr, data = train, method = \"class\", cp = 0.022, split = \"information\"): Argument split not matched\nTraceback:\n",
      "1. CV(dfx, expr, verbose = FALSE)   # at line 5 of file <text>",
      "2. rpart(expr, data = train, method = \"class\", cp = 0.022, split = \"information\")   # at line 12 of file <text>",
      "3. stop(gettextf(\"Argument %s not matched\", names(extraArgs)[indx == \n .     0L]), domain = NA)"
     ]
    }
   ],
   "source": [
    "for (i in roadTypes) {\n",
    "    printf(\"RoadType: %d (%s)\\n\", i, jRoadType[i+1])\n",
    "    dfx <- df3[df3$RoadType == i, ]\n",
    "    expr <- createFormula(invalids, allFeatures)\n",
    "    result <- CV(dfx, expr, verbose=FALSE)\n",
    "    printRedRatios(dfx)\n",
    "    printf(\"Red: Mean correct/predict = %f\\n\", result[2])\n",
    "    printf(\"Blue: Mean correct/predict = %f\\n\", result[3])\n",
    "    printf(\"CV value: %f\", result[1])\n",
    "    printf(\"\\n\\n\")\n",
    "}"
   ]
  },
  {
   "cell_type": "code",
   "execution_count": null,
   "metadata": {
    "collapsed": true
   },
   "outputs": [],
   "source": [
    "fit3 <- rpart(expr, data=df3, method=\"class\")"
   ]
  },
  {
   "cell_type": "code",
   "execution_count": null,
   "metadata": {
    "collapsed": false
   },
   "outputs": [],
   "source": [
    "fit3$cptable[which.min(fit3$cptable[,\"xerror\"]),\"CP\"]"
   ]
  },
  {
   "cell_type": "code",
   "execution_count": null,
   "metadata": {
    "collapsed": false,
    "scrolled": false
   },
   "outputs": [],
   "source": [
    "printcp(fit3)"
   ]
  },
  {
   "cell_type": "code",
   "execution_count": null,
   "metadata": {
    "collapsed": false
   },
   "outputs": [],
   "source": [
    "plotcp(fit3)"
   ]
  },
  {
   "cell_type": "code",
   "execution_count": null,
   "metadata": {
    "collapsed": false
   },
   "outputs": [],
   "source": [
    "summary(fit3)"
   ]
  },
  {
   "cell_type": "code",
   "execution_count": null,
   "metadata": {
    "collapsed": true
   },
   "outputs": [],
   "source": [
    "set.seed(1)"
   ]
  },
  {
   "cell_type": "code",
   "execution_count": null,
   "metadata": {
    "collapsed": false
   },
   "outputs": [],
   "source": [
    "roadTypes"
   ]
  },
  {
   "cell_type": "code",
   "execution_count": null,
   "metadata": {
    "collapsed": false,
    "scrolled": true
   },
   "outputs": [],
   "source": [
    "i = 3\n",
    "threshold <- 10\n",
    "printf(\"RoadType: %d (%s)\\n\", i, jRoadType[i+1])\n",
    "dfx <- df3[df3$RoadType == i, ]\n",
    "expr <- createFormula(invalids, allFeatures)\n",
    "dfx1 <- dfx %>% filter( AverageVelocity <= threshold)\n",
    "dfx2 <- dfx %>% filter(AverageVelocity >   threshold)\n",
    "        \n",
    "result1 <- CV(dfx1, expr, verbose=TRUE)        \n",
    "printf(\"AverageVelocity <= %d:\\n\", threshold)\n",
    "printRedRatios(dfx1)        \n",
    "printf(\"Red: Mean correct/predict = %f\\n\", result1[2])\n",
    "printf(\"Blue: Mean correct/predict = %f\\n\", result1[3])\n",
    "printf(\"CV value: %f\", result1[1])        \n",
    "printf(\"\\n\\n\")\n",
    "        \n",
    "result2 <- CV(dfx2, expr, verbose=TRUE)        \n",
    "printf(\"AverageVelocity > %d:\\n\", threshold)\n",
    "printRedRatios(dfx2)\n",
    "printf(\"Red: Mean correct/predict = %f\\n\", result2[2])\n",
    "printf(\"Blue: Mean correct/predict = %f\\n\", result2[3])\n",
    "printf(\"CV value: %f\", result2[1])       \n",
    "printf(\"\\n\\n\")"
   ]
  },
  {
   "cell_type": "code",
   "execution_count": null,
   "metadata": {
    "collapsed": false,
    "scrolled": true
   },
   "outputs": [],
   "source": [
    "i = 0\n",
    "threshold <- 50\n",
    "printf(\"RoadType: %d (%s)\\n\", i, jRoadType[i+1])\n",
    "dfx <- df3[df3$RoadType == i, ]\n",
    "expr <- createFormula(invalids, allFeatures)\n",
    "dfx1 <- dfx %>% filter( AverageVelocity <= threshold)\n",
    "dfx2 <- dfx %>% filter(AverageVelocity >   threshold)\n",
    "        \n",
    "result1 <- CV(dfx1, expr, verbose=TRUE)        \n",
    "printf(\"AverageVelocity <= %d:\\n\", threshold)\n",
    "printRedRatios(dfx1)        \n",
    "printf(\"Red: Mean correct/predict = %f\\n\", result1[2])\n",
    "printf(\"Blue: Mean correct/predict = %f\\n\", result1[3])\n",
    "printf(\"CV value: %f\", result1[1])        \n",
    "printf(\"\\n\\n\")\n",
    "        \n",
    "result2 <- CV(dfx2, expr, verbose=TRUE)        \n",
    "printf(\"AverageVelocity > %d:\\n\", threshold)\n",
    "printRedRatios(dfx2)\n",
    "printf(\"Red: Mean correct/predict = %f\\n\", result2[2])\n",
    "printf(\"Blue: Mean correct/predict = %f\\n\", result2[3])\n",
    "printf(\"CV value: %f\", result2[1])       \n",
    "printf(\"\\n\\n\")"
   ]
  },
  {
   "cell_type": "code",
   "execution_count": null,
   "metadata": {
    "collapsed": true
   },
   "outputs": [],
   "source": []
  },
  {
   "cell_type": "code",
   "execution_count": null,
   "metadata": {
    "collapsed": true
   },
   "outputs": [],
   "source": []
  }
 ],
 "metadata": {
  "kernelspec": {
   "display_name": "R",
   "language": "R",
   "name": "ir"
  },
  "language_info": {
   "codemirror_mode": "r",
   "file_extension": ".r",
   "mimetype": "text/x-r-source",
   "name": "R",
   "pygments_lexer": "r",
   "version": "3.3.2"
  }
 },
 "nbformat": 4,
 "nbformat_minor": 1
}
