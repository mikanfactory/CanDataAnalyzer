{
 "cells": [
  {
   "cell_type": "code",
   "execution_count": 1,
   "metadata": {
    "collapsed": false
   },
   "outputs": [],
   "source": [
    "library(grid)\n",
    "library(rpart)\n",
    "library(rpart.plot)\n",
    "library(partykit)\n",
    "library(lattice)\n",
    "library(ggplot2)\n",
    "library(caret)"
   ]
  },
  {
   "cell_type": "code",
   "execution_count": 2,
   "metadata": {
    "collapsed": true
   },
   "outputs": [],
   "source": [
    "set.seed(1)"
   ]
  },
  {
   "cell_type": "code",
   "execution_count": 3,
   "metadata": {
    "collapsed": false
   },
   "outputs": [],
   "source": [
    "jRoadType <- c(\"都市間高速\", \"都市高速\", \"有料道路\", \"国道\", \"県道\", \"主要地方道\", \"一般道1、一般道2、一般道3\", \"その他\")\n",
    "jHighSpeeds <- c(\"都市間高速\", \"都市高速\", \"有料道路\")"
   ]
  },
  {
   "cell_type": "code",
   "execution_count": 4,
   "metadata": {
    "collapsed": true
   },
   "outputs": [],
   "source": [
    "printf <- function(...) cat(sprintf(...))"
   ]
  },
  {
   "cell_type": "code",
   "execution_count": 5,
   "metadata": {
    "collapsed": true
   },
   "outputs": [],
   "source": [
    "# valid columns when high speed\n",
    "invalids <- c('Time', 'Longitude', 'Latitude', 'Brake', 'Accel', 'RoadType', 'flag')\n",
    "isValidColumn <- function(x) ! x %in% invalids"
   ]
  },
  {
   "cell_type": "code",
   "execution_count": 6,
   "metadata": {
    "collapsed": true
   },
   "outputs": [],
   "source": [
    "CV <- function(dfx, expr, verbose=FALSE) {        \n",
    "    folds <- createFolds(dfx$flag)\n",
    "    \n",
    "    count <- 1\n",
    "    errs <- c()\n",
    "    reds <- c()\n",
    "    blues <- c()\n",
    "    for (ids in folds) {\n",
    "        train <- dfx[-ids, ]\n",
    "        test <- dfx[ids, ]\n",
    "        # fit <- rpart(expr, data=train, method=\"class\")\n",
    "        fit <- rpart(expr, data=train, method=\"class\", cp=0.0133)\n",
    "        p <- predict(fit, newdata=test)\n",
    "        predictedFlags <- colnames(p)[max.col(p, ties.method = \"first\")]\n",
    "        \n",
    "        if (verbose) {\n",
    "            printf(\"Fold%d\\n\", count)\n",
    "            result <- correctVsPredict(test, predictedFlags, verbose)\n",
    "            reds <- c(reds, result[1])\n",
    "            blues <- c(blues, result[2])\n",
    "            count <- count + 1\n",
    "            printf(\"\\n\")\n",
    "        } else {\n",
    "            result <- correctVsPredict(test, predictedFlags, verbose)\n",
    "            reds <- c(reds, result[1])\n",
    "            blues <- c(blues, result[2])\n",
    "        }\n",
    "        \n",
    "        nerr <- sum((predictedFlags == test$flag) == FALSE)\n",
    "        errs <- c(errs, nerr / nrow(test))\n",
    "    }\n",
    "    \n",
    "    return(c(mean(errs), mean(reds), mean(blues)))\n",
    "}"
   ]
  },
  {
   "cell_type": "code",
   "execution_count": 7,
   "metadata": {
    "collapsed": true
   },
   "outputs": [],
   "source": [
    "correctVsPredict <- function(test, predictedFlags, verbose=FALSE) {    \n",
    "    # for All\n",
    "    # nTests <- nrow(test)\n",
    "    # nCorrectAll <- sum((predictedFlags == test$flag) == TRUE)\n",
    "    # printf(\"As fo All: correct/all = %d/%d = %f\\n\", nCorrectAll, nTests, nCorrectAll / nTests)\n",
    "    \n",
    "    # for Red\n",
    "    predictedRedRows <- test[predictedFlags == \"Red\", ]\n",
    "    nCorrectReds <- sum((predictedRedRows$flag == 'Red') == TRUE)\n",
    "    nPredictedReds <- nrow(predictedRedRows)\n",
    "    \n",
    "    # for Blue\n",
    "    predictedBlueRows <- test[predictedFlags == \"Blue\", ]\n",
    "    nCorrectBlues <- sum((predictedBlueRows$flag == 'Blue') == TRUE)\n",
    "    nPredictedBlues <- nrow(predictedBlueRows)\n",
    "        \n",
    "    if (verbose) {\n",
    "        printf(\"As for Red: correct/predict = %d/%d = %f\\n\", nCorrectReds, nPredictedReds, nCorrectReds / nPredictedReds)\n",
    "        printf(\"As for Blue: correct/predict = %d/%d = %f\\n\", nCorrectBlues, nPredictedBlues, nCorrectBlues / nPredictedBlues)  \n",
    "    }    \n",
    "    \n",
    "    c(nCorrectReds/nPredictedReds, nCorrectBlues/nPredictedBlues)\n",
    "}"
   ]
  },
  {
   "cell_type": "code",
   "execution_count": 8,
   "metadata": {
    "collapsed": true
   },
   "outputs": [],
   "source": [
    "printRedRatios <- function(dfx) {\n",
    "    nRed <- nrow(dfx[dfx$flag == \"Red\", ])\n",
    "    nAll <- nrow(dfx)\n",
    "    printf(\"Red/All = %d/%d = %f\\n\", nRed, nAll, nRed/nAll)\n",
    "    printf(\"1 - Red/All = %d/%d = %f\\n\", nAll - nRed, nAll, 1 - nRed/nAll)\n",
    "}"
   ]
  },
  {
   "cell_type": "code",
   "execution_count": 9,
   "metadata": {
    "collapsed": true
   },
   "outputs": [],
   "source": [
    "createFormula <- function(invalids, allFeatures) {\n",
    "    isValidColumn <- function(x) ! x %in% invalids\n",
    "    \n",
    "    features <- Filter(isValidColumn, allFeatures)\n",
    "    return(paste(\"flag ~ \", paste(features, collapse=\" + \")))\n",
    "}"
   ]
  },
  {
   "cell_type": "markdown",
   "metadata": {},
   "source": [
    "# Predict Reds"
   ]
  },
  {
   "cell_type": "code",
   "execution_count": 10,
   "metadata": {
    "collapsed": true
   },
   "outputs": [],
   "source": [
    "df3 <- read.csv(\"../data/middle/sp3.csv\", stringsAsFactors=FALSE)"
   ]
  },
  {
   "cell_type": "code",
   "execution_count": 11,
   "metadata": {
    "collapsed": false
   },
   "outputs": [],
   "source": [
    "df3$flag[df3$flag == \"RedA\"] <- \"Red\"\n",
    "df3$flag[df3$flag == \"RedB\"] <- \"Red\"\n",
    "df3$flag[df3$flag == \"BlueA\"] <- \"Blue\"\n",
    "df3$flag[df3$flag == \"BlueB\"] <- \"Blue\"\n",
    "df3$flag <- as.factor(df3$flag)"
   ]
  },
  {
   "cell_type": "code",
   "execution_count": 12,
   "metadata": {
    "collapsed": true
   },
   "outputs": [],
   "source": [
    "allFeatures <- c(colnames(df3))"
   ]
  },
  {
   "cell_type": "code",
   "execution_count": 13,
   "metadata": {
    "collapsed": false
   },
   "outputs": [],
   "source": [
    "roadTypes <- unique(df3$RoadType)"
   ]
  },
  {
   "cell_type": "code",
   "execution_count": 14,
   "metadata": {
    "collapsed": false,
    "scrolled": true
   },
   "outputs": [
    {
     "name": "stdout",
     "output_type": "stream",
     "text": [
      "RoadType: 7 (その他)\n",
      "Red/All = 25/27 = 0.925926\n",
      "1 - Red/All = 2/27 = 0.074074\n",
      "Red: Mean correct/predict = 0.933333\n",
      "Blue: Mean correct/predict = NaN\n",
      "CV value: 0.066667\n",
      "\n",
      "RoadType: 6 (一般道1、一般道2、一般道3)\n",
      "Red/All = 90/189 = 0.476190\n",
      "1 - Red/All = 99/189 = 0.523810\n",
      "Red: Mean correct/predict = 0.623608\n",
      "Blue: Mean correct/predict = 0.629235\n",
      "CV value: 0.380994\n",
      "\n",
      "RoadType: 4 (県道)\n",
      "Red/All = 36/71 = 0.507042\n",
      "1 - Red/All = 35/71 = 0.492958\n",
      "Red: Mean correct/predict = 0.575000\n",
      "Blue: Mean correct/predict = 0.541667\n",
      "CV value: 0.454762\n",
      "\n",
      "RoadType: 5 (主要地方道)\n",
      "Red/All = 154/303 = 0.508251\n",
      "1 - Red/All = 149/303 = 0.491749\n",
      "Red: Mean correct/predict = 0.555743\n",
      "Blue: Mean correct/predict = 0.561535\n",
      "CV value: 0.438280\n",
      "\n",
      "RoadType: 3 (国道)\n",
      "Red/All = 202/324 = 0.623457\n",
      "1 - Red/All = 122/324 = 0.376543\n",
      "Red: Mean correct/predict = 0.657517\n",
      "Blue: Mean correct/predict = 0.435706\n",
      "CV value: 0.425758\n",
      "\n",
      "RoadType: 0 (都市間高速)\n",
      "Red/All = 55/81 = 0.679012\n",
      "1 - Red/All = 26/81 = 0.320988\n",
      "Red: Mean correct/predict = 0.575476\n",
      "Blue: Mean correct/predict = NaN\n",
      "CV value: 0.516270\n",
      "\n",
      "RoadType: 2 (有料道路)\n",
      "Red/All = 31/47 = 0.659574\n",
      "1 - Red/All = 16/47 = 0.340426\n",
      "Red: Mean correct/predict = 0.916667\n",
      "Blue: Mean correct/predict = 0.583333\n",
      "CV value: 0.250000\n",
      "\n"
     ]
    }
   ],
   "source": [
    "for (i in roadTypes) {\n",
    "    printf(\"RoadType: %d (%s)\\n\", i, jRoadType[i+1])\n",
    "    dfx <- df3[df3$RoadType == i, ]\n",
    "    expr <- createFormula(invalids, allFeatures)\n",
    "    result <- CV(dfx, expr, verbose=FALSE)\n",
    "    printRedRatios(dfx)\n",
    "    printf(\"Red: Mean correct/predict = %f\\n\", result[2])\n",
    "    printf(\"Blue: Mean correct/predict = %f\\n\", result[3])\n",
    "    printf(\"CV value: %f\", result[1])\n",
    "    printf(\"\\n\\n\")\n",
    "}"
   ]
  },
  {
   "cell_type": "code",
   "execution_count": 15,
   "metadata": {
    "collapsed": true
   },
   "outputs": [],
   "source": [
    "fit3 <- rpart(expr, data=df3, method=\"class\")"
   ]
  },
  {
   "cell_type": "code",
   "execution_count": 16,
   "metadata": {
    "collapsed": false
   },
   "outputs": [
    {
     "data": {
      "text/html": [
       "0.0189309576837416"
      ],
      "text/latex": [
       "0.0189309576837416"
      ],
      "text/markdown": [
       "0.0189309576837416"
      ],
      "text/plain": [
       "[1] 0.01893096"
      ]
     },
     "metadata": {},
     "output_type": "display_data"
    }
   ],
   "source": [
    "fit3$cptable[which.min(fit3$cptable[,\"xerror\"]),\"CP\"]"
   ]
  },
  {
   "cell_type": "code",
   "execution_count": 17,
   "metadata": {
    "collapsed": false,
    "scrolled": false
   },
   "outputs": [
    {
     "name": "stdout",
     "output_type": "stream",
     "text": [
      "\n",
      "Classification tree:\n",
      "rpart(formula = expr, data = df3, method = \"class\")\n",
      "\n",
      "Variables actually used in tree construction:\n",
      " [1] AheadDistance   AverageVelocity CurveAverage    DistManBicycle \n",
      " [5] LaneCount       Pitch           RiskFactor      Speed          \n",
      " [9] SteeringAngle   TimeHeadway     TimeToCollision\n",
      "\n",
      "Root node error: 449/1042 = 0.4309\n",
      "\n",
      "n= 1042 \n",
      "\n",
      "        CP nsplit rel error  xerror     xstd\n",
      "1 0.037862      0   1.00000 1.00000 0.035602\n",
      "2 0.035635      3   0.88641 0.99555 0.035582\n",
      "3 0.026726      4   0.85078 0.96214 0.035418\n",
      "4 0.024499      6   0.79733 0.93987 0.035292\n",
      "5 0.018931      7   0.77283 0.92428 0.035195\n",
      "6 0.013363      9   0.73497 0.93541 0.035265\n",
      "7 0.011136     10   0.72160 0.95323 0.035369\n",
      "8 0.010000     17   0.63697 0.94209 0.035305\n"
     ]
    }
   ],
   "source": [
    "printcp(fit3)"
   ]
  },
  {
   "cell_type": "code",
   "execution_count": 18,
   "metadata": {
    "collapsed": false
   },
   "outputs": [
    {
     "data": {
      "image/png": "[encoded data removed]",
      "text/plain": [
       "plot without title"
      ]
     },
     "metadata": {},
     "output_type": "display_data"
    }
   ],
   "source": [
    "plotcp(fit3)"
   ]
  },
  {
   "cell_type": "code",
   "execution_count": 19,
   "metadata": {
    "collapsed": false
   },
   "outputs": [
    {
     "name": "stdout",
     "output_type": "stream",
     "text": [
      "Call:\n",
      "rpart(formula = expr, data = df3, method = \"class\")\n",
      "  n= 1042 \n",
      "\n",
      "          CP nsplit rel error    xerror       xstd\n",
      "1 0.03786192      0 1.0000000 1.0000000 0.03560167\n",
      "2 0.03563474      3 0.8864143 0.9955457 0.03558214\n",
      "3 0.02672606      4 0.8507795 0.9621381 0.03541821\n",
      "4 0.02449889      6 0.7973274 0.9398664 0.03529164\n",
      "5 0.01893096      7 0.7728285 0.9242762 0.03519473\n",
      "6 0.01336303      9 0.7349666 0.9354120 0.03526465\n",
      "7 0.01113586     10 0.7216036 0.9532294 0.03536925\n",
      "8 0.01000000     17 0.6369710 0.9420935 0.03530493\n",
      "\n",
      "Variable importance\n",
      "            Speed   AverageVelocity   TimeToCollision     AheadDistance \n",
      "               13                 9                 9                 8 \n",
      "      TimeHeadway        RiskFactor     SteeringAngle      CurveAverage \n",
      "                8                 7                 7                 6 \n",
      "            Curve          Curve100            Engine          Curve150 \n",
      "                5                 4                 4                 4 \n",
      "            Pitch         LaneCount    DistManBicycle        ManBicycle \n",
      "                4                 3                 2                 2 \n",
      "  ManBicycleCount AccelerationSpeed              Jerk \n",
      "                2                 2                 1 \n",
      "\n",
      "Node number 1: 1042 observations,    complexity param=0.03786192\n",
      "  predicted class=Red   expected loss=0.4309021  P(node) =1\n",
      "    class counts:   449   593\n",
      "   probabilities: 0.431 0.569 \n",
      "  left son=2 (672 obs) right son=3 (370 obs)\n",
      "  Primary splits:\n",
      "      RiskFactor        < 0.3958754   to the left,  improve=12.380920, (0 missing)\n",
      "      TimeHeadway       < 2.861792    to the right, improve=11.643100, (0 missing)\n",
      "      AheadDistance     < 15.65       to the right, improve= 9.802522, (0 missing)\n",
      "      AccelerationSpeed < 0.6416667   to the left,  improve= 9.009149, (0 missing)\n",
      "      Curve150          < 253         to the left,  improve= 8.630724, (0 missing)\n",
      "  Surrogate splits:\n",
      "      TimeToCollision < 0.4492195   to the left,  agree=0.798, adj=0.430, (0 split)\n",
      "      AheadDistance   < 26.4        to the right, agree=0.679, adj=0.097, (0 split)\n",
      "      BrakeCar        < 0.5         to the left,  agree=0.660, adj=0.043, (0 split)\n",
      "      CurveAverage    < 58.5        to the right, agree=0.655, adj=0.027, (0 split)\n",
      "      Curve           < 92.5        to the right, agree=0.653, adj=0.022, (0 split)\n",
      "\n",
      "Node number 2: 672 observations,    complexity param=0.03786192\n",
      "  predicted class=Red   expected loss=0.4880952  P(node) =0.6449136\n",
      "    class counts:   328   344\n",
      "   probabilities: 0.488 0.512 \n",
      "  left son=4 (650 obs) right son=5 (22 obs)\n",
      "  Primary splits:\n",
      "      AverageVelocity < 4.703744    to the right, improve=10.837220, (0 missing)\n",
      "      Curve150        < 253         to the left,  improve= 9.953351, (0 missing)\n",
      "      Curve100        < 253         to the left,  improve= 9.953351, (0 missing)\n",
      "      Curve           < 253         to the left,  improve= 9.953351, (0 missing)\n",
      "      CurveAverage    < 253         to the left,  improve= 9.953351, (0 missing)\n",
      "  Surrogate splits:\n",
      "      Curve150      < 253         to the left,  agree=0.987, adj=0.591, (0 split)\n",
      "      Curve100      < 253         to the left,  agree=0.987, adj=0.591, (0 split)\n",
      "      Curve         < 253         to the left,  agree=0.987, adj=0.591, (0 split)\n",
      "      CurveAverage  < 253         to the left,  agree=0.987, adj=0.591, (0 split)\n",
      "      SteeringAngle < -145.4      to the right, agree=0.975, adj=0.227, (0 split)\n",
      "\n",
      "Node number 3: 370 observations,    complexity param=0.01893096\n",
      "  predicted class=Red   expected loss=0.327027  P(node) =0.3550864\n",
      "    class counts:   121   249\n",
      "   probabilities: 0.327 0.673 \n",
      "  left son=6 (118 obs) right son=7 (252 obs)\n",
      "  Primary splits:\n",
      "      TimeHeadway   < 2.219974    to the right, improve=6.702074, (0 missing)\n",
      "      Pitch         < -0.0579602  to the left,  improve=5.268385, (0 missing)\n",
      "      DistSignal    < 58.35245    to the right, improve=5.064054, (0 missing)\n",
      "      AheadDistance < 15.6        to the right, improve=4.872531, (0 missing)\n",
      "      RiskFactor    < 0.6769943   to the left,  improve=3.527884, (0 missing)\n",
      "  Surrogate splits:\n",
      "      Speed           < 18          to the left,  agree=0.792, adj=0.347, (0 split)\n",
      "      TimeToCollision < 1.06208     to the right, agree=0.727, adj=0.144, (0 split)\n",
      "      Engine          < 1090.625    to the left,  agree=0.711, adj=0.093, (0 split)\n",
      "      AverageVelocity < 15.34659    to the left,  agree=0.711, adj=0.093, (0 split)\n",
      "      AheadDistance   < 46.35       to the right, agree=0.708, adj=0.085, (0 split)\n",
      "\n",
      "Node number 4: 650 observations,    complexity param=0.03786192\n",
      "  predicted class=Blue  expected loss=0.4953846  P(node) =0.6238004\n",
      "    class counts:   328   322\n",
      "   probabilities: 0.505 0.495 \n",
      "  left son=8 (403 obs) right son=9 (247 obs)\n",
      "  Primary splits:\n",
      "      CurveAverage      < 167.5       to the right, improve=7.298545, (0 missing)\n",
      "      Curve             < 245         to the right, improve=5.436800, (0 missing)\n",
      "      AccelerationSpeed < 0.6444444   to the left,  improve=5.369882, (0 missing)\n",
      "      TimeToCollision   < -48.8279    to the left,  improve=4.946092, (0 missing)\n",
      "      TimeHeadway       < 2.908603    to the right, improve=4.593426, (0 missing)\n",
      "  Surrogate splits:\n",
      "      Curve100      < 185.5       to the right, agree=0.828, adj=0.547, (0 split)\n",
      "      Curve         < 211.5       to the right, agree=0.825, adj=0.538, (0 split)\n",
      "      Curve150      < 230.5       to the right, agree=0.808, adj=0.494, (0 split)\n",
      "      SteeringAngle < 6.45        to the left,  agree=0.700, adj=0.211, (0 split)\n",
      "      LaneCount     < 1.5         to the right, agree=0.678, adj=0.154, (0 split)\n",
      "\n",
      "Node number 5: 22 observations\n",
      "  predicted class=Red   expected loss=0  P(node) =0.02111324\n",
      "    class counts:     0    22\n",
      "   probabilities: 0.000 1.000 \n",
      "\n",
      "Node number 6: 118 observations,    complexity param=0.01893096\n",
      "  predicted class=Red   expected loss=0.4661017  P(node) =0.1132438\n",
      "    class counts:    55    63\n",
      "   probabilities: 0.466 0.534 \n",
      "  left son=12 (71 obs) right son=13 (47 obs)\n",
      "  Primary splits:\n",
      "      AheadDistance < 15.1        to the right, improve=8.412961, (0 missing)\n",
      "      Speed         < 35.8        to the right, improve=6.129846, (0 missing)\n",
      "      Pitch         < -0.181592   to the left,  improve=4.113999, (0 missing)\n",
      "      Engine        < 1309.375    to the right, improve=3.970949, (0 missing)\n",
      "      Curve150      < 120         to the left,  improve=3.603027, (0 missing)\n",
      "  Surrogate splits:\n",
      "      Speed             < 19.595      to the right, agree=0.907, adj=0.766, (0 split)\n",
      "      Engine            < 1145.312    to the right, agree=0.729, adj=0.319, (0 split)\n",
      "      AverageVelocity   < 18.15532    to the right, agree=0.686, adj=0.213, (0 split)\n",
      "      AccelerationSpeed < 0.3388889   to the left,  agree=0.669, adj=0.170, (0 split)\n",
      "      SteeringAngle     < -10.45      to the right, agree=0.661, adj=0.149, (0 split)\n",
      "\n",
      "Node number 7: 252 observations\n",
      "  predicted class=Red   expected loss=0.2619048  P(node) =0.2418426\n",
      "    class counts:    66   186\n",
      "   probabilities: 0.262 0.738 \n",
      "\n",
      "Node number 8: 403 observations,    complexity param=0.03563474\n",
      "  predicted class=Blue  expected loss=0.4367246  P(node) =0.3867562\n",
      "    class counts:   227   176\n",
      "   probabilities: 0.563 0.437 \n",
      "  left son=16 (355 obs) right son=17 (48 obs)\n",
      "  Primary splits:\n",
      "      Speed           < 56.035      to the left,  improve=5.762155, (0 missing)\n",
      "      RiskFactor      < 0.0446202   to the left,  improve=5.108262, (0 missing)\n",
      "      DistSignal      < 61.36245    to the right, improve=4.783371, (0 missing)\n",
      "      TimeToCollision < -8.271477   to the right, improve=4.237739, (0 missing)\n",
      "      PathType        < 53.5        to the left,  improve=4.235398, (0 missing)\n",
      "  Surrogate splits:\n",
      "      Pitch      < -0.2543532  to the right, agree=0.916, adj=0.292, (0 split)\n",
      "      Engine     < 1728.125    to the left,  agree=0.908, adj=0.229, (0 split)\n",
      "      BranchFlag < 0.5         to the left,  agree=0.886, adj=0.042, (0 split)\n",
      "\n",
      "Node number 9: 247 observations,    complexity param=0.02449889\n",
      "  predicted class=Red   expected loss=0.4089069  P(node) =0.2370441\n",
      "    class counts:   101   146\n",
      "   probabilities: 0.409 0.591 \n",
      "  left son=18 (11 obs) right son=19 (236 obs)\n",
      "  Primary splits:\n",
      "      TimeToCollision < -88.66179   to the left,  improve=8.044878, (0 missing)\n",
      "      AheadDistance   < 15.2        to the right, improve=5.141454, (0 missing)\n",
      "      Speed           < 24.52       to the right, improve=4.673337, (0 missing)\n",
      "      Pitch           < -0.06442786 to the left,  improve=4.093623, (0 missing)\n",
      "      DistSignal      < 193.4476    to the right, improve=3.416089, (0 missing)\n",
      "\n",
      "Node number 12: 71 observations,    complexity param=0.01336303\n",
      "  predicted class=Blue  expected loss=0.3802817  P(node) =0.0681382\n",
      "    class counts:    44    27\n",
      "   probabilities: 0.620 0.380 \n",
      "  left son=24 (59 obs) right son=25 (12 obs)\n",
      "  Primary splits:\n",
      "      AverageVelocity < 27.96785    to the left,  improve=3.947840, (0 missing)\n",
      "      Curve100        < 245.5       to the left,  improve=2.176910, (0 missing)\n",
      "      TimeToCollision < 1.306879    to the left,  improve=1.828723, (0 missing)\n",
      "      RiskFactor      < 0.4338584   to the left,  improve=1.809887, (0 missing)\n",
      "      CurveAverage    < 245         to the left,  improve=1.669917, (0 missing)\n",
      "  Surrogate splits:\n",
      "      AccelerationSpeed < -0.2527778  to the right, agree=0.859, adj=0.167, (0 split)\n",
      "      Engine            < 1734.375    to the left,  agree=0.845, adj=0.083, (0 split)\n",
      "\n",
      "Node number 13: 47 observations\n",
      "  predicted class=Red   expected loss=0.2340426  P(node) =0.04510557\n",
      "    class counts:    11    36\n",
      "   probabilities: 0.234 0.766 \n",
      "\n",
      "Node number 16: 355 observations,    complexity param=0.02672606\n",
      "  predicted class=Blue  expected loss=0.4056338  P(node) =0.340691\n",
      "    class counts:   211   144\n",
      "   probabilities: 0.594 0.406 \n",
      "  left son=32 (166 obs) right son=33 (189 obs)\n",
      "  Primary splits:\n",
      "      Speed           < 34.965      to the right, improve=6.038624, (0 missing)\n",
      "      AheadDistance   < 25.4        to the right, improve=5.978331, (0 missing)\n",
      "      RiskFactor      < 0.0446202   to the left,  improve=4.940415, (0 missing)\n",
      "      TimeHeadway     < 1.384331    to the left,  improve=4.516736, (0 missing)\n",
      "      TimeToCollision < -2.923315   to the right, improve=4.424373, (0 missing)\n",
      "  Surrogate splits:\n",
      "      AheadDistance   < 25.4        to the right, agree=0.814, adj=0.602, (0 split)\n",
      "      TimeHeadway     < 1.384331    to the left,  agree=0.670, adj=0.295, (0 split)\n",
      "      Engine          < 1264.062    to the right, agree=0.648, adj=0.247, (0 split)\n",
      "      TimeToCollision < -4.428411   to the right, agree=0.645, adj=0.241, (0 split)\n",
      "      Pitch           < -0.03395522 to the left,  agree=0.637, adj=0.223, (0 split)\n",
      "\n",
      "Node number 17: 48 observations\n",
      "  predicted class=Red   expected loss=0.3333333  P(node) =0.04606526\n",
      "    class counts:    16    32\n",
      "   probabilities: 0.333 0.667 \n",
      "\n",
      "Node number 18: 11 observations\n",
      "  predicted class=Blue  expected loss=0  P(node) =0.01055662\n",
      "    class counts:    11     0\n",
      "   probabilities: 1.000 0.000 \n",
      "\n",
      "Node number 19: 236 observations,    complexity param=0.01113586\n",
      "  predicted class=Red   expected loss=0.3813559  P(node) =0.2264875\n",
      "    class counts:    90   146\n",
      "   probabilities: 0.381 0.619 \n",
      "  left son=38 (170 obs) right son=39 (66 obs)\n",
      "  Primary splits:\n",
      "      Speed           < 26.12       to the right, improve=6.230086, (0 missing)\n",
      "      AheadDistance   < 15.2        to the right, improve=6.149522, (0 missing)\n",
      "      Pitch           < -0.07089552 to the left,  improve=4.850901, (0 missing)\n",
      "      DistSignal      < 209.3728    to the right, improve=4.313591, (0 missing)\n",
      "      TimeToCollision < -0.2393354  to the right, improve=3.992316, (0 missing)\n",
      "  Surrogate splits:\n",
      "      AheadDistance     < 13.65       to the right, agree=0.864, adj=0.515, (0 split)\n",
      "      Engine            < 1189.062    to the right, agree=0.792, adj=0.258, (0 split)\n",
      "      AccelerationSpeed < 0.575       to the left,  agree=0.758, adj=0.136, (0 split)\n",
      "      TimeHeadway       < 2.469309    to the left,  agree=0.758, adj=0.136, (0 split)\n",
      "      SteeringAngle     < 45.85       to the left,  agree=0.737, adj=0.061, (0 split)\n",
      "\n",
      "Node number 24: 59 observations\n",
      "  predicted class=Blue  expected loss=0.3050847  P(node) =0.05662188\n",
      "    class counts:    41    18\n",
      "   probabilities: 0.695 0.305 \n",
      "\n",
      "Node number 25: 12 observations\n",
      "  predicted class=Red   expected loss=0.25  P(node) =0.01151631\n",
      "    class counts:     3     9\n",
      "   probabilities: 0.250 0.750 \n",
      "\n",
      "Node number 32: 166 observations\n",
      "  predicted class=Blue  expected loss=0.3072289  P(node) =0.159309\n",
      "    class counts:   115    51\n",
      "   probabilities: 0.693 0.307 \n",
      "\n",
      "Node number 33: 189 observations,    complexity param=0.02672606\n",
      "  predicted class=Blue  expected loss=0.4920635  P(node) =0.181382\n",
      "    class counts:    96    93\n",
      "   probabilities: 0.508 0.492 \n",
      "  left son=66 (89 obs) right son=67 (100 obs)\n",
      "  Primary splits:\n",
      "      TimeHeadway     < 2.860438    to the right, improve=6.951696, (0 missing)\n",
      "      DistManBicycle  < 12.52656    to the right, improve=4.880037, (0 missing)\n",
      "      PathType        < 3           to the left,  improve=4.609524, (0 missing)\n",
      "      AverageVelocity < 17.65112    to the left,  improve=4.025543, (0 missing)\n",
      "      Engine          < 1082.812    to the left,  improve=3.846820, (0 missing)\n",
      "  Surrogate splits:\n",
      "      Speed           < 16.225      to the left,  agree=0.709, adj=0.382, (0 split)\n",
      "      Engine          < 1100        to the left,  agree=0.635, adj=0.225, (0 split)\n",
      "      TimeToCollision < 10.43532    to the right, agree=0.630, adj=0.213, (0 split)\n",
      "      LaneCount       < 2.5         to the left,  agree=0.619, adj=0.191, (0 split)\n",
      "      Jerk            < 0.6388889   to the left,  agree=0.619, adj=0.191, (0 split)\n",
      "\n",
      "Node number 38: 170 observations,    complexity param=0.01113586\n",
      "  predicted class=Red   expected loss=0.4529412  P(node) =0.1631478\n",
      "    class counts:    77    93\n",
      "   probabilities: 0.453 0.547 \n",
      "  left son=76 (86 obs) right son=77 (84 obs)\n",
      "  Primary splits:\n",
      "      LaneCount     < 0.5         to the left,  improve=3.852264, (0 missing)\n",
      "      AheadDistance < 42.75       to the right, improve=3.659401, (0 missing)\n",
      "      DistSignal    < 226.772     to the right, improve=3.548250, (0 missing)\n",
      "      Curve100      < 184.5       to the right, improve=3.341345, (0 missing)\n",
      "      Pitch         < 0.005721393 to the left,  improve=3.122924, (0 missing)\n",
      "  Surrogate splits:\n",
      "      AverageVelocity < 23.50102    to the left,  agree=0.688, adj=0.369, (0 split)\n",
      "      Pitch           < -0.03743781 to the left,  agree=0.665, adj=0.321, (0 split)\n",
      "      PathType        < 53.5        to the left,  agree=0.653, adj=0.298, (0 split)\n",
      "      Speed           < 50.88       to the left,  agree=0.635, adj=0.262, (0 split)\n",
      "      RiskFactor      < 0.04567298  to the left,  agree=0.629, adj=0.250, (0 split)\n",
      "\n",
      "Node number 39: 66 observations\n",
      "  predicted class=Red   expected loss=0.1969697  P(node) =0.06333973\n",
      "    class counts:    13    53\n",
      "   probabilities: 0.197 0.803 \n",
      "\n",
      "Node number 66: 89 observations\n",
      "  predicted class=Blue  expected loss=0.3483146  P(node) =0.08541267\n",
      "    class counts:    58    31\n",
      "   probabilities: 0.652 0.348 \n",
      "\n",
      "Node number 67: 100 observations,    complexity param=0.01113586\n",
      "  predicted class=Red   expected loss=0.38  P(node) =0.09596929\n",
      "    class counts:    38    62\n",
      "   probabilities: 0.380 0.620 \n",
      "  left son=134 (46 obs) right son=135 (54 obs)\n",
      "  Primary splits:\n",
      "      DistManBicycle  < 1.322062    to the right, improve=4.553172, (0 missing)\n",
      "      ManBicycleCount < 0.5         to the right, improve=3.661667, (0 missing)\n",
      "      ManBicycle      < 0.5         to the right, improve=3.661667, (0 missing)\n",
      "      Engine          < 1121.875    to the left,  improve=2.981083, (0 missing)\n",
      "      AverageVelocity < 18.20033    to the left,  improve=2.611228, (0 missing)\n",
      "  Surrogate splits:\n",
      "      ManBicycleCount   < 0.5         to the right, agree=0.98, adj=0.957, (0 split)\n",
      "      ManBicycle        < 0.5         to the right, agree=0.98, adj=0.957, (0 split)\n",
      "      AverageVelocity   < 17.98015    to the left,  agree=0.65, adj=0.239, (0 split)\n",
      "      AccelerationSpeed < -0.09444444 to the right, agree=0.63, adj=0.196, (0 split)\n",
      "      Pitch             < 0.02363184  to the left,  agree=0.62, adj=0.174, (0 split)\n",
      "\n",
      "Node number 76: 86 observations,    complexity param=0.01113586\n",
      "  predicted class=Blue  expected loss=0.4418605  P(node) =0.08253359\n",
      "    class counts:    48    38\n",
      "   probabilities: 0.558 0.442 \n",
      "  left son=152 (76 obs) right son=153 (10 obs)\n",
      "  Primary splits:\n",
      "      SteeringAngle   < -6.2        to the right, improve=2.902815, (0 missing)\n",
      "      AverageVelocity < 27.48084    to the left,  improve=1.921239, (0 missing)\n",
      "      Curve150        < 121.5       to the right, improve=1.823323, (0 missing)\n",
      "      Speed           < 56.97       to the right, improve=1.771169, (0 missing)\n",
      "      Pitch           < 0.09004975  to the left,  improve=1.755604, (0 missing)\n",
      "  Surrogate splits:\n",
      "      DistTollgate < 160         to the right, agree=0.919, adj=0.3, (0 split)\n",
      "      Pitch        < -0.5639303  to the right, agree=0.907, adj=0.2, (0 split)\n",
      "\n",
      "Node number 77: 84 observations,    complexity param=0.01113586\n",
      "  predicted class=Red   expected loss=0.3452381  P(node) =0.0806142\n",
      "    class counts:    29    55\n",
      "   probabilities: 0.345 0.655 \n",
      "  left son=154 (23 obs) right son=155 (61 obs)\n",
      "  Primary splits:\n",
      "      SteeringAngle < -0.1        to the left,  improve=5.967637, (0 missing)\n",
      "      CurveAverage  < 141.5       to the right, improve=4.576190, (0 missing)\n",
      "      Curve100      < 140.5       to the right, improve=4.000122, (0 missing)\n",
      "      DistSignal    < 226.772     to the right, improve=3.694746, (0 missing)\n",
      "      PathType      < 1.5         to the right, improve=2.922734, (0 missing)\n",
      "  Surrogate splits:\n",
      "      Curve        < 72          to the left,  agree=0.774, adj=0.174, (0 split)\n",
      "      Speed        < 28.03       to the left,  agree=0.762, adj=0.130, (0 split)\n",
      "      Pitch        < 0.5024876   to the right, agree=0.762, adj=0.130, (0 split)\n",
      "      Engine       < 1535.938    to the right, agree=0.750, adj=0.087, (0 split)\n",
      "      CurveAverage < 159.5       to the right, agree=0.750, adj=0.087, (0 split)\n",
      "\n",
      "Node number 134: 46 observations,    complexity param=0.01113586\n",
      "  predicted class=Blue  expected loss=0.4565217  P(node) =0.04414587\n",
      "    class counts:    25    21\n",
      "   probabilities: 0.543 0.457 \n",
      "  left son=268 (14 obs) right son=269 (32 obs)\n",
      "  Primary splits:\n",
      "      RiskFactor      < 0.04054832  to the left,  improve=3.960016, (0 missing)\n",
      "      TimeToCollision < -13.54472   to the right, improve=3.246722, (0 missing)\n",
      "      TimeHeadway     < 2.118645    to the left,  improve=2.420629, (0 missing)\n",
      "      AverageVelocity < 26.09243    to the left,  improve=2.309570, (0 missing)\n",
      "      Pitch           < 0.004975124 to the right, improve=1.983982, (0 missing)\n",
      "  Surrogate splits:\n",
      "      TimeToCollision < -11.75711   to the right, agree=0.957, adj=0.857, (0 split)\n",
      "      TimeHeadway     < 1.208417    to the left,  agree=0.935, adj=0.786, (0 split)\n",
      "      AheadDistance   < 57.25       to the right, agree=0.913, adj=0.714, (0 split)\n",
      "      SteeringAngle   < 3.6         to the right, agree=0.804, adj=0.357, (0 split)\n",
      "      AverageVelocity < 17.04131    to the left,  agree=0.804, adj=0.357, (0 split)\n",
      "\n",
      "Node number 135: 54 observations\n",
      "  predicted class=Red   expected loss=0.2407407  P(node) =0.05182342\n",
      "    class counts:    13    41\n",
      "   probabilities: 0.241 0.759 \n",
      "\n",
      "Node number 152: 76 observations,    complexity param=0.01113586\n",
      "  predicted class=Blue  expected loss=0.3947368  P(node) =0.07293666\n",
      "    class counts:    46    30\n",
      "   probabilities: 0.605 0.395 \n",
      "  left son=304 (59 obs) right son=305 (17 obs)\n",
      "  Primary splits:\n",
      "      Pitch         < 0.09004975  to the left,  improve=2.788372, (0 missing)\n",
      "      Curve150      < 84.5        to the right, improve=2.113024, (0 missing)\n",
      "      Curve         < 158.5       to the left,  improve=2.034431, (0 missing)\n",
      "      Curve100      < 189         to the right, improve=1.871345, (0 missing)\n",
      "      AheadDistance < 22.65       to the right, improve=1.574589, (0 missing)\n",
      "  Surrogate splits:\n",
      "      AverageVelocity   < 11.09222    to the right, agree=0.855, adj=0.353, (0 split)\n",
      "      AccelerationSpeed < -0.4888889  to the right, agree=0.803, adj=0.118, (0 split)\n",
      "\n",
      "Node number 153: 10 observations\n",
      "  predicted class=Red   expected loss=0.2  P(node) =0.009596929\n",
      "    class counts:     2     8\n",
      "   probabilities: 0.200 0.800 \n",
      "\n",
      "Node number 154: 23 observations\n",
      "  predicted class=Blue  expected loss=0.3478261  P(node) =0.02207294\n",
      "    class counts:    15     8\n",
      "   probabilities: 0.652 0.348 \n",
      "\n",
      "Node number 155: 61 observations\n",
      "  predicted class=Red   expected loss=0.2295082  P(node) =0.05854127\n",
      "    class counts:    14    47\n",
      "   probabilities: 0.230 0.770 \n",
      "\n",
      "Node number 268: 14 observations\n",
      "  predicted class=Blue  expected loss=0.1428571  P(node) =0.0134357\n",
      "    class counts:    12     2\n",
      "   probabilities: 0.857 0.143 \n",
      "\n",
      "Node number 269: 32 observations\n",
      "  predicted class=Red   expected loss=0.40625  P(node) =0.03071017\n",
      "    class counts:    13    19\n",
      "   probabilities: 0.406 0.594 \n",
      "\n",
      "Node number 304: 59 observations\n",
      "  predicted class=Blue  expected loss=0.3220339  P(node) =0.05662188\n",
      "    class counts:    40    19\n",
      "   probabilities: 0.678 0.322 \n",
      "\n",
      "Node number 305: 17 observations\n",
      "  predicted class=Red   expected loss=0.3529412  P(node) =0.01631478\n",
      "    class counts:     6    11\n",
      "   probabilities: 0.353 0.647 \n",
      "\n"
     ]
    }
   ],
   "source": [
    "summary(fit3)"
   ]
  },
  {
   "cell_type": "code",
   "execution_count": null,
   "metadata": {
    "collapsed": true
   },
   "outputs": [],
   "source": []
  }
 ],
 "metadata": {
  "kernelspec": {
   "display_name": "R",
   "language": "R",
   "name": "ir"
  },
  "language_info": {
   "codemirror_mode": "r",
   "file_extension": ".r",
   "mimetype": "text/x-r-source",
   "name": "R",
   "pygments_lexer": "r",
   "version": "3.3.2"
  }
 },
 "nbformat": 4,
 "nbformat_minor": 1
}
