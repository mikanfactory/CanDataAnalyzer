{
 "cells": [
  {
   "cell_type": "markdown",
   "metadata": {
    "deletable": true,
    "editable": true
   },
   "source": [
    "# Apply Random Forest"
   ]
  },
  {
   "cell_type": "code",
   "execution_count": 1,
   "metadata": {
    "collapsed": false,
    "deletable": true,
    "editable": true
   },
   "outputs": [
    {
     "name": "stderr",
     "output_type": "stream",
     "text": [
      "\n",
      "Attaching package: ‘dplyr’\n",
      "\n",
      "The following objects are masked from ‘package:stats’:\n",
      "\n",
      "    filter, lag\n",
      "\n",
      "The following objects are masked from ‘package:base’:\n",
      "\n",
      "    intersect, setdiff, setequal, union\n",
      "\n",
      "randomForest 4.6-12\n",
      "Type rfNews() to see new features/changes/bug fixes.\n",
      "\n",
      "Attaching package: ‘randomForest’\n",
      "\n",
      "The following object is masked from ‘package:dplyr’:\n",
      "\n",
      "    combine\n",
      "\n",
      "The following object is masked from ‘package:ggplot2’:\n",
      "\n",
      "    margin\n",
      "\n"
     ]
    }
   ],
   "source": [
    "library(grid)\n",
    "library(rpart)\n",
    "library(rpart.plot)\n",
    "library(partykit)\n",
    "library(lattice)\n",
    "library(ggplot2)\n",
    "library(caret)\n",
    "library(e1071)\n",
    "library(dplyr)\n",
    "library(randomForest)"
   ]
  },
  {
   "cell_type": "code",
   "execution_count": 2,
   "metadata": {
    "collapsed": true,
    "deletable": true,
    "editable": true
   },
   "outputs": [],
   "source": [
    "set.seed(1)"
   ]
  },
  {
   "cell_type": "code",
   "execution_count": 3,
   "metadata": {
    "collapsed": false,
    "deletable": true,
    "editable": true
   },
   "outputs": [],
   "source": [
    "invalids <- c('Time', 'Longitude', 'Latitude', 'Brake', 'Accel', 'flag', 'Curve100', 'Curve150', 'TimeHeadway')\n",
    "# invalids <- c('Time', 'Longitude', 'Latitude', 'Brake', 'Accel', 'flag', 'Curve100', 'Curve150')"
   ]
  },
  {
   "cell_type": "code",
   "execution_count": 4,
   "metadata": {
    "collapsed": true,
    "deletable": true,
    "editable": true
   },
   "outputs": [],
   "source": [
    "valuables <- c(\"RoadType\",\"CurveAverage\",\"Speed\", \"Curve100\", \"Curve150\",\"MaxSpeed\",\"RiskFactor\",\"Curve\",\"DistSignal\",\"Pitch\",\"AheadDistance\",\"AverageVelocity\",\"TimeToCollision\",\"AccelerationSpeed\", \"Engine\", \"SteeringAngle\", \"TimeHeadway\", \"Jerk\", \"LaneCount\", \"DiffAvgSpeed\", \"EmptinessOfRoad\", \"RoadFactor\")"
   ]
  },
  {
   "cell_type": "code",
   "execution_count": 5,
   "metadata": {
    "collapsed": true,
    "deletable": true,
    "editable": true
   },
   "outputs": [],
   "source": [
    "printf <- function(...) cat(sprintf(...))"
   ]
  },
  {
   "cell_type": "code",
   "execution_count": 6,
   "metadata": {
    "collapsed": false,
    "deletable": true,
    "editable": true
   },
   "outputs": [],
   "source": [
    "CV <- function(dfx, verbose=FALSE) {        \n",
    "    folds <- createFolds(dfx$flag)\n",
    "    \n",
    "    count <- 1\n",
    "    errs <- c()\n",
    "    reds <- c()\n",
    "    blues <- c()\n",
    "    shorts <- c()\n",
    "    for (ids in folds) {\n",
    "        train <- dfx[-ids, c(valuables, \"flag\")]\n",
    "        test <- dfx[ids, ]\n",
    "        fit <- randomForest(flag ~ ., data=train, mtry=3, ntree=500)\n",
    "        p <- predict(fit, newdata=test)\n",
    "        \n",
    "        if (verbose) {            \n",
    "            printf(\"Fold%d\\n\", count)\n",
    "            result <- correctVsPredict(test, p)\n",
    "            reds <- c(reds, result[1])\n",
    "            blues <- c(blues, result[2])\n",
    "            shorts <- c(shorts, shortErr(test, p))\n",
    "            count <- count + 1\n",
    "            printf(\"\\n\")\n",
    "        }\n",
    "        \n",
    "        nerr <- sum(p != test$flag)\n",
    "        errs <- c(errs, nerr / nrow(test))\n",
    "    }\n",
    "    \n",
    "    return(c(mean(errs), mean(shorts), mean(reds), mean(blues)))\n",
    "}"
   ]
  },
  {
   "cell_type": "code",
   "execution_count": 7,
   "metadata": {
    "collapsed": true
   },
   "outputs": [],
   "source": [
    "shortErr <- function(test, predictedFlags) {\n",
    "    predictedRedRowsInTrue <- nrow(test[test$flag == \"Red\" & test$AccelOrBrake == \"Accel\" & predictedFlags == \"Red\", ])\n",
    "    nRedAccel <- nrow(test[test$flag == \"Red\" & test$AccelOrBrake == \"Accel\", ])\n",
    "    printf(\"Short: predictedRedInTrueA/trueRedA = %d/%d = %f\\n\", predictedRedRowsInTrue, nRedAccel, predictedRedRowsInTrue / nRedAccel)\n",
    "    # print(predictedRedRowsInTrue %>% group_by(flag, AccelOrBrake) %>% summarize(count=n()))\n",
    "    predictedRedRowsInTrue / nRedAccel\n",
    "}"
   ]
  },
  {
   "cell_type": "code",
   "execution_count": 8,
   "metadata": {
    "collapsed": false,
    "deletable": true,
    "editable": true
   },
   "outputs": [],
   "source": [
    "correctVsPredict <- function(test, predictedFlags) {    \n",
    "    # for All\n",
    "    # nTests <- nrow(test)\n",
    "    # nCorrectAll <- sum((predictedFlags == test$flag) == TRUE)\n",
    "    # printf(\"As fo All: correct/all = %d/%d = %f\\n\", nCorrectAll, nTests, nCorrectAll / nTests)\n",
    "    \n",
    "    # for Red\n",
    "    predictedRedRows <- test[predictedFlags == \"Red\", ]\n",
    "    nCorrectReds <- sum(predictedRedRows$flag == 'Red')\n",
    "    nPredictedReds <- nrow(predictedRedRows)\n",
    "    printf(\"As for Red: correct/predict = %d/%d = %f\\n\", nCorrectReds, nPredictedReds, nCorrectReds / nPredictedReds)\n",
    "    \n",
    "    # for Blue\n",
    "    predictedBlueRows <- test[predictedFlags == \"Blue\", ]\n",
    "    nCorrectBlues <- sum(predictedBlueRows$flag == 'Blue')\n",
    "    nPredictedBlues <- nrow(predictedBlueRows)\n",
    "    printf(\"As for Blue: correct/predict = %d/%d = %f\\n\", nCorrectBlues, nPredictedBlues, nCorrectBlues / nPredictedBlues)\n",
    "    \n",
    "    c(nCorrectReds/nPredictedReds, nCorrectBlues/nPredictedBlues)\n",
    "}"
   ]
  },
  {
   "cell_type": "code",
   "execution_count": 9,
   "metadata": {
    "collapsed": true,
    "deletable": true,
    "editable": true
   },
   "outputs": [],
   "source": [
    "printRedRatios <- function(dfx) {\n",
    "    nRed <- nrow(dfx[dfx$flag == \"Red\", ])\n",
    "    nAll <- nrow(dfx)\n",
    "    printf(\"Red/All = %d/%d = %f\\n\", nRed, nAll, nRed/nAll)\n",
    "    printf(\"1 - Red/All = %d/%d = %f\\n\", nAll - nRed, nAll, 1 - nRed/nAll)\n",
    "}"
   ]
  },
  {
   "cell_type": "code",
   "execution_count": 10,
   "metadata": {
    "collapsed": true,
    "deletable": true,
    "editable": true
   },
   "outputs": [],
   "source": [
    "createFormula <- function(invalids, allFeatures) {\n",
    "    isValidColumn <- function(x) ! x %in% invalids\n",
    "    \n",
    "    features <- Filter(isValidColumn, allFeatures)\n",
    "    return(paste(\"flag ~ \", paste(features, collapse=\" + \")))\n",
    "}"
   ]
  },
  {
   "cell_type": "markdown",
   "metadata": {
    "collapsed": true,
    "deletable": true,
    "editable": true
   },
   "source": [
    "# Predict Red"
   ]
  },
  {
   "cell_type": "code",
   "execution_count": 11,
   "metadata": {
    "collapsed": false,
    "deletable": true,
    "editable": true
   },
   "outputs": [],
   "source": [
    "df3 <- read.csv(\"../data/middle/sp5.csv\", stringsAsFactors=FALSE)"
   ]
  },
  {
   "cell_type": "code",
   "execution_count": 12,
   "metadata": {
    "collapsed": false,
    "deletable": true,
    "editable": true
   },
   "outputs": [
    {
     "data": {
      "text/html": [
       "<table>\n",
       "<thead><tr><th scope=col>flag</th><th scope=col>count</th></tr></thead>\n",
       "<tbody>\n",
       "\t<tr><td>BlueA</td><td> 77  </td></tr>\n",
       "\t<tr><td>BlueB</td><td>372  </td></tr>\n",
       "\t<tr><td>RedA </td><td>401  </td></tr>\n",
       "\t<tr><td>RedB </td><td>192  </td></tr>\n",
       "</tbody>\n",
       "</table>\n"
      ],
      "text/latex": [
       "\\begin{tabular}{r|ll}\n",
       " flag & count\\\\\n",
       "\\hline\n",
       "\t BlueA &  77  \\\\\n",
       "\t BlueB & 372  \\\\\n",
       "\t RedA  & 401  \\\\\n",
       "\t RedB  & 192  \\\\\n",
       "\\end{tabular}\n"
      ],
      "text/markdown": [
       "\n",
       "flag | count | \n",
       "|---|---|---|---|\n",
       "| BlueA |  77   | \n",
       "| BlueB | 372   | \n",
       "| RedA  | 401   | \n",
       "| RedB  | 192   | \n",
       "\n",
       "\n"
      ],
      "text/plain": [
       "  flag  count\n",
       "1 BlueA  77  \n",
       "2 BlueB 372  \n",
       "3 RedA  401  \n",
       "4 RedB  192  "
      ]
     },
     "metadata": {},
     "output_type": "display_data"
    }
   ],
   "source": [
    "df3 %>% group_by(flag) %>% summarize(count=n())"
   ]
  },
  {
   "cell_type": "code",
   "execution_count": 13,
   "metadata": {
    "collapsed": false
   },
   "outputs": [],
   "source": [
    "df3$AccelOrBrake[df3$flag == \"RedA\"] <- \"Accel\"\n",
    "df3$AccelOrBrake[df3$flag == \"RedB\"] <- \"Brake\"\n",
    "df3$AccelOrBrake[df3$flag == \"BlueA\"] <- \"Accel\"\n",
    "df3$AccelOrBrake[df3$flag == \"BlueB\"] <- \"Brake\""
   ]
  },
  {
   "cell_type": "code",
   "execution_count": 14,
   "metadata": {
    "collapsed": true,
    "deletable": true,
    "editable": true
   },
   "outputs": [],
   "source": [
    "df3$flag[df3$flag == \"RedA\"] <- \"Red\"\n",
    "df3$flag[df3$flag == \"RedB\"] <- \"Red\"\n",
    "df3$flag[df3$flag == \"BlueA\"] <- \"Blue\"\n",
    "df3$flag[df3$flag == \"BlueB\"] <- \"Blue\"\n",
    "df3$flag <- as.factor(df3$flag)"
   ]
  },
  {
   "cell_type": "code",
   "execution_count": 15,
   "metadata": {
    "collapsed": false,
    "deletable": true,
    "editable": true,
    "scrolled": true
   },
   "outputs": [],
   "source": [
    "fomula <- paste(\"flag ~ \", paste(valuables, collapse=\" + \"))"
   ]
  },
  {
   "cell_type": "code",
   "execution_count": 16,
   "metadata": {
    "collapsed": true,
    "deletable": true,
    "editable": true
   },
   "outputs": [],
   "source": [
    "set.seed(1)"
   ]
  },
  {
   "cell_type": "code",
   "execution_count": 17,
   "metadata": {
    "collapsed": false,
    "deletable": true,
    "editable": true
   },
   "outputs": [],
   "source": [
    "df <- df3[, c(valuables, \"AccelOrBrake\", \"flag\")]"
   ]
  },
  {
   "cell_type": "code",
   "execution_count": 18,
   "metadata": {
    "collapsed": false,
    "deletable": true,
    "editable": true,
    "scrolled": false
   },
   "outputs": [
    {
     "name": "stdout",
     "output_type": "stream",
     "text": [
      "Fold1\n",
      "As for Red: correct/predict = 42/58 = 0.724138\n",
      "As for Blue: correct/predict = 28/46 = 0.608696\n",
      "Short: predictedRedInTrueA/trueRedA = 29/40 = 0.725000\n",
      "\n",
      "Fold2\n",
      "As for Red: correct/predict = 48/70 = 0.685714\n",
      "As for Blue: correct/predict = 23/35 = 0.657143\n",
      "Short: predictedRedInTrueA/trueRedA = 37/44 = 0.840909\n",
      "\n",
      "Fold3\n",
      "As for Red: correct/predict = 48/77 = 0.623377\n",
      "As for Blue: correct/predict = 16/27 = 0.592593\n",
      "Short: predictedRedInTrueA/trueRedA = 29/35 = 0.828571\n",
      "\n",
      "Fold4\n",
      "As for Red: correct/predict = 49/69 = 0.710145\n",
      "As for Blue: correct/predict = 25/35 = 0.714286\n",
      "Short: predictedRedInTrueA/trueRedA = 34/40 = 0.850000\n",
      "\n",
      "Fold5\n",
      "As for Red: correct/predict = 50/76 = 0.657895\n",
      "As for Blue: correct/predict = 19/28 = 0.678571\n",
      "Short: predictedRedInTrueA/trueRedA = 30/37 = 0.810811\n",
      "\n",
      "Fold6\n",
      "As for Red: correct/predict = 45/65 = 0.692308\n",
      "As for Blue: correct/predict = 25/39 = 0.641026\n",
      "Short: predictedRedInTrueA/trueRedA = 36/46 = 0.782609\n",
      "\n",
      "Fold7\n",
      "As for Red: correct/predict = 49/69 = 0.710145\n",
      "As for Blue: correct/predict = 25/36 = 0.694444\n",
      "Short: predictedRedInTrueA/trueRedA = 36/41 = 0.878049\n",
      "\n",
      "Fold8\n",
      "As for Red: correct/predict = 47/66 = 0.712121\n",
      "As for Blue: correct/predict = 26/38 = 0.684211\n",
      "Short: predictedRedInTrueA/trueRedA = 32/39 = 0.820513\n",
      "\n",
      "Fold9\n",
      "As for Red: correct/predict = 44/68 = 0.647059\n",
      "As for Blue: correct/predict = 21/36 = 0.583333\n",
      "Short: predictedRedInTrueA/trueRedA = 28/41 = 0.682927\n",
      "\n",
      "Fold10\n",
      "As for Red: correct/predict = 49/75 = 0.653333\n",
      "As for Blue: correct/predict = 19/29 = 0.655172\n",
      "Short: predictedRedInTrueA/trueRedA = 34/38 = 0.894737\n",
      "\n",
      "Red/All = 593/1042 = 0.569098\n",
      "1 - Red/All = 449/1042 = 0.430902\n",
      "Red: Mean correct/predict = 0.681623\n",
      "Blue: Mean correct/predict = 0.650947\n",
      "Short: Mean predictedRedInTrueA/trueRedA = 0.811413\n",
      "CV value: 0.330174"
     ]
    }
   ],
   "source": [
    "result <- CV(df, verbose=TRUE)\n",
    "printRedRatios(df)\n",
    "printf(\"Red: Mean correct/predict = %f\\n\", result[3])\n",
    "printf(\"Blue: Mean correct/predict = %f\\n\", result[4])\n",
    "printf(\"Short: Mean predictedRedInTrueA/trueRedA = %f\\n\", result[2])\n",
    "printf(\"CV value: %f\", result[1])"
   ]
  },
  {
   "cell_type": "code",
   "execution_count": 19,
   "metadata": {
    "collapsed": true,
    "deletable": true,
    "editable": true
   },
   "outputs": [],
   "source": [
    "set.seed(1)"
   ]
  },
  {
   "cell_type": "code",
   "execution_count": null,
   "metadata": {
    "collapsed": false,
    "deletable": true,
    "editable": true
   },
   "outputs": [],
   "source": [
    "ntree.lim <- seq(50, 600, 30)\n",
    "\n",
    "tune <- tune.randomForest(\n",
    "        flag ~ .,\n",
    "        data=df[, c(valuables, \"flag\")],\n",
    "        ntree=ntree.lim,\n",
    "        tunecontrol = tune.control(sampling = \"cross\", cross = 10)\n",
    ")"
   ]
  },
  {
   "cell_type": "code",
   "execution_count": 21,
   "metadata": {
    "collapsed": false,
    "deletable": true,
    "editable": true
   },
   "outputs": [
    {
     "ename": "ERROR",
     "evalue": "Error in object[[i]]:  'closure' 型のオブジェクトは部分代入可能ではありません \n",
     "output_type": "error",
     "traceback": [
      "Error in object[[i]]:  'closure' 型のオブジェクトは部分代入可能ではありません \nTraceback:\n",
      "1. summary(tune)",
      "2. summary.default(tune)"
     ]
    }
   ],
   "source": [
    "summary(tune)"
   ]
  },
  {
   "cell_type": "code",
   "execution_count": 22,
   "metadata": {
    "collapsed": false,
    "deletable": true,
    "editable": true
   },
   "outputs": [
    {
     "ename": "ERROR",
     "evalue": "Error in model.frame(train.x):  引数 \"train.x\" がありませんし、省略時既定値もありません \n",
     "output_type": "error",
     "traceback": [
      "Error in model.frame(train.x):  引数 \"train.x\" がありませんし、省略時既定値もありません \nTraceback:\n",
      "1. plot(tune)",
      "2. plot.function(tune)",
      "3. curve(expr = x, from = from, to = to, xlim = xlim, ylab = ylab, \n .     ...)",
      "4. eval(expr, envir = ll, enclos = parent.frame())",
      "5. eval(expr, envir, enclos)",
      "6. x(x)",
      "7. model.frame(train.x)"
     ]
    }
   ],
   "source": [
    "png(\"RandomForest-ntree.png\", height=960, width=960, res=144)\n",
    "plot(tune)\n",
    "dev.off()"
   ]
  },
  {
   "cell_type": "code",
   "execution_count": 23,
   "metadata": {
    "collapsed": false,
    "deletable": true,
    "editable": true
   },
   "outputs": [],
   "source": [
    "fit <- randomForest(flag ~ ., data=df[, c(valuables, \"flag\")], mtry=3, ntree=500)"
   ]
  },
  {
   "cell_type": "code",
   "execution_count": 24,
   "metadata": {
    "collapsed": false,
    "scrolled": true
   },
   "outputs": [
    {
     "data": {
      "text/html": [
       "<table>\n",
       "<thead><tr><th></th><th scope=col>importance</th><th scope=col>names</th></tr></thead>\n",
       "<tbody>\n",
       "\t<tr><th scope=row>20</th><td>34.214879        </td><td>DiffAvgSpeed     </td></tr>\n",
       "\t<tr><th scope=row>17</th><td>32.576362        </td><td>TimeHeadway      </td></tr>\n",
       "\t<tr><th scope=row>9</th><td>32.039825        </td><td>DistSignal       </td></tr>\n",
       "\t<tr><th scope=row>3</th><td>31.284565        </td><td>Speed            </td></tr>\n",
       "\t<tr><th scope=row>7</th><td>30.506158        </td><td>RiskFactor       </td></tr>\n",
       "\t<tr><th scope=row>14</th><td>30.200695        </td><td>AccelerationSpeed</td></tr>\n",
       "\t<tr><th scope=row>10</th><td>30.136167        </td><td>Pitch            </td></tr>\n",
       "\t<tr><th scope=row>6</th><td>28.838365        </td><td>MaxSpeed         </td></tr>\n",
       "\t<tr><th scope=row>15</th><td>28.217001        </td><td>Engine           </td></tr>\n",
       "\t<tr><th scope=row>12</th><td>28.171717        </td><td>AverageVelocity  </td></tr>\n",
       "\t<tr><th scope=row>16</th><td>27.069354        </td><td>SteeringAngle    </td></tr>\n",
       "\t<tr><th scope=row>18</th><td>26.109141        </td><td>Jerk             </td></tr>\n",
       "\t<tr><th scope=row>11</th><td>24.141377        </td><td>AheadDistance    </td></tr>\n",
       "\t<tr><th scope=row>21</th><td>20.228250        </td><td>EmptinessOfRoad  </td></tr>\n",
       "\t<tr><th scope=row>2</th><td>20.118577        </td><td>CurveAverage     </td></tr>\n",
       "\t<tr><th scope=row>13</th><td>18.190854        </td><td>TimeToCollision  </td></tr>\n",
       "\t<tr><th scope=row>4</th><td>13.636719        </td><td>Curve100         </td></tr>\n",
       "\t<tr><th scope=row>5</th><td>13.212740        </td><td>Curve150         </td></tr>\n",
       "\t<tr><th scope=row>8</th><td>13.067579        </td><td>Curve            </td></tr>\n",
       "\t<tr><th scope=row>22</th><td>10.892205        </td><td>RoadFactor       </td></tr>\n",
       "\t<tr><th scope=row>1</th><td> 9.195634        </td><td>RoadType         </td></tr>\n",
       "\t<tr><th scope=row>19</th><td> 7.419389        </td><td>LaneCount        </td></tr>\n",
       "</tbody>\n",
       "</table>\n"
      ],
      "text/latex": [
       "\\begin{tabular}{r|ll}\n",
       "  & importance & names\\\\\n",
       "\\hline\n",
       "\t20 & 34.214879         & DiffAvgSpeed     \\\\\n",
       "\t17 & 32.576362         & TimeHeadway      \\\\\n",
       "\t9 & 32.039825         & DistSignal       \\\\\n",
       "\t3 & 31.284565         & Speed            \\\\\n",
       "\t7 & 30.506158         & RiskFactor       \\\\\n",
       "\t14 & 30.200695         & AccelerationSpeed\\\\\n",
       "\t10 & 30.136167         & Pitch            \\\\\n",
       "\t6 & 28.838365         & MaxSpeed         \\\\\n",
       "\t15 & 28.217001         & Engine           \\\\\n",
       "\t12 & 28.171717         & AverageVelocity  \\\\\n",
       "\t16 & 27.069354         & SteeringAngle    \\\\\n",
       "\t18 & 26.109141         & Jerk             \\\\\n",
       "\t11 & 24.141377         & AheadDistance    \\\\\n",
       "\t21 & 20.228250         & EmptinessOfRoad  \\\\\n",
       "\t2 & 20.118577         & CurveAverage     \\\\\n",
       "\t13 & 18.190854         & TimeToCollision  \\\\\n",
       "\t4 & 13.636719         & Curve100         \\\\\n",
       "\t5 & 13.212740         & Curve150         \\\\\n",
       "\t8 & 13.067579         & Curve            \\\\\n",
       "\t22 & 10.892205         & RoadFactor       \\\\\n",
       "\t1 &  9.195634         & RoadType         \\\\\n",
       "\t19 &  7.419389         & LaneCount        \\\\\n",
       "\\end{tabular}\n"
      ],
      "text/markdown": [
       "\n",
       "| <!--/--> | importance | names | \n",
       "|---|---|---|---|---|---|---|---|---|---|---|---|---|---|---|---|---|---|---|---|---|---|\n",
       "| 20 | 34.214879         | DiffAvgSpeed      | \n",
       "| 17 | 32.576362         | TimeHeadway       | \n",
       "| 9 | 32.039825         | DistSignal        | \n",
       "| 3 | 31.284565         | Speed             | \n",
       "| 7 | 30.506158         | RiskFactor        | \n",
       "| 14 | 30.200695         | AccelerationSpeed | \n",
       "| 10 | 30.136167         | Pitch             | \n",
       "| 6 | 28.838365         | MaxSpeed          | \n",
       "| 15 | 28.217001         | Engine            | \n",
       "| 12 | 28.171717         | AverageVelocity   | \n",
       "| 16 | 27.069354         | SteeringAngle     | \n",
       "| 18 | 26.109141         | Jerk              | \n",
       "| 11 | 24.141377         | AheadDistance     | \n",
       "| 21 | 20.228250         | EmptinessOfRoad   | \n",
       "| 2 | 20.118577         | CurveAverage      | \n",
       "| 13 | 18.190854         | TimeToCollision   | \n",
       "| 4 | 13.636719         | Curve100          | \n",
       "| 5 | 13.212740         | Curve150          | \n",
       "| 8 | 13.067579         | Curve             | \n",
       "| 22 | 10.892205         | RoadFactor        | \n",
       "| 1 |  9.195634         | RoadType          | \n",
       "| 19 |  7.419389         | LaneCount         | \n",
       "\n",
       "\n"
      ],
      "text/plain": [
       "   importance names            \n",
       "20 34.214879  DiffAvgSpeed     \n",
       "17 32.576362  TimeHeadway      \n",
       "9  32.039825  DistSignal       \n",
       "3  31.284565  Speed            \n",
       "7  30.506158  RiskFactor       \n",
       "14 30.200695  AccelerationSpeed\n",
       "10 30.136167  Pitch            \n",
       "6  28.838365  MaxSpeed         \n",
       "15 28.217001  Engine           \n",
       "12 28.171717  AverageVelocity  \n",
       "16 27.069354  SteeringAngle    \n",
       "18 26.109141  Jerk             \n",
       "11 24.141377  AheadDistance    \n",
       "21 20.228250  EmptinessOfRoad  \n",
       "2  20.118577  CurveAverage     \n",
       "13 18.190854  TimeToCollision  \n",
       "4  13.636719  Curve100         \n",
       "5  13.212740  Curve150         \n",
       "8  13.067579  Curve            \n",
       "22 10.892205  RoadFactor       \n",
       "1   9.195634  RoadType         \n",
       "19  7.419389  LaneCount        "
      ]
     },
     "metadata": {},
     "output_type": "display_data"
    }
   ],
   "source": [
    "imps <- data.frame(importance=c(fit$importance), names=valuables)\n",
    "imps[order(imps$importance, decreasing=TRUE), ]"
   ]
  },
  {
   "cell_type": "code",
   "execution_count": 52,
   "metadata": {
    "collapsed": false
   },
   "outputs": [
    {
     "data": {
      "text/html": [
       "<ol class=list-inline>\n",
       "\t<li>'RoadType'</li>\n",
       "\t<li>'CurveAverage'</li>\n",
       "\t<li>'Speed'</li>\n",
       "\t<li>'Curve100'</li>\n",
       "\t<li>'Curve150'</li>\n",
       "\t<li>'MaxSpeed'</li>\n",
       "\t<li>'RiskFactor'</li>\n",
       "\t<li>'Curve'</li>\n",
       "\t<li>'DistSignal'</li>\n",
       "\t<li>'Pitch'</li>\n",
       "\t<li>'AheadDistance'</li>\n",
       "\t<li>'AverageVelocity'</li>\n",
       "\t<li>'TimeToCollision'</li>\n",
       "\t<li>'AccelerationSpeed'</li>\n",
       "\t<li>'Engine'</li>\n",
       "\t<li>'SteeringAngle'</li>\n",
       "\t<li>'TimeHeadway'</li>\n",
       "\t<li>'Jerk'</li>\n",
       "\t<li>'LaneCount'</li>\n",
       "\t<li>'DiffAvgSpeed'</li>\n",
       "\t<li>'EmptinessOfRoad'</li>\n",
       "\t<li>'RoadFactor'</li>\n",
       "</ol>\n"
      ],
      "text/latex": [
       "\\begin{enumerate*}\n",
       "\\item 'RoadType'\n",
       "\\item 'CurveAverage'\n",
       "\\item 'Speed'\n",
       "\\item 'Curve100'\n",
       "\\item 'Curve150'\n",
       "\\item 'MaxSpeed'\n",
       "\\item 'RiskFactor'\n",
       "\\item 'Curve'\n",
       "\\item 'DistSignal'\n",
       "\\item 'Pitch'\n",
       "\\item 'AheadDistance'\n",
       "\\item 'AverageVelocity'\n",
       "\\item 'TimeToCollision'\n",
       "\\item 'AccelerationSpeed'\n",
       "\\item 'Engine'\n",
       "\\item 'SteeringAngle'\n",
       "\\item 'TimeHeadway'\n",
       "\\item 'Jerk'\n",
       "\\item 'LaneCount'\n",
       "\\item 'DiffAvgSpeed'\n",
       "\\item 'EmptinessOfRoad'\n",
       "\\item 'RoadFactor'\n",
       "\\end{enumerate*}\n"
      ],
      "text/markdown": [
       "1. 'RoadType'\n",
       "2. 'CurveAverage'\n",
       "3. 'Speed'\n",
       "4. 'Curve100'\n",
       "5. 'Curve150'\n",
       "6. 'MaxSpeed'\n",
       "7. 'RiskFactor'\n",
       "8. 'Curve'\n",
       "9. 'DistSignal'\n",
       "10. 'Pitch'\n",
       "11. 'AheadDistance'\n",
       "12. 'AverageVelocity'\n",
       "13. 'TimeToCollision'\n",
       "14. 'AccelerationSpeed'\n",
       "15. 'Engine'\n",
       "16. 'SteeringAngle'\n",
       "17. 'TimeHeadway'\n",
       "18. 'Jerk'\n",
       "19. 'LaneCount'\n",
       "20. 'DiffAvgSpeed'\n",
       "21. 'EmptinessOfRoad'\n",
       "22. 'RoadFactor'\n",
       "\n",
       "\n"
      ],
      "text/plain": [
       " [1] \"RoadType\"          \"CurveAverage\"      \"Speed\"            \n",
       " [4] \"Curve100\"          \"Curve150\"          \"MaxSpeed\"         \n",
       " [7] \"RiskFactor\"        \"Curve\"             \"DistSignal\"       \n",
       "[10] \"Pitch\"             \"AheadDistance\"     \"AverageVelocity\"  \n",
       "[13] \"TimeToCollision\"   \"AccelerationSpeed\" \"Engine\"           \n",
       "[16] \"SteeringAngle\"     \"TimeHeadway\"       \"Jerk\"             \n",
       "[19] \"LaneCount\"         \"DiffAvgSpeed\"      \"EmptinessOfRoad\"  \n",
       "[22] \"RoadFactor\"       "
      ]
     },
     "metadata": {},
     "output_type": "display_data"
    }
   ],
   "source": [
    "valuables[varUsed(fit, by.tree=FALSE, count=FALSE)]"
   ]
  },
  {
   "cell_type": "code",
   "execution_count": 54,
   "metadata": {
    "collapsed": false
   },
   "outputs": [
    {
     "data": {
      "text/html": [
       "22"
      ],
      "text/latex": [
       "22"
      ],
      "text/markdown": [
       "22"
      ],
      "text/plain": [
       "[1] 22"
      ]
     },
     "metadata": {},
     "output_type": "display_data"
    }
   ],
   "source": [
    "length(valuables[varUsed(fit, by.tree=FALSE, count=FALSE)])"
   ]
  },
  {
   "cell_type": "code",
   "execution_count": null,
   "metadata": {
    "collapsed": true
   },
   "outputs": [],
   "source": []
  }
 ],
 "metadata": {
  "kernelspec": {
   "display_name": "R",
   "language": "R",
   "name": "ir"
  },
  "language_info": {
   "codemirror_mode": "r",
   "file_extension": ".r",
   "mimetype": "text/x-r-source",
   "name": "R",
   "pygments_lexer": "r",
   "version": "3.3.2"
  }
 },
 "nbformat": 4,
 "nbformat_minor": 1
}
