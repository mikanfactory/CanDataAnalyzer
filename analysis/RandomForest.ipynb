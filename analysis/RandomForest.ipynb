{
 "cells": [
  {
   "cell_type": "markdown",
   "metadata": {
    "deletable": true,
    "editable": true
   },
   "source": [
    "# Apply Random Forest"
   ]
  },
  {
   "cell_type": "code",
   "execution_count": 1,
   "metadata": {
    "collapsed": false,
    "deletable": true,
    "editable": true
   },
   "outputs": [
    {
     "name": "stderr",
     "output_type": "stream",
     "text": [
      "Loading required package: lattice\n",
      "\n",
      "Attaching package: ‘dplyr’\n",
      "\n",
      "The following objects are masked from ‘package:stats’:\n",
      "\n",
      "    filter, lag\n",
      "\n",
      "The following objects are masked from ‘package:base’:\n",
      "\n",
      "    intersect, setdiff, setequal, union\n",
      "\n",
      "randomForest 4.6-12\n",
      "Type rfNews() to see new features/changes/bug fixes.\n",
      "\n",
      "Attaching package: ‘randomForest’\n",
      "\n",
      "The following object is masked from ‘package:dplyr’:\n",
      "\n",
      "    combine\n",
      "\n",
      "The following object is masked from ‘package:ggplot2’:\n",
      "\n",
      "    margin\n",
      "\n"
     ]
    }
   ],
   "source": [
    "library(ggplot2)\n",
    "library(caret)\n",
    "library(e1071)\n",
    "library(dplyr)\n",
    "library(randomForest)"
   ]
  },
  {
   "cell_type": "code",
   "execution_count": 3,
   "metadata": {
    "collapsed": true,
    "deletable": true,
    "editable": true
   },
   "outputs": [],
   "source": [
    "set.seed(1)"
   ]
  },
  {
   "cell_type": "code",
   "execution_count": 4,
   "metadata": {
    "collapsed": true,
    "deletable": true,
    "editable": true
   },
   "outputs": [],
   "source": [
    "# 利用する特徴量を列挙\n",
    "valuables <- c(\"RoadType\",\"CurveAverage\",\"Speed\", \"Curve100\", \"Curve150\",\"MaxSpeed\",\"RiskFactor\",\"Curve\",\"DistSignal\",\"Pitch\",\"AheadDistance\",\"AverageVelocity\",\"TimeToCollision\",\"AccelerationSpeed\", \"Engine\", \"SteeringAngle\", \"TimeHeadway\", \"Jerk\", \"LaneCount\", \"DiffAvgSpeed\", \"EmptinessOfRoad\", \"RoadFactor\")"
   ]
  },
  {
   "cell_type": "code",
   "execution_count": 5,
   "metadata": {
    "collapsed": true,
    "deletable": true,
    "editable": true
   },
   "outputs": [],
   "source": [
    "printf <- function(...) cat(sprintf(...))"
   ]
  },
  {
   "cell_type": "code",
   "execution_count": 6,
   "metadata": {
    "collapsed": false,
    "deletable": true,
    "editable": true
   },
   "outputs": [],
   "source": [
    "# CV value を計算\n",
    "# dfx: 使用するデータ\n",
    "# verbose: ログを出力するかどうか\n",
    "CV <- function(dfx, verbose=FALSE) {        \n",
    "    # k=5 束の fold を作成\n",
    "    folds <- createFolds(dfx$flag, k=5)\n",
    "    \n",
    "    # 各 fold における結果を格納する変数\n",
    "    count <- 1\n",
    "    errs <- c()       # CV 値\n",
    "    reds <- c()     # 長時間平均 (Red だと予測して実際に Red だったもの)\n",
    "    blues <- c()    # 長時間平均 (Blue だと予測して実際に Blue だったもの)\n",
    "    shorts <- c()  # 短時間平均\n",
    "    for (ids in folds) {\n",
    "        train <- dfx[-ids, c(valuables, \"flag\")]                                            # 予測に使う特徴量だけ抜き出す (AccelOrBrake を抜く)\n",
    "        test <- dfx[ids, ]\n",
    "        fit <- randomForest(flag ~ ., data=train, mtry=3, ntree=500)   # Random Forest で学習\n",
    "        p <- predict(fit, newdata=test)                                                      # test データを使って予測\n",
    "        \n",
    "        # 予測した結果を用いて短期、長期平均を計算\n",
    "        if (verbose) {            \n",
    "            printf(\"Fold%d\\n\", count)\n",
    "            result <- correctVsPredict(test, p)\n",
    "            shorts <- c(shorts, shortErr(test, p))\n",
    "            reds <- c(reds, result[1])\n",
    "            blues <- c(blues, result[2])\n",
    "            count <- count + 1\n",
    "            printf(\"\\n\")\n",
    "        } else {\n",
    "            result <- correctVsPredict(test, p, verbose)\n",
    "            shorts <- c(shorts, shortErr(test, p, verbose))\n",
    "            reds <- c(reds, result[1])\n",
    "            blues <- c(blues, result[2])\n",
    "        }\n",
    "        \n",
    "        nerr <- sum(p != test$flag)\n",
    "        errs <- c(errs, nerr / nrow(test))\n",
    "    }\n",
    "    \n",
    "    c(mean(errs), mean(shorts), mean(reds), mean(blues))\n",
    "}"
   ]
  },
  {
   "cell_type": "code",
   "execution_count": 7,
   "metadata": {
    "collapsed": true
   },
   "outputs": [],
   "source": [
    "# 短時間平均を計算する\n",
    "shortErr <- function(test, predictedFlags, verbose=FALSE) {\n",
    "    # Red と予測したテストのうち、Red かつ Accel を取り出す\n",
    "    predictedRedRowsInTrue <- nrow(test[test$flag == \"Red\" & test$AccelOrBrake == \"Accel\" & predictedFlags == \"Red\", ])\n",
    "    # テストのうち Red かつ Accel を取り出す\n",
    "    nRedAccel <- nrow(test[test$flag == \"Red\" & test$AccelOrBrake == \"Accel\", ])\n",
    "    \n",
    "    if (verbose) {\n",
    "      printf(\"Short: predictedRedAInTrueA/trueRedA = %d/%d = %f\\n\", predictedRedRowsInTrue, nRedAccel, predictedRedRowsInTrue/nRedAccel)\n",
    "      # print(predictedRedRowsInTrue %>% group_by(flag, AccelOrBrake) %>% summarize(count=n()))\n",
    "    }\n",
    "    \n",
    "    predictedRedRowsInTrue/nRedAccel\n",
    "}"
   ]
  },
  {
   "cell_type": "code",
   "execution_count": 8,
   "metadata": {
    "collapsed": false,
    "deletable": true,
    "editable": true
   },
   "outputs": [],
   "source": [
    "# 長時間平均を計算する\n",
    "correctVsPredict <- function(test, predictedFlags, verbose=FALSE) {    \n",
    "    # for Red\n",
    "    predictedRedRows <- test[predictedFlags == \"Red\", ]\n",
    "    nCorrectReds <- sum(predictedRedRows$flag == 'Red')\n",
    "    nPredictedReds <- nrow(predictedRedRows)\n",
    "    \n",
    "    # for Blue\n",
    "    predictedBlueRows <- test[predictedFlags == \"Blue\", ]\n",
    "    nCorrectBlues <- sum(predictedBlueRows$flag == 'Blue')\n",
    "    nPredictedBlues <- nrow(predictedBlueRows)\n",
    "        \n",
    "    if (verbose) {\n",
    "        printf(\"As for Red: correct/predict = %d/%d = %f\\n\", nCorrectReds, nPredictedReds, nCorrectReds/nPredictedReds)\n",
    "        printf(\"As for Blue: correct/predict = %d/%d = %f\\n\", nCorrectBlues, nPredictedBlues, nCorrectBlues/nPredictedBlues)  \n",
    "    }    \n",
    "    \n",
    "    c(nCorrectReds/nPredictedReds, nCorrectBlues/nPredictedBlues)\n",
    "}"
   ]
  },
  {
   "cell_type": "code",
   "execution_count": 9,
   "metadata": {
    "collapsed": true,
    "deletable": true,
    "editable": true
   },
   "outputs": [],
   "source": [
    "# 全体のうち Red と Blue がどれぐらいの割合かを出力する\n",
    "printRedRatios <- function(dfx) {\n",
    "    nRed <- nrow(dfx[dfx$flag == \"Red\", ])\n",
    "    nAll <- nrow(dfx)\n",
    "    printf(\"Red/All = %d/%d = %f\\n\", nRed, nAll, nRed/nAll)\n",
    "    printf(\"1 - Red/All = %d/%d = %f\\n\", nAll - nRed, nAll, 1 - nRed/nAll)\n",
    "}"
   ]
  },
  {
   "cell_type": "markdown",
   "metadata": {
    "collapsed": true,
    "deletable": true,
    "editable": true
   },
   "source": [
    "# Predict Red"
   ]
  },
  {
   "cell_type": "code",
   "execution_count": 8,
   "metadata": {
    "collapsed": false,
    "deletable": true,
    "editable": true
   },
   "outputs": [],
   "source": [
    "df3 <- read.csv(\"../data/middle/sp5.csv\", stringsAsFactors=FALSE)"
   ]
  },
  {
   "cell_type": "code",
   "execution_count": 9,
   "metadata": {
    "collapsed": false
   },
   "outputs": [],
   "source": [
    "df3$AccelOrBrake[df3$flag == \"RedA\"] <- \"Accel\"\n",
    "df3$AccelOrBrake[df3$flag == \"RedB\"] <- \"Brake\"\n",
    "df3$AccelOrBrake[df3$flag == \"BlueA\"] <- \"Accel\"\n",
    "df3$AccelOrBrake[df3$flag == \"BlueB\"] <- \"Brake\""
   ]
  },
  {
   "cell_type": "code",
   "execution_count": 10,
   "metadata": {
    "collapsed": true,
    "deletable": true,
    "editable": true
   },
   "outputs": [],
   "source": [
    "df3$flag[df3$flag == \"RedA\"] <- \"Red\"\n",
    "df3$flag[df3$flag == \"RedB\"] <- \"Red\"\n",
    "df3$flag[df3$flag == \"BlueA\"] <- \"Blue\"\n",
    "df3$flag[df3$flag == \"BlueB\"] <- \"Blue\"\n",
    "df3$flag <- as.factor(df3$flag)"
   ]
  },
  {
   "cell_type": "code",
   "execution_count": null,
   "metadata": {
    "collapsed": true
   },
   "outputs": [],
   "source": [
    "verbose=FALSE"
   ]
  },
  {
   "cell_type": "code",
   "execution_count": 11,
   "metadata": {
    "collapsed": false,
    "deletable": true,
    "editable": true
   },
   "outputs": [],
   "source": [
    "# 使用する特徴量だけ抜き取る\n",
    "df <- df3[, c(valuables, \"AccelOrBrake\", \"flag\")]"
   ]
  },
  {
   "cell_type": "code",
   "execution_count": 18,
   "metadata": {
    "collapsed": false,
    "deletable": true,
    "editable": true,
    "scrolled": true
   },
   "outputs": [
    {
     "name": "stdout",
     "output_type": "stream",
     "text": [
      "Fold1\n",
      "As for Red: correct/predict = 42/58 = 0.724138\n",
      "As for Blue: correct/predict = 28/46 = 0.608696\n",
      "Short: predictedRedInTrueA/trueRedA = 29/40 = 0.725000\n",
      "\n",
      "Fold2\n",
      "As for Red: correct/predict = 48/70 = 0.685714\n",
      "As for Blue: correct/predict = 23/35 = 0.657143\n",
      "Short: predictedRedInTrueA/trueRedA = 37/44 = 0.840909\n",
      "\n",
      "Fold3\n",
      "As for Red: correct/predict = 48/77 = 0.623377\n",
      "As for Blue: correct/predict = 16/27 = 0.592593\n",
      "Short: predictedRedInTrueA/trueRedA = 29/35 = 0.828571\n",
      "\n",
      "Fold4\n",
      "As for Red: correct/predict = 49/69 = 0.710145\n",
      "As for Blue: correct/predict = 25/35 = 0.714286\n",
      "Short: predictedRedInTrueA/trueRedA = 34/40 = 0.850000\n",
      "\n",
      "Fold5\n",
      "As for Red: correct/predict = 50/76 = 0.657895\n",
      "As for Blue: correct/predict = 19/28 = 0.678571\n",
      "Short: predictedRedInTrueA/trueRedA = 30/37 = 0.810811\n",
      "\n",
      "Fold6\n",
      "As for Red: correct/predict = 45/65 = 0.692308\n",
      "As for Blue: correct/predict = 25/39 = 0.641026\n",
      "Short: predictedRedInTrueA/trueRedA = 36/46 = 0.782609\n",
      "\n",
      "Fold7\n",
      "As for Red: correct/predict = 49/69 = 0.710145\n",
      "As for Blue: correct/predict = 25/36 = 0.694444\n",
      "Short: predictedRedInTrueA/trueRedA = 36/41 = 0.878049\n",
      "\n",
      "Fold8\n",
      "As for Red: correct/predict = 47/66 = 0.712121\n",
      "As for Blue: correct/predict = 26/38 = 0.684211\n",
      "Short: predictedRedInTrueA/trueRedA = 32/39 = 0.820513\n",
      "\n",
      "Fold9\n",
      "As for Red: correct/predict = 44/68 = 0.647059\n",
      "As for Blue: correct/predict = 21/36 = 0.583333\n",
      "Short: predictedRedInTrueA/trueRedA = 28/41 = 0.682927\n",
      "\n",
      "Fold10\n",
      "As for Red: correct/predict = 49/75 = 0.653333\n",
      "As for Blue: correct/predict = 19/29 = 0.655172\n",
      "Short: predictedRedInTrueA/trueRedA = 34/38 = 0.894737\n",
      "\n",
      "Red/All = 593/1042 = 0.569098\n",
      "1 - Red/All = 449/1042 = 0.430902\n",
      "Red: Mean correct/predict = 0.681623\n",
      "Blue: Mean correct/predict = 0.650947\n",
      "Short: Mean predictedRedInTrueA/trueRedA = 0.811413\n",
      "CV value: 0.330174"
     ]
    }
   ],
   "source": [
    "# 全データに対して CV 値, 長時間平均, 短時間平均を計算\n",
    "result <- CV(df, verbose=TRUE)\n",
    "printRedRatios(df)\n",
    "printf(\"Red: Mean correct/predict = %f\\n\", result[3])\n",
    "printf(\"Blue: Mean correct/predict = %f\\n\", result[4])\n",
    "printf(\"Short: Mean predictedRedInTrueA/trueRedA = %f\\n\", result[2])\n",
    "printf(\"CV value: %f\", result[1])"
   ]
  },
  {
   "cell_type": "code",
   "execution_count": 19,
   "metadata": {
    "collapsed": true,
    "deletable": true,
    "editable": true
   },
   "outputs": [],
   "source": [
    "set.seed(1)"
   ]
  },
  {
   "cell_type": "code",
   "execution_count": null,
   "metadata": {
    "collapsed": false,
    "deletable": true,
    "editable": true
   },
   "outputs": [],
   "source": [
    "# ハイパーパラメータチューニング\n",
    "ntree.lim <- seq(50, 600, 30)\n",
    "\n",
    "tune <- tune.randomForest(\n",
    "        flag ~ .,\n",
    "        data=df[, c(valuables, \"flag\")],\n",
    "        ntree=ntree.lim,\n",
    "        tunecontrol = tune.control(sampling = \"cross\", cross = 10) # 10-fold CV により評価\n",
    ")"
   ]
  },
  {
   "cell_type": "code",
   "execution_count": 21,
   "metadata": {
    "collapsed": false,
    "deletable": true,
    "editable": true
   },
   "outputs": [
    {
     "ename": "ERROR",
     "evalue": "Error in object[[i]]:  'closure' 型のオブジェクトは部分代入可能ではありません \n",
     "output_type": "error",
     "traceback": [
      "Error in object[[i]]:  'closure' 型のオブジェクトは部分代入可能ではありません \nTraceback:\n",
      "1. summary(tune)",
      "2. summary.default(tune)"
     ]
    }
   ],
   "source": [
    "# 結果の表示と保存\n",
    "summary(tune)"
   ]
  },
  {
   "cell_type": "code",
   "execution_count": 22,
   "metadata": {
    "collapsed": false,
    "deletable": true,
    "editable": true
   },
   "outputs": [
    {
     "ename": "ERROR",
     "evalue": "Error in model.frame(train.x):  引数 \"train.x\" がありませんし、省略時既定値もありません \n",
     "output_type": "error",
     "traceback": [
      "Error in model.frame(train.x):  引数 \"train.x\" がありませんし、省略時既定値もありません \nTraceback:\n",
      "1. plot(tune)",
      "2. plot.function(tune)",
      "3. curve(expr = x, from = from, to = to, xlim = xlim, ylab = ylab, \n .     ...)",
      "4. eval(expr, envir = ll, enclos = parent.frame())",
      "5. eval(expr, envir, enclos)",
      "6. x(x)",
      "7. model.frame(train.x)"
     ]
    }
   ],
   "source": [
    "png(\"RandomForest-ntree.png\", height=960, width=960, res=144)\n",
    "plot(tune)\n",
    "dev.off()"
   ]
  },
  {
   "cell_type": "code",
   "execution_count": 13,
   "metadata": {
    "collapsed": false,
    "deletable": true,
    "editable": true
   },
   "outputs": [],
   "source": [
    "# Random Forest の Feature Importance を計算\n",
    "fit <- randomForest(flag ~ ., data=df[, c(valuables, \"flag\")], mtry=3, ntree=500)"
   ]
  },
  {
   "cell_type": "code",
   "execution_count": 14,
   "metadata": {
    "collapsed": false,
    "scrolled": true
   },
   "outputs": [
    {
     "name": "stdout",
     "output_type": "stream",
     "text": [
      "   importance             names\n",
      "20  35.080792      DiffAvgSpeed\n",
      "17  32.997685       TimeHeadway\n",
      "3   31.759536             Speed\n",
      "9   31.143696        DistSignal\n",
      "14  30.588316 AccelerationSpeed\n",
      "10  30.293228             Pitch\n",
      "6   29.735280          MaxSpeed\n",
      "12  28.714308   AverageVelocity\n",
      "15  28.679538            Engine\n",
      "7   28.436219        RiskFactor\n",
      "16  26.934218     SteeringAngle\n",
      "18  25.806578              Jerk\n",
      "11  24.557217     AheadDistance\n",
      "2   20.239817      CurveAverage\n",
      "21  20.115719   EmptinessOfRoad\n",
      "13  17.654443   TimeToCollision\n",
      "4   13.918153          Curve100\n",
      "5   13.396295          Curve150\n",
      "8   12.536519             Curve\n",
      "22  10.753858        RoadFactor\n",
      "1    9.290083          RoadType\n",
      "19   7.368673         LaneCount\n"
     ]
    }
   ],
   "source": [
    "# カラム名と importance をカラムとする dataframe を作成\n",
    "imps <- data.frame(importance=c(fit$importance), names=valuables)\n",
    "# importance が高い順にソートして出力\n",
    "print(imps[order(imps$importance, decreasing=TRUE), ])"
   ]
  },
  {
   "cell_type": "code",
   "execution_count": null,
   "metadata": {
    "collapsed": true
   },
   "outputs": [],
   "source": []
  },
  {
   "cell_type": "code",
   "execution_count": null,
   "metadata": {
    "collapsed": true
   },
   "outputs": [],
   "source": []
  }
 ],
 "metadata": {
  "kernelspec": {
   "display_name": "R",
   "language": "R",
   "name": "ir"
  },
  "language_info": {
   "codemirror_mode": "r",
   "file_extension": ".r",
   "mimetype": "text/x-r-source",
   "name": "R",
   "pygments_lexer": "r",
   "version": "3.3.2"
  }
 },
 "nbformat": 4,
 "nbformat_minor": 1
}
