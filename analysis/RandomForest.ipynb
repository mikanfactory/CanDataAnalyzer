{
 "cells": [
  {
   "cell_type": "markdown",
   "metadata": {
    "deletable": true,
    "editable": true
   },
   "source": [
    "# Apply Random Forest"
   ]
  },
  {
   "cell_type": "code",
   "execution_count": 1,
   "metadata": {
    "collapsed": false,
    "deletable": true,
    "editable": true
   },
   "outputs": [
    {
     "name": "stderr",
     "output_type": "stream",
     "text": [
      "\n",
      "Attaching package: ‘dplyr’\n",
      "\n",
      "The following objects are masked from ‘package:stats’:\n",
      "\n",
      "    filter, lag\n",
      "\n",
      "The following objects are masked from ‘package:base’:\n",
      "\n",
      "    intersect, setdiff, setequal, union\n",
      "\n",
      "randomForest 4.6-12\n",
      "Type rfNews() to see new features/changes/bug fixes.\n",
      "\n",
      "Attaching package: ‘randomForest’\n",
      "\n",
      "The following object is masked from ‘package:dplyr’:\n",
      "\n",
      "    combine\n",
      "\n",
      "The following object is masked from ‘package:ggplot2’:\n",
      "\n",
      "    margin\n",
      "\n"
     ]
    }
   ],
   "source": [
    "library(grid)\n",
    "library(rpart)\n",
    "library(rpart.plot)\n",
    "library(partykit)\n",
    "library(lattice)\n",
    "library(ggplot2)\n",
    "library(caret)\n",
    "library(e1071)\n",
    "library(dplyr)\n",
    "library(randomForest)"
   ]
  },
  {
   "cell_type": "code",
   "execution_count": 2,
   "metadata": {
    "collapsed": true,
    "deletable": true,
    "editable": true
   },
   "outputs": [],
   "source": [
    "set.seed(1)"
   ]
  },
  {
   "cell_type": "code",
   "execution_count": 3,
   "metadata": {
    "collapsed": false,
    "deletable": true,
    "editable": true
   },
   "outputs": [],
   "source": [
    "invalids <- c('Time', 'Longitude', 'Latitude', 'Brake', 'Accel', 'flag', 'Curve100', 'Curve150', 'TimeHeadway')\n",
    "# invalids <- c('Time', 'Longitude', 'Latitude', 'Brake', 'Accel', 'flag', 'Curve100', 'Curve150')"
   ]
  },
  {
   "cell_type": "code",
   "execution_count": 4,
   "metadata": {
    "collapsed": true,
    "deletable": true,
    "editable": true
   },
   "outputs": [],
   "source": [
    "valuables <- c(\"RoadType\",\"CurveAverage\",\"Speed\", \"Curve100\", \"Curve150\",\"MaxSpeed\",\"RiskFactor\",\"Curve\",\"DistSignal\",\"Pitch\",\"AheadDistance\",\"AverageVelocity\",\"TimeToCollision\",\"AccelerationSpeed\", \"Engine\", \"SteeringAngle\", \"TimeHeadway\", \"Jerk\", \"LaneCount\", \"DiffAvgSpeed\", \"EmptinessOfRoad\", \"RoadFactor\")"
   ]
  },
  {
   "cell_type": "code",
   "execution_count": 5,
   "metadata": {
    "collapsed": true,
    "deletable": true,
    "editable": true
   },
   "outputs": [],
   "source": [
    "printf <- function(...) cat(sprintf(...))"
   ]
  },
  {
   "cell_type": "code",
   "execution_count": 6,
   "metadata": {
    "collapsed": false,
    "deletable": true,
    "editable": true
   },
   "outputs": [],
   "source": [
    "CV <- function(dfx, verbose=FALSE) {        \n",
    "    folds <- createFolds(dfx$flag)\n",
    "    \n",
    "    count <- 1\n",
    "    errs <- c()\n",
    "    reds <- c()\n",
    "    blues <- c()\n",
    "    shorts <- c()\n",
    "    for (ids in folds) {\n",
    "        train <- dfx[-ids, c(valuables, \"flag\")]\n",
    "        test <- dfx[ids, ]\n",
    "        fit <- randomForest(flag ~ ., data=train, mtry=3, ntree=500)\n",
    "        p <- predict(fit, newdata=test)\n",
    "        \n",
    "        if (verbose) {            \n",
    "            printf(\"Fold%d\\n\", count)\n",
    "            result <- correctVsPredict(test, p)\n",
    "            reds <- c(reds, result[1])\n",
    "            blues <- c(blues, result[2])\n",
    "            shorts <- c(shorts, shortErr(test, p))\n",
    "            count <- count + 1\n",
    "            printf(\"\\n\")\n",
    "        }\n",
    "        \n",
    "        nerr <- sum(p != test$flag)\n",
    "        errs <- c(errs, nerr / nrow(test))\n",
    "    }\n",
    "    \n",
    "    return(c(mean(errs), mean(shorts), mean(reds), mean(blues)))\n",
    "}"
   ]
  },
  {
   "cell_type": "code",
   "execution_count": 7,
   "metadata": {
    "collapsed": true
   },
   "outputs": [],
   "source": [
    "shortErr <- function(test, predictedFlags) {\n",
    "    predictedRedRowsInTrue <- nrow(test[test$flag == \"Red\" & test$AccelOrBrake == \"Accel\" & predictedFlags == \"Red\", ])\n",
    "    nRedAccel <- nrow(test[test$flag == \"Red\" & test$AccelOrBrake == \"Accel\", ])\n",
    "    printf(\"Short: predictedRedInTrueA/trueRedA = %d/%d = %f\\n\", predictedRedRowsInTrue, nRedAccel, predictedRedRowsInTrue / nRedAccel)\n",
    "    # print(predictedRedRowsInTrue %>% group_by(flag, AccelOrBrake) %>% summarize(count=n()))\n",
    "    predictedRedRowsInTrue / nRedAccel\n",
    "}"
   ]
  },
  {
   "cell_type": "code",
   "execution_count": 8,
   "metadata": {
    "collapsed": false,
    "deletable": true,
    "editable": true
   },
   "outputs": [],
   "source": [
    "correctVsPredict <- function(test, predictedFlags) {    \n",
    "    # for All\n",
    "    # nTests <- nrow(test)\n",
    "    # nCorrectAll <- sum((predictedFlags == test$flag) == TRUE)\n",
    "    # printf(\"As fo All: correct/all = %d/%d = %f\\n\", nCorrectAll, nTests, nCorrectAll / nTests)\n",
    "    \n",
    "    # for Red\n",
    "    predictedRedRows <- test[predictedFlags == \"Red\", ]\n",
    "    nCorrectReds <- sum(predictedRedRows$flag == 'Red')\n",
    "    nPredictedReds <- nrow(predictedRedRows)\n",
    "    printf(\"As for Red: correct/predict = %d/%d = %f\\n\", nCorrectReds, nPredictedReds, nCorrectReds / nPredictedReds)\n",
    "    \n",
    "    # for Blue\n",
    "    predictedBlueRows <- test[predictedFlags == \"Blue\", ]\n",
    "    nCorrectBlues <- sum(predictedBlueRows$flag == 'Blue')\n",
    "    nPredictedBlues <- nrow(predictedBlueRows)\n",
    "    printf(\"As for Blue: correct/predict = %d/%d = %f\\n\", nCorrectBlues, nPredictedBlues, nCorrectBlues / nPredictedBlues)\n",
    "    \n",
    "    c(nCorrectReds/nPredictedReds, nCorrectBlues/nPredictedBlues)\n",
    "}"
   ]
  },
  {
   "cell_type": "code",
   "execution_count": 9,
   "metadata": {
    "collapsed": true,
    "deletable": true,
    "editable": true
   },
   "outputs": [],
   "source": [
    "printRedRatios <- function(dfx) {\n",
    "    nRed <- nrow(dfx[dfx$flag == \"Red\", ])\n",
    "    nAll <- nrow(dfx)\n",
    "    printf(\"Red/All = %d/%d = %f\\n\", nRed, nAll, nRed/nAll)\n",
    "    printf(\"1 - Red/All = %d/%d = %f\\n\", nAll - nRed, nAll, 1 - nRed/nAll)\n",
    "}"
   ]
  },
  {
   "cell_type": "code",
   "execution_count": 10,
   "metadata": {
    "collapsed": true,
    "deletable": true,
    "editable": true
   },
   "outputs": [],
   "source": [
    "createFormula <- function(invalids, allFeatures) {\n",
    "    isValidColumn <- function(x) ! x %in% invalids\n",
    "    \n",
    "    features <- Filter(isValidColumn, allFeatures)\n",
    "    return(paste(\"flag ~ \", paste(features, collapse=\" + \")))\n",
    "}"
   ]
  },
  {
   "cell_type": "markdown",
   "metadata": {
    "collapsed": true,
    "deletable": true,
    "editable": true
   },
   "source": [
    "# Predict Red"
   ]
  },
  {
   "cell_type": "code",
   "execution_count": 11,
   "metadata": {
    "collapsed": false,
    "deletable": true,
    "editable": true
   },
   "outputs": [],
   "source": [
    "df3 <- read.csv(\"../data/middle/sp5.csv\", stringsAsFactors=FALSE)"
   ]
  },
  {
   "cell_type": "code",
   "execution_count": 12,
   "metadata": {
    "collapsed": false,
    "deletable": true,
    "editable": true
   },
   "outputs": [
    {
     "data": {
      "text/html": [
       "<table>\n",
       "<thead><tr><th scope=col>flag</th><th scope=col>count</th></tr></thead>\n",
       "<tbody>\n",
       "\t<tr><td>BlueA</td><td> 77  </td></tr>\n",
       "\t<tr><td>BlueB</td><td>372  </td></tr>\n",
       "\t<tr><td>RedA </td><td>401  </td></tr>\n",
       "\t<tr><td>RedB </td><td>192  </td></tr>\n",
       "</tbody>\n",
       "</table>\n"
      ],
      "text/latex": [
       "\\begin{tabular}{r|ll}\n",
       " flag & count\\\\\n",
       "\\hline\n",
       "\t BlueA &  77  \\\\\n",
       "\t BlueB & 372  \\\\\n",
       "\t RedA  & 401  \\\\\n",
       "\t RedB  & 192  \\\\\n",
       "\\end{tabular}\n"
      ],
      "text/markdown": [
       "\n",
       "flag | count | \n",
       "|---|---|---|---|\n",
       "| BlueA |  77   | \n",
       "| BlueB | 372   | \n",
       "| RedA  | 401   | \n",
       "| RedB  | 192   | \n",
       "\n",
       "\n"
      ],
      "text/plain": [
       "  flag  count\n",
       "1 BlueA  77  \n",
       "2 BlueB 372  \n",
       "3 RedA  401  \n",
       "4 RedB  192  "
      ]
     },
     "metadata": {},
     "output_type": "display_data"
    }
   ],
   "source": [
    "df3 %>% group_by(flag) %>% summarize(count=n())"
   ]
  },
  {
   "cell_type": "code",
   "execution_count": 13,
   "metadata": {
    "collapsed": false
   },
   "outputs": [],
   "source": [
    "df3$AccelOrBrake[df3$flag == \"RedA\"] <- \"Accel\"\n",
    "df3$AccelOrBrake[df3$flag == \"RedB\"] <- \"Brake\"\n",
    "df3$AccelOrBrake[df3$flag == \"BlueA\"] <- \"Accel\"\n",
    "df3$AccelOrBrake[df3$flag == \"BlueB\"] <- \"Brake\""
   ]
  },
  {
   "cell_type": "code",
   "execution_count": 14,
   "metadata": {
    "collapsed": true,
    "deletable": true,
    "editable": true
   },
   "outputs": [],
   "source": [
    "df3$flag[df3$flag == \"RedA\"] <- \"Red\"\n",
    "df3$flag[df3$flag == \"RedB\"] <- \"Red\"\n",
    "df3$flag[df3$flag == \"BlueA\"] <- \"Blue\"\n",
    "df3$flag[df3$flag == \"BlueB\"] <- \"Blue\"\n",
    "df3$flag <- as.factor(df3$flag)"
   ]
  },
  {
   "cell_type": "code",
   "execution_count": 15,
   "metadata": {
    "collapsed": false,
    "deletable": true,
    "editable": true,
    "scrolled": true
   },
   "outputs": [],
   "source": [
    "fomula <- paste(\"flag ~ \", paste(valuables, collapse=\" + \"))"
   ]
  },
  {
   "cell_type": "code",
   "execution_count": 16,
   "metadata": {
    "collapsed": true,
    "deletable": true,
    "editable": true
   },
   "outputs": [],
   "source": [
    "set.seed(1)"
   ]
  },
  {
   "cell_type": "code",
   "execution_count": 17,
   "metadata": {
    "collapsed": false,
    "deletable": true,
    "editable": true
   },
   "outputs": [],
   "source": [
    "df <- df3[, c(valuables, \"AccelOrBrake\", \"flag\")]"
   ]
  },
  {
   "cell_type": "code",
   "execution_count": 18,
   "metadata": {
    "collapsed": false,
    "deletable": true,
    "editable": true,
    "scrolled": false
   },
   "outputs": [
    {
     "name": "stdout",
     "output_type": "stream",
     "text": [
      "Fold1\n",
      "As for Red: correct/predict = 42/58 = 0.724138\n",
      "As for Blue: correct/predict = 28/46 = 0.608696\n",
      "Short: predictedRedInTrueA/trueRedA = 29/40 = 0.725000\n",
      "\n",
      "Fold2\n",
      "As for Red: correct/predict = 48/70 = 0.685714\n",
      "As for Blue: correct/predict = 23/35 = 0.657143\n",
      "Short: predictedRedInTrueA/trueRedA = 37/44 = 0.840909\n",
      "\n",
      "Fold3\n",
      "As for Red: correct/predict = 48/77 = 0.623377\n",
      "As for Blue: correct/predict = 16/27 = 0.592593\n",
      "Short: predictedRedInTrueA/trueRedA = 29/35 = 0.828571\n",
      "\n",
      "Fold4\n",
      "As for Red: correct/predict = 49/69 = 0.710145\n",
      "As for Blue: correct/predict = 25/35 = 0.714286\n",
      "Short: predictedRedInTrueA/trueRedA = 34/40 = 0.850000\n",
      "\n",
      "Fold5\n",
      "As for Red: correct/predict = 50/76 = 0.657895\n",
      "As for Blue: correct/predict = 19/28 = 0.678571\n",
      "Short: predictedRedInTrueA/trueRedA = 30/37 = 0.810811\n",
      "\n",
      "Fold6\n",
      "As for Red: correct/predict = 45/65 = 0.692308\n",
      "As for Blue: correct/predict = 25/39 = 0.641026\n",
      "Short: predictedRedInTrueA/trueRedA = 36/46 = 0.782609\n",
      "\n",
      "Fold7\n",
      "As for Red: correct/predict = 49/69 = 0.710145\n",
      "As for Blue: correct/predict = 25/36 = 0.694444\n",
      "Short: predictedRedInTrueA/trueRedA = 36/41 = 0.878049\n",
      "\n",
      "Fold8\n",
      "As for Red: correct/predict = 47/66 = 0.712121\n",
      "As for Blue: correct/predict = 26/38 = 0.684211\n",
      "Short: predictedRedInTrueA/trueRedA = 32/39 = 0.820513\n",
      "\n",
      "Fold9\n",
      "As for Red: correct/predict = 44/68 = 0.647059\n",
      "As for Blue: correct/predict = 21/36 = 0.583333\n",
      "Short: predictedRedInTrueA/trueRedA = 28/41 = 0.682927\n",
      "\n",
      "Fold10\n",
      "As for Red: correct/predict = 49/75 = 0.653333\n",
      "As for Blue: correct/predict = 19/29 = 0.655172\n",
      "Short: predictedRedInTrueA/trueRedA = 34/38 = 0.894737\n",
      "\n",
      "Red/All = 593/1042 = 0.569098\n",
      "1 - Red/All = 449/1042 = 0.430902\n",
      "Red: Mean correct/predict = 0.681623\n",
      "Blue: Mean correct/predict = 0.650947\n",
      "Short: Mean predictedRedInTrueA/trueRedA = 0.811413\n",
      "CV value: 0.330174"
     ]
    }
   ],
   "source": [
    "result <- CV(df, verbose=TRUE)\n",
    "printRedRatios(df)\n",
    "printf(\"Red: Mean correct/predict = %f\\n\", result[3])\n",
    "printf(\"Blue: Mean correct/predict = %f\\n\", result[4])\n",
    "printf(\"Short: Mean predictedRedInTrueA/trueRedA = %f\\n\", result[2])\n",
    "printf(\"CV value: %f\", result[1])"
   ]
  },
  {
   "cell_type": "code",
   "execution_count": 19,
   "metadata": {
    "collapsed": true,
    "deletable": true,
    "editable": true
   },
   "outputs": [],
   "source": [
    "set.seed(1)"
   ]
  },
  {
   "cell_type": "code",
   "execution_count": 20,
   "metadata": {
    "collapsed": false,
    "deletable": true,
    "editable": true
   },
   "outputs": [],
   "source": [
    "ntree.lim <- seq(50, 600, 30)\n",
    "\n",
    "tune <- tune.randomForest(\n",
    "        flag ~ .,\n",
    "        data=df[, c(valuables, \"flag\")],\n",
    "        ntree=ntree.lim,\n",
    "        tunecontrol = tune.control(sampling = \"cross\", cross = 10)\n",
    ")"
   ]
  },
  {
   "cell_type": "code",
   "execution_count": 21,
   "metadata": {
    "collapsed": false,
    "deletable": true,
    "editable": true
   },
   "outputs": [
    {
     "data": {
      "text/plain": [
       "\n",
       "Parameter tuning of ‘randomForest’:\n",
       "\n",
       "- sampling method: 10-fold cross validation \n",
       "\n",
       "- best parameters:\n",
       " ntree\n",
       "   350\n",
       "\n",
       "- best performance: 0.3368407 \n",
       "\n",
       "- Detailed performance results:\n",
       "   ntree     error dispersion\n",
       "1     50 0.3503114 0.02859054\n",
       "2     80 0.3598535 0.03128121\n",
       "3    110 0.3502198 0.03206765\n",
       "4    140 0.3377381 0.04350117\n",
       "5    170 0.3598260 0.04217218\n",
       "6    200 0.3560073 0.03099303\n",
       "7    230 0.3397070 0.02940900\n",
       "8    260 0.3396886 0.03078244\n",
       "9    290 0.3416209 0.03138413\n",
       "10   320 0.3396978 0.02162423\n",
       "11   350 0.3368407 0.02828038\n",
       "12   380 0.3435348 0.04252303\n",
       "13   410 0.3492857 0.02984729\n",
       "14   440 0.3387546 0.03370955\n",
       "15   470 0.3464286 0.03437398\n",
       "16   500 0.3397070 0.04557505\n",
       "17   530 0.3464011 0.03120883\n",
       "18   560 0.3464286 0.02884950\n",
       "19   590 0.3464103 0.03229233\n"
      ]
     },
     "metadata": {},
     "output_type": "display_data"
    }
   ],
   "source": [
    "summary(tune)"
   ]
  },
  {
   "cell_type": "code",
   "execution_count": 25,
   "metadata": {
    "collapsed": false,
    "deletable": true,
    "editable": true
   },
   "outputs": [
    {
     "data": {
      "text/html": [
       "<strong>pdf:</strong> 2"
      ],
      "text/latex": [
       "\\textbf{pdf:} 2"
      ],
      "text/markdown": [
       "**pdf:** 2"
      ],
      "text/plain": [
       "pdf \n",
       "  2 "
      ]
     },
     "metadata": {},
     "output_type": "display_data"
    }
   ],
   "source": [
    "png(\"RandomForest-ntree.png\", height=960, width=960, res=144)\n",
    "plot(tune)\n",
    "dev.off()"
   ]
  },
  {
   "cell_type": "code",
   "execution_count": 26,
   "metadata": {
    "collapsed": false,
    "deletable": true,
    "editable": true
   },
   "outputs": [],
   "source": [
    "fit <- randomForest(flag ~ ., data=df[, c(valuables, \"flag\")], mtry=3, ntree=500)"
   ]
  },
  {
   "cell_type": "code",
   "execution_count": 42,
   "metadata": {
    "collapsed": false
   },
   "outputs": [
    {
     "data": {
      "text/html": [
       "<table>\n",
       "<thead><tr><th></th><th scope=col>importance</th><th scope=col>names</th></tr></thead>\n",
       "<tbody>\n",
       "\t<tr><th scope=row>20</th><td>34.671525        </td><td>DiffAvgSpeed     </td></tr>\n",
       "\t<tr><th scope=row>17</th><td>32.854625        </td><td>TimeHeadway      </td></tr>\n",
       "\t<tr><th scope=row>9</th><td>32.735325        </td><td>DistSignal       </td></tr>\n",
       "\t<tr><th scope=row>3</th><td>30.995970        </td><td>Speed            </td></tr>\n",
       "\t<tr><th scope=row>14</th><td>30.450949        </td><td>AccelerationSpeed</td></tr>\n",
       "\t<tr><th scope=row>10</th><td>30.408327        </td><td>Pitch            </td></tr>\n",
       "\t<tr><th scope=row>7</th><td>29.300301        </td><td>RiskFactor       </td></tr>\n",
       "\t<tr><th scope=row>6</th><td>29.277197        </td><td>MaxSpeed         </td></tr>\n",
       "\t<tr><th scope=row>15</th><td>28.865474        </td><td>Engine           </td></tr>\n",
       "\t<tr><th scope=row>16</th><td>28.012838        </td><td>SteeringAngle    </td></tr>\n",
       "\t<tr><th scope=row>12</th><td>27.780670        </td><td>AverageVelocity  </td></tr>\n",
       "\t<tr><th scope=row>18</th><td>25.623167        </td><td>Jerk             </td></tr>\n",
       "\t<tr><th scope=row>11</th><td>24.458007        </td><td>AheadDistance    </td></tr>\n",
       "\t<tr><th scope=row>21</th><td>20.306953        </td><td>EmptinessOfRoad  </td></tr>\n",
       "\t<tr><th scope=row>2</th><td>19.477705        </td><td>CurveAverage     </td></tr>\n",
       "\t<tr><th scope=row>13</th><td>17.946346        </td><td>TimeToCollision  </td></tr>\n",
       "\t<tr><th scope=row>4</th><td>13.685776        </td><td>Curve100         </td></tr>\n",
       "\t<tr><th scope=row>5</th><td>12.855156        </td><td>Curve150         </td></tr>\n",
       "\t<tr><th scope=row>8</th><td>12.739726        </td><td>Curve            </td></tr>\n",
       "\t<tr><th scope=row>22</th><td>10.615039        </td><td>RoadFactor       </td></tr>\n",
       "\t<tr><th scope=row>1</th><td> 9.522347        </td><td>RoadType         </td></tr>\n",
       "\t<tr><th scope=row>19</th><td> 7.265353        </td><td>LaneCount        </td></tr>\n",
       "</tbody>\n",
       "</table>\n"
      ],
      "text/latex": [
       "\\begin{tabular}{r|ll}\n",
       "  & importance & names\\\\\n",
       "\\hline\n",
       "\t20 & 34.671525         & DiffAvgSpeed     \\\\\n",
       "\t17 & 32.854625         & TimeHeadway      \\\\\n",
       "\t9 & 32.735325         & DistSignal       \\\\\n",
       "\t3 & 30.995970         & Speed            \\\\\n",
       "\t14 & 30.450949         & AccelerationSpeed\\\\\n",
       "\t10 & 30.408327         & Pitch            \\\\\n",
       "\t7 & 29.300301         & RiskFactor       \\\\\n",
       "\t6 & 29.277197         & MaxSpeed         \\\\\n",
       "\t15 & 28.865474         & Engine           \\\\\n",
       "\t16 & 28.012838         & SteeringAngle    \\\\\n",
       "\t12 & 27.780670         & AverageVelocity  \\\\\n",
       "\t18 & 25.623167         & Jerk             \\\\\n",
       "\t11 & 24.458007         & AheadDistance    \\\\\n",
       "\t21 & 20.306953         & EmptinessOfRoad  \\\\\n",
       "\t2 & 19.477705         & CurveAverage     \\\\\n",
       "\t13 & 17.946346         & TimeToCollision  \\\\\n",
       "\t4 & 13.685776         & Curve100         \\\\\n",
       "\t5 & 12.855156         & Curve150         \\\\\n",
       "\t8 & 12.739726         & Curve            \\\\\n",
       "\t22 & 10.615039         & RoadFactor       \\\\\n",
       "\t1 &  9.522347         & RoadType         \\\\\n",
       "\t19 &  7.265353         & LaneCount        \\\\\n",
       "\\end{tabular}\n"
      ],
      "text/markdown": [
       "\n",
       "| <!--/--> | importance | names | \n",
       "|---|---|---|---|---|---|---|---|---|---|---|---|---|---|---|---|---|---|---|---|---|---|\n",
       "| 20 | 34.671525         | DiffAvgSpeed      | \n",
       "| 17 | 32.854625         | TimeHeadway       | \n",
       "| 9 | 32.735325         | DistSignal        | \n",
       "| 3 | 30.995970         | Speed             | \n",
       "| 14 | 30.450949         | AccelerationSpeed | \n",
       "| 10 | 30.408327         | Pitch             | \n",
       "| 7 | 29.300301         | RiskFactor        | \n",
       "| 6 | 29.277197         | MaxSpeed          | \n",
       "| 15 | 28.865474         | Engine            | \n",
       "| 16 | 28.012838         | SteeringAngle     | \n",
       "| 12 | 27.780670         | AverageVelocity   | \n",
       "| 18 | 25.623167         | Jerk              | \n",
       "| 11 | 24.458007         | AheadDistance     | \n",
       "| 21 | 20.306953         | EmptinessOfRoad   | \n",
       "| 2 | 19.477705         | CurveAverage      | \n",
       "| 13 | 17.946346         | TimeToCollision   | \n",
       "| 4 | 13.685776         | Curve100          | \n",
       "| 5 | 12.855156         | Curve150          | \n",
       "| 8 | 12.739726         | Curve             | \n",
       "| 22 | 10.615039         | RoadFactor        | \n",
       "| 1 |  9.522347         | RoadType          | \n",
       "| 19 |  7.265353         | LaneCount         | \n",
       "\n",
       "\n"
      ],
      "text/plain": [
       "   importance names            \n",
       "20 34.671525  DiffAvgSpeed     \n",
       "17 32.854625  TimeHeadway      \n",
       "9  32.735325  DistSignal       \n",
       "3  30.995970  Speed            \n",
       "14 30.450949  AccelerationSpeed\n",
       "10 30.408327  Pitch            \n",
       "7  29.300301  RiskFactor       \n",
       "6  29.277197  MaxSpeed         \n",
       "15 28.865474  Engine           \n",
       "16 28.012838  SteeringAngle    \n",
       "12 27.780670  AverageVelocity  \n",
       "18 25.623167  Jerk             \n",
       "11 24.458007  AheadDistance    \n",
       "21 20.306953  EmptinessOfRoad  \n",
       "2  19.477705  CurveAverage     \n",
       "13 17.946346  TimeToCollision  \n",
       "4  13.685776  Curve100         \n",
       "5  12.855156  Curve150         \n",
       "8  12.739726  Curve            \n",
       "22 10.615039  RoadFactor       \n",
       "1   9.522347  RoadType         \n",
       "19  7.265353  LaneCount        "
      ]
     },
     "metadata": {},
     "output_type": "display_data"
    }
   ],
   "source": [
    "imps <- data.frame(importance=c(fit$importance), names=valuables)\n",
    "imps[order(imps$importance, decreasing=TRUE), ]"
   ]
  },
  {
   "cell_type": "code",
   "execution_count": null,
   "metadata": {
    "collapsed": true
   },
   "outputs": [],
   "source": []
  }
 ],
 "metadata": {
  "kernelspec": {
   "display_name": "R",
   "language": "R",
   "name": "ir"
  },
  "language_info": {
   "codemirror_mode": "r",
   "file_extension": ".r",
   "mimetype": "text/x-r-source",
   "name": "R",
   "pygments_lexer": "r",
   "version": "3.3.2"
  }
 },
 "nbformat": 4,
 "nbformat_minor": 1
}
