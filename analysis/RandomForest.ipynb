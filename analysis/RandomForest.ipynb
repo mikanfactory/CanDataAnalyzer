{
 "cells": [
  {
   "cell_type": "markdown",
   "metadata": {
    "deletable": true,
    "editable": true
   },
   "source": [
    "# Apply Random Forest"
   ]
  },
  {
   "cell_type": "code",
   "execution_count": 1,
   "metadata": {
    "collapsed": false,
    "deletable": true,
    "editable": true
   },
   "outputs": [
    {
     "name": "stderr",
     "output_type": "stream",
     "text": [
      "randomForest 4.6-12\n",
      "Type rfNews() to see new features/changes/bug fixes.\n",
      "\n",
      "Attaching package: ‘randomForest’\n",
      "\n",
      "The following object is masked from ‘package:ggplot2’:\n",
      "\n",
      "    margin\n",
      "\n"
     ]
    }
   ],
   "source": [
    "library(grid)\n",
    "library(rpart)\n",
    "library(rpart.plot)\n",
    "library(partykit)\n",
    "library(lattice)\n",
    "library(ggplot2)\n",
    "library(caret)\n",
    "library(e1071)\n",
    "library(randomForest)"
   ]
  },
  {
   "cell_type": "code",
   "execution_count": 2,
   "metadata": {
    "collapsed": true,
    "deletable": true,
    "editable": true
   },
   "outputs": [],
   "source": [
    "set.seed(1)"
   ]
  },
  {
   "cell_type": "code",
   "execution_count": 3,
   "metadata": {
    "collapsed": false,
    "deletable": true,
    "editable": true
   },
   "outputs": [],
   "source": [
    "invalids <- c('Time', 'Longitude', 'Latitude', 'Brake', 'Accel', 'flag', 'Curve100', 'Curve150', 'TimeHeadway')\n",
    "# invalids <- c('Time', 'Longitude', 'Latitude', 'Brake', 'Accel', 'flag', 'Curve100', 'Curve150')"
   ]
  },
  {
   "cell_type": "code",
   "execution_count": 32,
   "metadata": {
    "collapsed": true,
    "deletable": true,
    "editable": true
   },
   "outputs": [],
   "source": [
    "valuables <- c(\"RoadType\",\"CurveAverage\",\"Speed\", \"Curve100\", \"Curve150\",\"MaxSpeed\",\"RiskFactor\",\"Curve\",\"DistSignal\",\"Pitch\",\"AheadDistance\",\"AverageVelocity\",\"TimeToCollision\",\"AccelerationSpeed\", \"Engine\", \"SteeringAngle\", \"TimeHeadway\", \"Jerk\", \"LaneCount\", \"DiffAvgSpeed\", \"EmptinessOfRoad\", \"RoadFactor\")"
   ]
  },
  {
   "cell_type": "code",
   "execution_count": 33,
   "metadata": {
    "collapsed": true,
    "deletable": true,
    "editable": true
   },
   "outputs": [],
   "source": [
    "printf <- function(...) cat(sprintf(...))"
   ]
  },
  {
   "cell_type": "code",
   "execution_count": 6,
   "metadata": {
    "collapsed": false,
    "deletable": true,
    "editable": true
   },
   "outputs": [],
   "source": [
    "CV <- function(dfx, verbose=FALSE) {        \n",
    "    folds <- createFolds(dfx$flag)\n",
    "    \n",
    "    count <- 1\n",
    "    errs <- c()\n",
    "    reds <- c()\n",
    "    blues <- c()\n",
    "    for (ids in folds) {\n",
    "        train <- dfx[-ids, ]\n",
    "        test <- dfx[ids, ]\n",
    "        fit <- randomForest(flag ~ ., data=train, mtry=3, ntree=500)\n",
    "        p <- predict(fit, newdata=test)\n",
    "        \n",
    "        if (verbose) {            \n",
    "            printf(\"Fold%d\\n\", count)\n",
    "            result <- correctVsPredict(test, p)\n",
    "            reds <- c(reds, result[1])\n",
    "            blues <- c(blues, result[2])\n",
    "            count <- count + 1\n",
    "            printf(\"\\n\")\n",
    "        }\n",
    "        \n",
    "        nerr <- sum((p == test$flag) == FALSE)\n",
    "        errs <- c(errs, nerr / nrow(test))\n",
    "    }\n",
    "    \n",
    "    return(c(mean(errs), mean(reds), mean(blues)))\n",
    "}"
   ]
  },
  {
   "cell_type": "code",
   "execution_count": 7,
   "metadata": {
    "collapsed": false,
    "deletable": true,
    "editable": true
   },
   "outputs": [],
   "source": [
    "correctVsPredict <- function(test, predictedFlags) {    \n",
    "    # for All\n",
    "    # nTests <- nrow(test)\n",
    "    # nCorrectAll <- sum((predictedFlags == test$flag) == TRUE)\n",
    "    # printf(\"As fo All: correct/all = %d/%d = %f\\n\", nCorrectAll, nTests, nCorrectAll / nTests)\n",
    "    \n",
    "    # for Red\n",
    "    predictedRedRows <- test[predictedFlags == \"Red\", ]\n",
    "    nCorrectReds <- sum((predictedRedRows$flag == 'Red') == TRUE)\n",
    "    nPredictedReds <- nrow(predictedRedRows)\n",
    "    printf(\"As for Red: correct/predict = %d/%d = %f\\n\", nCorrectReds, nPredictedReds, nCorrectReds / nPredictedReds)\n",
    "    \n",
    "    # for Blue\n",
    "    predictedBlueRows <- test[predictedFlags == \"Blue\", ]\n",
    "    nCorrectBlues <- sum((predictedBlueRows$flag == 'Blue') == TRUE)\n",
    "    nPredictedBlues <- nrow(predictedBlueRows)\n",
    "    printf(\"As for Blue: correct/predict = %d/%d = %f\\n\", nCorrectBlues, nPredictedBlues, nCorrectBlues / nPredictedBlues)\n",
    "    \n",
    "    c(nCorrectReds/nPredictedReds, nCorrectBlues/nPredictedBlues)\n",
    "}"
   ]
  },
  {
   "cell_type": "code",
   "execution_count": 8,
   "metadata": {
    "collapsed": true,
    "deletable": true,
    "editable": true
   },
   "outputs": [],
   "source": [
    "printRedRatios <- function(dfx) {\n",
    "    nRed <- nrow(dfx[dfx$flag == \"Red\", ])\n",
    "    nAll <- nrow(dfx)\n",
    "    printf(\"Red/All = %d/%d = %f\\n\", nRed, nAll, nRed/nAll)\n",
    "    printf(\"1 - Red/All = %d/%d = %f\\n\", nAll - nRed, nAll, 1 - nRed/nAll)\n",
    "}"
   ]
  },
  {
   "cell_type": "code",
   "execution_count": 9,
   "metadata": {
    "collapsed": true,
    "deletable": true,
    "editable": true
   },
   "outputs": [],
   "source": [
    "createFormula <- function(invalids, allFeatures) {\n",
    "    isValidColumn <- function(x) ! x %in% invalids\n",
    "    \n",
    "    features <- Filter(isValidColumn, allFeatures)\n",
    "    return(paste(\"flag ~ \", paste(features, collapse=\" + \")))\n",
    "}"
   ]
  },
  {
   "cell_type": "markdown",
   "metadata": {
    "collapsed": true,
    "deletable": true,
    "editable": true
   },
   "source": [
    "# Predict Red"
   ]
  },
  {
   "cell_type": "code",
   "execution_count": 34,
   "metadata": {
    "collapsed": false,
    "deletable": true,
    "editable": true
   },
   "outputs": [],
   "source": [
    "df3 <- read.csv(\"../data/middle/sp5.csv\", stringsAsFactors=FALSE)"
   ]
  },
  {
   "cell_type": "code",
   "execution_count": 35,
   "metadata": {
    "collapsed": true,
    "deletable": true,
    "editable": true
   },
   "outputs": [],
   "source": [
    "df3$flag[df3$flag == \"RedA\"] <- \"Red\"\n",
    "df3$flag[df3$flag == \"RedB\"] <- \"Red\"\n",
    "df3$flag[df3$flag == \"BlueA\"] <- \"Blue\"\n",
    "df3$flag[df3$flag == \"BlueB\"] <- \"Blue\"\n",
    "df3$flag <- as.factor(df3$flag)"
   ]
  },
  {
   "cell_type": "code",
   "execution_count": 36,
   "metadata": {
    "collapsed": false,
    "deletable": true,
    "editable": true,
    "scrolled": true
   },
   "outputs": [],
   "source": [
    "fomula <- paste(\"flag ~ \", paste(valuables, collapse=\" + \"))"
   ]
  },
  {
   "cell_type": "code",
   "execution_count": 37,
   "metadata": {
    "collapsed": true,
    "deletable": true,
    "editable": true
   },
   "outputs": [],
   "source": [
    "set.seed(1)"
   ]
  },
  {
   "cell_type": "code",
   "execution_count": 38,
   "metadata": {
    "collapsed": false,
    "deletable": true,
    "editable": true
   },
   "outputs": [],
   "source": [
    "df <- df3[, c(valuables, \"flag\")]"
   ]
  },
  {
   "cell_type": "code",
   "execution_count": 39,
   "metadata": {
    "collapsed": false,
    "deletable": true,
    "editable": true,
    "scrolled": true
   },
   "outputs": [
    {
     "name": "stdout",
     "output_type": "stream",
     "text": [
      "Fold1\n",
      "As for Red: correct/predict = 41/57 = 0.719298\n",
      "As for Blue: correct/predict = 28/47 = 0.595745\n",
      "\n",
      "Fold2\n",
      "As for Red: correct/predict = 47/72 = 0.652778\n",
      "As for Blue: correct/predict = 20/33 = 0.606061\n",
      "\n",
      "Fold3\n",
      "As for Red: correct/predict = 49/79 = 0.620253\n",
      "As for Blue: correct/predict = 15/25 = 0.600000\n",
      "\n",
      "Fold4\n",
      "As for Red: correct/predict = 46/65 = 0.707692\n",
      "As for Blue: correct/predict = 26/39 = 0.666667\n",
      "\n",
      "Fold5\n",
      "As for Red: correct/predict = 51/77 = 0.662338\n",
      "As for Blue: correct/predict = 19/27 = 0.703704\n",
      "\n",
      "Fold6\n",
      "As for Red: correct/predict = 43/62 = 0.693548\n",
      "As for Blue: correct/predict = 26/42 = 0.619048\n",
      "\n",
      "Fold7\n",
      "As for Red: correct/predict = 46/67 = 0.686567\n",
      "As for Blue: correct/predict = 24/38 = 0.631579\n",
      "\n",
      "Fold8\n",
      "As for Red: correct/predict = 47/67 = 0.701493\n",
      "As for Blue: correct/predict = 25/37 = 0.675676\n",
      "\n",
      "Fold9\n",
      "As for Red: correct/predict = 43/67 = 0.641791\n",
      "As for Blue: correct/predict = 21/37 = 0.567568\n",
      "\n",
      "Fold10\n",
      "As for Red: correct/predict = 46/72 = 0.638889\n",
      "As for Blue: correct/predict = 19/32 = 0.593750\n",
      "\n",
      "Red/All = 593/1042 = 0.569098\n",
      "1 - Red/All = 449/1042 = 0.430902\n",
      "Red: Mean correct/predict = 0.672465\n",
      "Blue: Mean correct/predict = 0.625980\n",
      "CV value: 0.345485"
     ]
    }
   ],
   "source": [
    "result <- CV(df, verbose=TRUE)\n",
    "printRedRatios(df)\n",
    "printf(\"Red: Mean correct/predict = %f\\n\", result[2])\n",
    "printf(\"Blue: Mean correct/predict = %f\\n\", result[3])\n",
    "printf(\"CV value: %f\", result[1])"
   ]
  },
  {
   "cell_type": "code",
   "execution_count": 21,
   "metadata": {
    "collapsed": true,
    "deletable": true,
    "editable": true
   },
   "outputs": [],
   "source": [
    "set.seed(1)"
   ]
  },
  {
   "cell_type": "code",
   "execution_count": null,
   "metadata": {
    "collapsed": false,
    "deletable": true,
    "editable": true
   },
   "outputs": [],
   "source": [
    "# ntree.lim <- seq(50, 600, 30)\n",
    "\n",
    "tune <- tune.randomForest(\n",
    "        flag ~ .,\n",
    "        data=dfx,\n",
    "        ntree=ntree.lim,\n",
    "        tunecontrol = tune.control(sampling = \"cross\", cross = 10)\n",
    ")"
   ]
  },
  {
   "cell_type": "code",
   "execution_count": null,
   "metadata": {
    "collapsed": false,
    "deletable": true,
    "editable": true
   },
   "outputs": [],
   "source": [
    "summary(tune)"
   ]
  },
  {
   "cell_type": "code",
   "execution_count": null,
   "metadata": {
    "collapsed": false,
    "deletable": true,
    "editable": true
   },
   "outputs": [],
   "source": [
    "plot(tune)"
   ]
  },
  {
   "cell_type": "code",
   "execution_count": 22,
   "metadata": {
    "collapsed": true,
    "deletable": true,
    "editable": true
   },
   "outputs": [],
   "source": [
    "fit <- randomForest(flag ~ ., data=df, mtry=3, ntree=500)"
   ]
  },
  {
   "cell_type": "code",
   "execution_count": 23,
   "metadata": {
    "collapsed": false,
    "deletable": true,
    "editable": true,
    "scrolled": false
   },
   "outputs": [
    {
     "data": {
      "text/html": [
       "<table>\n",
       "<thead><tr><th></th><th scope=col>MeanDecreaseGini</th></tr></thead>\n",
       "<tbody>\n",
       "\t<tr><th scope=row>RoadType</th><td> 9.290083</td></tr>\n",
       "\t<tr><th scope=row>CurveAverage</th><td>20.239817</td></tr>\n",
       "\t<tr><th scope=row>Speed</th><td>31.759536</td></tr>\n",
       "\t<tr><th scope=row>Curve100</th><td>13.918153</td></tr>\n",
       "\t<tr><th scope=row>Curve150</th><td>13.396295</td></tr>\n",
       "\t<tr><th scope=row>MaxSpeed</th><td>29.735280</td></tr>\n",
       "\t<tr><th scope=row>RiskFactor</th><td>28.436219</td></tr>\n",
       "\t<tr><th scope=row>Curve</th><td>12.536519</td></tr>\n",
       "\t<tr><th scope=row>DistSignal</th><td>31.143696</td></tr>\n",
       "\t<tr><th scope=row>Pitch</th><td>30.293228</td></tr>\n",
       "\t<tr><th scope=row>AheadDistance</th><td>24.557217</td></tr>\n",
       "\t<tr><th scope=row>AverageVelocity</th><td>28.714308</td></tr>\n",
       "\t<tr><th scope=row>TimeToCollision</th><td>17.654443</td></tr>\n",
       "\t<tr><th scope=row>AccelerationSpeed</th><td>30.588316</td></tr>\n",
       "\t<tr><th scope=row>Engine</th><td>28.679538</td></tr>\n",
       "\t<tr><th scope=row>SteeringAngle</th><td>26.934218</td></tr>\n",
       "\t<tr><th scope=row>TimeHeadway</th><td>32.997685</td></tr>\n",
       "\t<tr><th scope=row>Jerk</th><td>25.806578</td></tr>\n",
       "\t<tr><th scope=row>LaneCount</th><td> 7.368673</td></tr>\n",
       "\t<tr><th scope=row>DiffAvgSpeed</th><td>35.080792</td></tr>\n",
       "\t<tr><th scope=row>EmptinessOfRoad</th><td>20.115719</td></tr>\n",
       "\t<tr><th scope=row>RoadFactor</th><td>10.753858</td></tr>\n",
       "</tbody>\n",
       "</table>\n"
      ],
      "text/latex": [
       "\\begin{tabular}{r|l}\n",
       "  & MeanDecreaseGini\\\\\n",
       "\\hline\n",
       "\tRoadType &  9.290083\\\\\n",
       "\tCurveAverage & 20.239817\\\\\n",
       "\tSpeed & 31.759536\\\\\n",
       "\tCurve100 & 13.918153\\\\\n",
       "\tCurve150 & 13.396295\\\\\n",
       "\tMaxSpeed & 29.735280\\\\\n",
       "\tRiskFactor & 28.436219\\\\\n",
       "\tCurve & 12.536519\\\\\n",
       "\tDistSignal & 31.143696\\\\\n",
       "\tPitch & 30.293228\\\\\n",
       "\tAheadDistance & 24.557217\\\\\n",
       "\tAverageVelocity & 28.714308\\\\\n",
       "\tTimeToCollision & 17.654443\\\\\n",
       "\tAccelerationSpeed & 30.588316\\\\\n",
       "\tEngine & 28.679538\\\\\n",
       "\tSteeringAngle & 26.934218\\\\\n",
       "\tTimeHeadway & 32.997685\\\\\n",
       "\tJerk & 25.806578\\\\\n",
       "\tLaneCount &  7.368673\\\\\n",
       "\tDiffAvgSpeed & 35.080792\\\\\n",
       "\tEmptinessOfRoad & 20.115719\\\\\n",
       "\tRoadFactor & 10.753858\\\\\n",
       "\\end{tabular}\n"
      ],
      "text/markdown": [
       "\n",
       "| <!--/--> | MeanDecreaseGini | \n",
       "|---|---|---|---|---|---|---|---|---|---|---|---|---|---|---|---|---|---|---|---|---|---|\n",
       "| RoadType |  9.290083 | \n",
       "| CurveAverage | 20.239817 | \n",
       "| Speed | 31.759536 | \n",
       "| Curve100 | 13.918153 | \n",
       "| Curve150 | 13.396295 | \n",
       "| MaxSpeed | 29.735280 | \n",
       "| RiskFactor | 28.436219 | \n",
       "| Curve | 12.536519 | \n",
       "| DistSignal | 31.143696 | \n",
       "| Pitch | 30.293228 | \n",
       "| AheadDistance | 24.557217 | \n",
       "| AverageVelocity | 28.714308 | \n",
       "| TimeToCollision | 17.654443 | \n",
       "| AccelerationSpeed | 30.588316 | \n",
       "| Engine | 28.679538 | \n",
       "| SteeringAngle | 26.934218 | \n",
       "| TimeHeadway | 32.997685 | \n",
       "| Jerk | 25.806578 | \n",
       "| LaneCount |  7.368673 | \n",
       "| DiffAvgSpeed | 35.080792 | \n",
       "| EmptinessOfRoad | 20.115719 | \n",
       "| RoadFactor | 10.753858 | \n",
       "\n",
       "\n"
      ],
      "text/plain": [
       "                  MeanDecreaseGini\n",
       "RoadType           9.290083       \n",
       "CurveAverage      20.239817       \n",
       "Speed             31.759536       \n",
       "Curve100          13.918153       \n",
       "Curve150          13.396295       \n",
       "MaxSpeed          29.735280       \n",
       "RiskFactor        28.436219       \n",
       "Curve             12.536519       \n",
       "DistSignal        31.143696       \n",
       "Pitch             30.293228       \n",
       "AheadDistance     24.557217       \n",
       "AverageVelocity   28.714308       \n",
       "TimeToCollision   17.654443       \n",
       "AccelerationSpeed 30.588316       \n",
       "Engine            28.679538       \n",
       "SteeringAngle     26.934218       \n",
       "TimeHeadway       32.997685       \n",
       "Jerk              25.806578       \n",
       "LaneCount          7.368673       \n",
       "DiffAvgSpeed      35.080792       \n",
       "EmptinessOfRoad   20.115719       \n",
       "RoadFactor        10.753858       "
      ]
     },
     "metadata": {},
     "output_type": "display_data"
    }
   ],
   "source": [
    "fit$importance"
   ]
  },
  {
   "cell_type": "code",
   "execution_count": null,
   "metadata": {
    "collapsed": true,
    "deletable": true,
    "editable": true
   },
   "outputs": [],
   "source": []
  }
 ],
 "metadata": {
  "kernelspec": {
   "display_name": "R",
   "language": "R",
   "name": "ir"
  },
  "language_info": {
   "codemirror_mode": "r",
   "file_extension": ".r",
   "mimetype": "text/x-r-source",
   "name": "R",
   "pygments_lexer": "r",
   "version": "3.3.2"
  }
 },
 "nbformat": 4,
 "nbformat_minor": 1
}
