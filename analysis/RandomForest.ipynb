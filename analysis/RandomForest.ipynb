{
 "cells": [
  {
   "cell_type": "markdown",
   "metadata": {
    "deletable": true,
    "editable": true
   },
   "source": [
    "# Apply Random Forest"
   ]
  },
  {
   "cell_type": "code",
   "execution_count": 1,
   "metadata": {
    "collapsed": false,
    "deletable": true,
    "editable": true
   },
   "outputs": [
    {
     "name": "stderr",
     "output_type": "stream",
     "text": [
      "\n",
      "Attaching package: ‘dplyr’\n",
      "\n",
      "The following objects are masked from ‘package:stats’:\n",
      "\n",
      "    filter, lag\n",
      "\n",
      "The following objects are masked from ‘package:base’:\n",
      "\n",
      "    intersect, setdiff, setequal, union\n",
      "\n",
      "randomForest 4.6-12\n",
      "Type rfNews() to see new features/changes/bug fixes.\n",
      "\n",
      "Attaching package: ‘randomForest’\n",
      "\n",
      "The following object is masked from ‘package:dplyr’:\n",
      "\n",
      "    combine\n",
      "\n",
      "The following object is masked from ‘package:ggplot2’:\n",
      "\n",
      "    margin\n",
      "\n"
     ]
    }
   ],
   "source": [
    "library(grid)\n",
    "library(rpart)\n",
    "library(rpart.plot)\n",
    "library(partykit)\n",
    "library(lattice)\n",
    "library(ggplot2)\n",
    "library(caret)\n",
    "library(e1071)\n",
    "library(dplyr)\n",
    "library(randomForest)"
   ]
  },
  {
   "cell_type": "code",
   "execution_count": 2,
   "metadata": {
    "collapsed": true,
    "deletable": true,
    "editable": true
   },
   "outputs": [],
   "source": [
    "set.seed(1)"
   ]
  },
  {
   "cell_type": "code",
   "execution_count": 3,
   "metadata": {
    "collapsed": false,
    "deletable": true,
    "editable": true
   },
   "outputs": [],
   "source": [
    "invalids <- c('Time', 'Longitude', 'Latitude', 'Brake', 'Accel', 'flag', 'Curve100', 'Curve150', 'TimeHeadway')\n",
    "# invalids <- c('Time', 'Longitude', 'Latitude', 'Brake', 'Accel', 'flag', 'Curve100', 'Curve150')"
   ]
  },
  {
   "cell_type": "code",
   "execution_count": 4,
   "metadata": {
    "collapsed": true,
    "deletable": true,
    "editable": true
   },
   "outputs": [],
   "source": [
    "valuables <- c(\"RoadType\",\"CurveAverage\",\"Speed\", \"Curve100\", \"Curve150\",\"MaxSpeed\",\"RiskFactor\",\"Curve\",\"DistSignal\",\"Pitch\",\"AheadDistance\",\"AverageVelocity\",\"TimeToCollision\",\"AccelerationSpeed\", \"Engine\", \"SteeringAngle\", \"TimeHeadway\", \"Jerk\", \"LaneCount\", \"DiffAvgSpeed\", \"EmptinessOfRoad\", \"RoadFactor\")"
   ]
  },
  {
   "cell_type": "code",
   "execution_count": 5,
   "metadata": {
    "collapsed": true,
    "deletable": true,
    "editable": true
   },
   "outputs": [],
   "source": [
    "printf <- function(...) cat(sprintf(...))"
   ]
  },
  {
   "cell_type": "code",
   "execution_count": 6,
   "metadata": {
    "collapsed": false,
    "deletable": true,
    "editable": true
   },
   "outputs": [],
   "source": [
    "CV <- function(dfx, verbose=FALSE) {        \n",
    "    folds <- createFolds(dfx$flag)\n",
    "    \n",
    "    count <- 1\n",
    "    errs <- c()\n",
    "    reds <- c()\n",
    "    blues <- c()\n",
    "    shorts <- c()\n",
    "    for (ids in folds) {\n",
    "        train <- dfx[-ids, c(valuables, \"flag\")]\n",
    "        test <- dfx[ids, ]\n",
    "        fit <- randomForest(flag ~ ., data=train, mtry=3, ntree=500)\n",
    "        p <- predict(fit, newdata=test)\n",
    "        \n",
    "        if (verbose) {            \n",
    "            printf(\"Fold%d\\n\", count)\n",
    "            result <- correctVsPredict(test, p)\n",
    "            reds <- c(reds, result[1])\n",
    "            blues <- c(blues, result[2])\n",
    "            shorts <- c(shorts, shortErr(test, p))\n",
    "            count <- count + 1\n",
    "            printf(\"\\n\")\n",
    "        }\n",
    "        \n",
    "        nerr <- sum(p != test$flag)\n",
    "        errs <- c(errs, nerr / nrow(test))\n",
    "    }\n",
    "    \n",
    "    return(c(mean(errs), mean(shorts), mean(reds), mean(blues)))\n",
    "}"
   ]
  },
  {
   "cell_type": "code",
   "execution_count": 21,
   "metadata": {
    "collapsed": true
   },
   "outputs": [],
   "source": [
    "shortErr <- function(test, predictedFlags) {\n",
    "    predictedRedRows <- test[predictedFlags == \"Red\", ]\n",
    "    nRedAccel <- nrow(filter(predictedRedRows, flag == \"Red\" & AccelOrBrake == \"Accel\"))\n",
    "    nBlueAccel <- nrow(filter(predictedRedRows, flag == \"Blue\" & AccelOrBrake == \"Accel\"))\n",
    "    nPredictedRedsAB <- nRedAccel + nBlueAccel\n",
    "    printf(\"Short: accel/predictRedAB = %d/%d = %f\\n\", nRedAccel, nPredictedRedsAB, nRedAccel / nPredictedRedsAB)\n",
    "    print(predictedRedRows %>% group_by(flag, AccelOrBrake) %>% summarize(count=n()))\n",
    "    nRedAccel / nPredictedRedsAB\n",
    "}"
   ]
  },
  {
   "cell_type": "code",
   "execution_count": 8,
   "metadata": {
    "collapsed": false,
    "deletable": true,
    "editable": true
   },
   "outputs": [],
   "source": [
    "correctVsPredict <- function(test, predictedFlags) {    \n",
    "    # for All\n",
    "    # nTests <- nrow(test)\n",
    "    # nCorrectAll <- sum((predictedFlags == test$flag) == TRUE)\n",
    "    # printf(\"As fo All: correct/all = %d/%d = %f\\n\", nCorrectAll, nTests, nCorrectAll / nTests)\n",
    "    \n",
    "    # for Red\n",
    "    predictedRedRows <- test[predictedFlags == \"Red\", ]\n",
    "    nCorrectReds <- sum(predictedRedRows$flag == 'Red')\n",
    "    nPredictedReds <- nrow(predictedRedRows)\n",
    "    printf(\"As for Red: correct/predict = %d/%d = %f\\n\", nCorrectReds, nPredictedReds, nCorrectReds / nPredictedReds)\n",
    "    \n",
    "    # for Blue\n",
    "    predictedBlueRows <- test[predictedFlags == \"Blue\", ]\n",
    "    nCorrectBlues <- sum(predictedBlueRows$flag == 'Blue')\n",
    "    nPredictedBlues <- nrow(predictedBlueRows)\n",
    "    printf(\"As for Blue: correct/predict = %d/%d = %f\\n\", nCorrectBlues, nPredictedBlues, nCorrectBlues / nPredictedBlues)\n",
    "    \n",
    "    c(nCorrectReds/nPredictedReds, nCorrectBlues/nPredictedBlues)\n",
    "}"
   ]
  },
  {
   "cell_type": "code",
   "execution_count": 9,
   "metadata": {
    "collapsed": true,
    "deletable": true,
    "editable": true
   },
   "outputs": [],
   "source": [
    "printRedRatios <- function(dfx) {\n",
    "    nRed <- nrow(dfx[dfx$flag == \"Red\", ])\n",
    "    nAll <- nrow(dfx)\n",
    "    printf(\"Red/All = %d/%d = %f\\n\", nRed, nAll, nRed/nAll)\n",
    "    printf(\"1 - Red/All = %d/%d = %f\\n\", nAll - nRed, nAll, 1 - nRed/nAll)\n",
    "}"
   ]
  },
  {
   "cell_type": "code",
   "execution_count": 10,
   "metadata": {
    "collapsed": true,
    "deletable": true,
    "editable": true
   },
   "outputs": [],
   "source": [
    "createFormula <- function(invalids, allFeatures) {\n",
    "    isValidColumn <- function(x) ! x %in% invalids\n",
    "    \n",
    "    features <- Filter(isValidColumn, allFeatures)\n",
    "    return(paste(\"flag ~ \", paste(features, collapse=\" + \")))\n",
    "}"
   ]
  },
  {
   "cell_type": "markdown",
   "metadata": {
    "collapsed": true,
    "deletable": true,
    "editable": true
   },
   "source": [
    "# Predict Red"
   ]
  },
  {
   "cell_type": "code",
   "execution_count": 11,
   "metadata": {
    "collapsed": false,
    "deletable": true,
    "editable": true
   },
   "outputs": [],
   "source": [
    "df3 <- read.csv(\"../data/middle/sp5.csv\", stringsAsFactors=FALSE)"
   ]
  },
  {
   "cell_type": "code",
   "execution_count": 12,
   "metadata": {
    "collapsed": false,
    "deletable": true,
    "editable": true
   },
   "outputs": [
    {
     "data": {
      "text/html": [
       "<table>\n",
       "<thead><tr><th scope=col>flag</th><th scope=col>count</th></tr></thead>\n",
       "<tbody>\n",
       "\t<tr><td>BlueA</td><td> 77  </td></tr>\n",
       "\t<tr><td>BlueB</td><td>372  </td></tr>\n",
       "\t<tr><td>RedA </td><td>401  </td></tr>\n",
       "\t<tr><td>RedB </td><td>192  </td></tr>\n",
       "</tbody>\n",
       "</table>\n"
      ],
      "text/latex": [
       "\\begin{tabular}{r|ll}\n",
       " flag & count\\\\\n",
       "\\hline\n",
       "\t BlueA &  77  \\\\\n",
       "\t BlueB & 372  \\\\\n",
       "\t RedA  & 401  \\\\\n",
       "\t RedB  & 192  \\\\\n",
       "\\end{tabular}\n"
      ],
      "text/markdown": [
       "\n",
       "flag | count | \n",
       "|---|---|---|---|\n",
       "| BlueA |  77   | \n",
       "| BlueB | 372   | \n",
       "| RedA  | 401   | \n",
       "| RedB  | 192   | \n",
       "\n",
       "\n"
      ],
      "text/plain": [
       "  flag  count\n",
       "1 BlueA  77  \n",
       "2 BlueB 372  \n",
       "3 RedA  401  \n",
       "4 RedB  192  "
      ]
     },
     "metadata": {},
     "output_type": "display_data"
    }
   ],
   "source": [
    "df3 %>% group_by(flag) %>% summarize(count=n())"
   ]
  },
  {
   "cell_type": "code",
   "execution_count": 13,
   "metadata": {
    "collapsed": false
   },
   "outputs": [],
   "source": [
    "df3$AccelOrBrake[df3$flag == \"RedA\"] <- \"Accel\"\n",
    "df3$AccelOrBrake[df3$flag == \"RedB\"] <- \"Brake\"\n",
    "df3$AccelOrBrake[df3$flag == \"BlueA\"] <- \"Accel\"\n",
    "df3$AccelOrBrake[df3$flag == \"BlueB\"] <- \"Brake\""
   ]
  },
  {
   "cell_type": "code",
   "execution_count": 14,
   "metadata": {
    "collapsed": true,
    "deletable": true,
    "editable": true
   },
   "outputs": [],
   "source": [
    "df3$flag[df3$flag == \"RedA\"] <- \"Red\"\n",
    "df3$flag[df3$flag == \"RedB\"] <- \"Red\"\n",
    "df3$flag[df3$flag == \"BlueA\"] <- \"Blue\"\n",
    "df3$flag[df3$flag == \"BlueB\"] <- \"Blue\"\n",
    "df3$flag <- as.factor(df3$flag)"
   ]
  },
  {
   "cell_type": "code",
   "execution_count": 15,
   "metadata": {
    "collapsed": false,
    "deletable": true,
    "editable": true,
    "scrolled": true
   },
   "outputs": [],
   "source": [
    "fomula <- paste(\"flag ~ \", paste(valuables, collapse=\" + \"))"
   ]
  },
  {
   "cell_type": "code",
   "execution_count": 16,
   "metadata": {
    "collapsed": true,
    "deletable": true,
    "editable": true
   },
   "outputs": [],
   "source": [
    "set.seed(1)"
   ]
  },
  {
   "cell_type": "code",
   "execution_count": 17,
   "metadata": {
    "collapsed": false,
    "deletable": true,
    "editable": true
   },
   "outputs": [],
   "source": [
    "df <- df3[, c(valuables, \"AccelOrBrake\", \"flag\")]"
   ]
  },
  {
   "cell_type": "code",
   "execution_count": 18,
   "metadata": {
    "collapsed": false,
    "deletable": true,
    "editable": true,
    "scrolled": false
   },
   "outputs": [
    {
     "name": "stdout",
     "output_type": "stream",
     "text": [
      "Fold1\n",
      "As for Red: correct/predict = 42/58 = 0.724138\n",
      "As for Blue: correct/predict = 28/46 = 0.608696\n",
      "Accel: accel/predictRedAB = 29/33 = 0.878788\n",
      "Source: local data frame [4 x 3]\n",
      "Groups: flag [?]\n",
      "\n",
      "    flag AccelOrBrake count\n",
      "  <fctr>        <chr> <int>\n",
      "1   Blue        Accel     4\n",
      "2   Blue        Brake    12\n",
      "3    Red        Accel    29\n",
      "4    Red        Brake    13\n",
      "\n",
      "Fold2\n",
      "As for Red: correct/predict = 48/70 = 0.685714\n",
      "As for Blue: correct/predict = 23/35 = 0.657143\n",
      "Accel: accel/predictRedAB = 37/42 = 0.880952\n",
      "Source: local data frame [4 x 3]\n",
      "Groups: flag [?]\n",
      "\n",
      "    flag AccelOrBrake count\n",
      "  <fctr>        <chr> <int>\n",
      "1   Blue        Accel     5\n",
      "2   Blue        Brake    17\n",
      "3    Red        Accel    37\n",
      "4    Red        Brake    11\n",
      "\n",
      "Fold3\n",
      "As for Red: correct/predict = 48/77 = 0.623377\n",
      "As for Blue: correct/predict = 16/27 = 0.592593\n",
      "Accel: accel/predictRedAB = 29/34 = 0.852941\n",
      "Source: local data frame [4 x 3]\n",
      "Groups: flag [?]\n",
      "\n",
      "    flag AccelOrBrake count\n",
      "  <fctr>        <chr> <int>\n",
      "1   Blue        Accel     5\n",
      "2   Blue        Brake    24\n",
      "3    Red        Accel    29\n",
      "4    Red        Brake    19\n",
      "\n",
      "Fold4\n",
      "As for Red: correct/predict = 49/69 = 0.710145\n",
      "As for Blue: correct/predict = 25/35 = 0.714286\n",
      "Accel: accel/predictRedAB = 34/37 = 0.918919\n",
      "Source: local data frame [4 x 3]\n",
      "Groups: flag [?]\n",
      "\n",
      "    flag AccelOrBrake count\n",
      "  <fctr>        <chr> <int>\n",
      "1   Blue        Accel     3\n",
      "2   Blue        Brake    17\n",
      "3    Red        Accel    34\n",
      "4    Red        Brake    15\n",
      "\n",
      "Fold5\n",
      "As for Red: correct/predict = 50/76 = 0.657895\n",
      "As for Blue: correct/predict = 19/28 = 0.678571\n",
      "Accel: accel/predictRedAB = 30/40 = 0.750000\n",
      "Source: local data frame [4 x 3]\n",
      "Groups: flag [?]\n",
      "\n",
      "    flag AccelOrBrake count\n",
      "  <fctr>        <chr> <int>\n",
      "1   Blue        Accel    10\n",
      "2   Blue        Brake    16\n",
      "3    Red        Accel    30\n",
      "4    Red        Brake    20\n",
      "\n",
      "Fold6\n",
      "As for Red: correct/predict = 45/65 = 0.692308\n",
      "As for Blue: correct/predict = 25/39 = 0.641026\n",
      "Accel: accel/predictRedAB = 36/43 = 0.837209\n",
      "Source: local data frame [4 x 3]\n",
      "Groups: flag [?]\n",
      "\n",
      "    flag AccelOrBrake count\n",
      "  <fctr>        <chr> <int>\n",
      "1   Blue        Accel     7\n",
      "2   Blue        Brake    13\n",
      "3    Red        Accel    36\n",
      "4    Red        Brake     9\n",
      "\n",
      "Fold7\n",
      "As for Red: correct/predict = 49/69 = 0.710145\n",
      "As for Blue: correct/predict = 25/36 = 0.694444\n",
      "Accel: accel/predictRedAB = 36/39 = 0.923077\n",
      "Source: local data frame [4 x 3]\n",
      "Groups: flag [?]\n",
      "\n",
      "    flag AccelOrBrake count\n",
      "  <fctr>        <chr> <int>\n",
      "1   Blue        Accel     3\n",
      "2   Blue        Brake    17\n",
      "3    Red        Accel    36\n",
      "4    Red        Brake    13\n",
      "\n",
      "Fold8\n",
      "As for Red: correct/predict = 47/66 = 0.712121\n",
      "As for Blue: correct/predict = 26/38 = 0.684211\n",
      "Accel: accel/predictRedAB = 32/35 = 0.914286\n",
      "Source: local data frame [4 x 3]\n",
      "Groups: flag [?]\n",
      "\n",
      "    flag AccelOrBrake count\n",
      "  <fctr>        <chr> <int>\n",
      "1   Blue        Accel     3\n",
      "2   Blue        Brake    16\n",
      "3    Red        Accel    32\n",
      "4    Red        Brake    15\n",
      "\n",
      "Fold9\n",
      "As for Red: correct/predict = 44/68 = 0.647059\n",
      "As for Blue: correct/predict = 21/36 = 0.583333\n",
      "Accel: accel/predictRedAB = 28/33 = 0.848485\n",
      "Source: local data frame [4 x 3]\n",
      "Groups: flag [?]\n",
      "\n",
      "    flag AccelOrBrake count\n",
      "  <fctr>        <chr> <int>\n",
      "1   Blue        Accel     5\n",
      "2   Blue        Brake    19\n",
      "3    Red        Accel    28\n",
      "4    Red        Brake    16\n",
      "\n",
      "Fold10\n",
      "As for Red: correct/predict = 49/75 = 0.653333\n",
      "As for Blue: correct/predict = 19/29 = 0.655172\n",
      "Accel: accel/predictRedAB = 34/40 = 0.850000\n",
      "Source: local data frame [4 x 3]\n",
      "Groups: flag [?]\n",
      "\n",
      "    flag AccelOrBrake count\n",
      "  <fctr>        <chr> <int>\n",
      "1   Blue        Accel     6\n",
      "2   Blue        Brake    20\n",
      "3    Red        Accel    34\n",
      "4    Red        Brake    15\n",
      "\n",
      "Red/All = 593/1042 = 0.569098\n",
      "1 - Red/All = 449/1042 = 0.430902\n",
      "Red: Mean correct/predict = 0.681623\n",
      "Blue: Mean correct/predict = 0.650947\n",
      "Short: Mean accel/predictRed = 0.865466\n",
      "CV value: 0.330174"
     ]
    }
   ],
   "source": [
    "result <- CV(df, verbose=TRUE)\n",
    "printRedRatios(df)\n",
    "printf(\"Red: Mean correct/predict = %f\\n\", result[3])\n",
    "printf(\"Blue: Mean correct/predict = %f\\n\", result[4])\n",
    "printf(\"Short: Mean accel/predictRed = %f\\n\", result[2])\n",
    "printf(\"CV value: %f\", result[1])"
   ]
  },
  {
   "cell_type": "code",
   "execution_count": 19,
   "metadata": {
    "collapsed": true,
    "deletable": true,
    "editable": true
   },
   "outputs": [],
   "source": [
    "set.seed(1)"
   ]
  },
  {
   "cell_type": "code",
   "execution_count": 20,
   "metadata": {
    "collapsed": false,
    "deletable": true,
    "editable": true
   },
   "outputs": [
    {
     "ename": "ERROR",
     "evalue": "Error in tune.randomForest(flag ~ ., data = dfx, ntree = ntree.lim, tunecontrol = tune.control(sampling = \"cross\", :  オブジェクト 'ntree.lim' がありません \n",
     "output_type": "error",
     "traceback": [
      "Error in tune.randomForest(flag ~ ., data = dfx, ntree = ntree.lim, tunecontrol = tune.control(sampling = \"cross\", :  オブジェクト 'ntree.lim' がありません \nTraceback:\n",
      "1. tune.randomForest(flag ~ ., data = dfx, ntree = ntree.lim, tunecontrol = tune.control(sampling = \"cross\", \n .     cross = 10))"
     ]
    }
   ],
   "source": [
    "# ntree.lim <- seq(50, 600, 30)\n",
    "\n",
    "tune <- tune.randomForest(\n",
    "        flag ~ .,\n",
    "        data=dfx,\n",
    "        ntree=ntree.lim,\n",
    "        tunecontrol = tune.control(sampling = \"cross\", cross = 10)\n",
    ")"
   ]
  },
  {
   "cell_type": "code",
   "execution_count": null,
   "metadata": {
    "collapsed": false,
    "deletable": true,
    "editable": true
   },
   "outputs": [],
   "source": [
    "summary(tune)"
   ]
  },
  {
   "cell_type": "code",
   "execution_count": null,
   "metadata": {
    "collapsed": false,
    "deletable": true,
    "editable": true
   },
   "outputs": [],
   "source": [
    "plot(tune)"
   ]
  },
  {
   "cell_type": "code",
   "execution_count": null,
   "metadata": {
    "collapsed": true,
    "deletable": true,
    "editable": true
   },
   "outputs": [],
   "source": [
    "fit <- randomForest(flag ~ ., data=df, mtry=3, ntree=500)"
   ]
  },
  {
   "cell_type": "code",
   "execution_count": null,
   "metadata": {
    "collapsed": false,
    "deletable": true,
    "editable": true,
    "scrolled": false
   },
   "outputs": [],
   "source": [
    "fit$importance"
   ]
  }
 ],
 "metadata": {
  "kernelspec": {
   "display_name": "R",
   "language": "R",
   "name": "ir"
  },
  "language_info": {
   "codemirror_mode": "r",
   "file_extension": ".r",
   "mimetype": "text/x-r-source",
   "name": "R",
   "pygments_lexer": "r",
   "version": "3.3.2"
  }
 },
 "nbformat": 4,
 "nbformat_minor": 1
}
